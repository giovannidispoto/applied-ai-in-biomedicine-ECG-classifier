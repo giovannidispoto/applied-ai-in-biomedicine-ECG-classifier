{
  "nbformat": 4,
  "nbformat_minor": 0,
  "metadata": {
    "colab": {
      "name": "Data_Exploration.ipynb",
      "provenance": [],
      "collapsed_sections": []
    },
    "kernelspec": {
      "name": "python3",
      "display_name": "Python 3"
    },
    "language_info": {
      "name": "python"
    }
  },
  "cells": [
    {
      "cell_type": "markdown",
      "source": [
        "# Exploring data distribution"
      ],
      "metadata": {
        "id": "NZ7E0SNQa2JN"
      }
    },
    {
      "cell_type": "markdown",
      "source": [
        "In this simple notebook we perform a basic exploration in order to clean data and observe the class distribution over the patients to make a reasonable splits of the dataset"
      ],
      "metadata": {
        "id": "lM0rVV1xa77e"
      }
    },
    {
      "cell_type": "code",
      "execution_count": 1,
      "metadata": {
        "colab": {
          "base_uri": "https://localhost:8080/"
        },
        "id": "dGBk6WXwmkff",
        "outputId": "76a69dd4-faa2-4c1d-b637-42091691ab05"
      },
      "outputs": [
        {
          "output_type": "stream",
          "name": "stdout",
          "text": [
            "Mounted at /content/drive\n"
          ]
        }
      ],
      "source": [
        "from google.colab import drive\n",
        "drive.mount('/content/drive')"
      ]
    },
    {
      "cell_type": "code",
      "execution_count": 2,
      "metadata": {
        "colab": {
          "base_uri": "https://localhost:8080/"
        },
        "id": "ak07zlCnd5bS",
        "outputId": "adf8335e-5036-433e-9040-1e2a3c241126"
      },
      "outputs": [
        {
          "output_type": "stream",
          "name": "stdout",
          "text": [
            "Archive:  /content/drive/MyDrive/AppliedAIinBiomedicine/final-assignment/training_set.zip\n",
            "  inflating: /content/training_set/S001_128.mat  \n",
            "  inflating: /content/training_set/S001_128_ann.mat  \n",
            "  inflating: /content/training_set/S001_128_rpk.mat  \n",
            "  inflating: /content/training_set/S002_128.mat  \n",
            "  inflating: /content/training_set/S002_128_ann.mat  \n",
            " extracting: /content/training_set/S002_128_rpk.mat  \n",
            "  inflating: /content/training_set/S003_128.mat  \n",
            "  inflating: /content/training_set/S003_128_ann.mat  \n",
            "  inflating: /content/training_set/S003_128_rpk.mat  \n",
            "  inflating: /content/training_set/S004_128.mat  \n",
            "  inflating: /content/training_set/S004_128_ann.mat  \n",
            " extracting: /content/training_set/S004_128_rpk.mat  \n",
            "  inflating: /content/training_set/S005_128.mat  \n",
            "  inflating: /content/training_set/S005_128_ann.mat  \n",
            "  inflating: /content/training_set/S005_128_rpk.mat  \n",
            "  inflating: /content/training_set/S006_128.mat  \n",
            "  inflating: /content/training_set/S006_128_ann.mat  \n",
            "  inflating: /content/training_set/S006_128_rpk.mat  \n",
            "  inflating: /content/training_set/S007_128.mat  \n",
            "  inflating: /content/training_set/S007_128_ann.mat  \n",
            " extracting: /content/training_set/S007_128_rpk.mat  \n",
            "  inflating: /content/training_set/S008_128.mat  \n",
            "  inflating: /content/training_set/S008_128_ann.mat  \n",
            " extracting: /content/training_set/S008_128_rpk.mat  \n",
            "  inflating: /content/training_set/S009_128.mat  \n",
            "  inflating: /content/training_set/S009_128_ann.mat  \n",
            " extracting: /content/training_set/S009_128_rpk.mat  \n",
            "  inflating: /content/training_set/S010_128.mat  \n",
            "  inflating: /content/training_set/S010_128_ann.mat  \n",
            " extracting: /content/training_set/S010_128_rpk.mat  \n",
            "  inflating: /content/training_set/S011_128.mat  \n",
            "  inflating: /content/training_set/S011_128_ann.mat  \n",
            " extracting: /content/training_set/S011_128_rpk.mat  \n",
            "  inflating: /content/training_set/S012_128.mat  \n",
            "  inflating: /content/training_set/S012_128_ann.mat  \n",
            " extracting: /content/training_set/S012_128_rpk.mat  \n",
            "  inflating: /content/training_set/S013_128.mat  \n",
            "  inflating: /content/training_set/S013_128_ann.mat  \n",
            "  inflating: /content/training_set/S013_128_rpk.mat  \n",
            "  inflating: /content/training_set/S014_128.mat  \n",
            "  inflating: /content/training_set/S014_128_ann.mat  \n",
            "  inflating: /content/training_set/S014_128_rpk.mat  \n",
            "  inflating: /content/training_set/S015_128.mat  \n",
            "  inflating: /content/training_set/S015_128_ann.mat  \n",
            "  inflating: /content/training_set/S015_128_rpk.mat  \n",
            "  inflating: /content/training_set/S016_128.mat  \n",
            "  inflating: /content/training_set/S016_128_ann.mat  \n",
            "  inflating: /content/training_set/S016_128_rpk.mat  \n",
            "  inflating: /content/training_set/S017_128.mat  \n",
            "  inflating: /content/training_set/S017_128_ann.mat  \n",
            "  inflating: /content/training_set/S017_128_rpk.mat  \n",
            "  inflating: /content/training_set/S018_128.mat  \n",
            "  inflating: /content/training_set/S018_128_ann.mat  \n",
            "  inflating: /content/training_set/S018_128_rpk.mat  \n",
            "  inflating: /content/training_set/S019_128.mat  \n",
            "  inflating: /content/training_set/S019_128_ann.mat  \n",
            "  inflating: /content/training_set/S019_128_rpk.mat  \n",
            "  inflating: /content/training_set/S020_128.mat  \n",
            "  inflating: /content/training_set/S020_128_ann.mat  \n",
            " extracting: /content/training_set/S020_128_rpk.mat  \n",
            "  inflating: /content/training_set/S021_128.mat  \n",
            "  inflating: /content/training_set/S021_128_ann.mat  \n",
            "  inflating: /content/training_set/S021_128_rpk.mat  \n",
            "  inflating: /content/training_set/S022_128.mat  \n",
            "  inflating: /content/training_set/S022_128_ann.mat  \n",
            "  inflating: /content/training_set/S022_128_rpk.mat  \n",
            "  inflating: /content/training_set/S023_128.mat  \n",
            "  inflating: /content/training_set/S023_128_ann.mat  \n",
            "  inflating: /content/training_set/S023_128_rpk.mat  \n",
            "  inflating: /content/training_set/S024_128.mat  \n",
            "  inflating: /content/training_set/S024_128_ann.mat  \n",
            "  inflating: /content/training_set/S024_128_rpk.mat  \n",
            "  inflating: /content/training_set/S025_128.mat  \n",
            "  inflating: /content/training_set/S025_128_ann.mat  \n",
            "  inflating: /content/training_set/S025_128_rpk.mat  \n",
            "  inflating: /content/training_set/S026_128.mat  \n",
            "  inflating: /content/training_set/S026_128_ann.mat  \n",
            "  inflating: /content/training_set/S026_128_rpk.mat  \n",
            "  inflating: /content/training_set/S027_128.mat  \n",
            "  inflating: /content/training_set/S027_128_ann.mat  \n",
            "  inflating: /content/training_set/S027_128_rpk.mat  \n",
            "  inflating: /content/training_set/S028_128.mat  \n",
            "  inflating: /content/training_set/S028_128_ann.mat  \n",
            "  inflating: /content/training_set/S028_128_rpk.mat  \n",
            "  inflating: /content/training_set/S029_128.mat  \n",
            "  inflating: /content/training_set/S029_128_ann.mat  \n",
            " extracting: /content/training_set/S029_128_rpk.mat  \n",
            "  inflating: /content/training_set/S030_128.mat  \n",
            "  inflating: /content/training_set/S030_128_ann.mat  \n",
            "  inflating: /content/training_set/S030_128_rpk.mat  \n",
            "  inflating: /content/training_set/S031_128.mat  \n",
            "  inflating: /content/training_set/S031_128_ann.mat  \n",
            " extracting: /content/training_set/S031_128_rpk.mat  \n",
            "  inflating: /content/training_set/S032_128.mat  \n",
            "  inflating: /content/training_set/S032_128_ann.mat  \n",
            " extracting: /content/training_set/S032_128_rpk.mat  \n",
            "  inflating: /content/training_set/S033_128.mat  \n",
            "  inflating: /content/training_set/S033_128_ann.mat  \n",
            " extracting: /content/training_set/S033_128_rpk.mat  \n",
            "  inflating: /content/training_set/S034_128.mat  \n",
            "  inflating: /content/training_set/S034_128_ann.mat  \n",
            "  inflating: /content/training_set/S034_128_rpk.mat  \n",
            "  inflating: /content/training_set/S035_128.mat  \n",
            "  inflating: /content/training_set/S035_128_ann.mat  \n",
            "  inflating: /content/training_set/S035_128_rpk.mat  \n",
            "  inflating: /content/training_set/S036_128.mat  \n",
            "  inflating: /content/training_set/S036_128_ann.mat  \n",
            "  inflating: /content/training_set/S036_128_rpk.mat  \n",
            "  inflating: /content/training_set/S037_128.mat  \n",
            "  inflating: /content/training_set/S037_128_ann.mat  \n",
            "  inflating: /content/training_set/S037_128_rpk.mat  \n",
            "  inflating: /content/training_set/S038_128.mat  \n",
            "  inflating: /content/training_set/S038_128_ann.mat  \n",
            " extracting: /content/training_set/S038_128_rpk.mat  \n",
            "  inflating: /content/training_set/S039_128.mat  \n",
            "  inflating: /content/training_set/S039_128_ann.mat  \n",
            "  inflating: /content/training_set/S039_128_rpk.mat  \n",
            "  inflating: /content/training_set/S040_128.mat  \n",
            "  inflating: /content/training_set/S040_128_ann.mat  \n",
            " extracting: /content/training_set/S040_128_rpk.mat  \n",
            "  inflating: /content/training_set/S041_128.mat  \n",
            "  inflating: /content/training_set/S041_128_ann.mat  \n",
            "  inflating: /content/training_set/S041_128_rpk.mat  \n",
            "  inflating: /content/training_set/S042_128.mat  \n",
            "  inflating: /content/training_set/S042_128_ann.mat  \n",
            "  inflating: /content/training_set/S042_128_rpk.mat  \n",
            "  inflating: /content/training_set/S043_128.mat  \n",
            "  inflating: /content/training_set/S043_128_ann.mat  \n",
            "  inflating: /content/training_set/S043_128_rpk.mat  \n",
            "  inflating: /content/training_set/S044_128.mat  \n",
            "  inflating: /content/training_set/S044_128_ann.mat  \n",
            "  inflating: /content/training_set/S044_128_rpk.mat  \n",
            "  inflating: /content/training_set/S045_128.mat  \n",
            "  inflating: /content/training_set/S045_128_ann.mat  \n",
            "  inflating: /content/training_set/S045_128_rpk.mat  \n",
            "  inflating: /content/training_set/S046_128.mat  \n",
            "  inflating: /content/training_set/S046_128_ann.mat  \n",
            "  inflating: /content/training_set/S046_128_rpk.mat  \n",
            "  inflating: /content/training_set/S047_128.mat  \n",
            "  inflating: /content/training_set/S047_128_ann.mat  \n",
            " extracting: /content/training_set/S047_128_rpk.mat  \n",
            "  inflating: /content/training_set/S048_128.mat  \n",
            "  inflating: /content/training_set/S048_128_ann.mat  \n",
            "  inflating: /content/training_set/S048_128_rpk.mat  \n",
            "  inflating: /content/training_set/S049_128.mat  \n",
            "  inflating: /content/training_set/S049_128_ann.mat  \n",
            "  inflating: /content/training_set/S049_128_rpk.mat  \n",
            "  inflating: /content/training_set/S050_128.mat  \n",
            "  inflating: /content/training_set/S050_128_ann.mat  \n",
            "  inflating: /content/training_set/S050_128_rpk.mat  \n",
            "  inflating: /content/training_set/S051_128.mat  \n",
            "  inflating: /content/training_set/S051_128_ann.mat  \n",
            " extracting: /content/training_set/S051_128_rpk.mat  \n",
            "  inflating: /content/training_set/S052_128.mat  \n",
            "  inflating: /content/training_set/S052_128_ann.mat  \n",
            " extracting: /content/training_set/S052_128_rpk.mat  \n",
            "  inflating: /content/training_set/S053_128.mat  \n",
            "  inflating: /content/training_set/S053_128_ann.mat  \n",
            "  inflating: /content/training_set/S053_128_rpk.mat  \n",
            "  inflating: /content/training_set/S054_128.mat  \n",
            "  inflating: /content/training_set/S054_128_ann.mat  \n",
            "  inflating: /content/training_set/S054_128_rpk.mat  \n",
            "  inflating: /content/training_set/S055_128.mat  \n",
            "  inflating: /content/training_set/S055_128_ann.mat  \n",
            " extracting: /content/training_set/S055_128_rpk.mat  \n",
            "  inflating: /content/training_set/S056_128.mat  \n",
            "  inflating: /content/training_set/S056_128_ann.mat  \n",
            " extracting: /content/training_set/S056_128_rpk.mat  \n",
            "  inflating: /content/training_set/S057_128.mat  \n",
            "  inflating: /content/training_set/S057_128_ann.mat  \n",
            "  inflating: /content/training_set/S057_128_rpk.mat  \n",
            "  inflating: /content/training_set/S058_128.mat  \n",
            "  inflating: /content/training_set/S058_128_ann.mat  \n",
            "  inflating: /content/training_set/S058_128_rpk.mat  \n",
            "  inflating: /content/training_set/S059_128.mat  \n",
            "  inflating: /content/training_set/S059_128_ann.mat  \n",
            " extracting: /content/training_set/S059_128_rpk.mat  \n",
            "  inflating: /content/training_set/S060_128.mat  \n",
            "  inflating: /content/training_set/S060_128_ann.mat  \n",
            " extracting: /content/training_set/S060_128_rpk.mat  \n",
            "  inflating: /content/training_set/S061_128.mat  \n",
            "  inflating: /content/training_set/S061_128_ann.mat  \n",
            "  inflating: /content/training_set/S061_128_rpk.mat  \n",
            "  inflating: /content/training_set/S062_128.mat  \n",
            "  inflating: /content/training_set/S062_128_ann.mat  \n",
            "  inflating: /content/training_set/S062_128_rpk.mat  \n",
            "  inflating: /content/training_set/S063_128.mat  \n",
            "  inflating: /content/training_set/S063_128_ann.mat  \n",
            " extracting: /content/training_set/S063_128_rpk.mat  \n",
            "  inflating: /content/training_set/S064_128.mat  \n",
            "  inflating: /content/training_set/S064_128_ann.mat  \n",
            "  inflating: /content/training_set/S064_128_rpk.mat  \n",
            "  inflating: /content/training_set/S065_128.mat  \n",
            "  inflating: /content/training_set/S065_128_ann.mat  \n",
            "  inflating: /content/training_set/S065_128_rpk.mat  \n",
            "  inflating: /content/training_set/S079_250.mat  \n",
            "  inflating: /content/training_set/S079_250_ann.mat  \n",
            "  inflating: /content/training_set/S079_250_rpk.mat  \n",
            "  inflating: /content/training_set/S080_250.mat  \n",
            "  inflating: /content/training_set/S080_250_ann.mat  \n",
            "  inflating: /content/training_set/S080_250_rpk.mat  \n",
            "  inflating: /content/training_set/S081_250.mat  \n",
            "  inflating: /content/training_set/S081_250_ann.mat  \n",
            "  inflating: /content/training_set/S081_250_rpk.mat  \n",
            "  inflating: /content/training_set/S082_250.mat  \n",
            "  inflating: /content/training_set/S082_250_ann.mat  \n",
            "  inflating: /content/training_set/S082_250_rpk.mat  \n",
            "  inflating: /content/training_set/S083_250.mat  \n",
            "  inflating: /content/training_set/S083_250_ann.mat  \n",
            "  inflating: /content/training_set/S083_250_rpk.mat  \n",
            "  inflating: /content/training_set/S084_250.mat  \n",
            "  inflating: /content/training_set/S084_250_ann.mat  \n",
            "  inflating: /content/training_set/S084_250_rpk.mat  \n",
            "  inflating: /content/training_set/S085_250.mat  \n",
            "  inflating: /content/training_set/S085_250_ann.mat  \n",
            "  inflating: /content/training_set/S085_250_rpk.mat  \n",
            "  inflating: /content/training_set/S086_250.mat  \n",
            "  inflating: /content/training_set/S086_250_ann.mat  \n",
            "  inflating: /content/training_set/S086_250_rpk.mat  \n",
            "  inflating: /content/training_set/S087_250.mat  \n",
            "  inflating: /content/training_set/S087_250_ann.mat  \n",
            "  inflating: /content/training_set/S087_250_rpk.mat  \n",
            "  inflating: /content/training_set/S088_250.mat  \n",
            "  inflating: /content/training_set/S088_250_ann.mat  \n",
            "  inflating: /content/training_set/S088_250_rpk.mat  \n",
            "  inflating: /content/training_set/S089_250.mat  \n",
            "  inflating: /content/training_set/S089_250_ann.mat  \n",
            "  inflating: /content/training_set/S089_250_rpk.mat  \n",
            "  inflating: /content/training_set/S090_250.mat  \n",
            "  inflating: /content/training_set/S090_250_ann.mat  \n",
            "  inflating: /content/training_set/S090_250_rpk.mat  \n",
            "  inflating: /content/training_set/S091_250.mat  \n",
            "  inflating: /content/training_set/S091_250_ann.mat  \n",
            "  inflating: /content/training_set/S091_250_rpk.mat  \n",
            "  inflating: /content/training_set/S092_250.mat  \n",
            "  inflating: /content/training_set/S092_250_ann.mat  \n",
            "  inflating: /content/training_set/S092_250_rpk.mat  \n",
            "  inflating: /content/training_set/S093_250.mat  \n",
            "  inflating: /content/training_set/S093_250_ann.mat  \n",
            "  inflating: /content/training_set/S093_250_rpk.mat  \n",
            "  inflating: /content/training_set/S094_250.mat  \n",
            "  inflating: /content/training_set/S094_250_ann.mat  \n",
            "  inflating: /content/training_set/S094_250_rpk.mat  \n",
            "  inflating: /content/training_set/S095_250.mat  \n",
            "  inflating: /content/training_set/S095_250_ann.mat  \n",
            "  inflating: /content/training_set/S095_250_rpk.mat  \n",
            "  inflating: /content/training_set/S096_250.mat  \n",
            "  inflating: /content/training_set/S096_250_ann.mat  \n",
            "  inflating: /content/training_set/S096_250_rpk.mat  \n",
            "  inflating: /content/training_set/S097_250.mat  \n",
            "  inflating: /content/training_set/S097_250_ann.mat  \n",
            "  inflating: /content/training_set/S097_250_rpk.mat  \n",
            "  inflating: /content/training_set/S098_250.mat  \n",
            "  inflating: /content/training_set/S098_250_ann.mat  \n",
            " extracting: /content/training_set/S098_250_rpk.mat  \n",
            "  inflating: /content/training_set/S099_250.mat  \n",
            "  inflating: /content/training_set/S099_250_ann.mat  \n",
            "  inflating: /content/training_set/S099_250_rpk.mat  \n",
            "  inflating: /content/training_set/S100_250.mat  \n",
            "  inflating: /content/training_set/S100_250_ann.mat  \n",
            "  inflating: /content/training_set/S100_250_rpk.mat  \n",
            "  inflating: /content/training_set/S101_250.mat  \n",
            "  inflating: /content/training_set/S101_250_ann.mat  \n",
            "  inflating: /content/training_set/S101_250_rpk.mat  \n",
            "  inflating: /content/training_set/S102_250.mat  \n",
            "  inflating: /content/training_set/S102_250_ann.mat  \n",
            "  inflating: /content/training_set/S102_250_rpk.mat  \n",
            "  inflating: /content/training_set/S103_250.mat  \n",
            "  inflating: /content/training_set/S103_250_ann.mat  \n",
            "  inflating: /content/training_set/S103_250_rpk.mat  \n",
            "  inflating: /content/training_set/S104_250.mat  \n",
            "  inflating: /content/training_set/S104_250_ann.mat  \n",
            "  inflating: /content/training_set/S104_250_rpk.mat  \n",
            "  inflating: /content/training_set/S105_250.mat  \n",
            "  inflating: /content/training_set/S105_250_ann.mat  \n",
            " extracting: /content/training_set/S105_250_rpk.mat  \n",
            "  inflating: /content/training_set/S106_250.mat  \n",
            "  inflating: /content/training_set/S106_250_ann.mat  \n",
            " extracting: /content/training_set/S106_250_rpk.mat  \n",
            "  inflating: /content/training_set/S107_250.mat  \n",
            "  inflating: /content/training_set/S107_250_ann.mat  \n",
            "  inflating: /content/training_set/S107_250_rpk.mat  \n",
            "  inflating: /content/training_set/S108_250.mat  \n",
            "  inflating: /content/training_set/S108_250_ann.mat  \n",
            "  inflating: /content/training_set/S108_250_rpk.mat  \n",
            "  inflating: /content/training_set/S109_250.mat  \n",
            "  inflating: /content/training_set/S109_250_ann.mat  \n",
            "  inflating: /content/training_set/S109_250_rpk.mat  \n",
            "  inflating: /content/training_set/S110_250.mat  \n",
            "  inflating: /content/training_set/S110_250_ann.mat  \n",
            "  inflating: /content/training_set/S110_250_rpk.mat  \n",
            "  inflating: /content/training_set/S111_250.mat  \n",
            "  inflating: /content/training_set/S111_250_ann.mat  \n",
            "  inflating: /content/training_set/S111_250_rpk.mat  \n",
            "  inflating: /content/training_set/S112_250.mat  \n",
            "  inflating: /content/training_set/S112_250_ann.mat  \n",
            "  inflating: /content/training_set/S112_250_rpk.mat  \n",
            "  inflating: /content/training_set/S113_250.mat  \n",
            "  inflating: /content/training_set/S113_250_ann.mat  \n",
            "  inflating: /content/training_set/S113_250_rpk.mat  \n",
            "  inflating: /content/training_set/S114_250.mat  \n",
            "  inflating: /content/training_set/S114_250_ann.mat  \n",
            "  inflating: /content/training_set/S114_250_rpk.mat  \n",
            "  inflating: /content/training_set/S115_250.mat  \n",
            "  inflating: /content/training_set/S115_250_ann.mat  \n",
            "  inflating: /content/training_set/S115_250_rpk.mat  \n",
            "  inflating: /content/training_set/S116_250.mat  \n",
            "  inflating: /content/training_set/S116_250_ann.mat  \n",
            "  inflating: /content/training_set/S116_250_rpk.mat  \n",
            "  inflating: /content/training_set/S117_250.mat  \n",
            "  inflating: /content/training_set/S117_250_ann.mat  \n",
            " extracting: /content/training_set/S117_250_rpk.mat  \n",
            "  inflating: /content/training_set/S118_250.mat  \n",
            "  inflating: /content/training_set/S118_250_ann.mat  \n",
            "  inflating: /content/training_set/S118_250_rpk.mat  \n"
          ]
        }
      ],
      "source": [
        "!unzip /content/drive/MyDrive/AppliedAIinBiomedicine/final-assignment/training_set.zip -d /content/training_set"
      ]
    },
    {
      "cell_type": "code",
      "execution_count": 3,
      "metadata": {
        "id": "bdVz8qahlkKX"
      },
      "outputs": [],
      "source": [
        "input_dir = \"/content/training_set\""
      ]
    },
    {
      "cell_type": "code",
      "execution_count": 4,
      "metadata": {
        "id": "MmGesOxIlkKY"
      },
      "outputs": [],
      "source": [
        "import os\n",
        "\n",
        "# list the data present in the dataset\n",
        "dirs = sorted(os.listdir(input_dir))"
      ]
    },
    {
      "cell_type": "code",
      "execution_count": 5,
      "metadata": {
        "id": "1v75W2VBlkKZ"
      },
      "outputs": [],
      "source": [
        "# environment setup\n",
        "from scipy.io import loadmat\n",
        "import numpy as np, os, sys, joblib\n",
        "import matplotlib.pyplot as plt\n",
        "import math\n",
        "from tqdm import tqdm\n",
        "import pandas as pd\n",
        "import random\n",
        "import tensorflow as tf\n",
        "\n",
        "#Setting random seed for reproducibility\n",
        "#Remember to use always SEED for the functions that requires it (like Scikit models)\n",
        "SEED = 1234\n",
        "np.random.seed(SEED)\n",
        "pd.core.common._random_stat = SEED\n",
        "random.seed(SEED)\n",
        "os.environ['PYTHONHASHSEED'] = str(SEED)"
      ]
    },
    {
      "cell_type": "code",
      "execution_count": 6,
      "metadata": {
        "id": "7qpFjnqplkKa"
      },
      "outputs": [],
      "source": [
        "# Utility function to load data\n",
        "\n",
        "def load_data(ecg_file):\n",
        "  ecg = loadmat(ecg_file)\n",
        "  rpk_file = ecg_file.replace('.mat', '_rpk.mat')\n",
        "  rpk = loadmat(rpk_file)\n",
        "  ann_file = ecg_file.replace('.mat', '_ann.mat')\n",
        "  ann = loadmat(ann_file)\n",
        "  return ecg, rpk, ann"
      ]
    },
    {
      "cell_type": "code",
      "execution_count": 7,
      "metadata": {
        "colab": {
          "base_uri": "https://localhost:8080/"
        },
        "id": "DQH3PLmulkKb",
        "outputId": "95fdb601-8a90-4401-bd9b-cc552bac7ccf"
      },
      "outputs": [
        {
          "output_type": "stream",
          "name": "stdout",
          "text": [
            "Loading file: 105/105"
          ]
        }
      ],
      "source": [
        "# Get the ecg file for each sample and create a list of all ecgs\n",
        "ecg_files = []\n",
        "\n",
        "for f in dirs:\n",
        "  g = input_dir+'/'+f\n",
        "  if g.find('_ann') == -1 and g.find('_rpk') == -1:\n",
        "   ecg_files.append(g)\n",
        "\n",
        "num_files = len(ecg_files)\n",
        "# Create lists that will contains each data types (ecg, labels, rpeaks) an filenames (a list which contains the original filename for each sample)\n",
        "filenames = list()\n",
        "ecgs = list()\n",
        "rpks = list()\n",
        "anns = list()\n",
        "\n",
        "for i in range(num_files):\n",
        "  ecg, rpk, ann = load_data(ecg_files[i])\n",
        "  print(\n",
        "        \"\\rLoading file: {}/{}\"\n",
        "            .format(i+1, num_files),\n",
        "        end=\"\"\n",
        "    )\n",
        "  ecgs.append(ecg)\n",
        "  rpks.append(rpk)\n",
        "  anns.append(ann)\n",
        "  filenames.append(ecg_files[i])"
      ]
    },
    {
      "cell_type": "markdown",
      "source": [
        "Plotting 10 ecgs from the dataset in order to see their variability"
      ],
      "metadata": {
        "id": "NWRocwfBum_Z"
      }
    },
    {
      "cell_type": "code",
      "source": [
        "import matplotlib.pyplot as plt\n",
        "\n",
        "for i in range(10):\n",
        "  plt.figure()\n",
        "  plt.plot(ecgs[i]['ecg'][:,0])\n",
        "  plt.xlim(0,1000)\n",
        "  plt.ylim(-1,3)\n",
        "print(i)"
      ],
      "metadata": {
        "colab": {
          "base_uri": "https://localhost:8080/",
          "height": 1000
        },
        "id": "hfFQknfg2gB3",
        "outputId": "60d314e6-48f5-4200-b511-418c84012ee8"
      },
      "execution_count": 8,
      "outputs": [
        {
          "output_type": "stream",
          "name": "stdout",
          "text": [
            "9\n"
          ]
        },
        {
          "output_type": "display_data",
          "data": {
            "text/plain": [
              "<Figure size 432x288 with 1 Axes>"
            ],
            "image/png": "[encoded data removed]"
          },
          "metadata": {
            "needs_background": "light"
          }
        },
        {
          "output_type": "display_data",
          "data": {
            "text/plain": [
              "<Figure size 432x288 with 1 Axes>"
            ],
            "image/png": "[encoded data removed]"
          },
          "metadata": {
            "needs_background": "light"
          }
        },
        {
          "output_type": "display_data",
          "data": {
            "text/plain": [
              "<Figure size 432x288 with 1 Axes>"
            ],
            "image/png": "[encoded data removed]"
          },
          "metadata": {
            "needs_background": "light"
          }
        },
        {
          "output_type": "display_data",
          "data": {
            "text/plain": [
              "<Figure size 432x288 with 1 Axes>"
            ],
            "image/png": "[encoded data removed]"
          },
          "metadata": {
            "needs_background": "light"
          }
        },
        {
          "output_type": "display_data",
          "data": {
            "text/plain": [
              "<Figure size 432x288 with 1 Axes>"
            ],
            "image/png": "[encoded data removed]"
          },
          "metadata": {
            "needs_background": "light"
          }
        },
        {
          "output_type": "display_data",
          "data": {
            "text/plain": [
              "<Figure size 432x288 with 1 Axes>"
            ],
            "image/png": "[encoded data removed]"
          },
          "metadata": {
            "needs_background": "light"
          }
        },
        {
          "output_type": "display_data",
          "data": {
            "text/plain": [
              "<Figure size 432x288 with 1 Axes>"
            ],
            "image/png": "[encoded data removed]"
          },
          "metadata": {
            "needs_background": "light"
          }
        },
        {
          "output_type": "display_data",
          "data": {
            "text/plain": [
              "<Figure size 432x288 with 1 Axes>"
            ],
            "image/png": "[encoded data removed]"
          },
          "metadata": {
            "needs_background": "light"
          }
        },
        {
          "output_type": "display_data",
          "data": {
            "text/plain": [
              "<Figure size 432x288 with 1 Axes>"
            ],
            "image/png": "[encoded data removed]"
          },
          "metadata": {
            "needs_background": "light"
          }
        },
        {
          "output_type": "display_data",
          "data": {
            "text/plain": [
              "<Figure size 432x288 with 1 Axes>"
            ],
            "image/png": "[encoded data removed]"
          },
          "metadata": {
            "needs_background": "light"
          }
        }
      ]
    },
    {
      "cell_type": "markdown",
      "source": [
        "Calculate the percentage of type of beats for each patient"
      ],
      "metadata": {
        "id": "HByKMcPv71tB"
      }
    },
    {
      "cell_type": "code",
      "source": [
        "import collections\n",
        "perc = []\n",
        "for i in range(len(anns)):\n",
        "  c = collections.Counter(anns[i]['labels'])\n",
        "  perc.append([filenames[i].split('/')[-1], (c['N'] / len(anns[i]['labels'])), (c['S'] / len(anns[i]['labels'])), (c['V'] / len(anns[i]['labels']))])\n"
      ],
      "metadata": {
        "id": "fUnj8lOP702B"
      },
      "execution_count": 9,
      "outputs": []
    },
    {
      "cell_type": "code",
      "source": [
        "import collections\n",
        "beats_n = []\n",
        "for i in range(len(anns)):\n",
        "  c = collections.Counter(anns[i]['labels'])\n",
        "  beats_n.append([filenames[i].split('/')[-1], c['N'], c['S'], c['V']])\n"
      ],
      "metadata": {
        "id": "8CJ5MquQIFFP"
      },
      "execution_count": 10,
      "outputs": []
    },
    {
      "cell_type": "code",
      "source": [
        "beats_n = pd.DataFrame(beats_n, columns = ['filename','N', 'S', 'V'])"
      ],
      "metadata": {
        "id": "xkVh19tKIdIT"
      },
      "execution_count": 11,
      "outputs": []
    },
    {
      "cell_type": "code",
      "source": [
        "perc = pd.DataFrame(perc, columns = ['filename','N', 'S', 'V'])"
      ],
      "metadata": {
        "id": "5VHo4mGK-E1X"
      },
      "execution_count": 12,
      "outputs": []
    },
    {
      "cell_type": "code",
      "source": [
        "perc.head(5)"
      ],
      "metadata": {
        "colab": {
          "base_uri": "https://localhost:8080/",
          "height": 204
        },
        "id": "JqtA51O5-1Uh",
        "outputId": "2cf8c78c-5520-43e3-f675-0406dc0c3d95"
      },
      "execution_count": 13,
      "outputs": [
        {
          "output_type": "execute_result",
          "data": {
            "text/plain": [
              "       filename         N         S         V\n",
              "0  S001_128.mat  0.985970  0.004209  0.009821\n",
              "1  S002_128.mat  0.731906  0.267666  0.000428\n",
              "2  S003_128.mat  0.768437  0.203713  0.027849\n",
              "3  S004_128.mat  0.984216  0.011274  0.004510\n",
              "4  S005_128.mat  0.985067  0.014933  0.000000"
            ],
            "text/html": [
              "\n",
              "  <div id=\"df-ce756b2a-cdb5-484f-9fa0-5db40516cbe0\">\n",
              "    <div class=\"colab-df-container\">\n",
              "      <div>\n",
              "<style scoped>\n",
              "    .dataframe tbody tr th:only-of-type {\n",
              "        vertical-align: middle;\n",
              "    }\n",
              "\n",
              "    .dataframe tbody tr th {\n",
              "        vertical-align: top;\n",
              "    }\n",
              "\n",
              "    .dataframe thead th {\n",
              "        text-align: right;\n",
              "    }\n",
              "</style>\n",
              "<table border=\"1\" class=\"dataframe\">\n",
              "  <thead>\n",
              "    <tr style=\"text-align: right;\">\n",
              "      <th></th>\n",
              "      <th>filename</th>\n",
              "      <th>N</th>\n",
              "      <th>S</th>\n",
              "      <th>V</th>\n",
              "    </tr>\n",
              "  </thead>\n",
              "  <tbody>\n",
              "    <tr>\n",
              "      <th>0</th>\n",
              "      <td>S001_128.mat</td>\n",
              "      <td>0.985970</td>\n",
              "      <td>0.004209</td>\n",
              "      <td>0.009821</td>\n",
              "    </tr>\n",
              "    <tr>\n",
              "      <th>1</th>\n",
              "      <td>S002_128.mat</td>\n",
              "      <td>0.731906</td>\n",
              "      <td>0.267666</td>\n",
              "      <td>0.000428</td>\n",
              "    </tr>\n",
              "    <tr>\n",
              "      <th>2</th>\n",
              "      <td>S003_128.mat</td>\n",
              "      <td>0.768437</td>\n",
              "      <td>0.203713</td>\n",
              "      <td>0.027849</td>\n",
              "    </tr>\n",
              "    <tr>\n",
              "      <th>3</th>\n",
              "      <td>S004_128.mat</td>\n",
              "      <td>0.984216</td>\n",
              "      <td>0.011274</td>\n",
              "      <td>0.004510</td>\n",
              "    </tr>\n",
              "    <tr>\n",
              "      <th>4</th>\n",
              "      <td>S005_128.mat</td>\n",
              "      <td>0.985067</td>\n",
              "      <td>0.014933</td>\n",
              "      <td>0.000000</td>\n",
              "    </tr>\n",
              "  </tbody>\n",
              "</table>\n",
              "</div>\n",
              "      <button class=\"colab-df-convert\" onclick=\"convertToInteractive('df-ce756b2a-cdb5-484f-9fa0-5db40516cbe0')\"\n",
              "              title=\"Convert this dataframe to an interactive table.\"\n",
              "              style=\"display:none;\">\n",
              "        \n",
              "  <svg xmlns=\"http://www.w3.org/2000/svg\" height=\"24px\"viewBox=\"0 0 24 24\"\n",
              "       width=\"24px\">\n",
              "    <path d=\"M0 0h24v24H0V0z\" fill=\"none\"/>\n",
              "    <path d=\"M18.56 5.44l.94 2.06.94-2.06 2.06-.94-2.06-.94-.94-2.06-.94 2.06-2.06.94zm-11 1L8.5 8.5l.94-2.06 2.06-.94-2.06-.94L8.5 2.5l-.94 2.06-2.06.94zm10 10l.94 2.06.94-2.06 2.06-.94-2.06-.94-.94-2.06-.94 2.06-2.06.94z\"/><path d=\"M17.41 7.96l-1.37-1.37c-.4-.4-.92-.59-1.43-.59-.52 0-1.04.2-1.43.59L10.3 9.45l-7.72 7.72c-.78.78-.78 2.05 0 2.83L4 21.41c.39.39.9.59 1.41.59.51 0 1.02-.2 1.41-.59l7.78-7.78 2.81-2.81c.8-.78.8-2.07 0-2.86zM5.41 20L4 18.59l7.72-7.72 1.47 1.35L5.41 20z\"/>\n",
              "  </svg>\n",
              "      </button>\n",
              "      \n",
              "  <style>\n",
              "    .colab-df-container {\n",
              "      display:flex;\n",
              "      flex-wrap:wrap;\n",
              "      gap: 12px;\n",
              "    }\n",
              "\n",
              "    .colab-df-convert {\n",
              "      background-color: #E8F0FE;\n",
              "      border: none;\n",
              "      border-radius: 50%;\n",
              "      cursor: pointer;\n",
              "      display: none;\n",
              "      fill: #1967D2;\n",
              "      height: 32px;\n",
              "      padding: 0 0 0 0;\n",
              "      width: 32px;\n",
              "    }\n",
              "\n",
              "    .colab-df-convert:hover {\n",
              "      background-color: #E2EBFA;\n",
              "      box-shadow: 0px 1px 2px rgba(60, 64, 67, 0.3), 0px 1px 3px 1px rgba(60, 64, 67, 0.15);\n",
              "      fill: #174EA6;\n",
              "    }\n",
              "\n",
              "    [theme=dark] .colab-df-convert {\n",
              "      background-color: #3B4455;\n",
              "      fill: #D2E3FC;\n",
              "    }\n",
              "\n",
              "    [theme=dark] .colab-df-convert:hover {\n",
              "      background-color: #434B5C;\n",
              "      box-shadow: 0px 1px 3px 1px rgba(0, 0, 0, 0.15);\n",
              "      filter: drop-shadow(0px 1px 2px rgba(0, 0, 0, 0.3));\n",
              "      fill: #FFFFFF;\n",
              "    }\n",
              "  </style>\n",
              "\n",
              "      <script>\n",
              "        const buttonEl =\n",
              "          document.querySelector('#df-ce756b2a-cdb5-484f-9fa0-5db40516cbe0 button.colab-df-convert');\n",
              "        buttonEl.style.display =\n",
              "          google.colab.kernel.accessAllowed ? 'block' : 'none';\n",
              "\n",
              "        async function convertToInteractive(key) {\n",
              "          const element = document.querySelector('#df-ce756b2a-cdb5-484f-9fa0-5db40516cbe0');\n",
              "          const dataTable =\n",
              "            await google.colab.kernel.invokeFunction('convertToInteractive',\n",
              "                                                     [key], {});\n",
              "          if (!dataTable) return;\n",
              "\n",
              "          const docLinkHtml = 'Like what you see? Visit the ' +\n",
              "            '<a target=\"_blank\" href=https://colab.research.google.com/notebooks/data_table.ipynb>data table notebook</a>'\n",
              "            + ' to learn more about interactive tables.';\n",
              "          element.innerHTML = '';\n",
              "          dataTable['output_type'] = 'display_data';\n",
              "          await google.colab.output.renderOutput(dataTable, element);\n",
              "          const docLink = document.createElement('div');\n",
              "          docLink.innerHTML = docLinkHtml;\n",
              "          element.appendChild(docLink);\n",
              "        }\n",
              "      </script>\n",
              "    </div>\n",
              "  </div>\n",
              "  "
            ]
          },
          "metadata": {},
          "execution_count": 13
        }
      ]
    },
    {
      "cell_type": "code",
      "source": [
        "perc.describe()"
      ],
      "metadata": {
        "colab": {
          "base_uri": "https://localhost:8080/",
          "height": 297
        },
        "id": "vm6eZxmJ-MFu",
        "outputId": "3aff907d-07f0-43e2-85f0-b660b645a3d4"
      },
      "execution_count": 14,
      "outputs": [
        {
          "output_type": "execute_result",
          "data": {
            "text/plain": [
              "                N           S           V\n",
              "count  105.000000  105.000000  105.000000\n",
              "mean     0.932110    0.037366    0.030524\n",
              "std      0.093564    0.064813    0.057009\n",
              "min      0.586390    0.000000    0.000000\n",
              "25%      0.920068    0.000000    0.000000\n",
              "50%      0.969936    0.007600    0.002223\n",
              "75%      0.998763    0.040650    0.037355\n",
              "max      1.000000    0.292457    0.300662"
            ],
            "text/html": [
              "\n",
              "  <div id=\"df-2a0bf765-3bb9-4074-b4cc-2ea97755e497\">\n",
              "    <div class=\"colab-df-container\">\n",
              "      <div>\n",
              "<style scoped>\n",
              "    .dataframe tbody tr th:only-of-type {\n",
              "        vertical-align: middle;\n",
              "    }\n",
              "\n",
              "    .dataframe tbody tr th {\n",
              "        vertical-align: top;\n",
              "    }\n",
              "\n",
              "    .dataframe thead th {\n",
              "        text-align: right;\n",
              "    }\n",
              "</style>\n",
              "<table border=\"1\" class=\"dataframe\">\n",
              "  <thead>\n",
              "    <tr style=\"text-align: right;\">\n",
              "      <th></th>\n",
              "      <th>N</th>\n",
              "      <th>S</th>\n",
              "      <th>V</th>\n",
              "    </tr>\n",
              "  </thead>\n",
              "  <tbody>\n",
              "    <tr>\n",
              "      <th>count</th>\n",
              "      <td>105.000000</td>\n",
              "      <td>105.000000</td>\n",
              "      <td>105.000000</td>\n",
              "    </tr>\n",
              "    <tr>\n",
              "      <th>mean</th>\n",
              "      <td>0.932110</td>\n",
              "      <td>0.037366</td>\n",
              "      <td>0.030524</td>\n",
              "    </tr>\n",
              "    <tr>\n",
              "      <th>std</th>\n",
              "      <td>0.093564</td>\n",
              "      <td>0.064813</td>\n",
              "      <td>0.057009</td>\n",
              "    </tr>\n",
              "    <tr>\n",
              "      <th>min</th>\n",
              "      <td>0.586390</td>\n",
              "      <td>0.000000</td>\n",
              "      <td>0.000000</td>\n",
              "    </tr>\n",
              "    <tr>\n",
              "      <th>25%</th>\n",
              "      <td>0.920068</td>\n",
              "      <td>0.000000</td>\n",
              "      <td>0.000000</td>\n",
              "    </tr>\n",
              "    <tr>\n",
              "      <th>50%</th>\n",
              "      <td>0.969936</td>\n",
              "      <td>0.007600</td>\n",
              "      <td>0.002223</td>\n",
              "    </tr>\n",
              "    <tr>\n",
              "      <th>75%</th>\n",
              "      <td>0.998763</td>\n",
              "      <td>0.040650</td>\n",
              "      <td>0.037355</td>\n",
              "    </tr>\n",
              "    <tr>\n",
              "      <th>max</th>\n",
              "      <td>1.000000</td>\n",
              "      <td>0.292457</td>\n",
              "      <td>0.300662</td>\n",
              "    </tr>\n",
              "  </tbody>\n",
              "</table>\n",
              "</div>\n",
              "      <button class=\"colab-df-convert\" onclick=\"convertToInteractive('df-2a0bf765-3bb9-4074-b4cc-2ea97755e497')\"\n",
              "              title=\"Convert this dataframe to an interactive table.\"\n",
              "              style=\"display:none;\">\n",
              "        \n",
              "  <svg xmlns=\"http://www.w3.org/2000/svg\" height=\"24px\"viewBox=\"0 0 24 24\"\n",
              "       width=\"24px\">\n",
              "    <path d=\"M0 0h24v24H0V0z\" fill=\"none\"/>\n",
              "    <path d=\"M18.56 5.44l.94 2.06.94-2.06 2.06-.94-2.06-.94-.94-2.06-.94 2.06-2.06.94zm-11 1L8.5 8.5l.94-2.06 2.06-.94-2.06-.94L8.5 2.5l-.94 2.06-2.06.94zm10 10l.94 2.06.94-2.06 2.06-.94-2.06-.94-.94-2.06-.94 2.06-2.06.94z\"/><path d=\"M17.41 7.96l-1.37-1.37c-.4-.4-.92-.59-1.43-.59-.52 0-1.04.2-1.43.59L10.3 9.45l-7.72 7.72c-.78.78-.78 2.05 0 2.83L4 21.41c.39.39.9.59 1.41.59.51 0 1.02-.2 1.41-.59l7.78-7.78 2.81-2.81c.8-.78.8-2.07 0-2.86zM5.41 20L4 18.59l7.72-7.72 1.47 1.35L5.41 20z\"/>\n",
              "  </svg>\n",
              "      </button>\n",
              "      \n",
              "  <style>\n",
              "    .colab-df-container {\n",
              "      display:flex;\n",
              "      flex-wrap:wrap;\n",
              "      gap: 12px;\n",
              "    }\n",
              "\n",
              "    .colab-df-convert {\n",
              "      background-color: #E8F0FE;\n",
              "      border: none;\n",
              "      border-radius: 50%;\n",
              "      cursor: pointer;\n",
              "      display: none;\n",
              "      fill: #1967D2;\n",
              "      height: 32px;\n",
              "      padding: 0 0 0 0;\n",
              "      width: 32px;\n",
              "    }\n",
              "\n",
              "    .colab-df-convert:hover {\n",
              "      background-color: #E2EBFA;\n",
              "      box-shadow: 0px 1px 2px rgba(60, 64, 67, 0.3), 0px 1px 3px 1px rgba(60, 64, 67, 0.15);\n",
              "      fill: #174EA6;\n",
              "    }\n",
              "\n",
              "    [theme=dark] .colab-df-convert {\n",
              "      background-color: #3B4455;\n",
              "      fill: #D2E3FC;\n",
              "    }\n",
              "\n",
              "    [theme=dark] .colab-df-convert:hover {\n",
              "      background-color: #434B5C;\n",
              "      box-shadow: 0px 1px 3px 1px rgba(0, 0, 0, 0.15);\n",
              "      filter: drop-shadow(0px 1px 2px rgba(0, 0, 0, 0.3));\n",
              "      fill: #FFFFFF;\n",
              "    }\n",
              "  </style>\n",
              "\n",
              "      <script>\n",
              "        const buttonEl =\n",
              "          document.querySelector('#df-2a0bf765-3bb9-4074-b4cc-2ea97755e497 button.colab-df-convert');\n",
              "        buttonEl.style.display =\n",
              "          google.colab.kernel.accessAllowed ? 'block' : 'none';\n",
              "\n",
              "        async function convertToInteractive(key) {\n",
              "          const element = document.querySelector('#df-2a0bf765-3bb9-4074-b4cc-2ea97755e497');\n",
              "          const dataTable =\n",
              "            await google.colab.kernel.invokeFunction('convertToInteractive',\n",
              "                                                     [key], {});\n",
              "          if (!dataTable) return;\n",
              "\n",
              "          const docLinkHtml = 'Like what you see? Visit the ' +\n",
              "            '<a target=\"_blank\" href=https://colab.research.google.com/notebooks/data_table.ipynb>data table notebook</a>'\n",
              "            + ' to learn more about interactive tables.';\n",
              "          element.innerHTML = '';\n",
              "          dataTable['output_type'] = 'display_data';\n",
              "          await google.colab.output.renderOutput(dataTable, element);\n",
              "          const docLink = document.createElement('div');\n",
              "          docLink.innerHTML = docLinkHtml;\n",
              "          element.appendChild(docLink);\n",
              "        }\n",
              "      </script>\n",
              "    </div>\n",
              "  </div>\n",
              "  "
            ]
          },
          "metadata": {},
          "execution_count": 14
        }
      ]
    },
    {
      "cell_type": "markdown",
      "source": [
        "Find patients with all N beats and remove them"
      ],
      "metadata": {
        "id": "jq2SDZ3ebjMy"
      }
    },
    {
      "cell_type": "code",
      "source": [
        "perc.loc[perc['N'] == 1]"
      ],
      "metadata": {
        "colab": {
          "base_uri": "https://localhost:8080/",
          "height": 483
        },
        "id": "Th-fGQb0-tog",
        "outputId": "56a13f82-e4d9-4be0-ac0c-24f365ab43d7"
      },
      "execution_count": 15,
      "outputs": [
        {
          "output_type": "execute_result",
          "data": {
            "text/plain": [
              "        filename    N    S    V\n",
              "66  S080_250.mat  1.0  0.0  0.0\n",
              "67  S081_250.mat  1.0  0.0  0.0\n",
              "71  S085_250.mat  1.0  0.0  0.0\n",
              "72  S086_250.mat  1.0  0.0  0.0\n",
              "74  S088_250.mat  1.0  0.0  0.0\n",
              "75  S089_250.mat  1.0  0.0  0.0\n",
              "76  S090_250.mat  1.0  0.0  0.0\n",
              "77  S091_250.mat  1.0  0.0  0.0\n",
              "85  S099_250.mat  1.0  0.0  0.0\n",
              "86  S100_250.mat  1.0  0.0  0.0\n",
              "92  S106_250.mat  1.0  0.0  0.0\n",
              "95  S109_250.mat  1.0  0.0  0.0\n",
              "96  S110_250.mat  1.0  0.0  0.0\n",
              "99  S113_250.mat  1.0  0.0  0.0"
            ],
            "text/html": [
              "\n",
              "  <div id=\"df-e4b89a21-d64c-40db-9e2c-0bcfa96efa11\">\n",
              "    <div class=\"colab-df-container\">\n",
              "      <div>\n",
              "<style scoped>\n",
              "    .dataframe tbody tr th:only-of-type {\n",
              "        vertical-align: middle;\n",
              "    }\n",
              "\n",
              "    .dataframe tbody tr th {\n",
              "        vertical-align: top;\n",
              "    }\n",
              "\n",
              "    .dataframe thead th {\n",
              "        text-align: right;\n",
              "    }\n",
              "</style>\n",
              "<table border=\"1\" class=\"dataframe\">\n",
              "  <thead>\n",
              "    <tr style=\"text-align: right;\">\n",
              "      <th></th>\n",
              "      <th>filename</th>\n",
              "      <th>N</th>\n",
              "      <th>S</th>\n",
              "      <th>V</th>\n",
              "    </tr>\n",
              "  </thead>\n",
              "  <tbody>\n",
              "    <tr>\n",
              "      <th>66</th>\n",
              "      <td>S080_250.mat</td>\n",
              "      <td>1.0</td>\n",
              "      <td>0.0</td>\n",
              "      <td>0.0</td>\n",
              "    </tr>\n",
              "    <tr>\n",
              "      <th>67</th>\n",
              "      <td>S081_250.mat</td>\n",
              "      <td>1.0</td>\n",
              "      <td>0.0</td>\n",
              "      <td>0.0</td>\n",
              "    </tr>\n",
              "    <tr>\n",
              "      <th>71</th>\n",
              "      <td>S085_250.mat</td>\n",
              "      <td>1.0</td>\n",
              "      <td>0.0</td>\n",
              "      <td>0.0</td>\n",
              "    </tr>\n",
              "    <tr>\n",
              "      <th>72</th>\n",
              "      <td>S086_250.mat</td>\n",
              "      <td>1.0</td>\n",
              "      <td>0.0</td>\n",
              "      <td>0.0</td>\n",
              "    </tr>\n",
              "    <tr>\n",
              "      <th>74</th>\n",
              "      <td>S088_250.mat</td>\n",
              "      <td>1.0</td>\n",
              "      <td>0.0</td>\n",
              "      <td>0.0</td>\n",
              "    </tr>\n",
              "    <tr>\n",
              "      <th>75</th>\n",
              "      <td>S089_250.mat</td>\n",
              "      <td>1.0</td>\n",
              "      <td>0.0</td>\n",
              "      <td>0.0</td>\n",
              "    </tr>\n",
              "    <tr>\n",
              "      <th>76</th>\n",
              "      <td>S090_250.mat</td>\n",
              "      <td>1.0</td>\n",
              "      <td>0.0</td>\n",
              "      <td>0.0</td>\n",
              "    </tr>\n",
              "    <tr>\n",
              "      <th>77</th>\n",
              "      <td>S091_250.mat</td>\n",
              "      <td>1.0</td>\n",
              "      <td>0.0</td>\n",
              "      <td>0.0</td>\n",
              "    </tr>\n",
              "    <tr>\n",
              "      <th>85</th>\n",
              "      <td>S099_250.mat</td>\n",
              "      <td>1.0</td>\n",
              "      <td>0.0</td>\n",
              "      <td>0.0</td>\n",
              "    </tr>\n",
              "    <tr>\n",
              "      <th>86</th>\n",
              "      <td>S100_250.mat</td>\n",
              "      <td>1.0</td>\n",
              "      <td>0.0</td>\n",
              "      <td>0.0</td>\n",
              "    </tr>\n",
              "    <tr>\n",
              "      <th>92</th>\n",
              "      <td>S106_250.mat</td>\n",
              "      <td>1.0</td>\n",
              "      <td>0.0</td>\n",
              "      <td>0.0</td>\n",
              "    </tr>\n",
              "    <tr>\n",
              "      <th>95</th>\n",
              "      <td>S109_250.mat</td>\n",
              "      <td>1.0</td>\n",
              "      <td>0.0</td>\n",
              "      <td>0.0</td>\n",
              "    </tr>\n",
              "    <tr>\n",
              "      <th>96</th>\n",
              "      <td>S110_250.mat</td>\n",
              "      <td>1.0</td>\n",
              "      <td>0.0</td>\n",
              "      <td>0.0</td>\n",
              "    </tr>\n",
              "    <tr>\n",
              "      <th>99</th>\n",
              "      <td>S113_250.mat</td>\n",
              "      <td>1.0</td>\n",
              "      <td>0.0</td>\n",
              "      <td>0.0</td>\n",
              "    </tr>\n",
              "  </tbody>\n",
              "</table>\n",
              "</div>\n",
              "      <button class=\"colab-df-convert\" onclick=\"convertToInteractive('df-e4b89a21-d64c-40db-9e2c-0bcfa96efa11')\"\n",
              "              title=\"Convert this dataframe to an interactive table.\"\n",
              "              style=\"display:none;\">\n",
              "        \n",
              "  <svg xmlns=\"http://www.w3.org/2000/svg\" height=\"24px\"viewBox=\"0 0 24 24\"\n",
              "       width=\"24px\">\n",
              "    <path d=\"M0 0h24v24H0V0z\" fill=\"none\"/>\n",
              "    <path d=\"M18.56 5.44l.94 2.06.94-2.06 2.06-.94-2.06-.94-.94-2.06-.94 2.06-2.06.94zm-11 1L8.5 8.5l.94-2.06 2.06-.94-2.06-.94L8.5 2.5l-.94 2.06-2.06.94zm10 10l.94 2.06.94-2.06 2.06-.94-2.06-.94-.94-2.06-.94 2.06-2.06.94z\"/><path d=\"M17.41 7.96l-1.37-1.37c-.4-.4-.92-.59-1.43-.59-.52 0-1.04.2-1.43.59L10.3 9.45l-7.72 7.72c-.78.78-.78 2.05 0 2.83L4 21.41c.39.39.9.59 1.41.59.51 0 1.02-.2 1.41-.59l7.78-7.78 2.81-2.81c.8-.78.8-2.07 0-2.86zM5.41 20L4 18.59l7.72-7.72 1.47 1.35L5.41 20z\"/>\n",
              "  </svg>\n",
              "      </button>\n",
              "      \n",
              "  <style>\n",
              "    .colab-df-container {\n",
              "      display:flex;\n",
              "      flex-wrap:wrap;\n",
              "      gap: 12px;\n",
              "    }\n",
              "\n",
              "    .colab-df-convert {\n",
              "      background-color: #E8F0FE;\n",
              "      border: none;\n",
              "      border-radius: 50%;\n",
              "      cursor: pointer;\n",
              "      display: none;\n",
              "      fill: #1967D2;\n",
              "      height: 32px;\n",
              "      padding: 0 0 0 0;\n",
              "      width: 32px;\n",
              "    }\n",
              "\n",
              "    .colab-df-convert:hover {\n",
              "      background-color: #E2EBFA;\n",
              "      box-shadow: 0px 1px 2px rgba(60, 64, 67, 0.3), 0px 1px 3px 1px rgba(60, 64, 67, 0.15);\n",
              "      fill: #174EA6;\n",
              "    }\n",
              "\n",
              "    [theme=dark] .colab-df-convert {\n",
              "      background-color: #3B4455;\n",
              "      fill: #D2E3FC;\n",
              "    }\n",
              "\n",
              "    [theme=dark] .colab-df-convert:hover {\n",
              "      background-color: #434B5C;\n",
              "      box-shadow: 0px 1px 3px 1px rgba(0, 0, 0, 0.15);\n",
              "      filter: drop-shadow(0px 1px 2px rgba(0, 0, 0, 0.3));\n",
              "      fill: #FFFFFF;\n",
              "    }\n",
              "  </style>\n",
              "\n",
              "      <script>\n",
              "        const buttonEl =\n",
              "          document.querySelector('#df-e4b89a21-d64c-40db-9e2c-0bcfa96efa11 button.colab-df-convert');\n",
              "        buttonEl.style.display =\n",
              "          google.colab.kernel.accessAllowed ? 'block' : 'none';\n",
              "\n",
              "        async function convertToInteractive(key) {\n",
              "          const element = document.querySelector('#df-e4b89a21-d64c-40db-9e2c-0bcfa96efa11');\n",
              "          const dataTable =\n",
              "            await google.colab.kernel.invokeFunction('convertToInteractive',\n",
              "                                                     [key], {});\n",
              "          if (!dataTable) return;\n",
              "\n",
              "          const docLinkHtml = 'Like what you see? Visit the ' +\n",
              "            '<a target=\"_blank\" href=https://colab.research.google.com/notebooks/data_table.ipynb>data table notebook</a>'\n",
              "            + ' to learn more about interactive tables.';\n",
              "          element.innerHTML = '';\n",
              "          dataTable['output_type'] = 'display_data';\n",
              "          await google.colab.output.renderOutput(dataTable, element);\n",
              "          const docLink = document.createElement('div');\n",
              "          docLink.innerHTML = docLinkHtml;\n",
              "          element.appendChild(docLink);\n",
              "        }\n",
              "      </script>\n",
              "    </div>\n",
              "  </div>\n",
              "  "
            ]
          },
          "metadata": {},
          "execution_count": 15
        }
      ]
    },
    {
      "cell_type": "code",
      "source": [
        "cleaned = perc.loc[perc['N'] < 1]"
      ],
      "metadata": {
        "id": "RHTb5rSz_pLA"
      },
      "execution_count": 16,
      "outputs": []
    },
    {
      "cell_type": "code",
      "source": [
        "cleaned.describe()"
      ],
      "metadata": {
        "colab": {
          "base_uri": "https://localhost:8080/",
          "height": 297
        },
        "id": "hnOB4BAZAi5b",
        "outputId": "ad8653c6-5e47-40c4-cb70-5628cdd91854"
      },
      "execution_count": 17,
      "outputs": [
        {
          "output_type": "execute_result",
          "data": {
            "text/plain": [
              "               N          S          V\n",
              "count  91.000000  91.000000  91.000000\n",
              "mean    0.921666   0.043115   0.035220\n",
              "std     0.096378   0.067849   0.059902\n",
              "min     0.586390   0.000000   0.000000\n",
              "25%     0.900202   0.000823   0.000450\n",
              "50%     0.955975   0.011898   0.004454\n",
              "75%     0.991409   0.054514   0.042521\n",
              "max     0.999601   0.292457   0.300662"
            ],
            "text/html": [
              "\n",
              "  <div id=\"df-7cfe8392-c8ff-4596-a05f-1eb011ccca87\">\n",
              "    <div class=\"colab-df-container\">\n",
              "      <div>\n",
              "<style scoped>\n",
              "    .dataframe tbody tr th:only-of-type {\n",
              "        vertical-align: middle;\n",
              "    }\n",
              "\n",
              "    .dataframe tbody tr th {\n",
              "        vertical-align: top;\n",
              "    }\n",
              "\n",
              "    .dataframe thead th {\n",
              "        text-align: right;\n",
              "    }\n",
              "</style>\n",
              "<table border=\"1\" class=\"dataframe\">\n",
              "  <thead>\n",
              "    <tr style=\"text-align: right;\">\n",
              "      <th></th>\n",
              "      <th>N</th>\n",
              "      <th>S</th>\n",
              "      <th>V</th>\n",
              "    </tr>\n",
              "  </thead>\n",
              "  <tbody>\n",
              "    <tr>\n",
              "      <th>count</th>\n",
              "      <td>91.000000</td>\n",
              "      <td>91.000000</td>\n",
              "      <td>91.000000</td>\n",
              "    </tr>\n",
              "    <tr>\n",
              "      <th>mean</th>\n",
              "      <td>0.921666</td>\n",
              "      <td>0.043115</td>\n",
              "      <td>0.035220</td>\n",
              "    </tr>\n",
              "    <tr>\n",
              "      <th>std</th>\n",
              "      <td>0.096378</td>\n",
              "      <td>0.067849</td>\n",
              "      <td>0.059902</td>\n",
              "    </tr>\n",
              "    <tr>\n",
              "      <th>min</th>\n",
              "      <td>0.586390</td>\n",
              "      <td>0.000000</td>\n",
              "      <td>0.000000</td>\n",
              "    </tr>\n",
              "    <tr>\n",
              "      <th>25%</th>\n",
              "      <td>0.900202</td>\n",
              "      <td>0.000823</td>\n",
              "      <td>0.000450</td>\n",
              "    </tr>\n",
              "    <tr>\n",
              "      <th>50%</th>\n",
              "      <td>0.955975</td>\n",
              "      <td>0.011898</td>\n",
              "      <td>0.004454</td>\n",
              "    </tr>\n",
              "    <tr>\n",
              "      <th>75%</th>\n",
              "      <td>0.991409</td>\n",
              "      <td>0.054514</td>\n",
              "      <td>0.042521</td>\n",
              "    </tr>\n",
              "    <tr>\n",
              "      <th>max</th>\n",
              "      <td>0.999601</td>\n",
              "      <td>0.292457</td>\n",
              "      <td>0.300662</td>\n",
              "    </tr>\n",
              "  </tbody>\n",
              "</table>\n",
              "</div>\n",
              "      <button class=\"colab-df-convert\" onclick=\"convertToInteractive('df-7cfe8392-c8ff-4596-a05f-1eb011ccca87')\"\n",
              "              title=\"Convert this dataframe to an interactive table.\"\n",
              "              style=\"display:none;\">\n",
              "        \n",
              "  <svg xmlns=\"http://www.w3.org/2000/svg\" height=\"24px\"viewBox=\"0 0 24 24\"\n",
              "       width=\"24px\">\n",
              "    <path d=\"M0 0h24v24H0V0z\" fill=\"none\"/>\n",
              "    <path d=\"M18.56 5.44l.94 2.06.94-2.06 2.06-.94-2.06-.94-.94-2.06-.94 2.06-2.06.94zm-11 1L8.5 8.5l.94-2.06 2.06-.94-2.06-.94L8.5 2.5l-.94 2.06-2.06.94zm10 10l.94 2.06.94-2.06 2.06-.94-2.06-.94-.94-2.06-.94 2.06-2.06.94z\"/><path d=\"M17.41 7.96l-1.37-1.37c-.4-.4-.92-.59-1.43-.59-.52 0-1.04.2-1.43.59L10.3 9.45l-7.72 7.72c-.78.78-.78 2.05 0 2.83L4 21.41c.39.39.9.59 1.41.59.51 0 1.02-.2 1.41-.59l7.78-7.78 2.81-2.81c.8-.78.8-2.07 0-2.86zM5.41 20L4 18.59l7.72-7.72 1.47 1.35L5.41 20z\"/>\n",
              "  </svg>\n",
              "      </button>\n",
              "      \n",
              "  <style>\n",
              "    .colab-df-container {\n",
              "      display:flex;\n",
              "      flex-wrap:wrap;\n",
              "      gap: 12px;\n",
              "    }\n",
              "\n",
              "    .colab-df-convert {\n",
              "      background-color: #E8F0FE;\n",
              "      border: none;\n",
              "      border-radius: 50%;\n",
              "      cursor: pointer;\n",
              "      display: none;\n",
              "      fill: #1967D2;\n",
              "      height: 32px;\n",
              "      padding: 0 0 0 0;\n",
              "      width: 32px;\n",
              "    }\n",
              "\n",
              "    .colab-df-convert:hover {\n",
              "      background-color: #E2EBFA;\n",
              "      box-shadow: 0px 1px 2px rgba(60, 64, 67, 0.3), 0px 1px 3px 1px rgba(60, 64, 67, 0.15);\n",
              "      fill: #174EA6;\n",
              "    }\n",
              "\n",
              "    [theme=dark] .colab-df-convert {\n",
              "      background-color: #3B4455;\n",
              "      fill: #D2E3FC;\n",
              "    }\n",
              "\n",
              "    [theme=dark] .colab-df-convert:hover {\n",
              "      background-color: #434B5C;\n",
              "      box-shadow: 0px 1px 3px 1px rgba(0, 0, 0, 0.15);\n",
              "      filter: drop-shadow(0px 1px 2px rgba(0, 0, 0, 0.3));\n",
              "      fill: #FFFFFF;\n",
              "    }\n",
              "  </style>\n",
              "\n",
              "      <script>\n",
              "        const buttonEl =\n",
              "          document.querySelector('#df-7cfe8392-c8ff-4596-a05f-1eb011ccca87 button.colab-df-convert');\n",
              "        buttonEl.style.display =\n",
              "          google.colab.kernel.accessAllowed ? 'block' : 'none';\n",
              "\n",
              "        async function convertToInteractive(key) {\n",
              "          const element = document.querySelector('#df-7cfe8392-c8ff-4596-a05f-1eb011ccca87');\n",
              "          const dataTable =\n",
              "            await google.colab.kernel.invokeFunction('convertToInteractive',\n",
              "                                                     [key], {});\n",
              "          if (!dataTable) return;\n",
              "\n",
              "          const docLinkHtml = 'Like what you see? Visit the ' +\n",
              "            '<a target=\"_blank\" href=https://colab.research.google.com/notebooks/data_table.ipynb>data table notebook</a>'\n",
              "            + ' to learn more about interactive tables.';\n",
              "          element.innerHTML = '';\n",
              "          dataTable['output_type'] = 'display_data';\n",
              "          await google.colab.output.renderOutput(dataTable, element);\n",
              "          const docLink = document.createElement('div');\n",
              "          docLink.innerHTML = docLinkHtml;\n",
              "          element.appendChild(docLink);\n",
              "        }\n",
              "      </script>\n",
              "    </div>\n",
              "  </div>\n",
              "  "
            ]
          },
          "metadata": {},
          "execution_count": 17
        }
      ]
    },
    {
      "cell_type": "code",
      "source": [
        "total_l = 0\n",
        "for i in range(len(anns)):\n",
        "  total_l = total_l + len(anns[i]['labels'])\n",
        "\n",
        "print(total_l)"
      ],
      "metadata": {
        "colab": {
          "base_uri": "https://localhost:8080/"
        },
        "id": "rfJ3L91WCD7l",
        "outputId": "071d155f-4447-4b44-c39f-41f86b9ee6b3"
      },
      "execution_count": 18,
      "outputs": [
        {
          "output_type": "stream",
          "name": "stdout",
          "text": [
            "244336\n"
          ]
        }
      ]
    },
    {
      "cell_type": "markdown",
      "source": [
        "calculate the percentage of the contribution of the single patient on the whole percentage of the single types of beats"
      ],
      "metadata": {
        "id": "e5sbJTOpw9Yv"
      }
    },
    {
      "cell_type": "code",
      "source": [
        "import collections\n",
        "perc_a = []\n",
        "for i in range(len(anns)):\n",
        "  c = collections.Counter(anns[i]['labels'])\n",
        "  perc_a.append([filenames[i].split('/')[-1], (c['N'] / total_l), (c['S'] / total_l), (c['V'] / total_l)])\n"
      ],
      "metadata": {
        "id": "iUQvdE3XBcv0"
      },
      "execution_count": 19,
      "outputs": []
    },
    {
      "cell_type": "code",
      "source": [
        "perc_a = pd.DataFrame(perc_a, columns = ['filename','N', 'S', 'V'])"
      ],
      "metadata": {
        "id": "NsO4KtFLCeNr"
      },
      "execution_count": 20,
      "outputs": []
    },
    {
      "cell_type": "markdown",
      "source": [
        "In this example it is possible to see that the patient 0 have about 1,5% of beats of type N"
      ],
      "metadata": {
        "id": "rcuwt8xHxLki"
      }
    },
    {
      "cell_type": "code",
      "source": [
        "perc_a.head(5)"
      ],
      "metadata": {
        "colab": {
          "base_uri": "https://localhost:8080/",
          "height": 204
        },
        "id": "ztAEhuTNCqE-",
        "outputId": "0d035a4c-a210-4648-ab79-934aeb99717f"
      },
      "execution_count": 21,
      "outputs": [
        {
          "output_type": "execute_result",
          "data": {
            "text/plain": [
              "       filename         N         S         V\n",
              "0  S001_128.mat  0.011505  0.000049  0.000115\n",
              "1  S002_128.mat  0.006994  0.002558  0.000004\n",
              "2  S003_128.mat  0.006098  0.001617  0.000221\n",
              "3  S004_128.mat  0.007146  0.000082  0.000033\n",
              "4  S005_128.mat  0.007829  0.000119  0.000000"
            ],
            "text/html": [
              "\n",
              "  <div id=\"df-67baf842-1094-4ae4-a85f-be6a9c113b50\">\n",
              "    <div class=\"colab-df-container\">\n",
              "      <div>\n",
              "<style scoped>\n",
              "    .dataframe tbody tr th:only-of-type {\n",
              "        vertical-align: middle;\n",
              "    }\n",
              "\n",
              "    .dataframe tbody tr th {\n",
              "        vertical-align: top;\n",
              "    }\n",
              "\n",
              "    .dataframe thead th {\n",
              "        text-align: right;\n",
              "    }\n",
              "</style>\n",
              "<table border=\"1\" class=\"dataframe\">\n",
              "  <thead>\n",
              "    <tr style=\"text-align: right;\">\n",
              "      <th></th>\n",
              "      <th>filename</th>\n",
              "      <th>N</th>\n",
              "      <th>S</th>\n",
              "      <th>V</th>\n",
              "    </tr>\n",
              "  </thead>\n",
              "  <tbody>\n",
              "    <tr>\n",
              "      <th>0</th>\n",
              "      <td>S001_128.mat</td>\n",
              "      <td>0.011505</td>\n",
              "      <td>0.000049</td>\n",
              "      <td>0.000115</td>\n",
              "    </tr>\n",
              "    <tr>\n",
              "      <th>1</th>\n",
              "      <td>S002_128.mat</td>\n",
              "      <td>0.006994</td>\n",
              "      <td>0.002558</td>\n",
              "      <td>0.000004</td>\n",
              "    </tr>\n",
              "    <tr>\n",
              "      <th>2</th>\n",
              "      <td>S003_128.mat</td>\n",
              "      <td>0.006098</td>\n",
              "      <td>0.001617</td>\n",
              "      <td>0.000221</td>\n",
              "    </tr>\n",
              "    <tr>\n",
              "      <th>3</th>\n",
              "      <td>S004_128.mat</td>\n",
              "      <td>0.007146</td>\n",
              "      <td>0.000082</td>\n",
              "      <td>0.000033</td>\n",
              "    </tr>\n",
              "    <tr>\n",
              "      <th>4</th>\n",
              "      <td>S005_128.mat</td>\n",
              "      <td>0.007829</td>\n",
              "      <td>0.000119</td>\n",
              "      <td>0.000000</td>\n",
              "    </tr>\n",
              "  </tbody>\n",
              "</table>\n",
              "</div>\n",
              "      <button class=\"colab-df-convert\" onclick=\"convertToInteractive('df-67baf842-1094-4ae4-a85f-be6a9c113b50')\"\n",
              "              title=\"Convert this dataframe to an interactive table.\"\n",
              "              style=\"display:none;\">\n",
              "        \n",
              "  <svg xmlns=\"http://www.w3.org/2000/svg\" height=\"24px\"viewBox=\"0 0 24 24\"\n",
              "       width=\"24px\">\n",
              "    <path d=\"M0 0h24v24H0V0z\" fill=\"none\"/>\n",
              "    <path d=\"M18.56 5.44l.94 2.06.94-2.06 2.06-.94-2.06-.94-.94-2.06-.94 2.06-2.06.94zm-11 1L8.5 8.5l.94-2.06 2.06-.94-2.06-.94L8.5 2.5l-.94 2.06-2.06.94zm10 10l.94 2.06.94-2.06 2.06-.94-2.06-.94-.94-2.06-.94 2.06-2.06.94z\"/><path d=\"M17.41 7.96l-1.37-1.37c-.4-.4-.92-.59-1.43-.59-.52 0-1.04.2-1.43.59L10.3 9.45l-7.72 7.72c-.78.78-.78 2.05 0 2.83L4 21.41c.39.39.9.59 1.41.59.51 0 1.02-.2 1.41-.59l7.78-7.78 2.81-2.81c.8-.78.8-2.07 0-2.86zM5.41 20L4 18.59l7.72-7.72 1.47 1.35L5.41 20z\"/>\n",
              "  </svg>\n",
              "      </button>\n",
              "      \n",
              "  <style>\n",
              "    .colab-df-container {\n",
              "      display:flex;\n",
              "      flex-wrap:wrap;\n",
              "      gap: 12px;\n",
              "    }\n",
              "\n",
              "    .colab-df-convert {\n",
              "      background-color: #E8F0FE;\n",
              "      border: none;\n",
              "      border-radius: 50%;\n",
              "      cursor: pointer;\n",
              "      display: none;\n",
              "      fill: #1967D2;\n",
              "      height: 32px;\n",
              "      padding: 0 0 0 0;\n",
              "      width: 32px;\n",
              "    }\n",
              "\n",
              "    .colab-df-convert:hover {\n",
              "      background-color: #E2EBFA;\n",
              "      box-shadow: 0px 1px 2px rgba(60, 64, 67, 0.3), 0px 1px 3px 1px rgba(60, 64, 67, 0.15);\n",
              "      fill: #174EA6;\n",
              "    }\n",
              "\n",
              "    [theme=dark] .colab-df-convert {\n",
              "      background-color: #3B4455;\n",
              "      fill: #D2E3FC;\n",
              "    }\n",
              "\n",
              "    [theme=dark] .colab-df-convert:hover {\n",
              "      background-color: #434B5C;\n",
              "      box-shadow: 0px 1px 3px 1px rgba(0, 0, 0, 0.15);\n",
              "      filter: drop-shadow(0px 1px 2px rgba(0, 0, 0, 0.3));\n",
              "      fill: #FFFFFF;\n",
              "    }\n",
              "  </style>\n",
              "\n",
              "      <script>\n",
              "        const buttonEl =\n",
              "          document.querySelector('#df-67baf842-1094-4ae4-a85f-be6a9c113b50 button.colab-df-convert');\n",
              "        buttonEl.style.display =\n",
              "          google.colab.kernel.accessAllowed ? 'block' : 'none';\n",
              "\n",
              "        async function convertToInteractive(key) {\n",
              "          const element = document.querySelector('#df-67baf842-1094-4ae4-a85f-be6a9c113b50');\n",
              "          const dataTable =\n",
              "            await google.colab.kernel.invokeFunction('convertToInteractive',\n",
              "                                                     [key], {});\n",
              "          if (!dataTable) return;\n",
              "\n",
              "          const docLinkHtml = 'Like what you see? Visit the ' +\n",
              "            '<a target=\"_blank\" href=https://colab.research.google.com/notebooks/data_table.ipynb>data table notebook</a>'\n",
              "            + ' to learn more about interactive tables.';\n",
              "          element.innerHTML = '';\n",
              "          dataTable['output_type'] = 'display_data';\n",
              "          await google.colab.output.renderOutput(dataTable, element);\n",
              "          const docLink = document.createElement('div');\n",
              "          docLink.innerHTML = docLinkHtml;\n",
              "          element.appendChild(docLink);\n",
              "        }\n",
              "      </script>\n",
              "    </div>\n",
              "  </div>\n",
              "  "
            ]
          },
          "metadata": {},
          "execution_count": 21
        }
      ]
    },
    {
      "cell_type": "code",
      "source": [
        "perc_a_cleaned = perc_a"
      ],
      "metadata": {
        "id": "3kE9ekn7x8tC"
      },
      "execution_count": 24,
      "outputs": []
    },
    {
      "cell_type": "code",
      "source": [
        "perc_a_cleaned.describe()"
      ],
      "metadata": {
        "colab": {
          "base_uri": "https://localhost:8080/",
          "height": 297
        },
        "id": "w3GQzBqvDnoa",
        "outputId": "36d2d3ed-7a62-44ef-8c91-64699a281854"
      },
      "execution_count": 25,
      "outputs": [
        {
          "output_type": "execute_result",
          "data": {
            "text/plain": [
              "                N           S           V\n",
              "count  105.000000  105.000000  105.000000\n",
              "mean     0.008845    0.000375    0.000304\n",
              "std      0.002106    0.000657    0.000584\n",
              "min      0.002419    0.000000    0.000000\n",
              "25%      0.007527    0.000000    0.000000\n",
              "50%      0.008656    0.000070    0.000020\n",
              "75%      0.010003    0.000426    0.000303\n",
              "max      0.017296    0.002587    0.002975"
            ],
            "text/html": [
              "\n",
              "  <div id=\"df-c94e98b7-e1ce-4f16-813f-f58da8075510\">\n",
              "    <div class=\"colab-df-container\">\n",
              "      <div>\n",
              "<style scoped>\n",
              "    .dataframe tbody tr th:only-of-type {\n",
              "        vertical-align: middle;\n",
              "    }\n",
              "\n",
              "    .dataframe tbody tr th {\n",
              "        vertical-align: top;\n",
              "    }\n",
              "\n",
              "    .dataframe thead th {\n",
              "        text-align: right;\n",
              "    }\n",
              "</style>\n",
              "<table border=\"1\" class=\"dataframe\">\n",
              "  <thead>\n",
              "    <tr style=\"text-align: right;\">\n",
              "      <th></th>\n",
              "      <th>N</th>\n",
              "      <th>S</th>\n",
              "      <th>V</th>\n",
              "    </tr>\n",
              "  </thead>\n",
              "  <tbody>\n",
              "    <tr>\n",
              "      <th>count</th>\n",
              "      <td>105.000000</td>\n",
              "      <td>105.000000</td>\n",
              "      <td>105.000000</td>\n",
              "    </tr>\n",
              "    <tr>\n",
              "      <th>mean</th>\n",
              "      <td>0.008845</td>\n",
              "      <td>0.000375</td>\n",
              "      <td>0.000304</td>\n",
              "    </tr>\n",
              "    <tr>\n",
              "      <th>std</th>\n",
              "      <td>0.002106</td>\n",
              "      <td>0.000657</td>\n",
              "      <td>0.000584</td>\n",
              "    </tr>\n",
              "    <tr>\n",
              "      <th>min</th>\n",
              "      <td>0.002419</td>\n",
              "      <td>0.000000</td>\n",
              "      <td>0.000000</td>\n",
              "    </tr>\n",
              "    <tr>\n",
              "      <th>25%</th>\n",
              "      <td>0.007527</td>\n",
              "      <td>0.000000</td>\n",
              "      <td>0.000000</td>\n",
              "    </tr>\n",
              "    <tr>\n",
              "      <th>50%</th>\n",
              "      <td>0.008656</td>\n",
              "      <td>0.000070</td>\n",
              "      <td>0.000020</td>\n",
              "    </tr>\n",
              "    <tr>\n",
              "      <th>75%</th>\n",
              "      <td>0.010003</td>\n",
              "      <td>0.000426</td>\n",
              "      <td>0.000303</td>\n",
              "    </tr>\n",
              "    <tr>\n",
              "      <th>max</th>\n",
              "      <td>0.017296</td>\n",
              "      <td>0.002587</td>\n",
              "      <td>0.002975</td>\n",
              "    </tr>\n",
              "  </tbody>\n",
              "</table>\n",
              "</div>\n",
              "      <button class=\"colab-df-convert\" onclick=\"convertToInteractive('df-c94e98b7-e1ce-4f16-813f-f58da8075510')\"\n",
              "              title=\"Convert this dataframe to an interactive table.\"\n",
              "              style=\"display:none;\">\n",
              "        \n",
              "  <svg xmlns=\"http://www.w3.org/2000/svg\" height=\"24px\"viewBox=\"0 0 24 24\"\n",
              "       width=\"24px\">\n",
              "    <path d=\"M0 0h24v24H0V0z\" fill=\"none\"/>\n",
              "    <path d=\"M18.56 5.44l.94 2.06.94-2.06 2.06-.94-2.06-.94-.94-2.06-.94 2.06-2.06.94zm-11 1L8.5 8.5l.94-2.06 2.06-.94-2.06-.94L8.5 2.5l-.94 2.06-2.06.94zm10 10l.94 2.06.94-2.06 2.06-.94-2.06-.94-.94-2.06-.94 2.06-2.06.94z\"/><path d=\"M17.41 7.96l-1.37-1.37c-.4-.4-.92-.59-1.43-.59-.52 0-1.04.2-1.43.59L10.3 9.45l-7.72 7.72c-.78.78-.78 2.05 0 2.83L4 21.41c.39.39.9.59 1.41.59.51 0 1.02-.2 1.41-.59l7.78-7.78 2.81-2.81c.8-.78.8-2.07 0-2.86zM5.41 20L4 18.59l7.72-7.72 1.47 1.35L5.41 20z\"/>\n",
              "  </svg>\n",
              "      </button>\n",
              "      \n",
              "  <style>\n",
              "    .colab-df-container {\n",
              "      display:flex;\n",
              "      flex-wrap:wrap;\n",
              "      gap: 12px;\n",
              "    }\n",
              "\n",
              "    .colab-df-convert {\n",
              "      background-color: #E8F0FE;\n",
              "      border: none;\n",
              "      border-radius: 50%;\n",
              "      cursor: pointer;\n",
              "      display: none;\n",
              "      fill: #1967D2;\n",
              "      height: 32px;\n",
              "      padding: 0 0 0 0;\n",
              "      width: 32px;\n",
              "    }\n",
              "\n",
              "    .colab-df-convert:hover {\n",
              "      background-color: #E2EBFA;\n",
              "      box-shadow: 0px 1px 2px rgba(60, 64, 67, 0.3), 0px 1px 3px 1px rgba(60, 64, 67, 0.15);\n",
              "      fill: #174EA6;\n",
              "    }\n",
              "\n",
              "    [theme=dark] .colab-df-convert {\n",
              "      background-color: #3B4455;\n",
              "      fill: #D2E3FC;\n",
              "    }\n",
              "\n",
              "    [theme=dark] .colab-df-convert:hover {\n",
              "      background-color: #434B5C;\n",
              "      box-shadow: 0px 1px 3px 1px rgba(0, 0, 0, 0.15);\n",
              "      filter: drop-shadow(0px 1px 2px rgba(0, 0, 0, 0.3));\n",
              "      fill: #FFFFFF;\n",
              "    }\n",
              "  </style>\n",
              "\n",
              "      <script>\n",
              "        const buttonEl =\n",
              "          document.querySelector('#df-c94e98b7-e1ce-4f16-813f-f58da8075510 button.colab-df-convert');\n",
              "        buttonEl.style.display =\n",
              "          google.colab.kernel.accessAllowed ? 'block' : 'none';\n",
              "\n",
              "        async function convertToInteractive(key) {\n",
              "          const element = document.querySelector('#df-c94e98b7-e1ce-4f16-813f-f58da8075510');\n",
              "          const dataTable =\n",
              "            await google.colab.kernel.invokeFunction('convertToInteractive',\n",
              "                                                     [key], {});\n",
              "          if (!dataTable) return;\n",
              "\n",
              "          const docLinkHtml = 'Like what you see? Visit the ' +\n",
              "            '<a target=\"_blank\" href=https://colab.research.google.com/notebooks/data_table.ipynb>data table notebook</a>'\n",
              "            + ' to learn more about interactive tables.';\n",
              "          element.innerHTML = '';\n",
              "          dataTable['output_type'] = 'display_data';\n",
              "          await google.colab.output.renderOutput(dataTable, element);\n",
              "          const docLink = document.createElement('div');\n",
              "          docLink.innerHTML = docLinkHtml;\n",
              "          element.appendChild(docLink);\n",
              "        }\n",
              "      </script>\n",
              "    </div>\n",
              "  </div>\n",
              "  "
            ]
          },
          "metadata": {},
          "execution_count": 25
        }
      ]
    },
    {
      "cell_type": "code",
      "source": [
        "beats_n = beats_n.loc[perc_a_cleaned.index.values]"
      ],
      "metadata": {
        "id": "5Io4O-_-jojV"
      },
      "execution_count": null,
      "outputs": []
    },
    {
      "cell_type": "code",
      "source": [
        "beats_n = beats_n.reset_index(drop = True)"
      ],
      "metadata": {
        "id": "smW43-pJj3-j"
      },
      "execution_count": null,
      "outputs": []
    },
    {
      "cell_type": "code",
      "source": [
        "perc_a_cleaned = perc_a_cleaned.reset_index(drop = True)"
      ],
      "metadata": {
        "id": "lHzBC3ABFZQj"
      },
      "execution_count": null,
      "outputs": []
    },
    {
      "cell_type": "code",
      "source": [
        "beats_n"
      ],
      "metadata": {
        "colab": {
          "base_uri": "https://localhost:8080/",
          "height": 424
        },
        "id": "Z3dcsrzMn-9l",
        "outputId": "617cdd51-eaf1-4114-ef85-248fa6965ea8"
      },
      "execution_count": null,
      "outputs": [
        {
          "output_type": "execute_result",
          "data": {
            "text/html": [
              "\n",
              "  <div id=\"df-8966b1be-82bf-49ee-b0f1-0ee87c6ca9d7\">\n",
              "    <div class=\"colab-df-container\">\n",
              "      <div>\n",
              "<style scoped>\n",
              "    .dataframe tbody tr th:only-of-type {\n",
              "        vertical-align: middle;\n",
              "    }\n",
              "\n",
              "    .dataframe tbody tr th {\n",
              "        vertical-align: top;\n",
              "    }\n",
              "\n",
              "    .dataframe thead th {\n",
              "        text-align: right;\n",
              "    }\n",
              "</style>\n",
              "<table border=\"1\" class=\"dataframe\">\n",
              "  <thead>\n",
              "    <tr style=\"text-align: right;\">\n",
              "      <th></th>\n",
              "      <th>filename</th>\n",
              "      <th>N</th>\n",
              "      <th>S</th>\n",
              "      <th>V</th>\n",
              "    </tr>\n",
              "  </thead>\n",
              "  <tbody>\n",
              "    <tr>\n",
              "      <th>0</th>\n",
              "      <td>S001_128.mat</td>\n",
              "      <td>2811</td>\n",
              "      <td>12</td>\n",
              "      <td>28</td>\n",
              "    </tr>\n",
              "    <tr>\n",
              "      <th>1</th>\n",
              "      <td>S002_128.mat</td>\n",
              "      <td>1709</td>\n",
              "      <td>625</td>\n",
              "      <td>1</td>\n",
              "    </tr>\n",
              "    <tr>\n",
              "      <th>2</th>\n",
              "      <td>S003_128.mat</td>\n",
              "      <td>1490</td>\n",
              "      <td>395</td>\n",
              "      <td>54</td>\n",
              "    </tr>\n",
              "    <tr>\n",
              "      <th>3</th>\n",
              "      <td>S004_128.mat</td>\n",
              "      <td>1746</td>\n",
              "      <td>20</td>\n",
              "      <td>8</td>\n",
              "    </tr>\n",
              "    <tr>\n",
              "      <th>4</th>\n",
              "      <td>S005_128.mat</td>\n",
              "      <td>1913</td>\n",
              "      <td>29</td>\n",
              "      <td>0</td>\n",
              "    </tr>\n",
              "    <tr>\n",
              "      <th>...</th>\n",
              "      <td>...</td>\n",
              "      <td>...</td>\n",
              "      <td>...</td>\n",
              "      <td>...</td>\n",
              "    </tr>\n",
              "    <tr>\n",
              "      <th>86</th>\n",
              "      <td>S114_250.mat</td>\n",
              "      <td>1872</td>\n",
              "      <td>0</td>\n",
              "      <td>1</td>\n",
              "    </tr>\n",
              "    <tr>\n",
              "      <th>87</th>\n",
              "      <td>S115_250.mat</td>\n",
              "      <td>2489</td>\n",
              "      <td>1</td>\n",
              "      <td>97</td>\n",
              "    </tr>\n",
              "    <tr>\n",
              "      <th>88</th>\n",
              "      <td>S116_250.mat</td>\n",
              "      <td>1874</td>\n",
              "      <td>1</td>\n",
              "      <td>4</td>\n",
              "    </tr>\n",
              "    <tr>\n",
              "      <th>89</th>\n",
              "      <td>S117_250.mat</td>\n",
              "      <td>1886</td>\n",
              "      <td>281</td>\n",
              "      <td>0</td>\n",
              "    </tr>\n",
              "    <tr>\n",
              "      <th>90</th>\n",
              "      <td>S118_250.mat</td>\n",
              "      <td>2447</td>\n",
              "      <td>0</td>\n",
              "      <td>5</td>\n",
              "    </tr>\n",
              "  </tbody>\n",
              "</table>\n",
              "<p>91 rows × 4 columns</p>\n",
              "</div>\n",
              "      <button class=\"colab-df-convert\" onclick=\"convertToInteractive('df-8966b1be-82bf-49ee-b0f1-0ee87c6ca9d7')\"\n",
              "              title=\"Convert this dataframe to an interactive table.\"\n",
              "              style=\"display:none;\">\n",
              "        \n",
              "  <svg xmlns=\"http://www.w3.org/2000/svg\" height=\"24px\"viewBox=\"0 0 24 24\"\n",
              "       width=\"24px\">\n",
              "    <path d=\"M0 0h24v24H0V0z\" fill=\"none\"/>\n",
              "    <path d=\"M18.56 5.44l.94 2.06.94-2.06 2.06-.94-2.06-.94-.94-2.06-.94 2.06-2.06.94zm-11 1L8.5 8.5l.94-2.06 2.06-.94-2.06-.94L8.5 2.5l-.94 2.06-2.06.94zm10 10l.94 2.06.94-2.06 2.06-.94-2.06-.94-.94-2.06-.94 2.06-2.06.94z\"/><path d=\"M17.41 7.96l-1.37-1.37c-.4-.4-.92-.59-1.43-.59-.52 0-1.04.2-1.43.59L10.3 9.45l-7.72 7.72c-.78.78-.78 2.05 0 2.83L4 21.41c.39.39.9.59 1.41.59.51 0 1.02-.2 1.41-.59l7.78-7.78 2.81-2.81c.8-.78.8-2.07 0-2.86zM5.41 20L4 18.59l7.72-7.72 1.47 1.35L5.41 20z\"/>\n",
              "  </svg>\n",
              "      </button>\n",
              "      \n",
              "  <style>\n",
              "    .colab-df-container {\n",
              "      display:flex;\n",
              "      flex-wrap:wrap;\n",
              "      gap: 12px;\n",
              "    }\n",
              "\n",
              "    .colab-df-convert {\n",
              "      background-color: #E8F0FE;\n",
              "      border: none;\n",
              "      border-radius: 50%;\n",
              "      cursor: pointer;\n",
              "      display: none;\n",
              "      fill: #1967D2;\n",
              "      height: 32px;\n",
              "      padding: 0 0 0 0;\n",
              "      width: 32px;\n",
              "    }\n",
              "\n",
              "    .colab-df-convert:hover {\n",
              "      background-color: #E2EBFA;\n",
              "      box-shadow: 0px 1px 2px rgba(60, 64, 67, 0.3), 0px 1px 3px 1px rgba(60, 64, 67, 0.15);\n",
              "      fill: #174EA6;\n",
              "    }\n",
              "\n",
              "    [theme=dark] .colab-df-convert {\n",
              "      background-color: #3B4455;\n",
              "      fill: #D2E3FC;\n",
              "    }\n",
              "\n",
              "    [theme=dark] .colab-df-convert:hover {\n",
              "      background-color: #434B5C;\n",
              "      box-shadow: 0px 1px 3px 1px rgba(0, 0, 0, 0.15);\n",
              "      filter: drop-shadow(0px 1px 2px rgba(0, 0, 0, 0.3));\n",
              "      fill: #FFFFFF;\n",
              "    }\n",
              "  </style>\n",
              "\n",
              "      <script>\n",
              "        const buttonEl =\n",
              "          document.querySelector('#df-8966b1be-82bf-49ee-b0f1-0ee87c6ca9d7 button.colab-df-convert');\n",
              "        buttonEl.style.display =\n",
              "          google.colab.kernel.accessAllowed ? 'block' : 'none';\n",
              "\n",
              "        async function convertToInteractive(key) {\n",
              "          const element = document.querySelector('#df-8966b1be-82bf-49ee-b0f1-0ee87c6ca9d7');\n",
              "          const dataTable =\n",
              "            await google.colab.kernel.invokeFunction('convertToInteractive',\n",
              "                                                     [key], {});\n",
              "          if (!dataTable) return;\n",
              "\n",
              "          const docLinkHtml = 'Like what you see? Visit the ' +\n",
              "            '<a target=\"_blank\" href=https://colab.research.google.com/notebooks/data_table.ipynb>data table notebook</a>'\n",
              "            + ' to learn more about interactive tables.';\n",
              "          element.innerHTML = '';\n",
              "          dataTable['output_type'] = 'display_data';\n",
              "          await google.colab.output.renderOutput(dataTable, element);\n",
              "          const docLink = document.createElement('div');\n",
              "          docLink.innerHTML = docLinkHtml;\n",
              "          element.appendChild(docLink);\n",
              "        }\n",
              "      </script>\n",
              "    </div>\n",
              "  </div>\n",
              "  "
            ],
            "text/plain": [
              "        filename     N    S   V\n",
              "0   S001_128.mat  2811   12  28\n",
              "1   S002_128.mat  1709  625   1\n",
              "2   S003_128.mat  1490  395  54\n",
              "3   S004_128.mat  1746   20   8\n",
              "4   S005_128.mat  1913   29   0\n",
              "..           ...   ...  ...  ..\n",
              "86  S114_250.mat  1872    0   1\n",
              "87  S115_250.mat  2489    1  97\n",
              "88  S116_250.mat  1874    1   4\n",
              "89  S117_250.mat  1886  281   0\n",
              "90  S118_250.mat  2447    0   5\n",
              "\n",
              "[91 rows x 4 columns]"
            ]
          },
          "metadata": {},
          "execution_count": 231
        }
      ]
    },
    {
      "cell_type": "markdown",
      "source": [
        "Shuffling the dataset before trying to extract a split"
      ],
      "metadata": {
        "id": "uRR12ztryaVH"
      }
    },
    {
      "cell_type": "code",
      "source": [
        "all = perc_a_cleaned.sample(frac = 1)"
      ],
      "metadata": {
        "id": "JtX3QO2h7Pss"
      },
      "execution_count": null,
      "outputs": []
    },
    {
      "cell_type": "code",
      "source": [
        "test = all[15 : 26]\n",
        "train = all[~all.index.isin(test.index)]"
      ],
      "metadata": {
        "id": "ewuN8JxQFFPh"
      },
      "execution_count": null,
      "outputs": []
    },
    {
      "cell_type": "code",
      "source": [
        "test = beats_n.loc[test.index.values]\n",
        "train = beats_n.loc[train.index.values]"
      ],
      "metadata": {
        "id": "jwN9_IopGg3Z"
      },
      "execution_count": null,
      "outputs": []
    },
    {
      "cell_type": "code",
      "source": [
        "set(train['filename'].values) - set(test['filename'].values) == set(train['filename'].values)"
      ],
      "metadata": {
        "colab": {
          "base_uri": "https://localhost:8080/"
        },
        "id": "Efb0fU8phppE",
        "outputId": "311e7320-65a4-4cea-aa6c-c2dade720d12"
      },
      "execution_count": null,
      "outputs": [
        {
          "output_type": "execute_result",
          "data": {
            "text/plain": [
              "True"
            ]
          },
          "metadata": {},
          "execution_count": 274
        }
      ]
    },
    {
      "cell_type": "code",
      "source": [
        "len(test) + len(train), len(perc_a_cleaned)"
      ],
      "metadata": {
        "colab": {
          "base_uri": "https://localhost:8080/"
        },
        "id": "v61jjQp-Fylh",
        "outputId": "891659f8-b58f-4078-f05f-5fa0eb332064"
      },
      "execution_count": null,
      "outputs": [
        {
          "output_type": "execute_result",
          "data": {
            "text/plain": [
              "(91, 91)"
            ]
          },
          "metadata": {},
          "execution_count": 275
        }
      ]
    },
    {
      "cell_type": "code",
      "source": [
        "test[['N', 'S', 'V']].values.sum()"
      ],
      "metadata": {
        "colab": {
          "base_uri": "https://localhost:8080/"
        },
        "id": "zG0wooKSJzqs",
        "outputId": "a1321bf9-7283-48c3-a431-15b60e6d1989"
      },
      "execution_count": null,
      "outputs": [
        {
          "output_type": "execute_result",
          "data": {
            "text/plain": [
              "25971"
            ]
          },
          "metadata": {},
          "execution_count": 276
        }
      ]
    },
    {
      "cell_type": "code",
      "source": [
        "test[['N', 'S', 'V']].sum(axis=0) * 100 / test[['N', 'S', 'V']].values.sum()"
      ],
      "metadata": {
        "colab": {
          "base_uri": "https://localhost:8080/"
        },
        "id": "RC-ul1NKJLrG",
        "outputId": "e9e72733-2ebd-49b7-f272-2609fd7bba8b"
      },
      "execution_count": null,
      "outputs": [
        {
          "output_type": "execute_result",
          "data": {
            "text/plain": [
              "N    91.613723\n",
              "S     4.763005\n",
              "V     3.623272\n",
              "dtype: float64"
            ]
          },
          "metadata": {},
          "execution_count": 277
        }
      ]
    },
    {
      "cell_type": "code",
      "source": [
        "plt.bar(['N', 'S', 'V'],[91.613723, 4.763005, 3.623272])\n",
        "plt.ylim(0,100)\n",
        "plt.title(\"Test data distribution\")"
      ],
      "metadata": {
        "colab": {
          "base_uri": "https://localhost:8080/",
          "height": 298
        },
        "id": "EiMperTt29-0",
        "outputId": "efa40267-b619-4b6c-b682-3c455723b96c"
      },
      "execution_count": 40,
      "outputs": [
        {
          "output_type": "execute_result",
          "data": {
            "text/plain": [
              "Text(0.5, 1.0, 'Test data distribution')"
            ]
          },
          "metadata": {},
          "execution_count": 40
        },
        {
          "output_type": "display_data",
          "data": {
            "text/plain": [
              "<Figure size 432x288 with 1 Axes>"
            ],
            "image/png": "[encoded data removed]"
          },
          "metadata": {
            "needs_background": "light"
          }
        }
      ]
    },
    {
      "cell_type": "code",
      "source": [
        "test"
      ],
      "metadata": {
        "colab": {
          "base_uri": "https://localhost:8080/",
          "height": 394
        },
        "id": "WgGRvMUV68ky",
        "outputId": "e259378a-63a5-43c0-bd0e-63e59cdb5f3a"
      },
      "execution_count": null,
      "outputs": [
        {
          "output_type": "execute_result",
          "data": {
            "text/html": [
              "\n",
              "  <div id=\"df-ee0a2f57-8f12-4367-9e7c-293ed1258708\">\n",
              "    <div class=\"colab-df-container\">\n",
              "      <div>\n",
              "<style scoped>\n",
              "    .dataframe tbody tr th:only-of-type {\n",
              "        vertical-align: middle;\n",
              "    }\n",
              "\n",
              "    .dataframe tbody tr th {\n",
              "        vertical-align: top;\n",
              "    }\n",
              "\n",
              "    .dataframe thead th {\n",
              "        text-align: right;\n",
              "    }\n",
              "</style>\n",
              "<table border=\"1\" class=\"dataframe\">\n",
              "  <thead>\n",
              "    <tr style=\"text-align: right;\">\n",
              "      <th></th>\n",
              "      <th>filename</th>\n",
              "      <th>N</th>\n",
              "      <th>S</th>\n",
              "      <th>V</th>\n",
              "    </tr>\n",
              "  </thead>\n",
              "  <tbody>\n",
              "    <tr>\n",
              "      <th>37</th>\n",
              "      <td>S038_128.mat</td>\n",
              "      <td>1744</td>\n",
              "      <td>19</td>\n",
              "      <td>130</td>\n",
              "    </tr>\n",
              "    <tr>\n",
              "      <th>11</th>\n",
              "      <td>S012_128.mat</td>\n",
              "      <td>1327</td>\n",
              "      <td>629</td>\n",
              "      <td>307</td>\n",
              "    </tr>\n",
              "    <tr>\n",
              "      <th>73</th>\n",
              "      <td>S095_250.mat</td>\n",
              "      <td>2618</td>\n",
              "      <td>414</td>\n",
              "      <td>6</td>\n",
              "    </tr>\n",
              "    <tr>\n",
              "      <th>51</th>\n",
              "      <td>S052_128.mat</td>\n",
              "      <td>1776</td>\n",
              "      <td>12</td>\n",
              "      <td>8</td>\n",
              "    </tr>\n",
              "    <tr>\n",
              "      <th>48</th>\n",
              "      <td>S049_128.mat</td>\n",
              "      <td>1898</td>\n",
              "      <td>9</td>\n",
              "      <td>74</td>\n",
              "    </tr>\n",
              "    <tr>\n",
              "      <th>68</th>\n",
              "      <td>S084_250.mat</td>\n",
              "      <td>2285</td>\n",
              "      <td>0</td>\n",
              "      <td>62</td>\n",
              "    </tr>\n",
              "    <tr>\n",
              "      <th>23</th>\n",
              "      <td>S024_128.mat</td>\n",
              "      <td>1773</td>\n",
              "      <td>40</td>\n",
              "      <td>7</td>\n",
              "    </tr>\n",
              "    <tr>\n",
              "      <th>69</th>\n",
              "      <td>S087_250.mat</td>\n",
              "      <td>4047</td>\n",
              "      <td>0</td>\n",
              "      <td>3</td>\n",
              "    </tr>\n",
              "    <tr>\n",
              "      <th>39</th>\n",
              "      <td>S040_128.mat</td>\n",
              "      <td>1650</td>\n",
              "      <td>59</td>\n",
              "      <td>0</td>\n",
              "    </tr>\n",
              "    <tr>\n",
              "      <th>81</th>\n",
              "      <td>S105_250.mat</td>\n",
              "      <td>2189</td>\n",
              "      <td>2</td>\n",
              "      <td>0</td>\n",
              "    </tr>\n",
              "    <tr>\n",
              "      <th>36</th>\n",
              "      <td>S037_128.mat</td>\n",
              "      <td>2486</td>\n",
              "      <td>53</td>\n",
              "      <td>344</td>\n",
              "    </tr>\n",
              "  </tbody>\n",
              "</table>\n",
              "</div>\n",
              "      <button class=\"colab-df-convert\" onclick=\"convertToInteractive('df-ee0a2f57-8f12-4367-9e7c-293ed1258708')\"\n",
              "              title=\"Convert this dataframe to an interactive table.\"\n",
              "              style=\"display:none;\">\n",
              "        \n",
              "  <svg xmlns=\"http://www.w3.org/2000/svg\" height=\"24px\"viewBox=\"0 0 24 24\"\n",
              "       width=\"24px\">\n",
              "    <path d=\"M0 0h24v24H0V0z\" fill=\"none\"/>\n",
              "    <path d=\"M18.56 5.44l.94 2.06.94-2.06 2.06-.94-2.06-.94-.94-2.06-.94 2.06-2.06.94zm-11 1L8.5 8.5l.94-2.06 2.06-.94-2.06-.94L8.5 2.5l-.94 2.06-2.06.94zm10 10l.94 2.06.94-2.06 2.06-.94-2.06-.94-.94-2.06-.94 2.06-2.06.94z\"/><path d=\"M17.41 7.96l-1.37-1.37c-.4-.4-.92-.59-1.43-.59-.52 0-1.04.2-1.43.59L10.3 9.45l-7.72 7.72c-.78.78-.78 2.05 0 2.83L4 21.41c.39.39.9.59 1.41.59.51 0 1.02-.2 1.41-.59l7.78-7.78 2.81-2.81c.8-.78.8-2.07 0-2.86zM5.41 20L4 18.59l7.72-7.72 1.47 1.35L5.41 20z\"/>\n",
              "  </svg>\n",
              "      </button>\n",
              "      \n",
              "  <style>\n",
              "    .colab-df-container {\n",
              "      display:flex;\n",
              "      flex-wrap:wrap;\n",
              "      gap: 12px;\n",
              "    }\n",
              "\n",
              "    .colab-df-convert {\n",
              "      background-color: #E8F0FE;\n",
              "      border: none;\n",
              "      border-radius: 50%;\n",
              "      cursor: pointer;\n",
              "      display: none;\n",
              "      fill: #1967D2;\n",
              "      height: 32px;\n",
              "      padding: 0 0 0 0;\n",
              "      width: 32px;\n",
              "    }\n",
              "\n",
              "    .colab-df-convert:hover {\n",
              "      background-color: #E2EBFA;\n",
              "      box-shadow: 0px 1px 2px rgba(60, 64, 67, 0.3), 0px 1px 3px 1px rgba(60, 64, 67, 0.15);\n",
              "      fill: #174EA6;\n",
              "    }\n",
              "\n",
              "    [theme=dark] .colab-df-convert {\n",
              "      background-color: #3B4455;\n",
              "      fill: #D2E3FC;\n",
              "    }\n",
              "\n",
              "    [theme=dark] .colab-df-convert:hover {\n",
              "      background-color: #434B5C;\n",
              "      box-shadow: 0px 1px 3px 1px rgba(0, 0, 0, 0.15);\n",
              "      filter: drop-shadow(0px 1px 2px rgba(0, 0, 0, 0.3));\n",
              "      fill: #FFFFFF;\n",
              "    }\n",
              "  </style>\n",
              "\n",
              "      <script>\n",
              "        const buttonEl =\n",
              "          document.querySelector('#df-ee0a2f57-8f12-4367-9e7c-293ed1258708 button.colab-df-convert');\n",
              "        buttonEl.style.display =\n",
              "          google.colab.kernel.accessAllowed ? 'block' : 'none';\n",
              "\n",
              "        async function convertToInteractive(key) {\n",
              "          const element = document.querySelector('#df-ee0a2f57-8f12-4367-9e7c-293ed1258708');\n",
              "          const dataTable =\n",
              "            await google.colab.kernel.invokeFunction('convertToInteractive',\n",
              "                                                     [key], {});\n",
              "          if (!dataTable) return;\n",
              "\n",
              "          const docLinkHtml = 'Like what you see? Visit the ' +\n",
              "            '<a target=\"_blank\" href=https://colab.research.google.com/notebooks/data_table.ipynb>data table notebook</a>'\n",
              "            + ' to learn more about interactive tables.';\n",
              "          element.innerHTML = '';\n",
              "          dataTable['output_type'] = 'display_data';\n",
              "          await google.colab.output.renderOutput(dataTable, element);\n",
              "          const docLink = document.createElement('div');\n",
              "          docLink.innerHTML = docLinkHtml;\n",
              "          element.appendChild(docLink);\n",
              "        }\n",
              "      </script>\n",
              "    </div>\n",
              "  </div>\n",
              "  "
            ],
            "text/plain": [
              "        filename     N    S    V\n",
              "37  S038_128.mat  1744   19  130\n",
              "11  S012_128.mat  1327  629  307\n",
              "73  S095_250.mat  2618  414    6\n",
              "51  S052_128.mat  1776   12    8\n",
              "48  S049_128.mat  1898    9   74\n",
              "68  S084_250.mat  2285    0   62\n",
              "23  S024_128.mat  1773   40    7\n",
              "69  S087_250.mat  4047    0    3\n",
              "39  S040_128.mat  1650   59    0\n",
              "81  S105_250.mat  2189    2    0\n",
              "36  S037_128.mat  2486   53  344"
            ]
          },
          "metadata": {},
          "execution_count": 278
        }
      ]
    },
    {
      "cell_type": "code",
      "source": [
        "train[['N', 'S', 'V']].sum(axis = 0) * 100 / train[['N', 'S', 'V']].values.sum()"
      ],
      "metadata": {
        "colab": {
          "base_uri": "https://localhost:8080/"
        },
        "id": "1Bw6bU19HTgT",
        "outputId": "35326728-3800-416e-a393-a11406100525"
      },
      "execution_count": null,
      "outputs": [
        {
          "output_type": "execute_result",
          "data": {
            "text/plain": [
              "N    91.844802\n",
              "S     4.484127\n",
              "V     3.671071\n",
              "dtype: float64"
            ]
          },
          "metadata": {},
          "execution_count": 279
        }
      ]
    },
    {
      "cell_type": "code",
      "source": [
        "plt.bar(['N', 'S', 'V'],[91.844802, 4.484127, 3.671071])\n",
        "plt.ylim(0,100)\n",
        "plt.title(\"Development set data distribution\")"
      ],
      "metadata": {
        "colab": {
          "base_uri": "https://localhost:8080/",
          "height": 298
        },
        "id": "ZA3Csljd3Lmc",
        "outputId": "5ecd0088-5864-4632-8199-7691171b2971"
      },
      "execution_count": 42,
      "outputs": [
        {
          "output_type": "execute_result",
          "data": {
            "text/plain": [
              "Text(0.5, 1.0, 'Development set data distribution')"
            ]
          },
          "metadata": {},
          "execution_count": 42
        },
        {
          "output_type": "display_data",
          "data": {
            "text/plain": [
              "<Figure size 432x288 with 1 Axes>"
            ],
            "image/png": "[encoded data removed]"
          },
          "metadata": {
            "needs_background": "light"
          }
        }
      ]
    },
    {
      "cell_type": "markdown",
      "source": [
        "Calculate the dimension of the training set and validation set considering that we are interested in hold-out 20% of the patients"
      ],
      "metadata": {
        "id": "GuwYPjdXyq5h"
      }
    },
    {
      "cell_type": "code",
      "source": [
        "len(train) * 0.2"
      ],
      "metadata": {
        "colab": {
          "base_uri": "https://localhost:8080/"
        },
        "id": "7C-otOP5R3ka",
        "outputId": "17cdeb87-5bda-4f47-e5e4-0aa29d987f5e"
      },
      "execution_count": null,
      "outputs": [
        {
          "output_type": "execute_result",
          "data": {
            "text/plain": [
              "16.0"
            ]
          },
          "metadata": {},
          "execution_count": 280
        }
      ]
    },
    {
      "cell_type": "code",
      "source": [
        "len(train) - 16"
      ],
      "metadata": {
        "colab": {
          "base_uri": "https://localhost:8080/"
        },
        "id": "FoE0ChMrR9RQ",
        "outputId": "059528fa-222c-4a23-e2aa-d843c16519d9"
      },
      "execution_count": null,
      "outputs": [
        {
          "output_type": "execute_result",
          "data": {
            "text/plain": [
              "64"
            ]
          },
          "metadata": {},
          "execution_count": 281
        }
      ]
    },
    {
      "cell_type": "code",
      "source": [
        "beats_n = beats_n.loc[train.index.values]"
      ],
      "metadata": {
        "id": "wAMMdqEckHm5"
      },
      "execution_count": null,
      "outputs": []
    },
    {
      "cell_type": "code",
      "source": [
        "beats_n = beats_n.reset_index(drop = True)"
      ],
      "metadata": {
        "id": "qrPc8jZfkMqK"
      },
      "execution_count": null,
      "outputs": []
    },
    {
      "cell_type": "code",
      "source": [
        "train = train.reset_index(drop = True)"
      ],
      "metadata": {
        "id": "ZGkDMn02T_sW"
      },
      "execution_count": null,
      "outputs": []
    },
    {
      "cell_type": "code",
      "source": [
        "develop = train"
      ],
      "metadata": {
        "id": "E3XMO9qBTwi0"
      },
      "execution_count": null,
      "outputs": []
    },
    {
      "cell_type": "code",
      "source": [
        "develop"
      ],
      "metadata": {
        "colab": {
          "base_uri": "https://localhost:8080/",
          "height": 424
        },
        "id": "FchNFpLLo-5J",
        "outputId": "11a5468a-a0bf-44e7-bc3e-00d522b489c8"
      },
      "execution_count": null,
      "outputs": [
        {
          "output_type": "execute_result",
          "data": {
            "text/html": [
              "\n",
              "  <div id=\"df-8021d10e-2805-4be4-a45a-66f1b44b239b\">\n",
              "    <div class=\"colab-df-container\">\n",
              "      <div>\n",
              "<style scoped>\n",
              "    .dataframe tbody tr th:only-of-type {\n",
              "        vertical-align: middle;\n",
              "    }\n",
              "\n",
              "    .dataframe tbody tr th {\n",
              "        vertical-align: top;\n",
              "    }\n",
              "\n",
              "    .dataframe thead th {\n",
              "        text-align: right;\n",
              "    }\n",
              "</style>\n",
              "<table border=\"1\" class=\"dataframe\">\n",
              "  <thead>\n",
              "    <tr style=\"text-align: right;\">\n",
              "      <th></th>\n",
              "      <th>filename</th>\n",
              "      <th>N</th>\n",
              "      <th>S</th>\n",
              "      <th>V</th>\n",
              "    </tr>\n",
              "  </thead>\n",
              "  <tbody>\n",
              "    <tr>\n",
              "      <th>0</th>\n",
              "      <td>S116_250.mat</td>\n",
              "      <td>1874</td>\n",
              "      <td>1</td>\n",
              "      <td>4</td>\n",
              "    </tr>\n",
              "    <tr>\n",
              "      <th>1</th>\n",
              "      <td>S010_128.mat</td>\n",
              "      <td>1794</td>\n",
              "      <td>460</td>\n",
              "      <td>477</td>\n",
              "    </tr>\n",
              "    <tr>\n",
              "      <th>2</th>\n",
              "      <td>S039_128.mat</td>\n",
              "      <td>2119</td>\n",
              "      <td>48</td>\n",
              "      <td>64</td>\n",
              "    </tr>\n",
              "    <tr>\n",
              "      <th>3</th>\n",
              "      <td>S022_128.mat</td>\n",
              "      <td>1661</td>\n",
              "      <td>20</td>\n",
              "      <td>0</td>\n",
              "    </tr>\n",
              "    <tr>\n",
              "      <th>4</th>\n",
              "      <td>S097_250.mat</td>\n",
              "      <td>2407</td>\n",
              "      <td>2</td>\n",
              "      <td>4</td>\n",
              "    </tr>\n",
              "    <tr>\n",
              "      <th>...</th>\n",
              "      <td>...</td>\n",
              "      <td>...</td>\n",
              "      <td>...</td>\n",
              "      <td>...</td>\n",
              "    </tr>\n",
              "    <tr>\n",
              "      <th>75</th>\n",
              "      <td>S006_128.mat</td>\n",
              "      <td>1472</td>\n",
              "      <td>48</td>\n",
              "      <td>542</td>\n",
              "    </tr>\n",
              "    <tr>\n",
              "      <th>76</th>\n",
              "      <td>S117_250.mat</td>\n",
              "      <td>1886</td>\n",
              "      <td>281</td>\n",
              "      <td>0</td>\n",
              "    </tr>\n",
              "    <tr>\n",
              "      <th>77</th>\n",
              "      <td>S047_128.mat</td>\n",
              "      <td>1830</td>\n",
              "      <td>8</td>\n",
              "      <td>0</td>\n",
              "    </tr>\n",
              "    <tr>\n",
              "      <th>78</th>\n",
              "      <td>S079_250.mat</td>\n",
              "      <td>2555</td>\n",
              "      <td>0</td>\n",
              "      <td>10</td>\n",
              "    </tr>\n",
              "    <tr>\n",
              "      <th>79</th>\n",
              "      <td>S096_250.mat</td>\n",
              "      <td>2358</td>\n",
              "      <td>0</td>\n",
              "      <td>1</td>\n",
              "    </tr>\n",
              "  </tbody>\n",
              "</table>\n",
              "<p>80 rows × 4 columns</p>\n",
              "</div>\n",
              "      <button class=\"colab-df-convert\" onclick=\"convertToInteractive('df-8021d10e-2805-4be4-a45a-66f1b44b239b')\"\n",
              "              title=\"Convert this dataframe to an interactive table.\"\n",
              "              style=\"display:none;\">\n",
              "        \n",
              "  <svg xmlns=\"http://www.w3.org/2000/svg\" height=\"24px\"viewBox=\"0 0 24 24\"\n",
              "       width=\"24px\">\n",
              "    <path d=\"M0 0h24v24H0V0z\" fill=\"none\"/>\n",
              "    <path d=\"M18.56 5.44l.94 2.06.94-2.06 2.06-.94-2.06-.94-.94-2.06-.94 2.06-2.06.94zm-11 1L8.5 8.5l.94-2.06 2.06-.94-2.06-.94L8.5 2.5l-.94 2.06-2.06.94zm10 10l.94 2.06.94-2.06 2.06-.94-2.06-.94-.94-2.06-.94 2.06-2.06.94z\"/><path d=\"M17.41 7.96l-1.37-1.37c-.4-.4-.92-.59-1.43-.59-.52 0-1.04.2-1.43.59L10.3 9.45l-7.72 7.72c-.78.78-.78 2.05 0 2.83L4 21.41c.39.39.9.59 1.41.59.51 0 1.02-.2 1.41-.59l7.78-7.78 2.81-2.81c.8-.78.8-2.07 0-2.86zM5.41 20L4 18.59l7.72-7.72 1.47 1.35L5.41 20z\"/>\n",
              "  </svg>\n",
              "      </button>\n",
              "      \n",
              "  <style>\n",
              "    .colab-df-container {\n",
              "      display:flex;\n",
              "      flex-wrap:wrap;\n",
              "      gap: 12px;\n",
              "    }\n",
              "\n",
              "    .colab-df-convert {\n",
              "      background-color: #E8F0FE;\n",
              "      border: none;\n",
              "      border-radius: 50%;\n",
              "      cursor: pointer;\n",
              "      display: none;\n",
              "      fill: #1967D2;\n",
              "      height: 32px;\n",
              "      padding: 0 0 0 0;\n",
              "      width: 32px;\n",
              "    }\n",
              "\n",
              "    .colab-df-convert:hover {\n",
              "      background-color: #E2EBFA;\n",
              "      box-shadow: 0px 1px 2px rgba(60, 64, 67, 0.3), 0px 1px 3px 1px rgba(60, 64, 67, 0.15);\n",
              "      fill: #174EA6;\n",
              "    }\n",
              "\n",
              "    [theme=dark] .colab-df-convert {\n",
              "      background-color: #3B4455;\n",
              "      fill: #D2E3FC;\n",
              "    }\n",
              "\n",
              "    [theme=dark] .colab-df-convert:hover {\n",
              "      background-color: #434B5C;\n",
              "      box-shadow: 0px 1px 3px 1px rgba(0, 0, 0, 0.15);\n",
              "      filter: drop-shadow(0px 1px 2px rgba(0, 0, 0, 0.3));\n",
              "      fill: #FFFFFF;\n",
              "    }\n",
              "  </style>\n",
              "\n",
              "      <script>\n",
              "        const buttonEl =\n",
              "          document.querySelector('#df-8021d10e-2805-4be4-a45a-66f1b44b239b button.colab-df-convert');\n",
              "        buttonEl.style.display =\n",
              "          google.colab.kernel.accessAllowed ? 'block' : 'none';\n",
              "\n",
              "        async function convertToInteractive(key) {\n",
              "          const element = document.querySelector('#df-8021d10e-2805-4be4-a45a-66f1b44b239b');\n",
              "          const dataTable =\n",
              "            await google.colab.kernel.invokeFunction('convertToInteractive',\n",
              "                                                     [key], {});\n",
              "          if (!dataTable) return;\n",
              "\n",
              "          const docLinkHtml = 'Like what you see? Visit the ' +\n",
              "            '<a target=\"_blank\" href=https://colab.research.google.com/notebooks/data_table.ipynb>data table notebook</a>'\n",
              "            + ' to learn more about interactive tables.';\n",
              "          element.innerHTML = '';\n",
              "          dataTable['output_type'] = 'display_data';\n",
              "          await google.colab.output.renderOutput(dataTable, element);\n",
              "          const docLink = document.createElement('div');\n",
              "          docLink.innerHTML = docLinkHtml;\n",
              "          element.appendChild(docLink);\n",
              "        }\n",
              "      </script>\n",
              "    </div>\n",
              "  </div>\n",
              "  "
            ],
            "text/plain": [
              "        filename     N    S    V\n",
              "0   S116_250.mat  1874    1    4\n",
              "1   S010_128.mat  1794  460  477\n",
              "2   S039_128.mat  2119   48   64\n",
              "3   S022_128.mat  1661   20    0\n",
              "4   S097_250.mat  2407    2    4\n",
              "..           ...   ...  ...  ...\n",
              "75  S006_128.mat  1472   48  542\n",
              "76  S117_250.mat  1886  281    0\n",
              "77  S047_128.mat  1830    8    0\n",
              "78  S079_250.mat  2555    0   10\n",
              "79  S096_250.mat  2358    0    1\n",
              "\n",
              "[80 rows x 4 columns]"
            ]
          },
          "metadata": {},
          "execution_count": 286
        }
      ]
    },
    {
      "cell_type": "code",
      "source": [
        "#12"
      ],
      "metadata": {
        "id": "9lZNI3EQVHtQ"
      },
      "execution_count": null,
      "outputs": []
    },
    {
      "cell_type": "code",
      "source": [
        "train = develop.sample(frac = 1)"
      ],
      "metadata": {
        "id": "rSvw6wQeVdwC"
      },
      "execution_count": null,
      "outputs": []
    },
    {
      "cell_type": "code",
      "source": [
        "#win = 10"
      ],
      "metadata": {
        "id": "6wn04umlU9AZ"
      },
      "execution_count": null,
      "outputs": []
    },
    {
      "cell_type": "code",
      "source": [
        "set(develop['filename'].values) - set(test['filename'].values) == set(develop['filename'].values)"
      ],
      "metadata": {
        "colab": {
          "base_uri": "https://localhost:8080/"
        },
        "id": "cHiED6wKjYlv",
        "outputId": "b1abc069-7795-4035-d8c4-a45d1b64f122"
      },
      "execution_count": null,
      "outputs": [
        {
          "output_type": "execute_result",
          "data": {
            "text/plain": [
              "True"
            ]
          },
          "metadata": {},
          "execution_count": 392
        }
      ]
    },
    {
      "cell_type": "code",
      "source": [
        "valid = train.loc[train.index.values[15 : 31]]\n",
        "train_s = train.loc[~train.index.isin(valid.index)]"
      ],
      "metadata": {
        "id": "55xRaIn2RwIt"
      },
      "execution_count": null,
      "outputs": []
    },
    {
      "cell_type": "code",
      "source": [
        "len(valid) + len(train_s), len(develop)"
      ],
      "metadata": {
        "colab": {
          "base_uri": "https://localhost:8080/"
        },
        "id": "lEFU0WN9Tqj4",
        "outputId": "39bc13b6-2aff-4264-f649-72fd9296ceaa"
      },
      "execution_count": null,
      "outputs": [
        {
          "output_type": "execute_result",
          "data": {
            "text/plain": [
              "(80, 80)"
            ]
          },
          "metadata": {},
          "execution_count": 394
        }
      ]
    },
    {
      "cell_type": "code",
      "source": [
        "valid = beats_n.loc[valid.index.values]\n",
        "train_s = beats_n.loc[train_s.index.values]"
      ],
      "metadata": {
        "id": "famF8prkSd-c"
      },
      "execution_count": null,
      "outputs": []
    },
    {
      "cell_type": "code",
      "source": [
        "set(valid['filename'].values) - set(test['filename'].values) == set(valid['filename'].values)"
      ],
      "metadata": {
        "colab": {
          "base_uri": "https://localhost:8080/"
        },
        "id": "EeBm3Y5_iorB",
        "outputId": "3032f731-93f7-4c6a-8780-fe513956a5dd"
      },
      "execution_count": null,
      "outputs": [
        {
          "output_type": "execute_result",
          "data": {
            "text/plain": [
              "True"
            ]
          },
          "metadata": {},
          "execution_count": 396
        }
      ]
    },
    {
      "cell_type": "code",
      "source": [
        "valid[['N', 'S', 'V']].sum(axis=0) * 100 / valid[['N', 'S', 'V']].values.sum()"
      ],
      "metadata": {
        "colab": {
          "base_uri": "https://localhost:8080/"
        },
        "outputId": "31711f84-55cb-472e-b3f1-1b8fa5bd9752",
        "id": "1deYXbskStLr"
      },
      "execution_count": null,
      "outputs": [
        {
          "output_type": "execute_result",
          "data": {
            "text/plain": [
              "N    92.067167\n",
              "S     4.711166\n",
              "V     3.221667\n",
              "dtype: float64"
            ]
          },
          "metadata": {},
          "execution_count": 397
        }
      ]
    },
    {
      "cell_type": "code",
      "source": [
        "plt.bar(['N', 'S', 'V'],[92.067167,4.711166, 3.221667])\n",
        "plt.ylim(0,100)\n",
        "plt.title(\"Validation data distribution\")"
      ],
      "metadata": {
        "colab": {
          "base_uri": "https://localhost:8080/",
          "height": 298
        },
        "id": "WbRXSwdI3bct",
        "outputId": "d6d155e1-13f7-4cad-b8da-18674c0cd1fe"
      },
      "execution_count": 43,
      "outputs": [
        {
          "output_type": "execute_result",
          "data": {
            "text/plain": [
              "Text(0.5, 1.0, 'Validation data distribution')"
            ]
          },
          "metadata": {},
          "execution_count": 43
        },
        {
          "output_type": "display_data",
          "data": {
            "text/plain": [
              "<Figure size 432x288 with 1 Axes>"
            ],
            "image/png": "[encoded data removed]"
          },
          "metadata": {
            "needs_background": "light"
          }
        }
      ]
    },
    {
      "cell_type": "code",
      "source": [
        "train_s[['N', 'S', 'V']].sum(axis = 0) * 100 / train_s[['N', 'S', 'V']].values.sum()"
      ],
      "metadata": {
        "colab": {
          "base_uri": "https://localhost:8080/"
        },
        "outputId": "62418e60-5fcc-4cc1-d109-6e0604566538",
        "id": "xeNQhS2SStLr"
      },
      "execution_count": null,
      "outputs": [
        {
          "output_type": "execute_result",
          "data": {
            "text/plain": [
              "N    91.791955\n",
              "S     4.430170\n",
              "V     3.777875\n",
              "dtype: float64"
            ]
          },
          "metadata": {},
          "execution_count": 398
        }
      ]
    },
    {
      "cell_type": "code",
      "source": [
        "plt.bar(['N', 'S', 'V'],[91.791955,4.430170, 3.777875])\n",
        "plt.ylim(0,100)\n",
        "plt.title(\"Train data distribution\")"
      ],
      "metadata": {
        "colab": {
          "base_uri": "https://localhost:8080/",
          "height": 298
        },
        "id": "cNse5kyi3lkK",
        "outputId": "00b7bfdb-5bd0-4e94-8b5d-067dde572d44"
      },
      "execution_count": 45,
      "outputs": [
        {
          "output_type": "execute_result",
          "data": {
            "text/plain": [
              "Text(0.5, 1.0, 'Train data distribution')"
            ]
          },
          "metadata": {},
          "execution_count": 45
        },
        {
          "output_type": "display_data",
          "data": {
            "text/plain": [
              "<Figure size 432x288 with 1 Axes>"
            ],
            "image/png": "[encoded data removed]"
          },
          "metadata": {
            "needs_background": "light"
          }
        }
      ]
    },
    {
      "cell_type": "markdown",
      "source": [
        "## Produced Split"
      ],
      "metadata": {
        "id": "ajFPIpq8zgFt"
      }
    },
    {
      "cell_type": "code",
      "source": [
        "train_s['filename'].values"
      ],
      "metadata": {
        "colab": {
          "base_uri": "https://localhost:8080/"
        },
        "id": "tRNRcUjuXIuh",
        "outputId": "9e4342ed-fdde-418e-f0a9-edf4eac0dbe3"
      },
      "execution_count": null,
      "outputs": [
        {
          "output_type": "execute_result",
          "data": {
            "text/plain": [
              "array(['S043_128.mat', 'S059_128.mat', 'S117_250.mat', 'S042_128.mat',\n",
              "       'S004_128.mat', 'S039_128.mat', 'S050_128.mat', 'S002_128.mat',\n",
              "       'S097_250.mat', 'S003_128.mat', 'S006_128.mat', 'S047_128.mat',\n",
              "       'S041_128.mat', 'S083_250.mat', 'S007_128.mat', 'S056_128.mat',\n",
              "       'S102_250.mat', 'S093_250.mat', 'S022_128.mat', 'S008_128.mat',\n",
              "       'S116_250.mat', 'S035_128.mat', 'S115_250.mat', 'S001_128.mat',\n",
              "       'S060_128.mat', 'S026_128.mat', 'S030_128.mat', 'S063_128.mat',\n",
              "       'S045_128.mat', 'S044_128.mat', 'S009_128.mat', 'S027_128.mat',\n",
              "       'S061_128.mat', 'S028_128.mat', 'S079_250.mat', 'S107_250.mat',\n",
              "       'S058_128.mat', 'S092_250.mat', 'S112_250.mat', 'S104_250.mat',\n",
              "       'S017_128.mat', 'S082_250.mat', 'S016_128.mat', 'S064_128.mat',\n",
              "       'S114_250.mat', 'S062_128.mat', 'S051_128.mat', 'S005_128.mat',\n",
              "       'S108_250.mat', 'S020_128.mat', 'S054_128.mat', 'S057_128.mat',\n",
              "       'S065_128.mat', 'S118_250.mat', 'S010_128.mat', 'S033_128.mat',\n",
              "       'S048_128.mat', 'S032_128.mat', 'S046_128.mat', 'S034_128.mat',\n",
              "       'S015_128.mat', 'S013_128.mat', 'S111_250.mat', 'S103_250.mat'],\n",
              "      dtype=object)"
            ]
          },
          "metadata": {},
          "execution_count": 399
        }
      ]
    },
    {
      "cell_type": "code",
      "source": [
        "valid['filename'].values"
      ],
      "metadata": {
        "colab": {
          "base_uri": "https://localhost:8080/"
        },
        "id": "4ananSdEXMZq",
        "outputId": "6acb4042-1a1a-47f8-b3ec-550a49b77b1d"
      },
      "execution_count": null,
      "outputs": [
        {
          "output_type": "execute_result",
          "data": {
            "text/plain": [
              "array(['S014_128.mat', 'S029_128.mat', 'S023_128.mat', 'S098_250.mat',\n",
              "       'S019_128.mat', 'S094_250.mat', 'S018_128.mat', 'S055_128.mat',\n",
              "       'S021_128.mat', 'S031_128.mat', 'S096_250.mat', 'S025_128.mat',\n",
              "       'S053_128.mat', 'S101_250.mat', 'S036_128.mat', 'S011_128.mat'],\n",
              "      dtype=object)"
            ]
          },
          "metadata": {},
          "execution_count": 400
        }
      ]
    },
    {
      "cell_type": "code",
      "source": [
        "test['filename'].values"
      ],
      "metadata": {
        "colab": {
          "base_uri": "https://localhost:8080/"
        },
        "id": "uEn-dutjXP5a",
        "outputId": "0672f3ce-dcc0-4fca-b466-252f84b3cfde"
      },
      "execution_count": null,
      "outputs": [
        {
          "output_type": "execute_result",
          "data": {
            "text/plain": [
              "array(['S038_128.mat', 'S012_128.mat', 'S095_250.mat', 'S052_128.mat',\n",
              "       'S049_128.mat', 'S084_250.mat', 'S024_128.mat', 'S087_250.mat',\n",
              "       'S040_128.mat', 'S105_250.mat', 'S037_128.mat'], dtype=object)"
            ]
          },
          "metadata": {},
          "execution_count": 401
        }
      ]
    },
    {
      "cell_type": "markdown",
      "source": [
        "check that all the splits have the empty interection and correct length"
      ],
      "metadata": {
        "id": "QGwybfy2zltX"
      }
    },
    {
      "cell_type": "code",
      "source": [
        "set(train_s['filename'].values) - set(test['filename'].values) == set(train_s['filename'].values)"
      ],
      "metadata": {
        "colab": {
          "base_uri": "https://localhost:8080/"
        },
        "id": "OwcI2qqEkl3L",
        "outputId": "993f55ab-5040-40d5-f9b1-be25aad0385a"
      },
      "execution_count": null,
      "outputs": [
        {
          "output_type": "execute_result",
          "data": {
            "text/plain": [
              "True"
            ]
          },
          "metadata": {},
          "execution_count": 402
        }
      ]
    },
    {
      "cell_type": "code",
      "source": [
        "set(train_s['filename'].values) - set(valid['filename'].values) == set(train_s['filename'].values)"
      ],
      "metadata": {
        "colab": {
          "base_uri": "https://localhost:8080/"
        },
        "id": "gmO9wecqlDeE",
        "outputId": "a317265c-a5c9-4f0b-cd0b-2b28cdcf606b"
      },
      "execution_count": null,
      "outputs": [
        {
          "output_type": "execute_result",
          "data": {
            "text/plain": [
              "True"
            ]
          },
          "metadata": {},
          "execution_count": 403
        }
      ]
    },
    {
      "cell_type": "code",
      "source": [
        "set(valid['filename'].values) - set(test['filename'].values) == set(valid['filename'].values)"
      ],
      "metadata": {
        "colab": {
          "base_uri": "https://localhost:8080/"
        },
        "id": "s8hXVuE6lIDa",
        "outputId": "c5bc43b7-93e3-46fc-b073-37f51285ecd3"
      },
      "execution_count": null,
      "outputs": [
        {
          "output_type": "execute_result",
          "data": {
            "text/plain": [
              "True"
            ]
          },
          "metadata": {},
          "execution_count": 404
        }
      ]
    },
    {
      "cell_type": "code",
      "source": [
        "len(train_s) + len(valid) + len(test)"
      ],
      "metadata": {
        "colab": {
          "base_uri": "https://localhost:8080/"
        },
        "id": "kptjJvyus4Uc",
        "outputId": "53c08e5b-d6a4-4acc-cc1d-fc8d7b3a3192"
      },
      "execution_count": null,
      "outputs": [
        {
          "output_type": "execute_result",
          "data": {
            "text/plain": [
              "91"
            ]
          },
          "metadata": {},
          "execution_count": 405
        }
      ]
    }
  ]
}