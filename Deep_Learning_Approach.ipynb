{
  "cells": [
    {
      "cell_type": "markdown",
      "metadata": {
        "id": "tUL-tACwlkKT"
      },
      "source": [
        "This Notebook contains an ECG classification approach using Convolutional Neural Network."
      ]
    },
    {
      "cell_type": "code",
      "source": [
        "from google.colab import drive\n",
        "drive.mount('/content/drive')"
      ],
      "metadata": {
        "colab": {
          "base_uri": "https://localhost:8080/"
        },
        "id": "vZEYLfN4ncnG",
        "outputId": "ef79e09c-1700-4241-ba78-f5b456da5deb"
      },
      "execution_count": 1,
      "outputs": [
        {
          "output_type": "stream",
          "name": "stdout",
          "text": [
            "Mounted at /content/drive\n"
          ]
        }
      ]
    },
    {
      "cell_type": "code",
      "execution_count": 2,
      "metadata": {
        "id": "bdVz8qahlkKX"
      },
      "outputs": [],
      "source": [
        "input_dir = \"/content/drive/MyDrive/AppliedAIinBiomedicine/final-assignment/training_set_splitted/train\""
      ]
    },
    {
      "cell_type": "code",
      "execution_count": 3,
      "metadata": {
        "colab": {
          "base_uri": "https://localhost:8080/"
        },
        "id": "MmGesOxIlkKY",
        "outputId": "2c32de69-a7dc-47aa-a8b4-2af2a19d9211"
      },
      "outputs": [
        {
          "output_type": "stream",
          "name": "stdout",
          "text": [
            "['S001_128.mat', 'S001_128_ann.mat', 'S001_128_rpk.mat', 'S002_128.mat', 'S002_128_ann.mat', 'S002_128_rpk.mat', 'S003_128.mat', 'S003_128_ann.mat', 'S003_128_rpk.mat', 'S004_128.mat', 'S004_128_ann.mat', 'S004_128_rpk.mat', 'S005_128.mat', 'S005_128_ann.mat', 'S005_128_rpk.mat', 'S006_128.mat', 'S006_128_ann.mat', 'S006_128_rpk.mat', 'S007_128.mat', 'S007_128_ann.mat', 'S007_128_rpk.mat', 'S008_128.mat', 'S008_128_ann.mat', 'S008_128_rpk.mat', 'S009_128.mat', 'S009_128_ann.mat', 'S009_128_rpk.mat', 'S010_128.mat', 'S010_128_ann.mat', 'S010_128_rpk.mat', 'S011_128.mat', 'S011_128_ann.mat', 'S011_128_rpk.mat', 'S012_128.mat', 'S012_128_ann.mat', 'S012_128_rpk.mat', 'S013_128.mat', 'S013_128_ann.mat', 'S013_128_rpk.mat', 'S014_128.mat', 'S014_128_ann.mat', 'S014_128_rpk.mat', 'S015_128.mat', 'S015_128_ann.mat', 'S015_128_rpk.mat', 'S016_128.mat', 'S016_128_ann.mat', 'S016_128_rpk.mat', 'S017_128.mat', 'S017_128_ann.mat', 'S017_128_rpk.mat', 'S018_128.mat', 'S018_128_ann.mat', 'S018_128_rpk.mat', 'S019_128.mat', 'S019_128_ann.mat', 'S019_128_rpk.mat', 'S020_128.mat', 'S020_128_ann.mat', 'S020_128_rpk.mat', 'S021_128.mat', 'S021_128_ann.mat', 'S021_128_rpk.mat', 'S022_128.mat', 'S022_128_ann.mat', 'S022_128_rpk.mat', 'S023_128.mat', 'S023_128_ann.mat', 'S023_128_rpk.mat', 'S024_128.mat', 'S024_128_ann.mat', 'S024_128_rpk.mat', 'S025_128.mat', 'S025_128_ann.mat', 'S025_128_rpk.mat', 'S026_128.mat', 'S026_128_ann.mat', 'S026_128_rpk.mat', 'S027_128.mat', 'S027_128_ann.mat', 'S027_128_rpk.mat', 'S028_128.mat', 'S028_128_ann.mat', 'S028_128_rpk.mat', 'S029_128.mat', 'S029_128_ann.mat', 'S029_128_rpk.mat', 'S030_128.mat', 'S030_128_ann.mat', 'S030_128_rpk.mat', 'S031_128.mat', 'S031_128_ann.mat', 'S031_128_rpk.mat', 'S032_128.mat', 'S032_128_ann.mat', 'S032_128_rpk.mat', 'S033_128.mat', 'S033_128_ann.mat', 'S033_128_rpk.mat', 'S034_128.mat', 'S034_128_ann.mat', 'S034_128_rpk.mat', 'S035_128.mat', 'S035_128_ann.mat', 'S035_128_rpk.mat', 'S036_128.mat', 'S036_128_ann.mat', 'S036_128_rpk.mat', 'S037_128.mat', 'S037_128_ann.mat', 'S037_128_rpk.mat', 'S038_128.mat', 'S038_128_ann.mat', 'S038_128_rpk.mat', 'S039_128.mat', 'S039_128_ann.mat', 'S039_128_rpk.mat', 'S040_128.mat', 'S040_128_ann.mat', 'S040_128_rpk.mat', 'S041_128.mat', 'S041_128_ann.mat', 'S041_128_rpk.mat', 'S042_128.mat', 'S042_128_ann.mat', 'S042_128_rpk.mat', 'S043_128.mat', 'S043_128_ann.mat', 'S043_128_rpk.mat', 'S044_128.mat', 'S044_128_ann.mat', 'S044_128_rpk.mat', 'S045_128.mat', 'S045_128_ann.mat', 'S045_128_rpk.mat', 'S046_128.mat', 'S046_128_ann.mat', 'S046_128_rpk.mat', 'S047_128.mat', 'S047_128_ann.mat', 'S047_128_rpk.mat', 'S048_128.mat', 'S048_128_ann.mat', 'S048_128_rpk.mat', 'S049_128.mat', 'S049_128_ann.mat', 'S049_128_rpk.mat', 'S050_128.mat', 'S050_128_ann.mat', 'S050_128_rpk.mat', 'S051_128.mat', 'S051_128_ann.mat', 'S051_128_rpk.mat', 'S052_128.mat', 'S052_128_ann.mat', 'S052_128_rpk.mat', 'S053_128.mat', 'S053_128_ann.mat', 'S053_128_rpk.mat', 'S054_128.mat', 'S054_128_ann.mat', 'S054_128_rpk.mat', 'S055_128.mat', 'S055_128_ann.mat', 'S055_128_rpk.mat', 'S056_128.mat', 'S056_128_ann.mat', 'S056_128_rpk.mat', 'S057_128.mat', 'S057_128_ann.mat', 'S057_128_rpk.mat', 'S058_128.mat', 'S058_128_ann.mat', 'S058_128_rpk.mat', 'S059_128.mat', 'S059_128_ann.mat', 'S059_128_rpk.mat', 'S060_128.mat', 'S060_128_ann.mat', 'S060_128_rpk.mat', 'S061_128.mat', 'S061_128_ann.mat', 'S061_128_rpk.mat', 'S062_128.mat', 'S062_128_ann.mat', 'S062_128_rpk.mat', 'S063_128.mat', 'S063_128_ann.mat', 'S063_128_rpk.mat', 'S064_128.mat', 'S064_128_ann.mat', 'S064_128_rpk.mat', 'S065_128.mat', 'S065_128_ann.mat', 'S065_128_rpk.mat', 'S079_250.mat', 'S079_250_ann.mat', 'S079_250_rpk.mat', 'S080_250.mat', 'S080_250_ann.mat', 'S080_250_rpk.mat', 'S081_250.mat', 'S081_250_ann.mat', 'S081_250_rpk.mat', 'S082_250.mat', 'S082_250_ann.mat', 'S082_250_rpk.mat', 'S083_250.mat', 'S083_250_ann.mat', 'S083_250_rpk.mat', 'S084_250.mat', 'S084_250_ann.mat', 'S084_250_rpk.mat', 'S085_250.mat', 'S085_250_ann.mat', 'S085_250_rpk.mat', 'S086_250.mat', 'S086_250_ann.mat', 'S086_250_rpk.mat', 'S087_250.mat', 'S087_250_ann.mat', 'S087_250_rpk.mat', 'S088_250.mat', 'S088_250_ann.mat', 'S088_250_rpk.mat', 'S089_250.mat', 'S089_250_ann.mat', 'S089_250_rpk.mat', 'S090_250.mat', 'S090_250_ann.mat', 'S090_250_rpk.mat', 'S091_250.mat', 'S091_250_ann.mat', 'S091_250_rpk.mat', 'S092_250.mat', 'S092_250_ann.mat', 'S092_250_rpk.mat', 'S093_250.mat', 'S093_250_ann.mat', 'S093_250_rpk.mat', 'S094_250.mat', 'S094_250_ann.mat', 'S094_250_rpk.mat', 'S095_250.mat', 'S095_250_ann.mat', 'S095_250_rpk.mat', 'S096_250.mat', 'S096_250_ann.mat', 'S096_250_rpk.mat', 'S097_250.mat', 'S097_250_ann.mat', 'S097_250_rpk.mat', 'S098_250.mat', 'S098_250_ann.mat', 'S098_250_rpk.mat', 'S099_250.mat', 'S099_250_ann.mat', 'S099_250_rpk.mat', 'S100_250.mat', 'S100_250_ann.mat', 'S100_250_rpk.mat', 'S101_250.mat', 'S101_250_ann.mat', 'S101_250_rpk.mat', 'S102_250.mat', 'S102_250_ann.mat', 'S102_250_rpk.mat', 'S103_250.mat', 'S103_250_ann.mat', 'S103_250_rpk.mat']\n"
          ]
        }
      ],
      "source": [
        "import os\n",
        "\n",
        "# list the data present in the dataset\n",
        "dirs = sorted(os.listdir(input_dir))\n",
        "print(dirs)"
      ]
    },
    {
      "cell_type": "code",
      "execution_count": 4,
      "metadata": {
        "id": "1v75W2VBlkKZ"
      },
      "outputs": [],
      "source": [
        "# environment setup\n",
        "from scipy.io import loadmat\n",
        "import numpy as np, os, sys, joblib\n",
        "import matplotlib.pyplot as plt\n",
        "import math\n",
        "from tqdm import tqdm\n",
        "import pandas as pd\n",
        "import random\n",
        "\n",
        "#Setting random seed for reproducibility\n",
        "#Remember to use always SEED for the functions that requires it (like Scikit models)\n",
        "SEED = 1234\n",
        "np.random.seed(SEED)\n",
        "pd.core.common._random_stat = SEED\n",
        "random.seed(SEED)\n",
        "os.environ['PYTHONHASHSEED'] = str(SEED)"
      ]
    },
    {
      "cell_type": "code",
      "execution_count": 5,
      "metadata": {
        "id": "7qpFjnqplkKa"
      },
      "outputs": [],
      "source": [
        "# Utility function to load data\n",
        "\n",
        "def load_data(ecg_file):\n",
        "  ecg = loadmat(ecg_file)\n",
        "  rpk_file = ecg_file.replace('.mat', '_rpk.mat')\n",
        "  rpk = loadmat(rpk_file)\n",
        "  ann_file = ecg_file.replace('.mat', '_ann.mat')\n",
        "  ann = loadmat(ann_file)\n",
        "  return ecg, rpk, ann"
      ]
    },
    {
      "cell_type": "code",
      "execution_count": 6,
      "metadata": {
        "colab": {
          "base_uri": "https://localhost:8080/"
        },
        "id": "DQH3PLmulkKb",
        "outputId": "ee68beb3-5ff3-41a2-93ec-2889d8456808"
      },
      "outputs": [
        {
          "output_type": "stream",
          "name": "stdout",
          "text": [
            "Loading file: 90/90"
          ]
        }
      ],
      "source": [
        "# Get the ecg file for each sample and create a list of all ecgs\n",
        "ecg_files = []\n",
        "\n",
        "for f in dirs:\n",
        "  g = input_dir+'/'+f\n",
        "  if g.find('_ann') == -1 and g.find('_rpk') == -1:\n",
        "   ecg_files.append(g)\n",
        "\n",
        "num_files = len(ecg_files)\n",
        "# Create lists that will contains each data types (ecg, labels, rpeaks) an filenames (a list which contains the original filename for each sample)\n",
        "filenames = list()\n",
        "ecgs = list()\n",
        "rpks = list()\n",
        "anns = list()\n",
        "\n",
        "for i in range(num_files):\n",
        "  ecg, rpk, ann = load_data(ecg_files[i])\n",
        "  print(\n",
        "        \"\\rLoading file: {}/{}\"\n",
        "            .format(i+1, num_files),\n",
        "        end=\"\"\n",
        "    )\n",
        "  ecgs.append(ecg)\n",
        "  rpks.append(rpk)\n",
        "  anns.append(ann)\n",
        "  filenames.append(ecg_files[i])\n",
        "\n",
        "#ecg = np.asarray(loadmat(g)['ecg'], dtype=np.float64)\n",
        "#rpk = np.asarray(loadmat(input_dir + \"/S083_250_rpk.mat\")['rpeaks'], dtype=np.float64)\n",
        "#ann = np.asarray(loadmat(input_dir + \"/S083_250_ann.mat\")['labels'])"
      ]
    },
    {
      "cell_type": "code",
      "execution_count": 7,
      "metadata": {
        "colab": {
          "base_uri": "https://localhost:8080/"
        },
        "id": "5ll2Gb0mlkKb",
        "outputId": "c73ba907-7666-4424-ce2f-b61ff2052636"
      },
      "outputs": [
        {
          "output_type": "stream",
          "name": "stdout",
          "text": [
            "Collecting neurokit2\n",
            "  Downloading neurokit2-0.1.5-py2.py3-none-any.whl (1.1 MB)\n",
            "\u001b[?25l\r\u001b[K     |▎                               | 10 kB 16.6 MB/s eta 0:00:01\r\u001b[K     |▋                               | 20 kB 9.4 MB/s eta 0:00:01\r\u001b[K     |█                               | 30 kB 7.9 MB/s eta 0:00:01\r\u001b[K     |█▏                              | 40 kB 7.3 MB/s eta 0:00:01\r\u001b[K     |█▌                              | 51 kB 5.5 MB/s eta 0:00:01\r\u001b[K     |█▉                              | 61 kB 5.4 MB/s eta 0:00:01\r\u001b[K     |██                              | 71 kB 5.2 MB/s eta 0:00:01\r\u001b[K     |██▍                             | 81 kB 5.8 MB/s eta 0:00:01\r\u001b[K     |██▊                             | 92 kB 6.0 MB/s eta 0:00:01\r\u001b[K     |███                             | 102 kB 5.3 MB/s eta 0:00:01\r\u001b[K     |███▎                            | 112 kB 5.3 MB/s eta 0:00:01\r\u001b[K     |███▋                            | 122 kB 5.3 MB/s eta 0:00:01\r\u001b[K     |███▉                            | 133 kB 5.3 MB/s eta 0:00:01\r\u001b[K     |████▏                           | 143 kB 5.3 MB/s eta 0:00:01\r\u001b[K     |████▌                           | 153 kB 5.3 MB/s eta 0:00:01\r\u001b[K     |████▉                           | 163 kB 5.3 MB/s eta 0:00:01\r\u001b[K     |█████                           | 174 kB 5.3 MB/s eta 0:00:01\r\u001b[K     |█████▍                          | 184 kB 5.3 MB/s eta 0:00:01\r\u001b[K     |█████▊                          | 194 kB 5.3 MB/s eta 0:00:01\r\u001b[K     |██████                          | 204 kB 5.3 MB/s eta 0:00:01\r\u001b[K     |██████▎                         | 215 kB 5.3 MB/s eta 0:00:01\r\u001b[K     |██████▋                         | 225 kB 5.3 MB/s eta 0:00:01\r\u001b[K     |██████▉                         | 235 kB 5.3 MB/s eta 0:00:01\r\u001b[K     |███████▏                        | 245 kB 5.3 MB/s eta 0:00:01\r\u001b[K     |███████▌                        | 256 kB 5.3 MB/s eta 0:00:01\r\u001b[K     |███████▊                        | 266 kB 5.3 MB/s eta 0:00:01\r\u001b[K     |████████                        | 276 kB 5.3 MB/s eta 0:00:01\r\u001b[K     |████████▍                       | 286 kB 5.3 MB/s eta 0:00:01\r\u001b[K     |████████▊                       | 296 kB 5.3 MB/s eta 0:00:01\r\u001b[K     |█████████                       | 307 kB 5.3 MB/s eta 0:00:01\r\u001b[K     |█████████▎                      | 317 kB 5.3 MB/s eta 0:00:01\r\u001b[K     |█████████▋                      | 327 kB 5.3 MB/s eta 0:00:01\r\u001b[K     |█████████▉                      | 337 kB 5.3 MB/s eta 0:00:01\r\u001b[K     |██████████▏                     | 348 kB 5.3 MB/s eta 0:00:01\r\u001b[K     |██████████▌                     | 358 kB 5.3 MB/s eta 0:00:01\r\u001b[K     |██████████▊                     | 368 kB 5.3 MB/s eta 0:00:01\r\u001b[K     |███████████                     | 378 kB 5.3 MB/s eta 0:00:01\r\u001b[K     |███████████▍                    | 389 kB 5.3 MB/s eta 0:00:01\r\u001b[K     |███████████▋                    | 399 kB 5.3 MB/s eta 0:00:01\r\u001b[K     |████████████                    | 409 kB 5.3 MB/s eta 0:00:01\r\u001b[K     |████████████▎                   | 419 kB 5.3 MB/s eta 0:00:01\r\u001b[K     |████████████▋                   | 430 kB 5.3 MB/s eta 0:00:01\r\u001b[K     |████████████▉                   | 440 kB 5.3 MB/s eta 0:00:01\r\u001b[K     |█████████████▏                  | 450 kB 5.3 MB/s eta 0:00:01\r\u001b[K     |█████████████▌                  | 460 kB 5.3 MB/s eta 0:00:01\r\u001b[K     |█████████████▊                  | 471 kB 5.3 MB/s eta 0:00:01\r\u001b[K     |██████████████                  | 481 kB 5.3 MB/s eta 0:00:01\r\u001b[K     |██████████████▍                 | 491 kB 5.3 MB/s eta 0:00:01\r\u001b[K     |██████████████▋                 | 501 kB 5.3 MB/s eta 0:00:01\r\u001b[K     |███████████████                 | 512 kB 5.3 MB/s eta 0:00:01\r\u001b[K     |███████████████▎                | 522 kB 5.3 MB/s eta 0:00:01\r\u001b[K     |███████████████▌                | 532 kB 5.3 MB/s eta 0:00:01\r\u001b[K     |███████████████▉                | 542 kB 5.3 MB/s eta 0:00:01\r\u001b[K     |████████████████▏               | 552 kB 5.3 MB/s eta 0:00:01\r\u001b[K     |████████████████▌               | 563 kB 5.3 MB/s eta 0:00:01\r\u001b[K     |████████████████▊               | 573 kB 5.3 MB/s eta 0:00:01\r\u001b[K     |█████████████████               | 583 kB 5.3 MB/s eta 0:00:01\r\u001b[K     |█████████████████▍              | 593 kB 5.3 MB/s eta 0:00:01\r\u001b[K     |█████████████████▋              | 604 kB 5.3 MB/s eta 0:00:01\r\u001b[K     |██████████████████              | 614 kB 5.3 MB/s eta 0:00:01\r\u001b[K     |██████████████████▎             | 624 kB 5.3 MB/s eta 0:00:01\r\u001b[K     |██████████████████▌             | 634 kB 5.3 MB/s eta 0:00:01\r\u001b[K     |██████████████████▉             | 645 kB 5.3 MB/s eta 0:00:01\r\u001b[K     |███████████████████▏            | 655 kB 5.3 MB/s eta 0:00:01\r\u001b[K     |███████████████████▍            | 665 kB 5.3 MB/s eta 0:00:01\r\u001b[K     |███████████████████▊            | 675 kB 5.3 MB/s eta 0:00:01\r\u001b[K     |████████████████████            | 686 kB 5.3 MB/s eta 0:00:01\r\u001b[K     |████████████████████▍           | 696 kB 5.3 MB/s eta 0:00:01\r\u001b[K     |████████████████████▋           | 706 kB 5.3 MB/s eta 0:00:01\r\u001b[K     |█████████████████████           | 716 kB 5.3 MB/s eta 0:00:01\r\u001b[K     |█████████████████████▎          | 727 kB 5.3 MB/s eta 0:00:01\r\u001b[K     |█████████████████████▌          | 737 kB 5.3 MB/s eta 0:00:01\r\u001b[K     |█████████████████████▉          | 747 kB 5.3 MB/s eta 0:00:01\r\u001b[K     |██████████████████████▏         | 757 kB 5.3 MB/s eta 0:00:01\r\u001b[K     |██████████████████████▍         | 768 kB 5.3 MB/s eta 0:00:01\r\u001b[K     |██████████████████████▊         | 778 kB 5.3 MB/s eta 0:00:01\r\u001b[K     |███████████████████████         | 788 kB 5.3 MB/s eta 0:00:01\r\u001b[K     |███████████████████████▎        | 798 kB 5.3 MB/s eta 0:00:01\r\u001b[K     |███████████████████████▋        | 808 kB 5.3 MB/s eta 0:00:01\r\u001b[K     |████████████████████████        | 819 kB 5.3 MB/s eta 0:00:01\r\u001b[K     |████████████████████████▏       | 829 kB 5.3 MB/s eta 0:00:01\r\u001b[K     |████████████████████████▌       | 839 kB 5.3 MB/s eta 0:00:01\r\u001b[K     |████████████████████████▉       | 849 kB 5.3 MB/s eta 0:00:01\r\u001b[K     |█████████████████████████▏      | 860 kB 5.3 MB/s eta 0:00:01\r\u001b[K     |█████████████████████████▍      | 870 kB 5.3 MB/s eta 0:00:01\r\u001b[K     |█████████████████████████▊      | 880 kB 5.3 MB/s eta 0:00:01\r\u001b[K     |██████████████████████████      | 890 kB 5.3 MB/s eta 0:00:01\r\u001b[K     |██████████████████████████▎     | 901 kB 5.3 MB/s eta 0:00:01\r\u001b[K     |██████████████████████████▋     | 911 kB 5.3 MB/s eta 0:00:01\r\u001b[K     |███████████████████████████     | 921 kB 5.3 MB/s eta 0:00:01\r\u001b[K     |███████████████████████████▏    | 931 kB 5.3 MB/s eta 0:00:01\r\u001b[K     |███████████████████████████▌    | 942 kB 5.3 MB/s eta 0:00:01\r\u001b[K     |███████████████████████████▉    | 952 kB 5.3 MB/s eta 0:00:01\r\u001b[K     |████████████████████████████    | 962 kB 5.3 MB/s eta 0:00:01\r\u001b[K     |████████████████████████████▍   | 972 kB 5.3 MB/s eta 0:00:01\r\u001b[K     |████████████████████████████▊   | 983 kB 5.3 MB/s eta 0:00:01\r\u001b[K     |█████████████████████████████   | 993 kB 5.3 MB/s eta 0:00:01\r\u001b[K     |█████████████████████████████▎  | 1.0 MB 5.3 MB/s eta 0:00:01\r\u001b[K     |█████████████████████████████▋  | 1.0 MB 5.3 MB/s eta 0:00:01\r\u001b[K     |██████████████████████████████  | 1.0 MB 5.3 MB/s eta 0:00:01\r\u001b[K     |██████████████████████████████▏ | 1.0 MB 5.3 MB/s eta 0:00:01\r\u001b[K     |██████████████████████████████▌ | 1.0 MB 5.3 MB/s eta 0:00:01\r\u001b[K     |██████████████████████████████▉ | 1.1 MB 5.3 MB/s eta 0:00:01\r\u001b[K     |███████████████████████████████ | 1.1 MB 5.3 MB/s eta 0:00:01\r\u001b[K     |███████████████████████████████▍| 1.1 MB 5.3 MB/s eta 0:00:01\r\u001b[K     |███████████████████████████████▊| 1.1 MB 5.3 MB/s eta 0:00:01\r\u001b[K     |████████████████████████████████| 1.1 MB 5.3 MB/s eta 0:00:01\r\u001b[K     |████████████████████████████████| 1.1 MB 5.3 MB/s \n",
            "\u001b[?25hCollecting tdqm\n",
            "  Downloading tdqm-0.0.1.tar.gz (1.4 kB)\n",
            "Requirement already satisfied: scikit-learn in /usr/local/lib/python3.7/dist-packages (from neurokit2) (1.0.1)\n",
            "Requirement already satisfied: pandas in /usr/local/lib/python3.7/dist-packages (from neurokit2) (1.1.5)\n",
            "Requirement already satisfied: matplotlib in /usr/local/lib/python3.7/dist-packages (from neurokit2) (3.2.2)\n",
            "Requirement already satisfied: scipy in /usr/local/lib/python3.7/dist-packages (from neurokit2) (1.4.1)\n",
            "Requirement already satisfied: numpy in /usr/local/lib/python3.7/dist-packages (from neurokit2) (1.19.5)\n",
            "Requirement already satisfied: tqdm in /usr/local/lib/python3.7/dist-packages (from tdqm) (4.62.3)\n",
            "Requirement already satisfied: pyparsing!=2.0.4,!=2.1.2,!=2.1.6,>=2.0.1 in /usr/local/lib/python3.7/dist-packages (from matplotlib->neurokit2) (3.0.6)\n",
            "Requirement already satisfied: cycler>=0.10 in /usr/local/lib/python3.7/dist-packages (from matplotlib->neurokit2) (0.11.0)\n",
            "Requirement already satisfied: kiwisolver>=1.0.1 in /usr/local/lib/python3.7/dist-packages (from matplotlib->neurokit2) (1.3.2)\n",
            "Requirement already satisfied: python-dateutil>=2.1 in /usr/local/lib/python3.7/dist-packages (from matplotlib->neurokit2) (2.8.2)\n",
            "Requirement already satisfied: six>=1.5 in /usr/local/lib/python3.7/dist-packages (from python-dateutil>=2.1->matplotlib->neurokit2) (1.15.0)\n",
            "Requirement already satisfied: pytz>=2017.2 in /usr/local/lib/python3.7/dist-packages (from pandas->neurokit2) (2018.9)\n",
            "Requirement already satisfied: joblib>=0.11 in /usr/local/lib/python3.7/dist-packages (from scikit-learn->neurokit2) (1.1.0)\n",
            "Requirement already satisfied: threadpoolctl>=2.0.0 in /usr/local/lib/python3.7/dist-packages (from scikit-learn->neurokit2) (3.0.0)\n",
            "Building wheels for collected packages: tdqm\n",
            "  Building wheel for tdqm (setup.py) ... \u001b[?25l\u001b[?25hdone\n",
            "  Created wheel for tdqm: filename=tdqm-0.0.1-py3-none-any.whl size=1323 sha256=95091171f95d4aba64426e1c8af2a0002eaf4829501204d6f08c5b98f3c8bdf7\n",
            "  Stored in directory: /root/.cache/pip/wheels/c6/f0/d9/9fa5ff78c0f9d5a0a427bbbb4893c283520ddfccb885ea2205\n",
            "Successfully built tdqm\n",
            "Installing collected packages: tdqm, neurokit2\n",
            "Successfully installed neurokit2-0.1.5 tdqm-0.0.1\n"
          ]
        }
      ],
      "source": [
        "! pip install neurokit2 tdqm"
      ]
    },
    {
      "cell_type": "code",
      "execution_count": 8,
      "metadata": {
        "id": "lnAQE2p5lkKc"
      },
      "outputs": [],
      "source": [
        "import neurokit2 as nk"
      ]
    },
    {
      "cell_type": "code",
      "execution_count": 9,
      "metadata": {
        "id": "3vBZTGQ1lkKd"
      },
      "outputs": [],
      "source": [
        "# Utility: given the filename of a signal it returns the sampling frequency\n",
        "def ecg_freq(filename):\n",
        "  if '128' in filename:\n",
        "    return 128\n",
        "  else:\n",
        "    return 250"
      ]
    },
    {
      "cell_type": "code",
      "execution_count": 10,
      "metadata": {
        "colab": {
          "base_uri": "https://localhost:8080/"
        },
        "id": "eFyw1AE8lkKd",
        "outputId": "609faa31-6e0b-46d6-cf84-0f3156d5d2b0"
      },
      "outputs": [
        {
          "output_type": "stream",
          "name": "stderr",
          "text": [
            "100%|██████████| 90/90 [13:24<00:00,  8.94s/it]\n"
          ]
        }
      ],
      "source": [
        "# Try to extract each single heartbeat\n",
        "\n",
        "# list of list that contains all heartbeats divided by patient\n",
        "patient_heartbeats = []\n",
        "\n",
        "for i in tqdm(range(len(ecgs))):\n",
        "  # extract a sample ecgd\n",
        "  ecg_sample = np.asarray(ecgs[i]['ecg'], dtype=np.float64)\n",
        "  sampling = ecg_freq(filenames[i])\n",
        "  #ecg_sample_= np.arange(0, ecg_sample.shape[0]/sampling, 1/sampling)\n",
        "  # clean ecg_sample\n",
        "  ecg_signal_l1 = nk.ecg_clean(ecg_sample[:,0], sampling_rate=sampling, method='neurokit2')\n",
        "  \n",
        "  #Extract peaks from traning set and their labels\n",
        "  sample_rpeaks = rpks[i]['rpeaks'] \n",
        "  # Handling last beats (if last rpeak is >= to current ecg lenght, we remove it)\n",
        "  add_padding=False\n",
        "  if sample_rpeaks[-1] >= len(ecg_signal_l1):\n",
        "    #sample_labels = sample_labels[:-1]\n",
        "    sample_rpeaks = sample_rpeaks[:-1] \n",
        "    add_padding = True\n",
        "  rpeaks = {'ECG_R_Peaks': sample_rpeaks.flatten(), 'sampling_rate': sampling}\n",
        "\n",
        "  # extract heartbeats of current ecg\n",
        "  ecg_heartbeats_l1 = nk.ecg_segment(ecg_cleaned=ecg_signal_l1, rpeaks=rpeaks['ECG_R_Peaks'], sampling_rate=sampling)\n",
        "\n",
        "  if(add_padding == True): #If we cannot extract the last beat, we replicate the last good beat\n",
        "   ecg_heartbeats_l1[str(int(list(ecg_heartbeats_l1.keys())[-1]) + 1)] = ecg_heartbeats_l1[list(ecg_heartbeats_l1.keys())[-1]]\n",
        "\n",
        "  patient_heartbeats.append(ecg_heartbeats_l1)"
      ]
    },
    {
      "cell_type": "code",
      "execution_count": 11,
      "metadata": {
        "id": "c8DTrOs-lkKe"
      },
      "outputs": [],
      "source": [
        "#load the heartbeats inside an array\n",
        "heartbeats = []\n",
        "\n",
        "for p in range(len(patient_heartbeats)):\n",
        " for b in patient_heartbeats[p].keys():\n",
        "  heartbeats.append(list(patient_heartbeats[p][b].Signal))"
      ]
    },
    {
      "cell_type": "code",
      "execution_count": 12,
      "metadata": {
        "id": "oXUByr6flkKf"
      },
      "outputs": [],
      "source": [
        "#removing nan values and substituting them with 0s\n",
        "for i in range(len(heartbeats)):\n",
        "    for j in range(len(heartbeats[i])):\n",
        "        if(str(heartbeats[i][j]) == 'nan'):\n",
        "            heartbeats[i][j] = 0"
      ]
    },
    {
      "cell_type": "code",
      "execution_count": 13,
      "metadata": {
        "id": "7BMswt4hlkKf"
      },
      "outputs": [],
      "source": [
        "classes_name = ['N', 'S', 'V']"
      ]
    },
    {
      "cell_type": "code",
      "execution_count": 14,
      "metadata": {
        "id": "4soQtAhFlkKf"
      },
      "outputs": [],
      "source": [
        "# list which contains all labels of each beat\n",
        "all_labels = []\n",
        "\n",
        "for sample in anns:\n",
        "  for beat in sample['labels']:\n",
        "    all_labels.append(beat)"
      ]
    },
    {
      "cell_type": "code",
      "execution_count": 15,
      "metadata": {
        "colab": {
          "base_uri": "https://localhost:8080/"
        },
        "id": "KWDMbxuDlkKg",
        "outputId": "fe42ab07-554c-47ea-9fde-0f46108bc854"
      },
      "outputs": [
        {
          "output_type": "stream",
          "name": "stdout",
          "text": [
            "213024\n",
            "213024\n"
          ]
        }
      ],
      "source": [
        "print(len(all_labels))\n",
        "print(len(heartbeats))"
      ]
    },
    {
      "cell_type": "code",
      "execution_count": 16,
      "metadata": {
        "colab": {
          "base_uri": "https://localhost:8080/",
          "height": 265
        },
        "id": "xKwV1I4jlkKg",
        "outputId": "356c59db-22f7-450a-ccb9-2c7aa4eefe6b"
      },
      "outputs": [
        {
          "output_type": "display_data",
          "data": {
            "image/png": "[encoded data removed]",
            "text/plain": [
              "<Figure size 432x288 with 1 Axes>"
            ]
          },
          "metadata": {
            "needs_background": "light"
          }
        }
      ],
      "source": [
        "lengths = []\n",
        "for b in heartbeats:\n",
        "   lengths.append(len(b))\n",
        "\n",
        "import matplotlib.pyplot as plt\n",
        "\n",
        "plt.plot(lengths)\n",
        "\n",
        "max_len = max(lengths)"
      ]
    },
    {
      "cell_type": "code",
      "execution_count": 17,
      "metadata": {
        "id": "zgMLuKnplkKg"
      },
      "outputs": [],
      "source": [
        "import tensorflow as tf\n",
        "#pad heartbeats in order to have the same dimension\n",
        "heartbeats = tf.keras.preprocessing.sequence.pad_sequences(heartbeats, maxlen=max_len, dtype='float32', truncating='post',padding=\"post\")"
      ]
    },
    {
      "cell_type": "code",
      "execution_count": null,
      "metadata": {
        "id": "7njxCSVKlkKh"
      },
      "outputs": [],
      "source": [
        "#features = dict(patient_heartbeats = heartbeats, target = all_labels)"
      ]
    },
    {
      "cell_type": "code",
      "execution_count": null,
      "metadata": {
        "id": "PuTk1hcjlkKh"
      },
      "outputs": [],
      "source": [
        "#features_df = pd.DataFrame(dict([ (k,pd.Series(v)) for k,v in features.items() ]))"
      ]
    },
    {
      "cell_type": "code",
      "execution_count": 18,
      "metadata": {
        "id": "wu14RazQlkKh"
      },
      "outputs": [],
      "source": [
        "from sklearn.preprocessing import OneHotEncoder, LabelEncoder\n",
        "\n",
        "label_encoder = LabelEncoder()\n",
        "integer_encoded = label_encoder.fit_transform(all_labels)\n",
        "\n",
        "#One hot encoding of the target values\n",
        "ohe = OneHotEncoder(sparse=False)\n",
        "integer_encoded = integer_encoded.reshape(len(integer_encoded), 1)\n",
        "target_ohe = ohe.fit_transform(integer_encoded)"
      ]
    },
    {
      "cell_type": "code",
      "execution_count": 19,
      "metadata": {
        "colab": {
          "base_uri": "https://localhost:8080/"
        },
        "id": "DhFicQH0lkKh",
        "outputId": "a56cf156-916f-44fe-d0db-a692b39343ed"
      },
      "outputs": [
        {
          "output_type": "execute_result",
          "data": {
            "text/plain": [
              "array(['N', 'S', 'V'], dtype='<U1')"
            ]
          },
          "metadata": {},
          "execution_count": 19
        }
      ],
      "source": [
        "label_encoder.inverse_transform([0,1,2])"
      ]
    },
    {
      "cell_type": "code",
      "execution_count": 20,
      "metadata": {
        "colab": {
          "base_uri": "https://localhost:8080/"
        },
        "id": "UfsW6i1plkKi",
        "outputId": "fe784d48-f464-48b1-bbbc-2e67cac7f5e8"
      },
      "outputs": [
        {
          "output_type": "execute_result",
          "data": {
            "text/plain": [
              "array([[0],\n",
              "       [1],\n",
              "       [2]])"
            ]
          },
          "metadata": {},
          "execution_count": 20
        }
      ],
      "source": [
        "ohe.inverse_transform([[1, 0, 0], [0,1,0], [0,0,1]])"
      ]
    },
    {
      "cell_type": "code",
      "execution_count": 21,
      "metadata": {
        "id": "7m1xRIcPlkKi"
      },
      "outputs": [],
      "source": [
        "from sklearn.model_selection import train_test_split\n",
        "X_train, X_val, y_train, y_val = train_test_split(heartbeats, target_ohe, test_size=0.2, random_state=SEED,\n",
        "                               shuffle=True, stratify=target_ohe)"
      ]
    },
    {
      "cell_type": "code",
      "source": [
        "!pip install imbalanced-learn"
      ],
      "metadata": {
        "id": "TuVj3qXH8cfg",
        "colab": {
          "base_uri": "https://localhost:8080/"
        },
        "outputId": "8c055a3f-6990-426a-927a-f3ac17544783"
      },
      "execution_count": null,
      "outputs": [
        {
          "output_type": "stream",
          "name": "stdout",
          "text": [
            "Requirement already satisfied: imbalanced-learn in /usr/local/lib/python3.7/dist-packages (0.8.1)\n",
            "Requirement already satisfied: numpy>=1.13.3 in /usr/local/lib/python3.7/dist-packages (from imbalanced-learn) (1.19.5)\n",
            "Requirement already satisfied: joblib>=0.11 in /usr/local/lib/python3.7/dist-packages (from imbalanced-learn) (1.1.0)\n",
            "Requirement already satisfied: scipy>=0.19.1 in /usr/local/lib/python3.7/dist-packages (from imbalanced-learn) (1.4.1)\n",
            "Requirement already satisfied: scikit-learn>=0.24 in /usr/local/lib/python3.7/dist-packages (from imbalanced-learn) (1.0.1)\n",
            "Requirement already satisfied: threadpoolctl>=2.0.0 in /usr/local/lib/python3.7/dist-packages (from scikit-learn>=0.24->imbalanced-learn) (3.0.0)\n"
          ]
        }
      ]
    },
    {
      "cell_type": "code",
      "source": [
        "# RESAMPLING TO DEAL THE HEAVY CLASS IMBALANCE (it does not work for now)\n",
        "\n",
        "# Perform resampling over the dataset to balance classes\n",
        "# example of random undersampling to balance the class distribution\n",
        "#from collections import Counter\n",
        "#from sklearn.datasets import make_classification\n",
        "#from imblearn.under_sampling import RandomUnderSampler\n",
        "\n",
        "#y_integers = np.argmax(y_train, axis=1)\n",
        "# summarize class distribution\n",
        "#print(Counter(np.ravel(y_integers)))\n",
        "# define undersample strategy\n",
        "#undersample = RandomUnderSampler(sampling_strategy='majority')\n",
        "# fit and apply the transform (applied 2 times to balance all classes)\n",
        "#X_train, y_train = undersample.fit_resample(X_train, y_train)\n",
        "##X_train, y_train = undersample.fit_resample(X_train, y_train)\n",
        "#train_features, train_target = undersample.fit_resample(train_features, train_target)\n",
        "# summarize class distribution\n",
        "#y_integers = np.argmax(y_train, axis=1)\n",
        "#print(Counter(np.ravel(y_integers)))"
      ],
      "metadata": {
        "colab": {
          "base_uri": "https://localhost:8080/"
        },
        "id": "LB2do1x_8Sqw",
        "outputId": "a533cc7d-d896-4dd9-f30f-8923868ad492"
      },
      "execution_count": null,
      "outputs": [
        {
          "output_type": "stream",
          "name": "stdout",
          "text": [
            "Counter({0: 156815, 1: 7454, 2: 6150})\n",
            "Counter({0: 6150, 1: 6150, 2: 6150})\n"
          ]
        }
      ]
    },
    {
      "cell_type": "code",
      "execution_count": 22,
      "metadata": {
        "id": "K_QT7nHSlkKi"
      },
      "outputs": [],
      "source": [
        "X_train = X_train.reshape(-1, max_len, 1)\n",
        "\n",
        "X_val = X_val.reshape(-1, max_len, 1)\n"
      ]
    },
    {
      "cell_type": "code",
      "execution_count": 23,
      "metadata": {
        "colab": {
          "base_uri": "https://localhost:8080/"
        },
        "id": "cXD3Ei1WlkKi",
        "outputId": "8511c0d7-2525-4108-c5c8-13dadb506ae3"
      },
      "outputs": [
        {
          "output_type": "execute_result",
          "data": {
            "text/plain": [
              "(170419, 223, 1)"
            ]
          },
          "metadata": {},
          "execution_count": 23
        }
      ],
      "source": [
        "X_train.shape"
      ]
    },
    {
      "cell_type": "code",
      "execution_count": 24,
      "metadata": {
        "colab": {
          "base_uri": "https://localhost:8080/"
        },
        "id": "y7L6N0V9lkKj",
        "outputId": "73870fd6-e461-430e-9074-0aff8cb62df8"
      },
      "outputs": [
        {
          "output_type": "execute_result",
          "data": {
            "text/plain": [
              "170419"
            ]
          },
          "metadata": {},
          "execution_count": 24
        }
      ],
      "source": [
        "len(y_train)"
      ]
    },
    {
      "cell_type": "code",
      "execution_count": 25,
      "metadata": {
        "id": "SheLNiTOlkKj"
      },
      "outputs": [],
      "source": [
        "train_data = tf.data.Dataset.from_tensor_slices((X_train, y_train)).batch(128)\n",
        "validation_data = tf.data.Dataset.from_tensor_slices((X_val, y_val)).batch(128)"
      ]
    },
    {
      "cell_type": "code",
      "source": [
        "# Considering class imbalance: class weightning to reduce the bias in the dataset\n",
        "\n",
        "from sklearn.utils.class_weight import compute_class_weight\n",
        "\n",
        "y_integers = np.argmax(y_train, axis=1)\n",
        "\n",
        "class_weights = compute_class_weight(\n",
        "                                      class_weight = \"balanced\",\n",
        "                                      classes = np.unique(y_integers),\n",
        "                                      y = y_integers                                             \n",
        "                                    )\n",
        "\n",
        "class_weights = dict(zip(np.unique(y_integers), class_weights))\n",
        "class_weights"
      ],
      "metadata": {
        "colab": {
          "base_uri": "https://localhost:8080/"
        },
        "id": "J3a8a39EsFU2",
        "outputId": "eb7dde0d-e88f-46ea-eceb-e3caa8367442"
      },
      "execution_count": 26,
      "outputs": [
        {
          "output_type": "execute_result",
          "data": {
            "text/plain": [
              "{0: 0.3622506350370394, 1: 7.620919416867901, 2: 9.236802168021681}"
            ]
          },
          "metadata": {},
          "execution_count": 26
        }
      ]
    },
    {
      "cell_type": "code",
      "source": [
        "X_train.shape, y_train.shape"
      ],
      "metadata": {
        "colab": {
          "base_uri": "https://localhost:8080/"
        },
        "id": "wvKk09KI61iv",
        "outputId": "1eb24530-bcfe-46e5-f54d-0cf527097bec"
      },
      "execution_count": 27,
      "outputs": [
        {
          "output_type": "execute_result",
          "data": {
            "text/plain": [
              "((170419, 223, 1), (170419, 3))"
            ]
          },
          "metadata": {},
          "execution_count": 27
        }
      ]
    },
    {
      "cell_type": "markdown",
      "metadata": {
        "id": "GuHec1dslkKj"
      },
      "source": [
        "Now Let's define the model, a simple CNN with 1D convolution layers"
      ]
    },
    {
      "cell_type": "code",
      "execution_count": null,
      "metadata": {
        "id": "9CotoxPHlkKj"
      },
      "outputs": [],
      "source": [
        "import tensorflow as tf\n",
        "\n",
        "cnn_model = tf.keras.Sequential([\n",
        "    tf.keras.layers.Conv1D(filters=16, kernel_size=3, padding='same',\n",
        "                        activation=tf.nn.leaky_relu, input_shape=[max_len, 1]),\n",
        "    tf.keras.layers.MaxPooling1D(pool_size=2),\n",
        "    tf.keras.layers.Conv1D(filters=64, kernel_size=3,\n",
        "                        padding='same', activation=tf.nn.leaky_relu),\n",
        "    tf.keras.layers.MaxPooling1D(pool_size=2),\n",
        "    tf.keras.layers.GlobalMaxPooling1D(),\n",
        "    tf.keras.layers.Dense(128, activation=tf.nn.leaky_relu),\n",
        "    tf.keras.layers.Dropout(0.3),\n",
        "    tf.keras.layers.Dense(3, activation=tf.nn.softmax)\n",
        "])"
      ]
    },
    {
      "cell_type": "code",
      "execution_count": null,
      "metadata": {
        "colab": {
          "base_uri": "https://localhost:8080/"
        },
        "id": "sdkskNX3lkKk",
        "outputId": "94676a59-7ce2-4d10-a5fb-28b72bac0041"
      },
      "outputs": [
        {
          "output_type": "stream",
          "name": "stdout",
          "text": [
            "Model: \"sequential_5\"\n",
            "_________________________________________________________________\n",
            " Layer (type)                Output Shape              Param #   \n",
            "=================================================================\n",
            " conv1d_10 (Conv1D)          (None, 223, 16)           64        \n",
            "                                                                 \n",
            " max_pooling1d_10 (MaxPoolin  (None, 111, 16)          0         \n",
            " g1D)                                                            \n",
            "                                                                 \n",
            " conv1d_11 (Conv1D)          (None, 111, 64)           3136      \n",
            "                                                                 \n",
            " max_pooling1d_11 (MaxPoolin  (None, 55, 64)           0         \n",
            " g1D)                                                            \n",
            "                                                                 \n",
            " global_max_pooling1d_5 (Glo  (None, 64)               0         \n",
            " balMaxPooling1D)                                                \n",
            "                                                                 \n",
            " dense_10 (Dense)            (None, 128)               8320      \n",
            "                                                                 \n",
            " dropout_5 (Dropout)         (None, 128)               0         \n",
            "                                                                 \n",
            " dense_11 (Dense)            (None, 3)                 387       \n",
            "                                                                 \n",
            "=================================================================\n",
            "Total params: 11,907\n",
            "Trainable params: 11,907\n",
            "Non-trainable params: 0\n",
            "_________________________________________________________________\n"
          ]
        }
      ],
      "source": [
        "cnn_model.summary()"
      ]
    },
    {
      "cell_type": "code",
      "execution_count": null,
      "metadata": {
        "id": "ELablVG7lkKk"
      },
      "outputs": [],
      "source": [
        "learning_rate = 0.001\n",
        "cnn_model.compile(\n",
        "    optimizer = tf.keras.optimizers.Adam(),\n",
        "    loss = 'categorical_crossentropy',\n",
        "    metrics = ['accuracy', tf.keras.metrics.Precision(),tf.keras.metrics.Recall()]\n",
        ")"
      ]
    },
    {
      "cell_type": "code",
      "execution_count": null,
      "metadata": {
        "colab": {
          "base_uri": "https://localhost:8080/"
        },
        "id": "8sba3X5flkKk",
        "outputId": "5264d25c-5924-40e1-b503-c0550acf7554"
      },
      "outputs": [
        {
          "output_type": "stream",
          "name": "stdout",
          "text": [
            "Epoch 1/15\n",
            "10652/10652 [==============================] - 109s 10ms/step - loss: 0.6286 - accuracy: 0.7101 - precision_5: 0.7351 - recall_5: 0.6549 - val_loss: 0.6028 - val_accuracy: 0.7439 - val_precision_5: 0.7739 - val_recall_5: 0.6857\n",
            "Epoch 2/15\n",
            "10652/10652 [==============================] - 96s 9ms/step - loss: 0.5162 - accuracy: 0.7746 - precision_5: 0.7911 - recall_5: 0.7487 - val_loss: 0.5210 - val_accuracy: 0.8024 - val_precision_5: 0.8276 - val_recall_5: 0.7596\n",
            "Epoch 3/15\n",
            "10652/10652 [==============================] - 99s 9ms/step - loss: 0.4731 - accuracy: 0.7951 - precision_5: 0.8089 - recall_5: 0.7748 - val_loss: 0.4755 - val_accuracy: 0.8020 - val_precision_5: 0.8197 - val_recall_5: 0.7723\n",
            "Epoch 4/15\n",
            "10652/10652 [==============================] - 96s 9ms/step - loss: 0.4474 - accuracy: 0.8060 - precision_5: 0.8184 - recall_5: 0.7885 - val_loss: 0.4249 - val_accuracy: 0.8356 - val_precision_5: 0.8514 - val_recall_5: 0.8109\n",
            "Epoch 5/15\n",
            "10652/10652 [==============================] - 96s 9ms/step - loss: 0.4269 - accuracy: 0.8167 - precision_5: 0.8277 - recall_5: 0.8008 - val_loss: 0.4721 - val_accuracy: 0.8053 - val_precision_5: 0.8246 - val_recall_5: 0.7748\n",
            "Epoch 6/15\n",
            "10652/10652 [==============================] - 96s 9ms/step - loss: 0.4109 - accuracy: 0.8212 - precision_5: 0.8315 - recall_5: 0.8072 - val_loss: 0.4408 - val_accuracy: 0.8134 - val_precision_5: 0.8273 - val_recall_5: 0.7936\n",
            "Epoch 7/15\n",
            "10652/10652 [==============================] - 101s 9ms/step - loss: 0.4023 - accuracy: 0.8267 - precision_5: 0.8364 - recall_5: 0.8129 - val_loss: 0.4080 - val_accuracy: 0.8341 - val_precision_5: 0.8454 - val_recall_5: 0.8161\n",
            "Epoch 8/15\n",
            "10652/10652 [==============================] - 97s 9ms/step - loss: 0.3936 - accuracy: 0.8304 - precision_5: 0.8403 - recall_5: 0.8177 - val_loss: 0.4256 - val_accuracy: 0.8201 - val_precision_5: 0.8347 - val_recall_5: 0.7989\n",
            "Epoch 9/15\n",
            "10652/10652 [==============================] - 96s 9ms/step - loss: 0.3831 - accuracy: 0.8356 - precision_5: 0.8453 - recall_5: 0.8236 - val_loss: 0.4163 - val_accuracy: 0.8342 - val_precision_5: 0.8478 - val_recall_5: 0.8155\n"
          ]
        }
      ],
      "source": [
        "history = cnn_model.fit(train_data, \n",
        "    validation_data=validation_data,\n",
        "    shuffle= True,\n",
        "    epochs = 15,\n",
        "    callbacks = tf.keras.callbacks.EarlyStopping(monitor='val_accuracy', mode='max', patience=5, restore_best_weights=True),\n",
        "    class_weight = class_weights\n",
        ").history"
      ]
    },
    {
      "cell_type": "code",
      "source": [
        "# Plot the training\n",
        "plt.figure(figsize=(15,5))\n",
        "plt.plot(history['loss'], label='Training', alpha=.8, color='#ff7f0e')\n",
        "plt.plot(history['val_loss'], label='Validation', alpha=.8, color='#4D61E2')\n",
        "plt.legend(loc='upper left')\n",
        "plt.title('Categorical Crossentropy')\n",
        "plt.grid(alpha=.3)\n",
        "\n",
        "plt.figure(figsize=(15,5))\n",
        "plt.plot(history['accuracy'], label='Training', alpha=.8, color='#ff7f0e')\n",
        "plt.plot(history['val_accuracy'], label='Validation', alpha=.8, color='#4D61E2')\n",
        "plt.legend(loc='upper left')\n",
        "plt.title('Accuracy')\n",
        "plt.grid(alpha=.3)\n",
        "\n",
        "plt.show()"
      ],
      "metadata": {
        "colab": {
          "base_uri": "https://localhost:8080/",
          "height": 655
        },
        "id": "l2qZb9UDstBq",
        "outputId": "d2e82c89-6bde-40d6-c210-3d04d70c5ef6"
      },
      "execution_count": null,
      "outputs": [
        {
          "output_type": "display_data",
          "data": {
            "image/png": "[encoded data removed]",
            "text/plain": [
              "<Figure size 1080x360 with 1 Axes>"
            ]
          },
          "metadata": {
            "needs_background": "light"
          }
        },
        {
          "output_type": "display_data",
          "data": {
            "image/png": "[encoded data removed]",
            "text/plain": [
              "<Figure size 1080x360 with 1 Axes>"
            ]
          },
          "metadata": {
            "needs_background": "light"
          }
        }
      ]
    },
    {
      "cell_type": "code",
      "execution_count": null,
      "metadata": {
        "id": "0SQjf-m0lkKk"
      },
      "outputs": [],
      "source": [
        "#Computing the prediction of the model on the validation set\n",
        "predictions = []\n",
        "for element in validation_data.as_numpy_iterator():\n",
        "    predictions.append(cnn_model.predict(element[0]))"
      ]
    },
    {
      "cell_type": "code",
      "execution_count": null,
      "metadata": {
        "id": "vJLRuI6tlkKk"
      },
      "outputs": [],
      "source": [
        "predictions_f = [item for sublist in predictions for item in sublist]"
      ]
    },
    {
      "cell_type": "code",
      "execution_count": null,
      "metadata": {
        "id": "gM4RRsEilkKl"
      },
      "outputs": [],
      "source": [
        "predictions_oh = []\n",
        "#transform prediction into one-hot-encoding \n",
        "for i in range(len(predictions_f)):\n",
        "    predictions_oh.append(tf.one_hot(tf.argmax(predictions_f[i]), depth=3))"
      ]
    },
    {
      "cell_type": "code",
      "execution_count": null,
      "metadata": {
        "id": "nyHu6YsylkKl"
      },
      "outputs": [],
      "source": [
        "#Compute the true and prediction array in order to plot the confusion matrix\n",
        "y = []\n",
        "\n",
        "for y_t in y_val.tolist():\n",
        "    if(y_t == [1, 0, 0]):\n",
        "        y.append('N')\n",
        "    if(y_t == [0, 1 ,0]):\n",
        "        y.append('S')\n",
        "    if(y_t == [0, 0 ,1]):\n",
        "        y.append('V')    \n",
        "\n",
        "y_pred = []\n",
        "\n",
        "for y_t in predictions_oh:\n",
        "    if(all(tf.equal(y_t, tf.constant([1, 0, 0], dtype=np.float32)))):\n",
        "        y_pred.append('N')\n",
        "    elif(all(tf.equal(y_t, tf.constant([0, 1, 0], dtype=np.float32)))):\n",
        "        y_pred.append('S')\n",
        "    elif(all(tf.equal(y_t, tf.constant([0, 0, 1], dtype=np.float32)))):\n",
        "        y_pred.append('V')  \n",
        "    else:\n",
        "        print(y_t)    "
      ]
    },
    {
      "cell_type": "code",
      "execution_count": null,
      "metadata": {
        "id": "BeMdxik6lkKl",
        "outputId": "6c5f6980-d8f1-4dc0-cb7b-56d3c7acba1b",
        "colab": {
          "base_uri": "https://localhost:8080/",
          "height": 298
        }
      },
      "outputs": [
        {
          "output_type": "execute_result",
          "data": {
            "text/plain": [
              "<sklearn.metrics._plot.confusion_matrix.ConfusionMatrixDisplay at 0x7f4eb9846150>"
            ]
          },
          "metadata": {},
          "execution_count": 130
        },
        {
          "output_type": "display_data",
          "data": {
            "image/png": "[encoded data removed]",
            "text/plain": [
              "<Figure size 432x288 with 2 Axes>"
            ]
          },
          "metadata": {
            "needs_background": "light"
          }
        }
      ],
      "source": [
        "#Plotting the confusion matrix\n",
        "import seaborn as sns\n",
        "from sklearn.metrics import ConfusionMatrixDisplay, classification_report\n",
        "from sklearn.metrics import confusion_matrix\n",
        "\n",
        "#cm = confusion_matrix(y, y_pred, labels=['N', 'S', 'V'])\n",
        "#disp = ConfusionMatrixDisplay(confusion_matrix=cm,\n",
        "                                #display_labels=['N', 'S', 'V'])\n",
        "#disp.plot()\n",
        "#plt.show()\n",
        "ConfusionMatrixDisplay.from_predictions(y, y_pred, normalize='true', labels = ['N', 'S', 'V'])"
      ]
    },
    {
      "cell_type": "code",
      "execution_count": null,
      "metadata": {
        "id": "Z3Zc34A6lkKl",
        "outputId": "9c9ddf52-378b-42a0-c15b-ac8bf8a30361",
        "colab": {
          "base_uri": "https://localhost:8080/"
        }
      },
      "outputs": [
        {
          "output_type": "stream",
          "name": "stdout",
          "text": [
            "              precision    recall  f1-score   support\n",
            "\n",
            "           N       0.99      0.83      0.91     39204\n",
            "           S       0.21      0.79      0.33      1864\n",
            "           V       0.55      0.91      0.69      1537\n",
            "\n",
            "    accuracy                           0.84     42605\n",
            "   macro avg       0.58      0.84      0.64     42605\n",
            "weighted avg       0.94      0.84      0.87     42605\n",
            "\n"
          ]
        }
      ],
      "source": [
        "print(classification_report(y,y_pred))"
      ]
    },
    {
      "cell_type": "markdown",
      "source": [
        "# VGG 1D"
      ],
      "metadata": {
        "id": "RZWh6I8Y13cN"
      }
    },
    {
      "cell_type": "code",
      "source": [
        "vgg = tf.keras.Sequential()\n",
        "\n",
        "vgg.add(tf.keras.layers.Conv1D(input_shape=[max_len, 1],filters=64,kernel_size=3,padding=\"same\", activation=\"relu\"))\n",
        "vgg.add(tf.keras.layers.Conv1D(filters=64,kernel_size=3,padding=\"same\", activation=\"relu\"))\n",
        "vgg.add(tf.keras.layers.MaxPooling1D(pool_size=2,strides=2))\n",
        "vgg.add(tf.keras.layers.Conv1D(filters=128, kernel_size=3, padding=\"same\", activation=\"relu\"))\n",
        "vgg.add(tf.keras.layers.Conv1D(filters=128, kernel_size=3, padding=\"same\", activation=\"relu\"))\n",
        "vgg.add(tf.keras.layers.MaxPooling1D(pool_size=2,strides=2))\n",
        "vgg.add(tf.keras.layers.Conv1D(filters=256, kernel_size=3, padding=\"same\", activation=\"relu\"))\n",
        "vgg.add(tf.keras.layers.Conv1D(filters=256, kernel_size=3, padding=\"same\", activation=\"relu\"))\n",
        "vgg.add(tf.keras.layers.Conv1D(filters=256, kernel_size=3, padding=\"same\", activation=\"relu\"))\n",
        "vgg.add(tf.keras.layers.MaxPooling1D(pool_size=2,strides=2))\n",
        "vgg.add(tf.keras.layers.Conv1D(filters=512, kernel_size=3, padding=\"same\", activation=\"relu\"))\n",
        "vgg.add(tf.keras.layers.Conv1D(filters=512, kernel_size=3, padding=\"same\", activation=\"relu\"))\n",
        "vgg.add(tf.keras.layers.Conv1D(filters=512, kernel_size=3, padding=\"same\", activation=\"relu\"))\n",
        "vgg.add(tf.keras.layers.MaxPooling1D(pool_size=2,strides=2))\n",
        "vgg.add(tf.keras.layers.Conv1D(filters=512, kernel_size=3, padding=\"same\", activation=\"relu\"))\n",
        "vgg.add(tf.keras.layers.Conv1D(filters=512, kernel_size=3, padding=\"same\", activation=\"relu\"))\n",
        "vgg.add(tf.keras.layers.Conv1D(filters=512, kernel_size=3, padding=\"same\", activation=\"relu\"))\n",
        "vgg.add(tf.keras.layers.MaxPooling1D(pool_size=2,strides=2))\n",
        "vgg.add(tf.keras.layers.GlobalMaxPooling1D())\n",
        "vgg.add(tf.keras.layers.Dense(512, activation='relu'))\n",
        "vgg.add(tf.keras.layers.Dropout(0.4))\n",
        "vgg.add(tf.keras.layers.Dense(3,activation='softmax'))\n",
        "\n",
        "\n",
        "learning_rate = 0.001\n",
        "vgg.compile(\n",
        "    optimizer = tf.keras.optimizers.Adam(1e-4),\n",
        "    loss = 'categorical_crossentropy',\n",
        "    metrics = ['accuracy', tf.keras.metrics.Precision(),tf.keras.metrics.Recall()]\n",
        ")"
      ],
      "metadata": {
        "id": "Kqv_3LdM12bC"
      },
      "execution_count": 32,
      "outputs": []
    },
    {
      "cell_type": "code",
      "source": [
        "vgg.summary()"
      ],
      "metadata": {
        "colab": {
          "base_uri": "https://localhost:8080/"
        },
        "id": "4wJPfTxZD_-R",
        "outputId": "dd05fdf2-5bf0-4262-899e-c4171550bc20"
      },
      "execution_count": 33,
      "outputs": [
        {
          "output_type": "stream",
          "name": "stdout",
          "text": [
            "Model: \"sequential_1\"\n",
            "_________________________________________________________________\n",
            " Layer (type)                Output Shape              Param #   \n",
            "=================================================================\n",
            " conv1d_13 (Conv1D)          (None, 223, 64)           256       \n",
            "                                                                 \n",
            " conv1d_14 (Conv1D)          (None, 223, 64)           12352     \n",
            "                                                                 \n",
            " max_pooling1d_5 (MaxPooling  (None, 111, 64)          0         \n",
            " 1D)                                                             \n",
            "                                                                 \n",
            " conv1d_15 (Conv1D)          (None, 111, 128)          24704     \n",
            "                                                                 \n",
            " conv1d_16 (Conv1D)          (None, 111, 128)          49280     \n",
            "                                                                 \n",
            " max_pooling1d_6 (MaxPooling  (None, 55, 128)          0         \n",
            " 1D)                                                             \n",
            "                                                                 \n",
            " conv1d_17 (Conv1D)          (None, 55, 256)           98560     \n",
            "                                                                 \n",
            " conv1d_18 (Conv1D)          (None, 55, 256)           196864    \n",
            "                                                                 \n",
            " conv1d_19 (Conv1D)          (None, 55, 256)           196864    \n",
            "                                                                 \n",
            " max_pooling1d_7 (MaxPooling  (None, 27, 256)          0         \n",
            " 1D)                                                             \n",
            "                                                                 \n",
            " conv1d_20 (Conv1D)          (None, 27, 512)           393728    \n",
            "                                                                 \n",
            " conv1d_21 (Conv1D)          (None, 27, 512)           786944    \n",
            "                                                                 \n",
            " conv1d_22 (Conv1D)          (None, 27, 512)           786944    \n",
            "                                                                 \n",
            " max_pooling1d_8 (MaxPooling  (None, 13, 512)          0         \n",
            " 1D)                                                             \n",
            "                                                                 \n",
            " conv1d_23 (Conv1D)          (None, 13, 512)           786944    \n",
            "                                                                 \n",
            " conv1d_24 (Conv1D)          (None, 13, 512)           786944    \n",
            "                                                                 \n",
            " conv1d_25 (Conv1D)          (None, 13, 512)           786944    \n",
            "                                                                 \n",
            " max_pooling1d_9 (MaxPooling  (None, 6, 512)           0         \n",
            " 1D)                                                             \n",
            "                                                                 \n",
            " global_max_pooling1d (Globa  (None, 512)              0         \n",
            " lMaxPooling1D)                                                  \n",
            "                                                                 \n",
            " dense_2 (Dense)             (None, 512)               262656    \n",
            "                                                                 \n",
            " dropout_1 (Dropout)         (None, 512)               0         \n",
            "                                                                 \n",
            " dense_3 (Dense)             (None, 3)                 1539      \n",
            "                                                                 \n",
            "=================================================================\n",
            "Total params: 5,171,523\n",
            "Trainable params: 5,171,523\n",
            "Non-trainable params: 0\n",
            "_________________________________________________________________\n"
          ]
        }
      ]
    },
    {
      "cell_type": "code",
      "source": [
        "class_weights"
      ],
      "metadata": {
        "colab": {
          "base_uri": "https://localhost:8080/"
        },
        "id": "g222hZIE4iOZ",
        "outputId": "d0f37f7e-afb5-4186-ace2-866f77345d0d"
      },
      "execution_count": 34,
      "outputs": [
        {
          "output_type": "execute_result",
          "data": {
            "text/plain": [
              "{0: 0.3622506350370394, 1: 7.620919416867901, 2: 9.236802168021681}"
            ]
          },
          "metadata": {},
          "execution_count": 34
        }
      ]
    },
    {
      "cell_type": "code",
      "source": [
        "history = vgg.fit(train_data, \n",
        "    validation_data=validation_data,\n",
        "    shuffle= True,\n",
        "    epochs = 15,\n",
        "    callbacks = tf.keras.callbacks.EarlyStopping(monitor='val_accuracy', mode='max', patience=5, restore_best_weights=True),\n",
        "    class_weight = class_weights\n",
        ").history"
      ],
      "metadata": {
        "colab": {
          "base_uri": "https://localhost:8080/"
        },
        "id": "gwHFOAh43E6K",
        "outputId": "4e894648-f87d-4f62-bd84-14c2e513e37d"
      },
      "execution_count": 35,
      "outputs": [
        {
          "output_type": "stream",
          "name": "stdout",
          "text": [
            "Epoch 1/15\n",
            "1332/1332 [==============================] - 141s 104ms/step - loss: 0.5395 - accuracy: 0.7562 - precision_1: 0.8026 - recall_1: 0.6591 - val_loss: 0.3026 - val_accuracy: 0.8937 - val_precision_1: 0.9091 - val_recall_1: 0.8774\n",
            "Epoch 2/15\n",
            "1332/1332 [==============================] - 138s 104ms/step - loss: 0.2713 - accuracy: 0.8938 - precision_1: 0.9006 - recall_1: 0.8870 - val_loss: 0.2324 - val_accuracy: 0.9121 - val_precision_1: 0.9185 - val_recall_1: 0.9063\n",
            "Epoch 3/15\n",
            "1332/1332 [==============================] - 139s 104ms/step - loss: 0.2147 - accuracy: 0.9168 - precision_1: 0.9208 - recall_1: 0.9130 - val_loss: 0.2638 - val_accuracy: 0.8958 - val_precision_1: 0.9027 - val_recall_1: 0.8896\n",
            "Epoch 4/15\n",
            "1332/1332 [==============================] - 140s 105ms/step - loss: 0.1830 - accuracy: 0.9258 - precision_1: 0.9290 - recall_1: 0.9231 - val_loss: 0.1810 - val_accuracy: 0.9292 - val_precision_1: 0.9342 - val_recall_1: 0.9258\n",
            "Epoch 5/15\n",
            "1332/1332 [==============================] - 139s 104ms/step - loss: 0.1608 - accuracy: 0.9317 - precision_1: 0.9341 - recall_1: 0.9296 - val_loss: 0.1812 - val_accuracy: 0.9290 - val_precision_1: 0.9345 - val_recall_1: 0.9247\n",
            "Epoch 6/15\n",
            "1332/1332 [==============================] - 139s 105ms/step - loss: 0.1481 - accuracy: 0.9351 - precision_1: 0.9374 - recall_1: 0.9332 - val_loss: 0.2164 - val_accuracy: 0.9144 - val_precision_1: 0.9222 - val_recall_1: 0.9090\n",
            "Epoch 7/15\n",
            "1332/1332 [==============================] - 140s 105ms/step - loss: 0.1351 - accuracy: 0.9388 - precision_1: 0.9409 - recall_1: 0.9370 - val_loss: 0.2091 - val_accuracy: 0.9148 - val_precision_1: 0.9209 - val_recall_1: 0.9099\n",
            "Epoch 8/15\n",
            "1332/1332 [==============================] - 138s 104ms/step - loss: 0.1264 - accuracy: 0.9404 - precision_1: 0.9419 - recall_1: 0.9391 - val_loss: 0.1419 - val_accuracy: 0.9427 - val_precision_1: 0.9457 - val_recall_1: 0.9404\n",
            "Epoch 9/15\n",
            "1332/1332 [==============================] - 139s 104ms/step - loss: 0.1161 - accuracy: 0.9438 - precision_1: 0.9452 - recall_1: 0.9426 - val_loss: 0.1035 - val_accuracy: 0.9608 - val_precision_1: 0.9621 - val_recall_1: 0.9599\n",
            "Epoch 10/15\n",
            "1332/1332 [==============================] - 139s 104ms/step - loss: 0.1070 - accuracy: 0.9461 - precision_1: 0.9472 - recall_1: 0.9453 - val_loss: 0.1170 - val_accuracy: 0.9562 - val_precision_1: 0.9573 - val_recall_1: 0.9554\n",
            "Epoch 11/15\n",
            "1332/1332 [==============================] - 140s 105ms/step - loss: 0.1035 - accuracy: 0.9480 - precision_1: 0.9488 - recall_1: 0.9474 - val_loss: 0.1404 - val_accuracy: 0.9462 - val_precision_1: 0.9481 - val_recall_1: 0.9445\n",
            "Epoch 12/15\n",
            "1332/1332 [==============================] - 139s 104ms/step - loss: 0.1035 - accuracy: 0.9473 - precision_1: 0.9481 - recall_1: 0.9465 - val_loss: 0.0979 - val_accuracy: 0.9654 - val_precision_1: 0.9664 - val_recall_1: 0.9648\n",
            "Epoch 13/15\n",
            "1332/1332 [==============================] - 139s 104ms/step - loss: 0.0950 - accuracy: 0.9511 - precision_1: 0.9520 - recall_1: 0.9505 - val_loss: 0.1040 - val_accuracy: 0.9583 - val_precision_1: 0.9593 - val_recall_1: 0.9577\n",
            "Epoch 14/15\n",
            "1332/1332 [==============================] - 140s 105ms/step - loss: 0.0901 - accuracy: 0.9519 - precision_1: 0.9526 - recall_1: 0.9513 - val_loss: 0.1192 - val_accuracy: 0.9590 - val_precision_1: 0.9608 - val_recall_1: 0.9579\n",
            "Epoch 15/15\n",
            "1332/1332 [==============================] - 139s 105ms/step - loss: 0.0825 - accuracy: 0.9539 - precision_1: 0.9545 - recall_1: 0.9535 - val_loss: 0.1108 - val_accuracy: 0.9642 - val_precision_1: 0.9652 - val_recall_1: 0.9637\n"
          ]
        }
      ]
    },
    {
      "cell_type": "code",
      "source": [
        "# Plot the training\n",
        "plt.figure(figsize=(15,5))\n",
        "plt.plot(history['loss'], label='Training', alpha=.8, color='#ff7f0e')\n",
        "plt.plot(history['val_loss'], label='Validation', alpha=.8, color='#4D61E2')\n",
        "plt.legend(loc='upper left')\n",
        "plt.title('Categorical Crossentropy')\n",
        "plt.grid(alpha=.3)\n",
        "\n",
        "plt.figure(figsize=(15,5))\n",
        "plt.plot(history['accuracy'], label='Training', alpha=.8, color='#ff7f0e')\n",
        "plt.plot(history['val_accuracy'], label='Validation', alpha=.8, color='#4D61E2')\n",
        "plt.legend(loc='upper left')\n",
        "plt.title('Accuracy')\n",
        "plt.grid(alpha=.3)\n",
        "\n",
        "plt.show()"
      ],
      "metadata": {
        "colab": {
          "base_uri": "https://localhost:8080/",
          "height": 655
        },
        "id": "FB5VOXM5gMMG",
        "outputId": "a35d1541-2508-4166-f3c7-0f4e0561d888"
      },
      "execution_count": 36,
      "outputs": [
        {
          "output_type": "display_data",
          "data": {
            "image/png": "[encoded data removed]",
            "text/plain": [
              "<Figure size 1080x360 with 1 Axes>"
            ]
          },
          "metadata": {
            "needs_background": "light"
          }
        },
        {
          "output_type": "display_data",
          "data": {
            "image/png": "[encoded data removed]",
            "text/plain": [
              "<Figure size 1080x360 with 1 Axes>"
            ]
          },
          "metadata": {
            "needs_background": "light"
          }
        }
      ]
    },
    {
      "cell_type": "code",
      "source": [
        "#Computing the prediction of the model on the validation set\n",
        "predictions = []\n",
        "for element in validation_data.as_numpy_iterator():\n",
        "    predictions.append(vgg.predict(element[0]))"
      ],
      "metadata": {
        "id": "wldGuRfbgTCl"
      },
      "execution_count": 37,
      "outputs": []
    },
    {
      "cell_type": "code",
      "source": [
        "predictions_f = [item for sublist in predictions for item in sublist]"
      ],
      "metadata": {
        "id": "4QGlPO6cgV3H"
      },
      "execution_count": 38,
      "outputs": []
    },
    {
      "cell_type": "code",
      "source": [
        "predictions_oh = []\n",
        "#transform prediction into one-hot-encoding \n",
        "for i in range(len(predictions_f)):\n",
        "    predictions_oh.append(tf.one_hot(tf.argmax(predictions_f[i]), depth=3))"
      ],
      "metadata": {
        "id": "5z8zU-7kgZHb"
      },
      "execution_count": 39,
      "outputs": []
    },
    {
      "cell_type": "code",
      "source": [
        "#Compute the true and prediction array in order to plot the confusion matrix\n",
        "y = []\n",
        "\n",
        "for y_t in y_val.tolist():\n",
        "    if(y_t == [1, 0, 0]):\n",
        "        y.append('N')\n",
        "    if(y_t == [0, 1 ,0]):\n",
        "        y.append('S')\n",
        "    if(y_t == [0, 0 ,1]):\n",
        "        y.append('V')    \n",
        "\n",
        "y_pred = []\n",
        "\n",
        "for y_t in predictions_oh:\n",
        "    if(all(tf.equal(y_t, tf.constant([1, 0, 0], dtype=np.float32)))):\n",
        "        y_pred.append('N')\n",
        "    elif(all(tf.equal(y_t, tf.constant([0, 1, 0], dtype=np.float32)))):\n",
        "        y_pred.append('S')\n",
        "    elif(all(tf.equal(y_t, tf.constant([0, 0, 1], dtype=np.float32)))):\n",
        "        y_pred.append('V')  \n",
        "    else:\n",
        "        print(y_t)  "
      ],
      "metadata": {
        "id": "LL0IDcItgcub"
      },
      "execution_count": 40,
      "outputs": []
    },
    {
      "cell_type": "code",
      "source": [
        "#Plotting the confusion matrix\n",
        "import seaborn as sns\n",
        "from sklearn.metrics import ConfusionMatrixDisplay, classification_report\n",
        "from sklearn.metrics import confusion_matrix\n",
        "\n",
        "ConfusionMatrixDisplay.from_predictions(y, y_pred, labels = ['N', 'S', 'V'])\n",
        "ConfusionMatrixDisplay.from_predictions(y, y_pred, normalize='true', labels = ['N', 'S', 'V'])"
      ],
      "metadata": {
        "colab": {
          "base_uri": "https://localhost:8080/",
          "height": 558
        },
        "id": "YPUv81WagfUP",
        "outputId": "1a6fb306-8128-4067-b501-220e9b846ac2"
      },
      "execution_count": 41,
      "outputs": [
        {
          "output_type": "execute_result",
          "data": {
            "text/plain": [
              "<sklearn.metrics._plot.confusion_matrix.ConfusionMatrixDisplay at 0x7fe504ba4910>"
            ]
          },
          "metadata": {},
          "execution_count": 41
        },
        {
          "output_type": "display_data",
          "data": {
            "image/png": "[encoded data removed]",
            "text/plain": [
              "<Figure size 432x288 with 2 Axes>"
            ]
          },
          "metadata": {
            "needs_background": "light"
          }
        },
        {
          "output_type": "display_data",
          "data": {
            "image/png": "[encoded data removed]",
            "text/plain": [
              "<Figure size 432x288 with 2 Axes>"
            ]
          },
          "metadata": {
            "needs_background": "light"
          }
        }
      ]
    },
    {
      "cell_type": "code",
      "source": [
        "print(classification_report(y,y_pred))"
      ],
      "metadata": {
        "colab": {
          "base_uri": "https://localhost:8080/"
        },
        "id": "_BllkMfqsf-p",
        "outputId": "4ec6d31d-1d3f-414b-bafc-210a5273de4c"
      },
      "execution_count": 42,
      "outputs": [
        {
          "output_type": "stream",
          "name": "stdout",
          "text": [
            "              precision    recall  f1-score   support\n",
            "\n",
            "           N       0.99      0.97      0.98     39204\n",
            "           S       0.61      0.86      0.71      1864\n",
            "           V       0.83      0.97      0.90      1537\n",
            "\n",
            "    accuracy                           0.96     42605\n",
            "   macro avg       0.81      0.93      0.86     42605\n",
            "weighted avg       0.97      0.96      0.97     42605\n",
            "\n"
          ]
        }
      ]
    },
    {
      "cell_type": "code",
      "source": [
        "vgg.save('/content/drive/MyDrive/AppliedAIinBiomedicine/final-assignment/vgg model')"
      ],
      "metadata": {
        "colab": {
          "base_uri": "https://localhost:8080/"
        },
        "id": "uVp3Wsv2rWNs",
        "outputId": "d6ddc925-cddf-4901-a5bd-decaf731ffb3"
      },
      "execution_count": 43,
      "outputs": [
        {
          "output_type": "stream",
          "name": "stdout",
          "text": [
            "INFO:tensorflow:Assets written to: /content/drive/MyDrive/AppliedAIinBiomedicine/final-assignment/vgg model/assets\n"
          ]
        }
      ]
    }
  ],
  "metadata": {
    "interpreter": {
      "hash": "a1b18e5b73945bca42393a289077bd0b488e623c27b094a97a19d0bde50b9d70"
    },
    "kernelspec": {
      "display_name": "Python 3.8.3 64-bit ('base': conda)",
      "language": "python",
      "name": "python3"
    },
    "language_info": {
      "codemirror_mode": {
        "name": "ipython",
        "version": 3
      },
      "file_extension": ".py",
      "mimetype": "text/x-python",
      "name": "python",
      "nbconvert_exporter": "python",
      "pygments_lexer": "ipython3",
      "version": "3.8.3"
    },
    "orig_nbformat": 4,
    "colab": {
      "name": "Deep_Learning_Approach.ipynb",
      "provenance": [],
      "collapsed_sections": []
    },
    "accelerator": "GPU"
  },
  "nbformat": 4,
  "nbformat_minor": 0
}
