{
 "cells": [
  {
   "cell_type": "markdown",
   "metadata": {},
   "source": [
    "This Notebook contains an ECG classification approach using Convolutional Neural Network."
   ]
  },
  {
   "cell_type": "code",
   "execution_count": 9,
   "metadata": {},
   "outputs": [],
   "source": [
    "input_dir = \"/Users/Giovanni/Desktop/Università/Magistrale/AIB/final-assignment/training_set_splitted/train\""
   ]
  },
  {
   "cell_type": "code",
   "execution_count": 10,
   "metadata": {},
   "outputs": [
    {
     "name": "stdout",
     "output_type": "stream",
     "text": [
      "['S001_128.mat', 'S001_128_ann.mat', 'S001_128_rpk.mat', 'S002_128.mat', 'S002_128_ann.mat', 'S002_128_rpk.mat', 'S003_128.mat', 'S003_128_ann.mat', 'S003_128_rpk.mat', 'S004_128.mat', 'S004_128_ann.mat', 'S004_128_rpk.mat', 'S005_128.mat', 'S005_128_ann.mat', 'S005_128_rpk.mat', 'S006_128.mat', 'S006_128_ann.mat', 'S006_128_rpk.mat', 'S007_128.mat', 'S007_128_ann.mat', 'S007_128_rpk.mat', 'S008_128.mat', 'S008_128_ann.mat', 'S008_128_rpk.mat', 'S009_128.mat', 'S009_128_ann.mat', 'S009_128_rpk.mat', 'S010_128.mat', 'S010_128_ann.mat', 'S010_128_rpk.mat', 'S011_128.mat', 'S011_128_ann.mat', 'S011_128_rpk.mat', 'S012_128.mat', 'S012_128_ann.mat', 'S012_128_rpk.mat', 'S013_128.mat', 'S013_128_ann.mat', 'S013_128_rpk.mat', 'S014_128.mat', 'S014_128_ann.mat', 'S014_128_rpk.mat', 'S015_128.mat', 'S015_128_ann.mat', 'S015_128_rpk.mat', 'S016_128.mat', 'S016_128_ann.mat', 'S016_128_rpk.mat', 'S017_128.mat', 'S017_128_ann.mat', 'S017_128_rpk.mat', 'S018_128.mat', 'S018_128_ann.mat', 'S018_128_rpk.mat', 'S019_128.mat', 'S019_128_ann.mat', 'S019_128_rpk.mat', 'S020_128.mat', 'S020_128_ann.mat', 'S020_128_rpk.mat', 'S021_128.mat', 'S021_128_ann.mat', 'S021_128_rpk.mat', 'S022_128.mat', 'S022_128_ann.mat', 'S022_128_rpk.mat', 'S023_128.mat', 'S023_128_ann.mat', 'S023_128_rpk.mat', 'S024_128.mat', 'S024_128_ann.mat', 'S024_128_rpk.mat', 'S025_128.mat', 'S025_128_ann.mat', 'S025_128_rpk.mat', 'S026_128.mat', 'S026_128_ann.mat', 'S026_128_rpk.mat', 'S027_128.mat', 'S027_128_ann.mat', 'S027_128_rpk.mat', 'S028_128.mat', 'S028_128_ann.mat', 'S028_128_rpk.mat', 'S029_128.mat', 'S029_128_ann.mat', 'S029_128_rpk.mat', 'S030_128.mat', 'S030_128_ann.mat', 'S030_128_rpk.mat', 'S031_128.mat', 'S031_128_ann.mat', 'S031_128_rpk.mat', 'S032_128.mat', 'S032_128_ann.mat', 'S032_128_rpk.mat', 'S033_128.mat', 'S033_128_ann.mat', 'S033_128_rpk.mat', 'S034_128.mat', 'S034_128_ann.mat', 'S034_128_rpk.mat', 'S035_128.mat', 'S035_128_ann.mat', 'S035_128_rpk.mat', 'S036_128.mat', 'S036_128_ann.mat', 'S036_128_rpk.mat', 'S037_128.mat', 'S037_128_ann.mat', 'S037_128_rpk.mat', 'S038_128.mat', 'S038_128_ann.mat', 'S038_128_rpk.mat', 'S039_128.mat', 'S039_128_ann.mat', 'S039_128_rpk.mat', 'S040_128.mat', 'S040_128_ann.mat', 'S040_128_rpk.mat', 'S041_128.mat', 'S041_128_ann.mat', 'S041_128_rpk.mat', 'S042_128.mat', 'S042_128_ann.mat', 'S042_128_rpk.mat', 'S043_128.mat', 'S043_128_ann.mat', 'S043_128_rpk.mat', 'S044_128.mat', 'S044_128_ann.mat', 'S044_128_rpk.mat', 'S045_128.mat', 'S045_128_ann.mat', 'S045_128_rpk.mat', 'S046_128.mat', 'S046_128_ann.mat', 'S046_128_rpk.mat', 'S047_128.mat', 'S047_128_ann.mat', 'S047_128_rpk.mat', 'S048_128.mat', 'S048_128_ann.mat', 'S048_128_rpk.mat', 'S049_128.mat', 'S049_128_ann.mat', 'S049_128_rpk.mat', 'S050_128.mat', 'S050_128_ann.mat', 'S050_128_rpk.mat', 'S051_128.mat', 'S051_128_ann.mat', 'S051_128_rpk.mat', 'S052_128.mat', 'S052_128_ann.mat', 'S052_128_rpk.mat', 'S053_128.mat', 'S053_128_ann.mat', 'S053_128_rpk.mat', 'S054_128.mat', 'S054_128_ann.mat', 'S054_128_rpk.mat', 'S055_128.mat', 'S055_128_ann.mat', 'S055_128_rpk.mat', 'S056_128.mat', 'S056_128_ann.mat', 'S056_128_rpk.mat', 'S057_128.mat', 'S057_128_ann.mat', 'S057_128_rpk.mat', 'S058_128.mat', 'S058_128_ann.mat', 'S058_128_rpk.mat', 'S059_128.mat', 'S059_128_ann.mat', 'S059_128_rpk.mat', 'S060_128.mat', 'S060_128_ann.mat', 'S060_128_rpk.mat', 'S061_128.mat', 'S061_128_ann.mat', 'S061_128_rpk.mat', 'S062_128.mat', 'S062_128_ann.mat', 'S062_128_rpk.mat', 'S063_128.mat', 'S063_128_ann.mat', 'S063_128_rpk.mat', 'S064_128.mat', 'S064_128_ann.mat', 'S064_128_rpk.mat', 'S065_128.mat', 'S065_128_ann.mat', 'S065_128_rpk.mat', 'S079_250.mat', 'S079_250_ann.mat', 'S079_250_rpk.mat', 'S080_250.mat', 'S080_250_ann.mat', 'S080_250_rpk.mat', 'S081_250.mat', 'S081_250_ann.mat', 'S081_250_rpk.mat', 'S082_250.mat', 'S082_250_ann.mat', 'S082_250_rpk.mat', 'S083_250.mat', 'S083_250_ann.mat', 'S083_250_rpk.mat', 'S084_250.mat', 'S084_250_ann.mat', 'S084_250_rpk.mat', 'S085_250.mat', 'S085_250_ann.mat', 'S085_250_rpk.mat', 'S086_250.mat', 'S086_250_ann.mat', 'S086_250_rpk.mat', 'S087_250.mat', 'S087_250_ann.mat', 'S087_250_rpk.mat', 'S088_250.mat', 'S088_250_ann.mat', 'S088_250_rpk.mat', 'S089_250.mat', 'S089_250_ann.mat', 'S089_250_rpk.mat', 'S090_250.mat', 'S090_250_ann.mat', 'S090_250_rpk.mat', 'S091_250.mat', 'S091_250_ann.mat', 'S091_250_rpk.mat', 'S092_250.mat', 'S092_250_ann.mat', 'S092_250_rpk.mat', 'S093_250.mat', 'S093_250_ann.mat', 'S093_250_rpk.mat', 'S094_250.mat', 'S094_250_ann.mat', 'S094_250_rpk.mat', 'S095_250.mat', 'S095_250_ann.mat', 'S095_250_rpk.mat', 'S096_250.mat', 'S096_250_ann.mat', 'S096_250_rpk.mat', 'S097_250.mat', 'S097_250_ann.mat', 'S097_250_rpk.mat', 'S098_250.mat', 'S098_250_ann.mat', 'S098_250_rpk.mat', 'S099_250.mat', 'S099_250_ann.mat', 'S099_250_rpk.mat', 'S100_250.mat', 'S100_250_ann.mat', 'S100_250_rpk.mat', 'S101_250.mat', 'S101_250_ann.mat', 'S101_250_rpk.mat', 'S102_250.mat', 'S102_250_ann.mat', 'S102_250_rpk.mat', 'S103_250.mat', 'S103_250_ann.mat', 'S103_250_rpk.mat']\n"
     ]
    }
   ],
   "source": [
    "import os\n",
    "\n",
    "# list the data present in the dataset\n",
    "dirs = sorted(os.listdir(input_dir))\n",
    "print(dirs)"
   ]
  },
  {
   "cell_type": "code",
   "execution_count": 11,
   "metadata": {},
   "outputs": [],
   "source": [
    "# environment setup\n",
    "from scipy.io import loadmat\n",
    "import numpy as np, os, sys, joblib\n",
    "import matplotlib.pyplot as plt\n",
    "import math\n",
    "from tqdm import tqdm\n",
    "import pandas as pd\n",
    "import random\n",
    "\n",
    "#Setting random seed for reproducibility\n",
    "#Remember to use always SEED for the functions that requires it (like Scikit models)\n",
    "SEED = 1234\n",
    "np.random.seed(SEED)\n",
    "pd.core.common._random_stat = SEED\n",
    "random.seed(SEED)\n",
    "os.environ['PYTHONHASHSEED'] = str(SEED)"
   ]
  },
  {
   "cell_type": "code",
   "execution_count": 12,
   "metadata": {},
   "outputs": [],
   "source": [
    "# Utility function to load data\n",
    "\n",
    "def load_data(ecg_file):\n",
    "  ecg = loadmat(ecg_file)\n",
    "  rpk_file = ecg_file.replace('.mat', '_rpk.mat')\n",
    "  rpk = loadmat(rpk_file)\n",
    "  ann_file = ecg_file.replace('.mat', '_ann.mat')\n",
    "  ann = loadmat(ann_file)\n",
    "  return ecg, rpk, ann"
   ]
  },
  {
   "cell_type": "code",
   "execution_count": 13,
   "metadata": {},
   "outputs": [
    {
     "name": "stdout",
     "output_type": "stream",
     "text": [
      "Loading file: 90/90"
     ]
    }
   ],
   "source": [
    "# Get the ecg file for each sample and create a list of all ecgs\n",
    "ecg_files = []\n",
    "\n",
    "for f in dirs:\n",
    "  g = input_dir+'/'+f\n",
    "  if g.find('_ann') == -1 and g.find('_rpk') == -1:\n",
    "   ecg_files.append(g)\n",
    "\n",
    "num_files = len(ecg_files)\n",
    "# Create lists that will contains each data types (ecg, labels, rpeaks) an filenames (a list which contains the original filename for each sample)\n",
    "filenames = list()\n",
    "ecgs = list()\n",
    "rpks = list()\n",
    "anns = list()\n",
    "\n",
    "for i in range(num_files):\n",
    "  ecg, rpk, ann = load_data(ecg_files[i])\n",
    "  print(\n",
    "        \"\\rLoading file: {}/{}\"\n",
    "            .format(i+1, num_files),\n",
    "        end=\"\"\n",
    "    )\n",
    "  ecgs.append(ecg)\n",
    "  rpks.append(rpk)\n",
    "  anns.append(ann)\n",
    "  filenames.append(ecg_files[i])\n",
    "\n",
    "#ecg = np.asarray(loadmat(g)['ecg'], dtype=np.float64)\n",
    "#rpk = np.asarray(loadmat(input_dir + \"/S083_250_rpk.mat\")['rpeaks'], dtype=np.float64)\n",
    "#ann = np.asarray(loadmat(input_dir + \"/S083_250_ann.mat\")['labels'])"
   ]
  },
  {
   "cell_type": "code",
   "execution_count": 14,
   "metadata": {},
   "outputs": [
    {
     "name": "stdout",
     "output_type": "stream",
     "text": [
      "Requirement already satisfied: neurokit2 in c:\\users\\giovanni\\anaconda3\\lib\\site-packages (0.1.5)\n",
      "Requirement already satisfied: tdqm in c:\\users\\giovanni\\anaconda3\\lib\\site-packages (0.0.1)\n",
      "Requirement already satisfied: scikit-learn in c:\\users\\giovanni\\anaconda3\\lib\\site-packages (from neurokit2) (1.0.1)\n",
      "Requirement already satisfied: scipy in c:\\users\\giovanni\\anaconda3\\lib\\site-packages (from neurokit2) (1.4.1)\n",
      "Requirement already satisfied: matplotlib in c:\\users\\giovanni\\anaconda3\\lib\\site-packages (from neurokit2) (3.2.2)\n",
      "Requirement already satisfied: numpy in c:\\users\\giovanni\\anaconda3\\lib\\site-packages (from neurokit2) (1.21.4)\n",
      "Requirement already satisfied: pandas in c:\\users\\giovanni\\anaconda3\\lib\\site-packages (from neurokit2) (1.0.5)\n",
      "Requirement already satisfied: tqdm in c:\\users\\giovanni\\anaconda3\\lib\\site-packages (from tdqm) (4.47.0)\n",
      "Requirement already satisfied: threadpoolctl>=2.0.0 in c:\\users\\giovanni\\anaconda3\\lib\\site-packages (from scikit-learn->neurokit2) (2.1.0)\n",
      "Requirement already satisfied: joblib>=0.11 in c:\\users\\giovanni\\anaconda3\\lib\\site-packages (from scikit-learn->neurokit2) (0.16.0)\n",
      "Requirement already satisfied: cycler>=0.10 in c:\\users\\giovanni\\anaconda3\\lib\\site-packages (from matplotlib->neurokit2) (0.10.0)\n",
      "Requirement already satisfied: kiwisolver>=1.0.1 in c:\\users\\giovanni\\anaconda3\\lib\\site-packages (from matplotlib->neurokit2) (1.2.0)\n",
      "Requirement already satisfied: pyparsing!=2.0.4,!=2.1.2,!=2.1.6,>=2.0.1 in c:\\users\\giovanni\\anaconda3\\lib\\site-packages (from matplotlib->neurokit2) (2.4.7)\n",
      "Requirement already satisfied: python-dateutil>=2.1 in c:\\users\\giovanni\\anaconda3\\lib\\site-packages (from matplotlib->neurokit2) (2.8.1)\n",
      "Requirement already satisfied: pytz>=2017.2 in c:\\users\\giovanni\\anaconda3\\lib\\site-packages (from pandas->neurokit2) (2020.1)\n",
      "Requirement already satisfied: six in c:\\users\\giovanni\\anaconda3\\lib\\site-packages (from cycler>=0.10->matplotlib->neurokit2) (1.15.0)\n"
     ]
    }
   ],
   "source": [
    "! pip install neurokit2 tdqm"
   ]
  },
  {
   "cell_type": "code",
   "execution_count": 15,
   "metadata": {},
   "outputs": [],
   "source": [
    "import neurokit2 as nk"
   ]
  },
  {
   "cell_type": "code",
   "execution_count": 16,
   "metadata": {},
   "outputs": [],
   "source": [
    "# Utility: given the filename of a signal it returns the sampling frequency\n",
    "def ecg_freq(filename):\n",
    "  if '128' in filename:\n",
    "    return 128\n",
    "  else:\n",
    "    return 250"
   ]
  },
  {
   "cell_type": "code",
   "execution_count": 17,
   "metadata": {},
   "outputs": [
    {
     "name": "stderr",
     "output_type": "stream",
     "text": [
      "100%|██████████| 90/90 [09:20<00:00,  6.22s/it]\n"
     ]
    }
   ],
   "source": [
    "# Try to extract each single heartbeat\n",
    "\n",
    "# list of list that contains all heartbeats divided by patient\n",
    "patient_heartbeats = []\n",
    "\n",
    "for i in tqdm(range(len(ecgs))):\n",
    "  # extract a sample ecgd\n",
    "  ecg_sample = np.asarray(ecgs[i]['ecg'], dtype=np.float64)\n",
    "  sampling = ecg_freq(filenames[i])\n",
    "  #ecg_sample_= np.arange(0, ecg_sample.shape[0]/sampling, 1/sampling)\n",
    "  # clean ecg_sample\n",
    "  ecg_signal_l1 = nk.ecg_clean(ecg_sample[:,0], sampling_rate=sampling, method='neurokit2')\n",
    "  \n",
    "  #Extract peaks from traning set and their labels\n",
    "  sample_rpeaks = rpks[i]['rpeaks'] \n",
    "  # Handling last beats (if last rpeak is >= to current ecg lenght, we remove it)\n",
    "  add_padding=False\n",
    "  if sample_rpeaks[-1] >= len(ecg_signal_l1):\n",
    "    #sample_labels = sample_labels[:-1]\n",
    "    sample_rpeaks = sample_rpeaks[:-1] \n",
    "    add_padding = True\n",
    "  rpeaks = {'ECG_R_Peaks': sample_rpeaks.flatten(), 'sampling_rate': sampling}\n",
    "\n",
    "  # extract heartbeats of current ecg\n",
    "  ecg_heartbeats_l1 = nk.ecg_segment(ecg_cleaned=ecg_signal_l1, rpeaks=rpeaks['ECG_R_Peaks'], sampling_rate=sampling)\n",
    "\n",
    "  if(add_padding == True): #If we cannot extract the last beat, we replicate the last good beat\n",
    "   ecg_heartbeats_l1[str(int(list(ecg_heartbeats_l1.keys())[-1]) + 1)] = ecg_heartbeats_l1[list(ecg_heartbeats_l1.keys())[-1]]\n",
    "\n",
    "  patient_heartbeats.append(ecg_heartbeats_l1)"
   ]
  },
  {
   "cell_type": "code",
   "execution_count": 18,
   "metadata": {},
   "outputs": [],
   "source": [
    "#load the heartbeats inside an array\n",
    "heartbeats = []\n",
    "\n",
    "for p in range(len(patient_heartbeats)):\n",
    " for b in patient_heartbeats[p].keys():\n",
    "  heartbeats.append(list(patient_heartbeats[p][b].Signal))"
   ]
  },
  {
   "cell_type": "code",
   "execution_count": 19,
   "metadata": {},
   "outputs": [],
   "source": [
    "#removing nan values and substituting them with 0s\n",
    "for i in range(len(heartbeats)):\n",
    "    for j in range(len(heartbeats[i])):\n",
    "        if(str(heartbeats[i][j]) == 'nan'):\n",
    "            heartbeats[i][j] = 0"
   ]
  },
  {
   "cell_type": "code",
   "execution_count": 20,
   "metadata": {},
   "outputs": [],
   "source": [
    "classes_name = ['N', 'S', 'V']"
   ]
  },
  {
   "cell_type": "code",
   "execution_count": 21,
   "metadata": {},
   "outputs": [],
   "source": [
    "# list which contains all labels of each beat\n",
    "all_labels = []\n",
    "\n",
    "for sample in anns:\n",
    "  for beat in sample['labels']:\n",
    "    all_labels.append(beat)"
   ]
  },
  {
   "cell_type": "code",
   "execution_count": 22,
   "metadata": {},
   "outputs": [
    {
     "name": "stdout",
     "output_type": "stream",
     "text": [
      "213024\n",
      "213024\n"
     ]
    }
   ],
   "source": [
    "print(len(all_labels))\n",
    "print(len(heartbeats))"
   ]
  },
  {
   "cell_type": "code",
   "execution_count": 23,
   "metadata": {},
   "outputs": [
    {
     "data": {
      "image/png": "[encoded data removed]",
      "text/plain": [
       "<Figure size 432x288 with 1 Axes>"
      ]
     },
     "metadata": {
      "needs_background": "light"
     },
     "output_type": "display_data"
    }
   ],
   "source": [
    "lengths = []\n",
    "for b in heartbeats:\n",
    "   lengths.append(len(b))\n",
    "\n",
    "import matplotlib.pyplot as plt\n",
    "\n",
    "plt.plot(lengths)\n",
    "\n",
    "max_len = max(lengths)"
   ]
  },
  {
   "cell_type": "code",
   "execution_count": 24,
   "metadata": {},
   "outputs": [],
   "source": [
    "import tensorflow as tf\n",
    "#pad heartbeats in order to have the same dimension\n",
    "heartbeats = tf.keras.preprocessing.sequence.pad_sequences(heartbeats, maxlen=max_len, dtype='float32', truncating='post',padding=\"post\")"
   ]
  },
  {
   "cell_type": "code",
   "execution_count": null,
   "metadata": {},
   "outputs": [],
   "source": [
    "#features = dict(patient_heartbeats = heartbeats, target = all_labels)"
   ]
  },
  {
   "cell_type": "code",
   "execution_count": null,
   "metadata": {},
   "outputs": [],
   "source": [
    "#features_df = pd.DataFrame(dict([ (k,pd.Series(v)) for k,v in features.items() ]))"
   ]
  },
  {
   "cell_type": "code",
   "execution_count": 25,
   "metadata": {},
   "outputs": [],
   "source": [
    "from sklearn.preprocessing import OneHotEncoder, LabelEncoder\n",
    "\n",
    "label_encoder = LabelEncoder()\n",
    "integer_encoded = label_encoder.fit_transform(all_labels)\n",
    "\n",
    "#One hot encoding of the target values\n",
    "ohe = OneHotEncoder(sparse=False)\n",
    "integer_encoded = integer_encoded.reshape(len(integer_encoded), 1)\n",
    "target_ohe = ohe.fit_transform(integer_encoded)"
   ]
  },
  {
   "cell_type": "code",
   "execution_count": 26,
   "metadata": {},
   "outputs": [
    {
     "data": {
      "text/plain": [
       "array(['N', 'S', 'V'], dtype='<U1')"
      ]
     },
     "execution_count": 26,
     "metadata": {},
     "output_type": "execute_result"
    }
   ],
   "source": [
    "label_encoder.inverse_transform([0,1,2])"
   ]
  },
  {
   "cell_type": "code",
   "execution_count": 27,
   "metadata": {},
   "outputs": [
    {
     "data": {
      "text/plain": [
       "array([[0],\n",
       "       [1],\n",
       "       [2]], dtype=int64)"
      ]
     },
     "execution_count": 27,
     "metadata": {},
     "output_type": "execute_result"
    }
   ],
   "source": [
    "ohe.inverse_transform([[1, 0, 0], [0,1,0], [0,0,1]])"
   ]
  },
  {
   "cell_type": "code",
   "execution_count": 28,
   "metadata": {},
   "outputs": [],
   "source": [
    "from sklearn.model_selection import train_test_split\n",
    "X_train, X_val, y_train, y_val = train_test_split(heartbeats, target_ohe, test_size=0.2, random_state=SEED,\n",
    "                               shuffle=True, stratify=target_ohe)"
   ]
  },
  {
   "cell_type": "code",
   "execution_count": 29,
   "metadata": {},
   "outputs": [],
   "source": [
    "X_train = X_train.reshape(-1, max_len, 1)\n",
    "\n",
    "X_val = X_val.reshape(-1, max_len, 1)\n"
   ]
  },
  {
   "cell_type": "code",
   "execution_count": 268,
   "metadata": {},
   "outputs": [
    {
     "data": {
      "text/plain": [
       "(170419, 223, 1)"
      ]
     },
     "execution_count": 268,
     "metadata": {},
     "output_type": "execute_result"
    }
   ],
   "source": [
    "X_train.shape"
   ]
  },
  {
   "cell_type": "code",
   "execution_count": 228,
   "metadata": {},
   "outputs": [
    {
     "data": {
      "text/plain": [
       "170419"
      ]
     },
     "execution_count": 228,
     "metadata": {},
     "output_type": "execute_result"
    }
   ],
   "source": [
    "len(y_train)\n"
   ]
  },
  {
   "cell_type": "code",
   "execution_count": 30,
   "metadata": {},
   "outputs": [],
   "source": [
    "train_data = tf.data.Dataset.from_tensor_slices((X_train, y_train)).batch(16)\n",
    "validation_data = tf.data.Dataset.from_tensor_slices((X_val, y_val)).batch(16)"
   ]
  },
  {
   "cell_type": "markdown",
   "metadata": {},
   "source": [
    "Now Let's define the model, a simple CNN with 1D convolution layers"
   ]
  },
  {
   "cell_type": "code",
   "execution_count": 137,
   "metadata": {},
   "outputs": [],
   "source": [
    "import tensorflow as tf\n",
    "\n",
    "cnn_model = tf.keras.Sequential([\n",
    "    tf.keras.layers.Conv1D(filters=16, kernel_size=3, padding='same',\n",
    "                        activation=tf.nn.leaky_relu, input_shape=[max_len, 1]),\n",
    "    tf.keras.layers.MaxPooling1D(pool_size=2),\n",
    "    tf.keras.layers.Conv1D(filters=64, kernel_size=3,\n",
    "                        padding='same', activation=tf.nn.leaky_relu),\n",
    "    tf.keras.layers.MaxPooling1D(pool_size=2),\n",
    "    tf.keras.layers.GlobalMaxPooling1D(),\n",
    "    tf.keras.layers.Dense(128, activation=tf.nn.leaky_relu),\n",
    "    tf.keras.layers.Dropout(0.3),\n",
    "    tf.keras.layers.Dense(3, activation=tf.nn.softmax)\n",
    "])"
   ]
  },
  {
   "cell_type": "code",
   "execution_count": 138,
   "metadata": {},
   "outputs": [
    {
     "name": "stdout",
     "output_type": "stream",
     "text": [
      "Model: \"sequential_5\"\n",
      "_________________________________________________________________\n",
      "Layer (type)                 Output Shape              Param #   \n",
      "=================================================================\n",
      "conv1d_10 (Conv1D)           (None, 223, 16)           64        \n",
      "_________________________________________________________________\n",
      "max_pooling1d_10 (MaxPooling (None, 111, 16)           0         \n",
      "_________________________________________________________________\n",
      "conv1d_11 (Conv1D)           (None, 111, 64)           3136      \n",
      "_________________________________________________________________\n",
      "max_pooling1d_11 (MaxPooling (None, 55, 64)            0         \n",
      "_________________________________________________________________\n",
      "global_max_pooling1d_5 (Glob (None, 64)                0         \n",
      "_________________________________________________________________\n",
      "dense_10 (Dense)             (None, 128)               8320      \n",
      "_________________________________________________________________\n",
      "dropout_5 (Dropout)          (None, 128)               0         \n",
      "_________________________________________________________________\n",
      "dense_11 (Dense)             (None, 3)                 387       \n",
      "=================================================================\n",
      "Total params: 11,907\n",
      "Trainable params: 11,907\n",
      "Non-trainable params: 0\n",
      "_________________________________________________________________\n"
     ]
    }
   ],
   "source": [
    "cnn_model.summary()"
   ]
  },
  {
   "cell_type": "code",
   "execution_count": 139,
   "metadata": {},
   "outputs": [],
   "source": [
    "learning_rate = 0.001\n",
    "cnn_model.compile(\n",
    "    optimizer = tf.keras.optimizers.Adam(),\n",
    "    loss = 'categorical_crossentropy',\n",
    "    metrics = ['accuracy', tf.keras.metrics.Precision(),tf.keras.metrics.Recall()]\n",
    ")"
   ]
  },
  {
   "cell_type": "code",
   "execution_count": 153,
   "metadata": {},
   "outputs": [
    {
     "name": "stdout",
     "output_type": "stream",
     "text": [
      "Epoch 1/10\n",
      "10652/10652 [==============================] - 79s 7ms/step - loss: 0.1241 - accuracy: 0.9615 - precision_5: 0.9632 - recall_5: 0.9601 - val_loss: 0.1155 - val_accuracy: 0.9641 - val_precision_5: 0.9660 - val_recall_5: 0.9625\n",
      "Epoch 2/10\n",
      "10652/10652 [==============================] - 83s 8ms/step - loss: 0.1224 - accuracy: 0.9617 - precision_5: 0.9635 - recall_5: 0.9603 - val_loss: 0.1174 - val_accuracy: 0.9642 - val_precision_5: 0.9660 - val_recall_5: 0.9622\n",
      "Epoch 3/10\n",
      "10652/10652 [==============================] - 96s 9ms/step - loss: 0.1207 - accuracy: 0.9623 - precision_5: 0.9641 - recall_5: 0.9607 - val_loss: 0.1143 - val_accuracy: 0.9633 - val_precision_5: 0.9650 - val_recall_5: 0.9615\n",
      "Epoch 4/10\n",
      "10652/10652 [==============================] - 98s 9ms/step - loss: 0.1197 - accuracy: 0.9624 - precision_5: 0.9642 - recall_5: 0.9610 - val_loss: 0.1146 - val_accuracy: 0.9644 - val_precision_5: 0.9664 - val_recall_5: 0.9628\n",
      "Epoch 5/10\n",
      "10652/10652 [==============================] - 117s 11ms/step - loss: 0.1179 - accuracy: 0.9631 - precision_5: 0.9645 - recall_5: 0.9618 - val_loss: 0.1087 - val_accuracy: 0.9660 - val_precision_5: 0.9679 - val_recall_5: 0.9642\n",
      "Epoch 6/10\n",
      " 1498/10652 [===>..........................] - ETA: 1:24 - loss: 0.1154 - accuracy: 0.9642 - precision_5: 0.9658 - recall_5: 0.9629- ETA: 1:24 - loss: 0.1169 - accuracy: 0.9640 "
     ]
    },
    {
     "ename": "KeyboardInterrupt",
     "evalue": "",
     "output_type": "error",
     "traceback": [
      "\u001b[1;31m---------------------------------------------------------------------------\u001b[0m",
      "\u001b[1;31mKeyboardInterrupt\u001b[0m                         Traceback (most recent call last)",
      "\u001b[1;32m<ipython-input-153-cd845598e730>\u001b[0m in \u001b[0;36m<module>\u001b[1;34m\u001b[0m\n\u001b[1;32m----> 1\u001b[1;33m history = cnn_model.fit(train_data, \n\u001b[0m\u001b[0;32m      2\u001b[0m     \u001b[0mvalidation_data\u001b[0m\u001b[1;33m=\u001b[0m\u001b[0mvalidation_data\u001b[0m\u001b[1;33m,\u001b[0m\u001b[1;33m\u001b[0m\u001b[1;33m\u001b[0m\u001b[0m\n\u001b[0;32m      3\u001b[0m     \u001b[0mshuffle\u001b[0m\u001b[1;33m=\u001b[0m \u001b[1;32mTrue\u001b[0m\u001b[1;33m,\u001b[0m\u001b[1;33m\u001b[0m\u001b[1;33m\u001b[0m\u001b[0m\n\u001b[0;32m      4\u001b[0m     \u001b[0mepochs\u001b[0m \u001b[1;33m=\u001b[0m \u001b[1;36m10\u001b[0m\u001b[1;33m,\u001b[0m\u001b[1;33m\u001b[0m\u001b[1;33m\u001b[0m\u001b[0m\n\u001b[0;32m      5\u001b[0m ).history\n",
      "\u001b[1;32m~\\anaconda3\\lib\\site-packages\\tensorflow\\python\\keras\\engine\\training.py\u001b[0m in \u001b[0;36m_method_wrapper\u001b[1;34m(self, *args, **kwargs)\u001b[0m\n\u001b[0;32m    106\u001b[0m   \u001b[1;32mdef\u001b[0m \u001b[0m_method_wrapper\u001b[0m\u001b[1;33m(\u001b[0m\u001b[0mself\u001b[0m\u001b[1;33m,\u001b[0m \u001b[1;33m*\u001b[0m\u001b[0margs\u001b[0m\u001b[1;33m,\u001b[0m \u001b[1;33m**\u001b[0m\u001b[0mkwargs\u001b[0m\u001b[1;33m)\u001b[0m\u001b[1;33m:\u001b[0m\u001b[1;33m\u001b[0m\u001b[1;33m\u001b[0m\u001b[0m\n\u001b[0;32m    107\u001b[0m     \u001b[1;32mif\u001b[0m \u001b[1;32mnot\u001b[0m \u001b[0mself\u001b[0m\u001b[1;33m.\u001b[0m\u001b[0m_in_multi_worker_mode\u001b[0m\u001b[1;33m(\u001b[0m\u001b[1;33m)\u001b[0m\u001b[1;33m:\u001b[0m  \u001b[1;31m# pylint: disable=protected-access\u001b[0m\u001b[1;33m\u001b[0m\u001b[1;33m\u001b[0m\u001b[0m\n\u001b[1;32m--> 108\u001b[1;33m       \u001b[1;32mreturn\u001b[0m \u001b[0mmethod\u001b[0m\u001b[1;33m(\u001b[0m\u001b[0mself\u001b[0m\u001b[1;33m,\u001b[0m \u001b[1;33m*\u001b[0m\u001b[0margs\u001b[0m\u001b[1;33m,\u001b[0m \u001b[1;33m**\u001b[0m\u001b[0mkwargs\u001b[0m\u001b[1;33m)\u001b[0m\u001b[1;33m\u001b[0m\u001b[1;33m\u001b[0m\u001b[0m\n\u001b[0m\u001b[0;32m    109\u001b[0m \u001b[1;33m\u001b[0m\u001b[0m\n\u001b[0;32m    110\u001b[0m     \u001b[1;31m# Running inside `run_distribute_coordinator` already.\u001b[0m\u001b[1;33m\u001b[0m\u001b[1;33m\u001b[0m\u001b[1;33m\u001b[0m\u001b[0m\n",
      "\u001b[1;32m~\\anaconda3\\lib\\site-packages\\tensorflow\\python\\keras\\engine\\training.py\u001b[0m in \u001b[0;36mfit\u001b[1;34m(self, x, y, batch_size, epochs, verbose, callbacks, validation_split, validation_data, shuffle, class_weight, sample_weight, initial_epoch, steps_per_epoch, validation_steps, validation_batch_size, validation_freq, max_queue_size, workers, use_multiprocessing)\u001b[0m\n\u001b[0;32m   1096\u001b[0m                 batch_size=batch_size):\n\u001b[0;32m   1097\u001b[0m               \u001b[0mcallbacks\u001b[0m\u001b[1;33m.\u001b[0m\u001b[0mon_train_batch_begin\u001b[0m\u001b[1;33m(\u001b[0m\u001b[0mstep\u001b[0m\u001b[1;33m)\u001b[0m\u001b[1;33m\u001b[0m\u001b[1;33m\u001b[0m\u001b[0m\n\u001b[1;32m-> 1098\u001b[1;33m               \u001b[0mtmp_logs\u001b[0m \u001b[1;33m=\u001b[0m \u001b[0mtrain_function\u001b[0m\u001b[1;33m(\u001b[0m\u001b[0miterator\u001b[0m\u001b[1;33m)\u001b[0m\u001b[1;33m\u001b[0m\u001b[1;33m\u001b[0m\u001b[0m\n\u001b[0m\u001b[0;32m   1099\u001b[0m               \u001b[1;32mif\u001b[0m \u001b[0mdata_handler\u001b[0m\u001b[1;33m.\u001b[0m\u001b[0mshould_sync\u001b[0m\u001b[1;33m:\u001b[0m\u001b[1;33m\u001b[0m\u001b[1;33m\u001b[0m\u001b[0m\n\u001b[0;32m   1100\u001b[0m                 \u001b[0mcontext\u001b[0m\u001b[1;33m.\u001b[0m\u001b[0masync_wait\u001b[0m\u001b[1;33m(\u001b[0m\u001b[1;33m)\u001b[0m\u001b[1;33m\u001b[0m\u001b[1;33m\u001b[0m\u001b[0m\n",
      "\u001b[1;32m~\\anaconda3\\lib\\site-packages\\tensorflow\\python\\eager\\def_function.py\u001b[0m in \u001b[0;36m__call__\u001b[1;34m(self, *args, **kwds)\u001b[0m\n\u001b[0;32m    778\u001b[0m       \u001b[1;32melse\u001b[0m\u001b[1;33m:\u001b[0m\u001b[1;33m\u001b[0m\u001b[1;33m\u001b[0m\u001b[0m\n\u001b[0;32m    779\u001b[0m         \u001b[0mcompiler\u001b[0m \u001b[1;33m=\u001b[0m \u001b[1;34m\"nonXla\"\u001b[0m\u001b[1;33m\u001b[0m\u001b[1;33m\u001b[0m\u001b[0m\n\u001b[1;32m--> 780\u001b[1;33m         \u001b[0mresult\u001b[0m \u001b[1;33m=\u001b[0m \u001b[0mself\u001b[0m\u001b[1;33m.\u001b[0m\u001b[0m_call\u001b[0m\u001b[1;33m(\u001b[0m\u001b[1;33m*\u001b[0m\u001b[0margs\u001b[0m\u001b[1;33m,\u001b[0m \u001b[1;33m**\u001b[0m\u001b[0mkwds\u001b[0m\u001b[1;33m)\u001b[0m\u001b[1;33m\u001b[0m\u001b[1;33m\u001b[0m\u001b[0m\n\u001b[0m\u001b[0;32m    781\u001b[0m \u001b[1;33m\u001b[0m\u001b[0m\n\u001b[0;32m    782\u001b[0m       \u001b[0mnew_tracing_count\u001b[0m \u001b[1;33m=\u001b[0m \u001b[0mself\u001b[0m\u001b[1;33m.\u001b[0m\u001b[0m_get_tracing_count\u001b[0m\u001b[1;33m(\u001b[0m\u001b[1;33m)\u001b[0m\u001b[1;33m\u001b[0m\u001b[1;33m\u001b[0m\u001b[0m\n",
      "\u001b[1;32m~\\anaconda3\\lib\\site-packages\\tensorflow\\python\\eager\\def_function.py\u001b[0m in \u001b[0;36m_call\u001b[1;34m(self, *args, **kwds)\u001b[0m\n\u001b[0;32m    805\u001b[0m       \u001b[1;31m# In this case we have created variables on the first call, so we run the\u001b[0m\u001b[1;33m\u001b[0m\u001b[1;33m\u001b[0m\u001b[1;33m\u001b[0m\u001b[0m\n\u001b[0;32m    806\u001b[0m       \u001b[1;31m# defunned version which is guaranteed to never create variables.\u001b[0m\u001b[1;33m\u001b[0m\u001b[1;33m\u001b[0m\u001b[1;33m\u001b[0m\u001b[0m\n\u001b[1;32m--> 807\u001b[1;33m       \u001b[1;32mreturn\u001b[0m \u001b[0mself\u001b[0m\u001b[1;33m.\u001b[0m\u001b[0m_stateless_fn\u001b[0m\u001b[1;33m(\u001b[0m\u001b[1;33m*\u001b[0m\u001b[0margs\u001b[0m\u001b[1;33m,\u001b[0m \u001b[1;33m**\u001b[0m\u001b[0mkwds\u001b[0m\u001b[1;33m)\u001b[0m  \u001b[1;31m# pylint: disable=not-callable\u001b[0m\u001b[1;33m\u001b[0m\u001b[1;33m\u001b[0m\u001b[0m\n\u001b[0m\u001b[0;32m    808\u001b[0m     \u001b[1;32melif\u001b[0m \u001b[0mself\u001b[0m\u001b[1;33m.\u001b[0m\u001b[0m_stateful_fn\u001b[0m \u001b[1;32mis\u001b[0m \u001b[1;32mnot\u001b[0m \u001b[1;32mNone\u001b[0m\u001b[1;33m:\u001b[0m\u001b[1;33m\u001b[0m\u001b[1;33m\u001b[0m\u001b[0m\n\u001b[0;32m    809\u001b[0m       \u001b[1;31m# Release the lock early so that multiple threads can perform the call\u001b[0m\u001b[1;33m\u001b[0m\u001b[1;33m\u001b[0m\u001b[1;33m\u001b[0m\u001b[0m\n",
      "\u001b[1;32m~\\anaconda3\\lib\\site-packages\\tensorflow\\python\\eager\\function.py\u001b[0m in \u001b[0;36m__call__\u001b[1;34m(self, *args, **kwargs)\u001b[0m\n\u001b[0;32m   2827\u001b[0m     \u001b[1;32mwith\u001b[0m \u001b[0mself\u001b[0m\u001b[1;33m.\u001b[0m\u001b[0m_lock\u001b[0m\u001b[1;33m:\u001b[0m\u001b[1;33m\u001b[0m\u001b[1;33m\u001b[0m\u001b[0m\n\u001b[0;32m   2828\u001b[0m       \u001b[0mgraph_function\u001b[0m\u001b[1;33m,\u001b[0m \u001b[0margs\u001b[0m\u001b[1;33m,\u001b[0m \u001b[0mkwargs\u001b[0m \u001b[1;33m=\u001b[0m \u001b[0mself\u001b[0m\u001b[1;33m.\u001b[0m\u001b[0m_maybe_define_function\u001b[0m\u001b[1;33m(\u001b[0m\u001b[0margs\u001b[0m\u001b[1;33m,\u001b[0m \u001b[0mkwargs\u001b[0m\u001b[1;33m)\u001b[0m\u001b[1;33m\u001b[0m\u001b[1;33m\u001b[0m\u001b[0m\n\u001b[1;32m-> 2829\u001b[1;33m     \u001b[1;32mreturn\u001b[0m \u001b[0mgraph_function\u001b[0m\u001b[1;33m.\u001b[0m\u001b[0m_filtered_call\u001b[0m\u001b[1;33m(\u001b[0m\u001b[0margs\u001b[0m\u001b[1;33m,\u001b[0m \u001b[0mkwargs\u001b[0m\u001b[1;33m)\u001b[0m  \u001b[1;31m# pylint: disable=protected-access\u001b[0m\u001b[1;33m\u001b[0m\u001b[1;33m\u001b[0m\u001b[0m\n\u001b[0m\u001b[0;32m   2830\u001b[0m \u001b[1;33m\u001b[0m\u001b[0m\n\u001b[0;32m   2831\u001b[0m   \u001b[1;33m@\u001b[0m\u001b[0mproperty\u001b[0m\u001b[1;33m\u001b[0m\u001b[1;33m\u001b[0m\u001b[0m\n",
      "\u001b[1;32m~\\anaconda3\\lib\\site-packages\\tensorflow\\python\\eager\\function.py\u001b[0m in \u001b[0;36m_filtered_call\u001b[1;34m(self, args, kwargs, cancellation_manager)\u001b[0m\n\u001b[0;32m   1841\u001b[0m       \u001b[0;31m`\u001b[0m\u001b[0margs\u001b[0m\u001b[0;31m`\u001b[0m \u001b[1;32mand\u001b[0m\u001b[0;31m \u001b[0m\u001b[0;31m`\u001b[0m\u001b[0mkwargs\u001b[0m\u001b[0;31m`\u001b[0m\u001b[1;33m.\u001b[0m\u001b[1;33m\u001b[0m\u001b[1;33m\u001b[0m\u001b[0m\n\u001b[0;32m   1842\u001b[0m     \"\"\"\n\u001b[1;32m-> 1843\u001b[1;33m     return self._call_flat(\n\u001b[0m\u001b[0;32m   1844\u001b[0m         [t for t in nest.flatten((args, kwargs), expand_composites=True)\n\u001b[0;32m   1845\u001b[0m          if isinstance(t, (ops.Tensor,\n",
      "\u001b[1;32m~\\anaconda3\\lib\\site-packages\\tensorflow\\python\\eager\\function.py\u001b[0m in \u001b[0;36m_call_flat\u001b[1;34m(self, args, captured_inputs, cancellation_manager)\u001b[0m\n\u001b[0;32m   1921\u001b[0m         and executing_eagerly):\n\u001b[0;32m   1922\u001b[0m       \u001b[1;31m# No tape is watching; skip to running the function.\u001b[0m\u001b[1;33m\u001b[0m\u001b[1;33m\u001b[0m\u001b[1;33m\u001b[0m\u001b[0m\n\u001b[1;32m-> 1923\u001b[1;33m       return self._build_call_outputs(self._inference_function.call(\n\u001b[0m\u001b[0;32m   1924\u001b[0m           ctx, args, cancellation_manager=cancellation_manager))\n\u001b[0;32m   1925\u001b[0m     forward_backward = self._select_forward_and_backward_functions(\n",
      "\u001b[1;32m~\\anaconda3\\lib\\site-packages\\tensorflow\\python\\eager\\function.py\u001b[0m in \u001b[0;36mcall\u001b[1;34m(self, ctx, args, cancellation_manager)\u001b[0m\n\u001b[0;32m    543\u001b[0m       \u001b[1;32mwith\u001b[0m \u001b[0m_InterpolateFunctionError\u001b[0m\u001b[1;33m(\u001b[0m\u001b[0mself\u001b[0m\u001b[1;33m)\u001b[0m\u001b[1;33m:\u001b[0m\u001b[1;33m\u001b[0m\u001b[1;33m\u001b[0m\u001b[0m\n\u001b[0;32m    544\u001b[0m         \u001b[1;32mif\u001b[0m \u001b[0mcancellation_manager\u001b[0m \u001b[1;32mis\u001b[0m \u001b[1;32mNone\u001b[0m\u001b[1;33m:\u001b[0m\u001b[1;33m\u001b[0m\u001b[1;33m\u001b[0m\u001b[0m\n\u001b[1;32m--> 545\u001b[1;33m           outputs = execute.execute(\n\u001b[0m\u001b[0;32m    546\u001b[0m               \u001b[0mstr\u001b[0m\u001b[1;33m(\u001b[0m\u001b[0mself\u001b[0m\u001b[1;33m.\u001b[0m\u001b[0msignature\u001b[0m\u001b[1;33m.\u001b[0m\u001b[0mname\u001b[0m\u001b[1;33m)\u001b[0m\u001b[1;33m,\u001b[0m\u001b[1;33m\u001b[0m\u001b[1;33m\u001b[0m\u001b[0m\n\u001b[0;32m    547\u001b[0m               \u001b[0mnum_outputs\u001b[0m\u001b[1;33m=\u001b[0m\u001b[0mself\u001b[0m\u001b[1;33m.\u001b[0m\u001b[0m_num_outputs\u001b[0m\u001b[1;33m,\u001b[0m\u001b[1;33m\u001b[0m\u001b[1;33m\u001b[0m\u001b[0m\n",
      "\u001b[1;32m~\\anaconda3\\lib\\site-packages\\tensorflow\\python\\eager\\execute.py\u001b[0m in \u001b[0;36mquick_execute\u001b[1;34m(op_name, num_outputs, inputs, attrs, ctx, name)\u001b[0m\n\u001b[0;32m     57\u001b[0m   \u001b[1;32mtry\u001b[0m\u001b[1;33m:\u001b[0m\u001b[1;33m\u001b[0m\u001b[1;33m\u001b[0m\u001b[0m\n\u001b[0;32m     58\u001b[0m     \u001b[0mctx\u001b[0m\u001b[1;33m.\u001b[0m\u001b[0mensure_initialized\u001b[0m\u001b[1;33m(\u001b[0m\u001b[1;33m)\u001b[0m\u001b[1;33m\u001b[0m\u001b[1;33m\u001b[0m\u001b[0m\n\u001b[1;32m---> 59\u001b[1;33m     tensors = pywrap_tfe.TFE_Py_Execute(ctx._handle, device_name, op_name,\n\u001b[0m\u001b[0;32m     60\u001b[0m                                         inputs, attrs, num_outputs)\n\u001b[0;32m     61\u001b[0m   \u001b[1;32mexcept\u001b[0m \u001b[0mcore\u001b[0m\u001b[1;33m.\u001b[0m\u001b[0m_NotOkStatusException\u001b[0m \u001b[1;32mas\u001b[0m \u001b[0me\u001b[0m\u001b[1;33m:\u001b[0m\u001b[1;33m\u001b[0m\u001b[1;33m\u001b[0m\u001b[0m\n",
      "\u001b[1;31mKeyboardInterrupt\u001b[0m: "
     ]
    }
   ],
   "source": [
    "history = cnn_model.fit(train_data, \n",
    "    validation_data=validation_data,\n",
    "    shuffle= True,\n",
    "    epochs = 15,\n",
    ").history"
   ]
  },
  {
   "cell_type": "code",
   "execution_count": 154,
   "metadata": {},
   "outputs": [],
   "source": [
    "#Computing the prediction of the model on the validation set\n",
    "predictions = []\n",
    "for element in validation_data.as_numpy_iterator():\n",
    "    predictions.append(cnn_model.predict(element[0]))"
   ]
  },
  {
   "cell_type": "code",
   "execution_count": 155,
   "metadata": {},
   "outputs": [],
   "source": [
    "predictions_f = [item for sublist in predictions for item in sublist]"
   ]
  },
  {
   "cell_type": "code",
   "execution_count": 156,
   "metadata": {},
   "outputs": [],
   "source": [
    "predictions_oh = []\n",
    "#transform prediction into one-hot-encoding \n",
    "for i in range(len(predictions_f)):\n",
    "    predictions_oh.append(tf.one_hot(tf.argmax(predictions_f[i]), depth=3))"
   ]
  },
  {
   "cell_type": "code",
   "execution_count": 157,
   "metadata": {},
   "outputs": [],
   "source": [
    "#Compute the true and prediction array in order to plot the confusion matrix\n",
    "y = []\n",
    "\n",
    "for y_t in y_val.tolist():\n",
    "    if(y_t == [1, 0, 0]):\n",
    "        y.append('N')\n",
    "    if(y_t == [0, 1 ,0]):\n",
    "        y.append('S')\n",
    "    if(y_t == [0, 0 ,1]):\n",
    "        y.append('V')    \n",
    "\n",
    "y_pred = []\n",
    "\n",
    "for y_t in predictions_oh:\n",
    "    if(all(tf.equal(y_t, tf.constant([1, 0, 0], dtype=np.float32)))):\n",
    "        y_pred.append('N')\n",
    "    elif(all(tf.equal(y_t, tf.constant([0, 1, 0], dtype=np.float32)))):\n",
    "        y_pred.append('S')\n",
    "    elif(all(tf.equal(y_t, tf.constant([0, 0, 1], dtype=np.float32)))):\n",
    "        y_pred.append('V')  \n",
    "    else:\n",
    "        print(y_t)    "
   ]
  },
  {
   "cell_type": "code",
   "execution_count": 158,
   "metadata": {},
   "outputs": [
    {
     "data": {
      "text/plain": [
       "<sklearn.metrics._plot.confusion_matrix.ConfusionMatrixDisplay at 0x19c3ba0dfa0>"
      ]
     },
     "execution_count": 158,
     "metadata": {},
     "output_type": "execute_result"
    },
    {
     "data": {
      "image/png": "[encoded data removed]",
      "text/plain": [
       "<Figure size 432x288 with 2 Axes>"
      ]
     },
     "metadata": {
      "needs_background": "light"
     },
     "output_type": "display_data"
    }
   ],
   "source": [
    "#Plotting the confusion matrix\n",
    "import seaborn as sns\n",
    "from sklearn.metrics import ConfusionMatrixDisplay, classification_report\n",
    "\n",
    "ConfusionMatrixDisplay.from_predictions(y, y_pred, normalize='true', labels = ['N', 'S', 'V'])"
   ]
  },
  {
   "cell_type": "code",
   "execution_count": 159,
   "metadata": {},
   "outputs": [
    {
     "name": "stdout",
     "output_type": "stream",
     "text": [
      "              precision    recall  f1-score   support\n",
      "\n",
      "           N       0.98      0.99      0.98     39204\n",
      "           S       0.77      0.52      0.62      1864\n",
      "           V       0.91      0.88      0.90      1537\n",
      "\n",
      "    accuracy                           0.97     42605\n",
      "   macro avg       0.89      0.80      0.83     42605\n",
      "weighted avg       0.96      0.97      0.96     42605\n",
      "\n"
     ]
    }
   ],
   "source": [
    "print(classification_report(y,y_pred))"
   ]
  }
 ],
 "metadata": {
  "interpreter": {
   "hash": "a1b18e5b73945bca42393a289077bd0b488e623c27b094a97a19d0bde50b9d70"
  },
  "kernelspec": {
   "display_name": "Python 3.8.3 64-bit ('base': conda)",
   "language": "python",
   "name": "python3"
  },
  "language_info": {
   "codemirror_mode": {
    "name": "ipython",
    "version": 3
   },
   "file_extension": ".py",
   "mimetype": "text/x-python",
   "name": "python",
   "nbconvert_exporter": "python",
   "pygments_lexer": "ipython3",
   "version": "3.8.3"
  },
  "orig_nbformat": 4
 },
 "nbformat": 4,
 "nbformat_minor": 2
}
