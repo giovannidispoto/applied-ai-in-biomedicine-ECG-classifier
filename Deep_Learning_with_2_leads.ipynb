{
  "cells": [
    {
      "cell_type": "markdown",
      "metadata": {
        "id": "tUL-tACwlkKT"
      },
      "source": [
        "This Notebook contains an ECG classification approach using Convolutional Neural Network."
      ]
    },
    {
      "cell_type": "code",
      "execution_count": 1,
      "metadata": {
        "colab": {
          "base_uri": "https://localhost:8080/"
        },
        "id": "vZEYLfN4ncnG",
        "outputId": "1c209901-dcf4-4e5c-dd98-facfc9d7f86e"
      },
      "outputs": [
        {
          "output_type": "stream",
          "name": "stdout",
          "text": [
            "Mounted at /content/drive\n"
          ]
        }
      ],
      "source": [
        "from google.colab import drive\n",
        "drive.mount('/content/drive')"
      ]
    },
    {
      "cell_type": "markdown",
      "source": [
        "# Data Loading"
      ],
      "metadata": {
        "id": "h6zzUO3kOFTT"
      }
    },
    {
      "cell_type": "code",
      "execution_count": 2,
      "metadata": {
        "colab": {
          "base_uri": "https://localhost:8080/"
        },
        "id": "ak07zlCnd5bS",
        "outputId": "cc24ae80-327b-45b4-f9a5-c60f5cfeac78"
      },
      "outputs": [
        {
          "output_type": "stream",
          "name": "stdout",
          "text": [
            "Archive:  /content/drive/MyDrive/AppliedAIinBiomedicine/final-assignment/training_set_splitted.zip\n",
            "   creating: training_set_splitted/\n",
            "   creating: training_set_splitted/test/\n",
            "  inflating: training_set_splitted/test/S104_250.mat  \n",
            "  inflating: training_set_splitted/test/S104_250_ann.mat  \n",
            "  inflating: training_set_splitted/test/S104_250_rpk.mat  \n",
            "  inflating: training_set_splitted/test/S105_250.mat  \n",
            "  inflating: training_set_splitted/test/S105_250_ann.mat  \n",
            " extracting: training_set_splitted/test/S105_250_rpk.mat  \n",
            "  inflating: training_set_splitted/test/S106_250.mat  \n",
            "  inflating: training_set_splitted/test/S106_250_ann.mat  \n",
            " extracting: training_set_splitted/test/S106_250_rpk.mat  \n",
            "  inflating: training_set_splitted/test/S107_250.mat  \n",
            "  inflating: training_set_splitted/test/S107_250_ann.mat  \n",
            "  inflating: training_set_splitted/test/S107_250_rpk.mat  \n",
            "  inflating: training_set_splitted/test/S108_250.mat  \n",
            "  inflating: training_set_splitted/test/S108_250_ann.mat  \n",
            "  inflating: training_set_splitted/test/S108_250_rpk.mat  \n",
            "  inflating: training_set_splitted/test/S109_250.mat  \n",
            "  inflating: training_set_splitted/test/S109_250_ann.mat  \n",
            "  inflating: training_set_splitted/test/S109_250_rpk.mat  \n",
            "  inflating: training_set_splitted/test/S110_250.mat  \n",
            "  inflating: training_set_splitted/test/S110_250_ann.mat  \n",
            " extracting: training_set_splitted/test/S110_250_rpk.mat  \n",
            "  inflating: training_set_splitted/test/S111_250.mat  \n",
            "  inflating: training_set_splitted/test/S111_250_ann.mat  \n",
            "  inflating: training_set_splitted/test/S111_250_rpk.mat  \n",
            "  inflating: training_set_splitted/test/S112_250.mat  \n",
            "  inflating: training_set_splitted/test/S112_250_ann.mat  \n",
            "  inflating: training_set_splitted/test/S112_250_rpk.mat  \n",
            "  inflating: training_set_splitted/test/S113_250.mat  \n",
            "  inflating: training_set_splitted/test/S113_250_ann.mat  \n",
            "  inflating: training_set_splitted/test/S113_250_rpk.mat  \n",
            "  inflating: training_set_splitted/test/S114_250.mat  \n",
            "  inflating: training_set_splitted/test/S114_250_ann.mat  \n",
            "  inflating: training_set_splitted/test/S114_250_rpk.mat  \n",
            "  inflating: training_set_splitted/test/S115_250.mat  \n",
            "  inflating: training_set_splitted/test/S115_250_ann.mat  \n",
            "  inflating: training_set_splitted/test/S115_250_rpk.mat  \n",
            "  inflating: training_set_splitted/test/S116_250.mat  \n",
            "  inflating: training_set_splitted/test/S116_250_ann.mat  \n",
            "  inflating: training_set_splitted/test/S116_250_rpk.mat  \n",
            "  inflating: training_set_splitted/test/S117_250.mat  \n",
            "  inflating: training_set_splitted/test/S117_250_ann.mat  \n",
            " extracting: training_set_splitted/test/S117_250_rpk.mat  \n",
            "  inflating: training_set_splitted/test/S118_250.mat  \n",
            "  inflating: training_set_splitted/test/S118_250_ann.mat  \n",
            "  inflating: training_set_splitted/test/S118_250_rpk.mat  \n",
            "   creating: training_set_splitted/train/\n",
            "  inflating: training_set_splitted/train/S001_128.mat  \n",
            "  inflating: training_set_splitted/train/S001_128_ann.mat  \n",
            "  inflating: training_set_splitted/train/S001_128_rpk.mat  \n",
            "  inflating: training_set_splitted/train/S002_128.mat  \n",
            "  inflating: training_set_splitted/train/S002_128_ann.mat  \n",
            " extracting: training_set_splitted/train/S002_128_rpk.mat  \n",
            "  inflating: training_set_splitted/train/S003_128.mat  \n",
            " extracting: training_set_splitted/train/S003_128_ann.mat  \n",
            "  inflating: training_set_splitted/train/S003_128_rpk.mat  \n",
            "  inflating: training_set_splitted/train/S004_128.mat  \n",
            "  inflating: training_set_splitted/train/S004_128_ann.mat  \n",
            " extracting: training_set_splitted/train/S004_128_rpk.mat  \n",
            "  inflating: training_set_splitted/train/S005_128.mat  \n",
            "  inflating: training_set_splitted/train/S005_128_ann.mat  \n",
            "  inflating: training_set_splitted/train/S005_128_rpk.mat  \n",
            "  inflating: training_set_splitted/train/S006_128.mat  \n",
            "  inflating: training_set_splitted/train/S006_128_ann.mat  \n",
            "  inflating: training_set_splitted/train/S006_128_rpk.mat  \n",
            "  inflating: training_set_splitted/train/S007_128.mat  \n",
            " extracting: training_set_splitted/train/S007_128_ann.mat  \n",
            " extracting: training_set_splitted/train/S007_128_rpk.mat  \n",
            "  inflating: training_set_splitted/train/S008_128.mat  \n",
            "  inflating: training_set_splitted/train/S008_128_ann.mat  \n",
            " extracting: training_set_splitted/train/S008_128_rpk.mat  \n",
            "  inflating: training_set_splitted/train/S009_128.mat  \n",
            "  inflating: training_set_splitted/train/S009_128_ann.mat  \n",
            " extracting: training_set_splitted/train/S009_128_rpk.mat  \n",
            "  inflating: training_set_splitted/train/S010_128.mat  \n",
            " extracting: training_set_splitted/train/S010_128_ann.mat  \n",
            " extracting: training_set_splitted/train/S010_128_rpk.mat  \n",
            "  inflating: training_set_splitted/train/S011_128.mat  \n",
            " extracting: training_set_splitted/train/S011_128_ann.mat  \n",
            " extracting: training_set_splitted/train/S011_128_rpk.mat  \n",
            "  inflating: training_set_splitted/train/S012_128.mat  \n",
            " extracting: training_set_splitted/train/S012_128_ann.mat  \n",
            " extracting: training_set_splitted/train/S012_128_rpk.mat  \n",
            "  inflating: training_set_splitted/train/S013_128.mat  \n",
            "  inflating: training_set_splitted/train/S013_128_ann.mat  \n",
            "  inflating: training_set_splitted/train/S013_128_rpk.mat  \n",
            "  inflating: training_set_splitted/train/S014_128.mat  \n",
            " extracting: training_set_splitted/train/S014_128_ann.mat  \n",
            "  inflating: training_set_splitted/train/S014_128_rpk.mat  \n",
            "  inflating: training_set_splitted/train/S015_128.mat  \n",
            "  inflating: training_set_splitted/train/S015_128_ann.mat  \n",
            "  inflating: training_set_splitted/train/S015_128_rpk.mat  \n",
            "  inflating: training_set_splitted/train/S016_128.mat  \n",
            " extracting: training_set_splitted/train/S016_128_ann.mat  \n",
            "  inflating: training_set_splitted/train/S016_128_rpk.mat  \n",
            "  inflating: training_set_splitted/train/S017_128.mat  \n",
            "  inflating: training_set_splitted/train/S017_128_ann.mat  \n",
            "  inflating: training_set_splitted/train/S017_128_rpk.mat  \n",
            "  inflating: training_set_splitted/train/S018_128.mat  \n",
            "  inflating: training_set_splitted/train/S018_128_ann.mat  \n",
            "  inflating: training_set_splitted/train/S018_128_rpk.mat  \n",
            "  inflating: training_set_splitted/train/S019_128.mat  \n",
            "  inflating: training_set_splitted/train/S019_128_ann.mat  \n",
            "  inflating: training_set_splitted/train/S019_128_rpk.mat  \n",
            "  inflating: training_set_splitted/train/S020_128.mat  \n",
            " extracting: training_set_splitted/train/S020_128_ann.mat  \n",
            " extracting: training_set_splitted/train/S020_128_rpk.mat  \n",
            "  inflating: training_set_splitted/train/S021_128.mat  \n",
            "  inflating: training_set_splitted/train/S021_128_ann.mat  \n",
            "  inflating: training_set_splitted/train/S021_128_rpk.mat  \n",
            "  inflating: training_set_splitted/train/S022_128.mat  \n",
            "  inflating: training_set_splitted/train/S022_128_ann.mat  \n",
            "  inflating: training_set_splitted/train/S022_128_rpk.mat  \n",
            "  inflating: training_set_splitted/train/S023_128.mat  \n",
            " extracting: training_set_splitted/train/S023_128_ann.mat  \n",
            "  inflating: training_set_splitted/train/S023_128_rpk.mat  \n",
            "  inflating: training_set_splitted/train/S024_128.mat  \n",
            "  inflating: training_set_splitted/train/S024_128_ann.mat  \n",
            "  inflating: training_set_splitted/train/S024_128_rpk.mat  \n",
            "  inflating: training_set_splitted/train/S025_128.mat  \n",
            "  inflating: training_set_splitted/train/S025_128_ann.mat  \n",
            " extracting: training_set_splitted/train/S025_128_rpk.mat  \n",
            "  inflating: training_set_splitted/train/S026_128.mat  \n",
            "  inflating: training_set_splitted/train/S026_128_ann.mat  \n",
            "  inflating: training_set_splitted/train/S026_128_rpk.mat  \n",
            "  inflating: training_set_splitted/train/S027_128.mat  \n",
            "  inflating: training_set_splitted/train/S027_128_ann.mat  \n",
            "  inflating: training_set_splitted/train/S027_128_rpk.mat  \n",
            "  inflating: training_set_splitted/train/S028_128.mat  \n",
            "  inflating: training_set_splitted/train/S028_128_ann.mat  \n",
            "  inflating: training_set_splitted/train/S028_128_rpk.mat  \n",
            "  inflating: training_set_splitted/train/S029_128.mat  \n",
            "  inflating: training_set_splitted/train/S029_128_ann.mat  \n",
            " extracting: training_set_splitted/train/S029_128_rpk.mat  \n",
            "  inflating: training_set_splitted/train/S030_128.mat  \n",
            " extracting: training_set_splitted/train/S030_128_ann.mat  \n",
            "  inflating: training_set_splitted/train/S030_128_rpk.mat  \n",
            "  inflating: training_set_splitted/train/S031_128.mat  \n",
            " extracting: training_set_splitted/train/S031_128_ann.mat  \n",
            " extracting: training_set_splitted/train/S031_128_rpk.mat  \n",
            "  inflating: training_set_splitted/train/S032_128.mat  \n",
            "  inflating: training_set_splitted/train/S032_128_ann.mat  \n",
            "  inflating: training_set_splitted/train/S032_128_rpk.mat  \n",
            "  inflating: training_set_splitted/train/S033_128.mat  \n",
            " extracting: training_set_splitted/train/S033_128_ann.mat  \n",
            " extracting: training_set_splitted/train/S033_128_rpk.mat  \n",
            "  inflating: training_set_splitted/train/S034_128.mat  \n",
            "  inflating: training_set_splitted/train/S034_128_ann.mat  \n",
            "  inflating: training_set_splitted/train/S034_128_rpk.mat  \n",
            "  inflating: training_set_splitted/train/S035_128.mat  \n",
            " extracting: training_set_splitted/train/S035_128_ann.mat  \n",
            " extracting: training_set_splitted/train/S035_128_rpk.mat  \n",
            "  inflating: training_set_splitted/train/S036_128.mat  \n",
            " extracting: training_set_splitted/train/S036_128_ann.mat  \n",
            "  inflating: training_set_splitted/train/S036_128_rpk.mat  \n",
            "  inflating: training_set_splitted/train/S037_128.mat  \n",
            " extracting: training_set_splitted/train/S037_128_ann.mat  \n",
            "  inflating: training_set_splitted/train/S037_128_rpk.mat  \n",
            "  inflating: training_set_splitted/train/S038_128.mat  \n",
            "  inflating: training_set_splitted/train/S038_128_ann.mat  \n",
            "  inflating: training_set_splitted/train/S038_128_rpk.mat  \n",
            "  inflating: training_set_splitted/train/S039_128.mat  \n",
            "  inflating: training_set_splitted/train/S039_128_ann.mat  \n",
            "  inflating: training_set_splitted/train/S039_128_rpk.mat  \n",
            "  inflating: training_set_splitted/train/S040_128.mat  \n",
            "  inflating: training_set_splitted/train/S040_128_ann.mat  \n",
            " extracting: training_set_splitted/train/S040_128_rpk.mat  \n",
            "  inflating: training_set_splitted/train/S041_128.mat  \n",
            " extracting: training_set_splitted/train/S041_128_ann.mat  \n",
            "  inflating: training_set_splitted/train/S041_128_rpk.mat  \n",
            "  inflating: training_set_splitted/train/S042_128.mat  \n",
            " extracting: training_set_splitted/train/S042_128_ann.mat  \n",
            "  inflating: training_set_splitted/train/S042_128_rpk.mat  \n",
            "  inflating: training_set_splitted/train/S043_128.mat  \n",
            "  inflating: training_set_splitted/train/S043_128_ann.mat  \n",
            "  inflating: training_set_splitted/train/S043_128_rpk.mat  \n",
            "  inflating: training_set_splitted/train/S044_128.mat  \n",
            " extracting: training_set_splitted/train/S044_128_ann.mat  \n",
            " extracting: training_set_splitted/train/S044_128_rpk.mat  \n",
            "  inflating: training_set_splitted/train/S045_128.mat  \n",
            "  inflating: training_set_splitted/train/S045_128_ann.mat  \n",
            "  inflating: training_set_splitted/train/S045_128_rpk.mat  \n",
            "  inflating: training_set_splitted/train/S046_128.mat  \n",
            "  inflating: training_set_splitted/train/S046_128_ann.mat  \n",
            "  inflating: training_set_splitted/train/S046_128_rpk.mat  \n",
            "  inflating: training_set_splitted/train/S047_128.mat  \n",
            "  inflating: training_set_splitted/train/S047_128_ann.mat  \n",
            "  inflating: training_set_splitted/train/S047_128_rpk.mat  \n",
            "  inflating: training_set_splitted/train/S048_128.mat  \n",
            "  inflating: training_set_splitted/train/S048_128_ann.mat  \n",
            "  inflating: training_set_splitted/train/S048_128_rpk.mat  \n",
            "  inflating: training_set_splitted/train/S049_128.mat  \n",
            " extracting: training_set_splitted/train/S049_128_ann.mat  \n",
            "  inflating: training_set_splitted/train/S049_128_rpk.mat  \n",
            "  inflating: training_set_splitted/train/S050_128.mat  \n",
            " extracting: training_set_splitted/train/S050_128_ann.mat  \n",
            "  inflating: training_set_splitted/train/S050_128_rpk.mat  \n",
            "  inflating: training_set_splitted/train/S051_128.mat  \n",
            " extracting: training_set_splitted/train/S051_128_ann.mat  \n",
            " extracting: training_set_splitted/train/S051_128_rpk.mat  \n",
            "  inflating: training_set_splitted/train/S052_128.mat  \n",
            "  inflating: training_set_splitted/train/S052_128_ann.mat  \n",
            " extracting: training_set_splitted/train/S052_128_rpk.mat  \n",
            "  inflating: training_set_splitted/train/S053_128.mat  \n",
            "  inflating: training_set_splitted/train/S053_128_ann.mat  \n",
            "  inflating: training_set_splitted/train/S053_128_rpk.mat  \n",
            "  inflating: training_set_splitted/train/S054_128.mat  \n",
            "  inflating: training_set_splitted/train/S054_128_ann.mat  \n",
            "  inflating: training_set_splitted/train/S054_128_rpk.mat  \n",
            "  inflating: training_set_splitted/train/S055_128.mat  \n",
            "  inflating: training_set_splitted/train/S055_128_ann.mat  \n",
            " extracting: training_set_splitted/train/S055_128_rpk.mat  \n",
            "  inflating: training_set_splitted/train/S056_128.mat  \n",
            " extracting: training_set_splitted/train/S056_128_ann.mat  \n",
            "  inflating: training_set_splitted/train/S056_128_rpk.mat  \n",
            "  inflating: training_set_splitted/train/S057_128.mat  \n",
            "  inflating: training_set_splitted/train/S057_128_ann.mat  \n",
            "  inflating: training_set_splitted/train/S057_128_rpk.mat  \n",
            "  inflating: training_set_splitted/train/S058_128.mat  \n",
            " extracting: training_set_splitted/train/S058_128_ann.mat  \n",
            "  inflating: training_set_splitted/train/S058_128_rpk.mat  \n",
            "  inflating: training_set_splitted/train/S059_128.mat  \n",
            "  inflating: training_set_splitted/train/S059_128_ann.mat  \n",
            " extracting: training_set_splitted/train/S059_128_rpk.mat  \n",
            "  inflating: training_set_splitted/train/S060_128.mat  \n",
            " extracting: training_set_splitted/train/S060_128_ann.mat  \n",
            " extracting: training_set_splitted/train/S060_128_rpk.mat  \n",
            "  inflating: training_set_splitted/train/S061_128.mat  \n",
            "  inflating: training_set_splitted/train/S061_128_ann.mat  \n",
            "  inflating: training_set_splitted/train/S061_128_rpk.mat  \n",
            "  inflating: training_set_splitted/train/S062_128.mat  \n",
            "  inflating: training_set_splitted/train/S062_128_ann.mat  \n",
            "  inflating: training_set_splitted/train/S062_128_rpk.mat  \n",
            "  inflating: training_set_splitted/train/S063_128.mat  \n",
            " extracting: training_set_splitted/train/S063_128_ann.mat  \n",
            " extracting: training_set_splitted/train/S063_128_rpk.mat  \n",
            "  inflating: training_set_splitted/train/S064_128.mat  \n",
            " extracting: training_set_splitted/train/S064_128_ann.mat  \n",
            "  inflating: training_set_splitted/train/S064_128_rpk.mat  \n",
            "  inflating: training_set_splitted/train/S065_128.mat  \n",
            "  inflating: training_set_splitted/train/S065_128_ann.mat  \n",
            "  inflating: training_set_splitted/train/S065_128_rpk.mat  \n",
            "  inflating: training_set_splitted/train/S079_250.mat  \n",
            "  inflating: training_set_splitted/train/S079_250_ann.mat  \n",
            "  inflating: training_set_splitted/train/S079_250_rpk.mat  \n",
            "  inflating: training_set_splitted/train/S080_250.mat  \n",
            "  inflating: training_set_splitted/train/S080_250_ann.mat  \n",
            "  inflating: training_set_splitted/train/S080_250_rpk.mat  \n",
            "  inflating: training_set_splitted/train/S081_250.mat  \n",
            "  inflating: training_set_splitted/train/S081_250_ann.mat  \n",
            "  inflating: training_set_splitted/train/S081_250_rpk.mat  \n",
            "  inflating: training_set_splitted/train/S082_250.mat  \n",
            "  inflating: training_set_splitted/train/S082_250_ann.mat  \n",
            "  inflating: training_set_splitted/train/S082_250_rpk.mat  \n",
            "  inflating: training_set_splitted/train/S083_250.mat  \n",
            " extracting: training_set_splitted/train/S083_250_ann.mat  \n",
            "  inflating: training_set_splitted/train/S083_250_rpk.mat  \n",
            "  inflating: training_set_splitted/train/S084_250.mat  \n",
            "  inflating: training_set_splitted/train/S084_250_ann.mat  \n",
            "  inflating: training_set_splitted/train/S084_250_rpk.mat  \n",
            "  inflating: training_set_splitted/train/S085_250.mat  \n",
            "  inflating: training_set_splitted/train/S085_250_ann.mat  \n",
            "  inflating: training_set_splitted/train/S085_250_rpk.mat  \n",
            "  inflating: training_set_splitted/train/S086_250.mat  \n",
            "  inflating: training_set_splitted/train/S086_250_ann.mat  \n",
            "  inflating: training_set_splitted/train/S086_250_rpk.mat  \n",
            "  inflating: training_set_splitted/train/S087_250.mat  \n",
            "  inflating: training_set_splitted/train/S087_250_ann.mat  \n",
            "  inflating: training_set_splitted/train/S087_250_rpk.mat  \n",
            "  inflating: training_set_splitted/train/S088_250.mat  \n",
            "  inflating: training_set_splitted/train/S088_250_ann.mat  \n",
            "  inflating: training_set_splitted/train/S088_250_rpk.mat  \n",
            "  inflating: training_set_splitted/train/S089_250.mat  \n",
            "  inflating: training_set_splitted/train/S089_250_ann.mat  \n",
            "  inflating: training_set_splitted/train/S089_250_rpk.mat  \n",
            "  inflating: training_set_splitted/train/S090_250.mat  \n",
            "  inflating: training_set_splitted/train/S090_250_ann.mat  \n",
            "  inflating: training_set_splitted/train/S090_250_rpk.mat  \n",
            "  inflating: training_set_splitted/train/S091_250.mat  \n",
            "  inflating: training_set_splitted/train/S091_250_ann.mat  \n",
            " extracting: training_set_splitted/train/S091_250_rpk.mat  \n",
            "  inflating: training_set_splitted/train/S092_250.mat  \n",
            "  inflating: training_set_splitted/train/S092_250_ann.mat  \n",
            " extracting: training_set_splitted/train/S092_250_rpk.mat  \n",
            "  inflating: training_set_splitted/train/S093_250.mat  \n",
            "  inflating: training_set_splitted/train/S093_250_ann.mat  \n",
            "  inflating: training_set_splitted/train/S093_250_rpk.mat  \n",
            "  inflating: training_set_splitted/train/S094_250.mat  \n",
            "  inflating: training_set_splitted/train/S094_250_ann.mat  \n",
            "  inflating: training_set_splitted/train/S094_250_rpk.mat  \n",
            "  inflating: training_set_splitted/train/S095_250.mat  \n",
            " extracting: training_set_splitted/train/S095_250_ann.mat  \n",
            "  inflating: training_set_splitted/train/S095_250_rpk.mat  \n",
            "  inflating: training_set_splitted/train/S096_250.mat  \n",
            "  inflating: training_set_splitted/train/S096_250_ann.mat  \n",
            "  inflating: training_set_splitted/train/S096_250_rpk.mat  \n",
            "  inflating: training_set_splitted/train/S097_250.mat  \n",
            "  inflating: training_set_splitted/train/S097_250_ann.mat  \n",
            "  inflating: training_set_splitted/train/S097_250_rpk.mat  \n",
            "  inflating: training_set_splitted/train/S098_250.mat  \n",
            "  inflating: training_set_splitted/train/S098_250_ann.mat  \n",
            " extracting: training_set_splitted/train/S098_250_rpk.mat  \n",
            "  inflating: training_set_splitted/train/S099_250.mat  \n",
            "  inflating: training_set_splitted/train/S099_250_ann.mat  \n",
            "  inflating: training_set_splitted/train/S099_250_rpk.mat  \n",
            "  inflating: training_set_splitted/train/S100_250.mat  \n",
            "  inflating: training_set_splitted/train/S100_250_ann.mat  \n",
            "  inflating: training_set_splitted/train/S100_250_rpk.mat  \n",
            "  inflating: training_set_splitted/train/S101_250.mat  \n",
            "  inflating: training_set_splitted/train/S101_250_ann.mat  \n",
            "  inflating: training_set_splitted/train/S101_250_rpk.mat  \n",
            "  inflating: training_set_splitted/train/S102_250.mat  \n",
            " extracting: training_set_splitted/train/S102_250_ann.mat  \n",
            "  inflating: training_set_splitted/train/S102_250_rpk.mat  \n",
            "  inflating: training_set_splitted/train/S103_250.mat  \n",
            "  inflating: training_set_splitted/train/S103_250_ann.mat  \n",
            "  inflating: training_set_splitted/train/S103_250_rpk.mat  \n"
          ]
        }
      ],
      "source": [
        "!unzip /content/drive/MyDrive/AppliedAIinBiomedicine/final-assignment/training_set_splitted.zip"
      ]
    },
    {
      "cell_type": "code",
      "execution_count": 3,
      "metadata": {
        "id": "bdVz8qahlkKX"
      },
      "outputs": [],
      "source": [
        "input_dir = \"/content/training_set_splitted/train\""
      ]
    },
    {
      "cell_type": "code",
      "execution_count": 4,
      "metadata": {
        "colab": {
          "base_uri": "https://localhost:8080/"
        },
        "id": "MmGesOxIlkKY",
        "outputId": "47f25b64-27db-4c4f-e3e3-16c339506333"
      },
      "outputs": [
        {
          "output_type": "stream",
          "name": "stdout",
          "text": [
            "['S001_128.mat', 'S001_128_ann.mat', 'S001_128_rpk.mat', 'S002_128.mat', 'S002_128_ann.mat', 'S002_128_rpk.mat', 'S003_128.mat', 'S003_128_ann.mat', 'S003_128_rpk.mat', 'S004_128.mat', 'S004_128_ann.mat', 'S004_128_rpk.mat', 'S005_128.mat', 'S005_128_ann.mat', 'S005_128_rpk.mat', 'S006_128.mat', 'S006_128_ann.mat', 'S006_128_rpk.mat', 'S007_128.mat', 'S007_128_ann.mat', 'S007_128_rpk.mat', 'S008_128.mat', 'S008_128_ann.mat', 'S008_128_rpk.mat', 'S009_128.mat', 'S009_128_ann.mat', 'S009_128_rpk.mat', 'S010_128.mat', 'S010_128_ann.mat', 'S010_128_rpk.mat', 'S011_128.mat', 'S011_128_ann.mat', 'S011_128_rpk.mat', 'S012_128.mat', 'S012_128_ann.mat', 'S012_128_rpk.mat', 'S013_128.mat', 'S013_128_ann.mat', 'S013_128_rpk.mat', 'S014_128.mat', 'S014_128_ann.mat', 'S014_128_rpk.mat', 'S015_128.mat', 'S015_128_ann.mat', 'S015_128_rpk.mat', 'S016_128.mat', 'S016_128_ann.mat', 'S016_128_rpk.mat', 'S017_128.mat', 'S017_128_ann.mat', 'S017_128_rpk.mat', 'S018_128.mat', 'S018_128_ann.mat', 'S018_128_rpk.mat', 'S019_128.mat', 'S019_128_ann.mat', 'S019_128_rpk.mat', 'S020_128.mat', 'S020_128_ann.mat', 'S020_128_rpk.mat', 'S021_128.mat', 'S021_128_ann.mat', 'S021_128_rpk.mat', 'S022_128.mat', 'S022_128_ann.mat', 'S022_128_rpk.mat', 'S023_128.mat', 'S023_128_ann.mat', 'S023_128_rpk.mat', 'S024_128.mat', 'S024_128_ann.mat', 'S024_128_rpk.mat', 'S025_128.mat', 'S025_128_ann.mat', 'S025_128_rpk.mat', 'S026_128.mat', 'S026_128_ann.mat', 'S026_128_rpk.mat', 'S027_128.mat', 'S027_128_ann.mat', 'S027_128_rpk.mat', 'S028_128.mat', 'S028_128_ann.mat', 'S028_128_rpk.mat', 'S029_128.mat', 'S029_128_ann.mat', 'S029_128_rpk.mat', 'S030_128.mat', 'S030_128_ann.mat', 'S030_128_rpk.mat', 'S031_128.mat', 'S031_128_ann.mat', 'S031_128_rpk.mat', 'S032_128.mat', 'S032_128_ann.mat', 'S032_128_rpk.mat', 'S033_128.mat', 'S033_128_ann.mat', 'S033_128_rpk.mat', 'S034_128.mat', 'S034_128_ann.mat', 'S034_128_rpk.mat', 'S035_128.mat', 'S035_128_ann.mat', 'S035_128_rpk.mat', 'S036_128.mat', 'S036_128_ann.mat', 'S036_128_rpk.mat', 'S037_128.mat', 'S037_128_ann.mat', 'S037_128_rpk.mat', 'S038_128.mat', 'S038_128_ann.mat', 'S038_128_rpk.mat', 'S039_128.mat', 'S039_128_ann.mat', 'S039_128_rpk.mat', 'S040_128.mat', 'S040_128_ann.mat', 'S040_128_rpk.mat', 'S041_128.mat', 'S041_128_ann.mat', 'S041_128_rpk.mat', 'S042_128.mat', 'S042_128_ann.mat', 'S042_128_rpk.mat', 'S043_128.mat', 'S043_128_ann.mat', 'S043_128_rpk.mat', 'S044_128.mat', 'S044_128_ann.mat', 'S044_128_rpk.mat', 'S045_128.mat', 'S045_128_ann.mat', 'S045_128_rpk.mat', 'S046_128.mat', 'S046_128_ann.mat', 'S046_128_rpk.mat', 'S047_128.mat', 'S047_128_ann.mat', 'S047_128_rpk.mat', 'S048_128.mat', 'S048_128_ann.mat', 'S048_128_rpk.mat', 'S049_128.mat', 'S049_128_ann.mat', 'S049_128_rpk.mat', 'S050_128.mat', 'S050_128_ann.mat', 'S050_128_rpk.mat', 'S051_128.mat', 'S051_128_ann.mat', 'S051_128_rpk.mat', 'S052_128.mat', 'S052_128_ann.mat', 'S052_128_rpk.mat', 'S053_128.mat', 'S053_128_ann.mat', 'S053_128_rpk.mat', 'S054_128.mat', 'S054_128_ann.mat', 'S054_128_rpk.mat', 'S055_128.mat', 'S055_128_ann.mat', 'S055_128_rpk.mat', 'S056_128.mat', 'S056_128_ann.mat', 'S056_128_rpk.mat', 'S057_128.mat', 'S057_128_ann.mat', 'S057_128_rpk.mat', 'S058_128.mat', 'S058_128_ann.mat', 'S058_128_rpk.mat', 'S059_128.mat', 'S059_128_ann.mat', 'S059_128_rpk.mat', 'S060_128.mat', 'S060_128_ann.mat', 'S060_128_rpk.mat', 'S061_128.mat', 'S061_128_ann.mat', 'S061_128_rpk.mat', 'S062_128.mat', 'S062_128_ann.mat', 'S062_128_rpk.mat', 'S063_128.mat', 'S063_128_ann.mat', 'S063_128_rpk.mat', 'S064_128.mat', 'S064_128_ann.mat', 'S064_128_rpk.mat', 'S065_128.mat', 'S065_128_ann.mat', 'S065_128_rpk.mat', 'S079_250.mat', 'S079_250_ann.mat', 'S079_250_rpk.mat', 'S080_250.mat', 'S080_250_ann.mat', 'S080_250_rpk.mat', 'S081_250.mat', 'S081_250_ann.mat', 'S081_250_rpk.mat', 'S082_250.mat', 'S082_250_ann.mat', 'S082_250_rpk.mat', 'S083_250.mat', 'S083_250_ann.mat', 'S083_250_rpk.mat', 'S084_250.mat', 'S084_250_ann.mat', 'S084_250_rpk.mat', 'S085_250.mat', 'S085_250_ann.mat', 'S085_250_rpk.mat', 'S086_250.mat', 'S086_250_ann.mat', 'S086_250_rpk.mat', 'S087_250.mat', 'S087_250_ann.mat', 'S087_250_rpk.mat', 'S088_250.mat', 'S088_250_ann.mat', 'S088_250_rpk.mat', 'S089_250.mat', 'S089_250_ann.mat', 'S089_250_rpk.mat', 'S090_250.mat', 'S090_250_ann.mat', 'S090_250_rpk.mat', 'S091_250.mat', 'S091_250_ann.mat', 'S091_250_rpk.mat', 'S092_250.mat', 'S092_250_ann.mat', 'S092_250_rpk.mat', 'S093_250.mat', 'S093_250_ann.mat', 'S093_250_rpk.mat', 'S094_250.mat', 'S094_250_ann.mat', 'S094_250_rpk.mat', 'S095_250.mat', 'S095_250_ann.mat', 'S095_250_rpk.mat', 'S096_250.mat', 'S096_250_ann.mat', 'S096_250_rpk.mat', 'S097_250.mat', 'S097_250_ann.mat', 'S097_250_rpk.mat', 'S098_250.mat', 'S098_250_ann.mat', 'S098_250_rpk.mat', 'S099_250.mat', 'S099_250_ann.mat', 'S099_250_rpk.mat', 'S100_250.mat', 'S100_250_ann.mat', 'S100_250_rpk.mat', 'S101_250.mat', 'S101_250_ann.mat', 'S101_250_rpk.mat', 'S102_250.mat', 'S102_250_ann.mat', 'S102_250_rpk.mat', 'S103_250.mat', 'S103_250_ann.mat', 'S103_250_rpk.mat']\n"
          ]
        }
      ],
      "source": [
        "import os\n",
        "\n",
        "# list the data present in the dataset\n",
        "dirs = sorted(os.listdir(input_dir))\n",
        "print(dirs)"
      ]
    },
    {
      "cell_type": "code",
      "execution_count": 5,
      "metadata": {
        "id": "1v75W2VBlkKZ"
      },
      "outputs": [],
      "source": [
        "# environment setup\n",
        "from scipy.io import loadmat\n",
        "import numpy as np, os, sys, joblib\n",
        "import matplotlib.pyplot as plt\n",
        "import math\n",
        "from tqdm import tqdm\n",
        "import pandas as pd\n",
        "import random\n",
        "\n",
        "#Setting random seed for reproducibility\n",
        "#Remember to use always SEED for the functions that requires it (like Scikit models)\n",
        "SEED = 1234\n",
        "np.random.seed(SEED)\n",
        "pd.core.common._random_stat = SEED\n",
        "random.seed(SEED)\n",
        "os.environ['PYTHONHASHSEED'] = str(SEED)"
      ]
    },
    {
      "cell_type": "code",
      "execution_count": 6,
      "metadata": {
        "id": "7qpFjnqplkKa"
      },
      "outputs": [],
      "source": [
        "# Utility function to load data\n",
        "\n",
        "def load_data(ecg_file):\n",
        "  ecg = loadmat(ecg_file)\n",
        "  rpk_file = ecg_file.replace('.mat', '_rpk.mat')\n",
        "  rpk = loadmat(rpk_file)\n",
        "  ann_file = ecg_file.replace('.mat', '_ann.mat')\n",
        "  ann = loadmat(ann_file)\n",
        "  return ecg, rpk, ann"
      ]
    },
    {
      "cell_type": "code",
      "execution_count": 7,
      "metadata": {
        "colab": {
          "base_uri": "https://localhost:8080/"
        },
        "id": "DQH3PLmulkKb",
        "outputId": "dcc40809-9508-418a-d550-97a6f92e201d"
      },
      "outputs": [
        {
          "output_type": "stream",
          "name": "stdout",
          "text": [
            "Loading file: 90/90"
          ]
        }
      ],
      "source": [
        "# Get the ecg file for each sample and create a list of all ecgs\n",
        "ecg_files = []\n",
        "\n",
        "for f in dirs:\n",
        "  g = input_dir+'/'+f\n",
        "  if g.find('_ann') == -1 and g.find('_rpk') == -1:\n",
        "   ecg_files.append(g)\n",
        "\n",
        "num_files = len(ecg_files)\n",
        "# Create lists that will contains each data types (ecg, labels, rpeaks) an filenames (a list which contains the original filename for each sample)\n",
        "filenames = list()\n",
        "ecgs = list()\n",
        "rpks = list()\n",
        "anns = list()\n",
        "\n",
        "for i in range(num_files):\n",
        "  ecg, rpk, ann = load_data(ecg_files[i])\n",
        "  print(\n",
        "        \"\\rLoading file: {}/{}\"\n",
        "            .format(i+1, num_files),\n",
        "        end=\"\"\n",
        "    )\n",
        "  ecgs.append(ecg)\n",
        "  rpks.append(rpk)\n",
        "  anns.append(ann)\n",
        "  filenames.append(ecg_files[i])\n",
        "\n",
        "#ecg = np.asarray(loadmat(g)['ecg'], dtype=np.float64)\n",
        "#rpk = np.asarray(loadmat(input_dir + \"/S083_250_rpk.mat\")['rpeaks'], dtype=np.float64)\n",
        "#ann = np.asarray(loadmat(input_dir + \"/S083_250_ann.mat\")['labels'])"
      ]
    },
    {
      "cell_type": "markdown",
      "source": [
        "### Single beats extraction"
      ],
      "metadata": {
        "id": "gHXBGPEiOSEx"
      }
    },
    {
      "cell_type": "code",
      "execution_count": 8,
      "metadata": {
        "colab": {
          "base_uri": "https://localhost:8080/"
        },
        "id": "5ll2Gb0mlkKb",
        "outputId": "f1b59dfe-cc57-44c6-cd68-bd25ad875d1a"
      },
      "outputs": [
        {
          "output_type": "stream",
          "name": "stdout",
          "text": [
            "Collecting neurokit2\n",
            "  Downloading neurokit2-0.1.5-py2.py3-none-any.whl (1.1 MB)\n",
            "\u001b[?25l\r\u001b[K     |▎                               | 10 kB 29.2 MB/s eta 0:00:01\r\u001b[K     |▋                               | 20 kB 37.7 MB/s eta 0:00:01\r\u001b[K     |█                               | 30 kB 42.1 MB/s eta 0:00:01\r\u001b[K     |█▏                              | 40 kB 38.0 MB/s eta 0:00:01\r\u001b[K     |█▌                              | 51 kB 15.7 MB/s eta 0:00:01\r\u001b[K     |█▉                              | 61 kB 17.7 MB/s eta 0:00:01\r\u001b[K     |██                              | 71 kB 13.9 MB/s eta 0:00:01\r\u001b[K     |██▍                             | 81 kB 15.3 MB/s eta 0:00:01\r\u001b[K     |██▊                             | 92 kB 16.8 MB/s eta 0:00:01\r\u001b[K     |███                             | 102 kB 13.5 MB/s eta 0:00:01\r\u001b[K     |███▎                            | 112 kB 13.5 MB/s eta 0:00:01\r\u001b[K     |███▋                            | 122 kB 13.5 MB/s eta 0:00:01\r\u001b[K     |███▉                            | 133 kB 13.5 MB/s eta 0:00:01\r\u001b[K     |████▏                           | 143 kB 13.5 MB/s eta 0:00:01\r\u001b[K     |████▌                           | 153 kB 13.5 MB/s eta 0:00:01\r\u001b[K     |████▉                           | 163 kB 13.5 MB/s eta 0:00:01\r\u001b[K     |█████                           | 174 kB 13.5 MB/s eta 0:00:01\r\u001b[K     |█████▍                          | 184 kB 13.5 MB/s eta 0:00:01\r\u001b[K     |█████▊                          | 194 kB 13.5 MB/s eta 0:00:01\r\u001b[K     |██████                          | 204 kB 13.5 MB/s eta 0:00:01\r\u001b[K     |██████▎                         | 215 kB 13.5 MB/s eta 0:00:01\r\u001b[K     |██████▋                         | 225 kB 13.5 MB/s eta 0:00:01\r\u001b[K     |██████▉                         | 235 kB 13.5 MB/s eta 0:00:01\r\u001b[K     |███████▏                        | 245 kB 13.5 MB/s eta 0:00:01\r\u001b[K     |███████▌                        | 256 kB 13.5 MB/s eta 0:00:01\r\u001b[K     |███████▊                        | 266 kB 13.5 MB/s eta 0:00:01\r\u001b[K     |████████                        | 276 kB 13.5 MB/s eta 0:00:01\r\u001b[K     |████████▍                       | 286 kB 13.5 MB/s eta 0:00:01\r\u001b[K     |████████▊                       | 296 kB 13.5 MB/s eta 0:00:01\r\u001b[K     |█████████                       | 307 kB 13.5 MB/s eta 0:00:01\r\u001b[K     |█████████▎                      | 317 kB 13.5 MB/s eta 0:00:01\r\u001b[K     |█████████▋                      | 327 kB 13.5 MB/s eta 0:00:01\r\u001b[K     |█████████▉                      | 337 kB 13.5 MB/s eta 0:00:01\r\u001b[K     |██████████▏                     | 348 kB 13.5 MB/s eta 0:00:01\r\u001b[K     |██████████▌                     | 358 kB 13.5 MB/s eta 0:00:01\r\u001b[K     |██████████▊                     | 368 kB 13.5 MB/s eta 0:00:01\r\u001b[K     |███████████                     | 378 kB 13.5 MB/s eta 0:00:01\r\u001b[K     |███████████▍                    | 389 kB 13.5 MB/s eta 0:00:01\r\u001b[K     |███████████▋                    | 399 kB 13.5 MB/s eta 0:00:01\r\u001b[K     |████████████                    | 409 kB 13.5 MB/s eta 0:00:01\r\u001b[K     |████████████▎                   | 419 kB 13.5 MB/s eta 0:00:01\r\u001b[K     |████████████▋                   | 430 kB 13.5 MB/s eta 0:00:01\r\u001b[K     |████████████▉                   | 440 kB 13.5 MB/s eta 0:00:01\r\u001b[K     |█████████████▏                  | 450 kB 13.5 MB/s eta 0:00:01\r\u001b[K     |█████████████▌                  | 460 kB 13.5 MB/s eta 0:00:01\r\u001b[K     |█████████████▊                  | 471 kB 13.5 MB/s eta 0:00:01\r\u001b[K     |██████████████                  | 481 kB 13.5 MB/s eta 0:00:01\r\u001b[K     |██████████████▍                 | 491 kB 13.5 MB/s eta 0:00:01\r\u001b[K     |██████████████▋                 | 501 kB 13.5 MB/s eta 0:00:01\r\u001b[K     |███████████████                 | 512 kB 13.5 MB/s eta 0:00:01\r\u001b[K     |███████████████▎                | 522 kB 13.5 MB/s eta 0:00:01\r\u001b[K     |███████████████▌                | 532 kB 13.5 MB/s eta 0:00:01\r\u001b[K     |███████████████▉                | 542 kB 13.5 MB/s eta 0:00:01\r\u001b[K     |████████████████▏               | 552 kB 13.5 MB/s eta 0:00:01\r\u001b[K     |████████████████▌               | 563 kB 13.5 MB/s eta 0:00:01\r\u001b[K     |████████████████▊               | 573 kB 13.5 MB/s eta 0:00:01\r\u001b[K     |█████████████████               | 583 kB 13.5 MB/s eta 0:00:01\r\u001b[K     |█████████████████▍              | 593 kB 13.5 MB/s eta 0:00:01\r\u001b[K     |█████████████████▋              | 604 kB 13.5 MB/s eta 0:00:01\r\u001b[K     |██████████████████              | 614 kB 13.5 MB/s eta 0:00:01\r\u001b[K     |██████████████████▎             | 624 kB 13.5 MB/s eta 0:00:01\r\u001b[K     |██████████████████▌             | 634 kB 13.5 MB/s eta 0:00:01\r\u001b[K     |██████████████████▉             | 645 kB 13.5 MB/s eta 0:00:01\r\u001b[K     |███████████████████▏            | 655 kB 13.5 MB/s eta 0:00:01\r\u001b[K     |███████████████████▍            | 665 kB 13.5 MB/s eta 0:00:01\r\u001b[K     |███████████████████▊            | 675 kB 13.5 MB/s eta 0:00:01\r\u001b[K     |████████████████████            | 686 kB 13.5 MB/s eta 0:00:01\r\u001b[K     |████████████████████▍           | 696 kB 13.5 MB/s eta 0:00:01\r\u001b[K     |████████████████████▋           | 706 kB 13.5 MB/s eta 0:00:01\r\u001b[K     |█████████████████████           | 716 kB 13.5 MB/s eta 0:00:01\r\u001b[K     |█████████████████████▎          | 727 kB 13.5 MB/s eta 0:00:01\r\u001b[K     |█████████████████████▌          | 737 kB 13.5 MB/s eta 0:00:01\r\u001b[K     |█████████████████████▉          | 747 kB 13.5 MB/s eta 0:00:01\r\u001b[K     |██████████████████████▏         | 757 kB 13.5 MB/s eta 0:00:01\r\u001b[K     |██████████████████████▍         | 768 kB 13.5 MB/s eta 0:00:01\r\u001b[K     |██████████████████████▊         | 778 kB 13.5 MB/s eta 0:00:01\r\u001b[K     |███████████████████████         | 788 kB 13.5 MB/s eta 0:00:01\r\u001b[K     |███████████████████████▎        | 798 kB 13.5 MB/s eta 0:00:01\r\u001b[K     |███████████████████████▋        | 808 kB 13.5 MB/s eta 0:00:01\r\u001b[K     |████████████████████████        | 819 kB 13.5 MB/s eta 0:00:01\r\u001b[K     |████████████████████████▏       | 829 kB 13.5 MB/s eta 0:00:01\r\u001b[K     |████████████████████████▌       | 839 kB 13.5 MB/s eta 0:00:01\r\u001b[K     |████████████████████████▉       | 849 kB 13.5 MB/s eta 0:00:01\r\u001b[K     |█████████████████████████▏      | 860 kB 13.5 MB/s eta 0:00:01\r\u001b[K     |█████████████████████████▍      | 870 kB 13.5 MB/s eta 0:00:01\r\u001b[K     |█████████████████████████▊      | 880 kB 13.5 MB/s eta 0:00:01\r\u001b[K     |██████████████████████████      | 890 kB 13.5 MB/s eta 0:00:01\r\u001b[K     |██████████████████████████▎     | 901 kB 13.5 MB/s eta 0:00:01\r\u001b[K     |██████████████████████████▋     | 911 kB 13.5 MB/s eta 0:00:01\r\u001b[K     |███████████████████████████     | 921 kB 13.5 MB/s eta 0:00:01\r\u001b[K     |███████████████████████████▏    | 931 kB 13.5 MB/s eta 0:00:01\r\u001b[K     |███████████████████████████▌    | 942 kB 13.5 MB/s eta 0:00:01\r\u001b[K     |███████████████████████████▉    | 952 kB 13.5 MB/s eta 0:00:01\r\u001b[K     |████████████████████████████    | 962 kB 13.5 MB/s eta 0:00:01\r\u001b[K     |████████████████████████████▍   | 972 kB 13.5 MB/s eta 0:00:01\r\u001b[K     |████████████████████████████▊   | 983 kB 13.5 MB/s eta 0:00:01\r\u001b[K     |█████████████████████████████   | 993 kB 13.5 MB/s eta 0:00:01\r\u001b[K     |█████████████████████████████▎  | 1.0 MB 13.5 MB/s eta 0:00:01\r\u001b[K     |█████████████████████████████▋  | 1.0 MB 13.5 MB/s eta 0:00:01\r\u001b[K     |██████████████████████████████  | 1.0 MB 13.5 MB/s eta 0:00:01\r\u001b[K     |██████████████████████████████▏ | 1.0 MB 13.5 MB/s eta 0:00:01\r\u001b[K     |██████████████████████████████▌ | 1.0 MB 13.5 MB/s eta 0:00:01\r\u001b[K     |██████████████████████████████▉ | 1.1 MB 13.5 MB/s eta 0:00:01\r\u001b[K     |███████████████████████████████ | 1.1 MB 13.5 MB/s eta 0:00:01\r\u001b[K     |███████████████████████████████▍| 1.1 MB 13.5 MB/s eta 0:00:01\r\u001b[K     |███████████████████████████████▊| 1.1 MB 13.5 MB/s eta 0:00:01\r\u001b[K     |████████████████████████████████| 1.1 MB 13.5 MB/s eta 0:00:01\r\u001b[K     |████████████████████████████████| 1.1 MB 13.5 MB/s \n",
            "\u001b[?25hCollecting tdqm\n",
            "  Downloading tdqm-0.0.1.tar.gz (1.4 kB)\n",
            "Requirement already satisfied: scikit-learn in /usr/local/lib/python3.7/dist-packages (from neurokit2) (1.0.1)\n",
            "Requirement already satisfied: pandas in /usr/local/lib/python3.7/dist-packages (from neurokit2) (1.1.5)\n",
            "Requirement already satisfied: matplotlib in /usr/local/lib/python3.7/dist-packages (from neurokit2) (3.2.2)\n",
            "Requirement already satisfied: scipy in /usr/local/lib/python3.7/dist-packages (from neurokit2) (1.4.1)\n",
            "Requirement already satisfied: numpy in /usr/local/lib/python3.7/dist-packages (from neurokit2) (1.19.5)\n",
            "Requirement already satisfied: tqdm in /usr/local/lib/python3.7/dist-packages (from tdqm) (4.62.3)\n",
            "Requirement already satisfied: pyparsing!=2.0.4,!=2.1.2,!=2.1.6,>=2.0.1 in /usr/local/lib/python3.7/dist-packages (from matplotlib->neurokit2) (3.0.6)\n",
            "Requirement already satisfied: cycler>=0.10 in /usr/local/lib/python3.7/dist-packages (from matplotlib->neurokit2) (0.11.0)\n",
            "Requirement already satisfied: kiwisolver>=1.0.1 in /usr/local/lib/python3.7/dist-packages (from matplotlib->neurokit2) (1.3.2)\n",
            "Requirement already satisfied: python-dateutil>=2.1 in /usr/local/lib/python3.7/dist-packages (from matplotlib->neurokit2) (2.8.2)\n",
            "Requirement already satisfied: six>=1.5 in /usr/local/lib/python3.7/dist-packages (from python-dateutil>=2.1->matplotlib->neurokit2) (1.15.0)\n",
            "Requirement already satisfied: pytz>=2017.2 in /usr/local/lib/python3.7/dist-packages (from pandas->neurokit2) (2018.9)\n",
            "Requirement already satisfied: joblib>=0.11 in /usr/local/lib/python3.7/dist-packages (from scikit-learn->neurokit2) (1.1.0)\n",
            "Requirement already satisfied: threadpoolctl>=2.0.0 in /usr/local/lib/python3.7/dist-packages (from scikit-learn->neurokit2) (3.0.0)\n",
            "Building wheels for collected packages: tdqm\n",
            "  Building wheel for tdqm (setup.py) ... \u001b[?25l\u001b[?25hdone\n",
            "  Created wheel for tdqm: filename=tdqm-0.0.1-py3-none-any.whl size=1323 sha256=24b67680f819754cec54467ff2a8709607da67c15f605097335faecb2c3577c4\n",
            "  Stored in directory: /root/.cache/pip/wheels/c6/f0/d9/9fa5ff78c0f9d5a0a427bbbb4893c283520ddfccb885ea2205\n",
            "Successfully built tdqm\n",
            "Installing collected packages: tdqm, neurokit2\n",
            "Successfully installed neurokit2-0.1.5 tdqm-0.0.1\n"
          ]
        }
      ],
      "source": [
        "! pip install neurokit2 tdqm"
      ]
    },
    {
      "cell_type": "code",
      "execution_count": 9,
      "metadata": {
        "id": "lnAQE2p5lkKc"
      },
      "outputs": [],
      "source": [
        "import neurokit2 as nk"
      ]
    },
    {
      "cell_type": "code",
      "execution_count": 10,
      "metadata": {
        "id": "3vBZTGQ1lkKd"
      },
      "outputs": [],
      "source": [
        "# Utility: given the filename of a signal it returns the sampling frequency\n",
        "def ecg_freq(filename):\n",
        "  if '128' in filename:\n",
        "    return 128\n",
        "  else:\n",
        "    return 250"
      ]
    },
    {
      "cell_type": "code",
      "execution_count": 115,
      "metadata": {
        "colab": {
          "base_uri": "https://localhost:8080/"
        },
        "id": "eFyw1AE8lkKd",
        "outputId": "e09cdd1a-7973-4d81-834a-ebda3e7af08e"
      },
      "outputs": [
        {
          "output_type": "stream",
          "name": "stderr",
          "text": [
            "100%|██████████| 90/90 [17:26<00:00, 11.63s/it]\n"
          ]
        }
      ],
      "source": [
        "# Try to extract each single heartbeat \n",
        " \n",
        "# list of list that contains all heartbeats divided by patient \n",
        "patient_heartbeats = [] \n",
        " \n",
        "for i in tqdm(range(len(ecgs))): \n",
        "  # extract a sample ecgd \n",
        "  ecg_sample = np.asarray(ecgs[i]['ecg'], dtype=np.float64) \n",
        "  sampling = ecg_freq(filenames[i]) \n",
        "  #ecg_sample_= np.arange(0, ecg_sample.shape[0]/sampling, 1/sampling) \n",
        "  # clean ecg_sample \n",
        "  ecg_signal_l1 = nk.ecg_clean(ecg_sample[:,0], sampling_rate=sampling, method='neurokit2') \n",
        "  ecg_signal_l2 = nk.ecg_clean(ecg_sample[:,1], sampling_rate=sampling, method='neurokit2') \n",
        "   \n",
        "  #Extract peaks from traning set and their labels \n",
        "  sample_rpeaks = rpks[i]['rpeaks']  \n",
        "  # Handling last beats (if last rpeak is >= to current ecg lenght, we remove it) \n",
        "  add_padding_l1=False \n",
        "  add_padding_l2=False \n",
        "  if sample_rpeaks[-1] >= len(ecg_signal_l1): \n",
        "    #sample_labels = sample_labels[:-1] \n",
        "    sample_rpeaks = sample_rpeaks[:-1]  \n",
        "    add_padding_l1 = True \n",
        "     \n",
        "  if sample_rpeaks[-1] >= len(ecg_signal_l2): \n",
        "    #sample_labels = sample_labels[:-1] \n",
        "    sample_rpeaks = sample_rpeaks[:-1]  \n",
        "    add_padding_l2 = True   \n",
        " \n",
        "  rpeaks = {'ECG_R_Peaks': sample_rpeaks.flatten(), 'sampling_rate': sampling} \n",
        " \n",
        "  # extract heartbeats of current ecg \n",
        "  ecg_heartbeats_l1 = nk.ecg_segment(ecg_cleaned=ecg_signal_l1, rpeaks=rpeaks['ECG_R_Peaks'], sampling_rate=sampling) \n",
        "  ecg_heartbeats_l2 = nk.ecg_segment(ecg_cleaned=ecg_signal_l2, rpeaks=rpeaks['ECG_R_Peaks'], sampling_rate=sampling) \n",
        " \n",
        "  if(add_padding_l1 == True): #If we cannot extract the last beat, we replicate the last good beat \n",
        "   ecg_heartbeats_l1[str(int(list(ecg_heartbeats_l1.keys())[-1]) + 1)] = ecg_heartbeats_l1[list(ecg_heartbeats_l1.keys())[-1]] \n",
        "  if(add_padding_l2 == True): #If we cannot extract the last beat, we replicate the last good beat \n",
        "   ecg_heartbeats_l2[str(int(list(ecg_heartbeats_l2.keys())[-1]) + 1)] = ecg_heartbeats_l2[list(ecg_heartbeats_l2.keys())[-1]]  \n",
        " \n",
        "  patient_heartbeats.append([ecg_heartbeats_l1, ecg_heartbeats_l2])"
      ]
    },
    {
      "cell_type": "code",
      "source": [
        "#load the heartbeats inside an array\n",
        "heartbeats = []\n",
        "\n",
        "for p in range(len(patient_heartbeats)):\n",
        "  if(len(patient_heartbeats[p][0]) >= len(patient_heartbeats[p][1])):\n",
        "   keys = patient_heartbeats[p][0].keys()\n",
        "  else:\n",
        "   keys = patient_heartbeats[p][1].keys()\n",
        "  for b in keys:\n",
        "   try:\n",
        "    lead1 = list(patient_heartbeats[p][0][b].Signal)\n",
        "   except:\n",
        "    lead1 = list()\n",
        "   try:  \n",
        "    lead2 = list(patient_heartbeats[p][1][b].Signal)\n",
        "   except:\n",
        "    lead2 = list()\n",
        "    \n",
        "   heartbeats.append([lead1, lead2])"
      ],
      "metadata": {
        "id": "AnTo293-uT0F"
      },
      "execution_count": 12,
      "outputs": []
    },
    {
      "cell_type": "code",
      "execution_count": 13,
      "metadata": {
        "id": "oXUByr6flkKf"
      },
      "outputs": [],
      "source": [
        "#removing nan values and substituting them with 0s\n",
        "for i in range(len(heartbeats)):\n",
        "    for j in [0, 1]:\n",
        "      for k in range(len(heartbeats[i][j])):\n",
        "        if(str(heartbeats[i][j][k]) == 'nan'):\n",
        "            heartbeats[i][j][k] = 0"
      ]
    },
    {
      "cell_type": "code",
      "source": [
        "# free some RAM usages\n",
        "patient_heartbeats = []"
      ],
      "metadata": {
        "id": "hVhY6G7EyU5z"
      },
      "execution_count": 126,
      "outputs": []
    },
    {
      "cell_type": "code",
      "execution_count": 15,
      "metadata": {
        "id": "7BMswt4hlkKf"
      },
      "outputs": [],
      "source": [
        "classes_name = ['N', 'S', 'V']"
      ]
    },
    {
      "cell_type": "code",
      "execution_count": 16,
      "metadata": {
        "id": "4soQtAhFlkKf"
      },
      "outputs": [],
      "source": [
        "# list which contains all labels of each beat\n",
        "all_labels = []\n",
        "\n",
        "for sample in anns:\n",
        "  for beat in sample['labels']:\n",
        "    all_labels.append(beat)"
      ]
    },
    {
      "cell_type": "code",
      "execution_count": 17,
      "metadata": {
        "colab": {
          "base_uri": "https://localhost:8080/"
        },
        "id": "KWDMbxuDlkKg",
        "outputId": "39413166-81ed-44dc-a0b7-8ec80f17f8ac"
      },
      "outputs": [
        {
          "output_type": "stream",
          "name": "stdout",
          "text": [
            "213024\n",
            "213024\n"
          ]
        }
      ],
      "source": [
        "print(len(all_labels))\n",
        "print(len(heartbeats))"
      ]
    },
    {
      "cell_type": "code",
      "execution_count": 18,
      "metadata": {
        "colab": {
          "base_uri": "https://localhost:8080/",
          "height": 265
        },
        "id": "xKwV1I4jlkKg",
        "outputId": "c938809c-d3d5-4e32-ca53-d9b10aa18930"
      },
      "outputs": [
        {
          "output_type": "display_data",
          "data": {
            "image/png": "[encoded data removed]",
            "text/plain": [
              "<Figure size 432x288 with 1 Axes>"
            ]
          },
          "metadata": {
            "needs_background": "light"
          }
        }
      ],
      "source": [
        "lengths = []\n",
        "for b in heartbeats:\n",
        "  for a in [0, 1]:\n",
        "   lengths.append(len(b[a]))\n",
        "\n",
        "import matplotlib.pyplot as plt\n",
        "\n",
        "plt.plot(lengths)\n",
        "\n",
        "max_len = max(lengths)"
      ]
    },
    {
      "cell_type": "code",
      "source": [
        "# hand-crafted padding of all beats\n",
        "for beat in heartbeats:\n",
        "  while len(beat[0]) != max_len:\n",
        "    beat[0].append(0)\n",
        "\n",
        "for beat in heartbeats:\n",
        "  while len(beat[1]) != max_len:\n",
        "    beat[1].append(0)"
      ],
      "metadata": {
        "id": "M0Wg1nkEADj8"
      },
      "execution_count": 19,
      "outputs": []
    },
    {
      "cell_type": "code",
      "execution_count": null,
      "metadata": {
        "id": "7njxCSVKlkKh"
      },
      "outputs": [],
      "source": [
        "#features = dict(patient_heartbeats = heartbeats, target = all_labels)"
      ]
    },
    {
      "cell_type": "code",
      "execution_count": null,
      "metadata": {
        "id": "PuTk1hcjlkKh"
      },
      "outputs": [],
      "source": [
        "#features_df = pd.DataFrame(dict([ (k,pd.Series(v)) for k,v in features.items() ]))"
      ]
    },
    {
      "cell_type": "markdown",
      "source": [
        "### Preprocessing"
      ],
      "metadata": {
        "id": "zCxInRXLOhE_"
      }
    },
    {
      "cell_type": "markdown",
      "source": [
        "Here we perform some data preprocessing to prepare them for the NN model. In particular:\n",
        "\n",
        "*   We encode labels with one hot encoding\n",
        "*   We split data in training and validation set\n",
        "*   We compute class weights to deal with class imbalance problem\n",
        "*   We normalize the data\n",
        "*   Finally we create a batch generator to not load all data in RAM during training\n",
        "\n",
        "\n",
        "\n",
        "\n",
        "\n"
      ],
      "metadata": {
        "id": "R9ADrjiwO_Nt"
      }
    },
    {
      "cell_type": "code",
      "execution_count": 20,
      "metadata": {
        "id": "wu14RazQlkKh"
      },
      "outputs": [],
      "source": [
        "from sklearn.preprocessing import OneHotEncoder, LabelEncoder\n",
        "\n",
        "label_encoder = LabelEncoder()\n",
        "integer_encoded = label_encoder.fit_transform(all_labels)\n",
        "\n",
        "#One hot encoding of the target values\n",
        "ohe = OneHotEncoder(sparse=False)\n",
        "integer_encoded = integer_encoded.reshape(len(integer_encoded), 1)\n",
        "target_ohe = ohe.fit_transform(integer_encoded)"
      ]
    },
    {
      "cell_type": "code",
      "execution_count": 21,
      "metadata": {
        "colab": {
          "base_uri": "https://localhost:8080/"
        },
        "id": "DhFicQH0lkKh",
        "outputId": "4f18159e-35c0-409f-fbbb-188e40327a98"
      },
      "outputs": [
        {
          "output_type": "execute_result",
          "data": {
            "text/plain": [
              "array(['N', 'S', 'V'], dtype='<U1')"
            ]
          },
          "metadata": {},
          "execution_count": 21
        }
      ],
      "source": [
        "label_encoder.inverse_transform([0,1,2])"
      ]
    },
    {
      "cell_type": "code",
      "execution_count": 22,
      "metadata": {
        "colab": {
          "base_uri": "https://localhost:8080/"
        },
        "id": "UfsW6i1plkKi",
        "outputId": "7e4131b5-1781-4cac-daa3-7fe3802b40cd"
      },
      "outputs": [
        {
          "output_type": "execute_result",
          "data": {
            "text/plain": [
              "array([[0],\n",
              "       [1],\n",
              "       [2]])"
            ]
          },
          "metadata": {},
          "execution_count": 22
        }
      ],
      "source": [
        "ohe.inverse_transform([[1, 0, 0], [0,1,0], [0,0,1]])"
      ]
    },
    {
      "cell_type": "code",
      "execution_count": 199,
      "metadata": {
        "id": "7m1xRIcPlkKi"
      },
      "outputs": [],
      "source": [
        "from sklearn.model_selection import train_test_split\n",
        "X_train, X_val, y_train, y_val = train_test_split(heartbeats, target_ohe, test_size=0.2, random_state=SEED,\n",
        "                               shuffle=True, stratify=target_ohe)"
      ]
    },
    {
      "cell_type": "code",
      "execution_count": null,
      "metadata": {
        "colab": {
          "base_uri": "https://localhost:8080/"
        },
        "id": "TuVj3qXH8cfg",
        "outputId": "5da06f0b-c946-4831-a554-9ba4432ceded"
      },
      "outputs": [
        {
          "output_type": "stream",
          "name": "stdout",
          "text": [
            "Requirement already satisfied: imbalanced-learn in /usr/local/lib/python3.7/dist-packages (0.8.1)\n",
            "Requirement already satisfied: numpy>=1.13.3 in /usr/local/lib/python3.7/dist-packages (from imbalanced-learn) (1.19.5)\n",
            "Requirement already satisfied: joblib>=0.11 in /usr/local/lib/python3.7/dist-packages (from imbalanced-learn) (1.1.0)\n",
            "Requirement already satisfied: scipy>=0.19.1 in /usr/local/lib/python3.7/dist-packages (from imbalanced-learn) (1.4.1)\n",
            "Requirement already satisfied: scikit-learn>=0.24 in /usr/local/lib/python3.7/dist-packages (from imbalanced-learn) (1.0.1)\n",
            "Requirement already satisfied: threadpoolctl>=2.0.0 in /usr/local/lib/python3.7/dist-packages (from scikit-learn>=0.24->imbalanced-learn) (3.0.0)\n"
          ]
        }
      ],
      "source": [
        "#!pip install imbalanced-learn"
      ]
    },
    {
      "cell_type": "code",
      "execution_count": null,
      "metadata": {
        "colab": {
          "base_uri": "https://localhost:8080/"
        },
        "id": "LB2do1x_8Sqw",
        "outputId": "a533cc7d-d896-4dd9-f30f-8923868ad492"
      },
      "outputs": [
        {
          "name": "stdout",
          "output_type": "stream",
          "text": [
            "Counter({0: 156815, 1: 7454, 2: 6150})\n",
            "Counter({0: 6150, 1: 6150, 2: 6150})\n"
          ]
        }
      ],
      "source": [
        "# RESAMPLING TO DEAL THE HEAVY CLASS IMBALANCE (it does not work for now)\n",
        "\n",
        "# Perform resampling over the dataset to balance classes\n",
        "# example of random undersampling to balance the class distribution\n",
        "#from collections import Counter\n",
        "#from sklearn.datasets import make_classification\n",
        "#from imblearn.under_sampling import RandomUnderSampler\n",
        "\n",
        "#y_integers = np.argmax(y_train, axis=1)\n",
        "# summarize class distribution\n",
        "#print(Counter(np.ravel(y_integers)))\n",
        "# define undersample strategy\n",
        "#undersample = RandomUnderSampler(sampling_strategy='majority')\n",
        "# fit and apply the transform (applied 2 times to balance all classes)\n",
        "#X_train, y_train = undersample.fit_resample(X_train, y_train)\n",
        "##X_train, y_train = undersample.fit_resample(X_train, y_train)\n",
        "#train_features, train_target = undersample.fit_resample(train_features, train_target)\n",
        "# summarize class distribution\n",
        "#y_integers = np.argmax(y_train, axis=1)\n",
        "#print(Counter(np.ravel(y_integers)))"
      ]
    },
    {
      "cell_type": "code",
      "source": [
        " X_train = np.array(X_train)\n",
        "X_val = np.array(X_val)\n",
        "type(X_train)"
      ],
      "metadata": {
        "colab": {
          "base_uri": "https://localhost:8080/"
        },
        "id": "fnT1gFpzFGhl",
        "outputId": "d1a0dfaa-06bd-4e9d-9169-51010840b307"
      },
      "execution_count": 200,
      "outputs": [
        {
          "output_type": "execute_result",
          "data": {
            "text/plain": [
              "numpy.ndarray"
            ]
          },
          "metadata": {},
          "execution_count": 200
        }
      ]
    },
    {
      "cell_type": "code",
      "source": [
        "X_train.shape"
      ],
      "metadata": {
        "colab": {
          "base_uri": "https://localhost:8080/"
        },
        "id": "7snxBM5ALSnX",
        "outputId": "f6e5edf0-ac3a-430f-ec0d-d4397f5350fb"
      },
      "execution_count": 201,
      "outputs": [
        {
          "output_type": "execute_result",
          "data": {
            "text/plain": [
              "(170419, 2, 223)"
            ]
          },
          "metadata": {},
          "execution_count": 201
        }
      ]
    },
    {
      "cell_type": "code",
      "source": [
        "# plot two leads of a single beat\n",
        "plt.figure(figsize=(20, 5))\n",
        "plt.plot(X_train[2][0], 'k')\n",
        "plt.plot(X_train[2][1], 'k')\n",
        "plt.show()"
      ],
      "metadata": {
        "colab": {
          "base_uri": "https://localhost:8080/",
          "height": 282
        },
        "id": "zp56s26HWOdV",
        "outputId": "8715e9d6-0e7e-4e90-839a-89d8b9195254"
      },
      "execution_count": 202,
      "outputs": [
        {
          "output_type": "display_data",
          "data": {
            "image/png": "[encoded data removed]",
            "text/plain": [
              "<Figure size 1440x360 with 1 Axes>"
            ]
          },
          "metadata": {
            "needs_background": "light"
          }
        }
      ]
    },
    {
      "cell_type": "code",
      "execution_count": 203,
      "metadata": {
        "id": "K_QT7nHSlkKi"
      },
      "outputs": [],
      "source": [
        "X_train = np.swapaxes(X_train, 1, 2)\n",
        "\n",
        "X_val = np.swapaxes(X_val, 1, 2)\n",
        "#X_train = X_train.reshape(-1, max_len, 2)\n",
        "\n",
        "#X_val = X_val.reshape(-1, max_len, 2)\n"
      ]
    },
    {
      "cell_type": "code",
      "source": [
        "# check consistency after reshaping\n",
        "plt.figure(figsize=(20, 5))\n",
        "plt.plot(X_train[2], 'k')\n",
        "#plt.plot(X_train[0], 'k')\n",
        "plt.show()"
      ],
      "metadata": {
        "colab": {
          "base_uri": "https://localhost:8080/",
          "height": 282
        },
        "id": "QbHWX4Dp3K83",
        "outputId": "96dd7d0d-a9e1-42e3-8fb7-1150157ad046"
      },
      "execution_count": 204,
      "outputs": [
        {
          "output_type": "display_data",
          "data": {
            "image/png": "[encoded data removed]",
            "text/plain": [
              "<Figure size 1440x360 with 1 Axes>"
            ]
          },
          "metadata": {
            "needs_background": "light"
          }
        }
      ]
    },
    {
      "cell_type": "code",
      "execution_count": 205,
      "metadata": {
        "colab": {
          "base_uri": "https://localhost:8080/"
        },
        "id": "cXD3Ei1WlkKi",
        "outputId": "2971d4f8-65b9-4339-ca67-e5fa4b33a097"
      },
      "outputs": [
        {
          "output_type": "execute_result",
          "data": {
            "text/plain": [
              "(170419, 223, 2)"
            ]
          },
          "metadata": {},
          "execution_count": 205
        }
      ],
      "source": [
        "X_train.shape"
      ]
    },
    {
      "cell_type": "code",
      "execution_count": 206,
      "metadata": {
        "colab": {
          "base_uri": "https://localhost:8080/"
        },
        "id": "y7L6N0V9lkKj",
        "outputId": "267254bd-a625-4ea4-fc1f-814d58fa39c6"
      },
      "outputs": [
        {
          "output_type": "execute_result",
          "data": {
            "text/plain": [
              "170419"
            ]
          },
          "metadata": {},
          "execution_count": 206
        }
      ],
      "source": [
        "len(y_train)"
      ]
    },
    {
      "cell_type": "code",
      "execution_count": 207,
      "metadata": {
        "colab": {
          "base_uri": "https://localhost:8080/"
        },
        "id": "J3a8a39EsFU2",
        "outputId": "c7d8fdc9-b224-4cd2-f1e1-045a29832ee6"
      },
      "outputs": [
        {
          "output_type": "execute_result",
          "data": {
            "text/plain": [
              "{0: 0.3622506350370394, 1: 7.620919416867901, 2: 9.236802168021681}"
            ]
          },
          "metadata": {},
          "execution_count": 207
        }
      ],
      "source": [
        "# Considering class imbalance: class weightning to reduce the bias in the dataset\n",
        "\n",
        "from sklearn.utils.class_weight import compute_class_weight\n",
        "\n",
        "y_integers = np.argmax(y_train, axis=1)\n",
        "\n",
        "class_weights = compute_class_weight(\n",
        "                                      class_weight = \"balanced\",\n",
        "                                      classes = np.unique(y_integers),\n",
        "                                      y = y_integers                                             \n",
        "                                    )\n",
        "\n",
        "class_weights = dict(zip(np.unique(y_integers), class_weights))\n",
        "class_weights"
      ]
    },
    {
      "cell_type": "code",
      "execution_count": 208,
      "metadata": {
        "colab": {
          "base_uri": "https://localhost:8080/"
        },
        "id": "wvKk09KI61iv",
        "outputId": "11ed46f5-216c-474b-fbac-2b1d2246a476"
      },
      "outputs": [
        {
          "output_type": "execute_result",
          "data": {
            "text/plain": [
              "((170419, 223, 2), (170419, 3))"
            ]
          },
          "metadata": {},
          "execution_count": 208
        }
      ],
      "source": [
        "X_train.shape, y_train.shape"
      ]
    },
    {
      "cell_type": "code",
      "source": [
        "# Normalize data (used for resnet, not for vgg)\n",
        "mean = np.mean(X_train, axis=1).mean(axis=0)\n",
        "std = np.std(X_train, axis=1).mean(axis=0)\n",
        "\n",
        "X_train = (X_train - mean)/std\n",
        "X_val = (X_val - mean)/std"
      ],
      "metadata": {
        "id": "f27lrB8eIqa2"
      },
      "execution_count": 174,
      "outputs": []
    },
    {
      "cell_type": "code",
      "source": [
        "# Here we load validation data, training data can be loaded with the batch generator below\n",
        "import tensorflow as tf\n",
        "\n",
        "train_data = tf.data.Dataset.from_tensor_slices((X_train, y_train))\n",
        "validation_data = tf.data.Dataset.from_tensor_slices((X_val, y_val))"
      ],
      "metadata": {
        "id": "HzkKQ2hm4fG5"
      },
      "execution_count": 209,
      "outputs": []
    },
    {
      "cell_type": "code",
      "source": [
        "# We will use this method in the fit() function to load one batch at time\n",
        "def batch_generator_data(batch_size, x_gen, y_gen): \n",
        "    \n",
        "    batch_features = np.zeros((batch_size, max_len, 2))\n",
        "    batch_labels = np.zeros((batch_size,3)) \n",
        "    \n",
        "    while True:\n",
        "        for i in range(batch_size):\n",
        "\n",
        "            batch_features[i] = next(x_gen)\n",
        "            batch_labels[i] = next(y_gen)\n",
        "            \n",
        "        X = [batch_features]\n",
        "\n",
        "        yield X, batch_labels\n",
        "\n",
        "def generate_y_shuffle(y):\n",
        "    while True:\n",
        "        for i in y:\n",
        "            y_generated = i\n",
        "            yield y_generated\n",
        "\n",
        "\n",
        "def generate_X_shuffle(x):\n",
        "    while True:\n",
        "        for i in x:\n",
        "          x_generated = i\n",
        "          yield x_generated\n",
        "\n",
        "def compute_steps(len, batch_size):\n",
        "  if len%batch_size != 0:\n",
        "    return len/batch_size + 1\n",
        "  return len/batch_size\n"
      ],
      "metadata": {
        "id": "05kpGk-P2sQd"
      },
      "execution_count": null,
      "outputs": []
    },
    {
      "cell_type": "markdown",
      "source": [
        "# Simple CNN model"
      ],
      "metadata": {
        "id": "irr5wtoNOofI"
      }
    },
    {
      "cell_type": "markdown",
      "metadata": {
        "id": "GuHec1dslkKj"
      },
      "source": [
        "Now Let's define the model, a simple CNN with 1D convolution layers"
      ]
    },
    {
      "cell_type": "code",
      "execution_count": null,
      "metadata": {
        "id": "9CotoxPHlkKj"
      },
      "outputs": [],
      "source": [
        "cnn_model = tf.keras.Sequential([\n",
        "    tf.keras.layers.Conv1D(filters=16, kernel_size=3, padding='same',\n",
        "                        activation=tf.nn.leaky_relu, input_shape=[max_len, 1]),\n",
        "    tf.keras.layers.MaxPooling1D(pool_size=2),\n",
        "    tf.keras.layers.Conv1D(filters=64, kernel_size=3,\n",
        "                        padding='same', activation=tf.nn.leaky_relu),\n",
        "    tf.keras.layers.MaxPooling1D(pool_size=2),\n",
        "    tf.keras.layers.GlobalMaxPooling1D(),\n",
        "    tf.keras.layers.Dense(128, activation=tf.nn.leaky_relu),\n",
        "    tf.keras.layers.Dropout(0.3),\n",
        "    tf.keras.layers.Dense(3, activation=tf.nn.softmax)\n",
        "])"
      ]
    },
    {
      "cell_type": "code",
      "execution_count": null,
      "metadata": {
        "colab": {
          "base_uri": "https://localhost:8080/"
        },
        "id": "sdkskNX3lkKk",
        "outputId": "f7fa414d-57c9-4bba-8869-9fa69d409e9c"
      },
      "outputs": [
        {
          "output_type": "stream",
          "name": "stdout",
          "text": [
            "Model: \"sequential\"\n",
            "_________________________________________________________________\n",
            " Layer (type)                Output Shape              Param #   \n",
            "=================================================================\n",
            " conv1d_40 (Conv1D)          (None, 223, 16)           64        \n",
            "                                                                 \n",
            " max_pooling1d_2 (MaxPooling  (None, 111, 16)          0         \n",
            " 1D)                                                             \n",
            "                                                                 \n",
            " conv1d_41 (Conv1D)          (None, 111, 64)           3136      \n",
            "                                                                 \n",
            " max_pooling1d_3 (MaxPooling  (None, 55, 64)           0         \n",
            " 1D)                                                             \n",
            "                                                                 \n",
            " global_max_pooling1d (Globa  (None, 64)               0         \n",
            " lMaxPooling1D)                                                  \n",
            "                                                                 \n",
            " dense (Dense)               (None, 128)               8320      \n",
            "                                                                 \n",
            " dropout_16 (Dropout)        (None, 128)               0         \n",
            "                                                                 \n",
            " dense_1 (Dense)             (None, 3)                 387       \n",
            "                                                                 \n",
            "=================================================================\n",
            "Total params: 11,907\n",
            "Trainable params: 11,907\n",
            "Non-trainable params: 0\n",
            "_________________________________________________________________\n"
          ]
        }
      ],
      "source": [
        "cnn_model.summary()"
      ]
    },
    {
      "cell_type": "code",
      "execution_count": null,
      "metadata": {
        "id": "ELablVG7lkKk"
      },
      "outputs": [],
      "source": [
        "learning_rate = 0.001\n",
        "cnn_model.compile(\n",
        "    optimizer = tf.keras.optimizers.Adam(),\n",
        "    loss = 'categorical_crossentropy',\n",
        "    metrics = ['accuracy', tf.keras.metrics.Precision(),tf.keras.metrics.Recall()]\n",
        ")"
      ]
    },
    {
      "cell_type": "code",
      "execution_count": null,
      "metadata": {
        "colab": {
          "base_uri": "https://localhost:8080/"
        },
        "id": "8sba3X5flkKk",
        "outputId": "428df1de-4e6f-4f16-9da1-2bfff796c985"
      },
      "outputs": [
        {
          "output_type": "stream",
          "name": "stdout",
          "text": [
            "Epoch 1/15\n",
            "10652/10652 [==============================] - 100s 9ms/step - loss: 0.6393 - accuracy: 0.6851 - precision_13: 0.7167 - recall_13: 0.6054 - val_loss: 0.6193 - val_accuracy: 0.7207 - val_precision_13: 0.7443 - val_recall_13: 0.6741\n",
            "Epoch 2/15\n",
            "10652/10652 [==============================] - 110s 10ms/step - loss: 0.4961 - accuracy: 0.7758 - precision_13: 0.7910 - recall_13: 0.7531 - val_loss: 0.4922 - val_accuracy: 0.7892 - val_precision_13: 0.8056 - val_recall_13: 0.7644\n",
            "Epoch 3/15\n",
            "10652/10652 [==============================] - 109s 10ms/step - loss: 0.4536 - accuracy: 0.7973 - precision_13: 0.8099 - recall_13: 0.7803 - val_loss: 0.4255 - val_accuracy: 0.8265 - val_precision_13: 0.8403 - val_recall_13: 0.8063\n",
            "Epoch 4/15\n",
            "10652/10652 [==============================] - 124s 12ms/step - loss: 0.4312 - accuracy: 0.8058 - precision_13: 0.8172 - recall_13: 0.7900 - val_loss: 0.3929 - val_accuracy: 0.8406 - val_precision_13: 0.8535 - val_recall_13: 0.8231\n",
            "Epoch 5/15\n",
            "10652/10652 [==============================] - 97s 9ms/step - loss: 0.4144 - accuracy: 0.8128 - precision_13: 0.8236 - recall_13: 0.7987 - val_loss: 0.3358 - val_accuracy: 0.8673 - val_precision_13: 0.8778 - val_recall_13: 0.8547\n",
            "Epoch 6/15\n",
            "10652/10652 [==============================] - 96s 9ms/step - loss: 0.3964 - accuracy: 0.8209 - precision_13: 0.8312 - recall_13: 0.8081 - val_loss: 0.2998 - val_accuracy: 0.8886 - val_precision_13: 0.9010 - val_recall_13: 0.8761\n",
            "Epoch 7/15\n",
            "10652/10652 [==============================] - 95s 9ms/step - loss: 0.3867 - accuracy: 0.8244 - precision_13: 0.8338 - recall_13: 0.8122 - val_loss: 0.3427 - val_accuracy: 0.8530 - val_precision_13: 0.8631 - val_recall_13: 0.8418\n",
            "Epoch 8/15\n",
            "10652/10652 [==============================] - 95s 9ms/step - loss: 0.3773 - accuracy: 0.8318 - precision_13: 0.8410 - recall_13: 0.8199 - val_loss: 0.3243 - val_accuracy: 0.8629 - val_precision_13: 0.8710 - val_recall_13: 0.8514\n",
            "Epoch 9/15\n",
            "10652/10652 [==============================] - 94s 9ms/step - loss: 0.3709 - accuracy: 0.8359 - precision_13: 0.8447 - recall_13: 0.8243 - val_loss: 0.3060 - val_accuracy: 0.8837 - val_precision_13: 0.8943 - val_recall_13: 0.8714\n",
            "Epoch 10/15\n",
            "10652/10652 [==============================] - 95s 9ms/step - loss: 0.3619 - accuracy: 0.8397 - precision_13: 0.8482 - recall_13: 0.8290 - val_loss: 0.2775 - val_accuracy: 0.8968 - val_precision_13: 0.9055 - val_recall_13: 0.8859\n",
            "Epoch 11/15\n",
            "10652/10652 [==============================] - 99s 9ms/step - loss: 0.3567 - accuracy: 0.8429 - precision_13: 0.8512 - recall_13: 0.8320 - val_loss: 0.2581 - val_accuracy: 0.9020 - val_precision_13: 0.9083 - val_recall_13: 0.8950\n",
            "Epoch 12/15\n",
            "10652/10652 [==============================] - 98s 9ms/step - loss: 0.3513 - accuracy: 0.8448 - precision_13: 0.8524 - recall_13: 0.8351 - val_loss: 0.2489 - val_accuracy: 0.9043 - val_precision_13: 0.9114 - val_recall_13: 0.8953\n",
            "Epoch 13/15\n",
            "10652/10652 [==============================] - 101s 9ms/step - loss: 0.3468 - accuracy: 0.8486 - precision_13: 0.8567 - recall_13: 0.8394 - val_loss: 0.2564 - val_accuracy: 0.9108 - val_precision_13: 0.9180 - val_recall_13: 0.9028\n",
            "Epoch 14/15\n",
            "10652/10652 [==============================] - 127s 12ms/step - loss: 0.3427 - accuracy: 0.8525 - precision_13: 0.8603 - recall_13: 0.8428 - val_loss: 0.2454 - val_accuracy: 0.9132 - val_precision_13: 0.9216 - val_recall_13: 0.9044\n",
            "Epoch 15/15\n",
            "10652/10652 [==============================] - 106s 10ms/step - loss: 0.3385 - accuracy: 0.8529 - precision_13: 0.8604 - recall_13: 0.8433 - val_loss: 0.2342 - val_accuracy: 0.9237 - val_precision_13: 0.9294 - val_recall_13: 0.9180\n"
          ]
        }
      ],
      "source": [
        "batch_size = 16\n",
        "\n",
        "history = cnn_model.fit(\n",
        "    x = batch_generator_data(batch_size = batch_size, x_gen = generate_X_shuffle(X_train), y_gen = generate_y_shuffle(y_train)), \n",
        "    validation_data=validation_data.batch(batch_size),\n",
        "    steps_per_epoch=compute_steps(len(X_train), batch_size),\n",
        "    epochs = 15,\n",
        "    callbacks = tf.keras.callbacks.EarlyStopping(monitor='val_accuracy', mode='max', patience=5, restore_best_weights=True),\n",
        "    class_weight = class_weights\n",
        ").history"
      ]
    },
    {
      "cell_type": "code",
      "execution_count": null,
      "metadata": {
        "colab": {
          "base_uri": "https://localhost:8080/",
          "height": 655
        },
        "id": "l2qZb9UDstBq",
        "outputId": "d5e5cd80-196a-4298-f0ac-436d532c3894"
      },
      "outputs": [
        {
          "output_type": "display_data",
          "data": {
            "image/png": "[encoded data removed]",
            "text/plain": [
              "<Figure size 1080x360 with 1 Axes>"
            ]
          },
          "metadata": {
            "needs_background": "light"
          }
        },
        {
          "output_type": "display_data",
          "data": {
            "image/png": "[encoded data removed]",
            "text/plain": [
              "<Figure size 1080x360 with 1 Axes>"
            ]
          },
          "metadata": {
            "needs_background": "light"
          }
        }
      ],
      "source": [
        "# Plot the training\n",
        "plt.figure(figsize=(15,5))\n",
        "plt.plot(history['loss'], label='Training', alpha=.8, color='#ff7f0e')\n",
        "plt.plot(history['val_loss'], label='Validation', alpha=.8, color='#4D61E2')\n",
        "plt.legend(loc='upper left')\n",
        "plt.title('Categorical Crossentropy')\n",
        "plt.grid(alpha=.3)\n",
        "\n",
        "plt.figure(figsize=(15,5))\n",
        "plt.plot(history['accuracy'], label='Training', alpha=.8, color='#ff7f0e')\n",
        "plt.plot(history['val_accuracy'], label='Validation', alpha=.8, color='#4D61E2')\n",
        "plt.legend(loc='upper left')\n",
        "plt.title('Accuracy')\n",
        "plt.grid(alpha=.3)\n",
        "\n",
        "plt.show()"
      ]
    },
    {
      "cell_type": "code",
      "execution_count": null,
      "metadata": {
        "id": "0SQjf-m0lkKk"
      },
      "outputs": [],
      "source": [
        "#Computing the prediction of the model on the validation set\n",
        "predictions = []\n",
        "for element in validation_data.batch(128).as_numpy_iterator():\n",
        "    predictions.append(cnn_model.predict(element[0]))"
      ]
    },
    {
      "cell_type": "code",
      "execution_count": null,
      "metadata": {
        "id": "vJLRuI6tlkKk"
      },
      "outputs": [],
      "source": [
        "predictions_f = [item for sublist in predictions for item in sublist]"
      ]
    },
    {
      "cell_type": "code",
      "execution_count": null,
      "metadata": {
        "id": "gM4RRsEilkKl"
      },
      "outputs": [],
      "source": [
        "predictions_oh = []\n",
        "#transform prediction into one-hot-encoding \n",
        "for i in range(len(predictions_f)):\n",
        "    predictions_oh.append(tf.one_hot(tf.argmax(predictions_f[i]), depth=3))"
      ]
    },
    {
      "cell_type": "code",
      "execution_count": null,
      "metadata": {
        "id": "nyHu6YsylkKl"
      },
      "outputs": [],
      "source": [
        "#Compute the true and prediction array in order to plot the confusion matrix\n",
        "y = []\n",
        "\n",
        "for y_t in y_val.tolist():\n",
        "    if(y_t == [1, 0, 0]):\n",
        "        y.append('N')\n",
        "    if(y_t == [0, 1 ,0]):\n",
        "        y.append('S')\n",
        "    if(y_t == [0, 0 ,1]):\n",
        "        y.append('V')    \n",
        "\n",
        "y_pred = []\n",
        "\n",
        "for y_t in predictions_oh:\n",
        "    if(all(tf.equal(y_t, tf.constant([1, 0, 0], dtype=np.float32)))):\n",
        "        y_pred.append('N')\n",
        "    elif(all(tf.equal(y_t, tf.constant([0, 1, 0], dtype=np.float32)))):\n",
        "        y_pred.append('S')\n",
        "    elif(all(tf.equal(y_t, tf.constant([0, 0, 1], dtype=np.float32)))):\n",
        "        y_pred.append('V')  \n",
        "    else:\n",
        "        print(y_t)    "
      ]
    },
    {
      "cell_type": "code",
      "execution_count": null,
      "metadata": {
        "colab": {
          "base_uri": "https://localhost:8080/",
          "height": 558
        },
        "id": "BeMdxik6lkKl",
        "outputId": "9943b2a4-23be-47bb-da9f-e40931e1fa63"
      },
      "outputs": [
        {
          "output_type": "execute_result",
          "data": {
            "text/plain": [
              "<sklearn.metrics._plot.confusion_matrix.ConfusionMatrixDisplay at 0x7f2e94e5ba90>"
            ]
          },
          "metadata": {},
          "execution_count": 132
        },
        {
          "output_type": "display_data",
          "data": {
            "image/png": "[encoded data removed]",
            "text/plain": [
              "<Figure size 432x288 with 2 Axes>"
            ]
          },
          "metadata": {
            "needs_background": "light"
          }
        },
        {
          "output_type": "display_data",
          "data": {
            "image/png": "[encoded data removed]",
            "text/plain": [
              "<Figure size 432x288 with 2 Axes>"
            ]
          },
          "metadata": {
            "needs_background": "light"
          }
        }
      ],
      "source": [
        "#Plotting the confusion matrix\n",
        "import seaborn as sns\n",
        "from sklearn.metrics import ConfusionMatrixDisplay, classification_report\n",
        "from sklearn.metrics import confusion_matrix\n",
        "\n",
        "ConfusionMatrixDisplay.from_predictions(y, y_pred, labels = ['N', 'S', 'V'])\n",
        "ConfusionMatrixDisplay.from_predictions(y, y_pred, normalize='true', labels = ['N', 'S', 'V'])"
      ]
    },
    {
      "cell_type": "code",
      "execution_count": null,
      "metadata": {
        "colab": {
          "base_uri": "https://localhost:8080/"
        },
        "id": "Z3Zc34A6lkKl",
        "outputId": "bd7f9887-266a-4eb0-d86a-5625450608ef"
      },
      "outputs": [
        {
          "output_type": "stream",
          "name": "stdout",
          "text": [
            "              precision    recall  f1-score   support\n",
            "\n",
            "           N       0.99      0.93      0.96     39204\n",
            "           S       0.40      0.74      0.52      1864\n",
            "           V       0.66      0.94      0.77      1537\n",
            "\n",
            "    accuracy                           0.92     42605\n",
            "   macro avg       0.68      0.87      0.75     42605\n",
            "weighted avg       0.95      0.92      0.93     42605\n",
            "\n"
          ]
        }
      ],
      "source": [
        "print(classification_report(y,y_pred))"
      ]
    },
    {
      "cell_type": "markdown",
      "metadata": {
        "id": "RZWh6I8Y13cN"
      },
      "source": [
        "# VGG 1D"
      ]
    },
    {
      "cell_type": "code",
      "execution_count": 210,
      "metadata": {
        "id": "Kqv_3LdM12bC"
      },
      "outputs": [],
      "source": [
        "vgg = tf.keras.Sequential()\n",
        "\n",
        "vgg.add(tf.keras.layers.Conv1D(input_shape=[max_len, 2],filters=64,kernel_size=3,padding=\"same\", activation=\"relu\"))\n",
        "vgg.add(tf.keras.layers.Conv1D(filters=64,kernel_size=3,padding=\"same\", activation=\"relu\"))\n",
        "vgg.add(tf.keras.layers.MaxPooling1D(pool_size=2,strides=2))\n",
        "vgg.add(tf.keras.layers.Conv1D(filters=128, kernel_size=3, padding=\"same\", activation=\"relu\"))\n",
        "vgg.add(tf.keras.layers.Conv1D(filters=128, kernel_size=3, padding=\"same\", activation=\"relu\"))\n",
        "vgg.add(tf.keras.layers.MaxPooling1D(pool_size=2,strides=2))\n",
        "vgg.add(tf.keras.layers.Conv1D(filters=256, kernel_size=3, padding=\"same\", activation=\"relu\"))\n",
        "vgg.add(tf.keras.layers.Conv1D(filters=256, kernel_size=3, padding=\"same\", activation=\"relu\"))\n",
        "vgg.add(tf.keras.layers.Conv1D(filters=256, kernel_size=3, padding=\"same\", activation=\"relu\"))\n",
        "vgg.add(tf.keras.layers.MaxPooling1D(pool_size=2,strides=2))\n",
        "vgg.add(tf.keras.layers.Conv1D(filters=512, kernel_size=3, padding=\"same\", activation=\"relu\"))\n",
        "vgg.add(tf.keras.layers.Conv1D(filters=512, kernel_size=3, padding=\"same\", activation=\"relu\"))\n",
        "vgg.add(tf.keras.layers.Conv1D(filters=512, kernel_size=3, padding=\"same\", activation=\"relu\"))\n",
        "vgg.add(tf.keras.layers.MaxPooling1D(pool_size=2,strides=2))\n",
        "vgg.add(tf.keras.layers.Conv1D(filters=512, kernel_size=3, padding=\"same\", activation=\"relu\"))\n",
        "vgg.add(tf.keras.layers.Conv1D(filters=512, kernel_size=3, padding=\"same\", activation=\"relu\"))\n",
        "vgg.add(tf.keras.layers.Conv1D(filters=512, kernel_size=3, padding=\"same\", activation=\"relu\"))\n",
        "vgg.add(tf.keras.layers.MaxPooling1D(pool_size=2,strides=2))\n",
        "vgg.add(tf.keras.layers.GlobalMaxPooling1D())\n",
        "vgg.add(tf.keras.layers.Dense(512, activation='relu'))\n",
        "vgg.add(tf.keras.layers.Dropout(0.4))\n",
        "vgg.add(tf.keras.layers.Dense(3,activation='softmax'))\n",
        "\n",
        "\n",
        "learning_rate = 0.001\n",
        "vgg.compile(\n",
        "    optimizer = tf.keras.optimizers.Adam(1e-4),\n",
        "    loss = 'categorical_crossentropy',\n",
        "    metrics = ['accuracy', tf.keras.metrics.Precision(),tf.keras.metrics.Recall()]\n",
        ")"
      ]
    },
    {
      "cell_type": "code",
      "execution_count": 211,
      "metadata": {
        "colab": {
          "base_uri": "https://localhost:8080/"
        },
        "id": "4wJPfTxZD_-R",
        "outputId": "cfb09a1c-074a-492a-95e0-d1b00f2116ea"
      },
      "outputs": [
        {
          "output_type": "stream",
          "name": "stdout",
          "text": [
            "Model: \"sequential_2\"\n",
            "_________________________________________________________________\n",
            " Layer (type)                Output Shape              Param #   \n",
            "=================================================================\n",
            " conv1d_17 (Conv1D)          (None, 223, 64)           448       \n",
            "                                                                 \n",
            " conv1d_18 (Conv1D)          (None, 223, 64)           12352     \n",
            "                                                                 \n",
            " max_pooling1d_7 (MaxPooling  (None, 111, 64)          0         \n",
            " 1D)                                                             \n",
            "                                                                 \n",
            " conv1d_19 (Conv1D)          (None, 111, 128)          24704     \n",
            "                                                                 \n",
            " conv1d_20 (Conv1D)          (None, 111, 128)          49280     \n",
            "                                                                 \n",
            " max_pooling1d_8 (MaxPooling  (None, 55, 128)          0         \n",
            " 1D)                                                             \n",
            "                                                                 \n",
            " conv1d_21 (Conv1D)          (None, 55, 256)           98560     \n",
            "                                                                 \n",
            " conv1d_22 (Conv1D)          (None, 55, 256)           196864    \n",
            "                                                                 \n",
            " conv1d_23 (Conv1D)          (None, 55, 256)           196864    \n",
            "                                                                 \n",
            " max_pooling1d_9 (MaxPooling  (None, 27, 256)          0         \n",
            " 1D)                                                             \n",
            "                                                                 \n",
            " conv1d_24 (Conv1D)          (None, 27, 512)           393728    \n",
            "                                                                 \n",
            " conv1d_25 (Conv1D)          (None, 27, 512)           786944    \n",
            "                                                                 \n",
            " conv1d_26 (Conv1D)          (None, 27, 512)           786944    \n",
            "                                                                 \n",
            " max_pooling1d_10 (MaxPoolin  (None, 13, 512)          0         \n",
            " g1D)                                                            \n",
            "                                                                 \n",
            " conv1d_27 (Conv1D)          (None, 13, 512)           786944    \n",
            "                                                                 \n",
            " conv1d_28 (Conv1D)          (None, 13, 512)           786944    \n",
            "                                                                 \n",
            " conv1d_29 (Conv1D)          (None, 13, 512)           786944    \n",
            "                                                                 \n",
            " max_pooling1d_11 (MaxPoolin  (None, 6, 512)           0         \n",
            " g1D)                                                            \n",
            "                                                                 \n",
            " global_max_pooling1d_1 (Glo  (None, 512)              0         \n",
            " balMaxPooling1D)                                                \n",
            "                                                                 \n",
            " dense_2 (Dense)             (None, 512)               262656    \n",
            "                                                                 \n",
            " dropout_1 (Dropout)         (None, 512)               0         \n",
            "                                                                 \n",
            " dense_3 (Dense)             (None, 3)                 1539      \n",
            "                                                                 \n",
            "=================================================================\n",
            "Total params: 5,171,715\n",
            "Trainable params: 5,171,715\n",
            "Non-trainable params: 0\n",
            "_________________________________________________________________\n"
          ]
        }
      ],
      "source": [
        "vgg.summary()"
      ]
    },
    {
      "cell_type": "code",
      "execution_count": 212,
      "metadata": {
        "colab": {
          "base_uri": "https://localhost:8080/"
        },
        "id": "g222hZIE4iOZ",
        "outputId": "b80a14a2-4e56-4f91-86f7-b47af27f4d0f"
      },
      "outputs": [
        {
          "output_type": "execute_result",
          "data": {
            "text/plain": [
              "{0: 0.3622506350370394, 1: 7.620919416867901, 2: 9.236802168021681}"
            ]
          },
          "metadata": {},
          "execution_count": 212
        }
      ],
      "source": [
        "class_weights"
      ]
    },
    {
      "cell_type": "code",
      "execution_count": 213,
      "metadata": {
        "colab": {
          "base_uri": "https://localhost:8080/",
          "height": 453
        },
        "id": "gwHFOAh43E6K",
        "outputId": "c5c96e8f-d345-402e-da3b-35c67e305d95"
      },
      "outputs": [
        {
          "output_type": "stream",
          "name": "stdout",
          "text": [
            "Epoch 1/15\n",
            "   3/1332 [..............................] - ETA: 57:39 - loss: 1.1186 - accuracy: 0.1536 - precision_1: 0.0000e+00 - recall_1: 0.0000e+00"
          ]
        },
        {
          "output_type": "error",
          "ename": "KeyboardInterrupt",
          "evalue": "ignored",
          "traceback": [
            "\u001b[0;31m---------------------------------------------------------------------------\u001b[0m",
            "\u001b[0;31mKeyboardInterrupt\u001b[0m                         Traceback (most recent call last)",
            "\u001b[0;32m<ipython-input-213-c8d0141015c7>\u001b[0m in \u001b[0;36m<module>\u001b[0;34m()\u001b[0m\n\u001b[1;32m      4\u001b[0m     \u001b[0mepochs\u001b[0m \u001b[0;34m=\u001b[0m \u001b[0;36m15\u001b[0m\u001b[0;34m,\u001b[0m\u001b[0;34m\u001b[0m\u001b[0;34m\u001b[0m\u001b[0m\n\u001b[1;32m      5\u001b[0m     \u001b[0mcallbacks\u001b[0m \u001b[0;34m=\u001b[0m \u001b[0mtf\u001b[0m\u001b[0;34m.\u001b[0m\u001b[0mkeras\u001b[0m\u001b[0;34m.\u001b[0m\u001b[0mcallbacks\u001b[0m\u001b[0;34m.\u001b[0m\u001b[0mEarlyStopping\u001b[0m\u001b[0;34m(\u001b[0m\u001b[0mmonitor\u001b[0m\u001b[0;34m=\u001b[0m\u001b[0;34m'val_accuracy'\u001b[0m\u001b[0;34m,\u001b[0m \u001b[0mmode\u001b[0m\u001b[0;34m=\u001b[0m\u001b[0;34m'max'\u001b[0m\u001b[0;34m,\u001b[0m \u001b[0mpatience\u001b[0m\u001b[0;34m=\u001b[0m\u001b[0;36m5\u001b[0m\u001b[0;34m,\u001b[0m \u001b[0mrestore_best_weights\u001b[0m\u001b[0;34m=\u001b[0m\u001b[0;32mTrue\u001b[0m\u001b[0;34m)\u001b[0m\u001b[0;34m,\u001b[0m\u001b[0;34m\u001b[0m\u001b[0;34m\u001b[0m\u001b[0m\n\u001b[0;32m----> 6\u001b[0;31m     \u001b[0mclass_weight\u001b[0m \u001b[0;34m=\u001b[0m \u001b[0mclass_weights\u001b[0m\u001b[0;34m\u001b[0m\u001b[0;34m\u001b[0m\u001b[0m\n\u001b[0m\u001b[1;32m      7\u001b[0m ).history\n",
            "\u001b[0;32m/usr/local/lib/python3.7/dist-packages/keras/utils/traceback_utils.py\u001b[0m in \u001b[0;36merror_handler\u001b[0;34m(*args, **kwargs)\u001b[0m\n\u001b[1;32m     62\u001b[0m     \u001b[0mfiltered_tb\u001b[0m \u001b[0;34m=\u001b[0m \u001b[0;32mNone\u001b[0m\u001b[0;34m\u001b[0m\u001b[0;34m\u001b[0m\u001b[0m\n\u001b[1;32m     63\u001b[0m     \u001b[0;32mtry\u001b[0m\u001b[0;34m:\u001b[0m\u001b[0;34m\u001b[0m\u001b[0;34m\u001b[0m\u001b[0m\n\u001b[0;32m---> 64\u001b[0;31m       \u001b[0;32mreturn\u001b[0m \u001b[0mfn\u001b[0m\u001b[0;34m(\u001b[0m\u001b[0;34m*\u001b[0m\u001b[0margs\u001b[0m\u001b[0;34m,\u001b[0m \u001b[0;34m**\u001b[0m\u001b[0mkwargs\u001b[0m\u001b[0;34m)\u001b[0m\u001b[0;34m\u001b[0m\u001b[0;34m\u001b[0m\u001b[0m\n\u001b[0m\u001b[1;32m     65\u001b[0m     \u001b[0;32mexcept\u001b[0m \u001b[0mException\u001b[0m \u001b[0;32mas\u001b[0m \u001b[0me\u001b[0m\u001b[0;34m:\u001b[0m  \u001b[0;31m# pylint: disable=broad-except\u001b[0m\u001b[0;34m\u001b[0m\u001b[0;34m\u001b[0m\u001b[0m\n\u001b[1;32m     66\u001b[0m       \u001b[0mfiltered_tb\u001b[0m \u001b[0;34m=\u001b[0m \u001b[0m_process_traceback_frames\u001b[0m\u001b[0;34m(\u001b[0m\u001b[0me\u001b[0m\u001b[0;34m.\u001b[0m\u001b[0m__traceback__\u001b[0m\u001b[0;34m)\u001b[0m\u001b[0;34m\u001b[0m\u001b[0;34m\u001b[0m\u001b[0m\n",
            "\u001b[0;32m/usr/local/lib/python3.7/dist-packages/keras/engine/training.py\u001b[0m in \u001b[0;36mfit\u001b[0;34m(self, x, y, batch_size, epochs, verbose, callbacks, validation_split, validation_data, shuffle, class_weight, sample_weight, initial_epoch, steps_per_epoch, validation_steps, validation_batch_size, validation_freq, max_queue_size, workers, use_multiprocessing)\u001b[0m\n\u001b[1;32m   1214\u001b[0m                 _r=1):\n\u001b[1;32m   1215\u001b[0m               \u001b[0mcallbacks\u001b[0m\u001b[0;34m.\u001b[0m\u001b[0mon_train_batch_begin\u001b[0m\u001b[0;34m(\u001b[0m\u001b[0mstep\u001b[0m\u001b[0;34m)\u001b[0m\u001b[0;34m\u001b[0m\u001b[0;34m\u001b[0m\u001b[0m\n\u001b[0;32m-> 1216\u001b[0;31m               \u001b[0mtmp_logs\u001b[0m \u001b[0;34m=\u001b[0m \u001b[0mself\u001b[0m\u001b[0;34m.\u001b[0m\u001b[0mtrain_function\u001b[0m\u001b[0;34m(\u001b[0m\u001b[0miterator\u001b[0m\u001b[0;34m)\u001b[0m\u001b[0;34m\u001b[0m\u001b[0;34m\u001b[0m\u001b[0m\n\u001b[0m\u001b[1;32m   1217\u001b[0m               \u001b[0;32mif\u001b[0m \u001b[0mdata_handler\u001b[0m\u001b[0;34m.\u001b[0m\u001b[0mshould_sync\u001b[0m\u001b[0;34m:\u001b[0m\u001b[0;34m\u001b[0m\u001b[0;34m\u001b[0m\u001b[0m\n\u001b[1;32m   1218\u001b[0m                 \u001b[0mcontext\u001b[0m\u001b[0;34m.\u001b[0m\u001b[0masync_wait\u001b[0m\u001b[0;34m(\u001b[0m\u001b[0;34m)\u001b[0m\u001b[0;34m\u001b[0m\u001b[0;34m\u001b[0m\u001b[0m\n",
            "\u001b[0;32m/usr/local/lib/python3.7/dist-packages/tensorflow/python/util/traceback_utils.py\u001b[0m in \u001b[0;36merror_handler\u001b[0;34m(*args, **kwargs)\u001b[0m\n\u001b[1;32m    148\u001b[0m     \u001b[0mfiltered_tb\u001b[0m \u001b[0;34m=\u001b[0m \u001b[0;32mNone\u001b[0m\u001b[0;34m\u001b[0m\u001b[0;34m\u001b[0m\u001b[0m\n\u001b[1;32m    149\u001b[0m     \u001b[0;32mtry\u001b[0m\u001b[0;34m:\u001b[0m\u001b[0;34m\u001b[0m\u001b[0;34m\u001b[0m\u001b[0m\n\u001b[0;32m--> 150\u001b[0;31m       \u001b[0;32mreturn\u001b[0m \u001b[0mfn\u001b[0m\u001b[0;34m(\u001b[0m\u001b[0;34m*\u001b[0m\u001b[0margs\u001b[0m\u001b[0;34m,\u001b[0m \u001b[0;34m**\u001b[0m\u001b[0mkwargs\u001b[0m\u001b[0;34m)\u001b[0m\u001b[0;34m\u001b[0m\u001b[0;34m\u001b[0m\u001b[0m\n\u001b[0m\u001b[1;32m    151\u001b[0m     \u001b[0;32mexcept\u001b[0m \u001b[0mException\u001b[0m \u001b[0;32mas\u001b[0m \u001b[0me\u001b[0m\u001b[0;34m:\u001b[0m\u001b[0;34m\u001b[0m\u001b[0;34m\u001b[0m\u001b[0m\n\u001b[1;32m    152\u001b[0m       \u001b[0mfiltered_tb\u001b[0m \u001b[0;34m=\u001b[0m \u001b[0m_process_traceback_frames\u001b[0m\u001b[0;34m(\u001b[0m\u001b[0me\u001b[0m\u001b[0;34m.\u001b[0m\u001b[0m__traceback__\u001b[0m\u001b[0;34m)\u001b[0m\u001b[0;34m\u001b[0m\u001b[0;34m\u001b[0m\u001b[0m\n",
            "\u001b[0;32m/usr/local/lib/python3.7/dist-packages/tensorflow/python/eager/def_function.py\u001b[0m in \u001b[0;36m__call__\u001b[0;34m(self, *args, **kwds)\u001b[0m\n\u001b[1;32m    908\u001b[0m \u001b[0;34m\u001b[0m\u001b[0m\n\u001b[1;32m    909\u001b[0m       \u001b[0;32mwith\u001b[0m \u001b[0mOptionalXlaContext\u001b[0m\u001b[0;34m(\u001b[0m\u001b[0mself\u001b[0m\u001b[0;34m.\u001b[0m\u001b[0m_jit_compile\u001b[0m\u001b[0;34m)\u001b[0m\u001b[0;34m:\u001b[0m\u001b[0;34m\u001b[0m\u001b[0;34m\u001b[0m\u001b[0m\n\u001b[0;32m--> 910\u001b[0;31m         \u001b[0mresult\u001b[0m \u001b[0;34m=\u001b[0m \u001b[0mself\u001b[0m\u001b[0;34m.\u001b[0m\u001b[0m_call\u001b[0m\u001b[0;34m(\u001b[0m\u001b[0;34m*\u001b[0m\u001b[0margs\u001b[0m\u001b[0;34m,\u001b[0m \u001b[0;34m**\u001b[0m\u001b[0mkwds\u001b[0m\u001b[0;34m)\u001b[0m\u001b[0;34m\u001b[0m\u001b[0;34m\u001b[0m\u001b[0m\n\u001b[0m\u001b[1;32m    911\u001b[0m \u001b[0;34m\u001b[0m\u001b[0m\n\u001b[1;32m    912\u001b[0m       \u001b[0mnew_tracing_count\u001b[0m \u001b[0;34m=\u001b[0m \u001b[0mself\u001b[0m\u001b[0;34m.\u001b[0m\u001b[0mexperimental_get_tracing_count\u001b[0m\u001b[0;34m(\u001b[0m\u001b[0;34m)\u001b[0m\u001b[0;34m\u001b[0m\u001b[0;34m\u001b[0m\u001b[0m\n",
            "\u001b[0;32m/usr/local/lib/python3.7/dist-packages/tensorflow/python/eager/def_function.py\u001b[0m in \u001b[0;36m_call\u001b[0;34m(self, *args, **kwds)\u001b[0m\n\u001b[1;32m    940\u001b[0m       \u001b[0;31m# In this case we have created variables on the first call, so we run the\u001b[0m\u001b[0;34m\u001b[0m\u001b[0;34m\u001b[0m\u001b[0;34m\u001b[0m\u001b[0m\n\u001b[1;32m    941\u001b[0m       \u001b[0;31m# defunned version which is guaranteed to never create variables.\u001b[0m\u001b[0;34m\u001b[0m\u001b[0;34m\u001b[0m\u001b[0;34m\u001b[0m\u001b[0m\n\u001b[0;32m--> 942\u001b[0;31m       \u001b[0;32mreturn\u001b[0m \u001b[0mself\u001b[0m\u001b[0;34m.\u001b[0m\u001b[0m_stateless_fn\u001b[0m\u001b[0;34m(\u001b[0m\u001b[0;34m*\u001b[0m\u001b[0margs\u001b[0m\u001b[0;34m,\u001b[0m \u001b[0;34m**\u001b[0m\u001b[0mkwds\u001b[0m\u001b[0;34m)\u001b[0m  \u001b[0;31m# pylint: disable=not-callable\u001b[0m\u001b[0;34m\u001b[0m\u001b[0;34m\u001b[0m\u001b[0m\n\u001b[0m\u001b[1;32m    943\u001b[0m     \u001b[0;32melif\u001b[0m \u001b[0mself\u001b[0m\u001b[0;34m.\u001b[0m\u001b[0m_stateful_fn\u001b[0m \u001b[0;32mis\u001b[0m \u001b[0;32mnot\u001b[0m \u001b[0;32mNone\u001b[0m\u001b[0;34m:\u001b[0m\u001b[0;34m\u001b[0m\u001b[0;34m\u001b[0m\u001b[0m\n\u001b[1;32m    944\u001b[0m       \u001b[0;31m# Release the lock early so that multiple threads can perform the call\u001b[0m\u001b[0;34m\u001b[0m\u001b[0;34m\u001b[0m\u001b[0;34m\u001b[0m\u001b[0m\n",
            "\u001b[0;32m/usr/local/lib/python3.7/dist-packages/tensorflow/python/eager/function.py\u001b[0m in \u001b[0;36m__call__\u001b[0;34m(self, *args, **kwargs)\u001b[0m\n\u001b[1;32m   3129\u001b[0m        filtered_flat_args) = self._maybe_define_function(args, kwargs)\n\u001b[1;32m   3130\u001b[0m     return graph_function._call_flat(\n\u001b[0;32m-> 3131\u001b[0;31m         filtered_flat_args, captured_inputs=graph_function.captured_inputs)  # pylint: disable=protected-access\n\u001b[0m\u001b[1;32m   3132\u001b[0m \u001b[0;34m\u001b[0m\u001b[0m\n\u001b[1;32m   3133\u001b[0m   \u001b[0;34m@\u001b[0m\u001b[0mproperty\u001b[0m\u001b[0;34m\u001b[0m\u001b[0;34m\u001b[0m\u001b[0m\n",
            "\u001b[0;32m/usr/local/lib/python3.7/dist-packages/tensorflow/python/eager/function.py\u001b[0m in \u001b[0;36m_call_flat\u001b[0;34m(self, args, captured_inputs, cancellation_manager)\u001b[0m\n\u001b[1;32m   1958\u001b[0m       \u001b[0;31m# No tape is watching; skip to running the function.\u001b[0m\u001b[0;34m\u001b[0m\u001b[0;34m\u001b[0m\u001b[0;34m\u001b[0m\u001b[0m\n\u001b[1;32m   1959\u001b[0m       return self._build_call_outputs(self._inference_function.call(\n\u001b[0;32m-> 1960\u001b[0;31m           ctx, args, cancellation_manager=cancellation_manager))\n\u001b[0m\u001b[1;32m   1961\u001b[0m     forward_backward = self._select_forward_and_backward_functions(\n\u001b[1;32m   1962\u001b[0m         \u001b[0margs\u001b[0m\u001b[0;34m,\u001b[0m\u001b[0;34m\u001b[0m\u001b[0;34m\u001b[0m\u001b[0m\n",
            "\u001b[0;32m/usr/local/lib/python3.7/dist-packages/tensorflow/python/eager/function.py\u001b[0m in \u001b[0;36mcall\u001b[0;34m(self, ctx, args, cancellation_manager)\u001b[0m\n\u001b[1;32m    601\u001b[0m               \u001b[0minputs\u001b[0m\u001b[0;34m=\u001b[0m\u001b[0margs\u001b[0m\u001b[0;34m,\u001b[0m\u001b[0;34m\u001b[0m\u001b[0;34m\u001b[0m\u001b[0m\n\u001b[1;32m    602\u001b[0m               \u001b[0mattrs\u001b[0m\u001b[0;34m=\u001b[0m\u001b[0mattrs\u001b[0m\u001b[0;34m,\u001b[0m\u001b[0;34m\u001b[0m\u001b[0;34m\u001b[0m\u001b[0m\n\u001b[0;32m--> 603\u001b[0;31m               ctx=ctx)\n\u001b[0m\u001b[1;32m    604\u001b[0m         \u001b[0;32melse\u001b[0m\u001b[0;34m:\u001b[0m\u001b[0;34m\u001b[0m\u001b[0;34m\u001b[0m\u001b[0m\n\u001b[1;32m    605\u001b[0m           outputs = execute.execute_with_cancellation(\n",
            "\u001b[0;32m/usr/local/lib/python3.7/dist-packages/tensorflow/python/eager/execute.py\u001b[0m in \u001b[0;36mquick_execute\u001b[0;34m(op_name, num_outputs, inputs, attrs, ctx, name)\u001b[0m\n\u001b[1;32m     57\u001b[0m     \u001b[0mctx\u001b[0m\u001b[0;34m.\u001b[0m\u001b[0mensure_initialized\u001b[0m\u001b[0;34m(\u001b[0m\u001b[0;34m)\u001b[0m\u001b[0;34m\u001b[0m\u001b[0;34m\u001b[0m\u001b[0m\n\u001b[1;32m     58\u001b[0m     tensors = pywrap_tfe.TFE_Py_Execute(ctx._handle, device_name, op_name,\n\u001b[0;32m---> 59\u001b[0;31m                                         inputs, attrs, num_outputs)\n\u001b[0m\u001b[1;32m     60\u001b[0m   \u001b[0;32mexcept\u001b[0m \u001b[0mcore\u001b[0m\u001b[0;34m.\u001b[0m\u001b[0m_NotOkStatusException\u001b[0m \u001b[0;32mas\u001b[0m \u001b[0me\u001b[0m\u001b[0;34m:\u001b[0m\u001b[0;34m\u001b[0m\u001b[0;34m\u001b[0m\u001b[0m\n\u001b[1;32m     61\u001b[0m     \u001b[0;32mif\u001b[0m \u001b[0mname\u001b[0m \u001b[0;32mis\u001b[0m \u001b[0;32mnot\u001b[0m \u001b[0;32mNone\u001b[0m\u001b[0;34m:\u001b[0m\u001b[0;34m\u001b[0m\u001b[0;34m\u001b[0m\u001b[0m\n",
            "\u001b[0;31mKeyboardInterrupt\u001b[0m: "
          ]
        }
      ],
      "source": [
        "history = vgg.fit(train_data.batch(128), \n",
        "    validation_data=validation_data.batch(128),\n",
        "    shuffle= True,\n",
        "    epochs = 15,\n",
        "    callbacks = tf.keras.callbacks.EarlyStopping(monitor='val_accuracy', mode='max', patience=5, restore_best_weights=True),\n",
        "    class_weight = class_weights\n",
        ").history"
      ]
    },
    {
      "cell_type": "code",
      "execution_count": null,
      "metadata": {
        "colab": {
          "base_uri": "https://localhost:8080/",
          "height": 655
        },
        "id": "FB5VOXM5gMMG",
        "outputId": "42484813-7afa-4e33-9cc6-1dda60054150"
      },
      "outputs": [
        {
          "output_type": "display_data",
          "data": {
            "image/png": "[encoded data removed]",
            "text/plain": [
              "<Figure size 1080x360 with 1 Axes>"
            ]
          },
          "metadata": {
            "needs_background": "light"
          }
        },
        {
          "output_type": "display_data",
          "data": {
            "image/png": "[encoded data removed]",
            "text/plain": [
              "<Figure size 1080x360 with 1 Axes>"
            ]
          },
          "metadata": {
            "needs_background": "light"
          }
        }
      ],
      "source": [
        "# Plot the training\n",
        "plt.figure(figsize=(15,5))\n",
        "plt.plot(history['loss'], label='Training', alpha=.8, color='#ff7f0e')\n",
        "plt.plot(history['val_loss'], label='Validation', alpha=.8, color='#4D61E2')\n",
        "plt.legend(loc='upper left')\n",
        "plt.title('Categorical Crossentropy')\n",
        "plt.grid(alpha=.3)\n",
        "\n",
        "plt.figure(figsize=(15,5))\n",
        "plt.plot(history['accuracy'], label='Training', alpha=.8, color='#ff7f0e')\n",
        "plt.plot(history['val_accuracy'], label='Validation', alpha=.8, color='#4D61E2')\n",
        "plt.legend(loc='upper left')\n",
        "plt.title('Accuracy')\n",
        "plt.grid(alpha=.3)\n",
        "\n",
        "plt.show()"
      ]
    },
    {
      "cell_type": "code",
      "execution_count": null,
      "metadata": {
        "id": "wldGuRfbgTCl"
      },
      "outputs": [],
      "source": [
        "#Computing the prediction of the model on the validation set\n",
        "predictions = []\n",
        "for element in validation_data.batch(128).as_numpy_iterator():\n",
        "    predictions.append(vgg.predict(element[0]))"
      ]
    },
    {
      "cell_type": "code",
      "execution_count": null,
      "metadata": {
        "id": "4QGlPO6cgV3H"
      },
      "outputs": [],
      "source": [
        "predictions_f = [item for sublist in predictions for item in sublist]"
      ]
    },
    {
      "cell_type": "code",
      "execution_count": null,
      "metadata": {
        "id": "5z8zU-7kgZHb"
      },
      "outputs": [],
      "source": [
        "predictions_oh = []\n",
        "#transform prediction into one-hot-encoding \n",
        "for i in range(len(predictions_f)):\n",
        "    predictions_oh.append(tf.one_hot(tf.argmax(predictions_f[i]), depth=3))"
      ]
    },
    {
      "cell_type": "code",
      "execution_count": null,
      "metadata": {
        "id": "LL0IDcItgcub"
      },
      "outputs": [],
      "source": [
        "#Compute the true and prediction array in order to plot the confusion matrix\n",
        "y = []\n",
        "\n",
        "for y_t in y_val.tolist():\n",
        "    if(y_t == [1, 0, 0]):\n",
        "        y.append('N')\n",
        "    if(y_t == [0, 1 ,0]):\n",
        "        y.append('S')\n",
        "    if(y_t == [0, 0 ,1]):\n",
        "        y.append('V')    \n",
        "\n",
        "y_pred = []\n",
        "\n",
        "for y_t in predictions_oh:\n",
        "    if(all(tf.equal(y_t, tf.constant([1, 0, 0], dtype=np.float32)))):\n",
        "        y_pred.append('N')\n",
        "    elif(all(tf.equal(y_t, tf.constant([0, 1, 0], dtype=np.float32)))):\n",
        "        y_pred.append('S')\n",
        "    elif(all(tf.equal(y_t, tf.constant([0, 0, 1], dtype=np.float32)))):\n",
        "        y_pred.append('V')  \n",
        "    else:\n",
        "        print(y_t)  "
      ]
    },
    {
      "cell_type": "code",
      "execution_count": null,
      "metadata": {
        "colab": {
          "base_uri": "https://localhost:8080/",
          "height": 558
        },
        "id": "YPUv81WagfUP",
        "outputId": "9102757e-8c0b-46b7-a1ac-76e8ef173359"
      },
      "outputs": [
        {
          "output_type": "execute_result",
          "data": {
            "text/plain": [
              "<sklearn.metrics._plot.confusion_matrix.ConfusionMatrixDisplay at 0x7f12ab6e00d0>"
            ]
          },
          "metadata": {},
          "execution_count": 96
        },
        {
          "output_type": "display_data",
          "data": {
            "image/png": "[encoded data removed]",
            "text/plain": [
              "<Figure size 432x288 with 2 Axes>"
            ]
          },
          "metadata": {
            "needs_background": "light"
          }
        },
        {
          "output_type": "display_data",
          "data": {
            "image/png": "[encoded data removed]",
            "text/plain": [
              "<Figure size 432x288 with 2 Axes>"
            ]
          },
          "metadata": {
            "needs_background": "light"
          }
        }
      ],
      "source": [
        "#Plotting the confusion matrix\n",
        "import seaborn as sns\n",
        "from sklearn.metrics import ConfusionMatrixDisplay, classification_report\n",
        "from sklearn.metrics import confusion_matrix\n",
        "\n",
        "ConfusionMatrixDisplay.from_predictions(y, y_pred, labels = ['N', 'S', 'V'])\n",
        "ConfusionMatrixDisplay.from_predictions(y, y_pred, normalize='true', labels = ['N', 'S', 'V'])"
      ]
    },
    {
      "cell_type": "code",
      "execution_count": null,
      "metadata": {
        "colab": {
          "base_uri": "https://localhost:8080/"
        },
        "id": "_BllkMfqsf-p",
        "outputId": "9357bc38-581a-4bb3-f0a0-1589e4910775"
      },
      "outputs": [
        {
          "output_type": "stream",
          "name": "stdout",
          "text": [
            "              precision    recall  f1-score   support\n",
            "\n",
            "           N       1.00      0.97      0.98     39204\n",
            "           S       0.59      0.89      0.71      1864\n",
            "           V       0.86      0.98      0.91      1537\n",
            "\n",
            "    accuracy                           0.96     42605\n",
            "   macro avg       0.81      0.94      0.87     42605\n",
            "weighted avg       0.97      0.96      0.97     42605\n",
            "\n"
          ]
        }
      ],
      "source": [
        "print(classification_report(y,y_pred))"
      ]
    },
    {
      "cell_type": "code",
      "execution_count": null,
      "metadata": {
        "colab": {
          "base_uri": "https://localhost:8080/"
        },
        "id": "uVp3Wsv2rWNs",
        "outputId": "b5d0ffae-605e-44c1-de6f-589ed267f5fd"
      },
      "outputs": [
        {
          "output_type": "stream",
          "name": "stdout",
          "text": [
            "INFO:tensorflow:Assets written to: /content/drive/MyDrive/AppliedAIinBiomedicine/final-assignment/vgg model 2 leads normalized/assets\n"
          ]
        }
      ],
      "source": [
        "vgg.save('/content/drive/MyDrive/AppliedAIinBiomedicine/final-assignment/vgg model 2 leads normalized')"
      ]
    },
    {
      "cell_type": "markdown",
      "metadata": {
        "id": "LzZWVVEBgAp2"
      },
      "source": [
        "## VGG-1D with Attention Mechanism"
      ]
    },
    {
      "cell_type": "markdown",
      "metadata": {
        "id": "tzNU2zpko_J4"
      },
      "source": [
        "Idea adapted from the paper *ECG-Based Heart Arrhythmia Diagnosis Through\n",
        "Attentional Convolutional Neural Networks* by Liu et al."
      ]
    },
    {
      "cell_type": "code",
      "execution_count": null,
      "metadata": {
        "id": "hjo3BltmgGgN"
      },
      "outputs": [],
      "source": [
        "input = tf.keras.Input(shape= [max_len, 1])\n",
        "\n",
        "#attention = tf.keras.layers.MultiHeadAttention(num_heads = 32, key_dim = int(max_len/32) )(input, input ,return_attention_scores=False)\n",
        "attention = tf.keras.layers.Dense(max_len, activation='softmax')(input)\n",
        "\n",
        "mul = tf.keras.layers.Multiply()([input, attention])\n",
        "\n",
        "layer = tf.keras.layers.Conv1D(filters=64,kernel_size=3,padding=\"same\", activation=\"relu\")(mul)\n",
        "layer = tf.keras.layers.Conv1D(filters=64,kernel_size=3,padding=\"same\", activation=\"relu\")(layer)\n",
        "layer = tf.keras.layers.MaxPooling1D(pool_size=2,strides=2)(layer)\n",
        "layer = tf.keras.layers.Conv1D(filters=128, kernel_size=3, padding=\"same\", activation=\"relu\")(layer)\n",
        "layer = tf.keras.layers.Conv1D(filters=128, kernel_size=3, padding=\"same\", activation=\"relu\")(layer)\n",
        "layer = tf.keras.layers.MaxPooling1D(pool_size=2,strides=2)(layer)\n",
        "layer = tf.keras.layers.Conv1D(filters=256, kernel_size=3, padding=\"same\", activation=\"relu\")(layer)\n",
        "layer = tf.keras.layers.Conv1D(filters=256, kernel_size=3, padding=\"same\", activation=\"relu\")(layer)\n",
        "layer = tf.keras.layers.Conv1D(filters=256, kernel_size=3, padding=\"same\", activation=\"relu\")(layer)\n",
        "layer = tf.keras.layers.MaxPooling1D(pool_size=2,strides=2)(layer)\n",
        "layer = tf.keras.layers.Conv1D(filters=512, kernel_size=3, padding=\"same\", activation=\"relu\")(layer)\n",
        "layer = tf.keras.layers.Conv1D(filters=512, kernel_size=3, padding=\"same\", activation=\"relu\")(layer)\n",
        "layer = tf.keras.layers.Conv1D(filters=512, kernel_size=3, padding=\"same\", activation=\"relu\")(layer)\n",
        "layer = tf.keras.layers.MaxPooling1D(pool_size=2,strides=2)(layer)\n",
        "layer = tf.keras.layers.Conv1D(filters=512, kernel_size=3, padding=\"same\", activation=\"relu\")(layer)\n",
        "layer = tf.keras.layers.Conv1D(filters=512, kernel_size=3, padding=\"same\", activation=\"relu\")(layer)\n",
        "layer = tf.keras.layers.Conv1D(filters=512, kernel_size=3, padding=\"same\", activation=\"relu\")(layer)\n",
        "layer = tf.keras.layers.MaxPooling1D(pool_size=2,strides=2)(layer)\n",
        "layer = tf.keras.layers.GlobalMaxPooling1D()(layer)\n",
        "layer = tf.keras.layers.Dense(512, activation='relu')(layer)\n",
        "layer = tf.keras.layers.Dropout(0.4)(layer)\n",
        "output = tf.keras.layers.Dense(3,activation='softmax')(layer)\n",
        "\n",
        "model = tf.keras.Model(inputs = input , outputs = output)\n",
        "\n",
        "learning_rate = 0.001\n",
        "model.compile(\n",
        "    optimizer = tf.keras.optimizers.Adam(1e-4),\n",
        "    loss = 'categorical_crossentropy',\n",
        "    metrics = ['accuracy', tf.keras.metrics.Precision(),tf.keras.metrics.Recall()]\n",
        ")"
      ]
    },
    {
      "cell_type": "code",
      "execution_count": null,
      "metadata": {
        "colab": {
          "base_uri": "https://localhost:8080/"
        },
        "id": "vvXB_HvgiwlW",
        "outputId": "eadf8f95-906c-43e7-a00b-0f1d9d0f6238"
      },
      "outputs": [
        {
          "output_type": "stream",
          "name": "stdout",
          "text": [
            "Model: \"model_3\"\n",
            "__________________________________________________________________________________________________\n",
            " Layer (type)                   Output Shape         Param #     Connected to                     \n",
            "==================================================================================================\n",
            " input_4 (InputLayer)           [(None, 223, 1)]     0           []                               \n",
            "                                                                                                  \n",
            " dense_9 (Dense)                (None, 223, 223)     446         ['input_4[0][0]']                \n",
            "                                                                                                  \n",
            " multiply_1 (Multiply)          (None, 223, 223)     0           ['input_4[0][0]',                \n",
            "                                                                  'dense_9[0][0]']                \n",
            "                                                                                                  \n",
            " conv1d_17 (Conv1D)             (None, 223, 64)      42880       ['multiply_1[0][0]']             \n",
            "                                                                                                  \n",
            " conv1d_18 (Conv1D)             (None, 223, 64)      12352       ['conv1d_17[0][0]']              \n",
            "                                                                                                  \n",
            " max_pooling1d_9 (MaxPooling1D)  (None, 111, 64)     0           ['conv1d_18[0][0]']              \n",
            "                                                                                                  \n",
            " conv1d_19 (Conv1D)             (None, 111, 128)     24704       ['max_pooling1d_9[0][0]']        \n",
            "                                                                                                  \n",
            " conv1d_20 (Conv1D)             (None, 111, 128)     49280       ['conv1d_19[0][0]']              \n",
            "                                                                                                  \n",
            " max_pooling1d_10 (MaxPooling1D  (None, 55, 128)     0           ['conv1d_20[0][0]']              \n",
            " )                                                                                                \n",
            "                                                                                                  \n",
            " conv1d_21 (Conv1D)             (None, 55, 256)      98560       ['max_pooling1d_10[0][0]']       \n",
            "                                                                                                  \n",
            " conv1d_22 (Conv1D)             (None, 55, 256)      196864      ['conv1d_21[0][0]']              \n",
            "                                                                                                  \n",
            " conv1d_23 (Conv1D)             (None, 55, 256)      196864      ['conv1d_22[0][0]']              \n",
            "                                                                                                  \n",
            " max_pooling1d_11 (MaxPooling1D  (None, 27, 256)     0           ['conv1d_23[0][0]']              \n",
            " )                                                                                                \n",
            "                                                                                                  \n",
            " conv1d_24 (Conv1D)             (None, 27, 512)      393728      ['max_pooling1d_11[0][0]']       \n",
            "                                                                                                  \n",
            " conv1d_25 (Conv1D)             (None, 27, 512)      786944      ['conv1d_24[0][0]']              \n",
            "                                                                                                  \n",
            " conv1d_26 (Conv1D)             (None, 27, 512)      786944      ['conv1d_25[0][0]']              \n",
            "                                                                                                  \n",
            " max_pooling1d_12 (MaxPooling1D  (None, 13, 512)     0           ['conv1d_26[0][0]']              \n",
            " )                                                                                                \n",
            "                                                                                                  \n",
            " conv1d_27 (Conv1D)             (None, 13, 512)      786944      ['max_pooling1d_12[0][0]']       \n",
            "                                                                                                  \n",
            " conv1d_28 (Conv1D)             (None, 13, 512)      786944      ['conv1d_27[0][0]']              \n",
            "                                                                                                  \n",
            " conv1d_29 (Conv1D)             (None, 13, 512)      786944      ['conv1d_28[0][0]']              \n",
            "                                                                                                  \n",
            " max_pooling1d_13 (MaxPooling1D  (None, 6, 512)      0           ['conv1d_29[0][0]']              \n",
            " )                                                                                                \n",
            "                                                                                                  \n",
            " global_max_pooling1d_1 (Global  (None, 512)         0           ['max_pooling1d_13[0][0]']       \n",
            " MaxPooling1D)                                                                                    \n",
            "                                                                                                  \n",
            " dense_10 (Dense)               (None, 512)          262656      ['global_max_pooling1d_1[0][0]'] \n",
            "                                                                                                  \n",
            " dropout_5 (Dropout)            (None, 512)          0           ['dense_10[0][0]']               \n",
            "                                                                                                  \n",
            " dense_11 (Dense)               (None, 3)            1539        ['dropout_5[0][0]']              \n",
            "                                                                                                  \n",
            "==================================================================================================\n",
            "Total params: 5,214,593\n",
            "Trainable params: 5,214,593\n",
            "Non-trainable params: 0\n",
            "__________________________________________________________________________________________________\n"
          ]
        }
      ],
      "source": [
        "model.summary()"
      ]
    },
    {
      "cell_type": "code",
      "execution_count": null,
      "metadata": {
        "colab": {
          "base_uri": "https://localhost:8080/"
        },
        "id": "12d25TMnjB32",
        "outputId": "3c55a549-ed02-4473-e737-e5a01525eb7f"
      },
      "outputs": [
        {
          "output_type": "stream",
          "name": "stdout",
          "text": [
            "Epoch 1/15\n",
            "1332/1332 [==============================] - 225s 165ms/step - loss: 0.6682 - accuracy: 0.6758 - precision_3: 0.7409 - recall_3: 0.5416 - val_loss: 0.3469 - val_accuracy: 0.8994 - val_precision_3: 0.9100 - val_recall_3: 0.8843\n",
            "Epoch 2/15\n",
            "1332/1332 [==============================] - 216s 162ms/step - loss: 0.3578 - accuracy: 0.8657 - precision_3: 0.8764 - recall_3: 0.8527 - val_loss: 0.3143 - val_accuracy: 0.8848 - val_precision_3: 0.8926 - val_recall_3: 0.8746\n",
            "Epoch 3/15\n",
            "1332/1332 [==============================] - 216s 162ms/step - loss: 0.2676 - accuracy: 0.8987 - precision_3: 0.9051 - recall_3: 0.8920 - val_loss: 0.3362 - val_accuracy: 0.8679 - val_precision_3: 0.8757 - val_recall_3: 0.8615\n",
            "Epoch 4/15\n",
            "1332/1332 [==============================] - 216s 162ms/step - loss: 0.2247 - accuracy: 0.9120 - precision_3: 0.9174 - recall_3: 0.9073 - val_loss: 0.2546 - val_accuracy: 0.8970 - val_precision_3: 0.9058 - val_recall_3: 0.8918\n",
            "Epoch 5/15\n",
            "1332/1332 [==============================] - 216s 162ms/step - loss: 0.1930 - accuracy: 0.9216 - precision_3: 0.9255 - recall_3: 0.9181 - val_loss: 0.2166 - val_accuracy: 0.9091 - val_precision_3: 0.9141 - val_recall_3: 0.9049\n",
            "Epoch 6/15\n",
            "1332/1332 [==============================] - 216s 162ms/step - loss: 0.1728 - accuracy: 0.9266 - precision_3: 0.9294 - recall_3: 0.9237 - val_loss: 0.1913 - val_accuracy: 0.9219 - val_precision_3: 0.9246 - val_recall_3: 0.9194\n",
            "Epoch 7/15\n",
            "1332/1332 [==============================] - 216s 162ms/step - loss: 0.1562 - accuracy: 0.9311 - precision_3: 0.9333 - recall_3: 0.9289 - val_loss: 0.1586 - val_accuracy: 0.9362 - val_precision_3: 0.9389 - val_recall_3: 0.9337\n",
            "Epoch 8/15\n",
            "1332/1332 [==============================] - 216s 162ms/step - loss: 0.1447 - accuracy: 0.9347 - precision_3: 0.9367 - recall_3: 0.9332 - val_loss: 0.1860 - val_accuracy: 0.9270 - val_precision_3: 0.9298 - val_recall_3: 0.9244\n",
            "Epoch 9/15\n",
            "1332/1332 [==============================] - 215s 162ms/step - loss: 0.1332 - accuracy: 0.9382 - precision_3: 0.9400 - recall_3: 0.9367 - val_loss: 0.1336 - val_accuracy: 0.9472 - val_precision_3: 0.9491 - val_recall_3: 0.9454\n",
            "Epoch 10/15\n",
            "1332/1332 [==============================] - 216s 162ms/step - loss: 0.1272 - accuracy: 0.9397 - precision_3: 0.9413 - recall_3: 0.9386 - val_loss: 0.1676 - val_accuracy: 0.9337 - val_precision_3: 0.9364 - val_recall_3: 0.9310\n",
            "Epoch 11/15\n",
            "1332/1332 [==============================] - 216s 162ms/step - loss: 0.1186 - accuracy: 0.9422 - precision_3: 0.9436 - recall_3: 0.9412 - val_loss: 0.1455 - val_accuracy: 0.9418 - val_precision_3: 0.9436 - val_recall_3: 0.9409\n",
            "Epoch 12/15\n",
            "1332/1332 [==============================] - 216s 162ms/step - loss: 0.1105 - accuracy: 0.9457 - precision_3: 0.9467 - recall_3: 0.9448 - val_loss: 0.1192 - val_accuracy: 0.9564 - val_precision_3: 0.9577 - val_recall_3: 0.9557\n",
            "Epoch 13/15\n",
            "1332/1332 [==============================] - 216s 162ms/step - loss: 0.1050 - accuracy: 0.9464 - precision_3: 0.9474 - recall_3: 0.9457 - val_loss: 0.1336 - val_accuracy: 0.9483 - val_precision_3: 0.9498 - val_recall_3: 0.9473\n",
            "Epoch 14/15\n",
            "1159/1332 [=========================>....] - ETA: 26s - loss: 0.0999 - accuracy: 0.9487 - precision_3: 0.9495 - recall_3: 0.9481"
          ]
        }
      ],
      "source": [
        "history = model.fit(train_data.batch(128), \n",
        "    validation_data=validation_data.batch(128),\n",
        "    shuffle= True,\n",
        "    epochs = 15,\n",
        "    callbacks = tf.keras.callbacks.EarlyStopping(monitor='val_accuracy', mode='max', patience=5, restore_best_weights=True),\n",
        "    class_weight = class_weights\n",
        ").history"
      ]
    },
    {
      "cell_type": "code",
      "execution_count": null,
      "metadata": {
        "colab": {
          "base_uri": "https://localhost:8080/",
          "height": 655
        },
        "id": "nX1w9Fv9QTBp",
        "outputId": "1e4e19d5-535b-4ed0-9534-16071276d95b"
      },
      "outputs": [
        {
          "data": {
            "image/png": "[encoded data removed]",
            "text/plain": [
              "<Figure size 1080x360 with 1 Axes>"
            ]
          },
          "metadata": {
            "needs_background": "light"
          },
          "output_type": "display_data"
        },
        {
          "data": {
            "image/png": "[encoded data removed]",
            "text/plain": [
              "<Figure size 1080x360 with 1 Axes>"
            ]
          },
          "metadata": {
            "needs_background": "light"
          },
          "output_type": "display_data"
        }
      ],
      "source": [
        "# Plot the training\n",
        "plt.figure(figsize=(15,5))\n",
        "plt.plot(history['loss'], label='Training', alpha=.8, color='#ff7f0e')\n",
        "plt.plot(history['val_loss'], label='Validation', alpha=.8, color='#4D61E2')\n",
        "plt.legend(loc='upper left')\n",
        "plt.title('Categorical Crossentropy')\n",
        "plt.grid(alpha=.3)\n",
        "\n",
        "plt.figure(figsize=(15,5))\n",
        "plt.plot(history['accuracy'], label='Training', alpha=.8, color='#ff7f0e')\n",
        "plt.plot(history['val_accuracy'], label='Validation', alpha=.8, color='#4D61E2')\n",
        "plt.legend(loc='upper left')\n",
        "plt.title('Accuracy')\n",
        "plt.grid(alpha=.3)\n",
        "\n",
        "plt.show()"
      ]
    },
    {
      "cell_type": "code",
      "execution_count": null,
      "metadata": {
        "id": "Gq6sk-4GOl7L"
      },
      "outputs": [],
      "source": [
        "#Computing the prediction of the model on the validation set\n",
        "predictions = []\n",
        "for element in validation_data.batch(128).as_numpy_iterator():\n",
        "    predictions.append(model.predict(element[0]))"
      ]
    },
    {
      "cell_type": "code",
      "execution_count": null,
      "metadata": {
        "id": "KxS5kAAAOp7_"
      },
      "outputs": [],
      "source": [
        "predictions_f = [item for sublist in predictions for item in sublist]"
      ]
    },
    {
      "cell_type": "code",
      "execution_count": null,
      "metadata": {
        "id": "eRi9A4BXPUFp"
      },
      "outputs": [],
      "source": [
        "predictions_oh = []\n",
        "#transform prediction into one-hot-encoding \n",
        "for i in range(len(predictions_f)):\n",
        "    predictions_oh.append(tf.one_hot(tf.argmax(predictions_f[i]), depth=3))"
      ]
    },
    {
      "cell_type": "code",
      "execution_count": null,
      "metadata": {
        "id": "f6vVlWI2OdMp"
      },
      "outputs": [],
      "source": [
        "#Compute the true and prediction array in order to plot the confusion matrix\n",
        "y = []\n",
        "\n",
        "for y_t in y_val.tolist():\n",
        "    if(y_t == [1, 0, 0]):\n",
        "        y.append('N')\n",
        "    if(y_t == [0, 1 ,0]):\n",
        "        y.append('S')\n",
        "    if(y_t == [0, 0 ,1]):\n",
        "        y.append('V')    \n",
        "\n",
        "y_pred = []\n",
        "\n",
        "for y_t in predictions_oh:\n",
        "    if(all(tf.equal(y_t, tf.constant([1, 0, 0], dtype=np.float32)))):\n",
        "        y_pred.append('N')\n",
        "    elif(all(tf.equal(y_t, tf.constant([0, 1, 0], dtype=np.float32)))):\n",
        "        y_pred.append('S')\n",
        "    elif(all(tf.equal(y_t, tf.constant([0, 0, 1], dtype=np.float32)))):\n",
        "        y_pred.append('V')  \n",
        "    else:\n",
        "        print(y_t)  "
      ]
    },
    {
      "cell_type": "code",
      "execution_count": null,
      "metadata": {
        "colab": {
          "base_uri": "https://localhost:8080/",
          "height": 559
        },
        "id": "h2YjgBcnOtKM",
        "outputId": "896fc3d9-f49f-449a-b0cb-e5c69e228b7a"
      },
      "outputs": [
        {
          "data": {
            "text/plain": [
              "<sklearn.metrics._plot.confusion_matrix.ConfusionMatrixDisplay at 0x7f3023bbc510>"
            ]
          },
          "execution_count": 93,
          "metadata": {},
          "output_type": "execute_result"
        },
        {
          "data": {
            "image/png": "[encoded data removed]",
            "text/plain": [
              "<Figure size 432x288 with 2 Axes>"
            ]
          },
          "metadata": {
            "needs_background": "light"
          },
          "output_type": "display_data"
        },
        {
          "data": {
            "image/png": "[encoded data removed]",
            "text/plain": [
              "<Figure size 432x288 with 2 Axes>"
            ]
          },
          "metadata": {
            "needs_background": "light"
          },
          "output_type": "display_data"
        }
      ],
      "source": [
        "#Plotting the confusion matrix\n",
        "import seaborn as sns\n",
        "from sklearn.metrics import ConfusionMatrixDisplay, classification_report\n",
        "from sklearn.metrics import confusion_matrix\n",
        "\n",
        "ConfusionMatrixDisplay.from_predictions(y, y_pred, labels = ['N', 'S', 'V'])\n",
        "ConfusionMatrixDisplay.from_predictions(y, y_pred, normalize='true', labels = ['N', 'S', 'V'])"
      ]
    },
    {
      "cell_type": "code",
      "execution_count": null,
      "metadata": {
        "colab": {
          "base_uri": "https://localhost:8080/"
        },
        "id": "ZE8PIPWnP-k9",
        "outputId": "f8bbdfe5-e3b8-4dd8-f317-c29c6c72afe0"
      },
      "outputs": [
        {
          "name": "stdout",
          "output_type": "stream",
          "text": [
            "              precision    recall  f1-score   support\n",
            "\n",
            "           N       0.99      0.96      0.98     39204\n",
            "           S       0.53      0.84      0.65      1864\n",
            "           V       0.79      0.98      0.87      1537\n",
            "\n",
            "    accuracy                           0.95     42605\n",
            "   macro avg       0.77      0.92      0.83     42605\n",
            "weighted avg       0.97      0.95      0.96     42605\n",
            "\n"
          ]
        }
      ],
      "source": [
        "print(classification_report(y,y_pred))"
      ]
    },
    {
      "cell_type": "code",
      "execution_count": null,
      "metadata": {
        "id": "2DhDUON_OcTp"
      },
      "outputs": [],
      "source": [
        "input = tf.keras.Input(shape= [max_len, 1])\n",
        "\n",
        "#attention = tf.keras.layers.MultiHeadAttention(num_heads = 32, key_dim = int(max_len/32) )(input, input ,return_attention_scores=False)\n",
        "\n",
        "#mul = tf.keras.layers.Multiply()([input, attention])\n",
        "\n",
        "layer = tf.keras.layers.Conv1D(filters=2,kernel_size=1,padding=\"same\")(attention)\n",
        "layer = tf.keras.layers.MaxPooling1D(pool_size=2,strides=1)(layer)\n",
        "layer = tf.keras.layers.ReLU()(layer)\n",
        "layer = tf.keras.layers.Conv1D(filters=4, kernel_size=1, padding=\"same\")(layer)\n",
        "layer = tf.keras.layers.MaxPooling1D(pool_size=2,strides=1)(layer)\n",
        "layer = tf.keras.layers.ReLU()(layer)\n",
        "layer = tf.keras.layers.Flatten()(layer)\n",
        "layer = tf.keras.layers.Dense(240, activation='relu')(layer)\n",
        "layer = tf.keras.layers.Dropout(0.3)(layer)\n",
        "layer = tf.keras.layers.Dense(60, activation='relu')(layer)\n",
        "layer = tf.keras.layers.Dropout(0.3)(layer)\n",
        "output = tf.keras.layers.Dense(3,activation='softmax')(layer)\n",
        "\n",
        "model = tf.keras.Model(inputs = input , outputs = output)\n",
        "\n",
        "learning_rate = 0.001\n",
        "model.compile(\n",
        "    optimizer = tf.keras.optimizers.Adam(1e-4),\n",
        "    loss = 'categorical_crossentropy',\n",
        "    metrics = ['accuracy', tf.keras.metrics.Precision(),tf.keras.metrics.Recall()]\n",
        ")"
      ]
    },
    {
      "cell_type": "code",
      "execution_count": null,
      "metadata": {
        "colab": {
          "base_uri": "https://localhost:8080/"
        },
        "id": "VbgUTESNZliP",
        "outputId": "6c349c2b-78e2-4c5e-fa67-c9351fe94ad0"
      },
      "outputs": [
        {
          "output_type": "stream",
          "name": "stdout",
          "text": [
            "Model: \"model_1\"\n",
            "__________________________________________________________________________________________________\n",
            " Layer (type)                   Output Shape         Param #     Connected to                     \n",
            "==================================================================================================\n",
            " input_2 (InputLayer)           [(None, 223, 1)]     0           []                               \n",
            "                                                                                                  \n",
            " multi_head_attention_1 (MultiH  (None, 223, 1)      1345        ['input_2[0][0]',                \n",
            " eadAttention)                                                    'input_2[0][0]']                \n",
            "                                                                                                  \n",
            " conv1d_2 (Conv1D)              (None, 223, 2)       4           ['multi_head_attention_1[0][0]'] \n",
            "                                                                                                  \n",
            " max_pooling1d_2 (MaxPooling1D)  (None, 222, 2)      0           ['conv1d_2[0][0]']               \n",
            "                                                                                                  \n",
            " re_lu_2 (ReLU)                 (None, 222, 2)       0           ['max_pooling1d_2[0][0]']        \n",
            "                                                                                                  \n",
            " conv1d_3 (Conv1D)              (None, 222, 4)       12          ['re_lu_2[0][0]']                \n",
            "                                                                                                  \n",
            " max_pooling1d_3 (MaxPooling1D)  (None, 221, 4)      0           ['conv1d_3[0][0]']               \n",
            "                                                                                                  \n",
            " re_lu_3 (ReLU)                 (None, 221, 4)       0           ['max_pooling1d_3[0][0]']        \n",
            "                                                                                                  \n",
            " flatten_1 (Flatten)            (None, 884)          0           ['re_lu_3[0][0]']                \n",
            "                                                                                                  \n",
            " dense_3 (Dense)                (None, 240)          212400      ['flatten_1[0][0]']              \n",
            "                                                                                                  \n",
            " dropout_2 (Dropout)            (None, 240)          0           ['dense_3[0][0]']                \n",
            "                                                                                                  \n",
            " dense_4 (Dense)                (None, 60)           14460       ['dropout_2[0][0]']              \n",
            "                                                                                                  \n",
            " dropout_3 (Dropout)            (None, 60)           0           ['dense_4[0][0]']                \n",
            "                                                                                                  \n",
            " dense_5 (Dense)                (None, 3)            183         ['dropout_3[0][0]']              \n",
            "                                                                                                  \n",
            "==================================================================================================\n",
            "Total params: 228,404\n",
            "Trainable params: 228,404\n",
            "Non-trainable params: 0\n",
            "__________________________________________________________________________________________________\n"
          ]
        }
      ],
      "source": [
        "model.summary()"
      ]
    },
    {
      "cell_type": "code",
      "execution_count": null,
      "metadata": {
        "colab": {
          "base_uri": "https://localhost:8080/",
          "height": 575
        },
        "id": "2bLTb75qVaoV",
        "outputId": "30840f93-2ba3-4547-b933-cce8d749b337"
      },
      "outputs": [
        {
          "output_type": "stream",
          "name": "stdout",
          "text": [
            "Epoch 1/15\n",
            "1332/1332 [==============================] - 376s 279ms/step - loss: 1.0064 - accuracy: 0.6092 - precision_1: 0.2217 - recall_1: 0.0117 - val_loss: 0.9933 - val_accuracy: 0.7485 - val_precision_1: 0.2466 - val_recall_1: 0.0188\n",
            "Epoch 2/15\n",
            "1332/1332 [==============================] - 369s 277ms/step - loss: 0.9165 - accuracy: 0.6020 - precision_1: 0.3575 - recall_1: 0.0311 - val_loss: 0.9575 - val_accuracy: 0.6676 - val_precision_1: 0.4200 - val_recall_1: 0.0438\n",
            "Epoch 3/15\n",
            "1332/1332 [==============================] - 370s 278ms/step - loss: 0.8725 - accuracy: 0.5851 - precision_1: 0.6388 - recall_1: 0.1121 - val_loss: 0.9133 - val_accuracy: 0.7051 - val_precision_1: 0.6103 - val_recall_1: 0.1139\n",
            "Epoch 4/15\n",
            "1332/1332 [==============================] - 370s 278ms/step - loss: 0.8223 - accuracy: 0.5980 - precision_1: 0.7082 - recall_1: 0.2116 - val_loss: 0.8498 - val_accuracy: 0.7187 - val_precision_1: 0.6812 - val_recall_1: 0.1854\n",
            "Epoch 5/15\n",
            " 780/1332 [================>.............] - ETA: 2:18 - loss: 0.7691 - accuracy: 0.6104 - precision_1: 0.7008 - recall_1: 0.3127"
          ]
        },
        {
          "output_type": "error",
          "ename": "KeyboardInterrupt",
          "evalue": "ignored",
          "traceback": [
            "\u001b[0;31m---------------------------------------------------------------------------\u001b[0m",
            "\u001b[0;31mKeyboardInterrupt\u001b[0m                         Traceback (most recent call last)",
            "\u001b[0;32m<ipython-input-36-d8acf01132d9>\u001b[0m in \u001b[0;36m<module>\u001b[0;34m()\u001b[0m\n\u001b[1;32m      4\u001b[0m     \u001b[0mepochs\u001b[0m \u001b[0;34m=\u001b[0m \u001b[0;36m15\u001b[0m\u001b[0;34m,\u001b[0m\u001b[0;34m\u001b[0m\u001b[0;34m\u001b[0m\u001b[0m\n\u001b[1;32m      5\u001b[0m     \u001b[0mcallbacks\u001b[0m \u001b[0;34m=\u001b[0m \u001b[0mtf\u001b[0m\u001b[0;34m.\u001b[0m\u001b[0mkeras\u001b[0m\u001b[0;34m.\u001b[0m\u001b[0mcallbacks\u001b[0m\u001b[0;34m.\u001b[0m\u001b[0mEarlyStopping\u001b[0m\u001b[0;34m(\u001b[0m\u001b[0mmonitor\u001b[0m\u001b[0;34m=\u001b[0m\u001b[0;34m'val_accuracy'\u001b[0m\u001b[0;34m,\u001b[0m \u001b[0mmode\u001b[0m\u001b[0;34m=\u001b[0m\u001b[0;34m'max'\u001b[0m\u001b[0;34m,\u001b[0m \u001b[0mpatience\u001b[0m\u001b[0;34m=\u001b[0m\u001b[0;36m5\u001b[0m\u001b[0;34m,\u001b[0m \u001b[0mrestore_best_weights\u001b[0m\u001b[0;34m=\u001b[0m\u001b[0;32mTrue\u001b[0m\u001b[0;34m)\u001b[0m\u001b[0;34m,\u001b[0m\u001b[0;34m\u001b[0m\u001b[0;34m\u001b[0m\u001b[0m\n\u001b[0;32m----> 6\u001b[0;31m     \u001b[0mclass_weight\u001b[0m \u001b[0;34m=\u001b[0m \u001b[0mclass_weights\u001b[0m\u001b[0;34m\u001b[0m\u001b[0;34m\u001b[0m\u001b[0m\n\u001b[0m\u001b[1;32m      7\u001b[0m ).history\n",
            "\u001b[0;32m/usr/local/lib/python3.7/dist-packages/keras/utils/traceback_utils.py\u001b[0m in \u001b[0;36merror_handler\u001b[0;34m(*args, **kwargs)\u001b[0m\n\u001b[1;32m     62\u001b[0m     \u001b[0mfiltered_tb\u001b[0m \u001b[0;34m=\u001b[0m \u001b[0;32mNone\u001b[0m\u001b[0;34m\u001b[0m\u001b[0;34m\u001b[0m\u001b[0m\n\u001b[1;32m     63\u001b[0m     \u001b[0;32mtry\u001b[0m\u001b[0;34m:\u001b[0m\u001b[0;34m\u001b[0m\u001b[0;34m\u001b[0m\u001b[0m\n\u001b[0;32m---> 64\u001b[0;31m       \u001b[0;32mreturn\u001b[0m \u001b[0mfn\u001b[0m\u001b[0;34m(\u001b[0m\u001b[0;34m*\u001b[0m\u001b[0margs\u001b[0m\u001b[0;34m,\u001b[0m \u001b[0;34m**\u001b[0m\u001b[0mkwargs\u001b[0m\u001b[0;34m)\u001b[0m\u001b[0;34m\u001b[0m\u001b[0;34m\u001b[0m\u001b[0m\n\u001b[0m\u001b[1;32m     65\u001b[0m     \u001b[0;32mexcept\u001b[0m \u001b[0mException\u001b[0m \u001b[0;32mas\u001b[0m \u001b[0me\u001b[0m\u001b[0;34m:\u001b[0m  \u001b[0;31m# pylint: disable=broad-except\u001b[0m\u001b[0;34m\u001b[0m\u001b[0;34m\u001b[0m\u001b[0m\n\u001b[1;32m     66\u001b[0m       \u001b[0mfiltered_tb\u001b[0m \u001b[0;34m=\u001b[0m \u001b[0m_process_traceback_frames\u001b[0m\u001b[0;34m(\u001b[0m\u001b[0me\u001b[0m\u001b[0;34m.\u001b[0m\u001b[0m__traceback__\u001b[0m\u001b[0;34m)\u001b[0m\u001b[0;34m\u001b[0m\u001b[0;34m\u001b[0m\u001b[0m\n",
            "\u001b[0;32m/usr/local/lib/python3.7/dist-packages/keras/engine/training.py\u001b[0m in \u001b[0;36mfit\u001b[0;34m(self, x, y, batch_size, epochs, verbose, callbacks, validation_split, validation_data, shuffle, class_weight, sample_weight, initial_epoch, steps_per_epoch, validation_steps, validation_batch_size, validation_freq, max_queue_size, workers, use_multiprocessing)\u001b[0m\n\u001b[1;32m   1219\u001b[0m               \u001b[0mlogs\u001b[0m \u001b[0;34m=\u001b[0m \u001b[0mtmp_logs\u001b[0m  \u001b[0;31m# No error, now safe to assign to logs.\u001b[0m\u001b[0;34m\u001b[0m\u001b[0;34m\u001b[0m\u001b[0m\n\u001b[1;32m   1220\u001b[0m               \u001b[0mend_step\u001b[0m \u001b[0;34m=\u001b[0m \u001b[0mstep\u001b[0m \u001b[0;34m+\u001b[0m \u001b[0mdata_handler\u001b[0m\u001b[0;34m.\u001b[0m\u001b[0mstep_increment\u001b[0m\u001b[0;34m\u001b[0m\u001b[0;34m\u001b[0m\u001b[0m\n\u001b[0;32m-> 1221\u001b[0;31m               \u001b[0mcallbacks\u001b[0m\u001b[0;34m.\u001b[0m\u001b[0mon_train_batch_end\u001b[0m\u001b[0;34m(\u001b[0m\u001b[0mend_step\u001b[0m\u001b[0;34m,\u001b[0m \u001b[0mlogs\u001b[0m\u001b[0;34m)\u001b[0m\u001b[0;34m\u001b[0m\u001b[0;34m\u001b[0m\u001b[0m\n\u001b[0m\u001b[1;32m   1222\u001b[0m               \u001b[0;32mif\u001b[0m \u001b[0mself\u001b[0m\u001b[0;34m.\u001b[0m\u001b[0mstop_training\u001b[0m\u001b[0;34m:\u001b[0m\u001b[0;34m\u001b[0m\u001b[0;34m\u001b[0m\u001b[0m\n\u001b[1;32m   1223\u001b[0m                 \u001b[0;32mbreak\u001b[0m\u001b[0;34m\u001b[0m\u001b[0;34m\u001b[0m\u001b[0m\n",
            "\u001b[0;32m/usr/local/lib/python3.7/dist-packages/keras/callbacks.py\u001b[0m in \u001b[0;36mon_train_batch_end\u001b[0;34m(self, batch, logs)\u001b[0m\n\u001b[1;32m    434\u001b[0m     \"\"\"\n\u001b[1;32m    435\u001b[0m     \u001b[0;32mif\u001b[0m \u001b[0mself\u001b[0m\u001b[0;34m.\u001b[0m\u001b[0m_should_call_train_batch_hooks\u001b[0m\u001b[0;34m:\u001b[0m\u001b[0;34m\u001b[0m\u001b[0;34m\u001b[0m\u001b[0m\n\u001b[0;32m--> 436\u001b[0;31m       \u001b[0mself\u001b[0m\u001b[0;34m.\u001b[0m\u001b[0m_call_batch_hook\u001b[0m\u001b[0;34m(\u001b[0m\u001b[0mModeKeys\u001b[0m\u001b[0;34m.\u001b[0m\u001b[0mTRAIN\u001b[0m\u001b[0;34m,\u001b[0m \u001b[0;34m'end'\u001b[0m\u001b[0;34m,\u001b[0m \u001b[0mbatch\u001b[0m\u001b[0;34m,\u001b[0m \u001b[0mlogs\u001b[0m\u001b[0;34m=\u001b[0m\u001b[0mlogs\u001b[0m\u001b[0;34m)\u001b[0m\u001b[0;34m\u001b[0m\u001b[0;34m\u001b[0m\u001b[0m\n\u001b[0m\u001b[1;32m    437\u001b[0m \u001b[0;34m\u001b[0m\u001b[0m\n\u001b[1;32m    438\u001b[0m   \u001b[0;32mdef\u001b[0m \u001b[0mon_test_batch_begin\u001b[0m\u001b[0;34m(\u001b[0m\u001b[0mself\u001b[0m\u001b[0;34m,\u001b[0m \u001b[0mbatch\u001b[0m\u001b[0;34m,\u001b[0m \u001b[0mlogs\u001b[0m\u001b[0;34m=\u001b[0m\u001b[0;32mNone\u001b[0m\u001b[0;34m)\u001b[0m\u001b[0;34m:\u001b[0m\u001b[0;34m\u001b[0m\u001b[0;34m\u001b[0m\u001b[0m\n",
            "\u001b[0;32m/usr/local/lib/python3.7/dist-packages/keras/callbacks.py\u001b[0m in \u001b[0;36m_call_batch_hook\u001b[0;34m(self, mode, hook, batch, logs)\u001b[0m\n\u001b[1;32m    293\u001b[0m       \u001b[0mself\u001b[0m\u001b[0;34m.\u001b[0m\u001b[0m_call_batch_begin_hook\u001b[0m\u001b[0;34m(\u001b[0m\u001b[0mmode\u001b[0m\u001b[0;34m,\u001b[0m \u001b[0mbatch\u001b[0m\u001b[0;34m,\u001b[0m \u001b[0mlogs\u001b[0m\u001b[0;34m)\u001b[0m\u001b[0;34m\u001b[0m\u001b[0;34m\u001b[0m\u001b[0m\n\u001b[1;32m    294\u001b[0m     \u001b[0;32melif\u001b[0m \u001b[0mhook\u001b[0m \u001b[0;34m==\u001b[0m \u001b[0;34m'end'\u001b[0m\u001b[0;34m:\u001b[0m\u001b[0;34m\u001b[0m\u001b[0;34m\u001b[0m\u001b[0m\n\u001b[0;32m--> 295\u001b[0;31m       \u001b[0mself\u001b[0m\u001b[0;34m.\u001b[0m\u001b[0m_call_batch_end_hook\u001b[0m\u001b[0;34m(\u001b[0m\u001b[0mmode\u001b[0m\u001b[0;34m,\u001b[0m \u001b[0mbatch\u001b[0m\u001b[0;34m,\u001b[0m \u001b[0mlogs\u001b[0m\u001b[0;34m)\u001b[0m\u001b[0;34m\u001b[0m\u001b[0;34m\u001b[0m\u001b[0m\n\u001b[0m\u001b[1;32m    296\u001b[0m     \u001b[0;32melse\u001b[0m\u001b[0;34m:\u001b[0m\u001b[0;34m\u001b[0m\u001b[0;34m\u001b[0m\u001b[0m\n\u001b[1;32m    297\u001b[0m       raise ValueError(\n",
            "\u001b[0;32m/usr/local/lib/python3.7/dist-packages/keras/callbacks.py\u001b[0m in \u001b[0;36m_call_batch_end_hook\u001b[0;34m(self, mode, batch, logs)\u001b[0m\n\u001b[1;32m    314\u001b[0m       \u001b[0mself\u001b[0m\u001b[0;34m.\u001b[0m\u001b[0m_batch_times\u001b[0m\u001b[0;34m.\u001b[0m\u001b[0mappend\u001b[0m\u001b[0;34m(\u001b[0m\u001b[0mbatch_time\u001b[0m\u001b[0;34m)\u001b[0m\u001b[0;34m\u001b[0m\u001b[0;34m\u001b[0m\u001b[0m\n\u001b[1;32m    315\u001b[0m \u001b[0;34m\u001b[0m\u001b[0m\n\u001b[0;32m--> 316\u001b[0;31m     \u001b[0mself\u001b[0m\u001b[0;34m.\u001b[0m\u001b[0m_call_batch_hook_helper\u001b[0m\u001b[0;34m(\u001b[0m\u001b[0mhook_name\u001b[0m\u001b[0;34m,\u001b[0m \u001b[0mbatch\u001b[0m\u001b[0;34m,\u001b[0m \u001b[0mlogs\u001b[0m\u001b[0;34m)\u001b[0m\u001b[0;34m\u001b[0m\u001b[0;34m\u001b[0m\u001b[0m\n\u001b[0m\u001b[1;32m    317\u001b[0m \u001b[0;34m\u001b[0m\u001b[0m\n\u001b[1;32m    318\u001b[0m     \u001b[0;32mif\u001b[0m \u001b[0mlen\u001b[0m\u001b[0;34m(\u001b[0m\u001b[0mself\u001b[0m\u001b[0;34m.\u001b[0m\u001b[0m_batch_times\u001b[0m\u001b[0;34m)\u001b[0m \u001b[0;34m>=\u001b[0m \u001b[0mself\u001b[0m\u001b[0;34m.\u001b[0m\u001b[0m_num_batches_for_timing_check\u001b[0m\u001b[0;34m:\u001b[0m\u001b[0;34m\u001b[0m\u001b[0;34m\u001b[0m\u001b[0m\n",
            "\u001b[0;32m/usr/local/lib/python3.7/dist-packages/keras/callbacks.py\u001b[0m in \u001b[0;36m_call_batch_hook_helper\u001b[0;34m(self, hook_name, batch, logs)\u001b[0m\n\u001b[1;32m    352\u001b[0m     \u001b[0;32mfor\u001b[0m \u001b[0mcallback\u001b[0m \u001b[0;32min\u001b[0m \u001b[0mself\u001b[0m\u001b[0;34m.\u001b[0m\u001b[0mcallbacks\u001b[0m\u001b[0;34m:\u001b[0m\u001b[0;34m\u001b[0m\u001b[0;34m\u001b[0m\u001b[0m\n\u001b[1;32m    353\u001b[0m       \u001b[0mhook\u001b[0m \u001b[0;34m=\u001b[0m \u001b[0mgetattr\u001b[0m\u001b[0;34m(\u001b[0m\u001b[0mcallback\u001b[0m\u001b[0;34m,\u001b[0m \u001b[0mhook_name\u001b[0m\u001b[0;34m)\u001b[0m\u001b[0;34m\u001b[0m\u001b[0;34m\u001b[0m\u001b[0m\n\u001b[0;32m--> 354\u001b[0;31m       \u001b[0mhook\u001b[0m\u001b[0;34m(\u001b[0m\u001b[0mbatch\u001b[0m\u001b[0;34m,\u001b[0m \u001b[0mlogs\u001b[0m\u001b[0;34m)\u001b[0m\u001b[0;34m\u001b[0m\u001b[0;34m\u001b[0m\u001b[0m\n\u001b[0m\u001b[1;32m    355\u001b[0m \u001b[0;34m\u001b[0m\u001b[0m\n\u001b[1;32m    356\u001b[0m     \u001b[0;32mif\u001b[0m \u001b[0mself\u001b[0m\u001b[0;34m.\u001b[0m\u001b[0m_check_timing\u001b[0m\u001b[0;34m:\u001b[0m\u001b[0;34m\u001b[0m\u001b[0;34m\u001b[0m\u001b[0m\n",
            "\u001b[0;32m/usr/local/lib/python3.7/dist-packages/keras/callbacks.py\u001b[0m in \u001b[0;36mon_train_batch_end\u001b[0;34m(self, batch, logs)\u001b[0m\n\u001b[1;32m   1030\u001b[0m \u001b[0;34m\u001b[0m\u001b[0m\n\u001b[1;32m   1031\u001b[0m   \u001b[0;32mdef\u001b[0m \u001b[0mon_train_batch_end\u001b[0m\u001b[0;34m(\u001b[0m\u001b[0mself\u001b[0m\u001b[0;34m,\u001b[0m \u001b[0mbatch\u001b[0m\u001b[0;34m,\u001b[0m \u001b[0mlogs\u001b[0m\u001b[0;34m=\u001b[0m\u001b[0;32mNone\u001b[0m\u001b[0;34m)\u001b[0m\u001b[0;34m:\u001b[0m\u001b[0;34m\u001b[0m\u001b[0;34m\u001b[0m\u001b[0m\n\u001b[0;32m-> 1032\u001b[0;31m     \u001b[0mself\u001b[0m\u001b[0;34m.\u001b[0m\u001b[0m_batch_update_progbar\u001b[0m\u001b[0;34m(\u001b[0m\u001b[0mbatch\u001b[0m\u001b[0;34m,\u001b[0m \u001b[0mlogs\u001b[0m\u001b[0;34m)\u001b[0m\u001b[0;34m\u001b[0m\u001b[0;34m\u001b[0m\u001b[0m\n\u001b[0m\u001b[1;32m   1033\u001b[0m \u001b[0;34m\u001b[0m\u001b[0m\n\u001b[1;32m   1034\u001b[0m   \u001b[0;32mdef\u001b[0m \u001b[0mon_test_batch_end\u001b[0m\u001b[0;34m(\u001b[0m\u001b[0mself\u001b[0m\u001b[0;34m,\u001b[0m \u001b[0mbatch\u001b[0m\u001b[0;34m,\u001b[0m \u001b[0mlogs\u001b[0m\u001b[0;34m=\u001b[0m\u001b[0;32mNone\u001b[0m\u001b[0;34m)\u001b[0m\u001b[0;34m:\u001b[0m\u001b[0;34m\u001b[0m\u001b[0;34m\u001b[0m\u001b[0m\n",
            "\u001b[0;32m/usr/local/lib/python3.7/dist-packages/keras/callbacks.py\u001b[0m in \u001b[0;36m_batch_update_progbar\u001b[0;34m(self, batch, logs)\u001b[0m\n\u001b[1;32m   1103\u001b[0m       \u001b[0;31m# Only block async when verbose = 1.\u001b[0m\u001b[0;34m\u001b[0m\u001b[0;34m\u001b[0m\u001b[0;34m\u001b[0m\u001b[0m\n\u001b[1;32m   1104\u001b[0m       \u001b[0mlogs\u001b[0m \u001b[0;34m=\u001b[0m \u001b[0mtf_utils\u001b[0m\u001b[0;34m.\u001b[0m\u001b[0msync_to_numpy_or_python_type\u001b[0m\u001b[0;34m(\u001b[0m\u001b[0mlogs\u001b[0m\u001b[0;34m)\u001b[0m\u001b[0;34m\u001b[0m\u001b[0;34m\u001b[0m\u001b[0m\n\u001b[0;32m-> 1105\u001b[0;31m       \u001b[0mself\u001b[0m\u001b[0;34m.\u001b[0m\u001b[0mprogbar\u001b[0m\u001b[0;34m.\u001b[0m\u001b[0mupdate\u001b[0m\u001b[0;34m(\u001b[0m\u001b[0mself\u001b[0m\u001b[0;34m.\u001b[0m\u001b[0mseen\u001b[0m\u001b[0;34m,\u001b[0m \u001b[0mlist\u001b[0m\u001b[0;34m(\u001b[0m\u001b[0mlogs\u001b[0m\u001b[0;34m.\u001b[0m\u001b[0mitems\u001b[0m\u001b[0;34m(\u001b[0m\u001b[0;34m)\u001b[0m\u001b[0;34m)\u001b[0m\u001b[0;34m,\u001b[0m \u001b[0mfinalize\u001b[0m\u001b[0;34m=\u001b[0m\u001b[0;32mFalse\u001b[0m\u001b[0;34m)\u001b[0m\u001b[0;34m\u001b[0m\u001b[0;34m\u001b[0m\u001b[0m\n\u001b[0m\u001b[1;32m   1106\u001b[0m \u001b[0;34m\u001b[0m\u001b[0m\n\u001b[1;32m   1107\u001b[0m   \u001b[0;32mdef\u001b[0m \u001b[0m_finalize_progbar\u001b[0m\u001b[0;34m(\u001b[0m\u001b[0mself\u001b[0m\u001b[0;34m,\u001b[0m \u001b[0mlogs\u001b[0m\u001b[0;34m,\u001b[0m \u001b[0mcounter\u001b[0m\u001b[0;34m)\u001b[0m\u001b[0;34m:\u001b[0m\u001b[0;34m\u001b[0m\u001b[0;34m\u001b[0m\u001b[0m\n",
            "\u001b[0;32m/usr/local/lib/python3.7/dist-packages/keras/utils/generic_utils.py\u001b[0m in \u001b[0;36mupdate\u001b[0;34m(self, current, values, finalize)\u001b[0m\n\u001b[1;32m    972\u001b[0m \u001b[0;34m\u001b[0m\u001b[0m\n\u001b[1;32m    973\u001b[0m       \u001b[0msys\u001b[0m\u001b[0;34m.\u001b[0m\u001b[0mstdout\u001b[0m\u001b[0;34m.\u001b[0m\u001b[0mwrite\u001b[0m\u001b[0;34m(\u001b[0m\u001b[0minfo\u001b[0m\u001b[0;34m)\u001b[0m\u001b[0;34m\u001b[0m\u001b[0;34m\u001b[0m\u001b[0m\n\u001b[0;32m--> 974\u001b[0;31m       \u001b[0msys\u001b[0m\u001b[0;34m.\u001b[0m\u001b[0mstdout\u001b[0m\u001b[0;34m.\u001b[0m\u001b[0mflush\u001b[0m\u001b[0;34m(\u001b[0m\u001b[0;34m)\u001b[0m\u001b[0;34m\u001b[0m\u001b[0;34m\u001b[0m\u001b[0m\n\u001b[0m\u001b[1;32m    975\u001b[0m \u001b[0;34m\u001b[0m\u001b[0m\n\u001b[1;32m    976\u001b[0m     \u001b[0;32melif\u001b[0m \u001b[0mself\u001b[0m\u001b[0;34m.\u001b[0m\u001b[0mverbose\u001b[0m \u001b[0;34m==\u001b[0m \u001b[0;36m2\u001b[0m\u001b[0;34m:\u001b[0m\u001b[0;34m\u001b[0m\u001b[0;34m\u001b[0m\u001b[0m\n",
            "\u001b[0;32m/usr/local/lib/python3.7/dist-packages/ipykernel/iostream.py\u001b[0m in \u001b[0;36mflush\u001b[0;34m(self)\u001b[0m\n\u001b[1;32m    347\u001b[0m                 \u001b[0mself\u001b[0m\u001b[0;34m.\u001b[0m\u001b[0mpub_thread\u001b[0m\u001b[0;34m.\u001b[0m\u001b[0mschedule\u001b[0m\u001b[0;34m(\u001b[0m\u001b[0mevt\u001b[0m\u001b[0;34m.\u001b[0m\u001b[0mset\u001b[0m\u001b[0;34m)\u001b[0m\u001b[0;34m\u001b[0m\u001b[0;34m\u001b[0m\u001b[0m\n\u001b[1;32m    348\u001b[0m                 \u001b[0;31m# and give a timeout to avoid\u001b[0m\u001b[0;34m\u001b[0m\u001b[0;34m\u001b[0m\u001b[0;34m\u001b[0m\u001b[0m\n\u001b[0;32m--> 349\u001b[0;31m                 \u001b[0;32mif\u001b[0m \u001b[0;32mnot\u001b[0m \u001b[0mevt\u001b[0m\u001b[0;34m.\u001b[0m\u001b[0mwait\u001b[0m\u001b[0;34m(\u001b[0m\u001b[0mself\u001b[0m\u001b[0;34m.\u001b[0m\u001b[0mflush_timeout\u001b[0m\u001b[0;34m)\u001b[0m\u001b[0;34m:\u001b[0m\u001b[0;34m\u001b[0m\u001b[0;34m\u001b[0m\u001b[0m\n\u001b[0m\u001b[1;32m    350\u001b[0m                     \u001b[0;31m# write directly to __stderr__ instead of warning because\u001b[0m\u001b[0;34m\u001b[0m\u001b[0;34m\u001b[0m\u001b[0;34m\u001b[0m\u001b[0m\n\u001b[1;32m    351\u001b[0m                     \u001b[0;31m# if this is happening sys.stderr may be the problem.\u001b[0m\u001b[0;34m\u001b[0m\u001b[0;34m\u001b[0m\u001b[0;34m\u001b[0m\u001b[0m\n",
            "\u001b[0;32m/usr/lib/python3.7/threading.py\u001b[0m in \u001b[0;36mwait\u001b[0;34m(self, timeout)\u001b[0m\n\u001b[1;32m    550\u001b[0m             \u001b[0msignaled\u001b[0m \u001b[0;34m=\u001b[0m \u001b[0mself\u001b[0m\u001b[0;34m.\u001b[0m\u001b[0m_flag\u001b[0m\u001b[0;34m\u001b[0m\u001b[0;34m\u001b[0m\u001b[0m\n\u001b[1;32m    551\u001b[0m             \u001b[0;32mif\u001b[0m \u001b[0;32mnot\u001b[0m \u001b[0msignaled\u001b[0m\u001b[0;34m:\u001b[0m\u001b[0;34m\u001b[0m\u001b[0;34m\u001b[0m\u001b[0m\n\u001b[0;32m--> 552\u001b[0;31m                 \u001b[0msignaled\u001b[0m \u001b[0;34m=\u001b[0m \u001b[0mself\u001b[0m\u001b[0;34m.\u001b[0m\u001b[0m_cond\u001b[0m\u001b[0;34m.\u001b[0m\u001b[0mwait\u001b[0m\u001b[0;34m(\u001b[0m\u001b[0mtimeout\u001b[0m\u001b[0;34m)\u001b[0m\u001b[0;34m\u001b[0m\u001b[0;34m\u001b[0m\u001b[0m\n\u001b[0m\u001b[1;32m    553\u001b[0m             \u001b[0;32mreturn\u001b[0m \u001b[0msignaled\u001b[0m\u001b[0;34m\u001b[0m\u001b[0;34m\u001b[0m\u001b[0m\n\u001b[1;32m    554\u001b[0m \u001b[0;34m\u001b[0m\u001b[0m\n",
            "\u001b[0;32m/usr/lib/python3.7/threading.py\u001b[0m in \u001b[0;36mwait\u001b[0;34m(self, timeout)\u001b[0m\n\u001b[1;32m    298\u001b[0m             \u001b[0;32melse\u001b[0m\u001b[0;34m:\u001b[0m\u001b[0;34m\u001b[0m\u001b[0;34m\u001b[0m\u001b[0m\n\u001b[1;32m    299\u001b[0m                 \u001b[0;32mif\u001b[0m \u001b[0mtimeout\u001b[0m \u001b[0;34m>\u001b[0m \u001b[0;36m0\u001b[0m\u001b[0;34m:\u001b[0m\u001b[0;34m\u001b[0m\u001b[0;34m\u001b[0m\u001b[0m\n\u001b[0;32m--> 300\u001b[0;31m                     \u001b[0mgotit\u001b[0m \u001b[0;34m=\u001b[0m \u001b[0mwaiter\u001b[0m\u001b[0;34m.\u001b[0m\u001b[0macquire\u001b[0m\u001b[0;34m(\u001b[0m\u001b[0;32mTrue\u001b[0m\u001b[0;34m,\u001b[0m \u001b[0mtimeout\u001b[0m\u001b[0;34m)\u001b[0m\u001b[0;34m\u001b[0m\u001b[0;34m\u001b[0m\u001b[0m\n\u001b[0m\u001b[1;32m    301\u001b[0m                 \u001b[0;32melse\u001b[0m\u001b[0;34m:\u001b[0m\u001b[0;34m\u001b[0m\u001b[0;34m\u001b[0m\u001b[0m\n\u001b[1;32m    302\u001b[0m                     \u001b[0mgotit\u001b[0m \u001b[0;34m=\u001b[0m \u001b[0mwaiter\u001b[0m\u001b[0;34m.\u001b[0m\u001b[0macquire\u001b[0m\u001b[0;34m(\u001b[0m\u001b[0;32mFalse\u001b[0m\u001b[0;34m)\u001b[0m\u001b[0;34m\u001b[0m\u001b[0;34m\u001b[0m\u001b[0m\n",
            "\u001b[0;31mKeyboardInterrupt\u001b[0m: "
          ]
        }
      ],
      "source": [
        "history = model.fit(train_data.batch(128), \n",
        "    validation_data=validation_data.batch(128),\n",
        "    shuffle= True,\n",
        "    epochs = 15,\n",
        "    callbacks = tf.keras.callbacks.EarlyStopping(monitor='val_accuracy', mode='max', patience=5, restore_best_weights=True),\n",
        "    class_weight = class_weights\n",
        ").history"
      ]
    },
    {
      "cell_type": "markdown",
      "source": [
        "# Explainability through CAM (Class Activation Map) and LIME"
      ],
      "metadata": {
        "id": "yOX4DgGZ-XQE"
      }
    },
    {
      "cell_type": "markdown",
      "source": [
        "In this section we want to make results of our deep model more interpretable using Class Activation Map, which give us an indication about which part of the input influence more its final classification. We try to use Grad-CAM, an extension of simple CAM that can be used with all kinds of CNN models"
      ],
      "metadata": {
        "id": "fJzTCo7mcZpt"
      }
    },
    {
      "cell_type": "markdown",
      "source": [
        "Use our previous vgg model to create CAM"
      ],
      "metadata": {
        "id": "3Rllvpyic-S-"
      }
    },
    {
      "cell_type": "code",
      "source": [
        "# Load our pre-trained model\n",
        "#model = tf.keras.models.load_model('/content/drive/MyDrive/AppliedAIinBiomedicine/final-assignment/vgg model')\n",
        "#model = tf.keras.models.load_model('/content/drive/MyDrive/AppliedAIinBiomedicine/final-assignment/resnet model')\n",
        "model = tf.keras.models.load_model('/content/drive/MyDrive/AppliedAIinBiomedicine/final-assignment/vgg model 2 leads normalized')\n",
        "model.summary()"
      ],
      "metadata": {
        "id": "AGs1Wq9A_oOc",
        "colab": {
          "base_uri": "https://localhost:8080/"
        },
        "outputId": "79dc5d2c-1066-40c0-cf22-be19ae59319a"
      },
      "execution_count": null,
      "outputs": [
        {
          "output_type": "stream",
          "name": "stdout",
          "text": [
            "Model: \"sequential_2\"\n",
            "_________________________________________________________________\n",
            " Layer (type)                Output Shape              Param #   \n",
            "=================================================================\n",
            " conv1d_26 (Conv1D)          (None, 223, 64)           448       \n",
            "                                                                 \n",
            " conv1d_27 (Conv1D)          (None, 223, 64)           12352     \n",
            "                                                                 \n",
            " max_pooling1d_10 (MaxPoolin  (None, 111, 64)          0         \n",
            " g1D)                                                            \n",
            "                                                                 \n",
            " conv1d_28 (Conv1D)          (None, 111, 128)          24704     \n",
            "                                                                 \n",
            " conv1d_29 (Conv1D)          (None, 111, 128)          49280     \n",
            "                                                                 \n",
            " max_pooling1d_11 (MaxPoolin  (None, 55, 128)          0         \n",
            " g1D)                                                            \n",
            "                                                                 \n",
            " conv1d_30 (Conv1D)          (None, 55, 256)           98560     \n",
            "                                                                 \n",
            " conv1d_31 (Conv1D)          (None, 55, 256)           196864    \n",
            "                                                                 \n",
            " conv1d_32 (Conv1D)          (None, 55, 256)           196864    \n",
            "                                                                 \n",
            " max_pooling1d_12 (MaxPoolin  (None, 27, 256)          0         \n",
            " g1D)                                                            \n",
            "                                                                 \n",
            " conv1d_33 (Conv1D)          (None, 27, 512)           393728    \n",
            "                                                                 \n",
            " conv1d_34 (Conv1D)          (None, 27, 512)           786944    \n",
            "                                                                 \n",
            " conv1d_35 (Conv1D)          (None, 27, 512)           786944    \n",
            "                                                                 \n",
            " max_pooling1d_13 (MaxPoolin  (None, 13, 512)          0         \n",
            " g1D)                                                            \n",
            "                                                                 \n",
            " conv1d_36 (Conv1D)          (None, 13, 512)           786944    \n",
            "                                                                 \n",
            " conv1d_37 (Conv1D)          (None, 13, 512)           786944    \n",
            "                                                                 \n",
            " conv1d_38 (Conv1D)          (None, 13, 512)           786944    \n",
            "                                                                 \n",
            " max_pooling1d_14 (MaxPoolin  (None, 6, 512)           0         \n",
            " g1D)                                                            \n",
            "                                                                 \n",
            " global_max_pooling1d_2 (Glo  (None, 512)              0         \n",
            " balMaxPooling1D)                                                \n",
            "                                                                 \n",
            " dense_4 (Dense)             (None, 512)               262656    \n",
            "                                                                 \n",
            " dropout_2 (Dropout)         (None, 512)               0         \n",
            "                                                                 \n",
            " dense_5 (Dense)             (None, 3)                 1539      \n",
            "                                                                 \n",
            "=================================================================\n",
            "Total params: 5,171,715\n",
            "Trainable params: 5,171,715\n",
            "Non-trainable params: 0\n",
            "_________________________________________________________________\n"
          ]
        }
      ]
    },
    {
      "cell_type": "code",
      "source": [
        "# utility function that will create the CAM of a single input\n",
        "def grad_cam(layer, input):\n",
        "  \n",
        "  # we extract the output of the last convolutional layer, given an input to the CNN\n",
        "  grad_model = tf.keras.models.Model([model.inputs], [model.get_layer(layer).output, model.output])\n",
        "  last_conv_output, predictions = grad_model(input)\n",
        "\n",
        "  with tf.GradientTape() as g:\n",
        "    last_conv_output, predictions = grad_model(input)\n",
        "    pred_index = tf.argmax(predictions[0])\n",
        "    class_channel = predictions[:, pred_index]\n",
        "  \n",
        "  # compute the gradient of the top predicted class wrt the activations of chosen convolutional layer\n",
        "  grads = g.gradient(class_channel, last_conv_output)\n",
        "\n",
        "  pooled_grads = tf.reduce_mean(grads, axis=(0))\n",
        "\n",
        "  last_conv_output = last_conv_output[0]\n",
        "\n",
        "  # We finally create the CAM heatmap multiplying the last conv layer output and the gradients computed\n",
        "  heatmap = last_conv_output * pooled_grads\n",
        "  heatmap = tf.reduce_mean(heatmap, axis=(1))\n",
        "  heatmap = np.expand_dims(heatmap, 0)\n",
        "  return heatmap"
      ],
      "metadata": {
        "id": "pkNd4nxndFeP"
      },
      "execution_count": null,
      "outputs": []
    },
    {
      "cell_type": "code",
      "source": [
        "# try to plot a CAM\n",
        "\n",
        "# take into consideration the last convolutional layer of the model\n",
        "layer_considered = \"conv1d_38\"\n",
        "labels = ['N', 'S', 'V']\n",
        "\n",
        "# beat of validation set to plot\n",
        "input_index = 4\n",
        "input = np.expand_dims(X_val[input_index], 0)\n",
        "\n",
        "pred_probs = []\n",
        "for i in range(3):\n",
        "  pred_ci = model.predict(input)[0][i]\n",
        "  pred_probs.append(pred_ci)\n",
        "\n",
        "# obtain the predicted label of our input\n",
        "label_index = pred_probs.index(max(pred_probs))\n",
        "true_label_index = ohe.inverse_transform(y_val[input_index ].reshape(1, -1))[0]\n",
        "\n",
        "#compute heatmap for our input\n",
        "heatmap = grad_cam(layer_considered, input)\n",
        "\n",
        "# plotting heatmap over the beat sample\n",
        "print(f\"Model prediction = {labels[label_index]} with probability = {max(pred_probs)}, True label = {labels[int(true_label_index)]}\")\n",
        "\n",
        "plt.figure(figsize=(20, 5))\n",
        "plt.imshow(heatmap, cmap='Reds', aspect=\"auto\", interpolation='nearest', extent=[0, max_len, input.min(), input.max()], alpha=0.5)\n",
        "plt.plot(input.reshape(max_len, 2), 'k')\n",
        "plt.colorbar()\n",
        "plt.show()"
      ],
      "metadata": {
        "colab": {
          "base_uri": "https://localhost:8080/",
          "height": 1000
        },
        "id": "s1IhrIfBg9YG",
        "outputId": "7dd21491-d190-42cb-e185-3f148dc79681"
      },
      "execution_count": null,
      "outputs": [
        {
          "output_type": "error",
          "ename": "InvalidArgumentError",
          "evalue": "ignored",
          "traceback": [
            "\u001b[0;31m---------------------------------------------------------------------------\u001b[0m",
            "\u001b[0;31mInvalidArgumentError\u001b[0m                      Traceback (most recent call last)",
            "\u001b[0;32m<ipython-input-167-fe415befcc93>\u001b[0m in \u001b[0;36m<module>\u001b[0;34m()\u001b[0m\n\u001b[1;32m     11\u001b[0m \u001b[0mpred_probs\u001b[0m \u001b[0;34m=\u001b[0m \u001b[0;34m[\u001b[0m\u001b[0;34m]\u001b[0m\u001b[0;34m\u001b[0m\u001b[0;34m\u001b[0m\u001b[0m\n\u001b[1;32m     12\u001b[0m \u001b[0;32mfor\u001b[0m \u001b[0mi\u001b[0m \u001b[0;32min\u001b[0m \u001b[0mrange\u001b[0m\u001b[0;34m(\u001b[0m\u001b[0;36m3\u001b[0m\u001b[0;34m)\u001b[0m\u001b[0;34m:\u001b[0m\u001b[0;34m\u001b[0m\u001b[0;34m\u001b[0m\u001b[0m\n\u001b[0;32m---> 13\u001b[0;31m   \u001b[0mpred_ci\u001b[0m \u001b[0;34m=\u001b[0m \u001b[0mmodel\u001b[0m\u001b[0;34m.\u001b[0m\u001b[0mpredict\u001b[0m\u001b[0;34m(\u001b[0m\u001b[0minput\u001b[0m\u001b[0;34m)\u001b[0m\u001b[0;34m[\u001b[0m\u001b[0;36m0\u001b[0m\u001b[0;34m]\u001b[0m\u001b[0;34m[\u001b[0m\u001b[0mi\u001b[0m\u001b[0;34m]\u001b[0m\u001b[0;34m\u001b[0m\u001b[0;34m\u001b[0m\u001b[0m\n\u001b[0m\u001b[1;32m     14\u001b[0m   \u001b[0mpred_probs\u001b[0m\u001b[0;34m.\u001b[0m\u001b[0mappend\u001b[0m\u001b[0;34m(\u001b[0m\u001b[0mpred_ci\u001b[0m\u001b[0;34m)\u001b[0m\u001b[0;34m\u001b[0m\u001b[0;34m\u001b[0m\u001b[0m\n\u001b[1;32m     15\u001b[0m \u001b[0;34m\u001b[0m\u001b[0m\n",
            "\u001b[0;32m/usr/local/lib/python3.7/dist-packages/keras/utils/traceback_utils.py\u001b[0m in \u001b[0;36merror_handler\u001b[0;34m(*args, **kwargs)\u001b[0m\n\u001b[1;32m     65\u001b[0m     \u001b[0;32mexcept\u001b[0m \u001b[0mException\u001b[0m \u001b[0;32mas\u001b[0m \u001b[0me\u001b[0m\u001b[0;34m:\u001b[0m  \u001b[0;31m# pylint: disable=broad-except\u001b[0m\u001b[0;34m\u001b[0m\u001b[0;34m\u001b[0m\u001b[0m\n\u001b[1;32m     66\u001b[0m       \u001b[0mfiltered_tb\u001b[0m \u001b[0;34m=\u001b[0m \u001b[0m_process_traceback_frames\u001b[0m\u001b[0;34m(\u001b[0m\u001b[0me\u001b[0m\u001b[0;34m.\u001b[0m\u001b[0m__traceback__\u001b[0m\u001b[0;34m)\u001b[0m\u001b[0;34m\u001b[0m\u001b[0;34m\u001b[0m\u001b[0m\n\u001b[0;32m---> 67\u001b[0;31m       \u001b[0;32mraise\u001b[0m \u001b[0me\u001b[0m\u001b[0;34m.\u001b[0m\u001b[0mwith_traceback\u001b[0m\u001b[0;34m(\u001b[0m\u001b[0mfiltered_tb\u001b[0m\u001b[0;34m)\u001b[0m \u001b[0;32mfrom\u001b[0m \u001b[0;32mNone\u001b[0m\u001b[0;34m\u001b[0m\u001b[0;34m\u001b[0m\u001b[0m\n\u001b[0m\u001b[1;32m     68\u001b[0m     \u001b[0;32mfinally\u001b[0m\u001b[0;34m:\u001b[0m\u001b[0;34m\u001b[0m\u001b[0;34m\u001b[0m\u001b[0m\n\u001b[1;32m     69\u001b[0m       \u001b[0;32mdel\u001b[0m \u001b[0mfiltered_tb\u001b[0m\u001b[0;34m\u001b[0m\u001b[0;34m\u001b[0m\u001b[0m\n",
            "\u001b[0;32m/usr/local/lib/python3.7/dist-packages/tensorflow/python/eager/execute.py\u001b[0m in \u001b[0;36mquick_execute\u001b[0;34m(op_name, num_outputs, inputs, attrs, ctx, name)\u001b[0m\n\u001b[1;32m     57\u001b[0m     \u001b[0mctx\u001b[0m\u001b[0;34m.\u001b[0m\u001b[0mensure_initialized\u001b[0m\u001b[0;34m(\u001b[0m\u001b[0;34m)\u001b[0m\u001b[0;34m\u001b[0m\u001b[0;34m\u001b[0m\u001b[0m\n\u001b[1;32m     58\u001b[0m     tensors = pywrap_tfe.TFE_Py_Execute(ctx._handle, device_name, op_name,\n\u001b[0;32m---> 59\u001b[0;31m                                         inputs, attrs, num_outputs)\n\u001b[0m\u001b[1;32m     60\u001b[0m   \u001b[0;32mexcept\u001b[0m \u001b[0mcore\u001b[0m\u001b[0;34m.\u001b[0m\u001b[0m_NotOkStatusException\u001b[0m \u001b[0;32mas\u001b[0m \u001b[0me\u001b[0m\u001b[0;34m:\u001b[0m\u001b[0;34m\u001b[0m\u001b[0;34m\u001b[0m\u001b[0m\n\u001b[1;32m     61\u001b[0m     \u001b[0;32mif\u001b[0m \u001b[0mname\u001b[0m \u001b[0;32mis\u001b[0m \u001b[0;32mnot\u001b[0m \u001b[0;32mNone\u001b[0m\u001b[0;34m:\u001b[0m\u001b[0;34m\u001b[0m\u001b[0;34m\u001b[0m\u001b[0m\n",
            "\u001b[0;31mInvalidArgumentError\u001b[0m:  input depth must be evenly divisible by filter depth: 223 vs 2\n\t [[node sequential_2/conv1d_26/Conv1D\n (defined at /usr/local/lib/python3.7/dist-packages/keras/layers/convolutional.py:238)\n]] [Op:__inference_predict_function_1164232]\n\nErrors may have originated from an input operation.\nInput Source operations connected to node sequential_2/conv1d_26/Conv1D:\nIn[0] sequential_2/conv1d_26/Conv1D/ExpandDims:\t\nIn[1] sequential_2/conv1d_26/Conv1D/ExpandDims_1:\n\nOperation defined at: (most recent call last)\n>>>   File \"/usr/lib/python3.7/runpy.py\", line 193, in _run_module_as_main\n>>>     \"__main__\", mod_spec)\n>>> \n>>>   File \"/usr/lib/python3.7/runpy.py\", line 85, in _run_code\n>>>     exec(code, run_globals)\n>>> \n>>>   File \"/usr/local/lib/python3.7/dist-packages/ipykernel_launcher.py\", line 16, in <module>\n>>>     app.launch_new_instance()\n>>> \n>>>   File \"/usr/local/lib/python3.7/dist-packages/traitlets/config/application.py\", line 846, in launch_instance\n>>>     app.start()\n>>> \n>>>   File \"/usr/local/lib/python3.7/dist-packages/ipykernel/kernelapp.py\", line 499, in start\n>>>     self.io_loop.start()\n>>> \n>>>   File \"/usr/local/lib/python3.7/dist-packages/tornado/platform/asyncio.py\", line 132, in start\n>>>     self.asyncio_loop.run_forever()\n>>> \n>>>   File \"/usr/lib/python3.7/asyncio/base_events.py\", line 541, in run_forever\n>>>     self._run_once()\n>>> \n>>>   File \"/usr/lib/python3.7/asyncio/base_events.py\", line 1786, in _run_once\n>>>     handle._run()\n>>> \n>>>   File \"/usr/lib/python3.7/asyncio/events.py\", line 88, in _run\n>>>     self._context.run(self._callback, *self._args)\n>>> \n>>>   File \"/usr/local/lib/python3.7/dist-packages/tornado/platform/asyncio.py\", line 122, in _handle_events\n>>>     handler_func(fileobj, events)\n>>> \n>>>   File \"/usr/local/lib/python3.7/dist-packages/tornado/stack_context.py\", line 300, in null_wrapper\n>>>     return fn(*args, **kwargs)\n>>> \n>>>   File \"/usr/local/lib/python3.7/dist-packages/zmq/eventloop/zmqstream.py\", line 452, in _handle_events\n>>>     self._handle_recv()\n>>> \n>>>   File \"/usr/local/lib/python3.7/dist-packages/zmq/eventloop/zmqstream.py\", line 481, in _handle_recv\n>>>     self._run_callback(callback, msg)\n>>> \n>>>   File \"/usr/local/lib/python3.7/dist-packages/zmq/eventloop/zmqstream.py\", line 431, in _run_callback\n>>>     callback(*args, **kwargs)\n>>> \n>>>   File \"/usr/local/lib/python3.7/dist-packages/tornado/stack_context.py\", line 300, in null_wrapper\n>>>     return fn(*args, **kwargs)\n>>> \n>>>   File \"/usr/local/lib/python3.7/dist-packages/ipykernel/kernelbase.py\", line 283, in dispatcher\n>>>     return self.dispatch_shell(stream, msg)\n>>> \n>>>   File \"/usr/local/lib/python3.7/dist-packages/ipykernel/kernelbase.py\", line 233, in dispatch_shell\n>>>     handler(stream, idents, msg)\n>>> \n>>>   File \"/usr/local/lib/python3.7/dist-packages/ipykernel/kernelbase.py\", line 399, in execute_request\n>>>     user_expressions, allow_stdin)\n>>> \n>>>   File \"/usr/local/lib/python3.7/dist-packages/ipykernel/ipkernel.py\", line 208, in do_execute\n>>>     res = shell.run_cell(code, store_history=store_history, silent=silent)\n>>> \n>>>   File \"/usr/local/lib/python3.7/dist-packages/ipykernel/zmqshell.py\", line 537, in run_cell\n>>>     return super(ZMQInteractiveShell, self).run_cell(*args, **kwargs)\n>>> \n>>>   File \"/usr/local/lib/python3.7/dist-packages/IPython/core/interactiveshell.py\", line 2718, in run_cell\n>>>     interactivity=interactivity, compiler=compiler, result=result)\n>>> \n>>>   File \"/usr/local/lib/python3.7/dist-packages/IPython/core/interactiveshell.py\", line 2822, in run_ast_nodes\n>>>     if self.run_code(code, result):\n>>> \n>>>   File \"/usr/local/lib/python3.7/dist-packages/IPython/core/interactiveshell.py\", line 2882, in run_code\n>>>     exec(code_obj, self.user_global_ns, self.user_ns)\n>>> \n>>>   File \"<ipython-input-167-fe415befcc93>\", line 13, in <module>\n>>>     pred_ci = model.predict(input)[0][i]\n>>> \n>>>   File \"/usr/local/lib/python3.7/dist-packages/keras/utils/traceback_utils.py\", line 64, in error_handler\n>>>     return fn(*args, **kwargs)\n>>> \n>>>   File \"/usr/local/lib/python3.7/dist-packages/keras/engine/training.py\", line 1789, in predict\n>>>     tmp_batch_outputs = self.predict_function(iterator)\n>>> \n>>>   File \"/usr/local/lib/python3.7/dist-packages/keras/engine/training.py\", line 1621, in predict_function\n>>>     return step_function(self, iterator)\n>>> \n>>>   File \"/usr/local/lib/python3.7/dist-packages/keras/engine/training.py\", line 1611, in step_function\n>>>     outputs = model.distribute_strategy.run(run_step, args=(data,))\n>>> \n>>>   File \"/usr/local/lib/python3.7/dist-packages/keras/engine/training.py\", line 1604, in run_step\n>>>     outputs = model.predict_step(data)\n>>> \n>>>   File \"/usr/local/lib/python3.7/dist-packages/keras/engine/training.py\", line 1572, in predict_step\n>>>     return self(x, training=False)\n>>> \n>>>   File \"/usr/local/lib/python3.7/dist-packages/keras/utils/traceback_utils.py\", line 64, in error_handler\n>>>     return fn(*args, **kwargs)\n>>> \n>>>   File \"/usr/local/lib/python3.7/dist-packages/keras/engine/base_layer.py\", line 1083, in __call__\n>>>     outputs = call_fn(inputs, *args, **kwargs)\n>>> \n>>>   File \"/usr/local/lib/python3.7/dist-packages/keras/utils/traceback_utils.py\", line 92, in error_handler\n>>>     return fn(*args, **kwargs)\n>>> \n>>>   File \"/usr/local/lib/python3.7/dist-packages/keras/engine/sequential.py\", line 373, in call\n>>>     return super(Sequential, self).call(inputs, training=training, mask=mask)\n>>> \n>>>   File \"/usr/local/lib/python3.7/dist-packages/keras/engine/functional.py\", line 452, in call\n>>>     inputs, training=training, mask=mask)\n>>> \n>>>   File \"/usr/local/lib/python3.7/dist-packages/keras/engine/functional.py\", line 589, in _run_internal_graph\n>>>     outputs = node.layer(*args, **kwargs)\n>>> \n>>>   File \"/usr/local/lib/python3.7/dist-packages/keras/utils/traceback_utils.py\", line 64, in error_handler\n>>>     return fn(*args, **kwargs)\n>>> \n>>>   File \"/usr/local/lib/python3.7/dist-packages/keras/engine/base_layer.py\", line 1083, in __call__\n>>>     outputs = call_fn(inputs, *args, **kwargs)\n>>> \n>>>   File \"/usr/local/lib/python3.7/dist-packages/keras/utils/traceback_utils.py\", line 92, in error_handler\n>>>     return fn(*args, **kwargs)\n>>> \n>>>   File \"/usr/local/lib/python3.7/dist-packages/keras/layers/convolutional.py\", line 246, in call\n>>>     outputs = self.convolution_op(inputs, self.kernel)\n>>> \n>>>   File \"/usr/local/lib/python3.7/dist-packages/keras/layers/convolutional.py\", line 238, in convolution_op\n>>>     name=self.__class__.__name__)\n>>> "
          ]
        }
      ]
    },
    {
      "cell_type": "markdown",
      "source": [
        "We now try an other explainabilty technique called LIME (IT SEEMS IT DOES NOT WORK)"
      ],
      "metadata": {
        "id": "QL6gKcBi9CtN"
      }
    },
    {
      "cell_type": "code",
      "source": [
        "# utility class\n",
        "class model_wrapper:\n",
        "  def __init__(self, model):\n",
        "    self.model = model\n",
        "  \n",
        "  def predict(self, input_data):\n",
        "    self.pred = self.model.predict(input_data).ravel()\n",
        "    return np.array([self.pred]).reshape(input_data.shape[0], 3)"
      ],
      "metadata": {
        "id": "_lrRp9Rh9KBD"
      },
      "execution_count": null,
      "outputs": []
    },
    {
      "cell_type": "code",
      "source": [
        "wrapped_model = model_wrapper(model) "
      ],
      "metadata": {
        "id": "yEmSkFCc9qgv"
      },
      "execution_count": null,
      "outputs": []
    },
    {
      "cell_type": "code",
      "source": [
        "!pip install lime"
      ],
      "metadata": {
        "colab": {
          "base_uri": "https://localhost:8080/"
        },
        "id": "IanrnD9FAnHI",
        "outputId": "35d204dd-0fee-447c-bd4b-b708c6fb83eb"
      },
      "execution_count": null,
      "outputs": [
        {
          "output_type": "stream",
          "name": "stdout",
          "text": [
            "Collecting lime\n",
            "  Downloading lime-0.2.0.1.tar.gz (275 kB)\n",
            "\u001b[?25l\r\u001b[K     |█▏                              | 10 kB 18.6 MB/s eta 0:00:01\r\u001b[K     |██▍                             | 20 kB 20.3 MB/s eta 0:00:01\r\u001b[K     |███▋                            | 30 kB 12.2 MB/s eta 0:00:01\r\u001b[K     |████▊                           | 40 kB 10.1 MB/s eta 0:00:01\r\u001b[K     |██████                          | 51 kB 5.6 MB/s eta 0:00:01\r\u001b[K     |███████▏                        | 61 kB 5.7 MB/s eta 0:00:01\r\u001b[K     |████████▎                       | 71 kB 5.8 MB/s eta 0:00:01\r\u001b[K     |█████████▌                      | 81 kB 6.5 MB/s eta 0:00:01\r\u001b[K     |██████████▊                     | 92 kB 5.0 MB/s eta 0:00:01\r\u001b[K     |███████████▉                    | 102 kB 5.3 MB/s eta 0:00:01\r\u001b[K     |█████████████                   | 112 kB 5.3 MB/s eta 0:00:01\r\u001b[K     |██████████████▎                 | 122 kB 5.3 MB/s eta 0:00:01\r\u001b[K     |███████████████▌                | 133 kB 5.3 MB/s eta 0:00:01\r\u001b[K     |████████████████▋               | 143 kB 5.3 MB/s eta 0:00:01\r\u001b[K     |█████████████████▉              | 153 kB 5.3 MB/s eta 0:00:01\r\u001b[K     |███████████████████             | 163 kB 5.3 MB/s eta 0:00:01\r\u001b[K     |████████████████████▏           | 174 kB 5.3 MB/s eta 0:00:01\r\u001b[K     |█████████████████████▍          | 184 kB 5.3 MB/s eta 0:00:01\r\u001b[K     |██████████████████████▋         | 194 kB 5.3 MB/s eta 0:00:01\r\u001b[K     |███████████████████████▊        | 204 kB 5.3 MB/s eta 0:00:01\r\u001b[K     |█████████████████████████       | 215 kB 5.3 MB/s eta 0:00:01\r\u001b[K     |██████████████████████████▏     | 225 kB 5.3 MB/s eta 0:00:01\r\u001b[K     |███████████████████████████▍    | 235 kB 5.3 MB/s eta 0:00:01\r\u001b[K     |████████████████████████████▌   | 245 kB 5.3 MB/s eta 0:00:01\r\u001b[K     |█████████████████████████████▊  | 256 kB 5.3 MB/s eta 0:00:01\r\u001b[K     |███████████████████████████████ | 266 kB 5.3 MB/s eta 0:00:01\r\u001b[K     |████████████████████████████████| 275 kB 5.3 MB/s \n",
            "\u001b[?25hRequirement already satisfied: matplotlib in /usr/local/lib/python3.7/dist-packages (from lime) (3.2.2)\n",
            "Requirement already satisfied: numpy in /usr/local/lib/python3.7/dist-packages (from lime) (1.19.5)\n",
            "Requirement already satisfied: scipy in /usr/local/lib/python3.7/dist-packages (from lime) (1.4.1)\n",
            "Requirement already satisfied: tqdm in /usr/local/lib/python3.7/dist-packages (from lime) (4.62.3)\n",
            "Requirement already satisfied: scikit-learn>=0.18 in /usr/local/lib/python3.7/dist-packages (from lime) (1.0.1)\n",
            "Requirement already satisfied: scikit-image>=0.12 in /usr/local/lib/python3.7/dist-packages (from lime) (0.18.3)\n",
            "Requirement already satisfied: PyWavelets>=1.1.1 in /usr/local/lib/python3.7/dist-packages (from scikit-image>=0.12->lime) (1.2.0)\n",
            "Requirement already satisfied: imageio>=2.3.0 in /usr/local/lib/python3.7/dist-packages (from scikit-image>=0.12->lime) (2.4.1)\n",
            "Requirement already satisfied: tifffile>=2019.7.26 in /usr/local/lib/python3.7/dist-packages (from scikit-image>=0.12->lime) (2021.11.2)\n",
            "Requirement already satisfied: pillow!=7.1.0,!=7.1.1,>=4.3.0 in /usr/local/lib/python3.7/dist-packages (from scikit-image>=0.12->lime) (7.1.2)\n",
            "Requirement already satisfied: networkx>=2.0 in /usr/local/lib/python3.7/dist-packages (from scikit-image>=0.12->lime) (2.6.3)\n",
            "Requirement already satisfied: pyparsing!=2.0.4,!=2.1.2,!=2.1.6,>=2.0.1 in /usr/local/lib/python3.7/dist-packages (from matplotlib->lime) (3.0.6)\n",
            "Requirement already satisfied: cycler>=0.10 in /usr/local/lib/python3.7/dist-packages (from matplotlib->lime) (0.11.0)\n",
            "Requirement already satisfied: kiwisolver>=1.0.1 in /usr/local/lib/python3.7/dist-packages (from matplotlib->lime) (1.3.2)\n",
            "Requirement already satisfied: python-dateutil>=2.1 in /usr/local/lib/python3.7/dist-packages (from matplotlib->lime) (2.8.2)\n",
            "Requirement already satisfied: six>=1.5 in /usr/local/lib/python3.7/dist-packages (from python-dateutil>=2.1->matplotlib->lime) (1.15.0)\n",
            "Requirement already satisfied: joblib>=0.11 in /usr/local/lib/python3.7/dist-packages (from scikit-learn>=0.18->lime) (1.1.0)\n",
            "Requirement already satisfied: threadpoolctl>=2.0.0 in /usr/local/lib/python3.7/dist-packages (from scikit-learn>=0.18->lime) (3.0.0)\n",
            "Building wheels for collected packages: lime\n",
            "  Building wheel for lime (setup.py) ... \u001b[?25l\u001b[?25hdone\n",
            "  Created wheel for lime: filename=lime-0.2.0.1-py3-none-any.whl size=283857 sha256=621b31e0ea5a4116e3bec28aafc122f3af6af276fa0d22971087cb627a42662d\n",
            "  Stored in directory: /root/.cache/pip/wheels/ca/cb/e5/ac701e12d365a08917bf4c6171c0961bc880a8181359c66aa7\n",
            "Successfully built lime\n",
            "Installing collected packages: lime\n",
            "Successfully installed lime-0.2.0.1\n"
          ]
        }
      ]
    },
    {
      "cell_type": "code",
      "source": [
        "# create a lime object with our data\n",
        "\n",
        "import lime\n",
        "from lime import lime_tabular\n",
        "\n",
        "# we use the Recurrent Tabular Explainer for our CNN model\n",
        "explainer = lime_tabular.RecurrentTabularExplainer(X_train, training_labels=tf.keras.utils.to_categorical(y_train), feature_names=[\"beat sample\"], discretize_continuous=False, feature_selection='auto', class_names=['N','S','V'])"
      ],
      "metadata": {
        "id": "m-tX8sfA9vmQ"
      },
      "execution_count": null,
      "outputs": []
    },
    {
      "cell_type": "code",
      "source": [
        "# try to plot lime heatmap\n",
        "\n",
        "# take into consideration the last convolutional layer of the model\n",
        "labels = ['N', 'S', 'V']\n",
        "\n",
        "# beat of validation set to plot\n",
        "input_index = 40209\n",
        "input = np.expand_dims(X_val[input_index], axis=0)\n",
        "\n",
        "pred_probs = []\n",
        "for i in range(3):\n",
        "  pred_ci = model.predict(input)[0][i]\n",
        "  pred_probs.append(pred_ci)\n",
        "\n",
        "# obtain the predicted label of our input\n",
        "label_index = pred_probs.index(max(pred_probs))\n",
        "true_label_index = ohe.inverse_transform(y_val[input_index ].reshape(1, -1))[0]\n",
        "\n",
        "#compute heatmap for our input\n",
        "exp = explainer.explain_instance(input, wrapped_model.predict, num_features=max_len, labels=[0, 1, 2])\n",
        "explanations = exp.as_list(label=label_index)\n",
        "\n",
        "# creating our heatmap of explanations\n",
        "heatmap = np.zeros([1,max_len])\n",
        "for i, k in enumerate(explanations):\n",
        "  if k[1] > 0:\n",
        "    heatmap[0, (max_len-1) - int(k[0].split(\"-\")[-1])] = k[1]\n",
        "\n",
        "# plotting heatmap over the beat sample\n",
        "print(f\"Model prediction = {labels[label_index]} with probability = {max(pred_probs)}, True label = {labels[int(true_label_index)]}\")\n",
        "plt.figure(figsize=(20, 5))\n",
        "plt.imshow(heatmap, cmap='Reds', aspect=\"auto\", interpolation='nearest', extent=[0, max_len, input.min(), input.max()], alpha=0.5)\n",
        "plt.plot(input.reshape(max_len), 'k')\n",
        "plt.colorbar()\n",
        "plt.show()"
      ],
      "metadata": {
        "colab": {
          "base_uri": "https://localhost:8080/",
          "height": 381
        },
        "id": "mmQsCAoe-7MM",
        "outputId": "a6f448e0-55dd-4688-c11e-27305bfa16a2"
      },
      "execution_count": null,
      "outputs": [
        {
          "output_type": "error",
          "ename": "IndexError",
          "evalue": "ignored",
          "traceback": [
            "\u001b[0;31m---------------------------------------------------------------------------\u001b[0m",
            "\u001b[0;31mIndexError\u001b[0m                                Traceback (most recent call last)",
            "\u001b[0;32m<ipython-input-142-e6d99d954f53>\u001b[0m in \u001b[0;36m<module>\u001b[0;34m()\u001b[0m\n\u001b[1;32m     19\u001b[0m \u001b[0;31m#compute heatmap for our input\u001b[0m\u001b[0;34m\u001b[0m\u001b[0;34m\u001b[0m\u001b[0;34m\u001b[0m\u001b[0m\n\u001b[1;32m     20\u001b[0m \u001b[0mexp\u001b[0m \u001b[0;34m=\u001b[0m \u001b[0mexplainer\u001b[0m\u001b[0;34m.\u001b[0m\u001b[0mexplain_instance\u001b[0m\u001b[0;34m(\u001b[0m\u001b[0minput\u001b[0m\u001b[0;34m,\u001b[0m \u001b[0mwrapped_model\u001b[0m\u001b[0;34m.\u001b[0m\u001b[0mpredict\u001b[0m\u001b[0;34m,\u001b[0m \u001b[0mnum_features\u001b[0m\u001b[0;34m=\u001b[0m\u001b[0mmax_len\u001b[0m\u001b[0;34m,\u001b[0m \u001b[0mlabels\u001b[0m\u001b[0;34m=\u001b[0m\u001b[0;34m[\u001b[0m\u001b[0;36m0\u001b[0m\u001b[0;34m,\u001b[0m \u001b[0;36m1\u001b[0m\u001b[0;34m,\u001b[0m \u001b[0;36m2\u001b[0m\u001b[0;34m]\u001b[0m\u001b[0;34m)\u001b[0m\u001b[0;34m\u001b[0m\u001b[0;34m\u001b[0m\u001b[0m\n\u001b[0;32m---> 21\u001b[0;31m \u001b[0mexplanations\u001b[0m \u001b[0;34m=\u001b[0m \u001b[0mexp\u001b[0m\u001b[0;34m.\u001b[0m\u001b[0mas_list\u001b[0m\u001b[0;34m(\u001b[0m\u001b[0mlabel\u001b[0m\u001b[0;34m=\u001b[0m\u001b[0mlabel_index\u001b[0m\u001b[0;34m)\u001b[0m\u001b[0;34m\u001b[0m\u001b[0;34m\u001b[0m\u001b[0m\n\u001b[0m\u001b[1;32m     22\u001b[0m \u001b[0;34m\u001b[0m\u001b[0m\n\u001b[1;32m     23\u001b[0m \u001b[0;31m# creating our heatmap of explanations\u001b[0m\u001b[0;34m\u001b[0m\u001b[0;34m\u001b[0m\u001b[0;34m\u001b[0m\u001b[0m\n",
            "\u001b[0;32m/usr/local/lib/python3.7/dist-packages/lime/explanation.py\u001b[0m in \u001b[0;36mas_list\u001b[0;34m(self, label, **kwargs)\u001b[0m\n\u001b[1;32m    139\u001b[0m         \"\"\"\n\u001b[1;32m    140\u001b[0m         \u001b[0mlabel_to_use\u001b[0m \u001b[0;34m=\u001b[0m \u001b[0mlabel\u001b[0m \u001b[0;32mif\u001b[0m \u001b[0mself\u001b[0m\u001b[0;34m.\u001b[0m\u001b[0mmode\u001b[0m \u001b[0;34m==\u001b[0m \u001b[0;34m\"classification\"\u001b[0m \u001b[0;32melse\u001b[0m \u001b[0mself\u001b[0m\u001b[0;34m.\u001b[0m\u001b[0mdummy_label\u001b[0m\u001b[0;34m\u001b[0m\u001b[0;34m\u001b[0m\u001b[0m\n\u001b[0;32m--> 141\u001b[0;31m         \u001b[0mans\u001b[0m \u001b[0;34m=\u001b[0m \u001b[0mself\u001b[0m\u001b[0;34m.\u001b[0m\u001b[0mdomain_mapper\u001b[0m\u001b[0;34m.\u001b[0m\u001b[0mmap_exp_ids\u001b[0m\u001b[0;34m(\u001b[0m\u001b[0mself\u001b[0m\u001b[0;34m.\u001b[0m\u001b[0mlocal_exp\u001b[0m\u001b[0;34m[\u001b[0m\u001b[0mlabel_to_use\u001b[0m\u001b[0;34m]\u001b[0m\u001b[0;34m,\u001b[0m \u001b[0;34m**\u001b[0m\u001b[0mkwargs\u001b[0m\u001b[0;34m)\u001b[0m\u001b[0;34m\u001b[0m\u001b[0;34m\u001b[0m\u001b[0m\n\u001b[0m\u001b[1;32m    142\u001b[0m         \u001b[0mans\u001b[0m \u001b[0;34m=\u001b[0m \u001b[0;34m[\u001b[0m\u001b[0;34m(\u001b[0m\u001b[0mx\u001b[0m\u001b[0;34m[\u001b[0m\u001b[0;36m0\u001b[0m\u001b[0;34m]\u001b[0m\u001b[0;34m,\u001b[0m \u001b[0mfloat\u001b[0m\u001b[0;34m(\u001b[0m\u001b[0mx\u001b[0m\u001b[0;34m[\u001b[0m\u001b[0;36m1\u001b[0m\u001b[0;34m]\u001b[0m\u001b[0;34m)\u001b[0m\u001b[0;34m)\u001b[0m \u001b[0;32mfor\u001b[0m \u001b[0mx\u001b[0m \u001b[0;32min\u001b[0m \u001b[0mans\u001b[0m\u001b[0;34m]\u001b[0m\u001b[0;34m\u001b[0m\u001b[0;34m\u001b[0m\u001b[0m\n\u001b[1;32m    143\u001b[0m         \u001b[0;32mreturn\u001b[0m \u001b[0mans\u001b[0m\u001b[0;34m\u001b[0m\u001b[0;34m\u001b[0m\u001b[0m\n",
            "\u001b[0;32m/usr/local/lib/python3.7/dist-packages/lime/lime_tabular.py\u001b[0m in \u001b[0;36mmap_exp_ids\u001b[0;34m(self, exp)\u001b[0m\n\u001b[1;32m     62\u001b[0m         \u001b[0;32mif\u001b[0m \u001b[0mself\u001b[0m\u001b[0;34m.\u001b[0m\u001b[0mdiscretized_feature_names\u001b[0m \u001b[0;32mis\u001b[0m \u001b[0;32mnot\u001b[0m \u001b[0;32mNone\u001b[0m\u001b[0;34m:\u001b[0m\u001b[0;34m\u001b[0m\u001b[0;34m\u001b[0m\u001b[0m\n\u001b[1;32m     63\u001b[0m             \u001b[0mnames\u001b[0m \u001b[0;34m=\u001b[0m \u001b[0mself\u001b[0m\u001b[0;34m.\u001b[0m\u001b[0mdiscretized_feature_names\u001b[0m\u001b[0;34m\u001b[0m\u001b[0;34m\u001b[0m\u001b[0m\n\u001b[0;32m---> 64\u001b[0;31m         \u001b[0;32mreturn\u001b[0m \u001b[0;34m[\u001b[0m\u001b[0;34m(\u001b[0m\u001b[0mnames\u001b[0m\u001b[0;34m[\u001b[0m\u001b[0mx\u001b[0m\u001b[0;34m[\u001b[0m\u001b[0;36m0\u001b[0m\u001b[0;34m]\u001b[0m\u001b[0;34m]\u001b[0m\u001b[0;34m,\u001b[0m \u001b[0mx\u001b[0m\u001b[0;34m[\u001b[0m\u001b[0;36m1\u001b[0m\u001b[0;34m]\u001b[0m\u001b[0;34m)\u001b[0m \u001b[0;32mfor\u001b[0m \u001b[0mx\u001b[0m \u001b[0;32min\u001b[0m \u001b[0mexp\u001b[0m\u001b[0;34m]\u001b[0m\u001b[0;34m\u001b[0m\u001b[0;34m\u001b[0m\u001b[0m\n\u001b[0m\u001b[1;32m     65\u001b[0m \u001b[0;34m\u001b[0m\u001b[0m\n\u001b[1;32m     66\u001b[0m     def visualize_instance_html(self,\n",
            "\u001b[0;32m/usr/local/lib/python3.7/dist-packages/lime/lime_tabular.py\u001b[0m in \u001b[0;36m<listcomp>\u001b[0;34m(.0)\u001b[0m\n\u001b[1;32m     62\u001b[0m         \u001b[0;32mif\u001b[0m \u001b[0mself\u001b[0m\u001b[0;34m.\u001b[0m\u001b[0mdiscretized_feature_names\u001b[0m \u001b[0;32mis\u001b[0m \u001b[0;32mnot\u001b[0m \u001b[0;32mNone\u001b[0m\u001b[0;34m:\u001b[0m\u001b[0;34m\u001b[0m\u001b[0;34m\u001b[0m\u001b[0m\n\u001b[1;32m     63\u001b[0m             \u001b[0mnames\u001b[0m \u001b[0;34m=\u001b[0m \u001b[0mself\u001b[0m\u001b[0;34m.\u001b[0m\u001b[0mdiscretized_feature_names\u001b[0m\u001b[0;34m\u001b[0m\u001b[0;34m\u001b[0m\u001b[0m\n\u001b[0;32m---> 64\u001b[0;31m         \u001b[0;32mreturn\u001b[0m \u001b[0;34m[\u001b[0m\u001b[0;34m(\u001b[0m\u001b[0mnames\u001b[0m\u001b[0;34m[\u001b[0m\u001b[0mx\u001b[0m\u001b[0;34m[\u001b[0m\u001b[0;36m0\u001b[0m\u001b[0;34m]\u001b[0m\u001b[0;34m]\u001b[0m\u001b[0;34m,\u001b[0m \u001b[0mx\u001b[0m\u001b[0;34m[\u001b[0m\u001b[0;36m1\u001b[0m\u001b[0;34m]\u001b[0m\u001b[0;34m)\u001b[0m \u001b[0;32mfor\u001b[0m \u001b[0mx\u001b[0m \u001b[0;32min\u001b[0m \u001b[0mexp\u001b[0m\u001b[0;34m]\u001b[0m\u001b[0;34m\u001b[0m\u001b[0;34m\u001b[0m\u001b[0m\n\u001b[0m\u001b[1;32m     65\u001b[0m \u001b[0;34m\u001b[0m\u001b[0m\n\u001b[1;32m     66\u001b[0m     def visualize_instance_html(self,\n",
            "\u001b[0;31mIndexError\u001b[0m: list index out of range"
          ]
        }
      ]
    },
    {
      "cell_type": "markdown",
      "source": [
        "# Discrete Wavelet Transform experiments"
      ],
      "metadata": {
        "id": "y7Ze-BlzeaYm"
      }
    },
    {
      "cell_type": "markdown",
      "source": [
        "Here we try to create for each heartbeat signal, its dwt representation (which results in a 2D tensor). It is shift invariant and brings lot of information on the signal which is a nice property for a classification task"
      ],
      "metadata": {
        "id": "Y-6cy3j0ei25"
      }
    },
    {
      "cell_type": "code",
      "source": [
        "!pip install PyWavelets"
      ],
      "metadata": {
        "colab": {
          "base_uri": "https://localhost:8080/"
        },
        "id": "hZpKacXyegT1",
        "outputId": "396f2d03-8422-4d2c-f51d-d9f46325ca6f"
      },
      "execution_count": null,
      "outputs": [
        {
          "output_type": "stream",
          "name": "stdout",
          "text": [
            "Requirement already satisfied: PyWavelets in /usr/local/lib/python3.7/dist-packages (1.2.0)\n",
            "Requirement already satisfied: numpy>=1.17.3 in /usr/local/lib/python3.7/dist-packages (from PyWavelets) (1.19.5)\n"
          ]
        }
      ]
    },
    {
      "cell_type": "code",
      "source": [
        "from sklearn.model_selection import train_test_split\n",
        "X_train, X_val, y_train, y_val = train_test_split(heartbeats, target_ohe, test_size=0.2, random_state=SEED,\n",
        "                               shuffle=True, stratify=target_ohe)"
      ],
      "metadata": {
        "id": "xn2Ta6zEp1_9"
      },
      "execution_count": null,
      "outputs": []
    },
    {
      "cell_type": "code",
      "source": [
        "# Extract the dwt representation of the heartbeats to improve the classification learning of our CNN model\n",
        "import pywt\n",
        "wavelet_name = 'db2'\n",
        "\n",
        "dwt_coeffs = []\n",
        "dwt_coeffs_val = []\n",
        "\n",
        "for i in tqdm(range(len(X_train))):\n",
        "  coeffs = pywt.wavedec(X_train[i], wavelet_name, level=8)\n",
        "  dwt_coeffs.append(coeffs)\n",
        "\n",
        "for i in tqdm(range(len(X_val))):\n",
        "  coeffs = pywt.wavedec(X_val[i], wavelet_name, level=8)\n",
        "  dwt_coeffs_val.append(coeffs)"
      ],
      "metadata": {
        "colab": {
          "base_uri": "https://localhost:8080/"
        },
        "id": "N_6j9itdelno",
        "outputId": "d62725af-08c0-48e6-8eaf-743086eabcf9"
      },
      "execution_count": null,
      "outputs": [
        {
          "output_type": "stream",
          "name": "stderr",
          "text": [
            "  0%|          | 0/170419 [00:00<?, ?it/s]/usr/local/lib/python3.7/dist-packages/pywt/_multilevel.py:45: UserWarning: Level value of 8 is too high: all coefficients will experience boundary effects.\n",
            "  \"boundary effects.\").format(level))\n",
            "100%|██████████| 170419/170419 [00:53<00:00, 3174.47it/s]\n",
            "100%|██████████| 42605/42605 [00:13<00:00, 3260.56it/s]\n"
          ]
        }
      ]
    },
    {
      "cell_type": "code",
      "source": [
        "# for each heartbeat concatenate all the level of the dwt to create a 1D input to our CNN\n",
        "X_train_dwt = []\n",
        "X_val_dwt = []\n",
        "\n",
        "for coeff_list in dwt_coeffs:\n",
        "  X_train_dwt.append(np.concatenate( coeff_list, axis=0 ))\n",
        "\n",
        "for coeff_list in dwt_coeffs_val:\n",
        "  X_val_dwt.append(np.vstack(np.concatenate( coeff_list, axis=0 )))"
      ],
      "metadata": {
        "id": "k9ZKMblzih8C"
      },
      "execution_count": null,
      "outputs": []
    },
    {
      "cell_type": "code",
      "source": [
        "#train_data_dwt = tf.data.Dataset.from_tensor_slices((X_train_dwt, y_train))\n",
        "validation_data_dwt = tf.data.Dataset.from_tensor_slices((X_val_dwt, y_val))"
      ],
      "metadata": {
        "id": "05M2wev7es3J"
      },
      "execution_count": null,
      "outputs": []
    },
    {
      "cell_type": "code",
      "source": [
        "# the input shape is changed so we update the model with the new input shape\n",
        "\n",
        "vgg = tf.keras.Sequential()\n",
        "\n",
        "vgg.add(tf.keras.layers.Conv1D(input_shape=[242, 1],filters=64,kernel_size=3,padding=\"same\", activation=\"relu\"))\n",
        "vgg.add(tf.keras.layers.Conv1D(filters=64,kernel_size=3,padding=\"same\", activation=\"relu\"))\n",
        "vgg.add(tf.keras.layers.MaxPooling1D(pool_size=2,strides=2))\n",
        "vgg.add(tf.keras.layers.Conv1D(filters=128, kernel_size=3, padding=\"same\", activation=\"relu\"))\n",
        "vgg.add(tf.keras.layers.Conv1D(filters=128, kernel_size=3, padding=\"same\", activation=\"relu\"))\n",
        "vgg.add(tf.keras.layers.MaxPooling1D(pool_size=2,strides=2))\n",
        "vgg.add(tf.keras.layers.Conv1D(filters=256, kernel_size=3, padding=\"same\", activation=\"relu\"))\n",
        "vgg.add(tf.keras.layers.Conv1D(filters=256, kernel_size=3, padding=\"same\", activation=\"relu\"))\n",
        "vgg.add(tf.keras.layers.Conv1D(filters=256, kernel_size=3, padding=\"same\", activation=\"relu\"))\n",
        "vgg.add(tf.keras.layers.MaxPooling1D(pool_size=2,strides=2))\n",
        "vgg.add(tf.keras.layers.Conv1D(filters=512, kernel_size=3, padding=\"same\", activation=\"relu\"))\n",
        "vgg.add(tf.keras.layers.Conv1D(filters=512, kernel_size=3, padding=\"same\", activation=\"relu\"))\n",
        "vgg.add(tf.keras.layers.Conv1D(filters=512, kernel_size=3, padding=\"same\", activation=\"relu\"))\n",
        "vgg.add(tf.keras.layers.MaxPooling1D(pool_size=2,strides=2))\n",
        "vgg.add(tf.keras.layers.Conv1D(filters=512, kernel_size=3, padding=\"same\", activation=\"relu\"))\n",
        "vgg.add(tf.keras.layers.Conv1D(filters=512, kernel_size=3, padding=\"same\", activation=\"relu\"))\n",
        "vgg.add(tf.keras.layers.Conv1D(filters=512, kernel_size=3, padding=\"same\", activation=\"relu\"))\n",
        "vgg.add(tf.keras.layers.MaxPooling1D(pool_size=2,strides=2))\n",
        "vgg.add(tf.keras.layers.GlobalMaxPooling1D())\n",
        "vgg.add(tf.keras.layers.Dense(512, activation='relu'))\n",
        "vgg.add(tf.keras.layers.Dropout(0.4))\n",
        "vgg.add(tf.keras.layers.Dense(3,activation='softmax'))\n",
        "\n",
        "\n",
        "learning_rate = 0.001\n",
        "vgg.compile(\n",
        "    optimizer = tf.keras.optimizers.Adam(1e-4),\n",
        "    loss = 'categorical_crossentropy',\n",
        "    metrics = ['accuracy', tf.keras.metrics.Precision(),tf.keras.metrics.Recall()]\n",
        ")"
      ],
      "metadata": {
        "id": "RXFS39HolZBm"
      },
      "execution_count": null,
      "outputs": []
    },
    {
      "cell_type": "code",
      "source": [
        "class_weights"
      ],
      "metadata": {
        "colab": {
          "base_uri": "https://localhost:8080/"
        },
        "id": "g0e51jIQqSXs",
        "outputId": "362ded6c-7738-41ac-ab5d-00f8d25378a0"
      },
      "execution_count": null,
      "outputs": [
        {
          "output_type": "execute_result",
          "data": {
            "text/plain": [
              "{0: 0.3622506350370394, 1: 7.620919416867901, 2: 9.236802168021681}"
            ]
          },
          "metadata": {},
          "execution_count": 30
        }
      ]
    },
    {
      "cell_type": "code",
      "source": [
        "history = vgg.fit(train_data_dwt.batch(128), \n",
        "    validation_data=validation_data_dwt.batch(128),\n",
        "    shuffle= True,\n",
        "    epochs = 15,\n",
        "    callbacks = tf.keras.callbacks.EarlyStopping(monitor='val_accuracy', mode='max', patience=5, restore_best_weights=True),\n",
        "    class_weight = class_weights\n",
        ").history"
      ],
      "metadata": {
        "colab": {
          "base_uri": "https://localhost:8080/"
        },
        "id": "-8zdCciZkmev",
        "outputId": "7e0a1c75-5528-487c-bfec-f171df0e3e70"
      },
      "execution_count": null,
      "outputs": [
        {
          "output_type": "stream",
          "name": "stdout",
          "text": [
            "Epoch 1/15\n",
            "1332/1332 [==============================] - 228s 158ms/step - loss: 0.5332 - accuracy: 0.7672 - precision: 0.8211 - recall: 0.6779 - val_loss: 0.3321 - val_accuracy: 0.9052 - val_precision: 0.9268 - val_recall: 0.8775\n",
            "Epoch 2/15\n",
            "1332/1332 [==============================] - 207s 155ms/step - loss: 0.2834 - accuracy: 0.8936 - precision: 0.9008 - recall: 0.8863 - val_loss: 0.2753 - val_accuracy: 0.9047 - val_precision: 0.9227 - val_recall: 0.8875\n",
            "Epoch 3/15\n",
            "1332/1332 [==============================] - 205s 154ms/step - loss: 0.2345 - accuracy: 0.9088 - precision: 0.9139 - recall: 0.9040 - val_loss: 0.2769 - val_accuracy: 0.8983 - val_precision: 0.9089 - val_recall: 0.8886\n",
            "Epoch 4/15\n",
            "1332/1332 [==============================] - 205s 154ms/step - loss: 0.2039 - accuracy: 0.9167 - precision: 0.9208 - recall: 0.9131 - val_loss: 0.2116 - val_accuracy: 0.9161 - val_precision: 0.9238 - val_recall: 0.9091\n",
            "Epoch 5/15\n",
            "1332/1332 [==============================] - 204s 153ms/step - loss: 0.1815 - accuracy: 0.9221 - precision: 0.9255 - recall: 0.9192 - val_loss: 0.1918 - val_accuracy: 0.9251 - val_precision: 0.9320 - val_recall: 0.9201\n",
            "Epoch 6/15\n",
            "1332/1332 [==============================] - 205s 154ms/step - loss: 0.1704 - accuracy: 0.9255 - precision: 0.9286 - recall: 0.9230 - val_loss: 0.1710 - val_accuracy: 0.9306 - val_precision: 0.9357 - val_recall: 0.9268\n",
            "Epoch 7/15\n",
            "1332/1332 [==============================] - 206s 155ms/step - loss: 0.1558 - accuracy: 0.9309 - precision: 0.9331 - recall: 0.9289 - val_loss: 0.1544 - val_accuracy: 0.9403 - val_precision: 0.9448 - val_recall: 0.9365\n",
            "Epoch 8/15\n",
            "1332/1332 [==============================] - 205s 154ms/step - loss: 0.1483 - accuracy: 0.9331 - precision: 0.9351 - recall: 0.9312 - val_loss: 0.1845 - val_accuracy: 0.9280 - val_precision: 0.9320 - val_recall: 0.9246\n",
            "Epoch 9/15\n",
            "1332/1332 [==============================] - 205s 154ms/step - loss: 0.1411 - accuracy: 0.9345 - precision: 0.9365 - recall: 0.9332 - val_loss: 0.1734 - val_accuracy: 0.9337 - val_precision: 0.9371 - val_recall: 0.9309\n",
            "Epoch 10/15\n",
            "1332/1332 [==============================] - 205s 154ms/step - loss: 0.1302 - accuracy: 0.9373 - precision: 0.9388 - recall: 0.9361 - val_loss: 0.1463 - val_accuracy: 0.9463 - val_precision: 0.9481 - val_recall: 0.9445\n",
            "Epoch 11/15\n",
            "1332/1332 [==============================] - 205s 154ms/step - loss: 0.1278 - accuracy: 0.9391 - precision: 0.9405 - recall: 0.9382 - val_loss: 0.1554 - val_accuracy: 0.9408 - val_precision: 0.9422 - val_recall: 0.9401\n",
            "Epoch 12/15\n",
            "1332/1332 [==============================] - 205s 154ms/step - loss: 0.1173 - accuracy: 0.9409 - precision: 0.9420 - recall: 0.9400 - val_loss: 0.1554 - val_accuracy: 0.9368 - val_precision: 0.9379 - val_recall: 0.9358\n",
            "Epoch 13/15\n",
            "1332/1332 [==============================] - 205s 154ms/step - loss: 0.1195 - accuracy: 0.9407 - precision: 0.9420 - recall: 0.9397 - val_loss: 0.1722 - val_accuracy: 0.9307 - val_precision: 0.9316 - val_recall: 0.9300\n",
            "Epoch 14/15\n",
            "1332/1332 [==============================] - 206s 155ms/step - loss: 0.1118 - accuracy: 0.9421 - precision: 0.9431 - recall: 0.9413 - val_loss: 0.1539 - val_accuracy: 0.9393 - val_precision: 0.9406 - val_recall: 0.9385\n",
            "Epoch 15/15\n",
            "1332/1332 [==============================] - 206s 155ms/step - loss: 0.1142 - accuracy: 0.9426 - precision: 0.9438 - recall: 0.9418 - val_loss: 0.1306 - val_accuracy: 0.9529 - val_precision: 0.9535 - val_recall: 0.9522\n"
          ]
        }
      ]
    },
    {
      "cell_type": "code",
      "source": [
        "# Plot the training\n",
        "plt.figure(figsize=(15,5))\n",
        "plt.plot(history['loss'], label='Training', alpha=.8, color='#ff7f0e')\n",
        "plt.plot(history['val_loss'], label='Validation', alpha=.8, color='#4D61E2')\n",
        "plt.legend(loc='upper left')\n",
        "plt.title('Categorical Crossentropy')\n",
        "plt.grid(alpha=.3)\n",
        "\n",
        "plt.figure(figsize=(15,5))\n",
        "plt.plot(history['accuracy'], label='Training', alpha=.8, color='#ff7f0e')\n",
        "plt.plot(history['val_accuracy'], label='Validation', alpha=.8, color='#4D61E2')\n",
        "plt.legend(loc='upper left')\n",
        "plt.title('Accuracy')\n",
        "plt.grid(alpha=.3)\n",
        "\n",
        "plt.show()"
      ],
      "metadata": {
        "colab": {
          "base_uri": "https://localhost:8080/",
          "height": 655
        },
        "id": "S6zqGkaCrJnX",
        "outputId": "fc05aa2c-8cd6-44ed-e865-11405319ac6c"
      },
      "execution_count": null,
      "outputs": [
        {
          "output_type": "display_data",
          "data": {
            "image/png": "[encoded data removed]",
            "text/plain": [
              "<Figure size 1080x360 with 1 Axes>"
            ]
          },
          "metadata": {
            "needs_background": "light"
          }
        },
        {
          "output_type": "display_data",
          "data": {
            "image/png": "[encoded data removed]",
            "text/plain": [
              "<Figure size 1080x360 with 1 Axes>"
            ]
          },
          "metadata": {
            "needs_background": "light"
          }
        }
      ]
    },
    {
      "cell_type": "code",
      "source": [
        "#Computing the prediction of the model on the validation set\n",
        "predictions = []\n",
        "for element in validation_data_dwt.batch(128).as_numpy_iterator():\n",
        "    predictions.append(vgg.predict(element[0]))"
      ],
      "metadata": {
        "id": "-FXXtQeSrTNf"
      },
      "execution_count": null,
      "outputs": []
    },
    {
      "cell_type": "code",
      "source": [
        "predictions_f = [item for sublist in predictions for item in sublist]"
      ],
      "metadata": {
        "id": "GkgKa1K8rbW0"
      },
      "execution_count": null,
      "outputs": []
    },
    {
      "cell_type": "code",
      "source": [
        "predictions_oh = []\n",
        "#transform prediction into one-hot-encoding \n",
        "for i in range(len(predictions_f)):\n",
        "    predictions_oh.append(tf.one_hot(tf.argmax(predictions_f[i]), depth=3))"
      ],
      "metadata": {
        "id": "ncVCmVykrfWS"
      },
      "execution_count": null,
      "outputs": []
    },
    {
      "cell_type": "code",
      "source": [
        "#Compute the true and prediction array in order to plot the confusion matrix\n",
        "y = []\n",
        "\n",
        "for y_t in y_val.tolist():\n",
        "    if(y_t == [1, 0, 0]):\n",
        "        y.append('N')\n",
        "    if(y_t == [0, 1 ,0]):\n",
        "        y.append('S')\n",
        "    if(y_t == [0, 0 ,1]):\n",
        "        y.append('V')    \n",
        "\n",
        "y_pred = []\n",
        "\n",
        "for y_t in predictions_oh:\n",
        "    if(all(tf.equal(y_t, tf.constant([1, 0, 0], dtype=np.float32)))):\n",
        "        y_pred.append('N')\n",
        "    elif(all(tf.equal(y_t, tf.constant([0, 1, 0], dtype=np.float32)))):\n",
        "        y_pred.append('S')\n",
        "    elif(all(tf.equal(y_t, tf.constant([0, 0, 1], dtype=np.float32)))):\n",
        "        y_pred.append('V')  \n",
        "    else:\n",
        "        print(y_t)"
      ],
      "metadata": {
        "id": "eGFkBRNIrixQ"
      },
      "execution_count": null,
      "outputs": []
    },
    {
      "cell_type": "code",
      "source": [
        "#Plotting the confusion matrix\n",
        "import seaborn as sns\n",
        "from sklearn.metrics import ConfusionMatrixDisplay, classification_report\n",
        "from sklearn.metrics import confusion_matrix\n",
        "\n",
        "ConfusionMatrixDisplay.from_predictions(y, y_pred, labels = ['N', 'S', 'V'])\n",
        "ConfusionMatrixDisplay.from_predictions(y, y_pred, normalize='true', labels = ['N', 'S', 'V'])"
      ],
      "metadata": {
        "colab": {
          "base_uri": "https://localhost:8080/",
          "height": 558
        },
        "id": "4kun_2wBrrwK",
        "outputId": "6ff435cb-c3c0-4e6a-b907-3a631a598b9d"
      },
      "execution_count": null,
      "outputs": [
        {
          "output_type": "execute_result",
          "data": {
            "text/plain": [
              "<sklearn.metrics._plot.confusion_matrix.ConfusionMatrixDisplay at 0x7f7f56f93bd0>"
            ]
          },
          "metadata": {},
          "execution_count": 39
        },
        {
          "output_type": "display_data",
          "data": {
            "image/png": "[encoded data removed]",
            "text/plain": [
              "<Figure size 432x288 with 2 Axes>"
            ]
          },
          "metadata": {
            "needs_background": "light"
          }
        },
        {
          "output_type": "display_data",
          "data": {
            "image/png": "[encoded data removed]",
            "text/plain": [
              "<Figure size 432x288 with 2 Axes>"
            ]
          },
          "metadata": {
            "needs_background": "light"
          }
        }
      ]
    },
    {
      "cell_type": "code",
      "source": [
        "print(classification_report(y,y_pred))"
      ],
      "metadata": {
        "colab": {
          "base_uri": "https://localhost:8080/"
        },
        "id": "qWsGzjuasyB_",
        "outputId": "191cfa5e-9dbf-4a7b-e1cd-9819797688b0"
      },
      "execution_count": null,
      "outputs": [
        {
          "output_type": "stream",
          "name": "stdout",
          "text": [
            "              precision    recall  f1-score   support\n",
            "\n",
            "           N       1.00      0.96      0.98     39204\n",
            "           S       0.52      0.87      0.65      1864\n",
            "           V       0.82      0.96      0.89      1537\n",
            "\n",
            "    accuracy                           0.95     42605\n",
            "   macro avg       0.78      0.93      0.84     42605\n",
            "weighted avg       0.97      0.95      0.96     42605\n",
            "\n"
          ]
        }
      ]
    },
    {
      "cell_type": "markdown",
      "source": [
        "# ResNet"
      ],
      "metadata": {
        "id": "HvyV2yMd3QKV"
      }
    },
    {
      "cell_type": "markdown",
      "source": [
        "Try to use an advanced model to deal with vanishing gradient which uses skip connections to allow a deeper architecture"
      ],
      "metadata": {
        "id": "OU06ZEbp3S4E"
      }
    },
    {
      "cell_type": "code",
      "source": [
        "# ResNet model definition component by component\n",
        "import tensorflow.keras.layers as tfkl\n",
        "\n",
        "def ResBs_Conv(block_input, num_filters): \n",
        "   \n",
        "    # Filter Block input and BatchNormalization\n",
        "    block_input = tfkl.Conv1D(num_filters, kernel_size=7, strides = 2,  padding = 'same')(block_input) \n",
        "    block_input = tfkl.BatchNormalization()(block_input)\n",
        "\n",
        "    # First Convolutional Layer\n",
        "    conv1 = tfkl.Conv1D(filters=num_filters, kernel_size=7, padding= 'same')(block_input)\n",
        "    norm1 = tfkl.BatchNormalization()(conv1)\n",
        "    relu1 = tfkl.Activation('relu')(norm1)  \n",
        "    dropout = tfkl.Dropout(0.2)(relu1)\n",
        "    \n",
        "    # Second Convolutional Layer \n",
        "    conv2 = tfkl.Conv1D(num_filters, kernel_size=7, padding= 'same')(dropout)\n",
        "    norm2 = tfkl.BatchNormalization()(conv2)\n",
        "\n",
        "    # Summing Layer (adding a residual connection)\n",
        "    sum = tfkl.Add()([block_input, norm2])\n",
        "    \n",
        "    # Activation Layer\n",
        "    relu2 = tfkl.Activation('relu')(sum)\n",
        "    \n",
        "    return relu2 \n",
        "\n",
        "def ResBs_Identity(block_input, num_filters): \n",
        "\n",
        "    # First Convolutional Layer\n",
        "    conv1 = tfkl.Conv1D(filters=num_filters, kernel_size=7, padding= 'same')(block_input)\n",
        "    norm1 = tfkl.BatchNormalization()(conv1)\n",
        "    relu1 = tfkl.Activation('relu')(norm1)    \n",
        "    dropout = tfkl.Dropout(0.2)(relu1)\n",
        "    \n",
        "    # Second Convolutional Layer \n",
        "    conv2 = tfkl.Conv1D(num_filters, kernel_size=7, padding= 'same')(dropout)\n",
        "    norm2 = tfkl.BatchNormalization()(conv2)\n",
        "\n",
        "    # Summing Layer (adding a residual connection)\n",
        "    sum = tfkl.Add()([block_input, norm2])\n",
        "    \n",
        "    # Activation Layer\n",
        "    relu2 = tfkl.Activation('relu')(sum)\n",
        "    \n",
        "    return relu2 \n",
        "\n",
        "def resnet(N=8, ch=1, win_len=max_len, classes=3): \n",
        "    ecg_input = tfkl.Input(shape=(win_len, ch), name='ecg_signal') \n",
        "\n",
        "    ResNet = tfkl.Conv1D(filters=64,kernel_size=15, padding = 'same')(ecg_input) \n",
        "    ResNet = tfkl.BatchNormalization()(ResNet)\n",
        "    ResNet = tfkl.Activation('relu')(ResNet)\n",
        "    ResNet = tfkl.MaxPooling1D(pool_size=2, strides = 2)(ResNet)\n",
        "    \n",
        "    # First two ResNet blocks are identity blocks \n",
        "    ResNet = ResBs_Identity(ResNet, 64)\n",
        "    ResNet = ResBs_Identity(ResNet, 64)\n",
        "\n",
        "    filters = 64\n",
        "    M= int((N -2 )/2)\n",
        "    for i in range(M): \n",
        "        filters = filters*2\n",
        "        # define N-th ResBs block\n",
        "        ResNet = ResBs_Conv(ResNet, filters)\n",
        "        ResNet = ResBs_Identity(ResNet, filters)\n",
        "    \n",
        "    ResNet = tfkl.GlobalMaxPooling1D(name='gmp_layer')(ResNet)\n",
        "    ResNet = tfkl.Flatten()(ResNet) \n",
        "\n",
        "    # Sigmoid activation function on the last layer\n",
        "    ResNet = tfkl.Dense(classes, activation='sigmoid',  name='sigmoid_classifier')(ResNet)\n",
        "\n",
        "    # Finally the model is composed by connecting inputs to outputs: \n",
        "    model = tf.keras.Model(inputs=[ecg_input],outputs=ResNet)\n",
        "    return model"
      ],
      "metadata": {
        "id": "-x_AZ4FH3m0S"
      },
      "execution_count": null,
      "outputs": []
    },
    {
      "cell_type": "code",
      "source": [
        "resNet = resnet(N=8, ch=1, win_len=max_len, classes=3)\n",
        "\n",
        "learning_rate = 0.001\n",
        "resNet.compile(\n",
        "    optimizer = tf.keras.optimizers.Adam(),\n",
        "    loss = 'categorical_crossentropy',\n",
        "    metrics = ['accuracy', 'Precision', 'Recall' ]\n",
        ")"
      ],
      "metadata": {
        "id": "4nvaaQ3C6IBW"
      },
      "execution_count": null,
      "outputs": []
    },
    {
      "cell_type": "code",
      "source": [
        "resNet.summary()"
      ],
      "metadata": {
        "colab": {
          "base_uri": "https://localhost:8080/"
        },
        "id": "fmKDXym46fQd",
        "outputId": "97717064-d86b-4336-9e8c-2551664f5d9c"
      },
      "execution_count": null,
      "outputs": [
        {
          "output_type": "stream",
          "name": "stdout",
          "text": [
            "Model: \"model_1\"\n",
            "__________________________________________________________________________________________________\n",
            " Layer (type)                   Output Shape         Param #     Connected to                     \n",
            "==================================================================================================\n",
            " ecg_signal (InputLayer)        [(None, 223, 1)]     0           []                               \n",
            "                                                                                                  \n",
            " conv1d_20 (Conv1D)             (None, 223, 64)      1024        ['ecg_signal[0][0]']             \n",
            "                                                                                                  \n",
            " batch_normalization_20 (BatchN  (None, 223, 64)     256         ['conv1d_20[0][0]']              \n",
            " ormalization)                                                                                    \n",
            "                                                                                                  \n",
            " activation_17 (Activation)     (None, 223, 64)      0           ['batch_normalization_20[0][0]'] \n",
            "                                                                                                  \n",
            " max_pooling1d_1 (MaxPooling1D)  (None, 111, 64)     0           ['activation_17[0][0]']          \n",
            "                                                                                                  \n",
            " conv1d_21 (Conv1D)             (None, 111, 64)      28736       ['max_pooling1d_1[0][0]']        \n",
            "                                                                                                  \n",
            " batch_normalization_21 (BatchN  (None, 111, 64)     256         ['conv1d_21[0][0]']              \n",
            " ormalization)                                                                                    \n",
            "                                                                                                  \n",
            " activation_18 (Activation)     (None, 111, 64)      0           ['batch_normalization_21[0][0]'] \n",
            "                                                                                                  \n",
            " dropout_8 (Dropout)            (None, 111, 64)      0           ['activation_18[0][0]']          \n",
            "                                                                                                  \n",
            " conv1d_22 (Conv1D)             (None, 111, 64)      28736       ['dropout_8[0][0]']              \n",
            "                                                                                                  \n",
            " batch_normalization_22 (BatchN  (None, 111, 64)     256         ['conv1d_22[0][0]']              \n",
            " ormalization)                                                                                    \n",
            "                                                                                                  \n",
            " add_8 (Add)                    (None, 111, 64)      0           ['max_pooling1d_1[0][0]',        \n",
            "                                                                  'batch_normalization_22[0][0]'] \n",
            "                                                                                                  \n",
            " activation_19 (Activation)     (None, 111, 64)      0           ['add_8[0][0]']                  \n",
            "                                                                                                  \n",
            " conv1d_23 (Conv1D)             (None, 111, 64)      28736       ['activation_19[0][0]']          \n",
            "                                                                                                  \n",
            " batch_normalization_23 (BatchN  (None, 111, 64)     256         ['conv1d_23[0][0]']              \n",
            " ormalization)                                                                                    \n",
            "                                                                                                  \n",
            " activation_20 (Activation)     (None, 111, 64)      0           ['batch_normalization_23[0][0]'] \n",
            "                                                                                                  \n",
            " dropout_9 (Dropout)            (None, 111, 64)      0           ['activation_20[0][0]']          \n",
            "                                                                                                  \n",
            " conv1d_24 (Conv1D)             (None, 111, 64)      28736       ['dropout_9[0][0]']              \n",
            "                                                                                                  \n",
            " batch_normalization_24 (BatchN  (None, 111, 64)     256         ['conv1d_24[0][0]']              \n",
            " ormalization)                                                                                    \n",
            "                                                                                                  \n",
            " add_9 (Add)                    (None, 111, 64)      0           ['activation_19[0][0]',          \n",
            "                                                                  'batch_normalization_24[0][0]'] \n",
            "                                                                                                  \n",
            " activation_21 (Activation)     (None, 111, 64)      0           ['add_9[0][0]']                  \n",
            "                                                                                                  \n",
            " conv1d_25 (Conv1D)             (None, 56, 128)      57472       ['activation_21[0][0]']          \n",
            "                                                                                                  \n",
            " batch_normalization_25 (BatchN  (None, 56, 128)     512         ['conv1d_25[0][0]']              \n",
            " ormalization)                                                                                    \n",
            "                                                                                                  \n",
            " conv1d_26 (Conv1D)             (None, 56, 128)      114816      ['batch_normalization_25[0][0]'] \n",
            "                                                                                                  \n",
            " batch_normalization_26 (BatchN  (None, 56, 128)     512         ['conv1d_26[0][0]']              \n",
            " ormalization)                                                                                    \n",
            "                                                                                                  \n",
            " activation_22 (Activation)     (None, 56, 128)      0           ['batch_normalization_26[0][0]'] \n",
            "                                                                                                  \n",
            " dropout_10 (Dropout)           (None, 56, 128)      0           ['activation_22[0][0]']          \n",
            "                                                                                                  \n",
            " conv1d_27 (Conv1D)             (None, 56, 128)      114816      ['dropout_10[0][0]']             \n",
            "                                                                                                  \n",
            " batch_normalization_27 (BatchN  (None, 56, 128)     512         ['conv1d_27[0][0]']              \n",
            " ormalization)                                                                                    \n",
            "                                                                                                  \n",
            " add_10 (Add)                   (None, 56, 128)      0           ['batch_normalization_25[0][0]', \n",
            "                                                                  'batch_normalization_27[0][0]'] \n",
            "                                                                                                  \n",
            " activation_23 (Activation)     (None, 56, 128)      0           ['add_10[0][0]']                 \n",
            "                                                                                                  \n",
            " conv1d_28 (Conv1D)             (None, 56, 128)      114816      ['activation_23[0][0]']          \n",
            "                                                                                                  \n",
            " batch_normalization_28 (BatchN  (None, 56, 128)     512         ['conv1d_28[0][0]']              \n",
            " ormalization)                                                                                    \n",
            "                                                                                                  \n",
            " activation_24 (Activation)     (None, 56, 128)      0           ['batch_normalization_28[0][0]'] \n",
            "                                                                                                  \n",
            " dropout_11 (Dropout)           (None, 56, 128)      0           ['activation_24[0][0]']          \n",
            "                                                                                                  \n",
            " conv1d_29 (Conv1D)             (None, 56, 128)      114816      ['dropout_11[0][0]']             \n",
            "                                                                                                  \n",
            " batch_normalization_29 (BatchN  (None, 56, 128)     512         ['conv1d_29[0][0]']              \n",
            " ormalization)                                                                                    \n",
            "                                                                                                  \n",
            " add_11 (Add)                   (None, 56, 128)      0           ['activation_23[0][0]',          \n",
            "                                                                  'batch_normalization_29[0][0]'] \n",
            "                                                                                                  \n",
            " activation_25 (Activation)     (None, 56, 128)      0           ['add_11[0][0]']                 \n",
            "                                                                                                  \n",
            " conv1d_30 (Conv1D)             (None, 28, 256)      229632      ['activation_25[0][0]']          \n",
            "                                                                                                  \n",
            " batch_normalization_30 (BatchN  (None, 28, 256)     1024        ['conv1d_30[0][0]']              \n",
            " ormalization)                                                                                    \n",
            "                                                                                                  \n",
            " conv1d_31 (Conv1D)             (None, 28, 256)      459008      ['batch_normalization_30[0][0]'] \n",
            "                                                                                                  \n",
            " batch_normalization_31 (BatchN  (None, 28, 256)     1024        ['conv1d_31[0][0]']              \n",
            " ormalization)                                                                                    \n",
            "                                                                                                  \n",
            " activation_26 (Activation)     (None, 28, 256)      0           ['batch_normalization_31[0][0]'] \n",
            "                                                                                                  \n",
            " dropout_12 (Dropout)           (None, 28, 256)      0           ['activation_26[0][0]']          \n",
            "                                                                                                  \n",
            " conv1d_32 (Conv1D)             (None, 28, 256)      459008      ['dropout_12[0][0]']             \n",
            "                                                                                                  \n",
            " batch_normalization_32 (BatchN  (None, 28, 256)     1024        ['conv1d_32[0][0]']              \n",
            " ormalization)                                                                                    \n",
            "                                                                                                  \n",
            " add_12 (Add)                   (None, 28, 256)      0           ['batch_normalization_30[0][0]', \n",
            "                                                                  'batch_normalization_32[0][0]'] \n",
            "                                                                                                  \n",
            " activation_27 (Activation)     (None, 28, 256)      0           ['add_12[0][0]']                 \n",
            "                                                                                                  \n",
            " conv1d_33 (Conv1D)             (None, 28, 256)      459008      ['activation_27[0][0]']          \n",
            "                                                                                                  \n",
            " batch_normalization_33 (BatchN  (None, 28, 256)     1024        ['conv1d_33[0][0]']              \n",
            " ormalization)                                                                                    \n",
            "                                                                                                  \n",
            " activation_28 (Activation)     (None, 28, 256)      0           ['batch_normalization_33[0][0]'] \n",
            "                                                                                                  \n",
            " dropout_13 (Dropout)           (None, 28, 256)      0           ['activation_28[0][0]']          \n",
            "                                                                                                  \n",
            " conv1d_34 (Conv1D)             (None, 28, 256)      459008      ['dropout_13[0][0]']             \n",
            "                                                                                                  \n",
            " batch_normalization_34 (BatchN  (None, 28, 256)     1024        ['conv1d_34[0][0]']              \n",
            " ormalization)                                                                                    \n",
            "                                                                                                  \n",
            " add_13 (Add)                   (None, 28, 256)      0           ['activation_27[0][0]',          \n",
            "                                                                  'batch_normalization_34[0][0]'] \n",
            "                                                                                                  \n",
            " activation_29 (Activation)     (None, 28, 256)      0           ['add_13[0][0]']                 \n",
            "                                                                                                  \n",
            " conv1d_35 (Conv1D)             (None, 14, 512)      918016      ['activation_29[0][0]']          \n",
            "                                                                                                  \n",
            " batch_normalization_35 (BatchN  (None, 14, 512)     2048        ['conv1d_35[0][0]']              \n",
            " ormalization)                                                                                    \n",
            "                                                                                                  \n",
            " conv1d_36 (Conv1D)             (None, 14, 512)      1835520     ['batch_normalization_35[0][0]'] \n",
            "                                                                                                  \n",
            " batch_normalization_36 (BatchN  (None, 14, 512)     2048        ['conv1d_36[0][0]']              \n",
            " ormalization)                                                                                    \n",
            "                                                                                                  \n",
            " activation_30 (Activation)     (None, 14, 512)      0           ['batch_normalization_36[0][0]'] \n",
            "                                                                                                  \n",
            " dropout_14 (Dropout)           (None, 14, 512)      0           ['activation_30[0][0]']          \n",
            "                                                                                                  \n",
            " conv1d_37 (Conv1D)             (None, 14, 512)      1835520     ['dropout_14[0][0]']             \n",
            "                                                                                                  \n",
            " batch_normalization_37 (BatchN  (None, 14, 512)     2048        ['conv1d_37[0][0]']              \n",
            " ormalization)                                                                                    \n",
            "                                                                                                  \n",
            " add_14 (Add)                   (None, 14, 512)      0           ['batch_normalization_35[0][0]', \n",
            "                                                                  'batch_normalization_37[0][0]'] \n",
            "                                                                                                  \n",
            " activation_31 (Activation)     (None, 14, 512)      0           ['add_14[0][0]']                 \n",
            "                                                                                                  \n",
            " conv1d_38 (Conv1D)             (None, 14, 512)      1835520     ['activation_31[0][0]']          \n",
            "                                                                                                  \n",
            " batch_normalization_38 (BatchN  (None, 14, 512)     2048        ['conv1d_38[0][0]']              \n",
            " ormalization)                                                                                    \n",
            "                                                                                                  \n",
            " activation_32 (Activation)     (None, 14, 512)      0           ['batch_normalization_38[0][0]'] \n",
            "                                                                                                  \n",
            " dropout_15 (Dropout)           (None, 14, 512)      0           ['activation_32[0][0]']          \n",
            "                                                                                                  \n",
            " conv1d_39 (Conv1D)             (None, 14, 512)      1835520     ['dropout_15[0][0]']             \n",
            "                                                                                                  \n",
            " batch_normalization_39 (BatchN  (None, 14, 512)     2048        ['conv1d_39[0][0]']              \n",
            " ormalization)                                                                                    \n",
            "                                                                                                  \n",
            " add_15 (Add)                   (None, 14, 512)      0           ['activation_31[0][0]',          \n",
            "                                                                  'batch_normalization_39[0][0]'] \n",
            "                                                                                                  \n",
            " activation_33 (Activation)     (None, 14, 512)      0           ['add_15[0][0]']                 \n",
            "                                                                                                  \n",
            " gmp_layer (GlobalMaxPooling1D)  (None, 512)         0           ['activation_33[0][0]']          \n",
            "                                                                                                  \n",
            " flatten_1 (Flatten)            (None, 512)          0           ['gmp_layer[0][0]']              \n",
            "                                                                                                  \n",
            " sigmoid_classifier (Dense)     (None, 3)            1539        ['flatten_1[0][0]']              \n",
            "                                                                                                  \n",
            "==================================================================================================\n",
            "Total params: 10,979,203\n",
            "Trainable params: 10,969,603\n",
            "Non-trainable params: 9,600\n",
            "__________________________________________________________________________________________________\n"
          ]
        }
      ]
    },
    {
      "cell_type": "code",
      "source": [
        "class_weights"
      ],
      "metadata": {
        "colab": {
          "base_uri": "https://localhost:8080/"
        },
        "id": "rxKEknJX8cr1",
        "outputId": "c1646769-610a-407c-b103-5b8542899178"
      },
      "execution_count": null,
      "outputs": [
        {
          "output_type": "execute_result",
          "data": {
            "text/plain": [
              "{0: 0.3622506350370394, 1: 7.620919416867901, 2: 9.236802168021681}"
            ]
          },
          "metadata": {},
          "execution_count": 40
        }
      ]
    },
    {
      "cell_type": "code",
      "source": [
        "batch_size = 128\n",
        "\n",
        "history_resNet = resNet.fit(\n",
        "    x=batch_generator_data(batch_size=batch_size, x_gen=generate_X_shuffle(X_train), y_gen=generate_y_shuffle(y_train)),\n",
        "    validation_data= validation_data.batch(batch_size),\n",
        "    steps_per_epoch=compute_steps(len(X_train), batch_size),\n",
        "    epochs = 20,\n",
        "    class_weight = class_weights\n",
        "     ).history"
      ],
      "metadata": {
        "colab": {
          "base_uri": "https://localhost:8080/"
        },
        "id": "fK4LE4Tw6mGU",
        "outputId": "f87151b9-7a0a-4102-9dac-945c4491c720"
      },
      "execution_count": null,
      "outputs": [
        {
          "output_type": "stream",
          "name": "stdout",
          "text": [
            "Epoch 1/20\n",
            "1332/1332 [==============================] - 287s 205ms/step - loss: 0.6052 - accuracy: 0.7844 - precision: 0.5800 - recall: 0.9381 - val_loss: 0.4220 - val_accuracy: 0.8115 - val_precision: 0.5414 - val_recall: 0.9496\n",
            "Epoch 2/20\n",
            "1332/1332 [==============================] - 271s 204ms/step - loss: 0.2733 - accuracy: 0.8927 - precision: 0.6183 - recall: 0.9725 - val_loss: 0.2483 - val_accuracy: 0.8990 - val_precision: 0.6330 - val_recall: 0.9712\n",
            "Epoch 3/20\n",
            "1332/1332 [==============================] - 270s 203ms/step - loss: 0.2260 - accuracy: 0.9126 - precision: 0.6380 - recall: 0.9819 - val_loss: 0.2280 - val_accuracy: 0.9041 - val_precision: 0.6833 - val_recall: 0.9826\n",
            "Epoch 4/20\n",
            "1332/1332 [==============================] - 278s 208ms/step - loss: 0.2118 - accuracy: 0.9167 - precision: 0.6449 - recall: 0.9832 - val_loss: 0.3031 - val_accuracy: 0.8865 - val_precision: 0.6472 - val_recall: 0.9756\n",
            "Epoch 5/20\n",
            "1332/1332 [==============================] - 271s 203ms/step - loss: 0.1799 - accuracy: 0.9266 - precision: 0.6721 - recall: 0.9863 - val_loss: 0.2312 - val_accuracy: 0.9076 - val_precision: 0.7066 - val_recall: 0.9815\n",
            "Epoch 6/20\n",
            "1332/1332 [==============================] - 270s 203ms/step - loss: 0.1590 - accuracy: 0.9323 - precision: 0.7023 - recall: 0.9881 - val_loss: 0.2236 - val_accuracy: 0.9077 - val_precision: 0.6660 - val_recall: 0.9834\n",
            "Epoch 7/20\n",
            "1332/1332 [==============================] - 270s 203ms/step - loss: 0.1433 - accuracy: 0.9380 - precision: 0.7039 - recall: 0.9887 - val_loss: 0.1588 - val_accuracy: 0.9306 - val_precision: 0.7199 - val_recall: 0.9894\n",
            "Epoch 8/20\n",
            "1332/1332 [==============================] - 279s 209ms/step - loss: 0.1359 - accuracy: 0.9403 - precision: 0.7291 - recall: 0.9890 - val_loss: 0.1405 - val_accuracy: 0.9405 - val_precision: 0.7482 - val_recall: 0.9896\n",
            "Epoch 9/20\n",
            "1332/1332 [==============================] - 271s 203ms/step - loss: 0.1212 - accuracy: 0.9455 - precision: 0.7644 - recall: 0.9898 - val_loss: 0.1370 - val_accuracy: 0.9432 - val_precision: 0.7713 - val_recall: 0.9893\n",
            "Epoch 10/20\n",
            "1332/1332 [==============================] - 279s 209ms/step - loss: 0.1129 - accuracy: 0.9485 - precision: 0.7769 - recall: 0.9900 - val_loss: 0.1487 - val_accuracy: 0.9379 - val_precision: 0.7701 - val_recall: 0.9891\n",
            "Epoch 11/20\n",
            "1332/1332 [==============================] - 274s 206ms/step - loss: 0.1100 - accuracy: 0.9509 - precision: 0.7934 - recall: 0.9896 - val_loss: 0.1274 - val_accuracy: 0.9499 - val_precision: 0.8271 - val_recall: 0.9873\n",
            "Epoch 12/20\n",
            "1332/1332 [==============================] - 271s 203ms/step - loss: 0.0950 - accuracy: 0.9551 - precision: 0.8121 - recall: 0.9906 - val_loss: 0.1120 - val_accuracy: 0.9558 - val_precision: 0.8462 - val_recall: 0.9892\n",
            "Epoch 13/20\n",
            "1332/1332 [==============================] - 271s 203ms/step - loss: 0.0881 - accuracy: 0.9585 - precision: 0.8278 - recall: 0.9907 - val_loss: 0.0984 - val_accuracy: 0.9627 - val_precision: 0.8661 - val_recall: 0.9913\n",
            "Epoch 14/20\n",
            "1332/1332 [==============================] - 275s 206ms/step - loss: 0.0829 - accuracy: 0.9603 - precision: 0.8455 - recall: 0.9906 - val_loss: 0.1084 - val_accuracy: 0.9607 - val_precision: 0.8681 - val_recall: 0.9886\n",
            "Epoch 15/20\n",
            "1332/1332 [==============================] - 266s 199ms/step - loss: 0.0754 - accuracy: 0.9630 - precision: 0.8600 - recall: 0.9912 - val_loss: 0.0905 - val_accuracy: 0.9676 - val_precision: 0.8894 - val_recall: 0.9900\n",
            "Epoch 16/20\n",
            "1332/1332 [==============================] - 266s 200ms/step - loss: 0.0753 - accuracy: 0.9642 - precision: 0.8629 - recall: 0.9906 - val_loss: 0.0879 - val_accuracy: 0.9683 - val_precision: 0.8946 - val_recall: 0.9895\n",
            "Epoch 17/20\n",
            "1332/1332 [==============================] - 261s 196ms/step - loss: 0.0688 - accuracy: 0.9669 - precision: 0.8725 - recall: 0.9912 - val_loss: 0.1360 - val_accuracy: 0.9574 - val_precision: 0.8870 - val_recall: 0.9830\n",
            "Epoch 18/20\n",
            "1332/1332 [==============================] - 260s 195ms/step - loss: 0.0688 - accuracy: 0.9676 - precision: 0.8781 - recall: 0.9910 - val_loss: 0.1017 - val_accuracy: 0.9659 - val_precision: 0.8990 - val_recall: 0.9868\n",
            "Epoch 19/20\n",
            "1332/1332 [==============================] - 261s 196ms/step - loss: 0.0606 - accuracy: 0.9710 - precision: 0.8850 - recall: 0.9928 - val_loss: 0.0935 - val_accuracy: 0.9686 - val_precision: 0.9020 - val_recall: 0.9887\n",
            "Epoch 20/20\n",
            "1332/1332 [==============================] - 263s 197ms/step - loss: 0.0571 - accuracy: 0.9727 - precision: 0.8993 - recall: 0.9927 - val_loss: 0.1212 - val_accuracy: 0.9591 - val_precision: 0.8886 - val_recall: 0.9844\n"
          ]
        }
      ]
    },
    {
      "cell_type": "code",
      "source": [
        "# Plot the training\n",
        "plt.figure(figsize=(15,5))\n",
        "plt.plot(history_resNet['loss'], label='Training', alpha=.8, color='#ff7f0e')\n",
        "plt.plot(history_resNet['val_loss'], label='Validation', alpha=.8, color='#4D61E2')\n",
        "plt.legend(loc='upper left')\n",
        "plt.title('Categorical Crossentropy')\n",
        "plt.grid(alpha=.3)\n",
        "\n",
        "plt.figure(figsize=(15,5))\n",
        "plt.plot(history_resNet['accuracy'], label='Training', alpha=.8, color='#ff7f0e')\n",
        "plt.plot(history_resNet['val_accuracy'], label='Validation', alpha=.8, color='#4D61E2')\n",
        "plt.legend(loc='upper left')\n",
        "plt.title('Accuracy')\n",
        "plt.grid(alpha=.3)\n",
        "\n",
        "plt.show()"
      ],
      "metadata": {
        "colab": {
          "base_uri": "https://localhost:8080/",
          "height": 655
        },
        "id": "DpGp9WNtGogJ",
        "outputId": "f86b3b02-2d8b-40e4-a815-c3412c2acf5d"
      },
      "execution_count": null,
      "outputs": [
        {
          "output_type": "display_data",
          "data": {
            "image/png": "[encoded data removed]",
            "text/plain": [
              "<Figure size 1080x360 with 1 Axes>"
            ]
          },
          "metadata": {
            "needs_background": "light"
          }
        },
        {
          "output_type": "display_data",
          "data": {
            "image/png": "[encoded data removed]",
            "text/plain": [
              "<Figure size 1080x360 with 1 Axes>"
            ]
          },
          "metadata": {
            "needs_background": "light"
          }
        }
      ]
    },
    {
      "cell_type": "code",
      "source": [
        "resNet.save('/content/drive/MyDrive/AppliedAIinBiomedicine/final-assignment/resnet model')"
      ],
      "metadata": {
        "colab": {
          "base_uri": "https://localhost:8080/"
        },
        "id": "Cvkvj0UTKNIo",
        "outputId": "d35c57e9-bf77-4947-a559-5084a334eed0"
      },
      "execution_count": null,
      "outputs": [
        {
          "output_type": "stream",
          "name": "stdout",
          "text": [
            "INFO:tensorflow:Assets written to: /content/drive/MyDrive/AppliedAIinBiomedicine/final-assignment/resnet model/assets\n"
          ]
        },
        {
          "output_type": "stream",
          "name": "stderr",
          "text": [
            "/usr/local/lib/python3.7/dist-packages/keras/engine/functional.py:1410: CustomMaskWarning: Custom mask layers require a config and must override get_config. When loading, the custom mask layer must be passed to the custom_objects argument.\n",
            "  layer_config = serialize_layer_fn(layer)\n",
            "/usr/local/lib/python3.7/dist-packages/keras/saving/saved_model/layer_serialization.py:112: CustomMaskWarning: Custom mask layers require a config and must override get_config. When loading, the custom mask layer must be passed to the custom_objects argument.\n",
            "  return generic_utils.serialize_keras_object(obj)\n"
          ]
        }
      ]
    },
    {
      "cell_type": "code",
      "source": [
        "#Computing the prediction of the model on the validation set\n",
        "predictions = []\n",
        "for element in validation_data.batch(128).as_numpy_iterator():\n",
        "    predictions.append(resNet.predict(element[0]))"
      ],
      "metadata": {
        "id": "RmGbwzNTKV7l"
      },
      "execution_count": null,
      "outputs": []
    },
    {
      "cell_type": "code",
      "source": [
        "predictions_f = [item for sublist in predictions for item in sublist]"
      ],
      "metadata": {
        "id": "Vj4SNhoLKdUt"
      },
      "execution_count": null,
      "outputs": []
    },
    {
      "cell_type": "code",
      "source": [
        "predictions_oh = []\n",
        "#transform prediction into one-hot-encoding \n",
        "for i in range(len(predictions_f)):\n",
        "    predictions_oh.append(tf.one_hot(tf.argmax(predictions_f[i]), depth=3))"
      ],
      "metadata": {
        "id": "wo_7RjBGKgfa"
      },
      "execution_count": null,
      "outputs": []
    },
    {
      "cell_type": "code",
      "source": [
        "#Compute the true and prediction array in order to plot the confusion matrix\n",
        "y = []\n",
        "\n",
        "for y_t in y_val.tolist():\n",
        "    if(y_t == [1, 0, 0]):\n",
        "        y.append('N')\n",
        "    if(y_t == [0, 1 ,0]):\n",
        "        y.append('S')\n",
        "    if(y_t == [0, 0 ,1]):\n",
        "        y.append('V')    \n",
        "\n",
        "y_pred = []\n",
        "\n",
        "for y_t in predictions_oh:\n",
        "    if(all(tf.equal(y_t, tf.constant([1, 0, 0], dtype=np.float32)))):\n",
        "        y_pred.append('N')\n",
        "    elif(all(tf.equal(y_t, tf.constant([0, 1, 0], dtype=np.float32)))):\n",
        "        y_pred.append('S')\n",
        "    elif(all(tf.equal(y_t, tf.constant([0, 0, 1], dtype=np.float32)))):\n",
        "        y_pred.append('V')  \n",
        "    else:\n",
        "        print(y_t)"
      ],
      "metadata": {
        "id": "8UORm04zKjvl"
      },
      "execution_count": null,
      "outputs": []
    },
    {
      "cell_type": "code",
      "source": [
        "#Plotting the confusion matrix\n",
        "import seaborn as sns\n",
        "from sklearn.metrics import ConfusionMatrixDisplay, classification_report\n",
        "from sklearn.metrics import confusion_matrix\n",
        "\n",
        "ConfusionMatrixDisplay.from_predictions(y, y_pred, labels = ['N', 'S', 'V'])\n",
        "ConfusionMatrixDisplay.from_predictions(y, y_pred, normalize='true', labels = ['N', 'S', 'V'])"
      ],
      "metadata": {
        "colab": {
          "base_uri": "https://localhost:8080/",
          "height": 558
        },
        "id": "5dGbopJJKnNb",
        "outputId": "95c08ba1-5c48-40b2-bd48-5858a258b375"
      },
      "execution_count": null,
      "outputs": [
        {
          "output_type": "execute_result",
          "data": {
            "text/plain": [
              "<sklearn.metrics._plot.confusion_matrix.ConfusionMatrixDisplay at 0x7eff05382e90>"
            ]
          },
          "metadata": {},
          "execution_count": 49
        },
        {
          "output_type": "display_data",
          "data": {
            "image/png": "[encoded data removed]",
            "text/plain": [
              "<Figure size 432x288 with 2 Axes>"
            ]
          },
          "metadata": {
            "needs_background": "light"
          }
        },
        {
          "output_type": "display_data",
          "data": {
            "image/png": "[encoded data removed]",
            "text/plain": [
              "<Figure size 432x288 with 2 Axes>"
            ]
          },
          "metadata": {
            "needs_background": "light"
          }
        }
      ]
    },
    {
      "cell_type": "code",
      "source": [
        "print(classification_report(y,y_pred))"
      ],
      "metadata": {
        "colab": {
          "base_uri": "https://localhost:8080/"
        },
        "id": "Bx1em7DlKqoq",
        "outputId": "19206815-28b4-40b7-a53c-d0780dc7ab8c"
      },
      "execution_count": null,
      "outputs": [
        {
          "output_type": "stream",
          "name": "stdout",
          "text": [
            "              precision    recall  f1-score   support\n",
            "\n",
            "           N       1.00      0.96      0.98     39204\n",
            "           S       0.55      0.89      0.68      1864\n",
            "           V       0.89      0.97      0.92      1537\n",
            "\n",
            "    accuracy                           0.96     42605\n",
            "   macro avg       0.81      0.94      0.86     42605\n",
            "weighted avg       0.97      0.96      0.96     42605\n",
            "\n"
          ]
        }
      ]
    },
    {
      "cell_type": "markdown",
      "source": [
        "### Input change experiment"
      ],
      "metadata": {
        "id": "3wEM1-7X_J5H"
      }
    },
    {
      "cell_type": "markdown",
      "source": [
        "Here we try to give in input to the network not just the beat to be classified but also the previous and the next ones in order to exploit the high correlation between near beats"
      ],
      "metadata": {
        "id": "TXF7blLy_QH_"
      }
    },
    {
      "cell_type": "code",
      "source": [
        "# Modify the data generator to create this new kind of input\n",
        "# This implementation take into account only the target and the previous beat\n",
        "def batch_generator_data_near_beats(batch_size, x_gen, y_gen): \n",
        "    \n",
        "    #change batch features shape\n",
        "    batch_features = np.zeros((batch_size, max_len*2, 1))\n",
        "    batch_labels = np.zeros((batch_size,3)) \n",
        "\n",
        "    prev = np.zeros((max_len, 1))\n",
        "    \n",
        "    while True:\n",
        "        for i in range(batch_size):\n",
        "            single_input = []\n",
        "\n",
        "            current = next(x_gen)\n",
        "            single_input.append(prev)\n",
        "            single_input.append(current)\n",
        "\n",
        "            prev = current\n",
        "\n",
        "            batch_features[i] = np.concatenate(single_input, axis=0)\n",
        "            batch_labels[i] = next(y_gen)\n",
        "        \n",
        "        X = [batch_features]\n",
        "\n",
        "\n",
        "        yield X, batch_labels\n"
      ],
      "metadata": {
        "id": "qOXArX7x_fbc"
      },
      "execution_count": null,
      "outputs": []
    },
    {
      "cell_type": "code",
      "source": [
        "#change input_shape of the model to try\n",
        "\n",
        "cnn_model = tf.keras.Sequential([\n",
        "    tf.keras.layers.Conv1D(filters=16, kernel_size=3, padding='same',\n",
        "                        activation=tf.nn.leaky_relu, input_shape=[max_len*2, 1]),\n",
        "    tf.keras.layers.MaxPooling1D(pool_size=2),\n",
        "    tf.keras.layers.Conv1D(filters=64, kernel_size=3,\n",
        "                        padding='same', activation=tf.nn.leaky_relu),\n",
        "    tf.keras.layers.MaxPooling1D(pool_size=2),\n",
        "    tf.keras.layers.GlobalMaxPooling1D(),\n",
        "    tf.keras.layers.Dense(128, activation=tf.nn.leaky_relu),\n",
        "    tf.keras.layers.Dropout(0.3),\n",
        "    tf.keras.layers.Dense(3, activation=tf.nn.softmax)\n",
        "])"
      ],
      "metadata": {
        "id": "M3RBrUThYmog"
      },
      "execution_count": null,
      "outputs": []
    },
    {
      "cell_type": "code",
      "source": [
        "learning_rate = 0.001\n",
        "cnn_model.compile(\n",
        "    optimizer = tf.keras.optimizers.Adam(),\n",
        "    loss = 'categorical_crossentropy',\n",
        "    metrics = ['accuracy', tf.keras.metrics.Precision(),tf.keras.metrics.Recall()]\n",
        ")"
      ],
      "metadata": {
        "id": "wWOt6A6sYxOv"
      },
      "execution_count": null,
      "outputs": []
    },
    {
      "cell_type": "code",
      "source": [
        "# Try if the new generator works\n",
        "batch_size = 16\n",
        "\n",
        "history = cnn_model.fit(\n",
        "    x = batch_generator_data_near_beats(batch_size = batch_size, x_gen = generate_X_shuffle(X_train), y_gen = generate_y_shuffle(y_train)), \n",
        "    validation_data=validation_data.batch(batch_size),\n",
        "    steps_per_epoch=compute_steps(len(X_train), batch_size),\n",
        "    epochs = 15,\n",
        "    callbacks = tf.keras.callbacks.EarlyStopping(monitor='val_accuracy', mode='max', patience=5, restore_best_weights=True),\n",
        "    class_weight = class_weights\n",
        ").history"
      ],
      "metadata": {
        "colab": {
          "base_uri": "https://localhost:8080/",
          "height": 398
        },
        "id": "wMU1AoreMKJd",
        "outputId": "dc30d802-440a-42bd-c9b4-d4af43db3d9c"
      },
      "execution_count": null,
      "outputs": [
        {
          "output_type": "stream",
          "name": "stdout",
          "text": [
            "Epoch 1/15\n",
            "  741/10652 [=>............................] - ETA: 2:01 - loss: 1.0313 - accuracy: 0.4174 - precision_2: 0.3472 - recall_2: 0.1012"
          ]
        },
        {
          "output_type": "error",
          "ename": "KeyboardInterrupt",
          "evalue": "ignored",
          "traceback": [
            "\u001b[0;31m---------------------------------------------------------------------------\u001b[0m",
            "\u001b[0;31mKeyboardInterrupt\u001b[0m                         Traceback (most recent call last)",
            "\u001b[0;32m<ipython-input-63-3bb7e31cead4>\u001b[0m in \u001b[0;36m<module>\u001b[0;34m()\u001b[0m\n\u001b[1;32m      8\u001b[0m     \u001b[0mepochs\u001b[0m \u001b[0;34m=\u001b[0m \u001b[0;36m15\u001b[0m\u001b[0;34m,\u001b[0m\u001b[0;34m\u001b[0m\u001b[0;34m\u001b[0m\u001b[0m\n\u001b[1;32m      9\u001b[0m     \u001b[0mcallbacks\u001b[0m \u001b[0;34m=\u001b[0m \u001b[0mtf\u001b[0m\u001b[0;34m.\u001b[0m\u001b[0mkeras\u001b[0m\u001b[0;34m.\u001b[0m\u001b[0mcallbacks\u001b[0m\u001b[0;34m.\u001b[0m\u001b[0mEarlyStopping\u001b[0m\u001b[0;34m(\u001b[0m\u001b[0mmonitor\u001b[0m\u001b[0;34m=\u001b[0m\u001b[0;34m'val_accuracy'\u001b[0m\u001b[0;34m,\u001b[0m \u001b[0mmode\u001b[0m\u001b[0;34m=\u001b[0m\u001b[0;34m'max'\u001b[0m\u001b[0;34m,\u001b[0m \u001b[0mpatience\u001b[0m\u001b[0;34m=\u001b[0m\u001b[0;36m5\u001b[0m\u001b[0;34m,\u001b[0m \u001b[0mrestore_best_weights\u001b[0m\u001b[0;34m=\u001b[0m\u001b[0;32mTrue\u001b[0m\u001b[0;34m)\u001b[0m\u001b[0;34m,\u001b[0m\u001b[0;34m\u001b[0m\u001b[0;34m\u001b[0m\u001b[0m\n\u001b[0;32m---> 10\u001b[0;31m     \u001b[0mclass_weight\u001b[0m \u001b[0;34m=\u001b[0m \u001b[0mclass_weights\u001b[0m\u001b[0;34m\u001b[0m\u001b[0;34m\u001b[0m\u001b[0m\n\u001b[0m\u001b[1;32m     11\u001b[0m ).history\n",
            "\u001b[0;32m/usr/local/lib/python3.7/dist-packages/keras/utils/traceback_utils.py\u001b[0m in \u001b[0;36merror_handler\u001b[0;34m(*args, **kwargs)\u001b[0m\n\u001b[1;32m     62\u001b[0m     \u001b[0mfiltered_tb\u001b[0m \u001b[0;34m=\u001b[0m \u001b[0;32mNone\u001b[0m\u001b[0;34m\u001b[0m\u001b[0;34m\u001b[0m\u001b[0m\n\u001b[1;32m     63\u001b[0m     \u001b[0;32mtry\u001b[0m\u001b[0;34m:\u001b[0m\u001b[0;34m\u001b[0m\u001b[0;34m\u001b[0m\u001b[0m\n\u001b[0;32m---> 64\u001b[0;31m       \u001b[0;32mreturn\u001b[0m \u001b[0mfn\u001b[0m\u001b[0;34m(\u001b[0m\u001b[0;34m*\u001b[0m\u001b[0margs\u001b[0m\u001b[0;34m,\u001b[0m \u001b[0;34m**\u001b[0m\u001b[0mkwargs\u001b[0m\u001b[0;34m)\u001b[0m\u001b[0;34m\u001b[0m\u001b[0;34m\u001b[0m\u001b[0m\n\u001b[0m\u001b[1;32m     65\u001b[0m     \u001b[0;32mexcept\u001b[0m \u001b[0mException\u001b[0m \u001b[0;32mas\u001b[0m \u001b[0me\u001b[0m\u001b[0;34m:\u001b[0m  \u001b[0;31m# pylint: disable=broad-except\u001b[0m\u001b[0;34m\u001b[0m\u001b[0;34m\u001b[0m\u001b[0m\n\u001b[1;32m     66\u001b[0m       \u001b[0mfiltered_tb\u001b[0m \u001b[0;34m=\u001b[0m \u001b[0m_process_traceback_frames\u001b[0m\u001b[0;34m(\u001b[0m\u001b[0me\u001b[0m\u001b[0;34m.\u001b[0m\u001b[0m__traceback__\u001b[0m\u001b[0;34m)\u001b[0m\u001b[0;34m\u001b[0m\u001b[0;34m\u001b[0m\u001b[0m\n",
            "\u001b[0;32m/usr/local/lib/python3.7/dist-packages/keras/engine/training.py\u001b[0m in \u001b[0;36mfit\u001b[0;34m(self, x, y, batch_size, epochs, verbose, callbacks, validation_split, validation_data, shuffle, class_weight, sample_weight, initial_epoch, steps_per_epoch, validation_steps, validation_batch_size, validation_freq, max_queue_size, workers, use_multiprocessing)\u001b[0m\n\u001b[1;32m   1214\u001b[0m                 _r=1):\n\u001b[1;32m   1215\u001b[0m               \u001b[0mcallbacks\u001b[0m\u001b[0;34m.\u001b[0m\u001b[0mon_train_batch_begin\u001b[0m\u001b[0;34m(\u001b[0m\u001b[0mstep\u001b[0m\u001b[0;34m)\u001b[0m\u001b[0;34m\u001b[0m\u001b[0;34m\u001b[0m\u001b[0m\n\u001b[0;32m-> 1216\u001b[0;31m               \u001b[0mtmp_logs\u001b[0m \u001b[0;34m=\u001b[0m \u001b[0mself\u001b[0m\u001b[0;34m.\u001b[0m\u001b[0mtrain_function\u001b[0m\u001b[0;34m(\u001b[0m\u001b[0miterator\u001b[0m\u001b[0;34m)\u001b[0m\u001b[0;34m\u001b[0m\u001b[0;34m\u001b[0m\u001b[0m\n\u001b[0m\u001b[1;32m   1217\u001b[0m               \u001b[0;32mif\u001b[0m \u001b[0mdata_handler\u001b[0m\u001b[0;34m.\u001b[0m\u001b[0mshould_sync\u001b[0m\u001b[0;34m:\u001b[0m\u001b[0;34m\u001b[0m\u001b[0;34m\u001b[0m\u001b[0m\n\u001b[1;32m   1218\u001b[0m                 \u001b[0mcontext\u001b[0m\u001b[0;34m.\u001b[0m\u001b[0masync_wait\u001b[0m\u001b[0;34m(\u001b[0m\u001b[0;34m)\u001b[0m\u001b[0;34m\u001b[0m\u001b[0;34m\u001b[0m\u001b[0m\n",
            "\u001b[0;32m/usr/local/lib/python3.7/dist-packages/tensorflow/python/util/traceback_utils.py\u001b[0m in \u001b[0;36merror_handler\u001b[0;34m(*args, **kwargs)\u001b[0m\n\u001b[1;32m    148\u001b[0m     \u001b[0mfiltered_tb\u001b[0m \u001b[0;34m=\u001b[0m \u001b[0;32mNone\u001b[0m\u001b[0;34m\u001b[0m\u001b[0;34m\u001b[0m\u001b[0m\n\u001b[1;32m    149\u001b[0m     \u001b[0;32mtry\u001b[0m\u001b[0;34m:\u001b[0m\u001b[0;34m\u001b[0m\u001b[0;34m\u001b[0m\u001b[0m\n\u001b[0;32m--> 150\u001b[0;31m       \u001b[0;32mreturn\u001b[0m \u001b[0mfn\u001b[0m\u001b[0;34m(\u001b[0m\u001b[0;34m*\u001b[0m\u001b[0margs\u001b[0m\u001b[0;34m,\u001b[0m \u001b[0;34m**\u001b[0m\u001b[0mkwargs\u001b[0m\u001b[0;34m)\u001b[0m\u001b[0;34m\u001b[0m\u001b[0;34m\u001b[0m\u001b[0m\n\u001b[0m\u001b[1;32m    151\u001b[0m     \u001b[0;32mexcept\u001b[0m \u001b[0mException\u001b[0m \u001b[0;32mas\u001b[0m \u001b[0me\u001b[0m\u001b[0;34m:\u001b[0m\u001b[0;34m\u001b[0m\u001b[0;34m\u001b[0m\u001b[0m\n\u001b[1;32m    152\u001b[0m       \u001b[0mfiltered_tb\u001b[0m \u001b[0;34m=\u001b[0m \u001b[0m_process_traceback_frames\u001b[0m\u001b[0;34m(\u001b[0m\u001b[0me\u001b[0m\u001b[0;34m.\u001b[0m\u001b[0m__traceback__\u001b[0m\u001b[0;34m)\u001b[0m\u001b[0;34m\u001b[0m\u001b[0;34m\u001b[0m\u001b[0m\n",
            "\u001b[0;32m/usr/local/lib/python3.7/dist-packages/tensorflow/python/eager/def_function.py\u001b[0m in \u001b[0;36m__call__\u001b[0;34m(self, *args, **kwds)\u001b[0m\n\u001b[1;32m    908\u001b[0m \u001b[0;34m\u001b[0m\u001b[0m\n\u001b[1;32m    909\u001b[0m       \u001b[0;32mwith\u001b[0m \u001b[0mOptionalXlaContext\u001b[0m\u001b[0;34m(\u001b[0m\u001b[0mself\u001b[0m\u001b[0;34m.\u001b[0m\u001b[0m_jit_compile\u001b[0m\u001b[0;34m)\u001b[0m\u001b[0;34m:\u001b[0m\u001b[0;34m\u001b[0m\u001b[0;34m\u001b[0m\u001b[0m\n\u001b[0;32m--> 910\u001b[0;31m         \u001b[0mresult\u001b[0m \u001b[0;34m=\u001b[0m \u001b[0mself\u001b[0m\u001b[0;34m.\u001b[0m\u001b[0m_call\u001b[0m\u001b[0;34m(\u001b[0m\u001b[0;34m*\u001b[0m\u001b[0margs\u001b[0m\u001b[0;34m,\u001b[0m \u001b[0;34m**\u001b[0m\u001b[0mkwds\u001b[0m\u001b[0;34m)\u001b[0m\u001b[0;34m\u001b[0m\u001b[0;34m\u001b[0m\u001b[0m\n\u001b[0m\u001b[1;32m    911\u001b[0m \u001b[0;34m\u001b[0m\u001b[0m\n\u001b[1;32m    912\u001b[0m       \u001b[0mnew_tracing_count\u001b[0m \u001b[0;34m=\u001b[0m \u001b[0mself\u001b[0m\u001b[0;34m.\u001b[0m\u001b[0mexperimental_get_tracing_count\u001b[0m\u001b[0;34m(\u001b[0m\u001b[0;34m)\u001b[0m\u001b[0;34m\u001b[0m\u001b[0;34m\u001b[0m\u001b[0m\n",
            "\u001b[0;32m/usr/local/lib/python3.7/dist-packages/tensorflow/python/eager/def_function.py\u001b[0m in \u001b[0;36m_call\u001b[0;34m(self, *args, **kwds)\u001b[0m\n\u001b[1;32m    940\u001b[0m       \u001b[0;31m# In this case we have created variables on the first call, so we run the\u001b[0m\u001b[0;34m\u001b[0m\u001b[0;34m\u001b[0m\u001b[0;34m\u001b[0m\u001b[0m\n\u001b[1;32m    941\u001b[0m       \u001b[0;31m# defunned version which is guaranteed to never create variables.\u001b[0m\u001b[0;34m\u001b[0m\u001b[0;34m\u001b[0m\u001b[0;34m\u001b[0m\u001b[0m\n\u001b[0;32m--> 942\u001b[0;31m       \u001b[0;32mreturn\u001b[0m \u001b[0mself\u001b[0m\u001b[0;34m.\u001b[0m\u001b[0m_stateless_fn\u001b[0m\u001b[0;34m(\u001b[0m\u001b[0;34m*\u001b[0m\u001b[0margs\u001b[0m\u001b[0;34m,\u001b[0m \u001b[0;34m**\u001b[0m\u001b[0mkwds\u001b[0m\u001b[0;34m)\u001b[0m  \u001b[0;31m# pylint: disable=not-callable\u001b[0m\u001b[0;34m\u001b[0m\u001b[0;34m\u001b[0m\u001b[0m\n\u001b[0m\u001b[1;32m    943\u001b[0m     \u001b[0;32melif\u001b[0m \u001b[0mself\u001b[0m\u001b[0;34m.\u001b[0m\u001b[0m_stateful_fn\u001b[0m \u001b[0;32mis\u001b[0m \u001b[0;32mnot\u001b[0m \u001b[0;32mNone\u001b[0m\u001b[0;34m:\u001b[0m\u001b[0;34m\u001b[0m\u001b[0;34m\u001b[0m\u001b[0m\n\u001b[1;32m    944\u001b[0m       \u001b[0;31m# Release the lock early so that multiple threads can perform the call\u001b[0m\u001b[0;34m\u001b[0m\u001b[0;34m\u001b[0m\u001b[0;34m\u001b[0m\u001b[0m\n",
            "\u001b[0;32m/usr/local/lib/python3.7/dist-packages/tensorflow/python/eager/function.py\u001b[0m in \u001b[0;36m__call__\u001b[0;34m(self, *args, **kwargs)\u001b[0m\n\u001b[1;32m   3129\u001b[0m        filtered_flat_args) = self._maybe_define_function(args, kwargs)\n\u001b[1;32m   3130\u001b[0m     return graph_function._call_flat(\n\u001b[0;32m-> 3131\u001b[0;31m         filtered_flat_args, captured_inputs=graph_function.captured_inputs)  # pylint: disable=protected-access\n\u001b[0m\u001b[1;32m   3132\u001b[0m \u001b[0;34m\u001b[0m\u001b[0m\n\u001b[1;32m   3133\u001b[0m   \u001b[0;34m@\u001b[0m\u001b[0mproperty\u001b[0m\u001b[0;34m\u001b[0m\u001b[0;34m\u001b[0m\u001b[0m\n",
            "\u001b[0;32m/usr/local/lib/python3.7/dist-packages/tensorflow/python/eager/function.py\u001b[0m in \u001b[0;36m_call_flat\u001b[0;34m(self, args, captured_inputs, cancellation_manager)\u001b[0m\n\u001b[1;32m   1958\u001b[0m       \u001b[0;31m# No tape is watching; skip to running the function.\u001b[0m\u001b[0;34m\u001b[0m\u001b[0;34m\u001b[0m\u001b[0;34m\u001b[0m\u001b[0m\n\u001b[1;32m   1959\u001b[0m       return self._build_call_outputs(self._inference_function.call(\n\u001b[0;32m-> 1960\u001b[0;31m           ctx, args, cancellation_manager=cancellation_manager))\n\u001b[0m\u001b[1;32m   1961\u001b[0m     forward_backward = self._select_forward_and_backward_functions(\n\u001b[1;32m   1962\u001b[0m         \u001b[0margs\u001b[0m\u001b[0;34m,\u001b[0m\u001b[0;34m\u001b[0m\u001b[0;34m\u001b[0m\u001b[0m\n",
            "\u001b[0;32m/usr/local/lib/python3.7/dist-packages/tensorflow/python/eager/function.py\u001b[0m in \u001b[0;36mcall\u001b[0;34m(self, ctx, args, cancellation_manager)\u001b[0m\n\u001b[1;32m    601\u001b[0m               \u001b[0minputs\u001b[0m\u001b[0;34m=\u001b[0m\u001b[0margs\u001b[0m\u001b[0;34m,\u001b[0m\u001b[0;34m\u001b[0m\u001b[0;34m\u001b[0m\u001b[0m\n\u001b[1;32m    602\u001b[0m               \u001b[0mattrs\u001b[0m\u001b[0;34m=\u001b[0m\u001b[0mattrs\u001b[0m\u001b[0;34m,\u001b[0m\u001b[0;34m\u001b[0m\u001b[0;34m\u001b[0m\u001b[0m\n\u001b[0;32m--> 603\u001b[0;31m               ctx=ctx)\n\u001b[0m\u001b[1;32m    604\u001b[0m         \u001b[0;32melse\u001b[0m\u001b[0;34m:\u001b[0m\u001b[0;34m\u001b[0m\u001b[0;34m\u001b[0m\u001b[0m\n\u001b[1;32m    605\u001b[0m           outputs = execute.execute_with_cancellation(\n",
            "\u001b[0;32m/usr/local/lib/python3.7/dist-packages/tensorflow/python/eager/execute.py\u001b[0m in \u001b[0;36mquick_execute\u001b[0;34m(op_name, num_outputs, inputs, attrs, ctx, name)\u001b[0m\n\u001b[1;32m     57\u001b[0m     \u001b[0mctx\u001b[0m\u001b[0;34m.\u001b[0m\u001b[0mensure_initialized\u001b[0m\u001b[0;34m(\u001b[0m\u001b[0;34m)\u001b[0m\u001b[0;34m\u001b[0m\u001b[0;34m\u001b[0m\u001b[0m\n\u001b[1;32m     58\u001b[0m     tensors = pywrap_tfe.TFE_Py_Execute(ctx._handle, device_name, op_name,\n\u001b[0;32m---> 59\u001b[0;31m                                         inputs, attrs, num_outputs)\n\u001b[0m\u001b[1;32m     60\u001b[0m   \u001b[0;32mexcept\u001b[0m \u001b[0mcore\u001b[0m\u001b[0;34m.\u001b[0m\u001b[0m_NotOkStatusException\u001b[0m \u001b[0;32mas\u001b[0m \u001b[0me\u001b[0m\u001b[0;34m:\u001b[0m\u001b[0;34m\u001b[0m\u001b[0;34m\u001b[0m\u001b[0m\n\u001b[1;32m     61\u001b[0m     \u001b[0;32mif\u001b[0m \u001b[0mname\u001b[0m \u001b[0;32mis\u001b[0m \u001b[0;32mnot\u001b[0m \u001b[0;32mNone\u001b[0m\u001b[0;34m:\u001b[0m\u001b[0;34m\u001b[0m\u001b[0;34m\u001b[0m\u001b[0m\n",
            "\u001b[0;31mKeyboardInterrupt\u001b[0m: "
          ]
        }
      ]
    }
  ],
  "metadata": {
    "colab": {
      "collapsed_sections": [
        "irr5wtoNOofI",
        "LzZWVVEBgAp2"
      ],
      "name": "Deep Learning with 2 leads.ipynb",
      "provenance": [],
      "toc_visible": true
    },
    "interpreter": {
      "hash": "a1b18e5b73945bca42393a289077bd0b488e623c27b094a97a19d0bde50b9d70"
    },
    "kernelspec": {
      "display_name": "Python 3.8.3 64-bit ('base': conda)",
      "language": "python",
      "name": "python3"
    },
    "language_info": {
      "codemirror_mode": {
        "name": "ipython",
        "version": 3
      },
      "file_extension": ".py",
      "mimetype": "text/x-python",
      "name": "python",
      "nbconvert_exporter": "python",
      "pygments_lexer": "ipython3",
      "version": "3.8.3"
    },
    "orig_nbformat": 4
  },
  "nbformat": 4,
  "nbformat_minor": 0
}
