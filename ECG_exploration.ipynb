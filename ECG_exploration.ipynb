{
  "nbformat": 4,
  "nbformat_minor": 0,
  "metadata": {
    "colab": {
      "name": "ECG-exploration.ipynb",
      "provenance": []
    },
    "kernelspec": {
      "name": "python3",
      "display_name": "Python 3"
    },
    "language_info": {
      "name": "python"
    }
  },
  "cells": [
    {
      "cell_type": "code",
      "execution_count": 1,
      "metadata": {
        "colab": {
          "base_uri": "https://localhost:8080/"
        },
        "id": "2JNrRVn6-ZLf",
        "outputId": "31534cde-d960-41d0-faa3-9bbd09da87b7"
      },
      "outputs": [
        {
          "output_type": "stream",
          "name": "stdout",
          "text": [
            "Collecting neurokit2\n",
            "  Downloading neurokit2-0.1.5-py2.py3-none-any.whl (1.1 MB)\n",
            "\u001b[K     |████████████████████████████████| 1.1 MB 4.9 MB/s \n",
            "\u001b[?25hRequirement already satisfied: numpy in /usr/local/lib/python3.7/dist-packages (from neurokit2) (1.19.5)\n",
            "Requirement already satisfied: scikit-learn in /usr/local/lib/python3.7/dist-packages (from neurokit2) (1.0.1)\n",
            "Requirement already satisfied: scipy in /usr/local/lib/python3.7/dist-packages (from neurokit2) (1.4.1)\n",
            "Requirement already satisfied: matplotlib in /usr/local/lib/python3.7/dist-packages (from neurokit2) (3.2.2)\n",
            "Requirement already satisfied: pandas in /usr/local/lib/python3.7/dist-packages (from neurokit2) (1.1.5)\n",
            "Requirement already satisfied: python-dateutil>=2.1 in /usr/local/lib/python3.7/dist-packages (from matplotlib->neurokit2) (2.8.2)\n",
            "Requirement already satisfied: cycler>=0.10 in /usr/local/lib/python3.7/dist-packages (from matplotlib->neurokit2) (0.11.0)\n",
            "Requirement already satisfied: kiwisolver>=1.0.1 in /usr/local/lib/python3.7/dist-packages (from matplotlib->neurokit2) (1.3.2)\n",
            "Requirement already satisfied: pyparsing!=2.0.4,!=2.1.2,!=2.1.6,>=2.0.1 in /usr/local/lib/python3.7/dist-packages (from matplotlib->neurokit2) (3.0.6)\n",
            "Requirement already satisfied: six>=1.5 in /usr/local/lib/python3.7/dist-packages (from python-dateutil>=2.1->matplotlib->neurokit2) (1.15.0)\n",
            "Requirement already satisfied: pytz>=2017.2 in /usr/local/lib/python3.7/dist-packages (from pandas->neurokit2) (2018.9)\n",
            "Requirement already satisfied: threadpoolctl>=2.0.0 in /usr/local/lib/python3.7/dist-packages (from scikit-learn->neurokit2) (3.0.0)\n",
            "Requirement already satisfied: joblib>=0.11 in /usr/local/lib/python3.7/dist-packages (from scikit-learn->neurokit2) (1.1.0)\n",
            "Installing collected packages: neurokit2\n",
            "Successfully installed neurokit2-0.1.5\n",
            "Requirement already satisfied: scikit-learn in /usr/local/lib/python3.7/dist-packages (1.0.1)\n",
            "Requirement already satisfied: numpy>=1.14.6 in /usr/local/lib/python3.7/dist-packages (from scikit-learn) (1.19.5)\n",
            "Requirement already satisfied: scipy>=1.1.0 in /usr/local/lib/python3.7/dist-packages (from scikit-learn) (1.4.1)\n",
            "Requirement already satisfied: threadpoolctl>=2.0.0 in /usr/local/lib/python3.7/dist-packages (from scikit-learn) (3.0.0)\n",
            "Requirement already satisfied: joblib>=0.11 in /usr/local/lib/python3.7/dist-packages (from scikit-learn) (1.1.0)\n"
          ]
        }
      ],
      "source": [
        "!pip install neurokit2\n",
        "!pip install -U scikit-learn"
      ]
    },
    {
      "cell_type": "code",
      "source": [
        "from google.colab import drive\n",
        "drive.mount('/content/drive')"
      ],
      "metadata": {
        "colab": {
          "base_uri": "https://localhost:8080/"
        },
        "id": "tOocK0HFAA_B",
        "outputId": "b2154dae-7713-4323-98ff-ad139bcb77f8"
      },
      "execution_count": 3,
      "outputs": [
        {
          "output_type": "stream",
          "name": "stdout",
          "text": [
            "Mounted at /content/drive\n"
          ]
        }
      ]
    },
    {
      "cell_type": "code",
      "source": [
        "!unzip /content/drive/MyDrive/AppliedAIinBiomedicine/final-assignment/training_set.zip -d /content/training_set"
      ],
      "metadata": {
        "colab": {
          "base_uri": "https://localhost:8080/"
        },
        "id": "jG1BOpa-AEmp",
        "outputId": "4b667980-a520-4619-d535-094e5c980a60"
      },
      "execution_count": 4,
      "outputs": [
        {
          "output_type": "stream",
          "name": "stdout",
          "text": [
            "Archive:  /content/drive/MyDrive/AppliedAIinBiomedicine/final-assignment/training_set.zip\n",
            "  inflating: /content/training_set/S001_128.mat  \n",
            "  inflating: /content/training_set/S001_128_ann.mat  \n",
            "  inflating: /content/training_set/S001_128_rpk.mat  \n",
            "  inflating: /content/training_set/S002_128.mat  \n",
            "  inflating: /content/training_set/S002_128_ann.mat  \n",
            " extracting: /content/training_set/S002_128_rpk.mat  \n",
            "  inflating: /content/training_set/S003_128.mat  \n",
            "  inflating: /content/training_set/S003_128_ann.mat  \n",
            "  inflating: /content/training_set/S003_128_rpk.mat  \n",
            "  inflating: /content/training_set/S004_128.mat  \n",
            "  inflating: /content/training_set/S004_128_ann.mat  \n",
            " extracting: /content/training_set/S004_128_rpk.mat  \n",
            "  inflating: /content/training_set/S005_128.mat  \n",
            "  inflating: /content/training_set/S005_128_ann.mat  \n",
            "  inflating: /content/training_set/S005_128_rpk.mat  \n",
            "  inflating: /content/training_set/S006_128.mat  \n",
            "  inflating: /content/training_set/S006_128_ann.mat  \n",
            "  inflating: /content/training_set/S006_128_rpk.mat  \n",
            "  inflating: /content/training_set/S007_128.mat  \n",
            "  inflating: /content/training_set/S007_128_ann.mat  \n",
            " extracting: /content/training_set/S007_128_rpk.mat  \n",
            "  inflating: /content/training_set/S008_128.mat  \n",
            "  inflating: /content/training_set/S008_128_ann.mat  \n",
            " extracting: /content/training_set/S008_128_rpk.mat  \n",
            "  inflating: /content/training_set/S009_128.mat  \n",
            "  inflating: /content/training_set/S009_128_ann.mat  \n",
            " extracting: /content/training_set/S009_128_rpk.mat  \n",
            "  inflating: /content/training_set/S010_128.mat  \n",
            "  inflating: /content/training_set/S010_128_ann.mat  \n",
            " extracting: /content/training_set/S010_128_rpk.mat  \n",
            "  inflating: /content/training_set/S011_128.mat  \n",
            "  inflating: /content/training_set/S011_128_ann.mat  \n",
            " extracting: /content/training_set/S011_128_rpk.mat  \n",
            "  inflating: /content/training_set/S012_128.mat  \n",
            "  inflating: /content/training_set/S012_128_ann.mat  \n",
            " extracting: /content/training_set/S012_128_rpk.mat  \n",
            "  inflating: /content/training_set/S013_128.mat  \n",
            "  inflating: /content/training_set/S013_128_ann.mat  \n",
            "  inflating: /content/training_set/S013_128_rpk.mat  \n",
            "  inflating: /content/training_set/S014_128.mat  \n",
            "  inflating: /content/training_set/S014_128_ann.mat  \n",
            "  inflating: /content/training_set/S014_128_rpk.mat  \n",
            "  inflating: /content/training_set/S015_128.mat  \n",
            "  inflating: /content/training_set/S015_128_ann.mat  \n",
            "  inflating: /content/training_set/S015_128_rpk.mat  \n",
            "  inflating: /content/training_set/S016_128.mat  \n",
            "  inflating: /content/training_set/S016_128_ann.mat  \n",
            "  inflating: /content/training_set/S016_128_rpk.mat  \n",
            "  inflating: /content/training_set/S017_128.mat  \n",
            "  inflating: /content/training_set/S017_128_ann.mat  \n",
            "  inflating: /content/training_set/S017_128_rpk.mat  \n",
            "  inflating: /content/training_set/S018_128.mat  \n",
            "  inflating: /content/training_set/S018_128_ann.mat  \n",
            "  inflating: /content/training_set/S018_128_rpk.mat  \n",
            "  inflating: /content/training_set/S019_128.mat  \n",
            "  inflating: /content/training_set/S019_128_ann.mat  \n",
            "  inflating: /content/training_set/S019_128_rpk.mat  \n",
            "  inflating: /content/training_set/S020_128.mat  \n",
            "  inflating: /content/training_set/S020_128_ann.mat  \n",
            " extracting: /content/training_set/S020_128_rpk.mat  \n",
            "  inflating: /content/training_set/S021_128.mat  \n",
            "  inflating: /content/training_set/S021_128_ann.mat  \n",
            "  inflating: /content/training_set/S021_128_rpk.mat  \n",
            "  inflating: /content/training_set/S022_128.mat  \n",
            "  inflating: /content/training_set/S022_128_ann.mat  \n",
            "  inflating: /content/training_set/S022_128_rpk.mat  \n",
            "  inflating: /content/training_set/S023_128.mat  \n",
            "  inflating: /content/training_set/S023_128_ann.mat  \n",
            "  inflating: /content/training_set/S023_128_rpk.mat  \n",
            "  inflating: /content/training_set/S024_128.mat  \n",
            "  inflating: /content/training_set/S024_128_ann.mat  \n",
            "  inflating: /content/training_set/S024_128_rpk.mat  \n",
            "  inflating: /content/training_set/S025_128.mat  \n",
            "  inflating: /content/training_set/S025_128_ann.mat  \n",
            "  inflating: /content/training_set/S025_128_rpk.mat  \n",
            "  inflating: /content/training_set/S026_128.mat  \n",
            "  inflating: /content/training_set/S026_128_ann.mat  \n",
            "  inflating: /content/training_set/S026_128_rpk.mat  \n",
            "  inflating: /content/training_set/S027_128.mat  \n",
            "  inflating: /content/training_set/S027_128_ann.mat  \n",
            "  inflating: /content/training_set/S027_128_rpk.mat  \n",
            "  inflating: /content/training_set/S028_128.mat  \n",
            "  inflating: /content/training_set/S028_128_ann.mat  \n",
            "  inflating: /content/training_set/S028_128_rpk.mat  \n",
            "  inflating: /content/training_set/S029_128.mat  \n",
            "  inflating: /content/training_set/S029_128_ann.mat  \n",
            " extracting: /content/training_set/S029_128_rpk.mat  \n",
            "  inflating: /content/training_set/S030_128.mat  \n",
            "  inflating: /content/training_set/S030_128_ann.mat  \n",
            "  inflating: /content/training_set/S030_128_rpk.mat  \n",
            "  inflating: /content/training_set/S031_128.mat  \n",
            "  inflating: /content/training_set/S031_128_ann.mat  \n",
            " extracting: /content/training_set/S031_128_rpk.mat  \n",
            "  inflating: /content/training_set/S032_128.mat  \n",
            "  inflating: /content/training_set/S032_128_ann.mat  \n",
            " extracting: /content/training_set/S032_128_rpk.mat  \n",
            "  inflating: /content/training_set/S033_128.mat  \n",
            "  inflating: /content/training_set/S033_128_ann.mat  \n",
            " extracting: /content/training_set/S033_128_rpk.mat  \n",
            "  inflating: /content/training_set/S034_128.mat  \n",
            "  inflating: /content/training_set/S034_128_ann.mat  \n",
            "  inflating: /content/training_set/S034_128_rpk.mat  \n",
            "  inflating: /content/training_set/S035_128.mat  \n",
            "  inflating: /content/training_set/S035_128_ann.mat  \n",
            "  inflating: /content/training_set/S035_128_rpk.mat  \n",
            "  inflating: /content/training_set/S036_128.mat  \n",
            "  inflating: /content/training_set/S036_128_ann.mat  \n",
            "  inflating: /content/training_set/S036_128_rpk.mat  \n",
            "  inflating: /content/training_set/S037_128.mat  \n",
            "  inflating: /content/training_set/S037_128_ann.mat  \n",
            "  inflating: /content/training_set/S037_128_rpk.mat  \n",
            "  inflating: /content/training_set/S038_128.mat  \n",
            "  inflating: /content/training_set/S038_128_ann.mat  \n",
            " extracting: /content/training_set/S038_128_rpk.mat  \n",
            "  inflating: /content/training_set/S039_128.mat  \n",
            "  inflating: /content/training_set/S039_128_ann.mat  \n",
            "  inflating: /content/training_set/S039_128_rpk.mat  \n",
            "  inflating: /content/training_set/S040_128.mat  \n",
            "  inflating: /content/training_set/S040_128_ann.mat  \n",
            " extracting: /content/training_set/S040_128_rpk.mat  \n",
            "  inflating: /content/training_set/S041_128.mat  \n",
            "  inflating: /content/training_set/S041_128_ann.mat  \n",
            "  inflating: /content/training_set/S041_128_rpk.mat  \n",
            "  inflating: /content/training_set/S042_128.mat  \n",
            "  inflating: /content/training_set/S042_128_ann.mat  \n",
            "  inflating: /content/training_set/S042_128_rpk.mat  \n",
            "  inflating: /content/training_set/S043_128.mat  \n",
            "  inflating: /content/training_set/S043_128_ann.mat  \n",
            "  inflating: /content/training_set/S043_128_rpk.mat  \n",
            "  inflating: /content/training_set/S044_128.mat  \n",
            "  inflating: /content/training_set/S044_128_ann.mat  \n",
            "  inflating: /content/training_set/S044_128_rpk.mat  \n",
            "  inflating: /content/training_set/S045_128.mat  \n",
            "  inflating: /content/training_set/S045_128_ann.mat  \n",
            "  inflating: /content/training_set/S045_128_rpk.mat  \n",
            "  inflating: /content/training_set/S046_128.mat  \n",
            "  inflating: /content/training_set/S046_128_ann.mat  \n",
            "  inflating: /content/training_set/S046_128_rpk.mat  \n",
            "  inflating: /content/training_set/S047_128.mat  \n",
            "  inflating: /content/training_set/S047_128_ann.mat  \n",
            " extracting: /content/training_set/S047_128_rpk.mat  \n",
            "  inflating: /content/training_set/S048_128.mat  \n",
            "  inflating: /content/training_set/S048_128_ann.mat  \n",
            "  inflating: /content/training_set/S048_128_rpk.mat  \n",
            "  inflating: /content/training_set/S049_128.mat  \n",
            "  inflating: /content/training_set/S049_128_ann.mat  \n",
            "  inflating: /content/training_set/S049_128_rpk.mat  \n",
            "  inflating: /content/training_set/S050_128.mat  \n",
            "  inflating: /content/training_set/S050_128_ann.mat  \n",
            "  inflating: /content/training_set/S050_128_rpk.mat  \n",
            "  inflating: /content/training_set/S051_128.mat  \n",
            "  inflating: /content/training_set/S051_128_ann.mat  \n",
            " extracting: /content/training_set/S051_128_rpk.mat  \n",
            "  inflating: /content/training_set/S052_128.mat  \n",
            "  inflating: /content/training_set/S052_128_ann.mat  \n",
            " extracting: /content/training_set/S052_128_rpk.mat  \n",
            "  inflating: /content/training_set/S053_128.mat  \n",
            "  inflating: /content/training_set/S053_128_ann.mat  \n",
            "  inflating: /content/training_set/S053_128_rpk.mat  \n",
            "  inflating: /content/training_set/S054_128.mat  \n",
            "  inflating: /content/training_set/S054_128_ann.mat  \n",
            "  inflating: /content/training_set/S054_128_rpk.mat  \n",
            "  inflating: /content/training_set/S055_128.mat  \n",
            "  inflating: /content/training_set/S055_128_ann.mat  \n",
            " extracting: /content/training_set/S055_128_rpk.mat  \n",
            "  inflating: /content/training_set/S056_128.mat  \n",
            "  inflating: /content/training_set/S056_128_ann.mat  \n",
            " extracting: /content/training_set/S056_128_rpk.mat  \n",
            "  inflating: /content/training_set/S057_128.mat  \n",
            "  inflating: /content/training_set/S057_128_ann.mat  \n",
            "  inflating: /content/training_set/S057_128_rpk.mat  \n",
            "  inflating: /content/training_set/S058_128.mat  \n",
            "  inflating: /content/training_set/S058_128_ann.mat  \n",
            "  inflating: /content/training_set/S058_128_rpk.mat  \n",
            "  inflating: /content/training_set/S059_128.mat  \n",
            "  inflating: /content/training_set/S059_128_ann.mat  \n",
            " extracting: /content/training_set/S059_128_rpk.mat  \n",
            "  inflating: /content/training_set/S060_128.mat  \n",
            "  inflating: /content/training_set/S060_128_ann.mat  \n",
            " extracting: /content/training_set/S060_128_rpk.mat  \n",
            "  inflating: /content/training_set/S061_128.mat  \n",
            "  inflating: /content/training_set/S061_128_ann.mat  \n",
            "  inflating: /content/training_set/S061_128_rpk.mat  \n",
            "  inflating: /content/training_set/S062_128.mat  \n",
            "  inflating: /content/training_set/S062_128_ann.mat  \n",
            "  inflating: /content/training_set/S062_128_rpk.mat  \n",
            "  inflating: /content/training_set/S063_128.mat  \n",
            "  inflating: /content/training_set/S063_128_ann.mat  \n",
            " extracting: /content/training_set/S063_128_rpk.mat  \n",
            "  inflating: /content/training_set/S064_128.mat  \n",
            "  inflating: /content/training_set/S064_128_ann.mat  \n",
            "  inflating: /content/training_set/S064_128_rpk.mat  \n",
            "  inflating: /content/training_set/S065_128.mat  \n",
            "  inflating: /content/training_set/S065_128_ann.mat  \n",
            "  inflating: /content/training_set/S065_128_rpk.mat  \n",
            "  inflating: /content/training_set/S079_250.mat  \n",
            "  inflating: /content/training_set/S079_250_ann.mat  \n",
            "  inflating: /content/training_set/S079_250_rpk.mat  \n",
            "  inflating: /content/training_set/S080_250.mat  \n",
            "  inflating: /content/training_set/S080_250_ann.mat  \n",
            "  inflating: /content/training_set/S080_250_rpk.mat  \n",
            "  inflating: /content/training_set/S081_250.mat  \n",
            "  inflating: /content/training_set/S081_250_ann.mat  \n",
            "  inflating: /content/training_set/S081_250_rpk.mat  \n",
            "  inflating: /content/training_set/S082_250.mat  \n",
            "  inflating: /content/training_set/S082_250_ann.mat  \n",
            "  inflating: /content/training_set/S082_250_rpk.mat  \n",
            "  inflating: /content/training_set/S083_250.mat  \n",
            "  inflating: /content/training_set/S083_250_ann.mat  \n",
            "  inflating: /content/training_set/S083_250_rpk.mat  \n",
            "  inflating: /content/training_set/S084_250.mat  \n",
            "  inflating: /content/training_set/S084_250_ann.mat  \n",
            "  inflating: /content/training_set/S084_250_rpk.mat  \n",
            "  inflating: /content/training_set/S085_250.mat  \n",
            "  inflating: /content/training_set/S085_250_ann.mat  \n",
            "  inflating: /content/training_set/S085_250_rpk.mat  \n",
            "  inflating: /content/training_set/S086_250.mat  \n",
            "  inflating: /content/training_set/S086_250_ann.mat  \n",
            "  inflating: /content/training_set/S086_250_rpk.mat  \n",
            "  inflating: /content/training_set/S087_250.mat  \n",
            "  inflating: /content/training_set/S087_250_ann.mat  \n",
            "  inflating: /content/training_set/S087_250_rpk.mat  \n",
            "  inflating: /content/training_set/S088_250.mat  \n",
            "  inflating: /content/training_set/S088_250_ann.mat  \n",
            "  inflating: /content/training_set/S088_250_rpk.mat  \n",
            "  inflating: /content/training_set/S089_250.mat  \n",
            "  inflating: /content/training_set/S089_250_ann.mat  \n",
            "  inflating: /content/training_set/S089_250_rpk.mat  \n",
            "  inflating: /content/training_set/S090_250.mat  \n",
            "  inflating: /content/training_set/S090_250_ann.mat  \n",
            "  inflating: /content/training_set/S090_250_rpk.mat  \n",
            "  inflating: /content/training_set/S091_250.mat  \n",
            "  inflating: /content/training_set/S091_250_ann.mat  \n",
            "  inflating: /content/training_set/S091_250_rpk.mat  \n",
            "  inflating: /content/training_set/S092_250.mat  \n",
            "  inflating: /content/training_set/S092_250_ann.mat  \n",
            "  inflating: /content/training_set/S092_250_rpk.mat  \n",
            "  inflating: /content/training_set/S093_250.mat  \n",
            "  inflating: /content/training_set/S093_250_ann.mat  \n",
            "  inflating: /content/training_set/S093_250_rpk.mat  \n",
            "  inflating: /content/training_set/S094_250.mat  \n",
            "  inflating: /content/training_set/S094_250_ann.mat  \n",
            "  inflating: /content/training_set/S094_250_rpk.mat  \n",
            "  inflating: /content/training_set/S095_250.mat  \n",
            "  inflating: /content/training_set/S095_250_ann.mat  \n",
            "  inflating: /content/training_set/S095_250_rpk.mat  \n",
            "  inflating: /content/training_set/S096_250.mat  \n",
            "  inflating: /content/training_set/S096_250_ann.mat  \n",
            "  inflating: /content/training_set/S096_250_rpk.mat  \n",
            "  inflating: /content/training_set/S097_250.mat  \n",
            "  inflating: /content/training_set/S097_250_ann.mat  \n",
            "  inflating: /content/training_set/S097_250_rpk.mat  \n",
            "  inflating: /content/training_set/S098_250.mat  \n",
            "  inflating: /content/training_set/S098_250_ann.mat  \n",
            " extracting: /content/training_set/S098_250_rpk.mat  \n",
            "  inflating: /content/training_set/S099_250.mat  \n",
            "  inflating: /content/training_set/S099_250_ann.mat  \n",
            "  inflating: /content/training_set/S099_250_rpk.mat  \n",
            "  inflating: /content/training_set/S100_250.mat  \n",
            "  inflating: /content/training_set/S100_250_ann.mat  \n",
            "  inflating: /content/training_set/S100_250_rpk.mat  \n",
            "  inflating: /content/training_set/S101_250.mat  \n",
            "  inflating: /content/training_set/S101_250_ann.mat  \n",
            "  inflating: /content/training_set/S101_250_rpk.mat  \n",
            "  inflating: /content/training_set/S102_250.mat  \n",
            "  inflating: /content/training_set/S102_250_ann.mat  \n",
            "  inflating: /content/training_set/S102_250_rpk.mat  \n",
            "  inflating: /content/training_set/S103_250.mat  \n",
            "  inflating: /content/training_set/S103_250_ann.mat  \n",
            "  inflating: /content/training_set/S103_250_rpk.mat  \n",
            "  inflating: /content/training_set/S104_250.mat  \n",
            "  inflating: /content/training_set/S104_250_ann.mat  \n",
            "  inflating: /content/training_set/S104_250_rpk.mat  \n",
            "  inflating: /content/training_set/S105_250.mat  \n",
            "  inflating: /content/training_set/S105_250_ann.mat  \n",
            " extracting: /content/training_set/S105_250_rpk.mat  \n",
            "  inflating: /content/training_set/S106_250.mat  \n",
            "  inflating: /content/training_set/S106_250_ann.mat  \n",
            " extracting: /content/training_set/S106_250_rpk.mat  \n",
            "  inflating: /content/training_set/S107_250.mat  \n",
            "  inflating: /content/training_set/S107_250_ann.mat  \n",
            "  inflating: /content/training_set/S107_250_rpk.mat  \n",
            "  inflating: /content/training_set/S108_250.mat  \n",
            "  inflating: /content/training_set/S108_250_ann.mat  \n",
            "  inflating: /content/training_set/S108_250_rpk.mat  \n",
            "  inflating: /content/training_set/S109_250.mat  \n",
            "  inflating: /content/training_set/S109_250_ann.mat  \n",
            "  inflating: /content/training_set/S109_250_rpk.mat  \n",
            "  inflating: /content/training_set/S110_250.mat  \n",
            "  inflating: /content/training_set/S110_250_ann.mat  \n",
            "  inflating: /content/training_set/S110_250_rpk.mat  \n",
            "  inflating: /content/training_set/S111_250.mat  \n",
            "  inflating: /content/training_set/S111_250_ann.mat  \n",
            "  inflating: /content/training_set/S111_250_rpk.mat  \n",
            "  inflating: /content/training_set/S112_250.mat  \n",
            "  inflating: /content/training_set/S112_250_ann.mat  \n",
            "  inflating: /content/training_set/S112_250_rpk.mat  \n",
            "  inflating: /content/training_set/S113_250.mat  \n",
            "  inflating: /content/training_set/S113_250_ann.mat  \n",
            "  inflating: /content/training_set/S113_250_rpk.mat  \n",
            "  inflating: /content/training_set/S114_250.mat  \n",
            "  inflating: /content/training_set/S114_250_ann.mat  \n",
            "  inflating: /content/training_set/S114_250_rpk.mat  \n",
            "  inflating: /content/training_set/S115_250.mat  \n",
            "  inflating: /content/training_set/S115_250_ann.mat  \n",
            "  inflating: /content/training_set/S115_250_rpk.mat  \n",
            "  inflating: /content/training_set/S116_250.mat  \n",
            "  inflating: /content/training_set/S116_250_ann.mat  \n",
            "  inflating: /content/training_set/S116_250_rpk.mat  \n",
            "  inflating: /content/training_set/S117_250.mat  \n",
            "  inflating: /content/training_set/S117_250_ann.mat  \n",
            " extracting: /content/training_set/S117_250_rpk.mat  \n",
            "  inflating: /content/training_set/S118_250.mat  \n",
            "  inflating: /content/training_set/S118_250_ann.mat  \n",
            "  inflating: /content/training_set/S118_250_rpk.mat  \n"
          ]
        }
      ]
    },
    {
      "cell_type": "code",
      "source": [
        "import numpy as np\n",
        "import neurokit2 as nk\n",
        "import pandas as pd\n",
        "import math"
      ],
      "metadata": {
        "id": "ZvXOnwN7CiSH"
      },
      "execution_count": 118,
      "outputs": []
    },
    {
      "cell_type": "code",
      "source": [
        "from scipy.io import loadmat\n",
        "import numpy as np, os, sys, joblib\n",
        "\n",
        "ecg = np.asarray(loadmat('/content/training_set/S001_128.mat')['ecg'], dtype=np.float64)\n",
        "sampling=128\n",
        "ecg.shape"
      ],
      "metadata": {
        "colab": {
          "base_uri": "https://localhost:8080/"
        },
        "id": "SMhZjmlkDGOa",
        "outputId": "132c2756-7e29-4668-baec-d33da6dea0d6"
      },
      "execution_count": 61,
      "outputs": [
        {
          "output_type": "execute_result",
          "data": {
            "text/plain": [
              "(230400, 2)"
            ]
          },
          "metadata": {},
          "execution_count": 61
        }
      ]
    },
    {
      "cell_type": "code",
      "source": [
        "import matplotlib.pyplot as plt\n",
        "ecg_= np.arange(0, ecg.shape[0]/sampling, 1/sampling)\n",
        "plt.plot(ecg_, ecg[:,0])"
      ],
      "metadata": {
        "colab": {
          "base_uri": "https://localhost:8080/",
          "height": 282
        },
        "id": "YiQKN_iEFl1h",
        "outputId": "d0da5691-362d-488b-eac8-14ef3fe5d696"
      },
      "execution_count": 93,
      "outputs": [
        {
          "output_type": "execute_result",
          "data": {
            "text/plain": [
              "[<matplotlib.lines.Line2D at 0x7fce2450fad0>]"
            ]
          },
          "metadata": {},
          "execution_count": 93
        },
        {
          "output_type": "display_data",
          "data": {
            "image/png": "[encoded data removed]",
            "text/plain": [
              "<Figure size 432x288 with 1 Axes>"
            ]
          },
          "metadata": {
            "needs_background": "light"
          }
        }
      ]
    },
    {
      "cell_type": "code",
      "source": [
        "#clean ecg\n",
        "\n",
        "ecg_signal = nk.ecg_clean(ecg[:,0], sampling_rate=sampling, method='neurokit2')\n",
        "\n",
        "plt.plot(ecg_, ecg_signal)"
      ],
      "metadata": {
        "colab": {
          "base_uri": "https://localhost:8080/",
          "height": 282
        },
        "id": "KBNJkd_ID34z",
        "outputId": "ff7834d7-c5f5-4b59-a672-ae0679965a52"
      },
      "execution_count": 222,
      "outputs": [
        {
          "output_type": "execute_result",
          "data": {
            "text/plain": [
              "[<matplotlib.lines.Line2D at 0x7fce24636f90>]"
            ]
          },
          "metadata": {},
          "execution_count": 222
        },
        {
          "output_type": "display_data",
          "data": {
            "image/png": "[encoded data removed]",
            "text/plain": [
              "<Figure size 432x288 with 1 Axes>"
            ]
          },
          "metadata": {
            "needs_background": "light"
          }
        }
      ]
    },
    {
      "cell_type": "code",
      "source": [
        "_,rpeaks = nk.ecg_peaks(ecg_signal, sampling_rate=sampling)\n",
        "_, waves_peak = nk.ecg_delineate(ecg_signal, rpeaks, sampling_rate=sampling, method=\"dwt\")"
      ],
      "metadata": {
        "id": "ghuraNLmDaSE"
      },
      "execution_count": 240,
      "outputs": []
    },
    {
      "cell_type": "code",
      "source": [
        "rpeaks"
      ],
      "metadata": {
        "colab": {
          "base_uri": "https://localhost:8080/"
        },
        "id": "cibt9P8_IeL3",
        "outputId": "8c91bf11-5502-489c-c5c6-8d57592cc741"
      },
      "execution_count": 241,
      "outputs": [
        {
          "output_type": "execute_result",
          "data": {
            "text/plain": [
              "{'ECG_R_Peaks': array([   108,    189,    269, ..., 230182, 230259, 230335]),\n",
              " 'sampling_rate': 128}"
            ]
          },
          "metadata": {},
          "execution_count": 241
        }
      ]
    },
    {
      "cell_type": "code",
      "source": [
        "waves_peak.keys()"
      ],
      "metadata": {
        "colab": {
          "base_uri": "https://localhost:8080/"
        },
        "id": "DEcsAkieSXmc",
        "outputId": "2c42bcb8-d6ad-40c8-8104-b1b39f993ebe"
      },
      "execution_count": 242,
      "outputs": [
        {
          "output_type": "execute_result",
          "data": {
            "text/plain": [
              "dict_keys(['ECG_P_Peaks', 'ECG_P_Onsets', 'ECG_P_Offsets', 'ECG_Q_Peaks', 'ECG_R_Onsets', 'ECG_R_Offsets', 'ECG_S_Peaks', 'ECG_T_Peaks', 'ECG_T_Onsets', 'ECG_T_Offsets'])"
            ]
          },
          "metadata": {},
          "execution_count": 242
        }
      ]
    },
    {
      "cell_type": "code",
      "source": [
        "#drop null values\n",
        "for key in waves_peak.keys():\n",
        " waves_peak[key] = [w for w in waves_peak[key] if math.isnan(w) == False]"
      ],
      "metadata": {
        "id": "6xiHFT1mQuMG"
      },
      "execution_count": 243,
      "outputs": []
    },
    {
      "cell_type": "code",
      "source": [
        "#create waves_peak in time domain in order to plot the value in the time domain\n",
        "waves_peak_td = dict()\n",
        "waves_peak_td['ECG_P_Peaks'] = [w / sampling for w in waves_peak['ECG_P_Peaks'] ]\n",
        "waves_peak_td['ECG_Q_Peaks'] = [w / sampling for w in waves_peak['ECG_Q_Peaks'] ]\n",
        "waves_peak_td['ECG_T_Peaks'] = [w / sampling for w in waves_peak['ECG_T_Peaks'] ]\n",
        "waves_peak_td['ECG_R_Onsets'] = [w / sampling for w in waves_peak['ECG_R_Onsets'] ]\n",
        "waves_peak_td['ECG_P_Onsets'] = [w / sampling for w in waves_peak['ECG_P_Onsets'] ]\n",
        "waves_peak_td['ECG_T_Offsets'] = [w / sampling for w in waves_peak['ECG_T_Offsets'] ]"
      ],
      "metadata": {
        "id": "3I59TQx-am-q"
      },
      "execution_count": 244,
      "outputs": []
    },
    {
      "cell_type": "code",
      "source": [
        "plt.plot(ecg_, ecg_signal)\n",
        "plt.scatter(rpeaks['ECG_R_Peaks']/sampling, ecg_signal[rpeaks['ECG_R_Peaks']])\n",
        "plt.scatter(waves_peak_td['ECG_P_Peaks'], ecg_signal[waves_peak['ECG_P_Peaks']])\n",
        "plt.scatter(waves_peak_td['ECG_Q_Peaks'], ecg_signal[waves_peak['ECG_Q_Peaks']])\n",
        "plt.scatter(waves_peak_td['ECG_T_Peaks'], ecg_signal[waves_peak['ECG_T_Peaks']])\n",
        "\n",
        "plt.xlim(0,3)\n",
        "plt.ylim(-1,3)"
      ],
      "metadata": {
        "colab": {
          "base_uri": "https://localhost:8080/",
          "height": 286
        },
        "id": "EvWsizcBH2Xb",
        "outputId": "0845e00b-c9bb-4df4-a524-89e07ff2459f"
      },
      "execution_count": 251,
      "outputs": [
        {
          "output_type": "execute_result",
          "data": {
            "text/plain": [
              "(-1.0, 3.0)"
            ]
          },
          "metadata": {},
          "execution_count": 251
        },
        {
          "output_type": "display_data",
          "data": {
            "image/png": "[encoded data removed]",
            "text/plain": [
              "<Figure size 432x288 with 1 Axes>"
            ]
          },
          "metadata": {
            "needs_background": "light"
          }
        }
      ]
    },
    {
      "cell_type": "code",
      "source": [
        "#Metrics of the first beat showed in the ECG\n",
        "PR = waves_peak_td['ECG_R_Onsets'][0] - waves_peak_td['ECG_P_Onsets'][0] \n",
        "QR = waves_peak_td['ECG_T_Offsets'][0] - waves_peak_td['ECG_R_Onsets'][0]\n",
        "\n",
        "print(\"PR interval is \", PR, \"seconds long\" )\n",
        "print(\"QR interval is \", QR, \"seconds long\")"
      ],
      "metadata": {
        "colab": {
          "base_uri": "https://localhost:8080/"
        },
        "id": "I-uT0lVlTe9V",
        "outputId": "73109474-f50f-451a-95a1-92f8dfc31fd9"
      },
      "execution_count": 250,
      "outputs": [
        {
          "output_type": "stream",
          "name": "stdout",
          "text": [
            "PR interval is  0.140625 seconds long\n",
            "QR interval is  0.3359375 seconds long\n"
          ]
        }
      ]
    }
  ]
}