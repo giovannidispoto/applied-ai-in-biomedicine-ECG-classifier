{
  "nbformat": 4,
  "nbformat_minor": 0,
  "metadata": {
    "colab": {
      "name": "Data_Loading_and_Exploration.ipynb",
      "provenance": [],
      "collapsed_sections": []
    },
    "kernelspec": {
      "name": "python3",
      "display_name": "Python 3"
    },
    "language_info": {
      "name": "python"
    }
  },
  "cells": [
    {
      "cell_type": "code",
      "source": [
        "!pip install tqdm"
      ],
      "metadata": {
        "colab": {
          "base_uri": "https://localhost:8080/"
        },
        "id": "yCexf-T5VufJ",
        "outputId": "e7aeb778-60a2-433d-81f9-330de9c6a053"
      },
      "execution_count": null,
      "outputs": [
        {
          "output_type": "stream",
          "name": "stdout",
          "text": [
            "Requirement already satisfied: tqdm in /usr/local/lib/python3.7/dist-packages (4.62.3)\n"
          ]
        }
      ]
    },
    {
      "cell_type": "code",
      "execution_count": null,
      "metadata": {
        "colab": {
          "base_uri": "https://localhost:8080/"
        },
        "id": "IKWCc9_G2Jip",
        "outputId": "61fbf89e-ef91-424d-d97c-05cab8d357d1"
      },
      "outputs": [
        {
          "output_type": "stream",
          "name": "stdout",
          "text": [
            "Drive already mounted at /content/drive; to attempt to forcibly remount, call drive.mount(\"/content/drive\", force_remount=True).\n"
          ]
        }
      ],
      "source": [
        "from google.colab import drive\n",
        "drive.mount('/content/drive')"
      ]
    },
    {
      "cell_type": "code",
      "source": [
        "!unzip /content/drive/MyDrive/AppliedAIinBiomedicine/final-assignment/training_set.zip -d /content/training_set"
      ],
      "metadata": {
        "colab": {
          "base_uri": "https://localhost:8080/"
        },
        "id": "MVrrhrfh350d",
        "outputId": "48dd31d3-9b73-4a7d-93cb-2f085cdcad10"
      },
      "execution_count": null,
      "outputs": [
        {
          "output_type": "stream",
          "name": "stdout",
          "text": [
            "Archive:  /content/drive/MyDrive/AppliedAIinBiomedicine/final-assignment/training_set.zip\n",
            "replace /content/training_set/S001_128.mat? [y]es, [n]o, [A]ll, [N]one, [r]ename: N\n"
          ]
        }
      ]
    },
    {
      "cell_type": "code",
      "source": [
        "input_dir = \"/content/training_set\""
      ],
      "metadata": {
        "id": "YpYC7pQK258p"
      },
      "execution_count": null,
      "outputs": []
    },
    {
      "cell_type": "code",
      "source": [
        "import os\n",
        "\n",
        "# list the data present in the dataset\n",
        "os.listdir(input_dir)"
      ],
      "metadata": {
        "colab": {
          "base_uri": "https://localhost:8080/"
        },
        "id": "eCpQplyKMNYe",
        "outputId": "c5da836c-f7a6-4e58-9cec-e9d8386ec334"
      },
      "execution_count": null,
      "outputs": [
        {
          "output_type": "execute_result",
          "data": {
            "text/plain": [
              "['S027_128_rpk.mat',\n",
              " 'S031_128.mat',\n",
              " 'S107_250_ann.mat',\n",
              " 'S050_128_ann.mat',\n",
              " 'S115_250.mat',\n",
              " 'S046_128_ann.mat',\n",
              " 'S098_250_rpk.mat',\n",
              " 'S060_128_ann.mat',\n",
              " 'S056_128.mat',\n",
              " 'S009_128_ann.mat',\n",
              " 'S108_250_rpk.mat',\n",
              " 'S006_128_ann.mat',\n",
              " 'S017_128_ann.mat',\n",
              " 'S098_250_ann.mat',\n",
              " 'S100_250_ann.mat',\n",
              " 'S093_250.mat',\n",
              " 'S054_128_ann.mat',\n",
              " 'S079_250.mat',\n",
              " 'S101_250_rpk.mat',\n",
              " 'S052_128_rpk.mat',\n",
              " 'S033_128.mat',\n",
              " 'S106_250_ann.mat',\n",
              " 'S048_128_rpk.mat',\n",
              " 'S025_128.mat',\n",
              " 'S063_128_ann.mat',\n",
              " 'S114_250_ann.mat',\n",
              " 'S020_128.mat',\n",
              " 'S043_128_rpk.mat',\n",
              " 'S110_250.mat',\n",
              " 'S024_128.mat',\n",
              " 'S087_250.mat',\n",
              " 'S105_250_rpk.mat',\n",
              " 'S109_250.mat',\n",
              " 'S115_250_rpk.mat',\n",
              " 'S055_128_rpk.mat',\n",
              " 'S049_128_ann.mat',\n",
              " 'S096_250.mat',\n",
              " 'S054_128.mat',\n",
              " 'S112_250.mat',\n",
              " 'S012_128.mat',\n",
              " 'S009_128_rpk.mat',\n",
              " 'S113_250_ann.mat',\n",
              " 'S061_128.mat',\n",
              " 'S111_250_rpk.mat',\n",
              " 'S085_250_rpk.mat',\n",
              " 'S081_250.mat',\n",
              " 'S013_128_ann.mat',\n",
              " 'S094_250.mat',\n",
              " 'S100_250.mat',\n",
              " 'S052_128.mat',\n",
              " 'S088_250.mat',\n",
              " 'S109_250_ann.mat',\n",
              " 'S043_128_ann.mat',\n",
              " 'S001_128.mat',\n",
              " 'S064_128_ann.mat',\n",
              " 'S063_128_rpk.mat',\n",
              " 'S091_250_ann.mat',\n",
              " 'S013_128.mat',\n",
              " 'S051_128_ann.mat',\n",
              " 'S054_128_rpk.mat',\n",
              " 'S015_128_rpk.mat',\n",
              " 'S048_128.mat',\n",
              " 'S034_128.mat',\n",
              " 'S039_128.mat',\n",
              " 'S111_250.mat',\n",
              " 'S112_250_ann.mat',\n",
              " 'S040_128_ann.mat',\n",
              " 'S038_128_ann.mat',\n",
              " 'S095_250.mat',\n",
              " 'S098_250.mat',\n",
              " 'S079_250_rpk.mat',\n",
              " 'S089_250_rpk.mat',\n",
              " 'S005_128_ann.mat',\n",
              " 'S026_128.mat',\n",
              " 'S103_250_rpk.mat',\n",
              " 'S006_128_rpk.mat',\n",
              " 'S105_250.mat',\n",
              " 'S082_250_rpk.mat',\n",
              " 'S062_128_rpk.mat',\n",
              " 'S029_128.mat',\n",
              " 'S014_128_rpk.mat',\n",
              " 'S051_128.mat',\n",
              " 'S001_128_ann.mat',\n",
              " 'S104_250_rpk.mat',\n",
              " 'S089_250_ann.mat',\n",
              " 'S080_250_rpk.mat',\n",
              " 'S022_128_rpk.mat',\n",
              " 'S106_250_rpk.mat',\n",
              " 'S095_250_ann.mat',\n",
              " 'S030_128_ann.mat',\n",
              " 'S102_250_ann.mat',\n",
              " 'S100_250_rpk.mat',\n",
              " 'S027_128.mat',\n",
              " 'S029_128_ann.mat',\n",
              " 'S102_250.mat',\n",
              " 'S097_250.mat',\n",
              " 'S044_128.mat',\n",
              " 'S080_250.mat',\n",
              " 'S114_250.mat',\n",
              " 'S008_128.mat',\n",
              " 'S081_250_ann.mat',\n",
              " 'S052_128_ann.mat',\n",
              " 'S064_128_rpk.mat',\n",
              " 'S022_128_ann.mat',\n",
              " 'S020_128_ann.mat',\n",
              " 'S032_128_ann.mat',\n",
              " 'S093_250_rpk.mat',\n",
              " 'S023_128_ann.mat',\n",
              " 'S019_128.mat',\n",
              " 'S083_250_rpk.mat',\n",
              " 'S044_128_ann.mat',\n",
              " 'S099_250_rpk.mat',\n",
              " 'S011_128_ann.mat',\n",
              " 'S004_128.mat',\n",
              " 'S036_128_ann.mat',\n",
              " 'S007_128_ann.mat',\n",
              " 'S091_250.mat',\n",
              " 'S036_128_rpk.mat',\n",
              " 'S081_250_rpk.mat',\n",
              " 'S005_128_rpk.mat',\n",
              " 'S036_128.mat',\n",
              " 'S024_128_ann.mat',\n",
              " 'S065_128.mat',\n",
              " 'S085_250_ann.mat',\n",
              " 'S097_250_rpk.mat',\n",
              " 'S019_128_rpk.mat',\n",
              " 'S026_128_ann.mat',\n",
              " 'S103_250.mat',\n",
              " 'S084_250_rpk.mat',\n",
              " 'S045_128_ann.mat',\n",
              " 'S090_250.mat',\n",
              " 'S113_250_rpk.mat',\n",
              " 'S091_250_rpk.mat',\n",
              " 'S016_128.mat',\n",
              " 'S018_128_ann.mat',\n",
              " 'S029_128_rpk.mat',\n",
              " 'S116_250_rpk.mat',\n",
              " 'S115_250_ann.mat',\n",
              " 'S032_128.mat',\n",
              " 'S089_250.mat',\n",
              " 'S117_250_ann.mat',\n",
              " 'S002_128_rpk.mat',\n",
              " 'S024_128_rpk.mat',\n",
              " 'S016_128_rpk.mat',\n",
              " 'S013_128_rpk.mat',\n",
              " 'S108_250.mat',\n",
              " 'S022_128.mat',\n",
              " 'S032_128_rpk.mat',\n",
              " 'S105_250_ann.mat',\n",
              " 'S020_128_rpk.mat',\n",
              " 'S083_250_ann.mat',\n",
              " 'S031_128_ann.mat',\n",
              " 'S092_250.mat',\n",
              " 'S109_250_rpk.mat',\n",
              " 'S084_250_ann.mat',\n",
              " 'S033_128_ann.mat',\n",
              " 'S037_128_rpk.mat',\n",
              " 'S034_128_rpk.mat',\n",
              " 'S018_128_rpk.mat',\n",
              " 'S104_250.mat',\n",
              " 'S014_128.mat',\n",
              " 'S026_128_rpk.mat',\n",
              " 'S063_128.mat',\n",
              " 'S045_128.mat',\n",
              " 'S037_128_ann.mat',\n",
              " 'S037_128.mat',\n",
              " 'S007_128_rpk.mat',\n",
              " 'S101_250.mat',\n",
              " 'S003_128_ann.mat',\n",
              " 'S079_250_ann.mat',\n",
              " 'S058_128_rpk.mat',\n",
              " 'S042_128_ann.mat',\n",
              " 'S021_128.mat',\n",
              " 'S101_250_ann.mat',\n",
              " 'S021_128_ann.mat',\n",
              " 'S065_128_ann.mat',\n",
              " 'S038_128_rpk.mat',\n",
              " 'S025_128_ann.mat',\n",
              " 'S110_250_rpk.mat',\n",
              " 'S058_128.mat',\n",
              " 'S083_250.mat',\n",
              " 'S043_128.mat',\n",
              " 'S019_128_ann.mat',\n",
              " 'S011_128_rpk.mat',\n",
              " 'S096_250_rpk.mat',\n",
              " 'S033_128_rpk.mat',\n",
              " 'S056_128_ann.mat',\n",
              " 'S049_128.mat',\n",
              " 'S002_128_ann.mat',\n",
              " 'S107_250_rpk.mat',\n",
              " 'S028_128_ann.mat',\n",
              " 'S023_128_rpk.mat',\n",
              " 'S006_128.mat',\n",
              " 'S046_128_rpk.mat',\n",
              " 'S047_128_rpk.mat',\n",
              " 'S050_128.mat',\n",
              " 'S046_128.mat',\n",
              " 'S057_128_rpk.mat',\n",
              " 'S031_128_rpk.mat',\n",
              " 'S004_128_rpk.mat',\n",
              " 'S015_128.mat',\n",
              " 'S096_250_ann.mat',\n",
              " 'S039_128_rpk.mat',\n",
              " 'S012_128_ann.mat',\n",
              " 'S008_128_ann.mat',\n",
              " 'S099_250_ann.mat',\n",
              " 'S010_128_rpk.mat',\n",
              " 'S042_128_rpk.mat',\n",
              " 'S099_250.mat',\n",
              " 'S005_128.mat',\n",
              " 'S055_128_ann.mat',\n",
              " 'S047_128.mat',\n",
              " 'S050_128_rpk.mat',\n",
              " 'S025_128_rpk.mat',\n",
              " 'S086_250.mat',\n",
              " 'S007_128.mat',\n",
              " 'S082_250.mat',\n",
              " 'S035_128_ann.mat',\n",
              " 'S030_128_rpk.mat',\n",
              " 'S103_250_ann.mat',\n",
              " 'S117_250_rpk.mat',\n",
              " 'S038_128.mat',\n",
              " 'S059_128.mat',\n",
              " 'S012_128_rpk.mat',\n",
              " 'S102_250_rpk.mat',\n",
              " 'S094_250_ann.mat',\n",
              " 'S088_250_rpk.mat',\n",
              " 'S008_128_rpk.mat',\n",
              " 'S035_128_rpk.mat',\n",
              " 'S040_128_rpk.mat',\n",
              " 'S034_128_ann.mat',\n",
              " 'S058_128_ann.mat',\n",
              " 'S041_128.mat',\n",
              " 'S116_250_ann.mat',\n",
              " 'S017_128_rpk.mat',\n",
              " 'S116_250.mat',\n",
              " 'S041_128_rpk.mat',\n",
              " 'S040_128.mat',\n",
              " 'S086_250_ann.mat',\n",
              " 'S061_128_ann.mat',\n",
              " 'S001_128_rpk.mat',\n",
              " 'S028_128.mat',\n",
              " 'S010_128_ann.mat',\n",
              " 'S028_128_rpk.mat',\n",
              " 'S035_128.mat',\n",
              " 'S118_250_rpk.mat',\n",
              " 'S017_128.mat',\n",
              " 'S107_250.mat',\n",
              " 'S059_128_rpk.mat',\n",
              " 'S118_250_ann.mat',\n",
              " 'S112_250_rpk.mat',\n",
              " 'S047_128_ann.mat',\n",
              " 'S114_250_rpk.mat',\n",
              " 'S023_128.mat',\n",
              " 'S065_128_rpk.mat',\n",
              " 'S087_250_rpk.mat',\n",
              " 'S090_250_rpk.mat',\n",
              " 'S097_250_ann.mat',\n",
              " 'S002_128.mat',\n",
              " 'S082_250_ann.mat',\n",
              " 'S059_128_ann.mat',\n",
              " 'S057_128.mat',\n",
              " 'S090_250_ann.mat',\n",
              " 'S011_128.mat',\n",
              " 'S053_128_ann.mat',\n",
              " 'S062_128.mat',\n",
              " 'S016_128_ann.mat',\n",
              " 'S095_250_rpk.mat',\n",
              " 'S060_128.mat',\n",
              " 'S018_128.mat',\n",
              " 'S086_250_rpk.mat',\n",
              " 'S021_128_rpk.mat',\n",
              " 'S045_128_rpk.mat',\n",
              " 'S053_128_rpk.mat',\n",
              " 'S106_250.mat',\n",
              " 'S053_128.mat',\n",
              " 'S061_128_rpk.mat',\n",
              " 'S003_128_rpk.mat',\n",
              " 'S051_128_rpk.mat',\n",
              " 'S092_250_ann.mat',\n",
              " 'S044_128_rpk.mat',\n",
              " 'S085_250.mat',\n",
              " 'S014_128_ann.mat',\n",
              " 'S041_128_ann.mat',\n",
              " 'S042_128.mat',\n",
              " 'S060_128_rpk.mat',\n",
              " 'S111_250_ann.mat',\n",
              " 'S093_250_ann.mat',\n",
              " 'S108_250_ann.mat',\n",
              " 'S104_250_ann.mat',\n",
              " 'S048_128_ann.mat',\n",
              " 'S049_128_rpk.mat',\n",
              " 'S062_128_ann.mat',\n",
              " 'S092_250_rpk.mat',\n",
              " 'S055_128.mat',\n",
              " 'S094_250_rpk.mat',\n",
              " 'S027_128_ann.mat',\n",
              " 'S009_128.mat',\n",
              " 'S110_250_ann.mat',\n",
              " 'S056_128_rpk.mat',\n",
              " 'S015_128_ann.mat',\n",
              " 'S030_128.mat',\n",
              " 'S057_128_ann.mat',\n",
              " 'S087_250_ann.mat',\n",
              " 'S004_128_ann.mat',\n",
              " 'S010_128.mat',\n",
              " 'S113_250.mat',\n",
              " 'S118_250.mat',\n",
              " 'S064_128.mat',\n",
              " 'S088_250_ann.mat',\n",
              " 'S117_250.mat',\n",
              " 'S084_250.mat',\n",
              " 'S003_128.mat',\n",
              " 'S039_128_ann.mat',\n",
              " 'S080_250_ann.mat']"
            ]
          },
          "metadata": {},
          "execution_count": 207
        }
      ]
    },
    {
      "cell_type": "markdown",
      "source": [
        "Each data sample present:\n",
        "\n",
        "*   sample.mat : 2-lead ECG signal of a patient of lenght n\n",
        "*   sample_ann.mat : contains the annotations for each R peak\n",
        "\n",
        "*   sample_rpk.mat : contains the R peak locations of the signal\n",
        "\n",
        "\n",
        "\n"
      ],
      "metadata": {
        "id": "noBFQu-DM6NT"
      }
    },
    {
      "cell_type": "markdown",
      "source": [
        "# Data loading"
      ],
      "metadata": {
        "id": "ZDQ-9RRCsZME"
      }
    },
    {
      "cell_type": "code",
      "source": [
        "# environment setup\n",
        "from scipy.io import loadmat\n",
        "import numpy as np, os, sys, joblib\n",
        "import matplotlib.pyplot as plt\n",
        "import math\n",
        "from tqdm import tqdm"
      ],
      "metadata": {
        "id": "x1TBmICsjgCT"
      },
      "execution_count": null,
      "outputs": []
    },
    {
      "cell_type": "code",
      "source": [
        "# Utility function to load data\n",
        "\n",
        "def load_data(ecg_file):\n",
        "  ecg = loadmat(ecg_file)\n",
        "  rpk_file = ecg_file.replace('.mat', '_rpk.mat')\n",
        "  rpk = loadmat(rpk_file)\n",
        "  ann_file = ecg_file.replace('.mat', '_ann.mat')\n",
        "  ann = loadmat(ann_file)\n",
        "  return ecg, rpk, ann"
      ],
      "metadata": {
        "id": "mYDPFKM5i0kk"
      },
      "execution_count": null,
      "outputs": []
    },
    {
      "cell_type": "code",
      "source": [
        "# Get the ecg file for each sample and create a list of all ecgs\n",
        "ecg_files = []\n",
        "\n",
        "for f in os.listdir(input_dir):\n",
        "  g = os.path.join(input_dir, f)\n",
        "  if ('ann' not in g) and ('rpk' not in g):\n",
        "    ecg_files.append(g)\n",
        "num_files = len(ecg_files)\n",
        "\n",
        "# Create lists that will contains each data types (ecg, labels, rpeaks) an filenames (a list which contains the original filename for each sample)\n",
        "filenames = list()\n",
        "ecgs = list()\n",
        "rpks = list()\n",
        "anns = list()\n",
        "\n",
        "for i in tqdm(range(num_files)):\n",
        "  ecg, rpk, ann = load_data(ecg_files[i])\n",
        "  ecgs.append(ecg)\n",
        "  rpks.append(rpk)\n",
        "  anns.append(ann)\n",
        "  filenames.append(ecg_files[i])\n",
        "\n",
        "\n",
        "#ecg = np.asarray(loadmat(g)['ecg'], dtype=np.float64)\n",
        "#rpk = np.asarray(loadmat(input_dir + \"/S083_250_rpk.mat\")['rpeaks'], dtype=np.float64)\n",
        "#ann = np.asarray(loadmat(input_dir + \"/S083_250_ann.mat\")['labels'])"
      ],
      "metadata": {
        "colab": {
          "base_uri": "https://localhost:8080/"
        },
        "id": "pCRhfDeDMuCD",
        "outputId": "8b7816a3-5c33-4fb0-d504-f9f6c5130e50"
      },
      "execution_count": null,
      "outputs": [
        {
          "output_type": "stream",
          "name": "stderr",
          "text": [
            "100%|██████████| 105/105 [00:04<00:00, 22.91it/s]\n"
          ]
        }
      ]
    },
    {
      "cell_type": "markdown",
      "source": [
        "# Plot label distribution"
      ],
      "metadata": {
        "id": "7FnsfHTisegL"
      }
    },
    {
      "cell_type": "code",
      "source": [
        "classes_name = ['N', 'S', 'V']"
      ],
      "metadata": {
        "id": "yZrp8Soxnwfa"
      },
      "execution_count": null,
      "outputs": []
    },
    {
      "cell_type": "code",
      "source": [
        "# list which contains all labels of each beat\n",
        "all_labels = []\n",
        "\n",
        "for sample in anns:\n",
        "  for beat in sample['labels']:\n",
        "    all_labels.append(beat)\n",
        "\n",
        "len(all_labels)\n",
        "\n",
        "# create a counts of each labels\n",
        "values, counts = np.unique(all_labels, return_counts=True)\n",
        "values, counts"
      ],
      "metadata": {
        "colab": {
          "base_uri": "https://localhost:8080/"
        },
        "id": "jDiw_WIwoggS",
        "outputId": "369eca32-e582-4d06-ec95-d4f19c651ac3"
      },
      "execution_count": null,
      "outputs": [
        {
          "output_type": "execute_result",
          "data": {
            "text/plain": [
              "(array(['N', 'S', 'V'], dtype='<U1'), array([226932,   9609,   7795]))"
            ]
          },
          "metadata": {},
          "execution_count": 212
        }
      ]
    },
    {
      "cell_type": "code",
      "source": [
        "# Plot labels distribution (of all beats of all patients)\n",
        "plt.bar(x=classes_name,height=counts, facecolor ='#85c1e9')\n",
        "plt.title(\"Classes Occurrence\", color = \"black\")\n",
        "plt.tick_params(axis=\"both\", colors = \"black\")\n",
        "plt.xlabel(\"Classes\", color = \"black\")\n",
        "plt.ylabel(\"Occurences\", color = \"black\")\n",
        "plt.xticks(rotation=90)\n",
        "plt.yticks\n",
        "plt.show()"
      ],
      "metadata": {
        "colab": {
          "base_uri": "https://localhost:8080/",
          "height": 293
        },
        "id": "5qNJBj8SlANX",
        "outputId": "3d77654a-0e79-44da-b84b-0d2de7cf61ab"
      },
      "execution_count": null,
      "outputs": [
        {
          "output_type": "display_data",
          "data": {
            "image/png": "[encoded data removed]",
            "text/plain": [
              "<Figure size 432x288 with 1 Axes>"
            ]
          },
          "metadata": {
            "needs_background": "light"
          }
        }
      ]
    },
    {
      "cell_type": "code",
      "source": [
        "!pip install neurokit2"
      ],
      "metadata": {
        "colab": {
          "base_uri": "https://localhost:8080/"
        },
        "id": "s1fiAL0ayyZu",
        "outputId": "0cab2a7f-d647-46ea-dc79-f4184047ad7f"
      },
      "execution_count": null,
      "outputs": [
        {
          "output_type": "stream",
          "name": "stdout",
          "text": [
            "Collecting neurokit2\n",
            "  Downloading neurokit2-0.1.5-py2.py3-none-any.whl (1.1 MB)\n",
            "\u001b[?25l\r\u001b[K     |▎                               | 10 kB 22.6 MB/s eta 0:00:01\r\u001b[K     |▋                               | 20 kB 29.6 MB/s eta 0:00:01\r\u001b[K     |█                               | 30 kB 15.9 MB/s eta 0:00:01\r\u001b[K     |█▏                              | 40 kB 10.8 MB/s eta 0:00:01\r\u001b[K     |█▌                              | 51 kB 5.4 MB/s eta 0:00:01\r\u001b[K     |█▉                              | 61 kB 5.4 MB/s eta 0:00:01\r\u001b[K     |██                              | 71 kB 6.0 MB/s eta 0:00:01\r\u001b[K     |██▍                             | 81 kB 6.7 MB/s eta 0:00:01\r\u001b[K     |██▊                             | 92 kB 4.9 MB/s eta 0:00:01\r\u001b[K     |███                             | 102 kB 5.3 MB/s eta 0:00:01\r\u001b[K     |███▎                            | 112 kB 5.3 MB/s eta 0:00:01\r\u001b[K     |███▋                            | 122 kB 5.3 MB/s eta 0:00:01\r\u001b[K     |███▉                            | 133 kB 5.3 MB/s eta 0:00:01\r\u001b[K     |████▏                           | 143 kB 5.3 MB/s eta 0:00:01\r\u001b[K     |████▌                           | 153 kB 5.3 MB/s eta 0:00:01\r\u001b[K     |████▉                           | 163 kB 5.3 MB/s eta 0:00:01\r\u001b[K     |█████                           | 174 kB 5.3 MB/s eta 0:00:01\r\u001b[K     |█████▍                          | 184 kB 5.3 MB/s eta 0:00:01\r\u001b[K     |█████▊                          | 194 kB 5.3 MB/s eta 0:00:01\r\u001b[K     |██████                          | 204 kB 5.3 MB/s eta 0:00:01\r\u001b[K     |██████▎                         | 215 kB 5.3 MB/s eta 0:00:01\r\u001b[K     |██████▋                         | 225 kB 5.3 MB/s eta 0:00:01\r\u001b[K     |██████▉                         | 235 kB 5.3 MB/s eta 0:00:01\r\u001b[K     |███████▏                        | 245 kB 5.3 MB/s eta 0:00:01\r\u001b[K     |███████▌                        | 256 kB 5.3 MB/s eta 0:00:01\r\u001b[K     |███████▊                        | 266 kB 5.3 MB/s eta 0:00:01\r\u001b[K     |████████                        | 276 kB 5.3 MB/s eta 0:00:01\r\u001b[K     |████████▍                       | 286 kB 5.3 MB/s eta 0:00:01\r\u001b[K     |████████▊                       | 296 kB 5.3 MB/s eta 0:00:01\r\u001b[K     |█████████                       | 307 kB 5.3 MB/s eta 0:00:01\r\u001b[K     |█████████▎                      | 317 kB 5.3 MB/s eta 0:00:01\r\u001b[K     |█████████▋                      | 327 kB 5.3 MB/s eta 0:00:01\r\u001b[K     |█████████▉                      | 337 kB 5.3 MB/s eta 0:00:01\r\u001b[K     |██████████▏                     | 348 kB 5.3 MB/s eta 0:00:01\r\u001b[K     |██████████▌                     | 358 kB 5.3 MB/s eta 0:00:01\r\u001b[K     |██████████▊                     | 368 kB 5.3 MB/s eta 0:00:01\r\u001b[K     |███████████                     | 378 kB 5.3 MB/s eta 0:00:01\r\u001b[K     |███████████▍                    | 389 kB 5.3 MB/s eta 0:00:01\r\u001b[K     |███████████▋                    | 399 kB 5.3 MB/s eta 0:00:01\r\u001b[K     |████████████                    | 409 kB 5.3 MB/s eta 0:00:01\r\u001b[K     |████████████▎                   | 419 kB 5.3 MB/s eta 0:00:01\r\u001b[K     |████████████▋                   | 430 kB 5.3 MB/s eta 0:00:01\r\u001b[K     |████████████▉                   | 440 kB 5.3 MB/s eta 0:00:01\r\u001b[K     |█████████████▏                  | 450 kB 5.3 MB/s eta 0:00:01\r\u001b[K     |█████████████▌                  | 460 kB 5.3 MB/s eta 0:00:01\r\u001b[K     |█████████████▊                  | 471 kB 5.3 MB/s eta 0:00:01\r\u001b[K     |██████████████                  | 481 kB 5.3 MB/s eta 0:00:01\r\u001b[K     |██████████████▍                 | 491 kB 5.3 MB/s eta 0:00:01\r\u001b[K     |██████████████▋                 | 501 kB 5.3 MB/s eta 0:00:01\r\u001b[K     |███████████████                 | 512 kB 5.3 MB/s eta 0:00:01\r\u001b[K     |███████████████▎                | 522 kB 5.3 MB/s eta 0:00:01\r\u001b[K     |███████████████▌                | 532 kB 5.3 MB/s eta 0:00:01\r\u001b[K     |███████████████▉                | 542 kB 5.3 MB/s eta 0:00:01\r\u001b[K     |████████████████▏               | 552 kB 5.3 MB/s eta 0:00:01\r\u001b[K     |████████████████▌               | 563 kB 5.3 MB/s eta 0:00:01\r\u001b[K     |████████████████▊               | 573 kB 5.3 MB/s eta 0:00:01\r\u001b[K     |█████████████████               | 583 kB 5.3 MB/s eta 0:00:01\r\u001b[K     |█████████████████▍              | 593 kB 5.3 MB/s eta 0:00:01\r\u001b[K     |█████████████████▋              | 604 kB 5.3 MB/s eta 0:00:01\r\u001b[K     |██████████████████              | 614 kB 5.3 MB/s eta 0:00:01\r\u001b[K     |██████████████████▎             | 624 kB 5.3 MB/s eta 0:00:01\r\u001b[K     |██████████████████▌             | 634 kB 5.3 MB/s eta 0:00:01\r\u001b[K     |██████████████████▉             | 645 kB 5.3 MB/s eta 0:00:01\r\u001b[K     |███████████████████▏            | 655 kB 5.3 MB/s eta 0:00:01\r\u001b[K     |███████████████████▍            | 665 kB 5.3 MB/s eta 0:00:01\r\u001b[K     |███████████████████▊            | 675 kB 5.3 MB/s eta 0:00:01\r\u001b[K     |████████████████████            | 686 kB 5.3 MB/s eta 0:00:01\r\u001b[K     |████████████████████▍           | 696 kB 5.3 MB/s eta 0:00:01\r\u001b[K     |████████████████████▋           | 706 kB 5.3 MB/s eta 0:00:01\r\u001b[K     |█████████████████████           | 716 kB 5.3 MB/s eta 0:00:01\r\u001b[K     |█████████████████████▎          | 727 kB 5.3 MB/s eta 0:00:01\r\u001b[K     |█████████████████████▌          | 737 kB 5.3 MB/s eta 0:00:01\r\u001b[K     |█████████████████████▉          | 747 kB 5.3 MB/s eta 0:00:01\r\u001b[K     |██████████████████████▏         | 757 kB 5.3 MB/s eta 0:00:01\r\u001b[K     |██████████████████████▍         | 768 kB 5.3 MB/s eta 0:00:01\r\u001b[K     |██████████████████████▊         | 778 kB 5.3 MB/s eta 0:00:01\r\u001b[K     |███████████████████████         | 788 kB 5.3 MB/s eta 0:00:01\r\u001b[K     |███████████████████████▎        | 798 kB 5.3 MB/s eta 0:00:01\r\u001b[K     |███████████████████████▋        | 808 kB 5.3 MB/s eta 0:00:01\r\u001b[K     |████████████████████████        | 819 kB 5.3 MB/s eta 0:00:01\r\u001b[K     |████████████████████████▏       | 829 kB 5.3 MB/s eta 0:00:01\r\u001b[K     |████████████████████████▌       | 839 kB 5.3 MB/s eta 0:00:01\r\u001b[K     |████████████████████████▉       | 849 kB 5.3 MB/s eta 0:00:01\r\u001b[K     |█████████████████████████▏      | 860 kB 5.3 MB/s eta 0:00:01\r\u001b[K     |█████████████████████████▍      | 870 kB 5.3 MB/s eta 0:00:01\r\u001b[K     |█████████████████████████▊      | 880 kB 5.3 MB/s eta 0:00:01\r\u001b[K     |██████████████████████████      | 890 kB 5.3 MB/s eta 0:00:01\r\u001b[K     |██████████████████████████▎     | 901 kB 5.3 MB/s eta 0:00:01\r\u001b[K     |██████████████████████████▋     | 911 kB 5.3 MB/s eta 0:00:01\r\u001b[K     |███████████████████████████     | 921 kB 5.3 MB/s eta 0:00:01\r\u001b[K     |███████████████████████████▏    | 931 kB 5.3 MB/s eta 0:00:01\r\u001b[K     |███████████████████████████▌    | 942 kB 5.3 MB/s eta 0:00:01\r\u001b[K     |███████████████████████████▉    | 952 kB 5.3 MB/s eta 0:00:01\r\u001b[K     |████████████████████████████    | 962 kB 5.3 MB/s eta 0:00:01\r\u001b[K     |████████████████████████████▍   | 972 kB 5.3 MB/s eta 0:00:01\r\u001b[K     |████████████████████████████▊   | 983 kB 5.3 MB/s eta 0:00:01\r\u001b[K     |█████████████████████████████   | 993 kB 5.3 MB/s eta 0:00:01\r\u001b[K     |█████████████████████████████▎  | 1.0 MB 5.3 MB/s eta 0:00:01\r\u001b[K     |█████████████████████████████▋  | 1.0 MB 5.3 MB/s eta 0:00:01\r\u001b[K     |██████████████████████████████  | 1.0 MB 5.3 MB/s eta 0:00:01\r\u001b[K     |██████████████████████████████▏ | 1.0 MB 5.3 MB/s eta 0:00:01\r\u001b[K     |██████████████████████████████▌ | 1.0 MB 5.3 MB/s eta 0:00:01\r\u001b[K     |██████████████████████████████▉ | 1.1 MB 5.3 MB/s eta 0:00:01\r\u001b[K     |███████████████████████████████ | 1.1 MB 5.3 MB/s eta 0:00:01\r\u001b[K     |███████████████████████████████▍| 1.1 MB 5.3 MB/s eta 0:00:01\r\u001b[K     |███████████████████████████████▊| 1.1 MB 5.3 MB/s eta 0:00:01\r\u001b[K     |████████████████████████████████| 1.1 MB 5.3 MB/s eta 0:00:01\r\u001b[K     |████████████████████████████████| 1.1 MB 5.3 MB/s \n",
            "\u001b[?25hRequirement already satisfied: numpy in /usr/local/lib/python3.7/dist-packages (from neurokit2) (1.19.5)\n",
            "Requirement already satisfied: pandas in /usr/local/lib/python3.7/dist-packages (from neurokit2) (1.1.5)\n",
            "Requirement already satisfied: matplotlib in /usr/local/lib/python3.7/dist-packages (from neurokit2) (3.2.2)\n",
            "Requirement already satisfied: scipy in /usr/local/lib/python3.7/dist-packages (from neurokit2) (1.4.1)\n",
            "Requirement already satisfied: scikit-learn in /usr/local/lib/python3.7/dist-packages (from neurokit2) (1.0.1)\n",
            "Requirement already satisfied: kiwisolver>=1.0.1 in /usr/local/lib/python3.7/dist-packages (from matplotlib->neurokit2) (1.3.2)\n",
            "Requirement already satisfied: python-dateutil>=2.1 in /usr/local/lib/python3.7/dist-packages (from matplotlib->neurokit2) (2.8.2)\n",
            "Requirement already satisfied: cycler>=0.10 in /usr/local/lib/python3.7/dist-packages (from matplotlib->neurokit2) (0.11.0)\n",
            "Requirement already satisfied: pyparsing!=2.0.4,!=2.1.2,!=2.1.6,>=2.0.1 in /usr/local/lib/python3.7/dist-packages (from matplotlib->neurokit2) (3.0.6)\n",
            "Requirement already satisfied: six>=1.5 in /usr/local/lib/python3.7/dist-packages (from python-dateutil>=2.1->matplotlib->neurokit2) (1.15.0)\n",
            "Requirement already satisfied: pytz>=2017.2 in /usr/local/lib/python3.7/dist-packages (from pandas->neurokit2) (2018.9)\n",
            "Requirement already satisfied: joblib>=0.11 in /usr/local/lib/python3.7/dist-packages (from scikit-learn->neurokit2) (1.1.0)\n",
            "Requirement already satisfied: threadpoolctl>=2.0.0 in /usr/local/lib/python3.7/dist-packages (from scikit-learn->neurokit2) (3.0.0)\n",
            "Installing collected packages: neurokit2\n",
            "Successfully installed neurokit2-0.1.5\n"
          ]
        }
      ]
    },
    {
      "cell_type": "code",
      "source": [
        "import neurokit2 as nk"
      ],
      "metadata": {
        "id": "_XCrmJnazI9C"
      },
      "execution_count": null,
      "outputs": []
    },
    {
      "cell_type": "code",
      "source": [
        "# Utility: given the filename of a signal it returns the sampling frequency\n",
        "def ecg_freq(filename):\n",
        "  if '128' in filename:\n",
        "    return 128\n",
        "  else:\n",
        "    return 250"
      ],
      "metadata": {
        "id": "yEwQB1Pf0tbv"
      },
      "execution_count": null,
      "outputs": []
    },
    {
      "cell_type": "code",
      "source": [
        "# Exploration over some intervals of various single-beat signal\n",
        "\n",
        "# lists that will contain PR and QR intervals\n",
        "PR_N = list()\n",
        "PR_S = list()\n",
        "PR_V = list()\n",
        "P_N = list()\n",
        "P_S = list()\n",
        "P_V = list()\n",
        "\n",
        "QR_N = list()\n",
        "QR_S = list()\n",
        "QR_V = list()\n",
        "\n",
        "# interval lists filling loop\n",
        "for i in tqdm(range(len(ecgs))):\n",
        "  # extract a sample ecg\n",
        "  ecg_sample = np.asarray(ecgs[i]['ecg'], dtype=np.float64)\n",
        "  sampling = ecg_freq(filenames[i])\n",
        "  ecg_sample_= np.arange(0, ecg_sample.shape[0]/sampling, 1/sampling)\n",
        "  #Extract peaks from traning set and their labels\n",
        "  sample_labels = anns[i]['labels']\n",
        "  sample_rpeaks = rpks[i]['rpeaks']\n",
        "\n",
        "  # clean ecg_sample\n",
        "  ecg_signal = nk.ecg_clean(ecg_sample[:,0], sampling_rate=sampling, method='neurokit2')\n",
        "\n",
        "  \n",
        "  #_,rpeaks = nk.ecg_peaks(ecg_signal, sampling_rate=sampling)\n",
        "  # Building the dictionary with the rpeaks as the function of Neurokit wants\n",
        "  rpeaks = {'ECG_R_Peaks': sample_rpeaks.flatten(), 'sampling_rate': sampling}\n",
        "  _, waves_peak = nk.ecg_delineate(ecg_signal, rpeaks, sampling_rate=sampling, method=\"dwt\")\n",
        " \n",
        "  #create waves_peak in time domain in order to plot the value in the time domain\n",
        "  waves_peak_td = dict()\n",
        "\n",
        "  #init the dictionary\n",
        "  for k in waves_peak.keys():\n",
        "    waves_peak_td[k] = list()\n",
        "\n",
        "  for k in waves_peak.keys():\n",
        "    for i in range(len(waves_peak[k])):\n",
        "      if(math.isnan(waves_peak[k][i]) == False): #if is not nan, I divide the value for the frequency\n",
        "        waves_peak_td[k].append(waves_peak[k][i] / sampling)\n",
        "      else:\n",
        "        waves_peak_td[k].append(waves_peak[k][i])  \n",
        "\n",
        "  # add to the correct interval list the invterval of each beat of the current ecg sample\n",
        "\n",
        "  for beat_index in range(len(sample_labels)):\n",
        "    if sample_labels[beat_index] == 'N':\n",
        "      try:\n",
        "        P_N.append(ecg_signal[waves_peak['ECG_P_Peaks'][beat_index]])\n",
        "      except:\n",
        "        P_N.append(math.nan)\n",
        "      try:\n",
        "        PR_N.append(sample_rpeaks[beat_index] / sampling - waves_peak_td['ECG_P_Onsets'][beat_index] )\n",
        "      except:\n",
        "        print(\"Not valid index; Adding nan\")\n",
        "        PR_N.append(math.nan)\n",
        "      try:  \n",
        "        QR_N.append(waves_peak_td['ECG_T_Offsets'][beat_index] - sample_rpeaks[beat_index] / sampling)\n",
        "      except:\n",
        "        print(\"Not valid index; Adding nan\")\n",
        "        QR_N.append(math.nan)\n",
        "    elif sample_labels[beat_index] == 'S':\n",
        "      try:\n",
        "        P_S.append(ecg_signal[waves_peak['ECG_P_Peaks'][beat_index]])\n",
        "      except:\n",
        "        P_S.append(math.nan)  \n",
        "      try:\n",
        "        PR_S.append(sample_rpeaks[beat_index] / sampling - waves_peak_td['ECG_P_Onsets'][beat_index] )\n",
        "      except:\n",
        "        print(\"Not valid index; Adding nan\")\n",
        "        PR_S.append(math.nan)\n",
        "      try:  \n",
        "        QR_S.append(waves_peak_td['ECG_T_Offsets'][beat_index] - sample_rpeaks[beat_index] / sampling)\n",
        "      except:\n",
        "        print(\"Not valid index; Adding nan\")\n",
        "        QR_S.append(math.nan)\n",
        "    else:\n",
        "      try:\n",
        "        P_V.append(ecg_signal[waves_peak['ECG_P_Peaks'][beat_index]])\n",
        "      except:\n",
        "        P_V.append(math.nan)  \n",
        "      try:\n",
        "        PR_V.append(sample_rpeaks[beat_index] / sampling - waves_peak_td['ECG_P_Onsets'][beat_index] )\n",
        "      except:\n",
        "        print(\"Not valid index; Adding nan\")\n",
        "        PR_V.append(math.nan)\n",
        "      try: \n",
        "        QR_V.append(waves_peak_td['ECG_T_Offsets'][beat_index] - sample_rpeaks[beat_index] / sampling)\n",
        "      except:\n",
        "        print(\"Not valid index; Adding nan\")\n",
        "        QR_V.append(math.nan)  "
      ],
      "metadata": {
        "colab": {
          "base_uri": "https://localhost:8080/",
          "height": 415
        },
        "id": "Ti0nrIxd6FDn",
        "outputId": "a82b7eec-6e27-421f-8ef9-5e7849280f36"
      },
      "execution_count": null,
      "outputs": [
        {
          "output_type": "stream",
          "name": "stderr",
          "text": [
            "  4%|▍         | 4/105 [02:18<58:12, 34.58s/it]\n"
          ]
        },
        {
          "output_type": "error",
          "ename": "KeyboardInterrupt",
          "evalue": "ignored",
          "traceback": [
            "\u001b[0;31m---------------------------------------------------------------------------\u001b[0m",
            "\u001b[0;31mKeyboardInterrupt\u001b[0m                         Traceback (most recent call last)",
            "\u001b[0;32m<ipython-input-215-ca7bfddb92de>\u001b[0m in \u001b[0;36m<module>\u001b[0;34m()\u001b[0m\n\u001b[1;32m     30\u001b[0m   \u001b[0;31m# Building the dictionary with the rpeaks as the function of Neurokit wants\u001b[0m\u001b[0;34m\u001b[0m\u001b[0;34m\u001b[0m\u001b[0;34m\u001b[0m\u001b[0m\n\u001b[1;32m     31\u001b[0m   \u001b[0mrpeaks\u001b[0m \u001b[0;34m=\u001b[0m \u001b[0;34m{\u001b[0m\u001b[0;34m'ECG_R_Peaks'\u001b[0m\u001b[0;34m:\u001b[0m \u001b[0msample_rpeaks\u001b[0m\u001b[0;34m.\u001b[0m\u001b[0mflatten\u001b[0m\u001b[0;34m(\u001b[0m\u001b[0;34m)\u001b[0m\u001b[0;34m,\u001b[0m \u001b[0;34m'sampling_rate'\u001b[0m\u001b[0;34m:\u001b[0m \u001b[0msampling\u001b[0m\u001b[0;34m}\u001b[0m\u001b[0;34m\u001b[0m\u001b[0;34m\u001b[0m\u001b[0m\n\u001b[0;32m---> 32\u001b[0;31m   \u001b[0m_\u001b[0m\u001b[0;34m,\u001b[0m \u001b[0mwaves_peak\u001b[0m \u001b[0;34m=\u001b[0m \u001b[0mnk\u001b[0m\u001b[0;34m.\u001b[0m\u001b[0mecg_delineate\u001b[0m\u001b[0;34m(\u001b[0m\u001b[0mecg_signal\u001b[0m\u001b[0;34m,\u001b[0m \u001b[0mrpeaks\u001b[0m\u001b[0;34m,\u001b[0m \u001b[0msampling_rate\u001b[0m\u001b[0;34m=\u001b[0m\u001b[0msampling\u001b[0m\u001b[0;34m,\u001b[0m \u001b[0mmethod\u001b[0m\u001b[0;34m=\u001b[0m\u001b[0;34m\"dwt\"\u001b[0m\u001b[0;34m)\u001b[0m\u001b[0;34m\u001b[0m\u001b[0;34m\u001b[0m\u001b[0m\n\u001b[0m\u001b[1;32m     33\u001b[0m \u001b[0;34m\u001b[0m\u001b[0m\n\u001b[1;32m     34\u001b[0m   \u001b[0;31m#create waves_peak in time domain in order to plot the value in the time domain\u001b[0m\u001b[0;34m\u001b[0m\u001b[0;34m\u001b[0m\u001b[0;34m\u001b[0m\u001b[0m\n",
            "\u001b[0;32m/usr/local/lib/python3.7/dist-packages/neurokit2/ecg/ecg_delineate.py\u001b[0m in \u001b[0;36mecg_delineate\u001b[0;34m(ecg_cleaned, rpeaks, sampling_rate, method, show, show_type, check)\u001b[0m\n\u001b[1;32m    123\u001b[0m         \u001b[0mwaves\u001b[0m \u001b[0;34m=\u001b[0m \u001b[0m_ecg_delineator_cwt\u001b[0m\u001b[0;34m(\u001b[0m\u001b[0mecg_cleaned\u001b[0m\u001b[0;34m,\u001b[0m \u001b[0mrpeaks\u001b[0m\u001b[0;34m=\u001b[0m\u001b[0mrpeaks\u001b[0m\u001b[0;34m,\u001b[0m \u001b[0msampling_rate\u001b[0m\u001b[0;34m=\u001b[0m\u001b[0msampling_rate\u001b[0m\u001b[0;34m)\u001b[0m\u001b[0;34m\u001b[0m\u001b[0;34m\u001b[0m\u001b[0m\n\u001b[1;32m    124\u001b[0m     \u001b[0;32melif\u001b[0m \u001b[0mmethod\u001b[0m \u001b[0;32min\u001b[0m \u001b[0;34m[\u001b[0m\u001b[0;34m\"dwt\"\u001b[0m\u001b[0;34m,\u001b[0m \u001b[0;34m\"discrete wavelet transform\"\u001b[0m\u001b[0;34m]\u001b[0m\u001b[0;34m:\u001b[0m\u001b[0;34m\u001b[0m\u001b[0;34m\u001b[0m\u001b[0m\n\u001b[0;32m--> 125\u001b[0;31m         \u001b[0mwaves\u001b[0m \u001b[0;34m=\u001b[0m \u001b[0m_dwt_ecg_delineator\u001b[0m\u001b[0;34m(\u001b[0m\u001b[0mecg_cleaned\u001b[0m\u001b[0;34m,\u001b[0m \u001b[0mrpeaks\u001b[0m\u001b[0;34m,\u001b[0m \u001b[0msampling_rate\u001b[0m\u001b[0;34m=\u001b[0m\u001b[0msampling_rate\u001b[0m\u001b[0;34m)\u001b[0m\u001b[0;34m\u001b[0m\u001b[0;34m\u001b[0m\u001b[0m\n\u001b[0m\u001b[1;32m    126\u001b[0m \u001b[0;34m\u001b[0m\u001b[0m\n\u001b[1;32m    127\u001b[0m     \u001b[0;32melse\u001b[0m\u001b[0;34m:\u001b[0m\u001b[0;34m\u001b[0m\u001b[0;34m\u001b[0m\u001b[0m\n",
            "\u001b[0;32m/usr/local/lib/python3.7/dist-packages/neurokit2/ecg/ecg_delineate.py\u001b[0m in \u001b[0;36m_dwt_ecg_delineator\u001b[0;34m(ecg, rpeaks, sampling_rate, analysis_sampling_rate)\u001b[0m\n\u001b[1;32m    201\u001b[0m         \u001b[0mqpeaks\u001b[0m\u001b[0;34m.\u001b[0m\u001b[0mappend\u001b[0m\u001b[0;34m(\u001b[0m\u001b[0mQ_index\u001b[0m\u001b[0;34m)\u001b[0m\u001b[0;34m\u001b[0m\u001b[0;34m\u001b[0m\u001b[0m\n\u001b[1;32m    202\u001b[0m         \u001b[0;31m# S wave\u001b[0m\u001b[0;34m\u001b[0m\u001b[0;34m\u001b[0m\u001b[0;34m\u001b[0m\u001b[0m\n\u001b[0;32m--> 203\u001b[0;31m         \u001b[0mS_index\u001b[0m\u001b[0;34m,\u001b[0m \u001b[0mS\u001b[0m \u001b[0;34m=\u001b[0m \u001b[0m_ecg_delineator_peak_S\u001b[0m\u001b[0;34m(\u001b[0m\u001b[0mrpeak\u001b[0m\u001b[0;34m,\u001b[0m \u001b[0mheartbeat\u001b[0m\u001b[0;34m)\u001b[0m\u001b[0;34m\u001b[0m\u001b[0;34m\u001b[0m\u001b[0m\n\u001b[0m\u001b[1;32m    204\u001b[0m         \u001b[0mspeaks\u001b[0m\u001b[0;34m.\u001b[0m\u001b[0mappend\u001b[0m\u001b[0;34m(\u001b[0m\u001b[0mS_index\u001b[0m\u001b[0;34m)\u001b[0m\u001b[0;34m\u001b[0m\u001b[0;34m\u001b[0m\u001b[0m\n\u001b[1;32m    205\u001b[0m \u001b[0;34m\u001b[0m\u001b[0m\n",
            "\u001b[0;32m/usr/local/lib/python3.7/dist-packages/neurokit2/ecg/ecg_delineate.py\u001b[0m in \u001b[0;36m_ecg_delineator_peak_S\u001b[0;34m(rpeak, heartbeat)\u001b[0m\n\u001b[1;32m    853\u001b[0m \u001b[0;32mdef\u001b[0m \u001b[0m_ecg_delineator_peak_S\u001b[0m\u001b[0;34m(\u001b[0m\u001b[0mrpeak\u001b[0m\u001b[0;34m,\u001b[0m \u001b[0mheartbeat\u001b[0m\u001b[0;34m)\u001b[0m\u001b[0;34m:\u001b[0m\u001b[0;34m\u001b[0m\u001b[0;34m\u001b[0m\u001b[0m\n\u001b[1;32m    854\u001b[0m     \u001b[0msegment\u001b[0m \u001b[0;34m=\u001b[0m \u001b[0mheartbeat\u001b[0m\u001b[0;34m[\u001b[0m\u001b[0;36m0\u001b[0m\u001b[0;34m:\u001b[0m\u001b[0;34m]\u001b[0m  \u001b[0;31m# Select right hand side\u001b[0m\u001b[0;34m\u001b[0m\u001b[0;34m\u001b[0m\u001b[0m\n\u001b[0;32m--> 855\u001b[0;31m     \u001b[0mS\u001b[0m \u001b[0;34m=\u001b[0m \u001b[0msignal_findpeaks\u001b[0m\u001b[0;34m(\u001b[0m\u001b[0;34m-\u001b[0m\u001b[0msegment\u001b[0m\u001b[0;34m[\u001b[0m\u001b[0;34m\"Signal\"\u001b[0m\u001b[0;34m]\u001b[0m\u001b[0;34m,\u001b[0m \u001b[0mheight_min\u001b[0m\u001b[0;34m=\u001b[0m\u001b[0;36m0.05\u001b[0m \u001b[0;34m*\u001b[0m \u001b[0;34m(\u001b[0m\u001b[0msegment\u001b[0m\u001b[0;34m[\u001b[0m\u001b[0;34m\"Signal\"\u001b[0m\u001b[0;34m]\u001b[0m\u001b[0;34m.\u001b[0m\u001b[0mmax\u001b[0m\u001b[0;34m(\u001b[0m\u001b[0;34m)\u001b[0m \u001b[0;34m-\u001b[0m \u001b[0msegment\u001b[0m\u001b[0;34m[\u001b[0m\u001b[0;34m\"Signal\"\u001b[0m\u001b[0;34m]\u001b[0m\u001b[0;34m.\u001b[0m\u001b[0mmin\u001b[0m\u001b[0;34m(\u001b[0m\u001b[0;34m)\u001b[0m\u001b[0;34m)\u001b[0m\u001b[0;34m)\u001b[0m\u001b[0;34m\u001b[0m\u001b[0;34m\u001b[0m\u001b[0m\n\u001b[0m\u001b[1;32m    856\u001b[0m \u001b[0;34m\u001b[0m\u001b[0m\n\u001b[1;32m    857\u001b[0m     \u001b[0;32mif\u001b[0m \u001b[0mlen\u001b[0m\u001b[0;34m(\u001b[0m\u001b[0mS\u001b[0m\u001b[0;34m[\u001b[0m\u001b[0;34m\"Peaks\"\u001b[0m\u001b[0;34m]\u001b[0m\u001b[0;34m)\u001b[0m \u001b[0;34m==\u001b[0m \u001b[0;36m0\u001b[0m\u001b[0;34m:\u001b[0m\u001b[0;34m\u001b[0m\u001b[0;34m\u001b[0m\u001b[0m\n",
            "\u001b[0;32m/usr/local/lib/python3.7/dist-packages/neurokit2/signal/signal_findpeaks.py\u001b[0m in \u001b[0;36msignal_findpeaks\u001b[0;34m(signal, height_min, height_max, relative_height_min, relative_height_max, relative_mean, relative_median, relative_max)\u001b[0m\n\u001b[1;32m    118\u001b[0m     \u001b[0;31m# Filter\u001b[0m\u001b[0;34m\u001b[0m\u001b[0;34m\u001b[0m\u001b[0;34m\u001b[0m\u001b[0m\n\u001b[1;32m    119\u001b[0m     \u001b[0minfo\u001b[0m\u001b[0;34m[\u001b[0m\u001b[0;34m\"Distance\"\u001b[0m\u001b[0;34m]\u001b[0m \u001b[0;34m=\u001b[0m \u001b[0m_signal_findpeaks_distances\u001b[0m\u001b[0;34m(\u001b[0m\u001b[0minfo\u001b[0m\u001b[0;34m[\u001b[0m\u001b[0;34m\"Peaks\"\u001b[0m\u001b[0;34m]\u001b[0m\u001b[0;34m)\u001b[0m\u001b[0;34m\u001b[0m\u001b[0;34m\u001b[0m\u001b[0m\n\u001b[0;32m--> 120\u001b[0;31m     \u001b[0minfo\u001b[0m\u001b[0;34m[\u001b[0m\u001b[0;34m\"Onsets\"\u001b[0m\u001b[0;34m]\u001b[0m \u001b[0;34m=\u001b[0m \u001b[0m_signal_findpeaks_findbase\u001b[0m\u001b[0;34m(\u001b[0m\u001b[0minfo\u001b[0m\u001b[0;34m[\u001b[0m\u001b[0;34m\"Peaks\"\u001b[0m\u001b[0;34m]\u001b[0m\u001b[0;34m,\u001b[0m \u001b[0msignal\u001b[0m\u001b[0;34m,\u001b[0m \u001b[0mwhat\u001b[0m\u001b[0;34m=\u001b[0m\u001b[0;34m\"onset\"\u001b[0m\u001b[0;34m)\u001b[0m\u001b[0;34m\u001b[0m\u001b[0;34m\u001b[0m\u001b[0m\n\u001b[0m\u001b[1;32m    121\u001b[0m     \u001b[0minfo\u001b[0m\u001b[0;34m[\u001b[0m\u001b[0;34m\"Offsets\"\u001b[0m\u001b[0;34m]\u001b[0m \u001b[0;34m=\u001b[0m \u001b[0m_signal_findpeaks_findbase\u001b[0m\u001b[0;34m(\u001b[0m\u001b[0minfo\u001b[0m\u001b[0;34m[\u001b[0m\u001b[0;34m\"Peaks\"\u001b[0m\u001b[0;34m]\u001b[0m\u001b[0;34m,\u001b[0m \u001b[0msignal\u001b[0m\u001b[0;34m,\u001b[0m \u001b[0mwhat\u001b[0m\u001b[0;34m=\u001b[0m\u001b[0;34m\"offset\"\u001b[0m\u001b[0;34m)\u001b[0m\u001b[0;34m\u001b[0m\u001b[0;34m\u001b[0m\u001b[0m\n\u001b[1;32m    122\u001b[0m \u001b[0;34m\u001b[0m\u001b[0m\n",
            "\u001b[0;32m/usr/local/lib/python3.7/dist-packages/neurokit2/signal/signal_findpeaks.py\u001b[0m in \u001b[0;36m_signal_findpeaks_findbase\u001b[0;34m(peaks, signal, what)\u001b[0m\n\u001b[1;32m    188\u001b[0m     \u001b[0mtroughs\u001b[0m\u001b[0;34m,\u001b[0m \u001b[0m_\u001b[0m \u001b[0;34m=\u001b[0m \u001b[0mscipy\u001b[0m\u001b[0;34m.\u001b[0m\u001b[0msignal\u001b[0m\u001b[0;34m.\u001b[0m\u001b[0mfind_peaks\u001b[0m\u001b[0;34m(\u001b[0m\u001b[0;34m-\u001b[0m\u001b[0;36m1\u001b[0m \u001b[0;34m*\u001b[0m \u001b[0msignal\u001b[0m\u001b[0;34m)\u001b[0m\u001b[0;34m\u001b[0m\u001b[0;34m\u001b[0m\u001b[0m\n\u001b[1;32m    189\u001b[0m \u001b[0;34m\u001b[0m\u001b[0m\n\u001b[0;32m--> 190\u001b[0;31m     \u001b[0mbases\u001b[0m \u001b[0;34m=\u001b[0m \u001b[0mfind_closest\u001b[0m\u001b[0;34m(\u001b[0m\u001b[0mpeaks\u001b[0m\u001b[0;34m,\u001b[0m \u001b[0mtroughs\u001b[0m\u001b[0;34m,\u001b[0m \u001b[0mdirection\u001b[0m\u001b[0;34m=\u001b[0m\u001b[0mdirection\u001b[0m\u001b[0;34m,\u001b[0m \u001b[0mstrictly\u001b[0m\u001b[0;34m=\u001b[0m\u001b[0;32mTrue\u001b[0m\u001b[0;34m)\u001b[0m\u001b[0;34m\u001b[0m\u001b[0;34m\u001b[0m\u001b[0m\n\u001b[0m\u001b[1;32m    191\u001b[0m     \u001b[0mbases\u001b[0m \u001b[0;34m=\u001b[0m \u001b[0mas_vector\u001b[0m\u001b[0;34m(\u001b[0m\u001b[0mbases\u001b[0m\u001b[0;34m)\u001b[0m\u001b[0;34m\u001b[0m\u001b[0;34m\u001b[0m\u001b[0m\n\u001b[1;32m    192\u001b[0m \u001b[0;34m\u001b[0m\u001b[0m\n",
            "\u001b[0;32m/usr/local/lib/python3.7/dist-packages/neurokit2/misc/find_closest.py\u001b[0m in \u001b[0;36mfind_closest\u001b[0;34m(closest_to, list_to_search_in, direction, strictly, return_index)\u001b[0m\n\u001b[1;32m     47\u001b[0m     \u001b[0mlist_to_search_in\u001b[0m \u001b[0;34m=\u001b[0m \u001b[0mpd\u001b[0m\u001b[0;34m.\u001b[0m\u001b[0mSeries\u001b[0m\u001b[0;34m(\u001b[0m\u001b[0mas_vector\u001b[0m\u001b[0;34m(\u001b[0m\u001b[0mlist_to_search_in\u001b[0m\u001b[0;34m)\u001b[0m\u001b[0;34m)\u001b[0m\u001b[0;34m\u001b[0m\u001b[0;34m\u001b[0m\u001b[0m\n\u001b[1;32m     48\u001b[0m \u001b[0;34m\u001b[0m\u001b[0m\n\u001b[0;32m---> 49\u001b[0;31m     \u001b[0mout\u001b[0m \u001b[0;34m=\u001b[0m \u001b[0;34m[\u001b[0m\u001b[0m_find_closest\u001b[0m\u001b[0;34m(\u001b[0m\u001b[0mi\u001b[0m\u001b[0;34m,\u001b[0m \u001b[0mlist_to_search_in\u001b[0m\u001b[0;34m,\u001b[0m \u001b[0mdirection\u001b[0m\u001b[0;34m,\u001b[0m \u001b[0mstrictly\u001b[0m\u001b[0;34m,\u001b[0m \u001b[0mreturn_index\u001b[0m\u001b[0;34m)\u001b[0m \u001b[0;32mfor\u001b[0m \u001b[0mi\u001b[0m \u001b[0;32min\u001b[0m \u001b[0mclosest_to\u001b[0m\u001b[0;34m]\u001b[0m\u001b[0;34m\u001b[0m\u001b[0;34m\u001b[0m\u001b[0m\n\u001b[0m\u001b[1;32m     50\u001b[0m \u001b[0;34m\u001b[0m\u001b[0m\n\u001b[1;32m     51\u001b[0m     \u001b[0;32mif\u001b[0m \u001b[0mlen\u001b[0m\u001b[0;34m(\u001b[0m\u001b[0mout\u001b[0m\u001b[0;34m)\u001b[0m \u001b[0;34m==\u001b[0m \u001b[0;36m1\u001b[0m\u001b[0;34m:\u001b[0m\u001b[0;34m\u001b[0m\u001b[0;34m\u001b[0m\u001b[0m\n",
            "\u001b[0;32m/usr/local/lib/python3.7/dist-packages/neurokit2/misc/find_closest.py\u001b[0m in \u001b[0;36m<listcomp>\u001b[0;34m(.0)\u001b[0m\n\u001b[1;32m     47\u001b[0m     \u001b[0mlist_to_search_in\u001b[0m \u001b[0;34m=\u001b[0m \u001b[0mpd\u001b[0m\u001b[0;34m.\u001b[0m\u001b[0mSeries\u001b[0m\u001b[0;34m(\u001b[0m\u001b[0mas_vector\u001b[0m\u001b[0;34m(\u001b[0m\u001b[0mlist_to_search_in\u001b[0m\u001b[0;34m)\u001b[0m\u001b[0;34m)\u001b[0m\u001b[0;34m\u001b[0m\u001b[0;34m\u001b[0m\u001b[0m\n\u001b[1;32m     48\u001b[0m \u001b[0;34m\u001b[0m\u001b[0m\n\u001b[0;32m---> 49\u001b[0;31m     \u001b[0mout\u001b[0m \u001b[0;34m=\u001b[0m \u001b[0;34m[\u001b[0m\u001b[0m_find_closest\u001b[0m\u001b[0;34m(\u001b[0m\u001b[0mi\u001b[0m\u001b[0;34m,\u001b[0m \u001b[0mlist_to_search_in\u001b[0m\u001b[0;34m,\u001b[0m \u001b[0mdirection\u001b[0m\u001b[0;34m,\u001b[0m \u001b[0mstrictly\u001b[0m\u001b[0;34m,\u001b[0m \u001b[0mreturn_index\u001b[0m\u001b[0;34m)\u001b[0m \u001b[0;32mfor\u001b[0m \u001b[0mi\u001b[0m \u001b[0;32min\u001b[0m \u001b[0mclosest_to\u001b[0m\u001b[0;34m]\u001b[0m\u001b[0;34m\u001b[0m\u001b[0;34m\u001b[0m\u001b[0m\n\u001b[0m\u001b[1;32m     50\u001b[0m \u001b[0;34m\u001b[0m\u001b[0m\n\u001b[1;32m     51\u001b[0m     \u001b[0;32mif\u001b[0m \u001b[0mlen\u001b[0m\u001b[0;34m(\u001b[0m\u001b[0mout\u001b[0m\u001b[0;34m)\u001b[0m \u001b[0;34m==\u001b[0m \u001b[0;36m1\u001b[0m\u001b[0;34m:\u001b[0m\u001b[0;34m\u001b[0m\u001b[0;34m\u001b[0m\u001b[0m\n",
            "\u001b[0;32m/usr/local/lib/python3.7/dist-packages/neurokit2/misc/find_closest.py\u001b[0m in \u001b[0;36m_find_closest\u001b[0;34m(closest_to, list_to_search_in, direction, strictly, return_index)\u001b[0m\n\u001b[1;32m     61\u001b[0m \u001b[0;34m\u001b[0m\u001b[0m\n\u001b[1;32m     62\u001b[0m     \u001b[0;32mtry\u001b[0m\u001b[0;34m:\u001b[0m\u001b[0;34m\u001b[0m\u001b[0;34m\u001b[0m\u001b[0m\n\u001b[0;32m---> 63\u001b[0;31m         \u001b[0mindex\u001b[0m\u001b[0;34m,\u001b[0m \u001b[0mclosest\u001b[0m \u001b[0;34m=\u001b[0m \u001b[0m_find_closest_single_pandas\u001b[0m\u001b[0;34m(\u001b[0m\u001b[0mclosest_to\u001b[0m\u001b[0;34m,\u001b[0m \u001b[0mlist_to_search_in\u001b[0m\u001b[0;34m,\u001b[0m \u001b[0mdirection\u001b[0m\u001b[0;34m,\u001b[0m \u001b[0mstrictly\u001b[0m\u001b[0;34m)\u001b[0m\u001b[0;34m\u001b[0m\u001b[0;34m\u001b[0m\u001b[0m\n\u001b[0m\u001b[1;32m     64\u001b[0m     \u001b[0;32mexcept\u001b[0m \u001b[0mValueError\u001b[0m\u001b[0;34m:\u001b[0m\u001b[0;34m\u001b[0m\u001b[0;34m\u001b[0m\u001b[0m\n\u001b[1;32m     65\u001b[0m         \u001b[0mindex\u001b[0m\u001b[0;34m,\u001b[0m \u001b[0mclosest\u001b[0m \u001b[0;34m=\u001b[0m \u001b[0mnp\u001b[0m\u001b[0;34m.\u001b[0m\u001b[0mnan\u001b[0m\u001b[0;34m,\u001b[0m \u001b[0mnp\u001b[0m\u001b[0;34m.\u001b[0m\u001b[0mnan\u001b[0m\u001b[0;34m\u001b[0m\u001b[0;34m\u001b[0m\u001b[0m\n",
            "\u001b[0;32m/usr/local/lib/python3.7/dist-packages/neurokit2/misc/find_closest.py\u001b[0m in \u001b[0;36m_find_closest_single_pandas\u001b[0;34m(x, vals, direction, strictly)\u001b[0m\n\u001b[1;32m    100\u001b[0m     \u001b[0;32mif\u001b[0m \u001b[0mdirection\u001b[0m \u001b[0;32min\u001b[0m \u001b[0;34m[\u001b[0m\u001b[0;34m\"smaller\"\u001b[0m\u001b[0;34m,\u001b[0m \u001b[0;34m\"below\"\u001b[0m\u001b[0;34m]\u001b[0m\u001b[0;34m:\u001b[0m\u001b[0;34m\u001b[0m\u001b[0;34m\u001b[0m\u001b[0m\n\u001b[1;32m    101\u001b[0m         \u001b[0;32mif\u001b[0m \u001b[0mstrictly\u001b[0m \u001b[0;32mis\u001b[0m \u001b[0;32mTrue\u001b[0m\u001b[0;34m:\u001b[0m\u001b[0;34m\u001b[0m\u001b[0;34m\u001b[0m\u001b[0m\n\u001b[0;32m--> 102\u001b[0;31m             \u001b[0mindex\u001b[0m \u001b[0;34m=\u001b[0m \u001b[0;34m(\u001b[0m\u001b[0mnp\u001b[0m\u001b[0;34m.\u001b[0m\u001b[0mabs\u001b[0m\u001b[0;34m(\u001b[0m\u001b[0mvals\u001b[0m\u001b[0;34m[\u001b[0m\u001b[0mvals\u001b[0m \u001b[0;34m<\u001b[0m \u001b[0mx\u001b[0m\u001b[0;34m]\u001b[0m \u001b[0;34m-\u001b[0m \u001b[0mx\u001b[0m\u001b[0;34m)\u001b[0m\u001b[0;34m)\u001b[0m\u001b[0;34m.\u001b[0m\u001b[0midxmin\u001b[0m\u001b[0;34m(\u001b[0m\u001b[0;34m)\u001b[0m\u001b[0;34m\u001b[0m\u001b[0;34m\u001b[0m\u001b[0m\n\u001b[0m\u001b[1;32m    103\u001b[0m         \u001b[0;32melse\u001b[0m\u001b[0;34m:\u001b[0m\u001b[0;34m\u001b[0m\u001b[0;34m\u001b[0m\u001b[0m\n\u001b[1;32m    104\u001b[0m             \u001b[0mindex\u001b[0m \u001b[0;34m=\u001b[0m \u001b[0;34m(\u001b[0m\u001b[0mnp\u001b[0m\u001b[0;34m.\u001b[0m\u001b[0mabs\u001b[0m\u001b[0;34m(\u001b[0m\u001b[0mvals\u001b[0m\u001b[0;34m[\u001b[0m\u001b[0mvals\u001b[0m \u001b[0;34m<=\u001b[0m \u001b[0mx\u001b[0m\u001b[0;34m]\u001b[0m \u001b[0;34m-\u001b[0m \u001b[0mx\u001b[0m\u001b[0;34m)\u001b[0m\u001b[0;34m)\u001b[0m\u001b[0;34m.\u001b[0m\u001b[0midxmin\u001b[0m\u001b[0;34m(\u001b[0m\u001b[0;34m)\u001b[0m\u001b[0;34m\u001b[0m\u001b[0;34m\u001b[0m\u001b[0m\n",
            "\u001b[0;32m/usr/local/lib/python3.7/dist-packages/pandas/core/ops/common.py\u001b[0m in \u001b[0;36mnew_method\u001b[0;34m(self, other)\u001b[0m\n\u001b[1;32m     63\u001b[0m         \u001b[0mother\u001b[0m \u001b[0;34m=\u001b[0m \u001b[0mitem_from_zerodim\u001b[0m\u001b[0;34m(\u001b[0m\u001b[0mother\u001b[0m\u001b[0;34m)\u001b[0m\u001b[0;34m\u001b[0m\u001b[0;34m\u001b[0m\u001b[0m\n\u001b[1;32m     64\u001b[0m \u001b[0;34m\u001b[0m\u001b[0m\n\u001b[0;32m---> 65\u001b[0;31m         \u001b[0;32mreturn\u001b[0m \u001b[0mmethod\u001b[0m\u001b[0;34m(\u001b[0m\u001b[0mself\u001b[0m\u001b[0;34m,\u001b[0m \u001b[0mother\u001b[0m\u001b[0;34m)\u001b[0m\u001b[0;34m\u001b[0m\u001b[0;34m\u001b[0m\u001b[0m\n\u001b[0m\u001b[1;32m     66\u001b[0m \u001b[0;34m\u001b[0m\u001b[0m\n\u001b[1;32m     67\u001b[0m     \u001b[0;32mreturn\u001b[0m \u001b[0mnew_method\u001b[0m\u001b[0;34m\u001b[0m\u001b[0;34m\u001b[0m\u001b[0m\n",
            "\u001b[0;32m/usr/local/lib/python3.7/dist-packages/pandas/core/ops/__init__.py\u001b[0m in \u001b[0;36mwrapper\u001b[0;34m(left, right)\u001b[0m\n\u001b[1;32m    343\u001b[0m         \u001b[0mresult\u001b[0m \u001b[0;34m=\u001b[0m \u001b[0marithmetic_op\u001b[0m\u001b[0;34m(\u001b[0m\u001b[0mlvalues\u001b[0m\u001b[0;34m,\u001b[0m \u001b[0mrvalues\u001b[0m\u001b[0;34m,\u001b[0m \u001b[0mop\u001b[0m\u001b[0;34m)\u001b[0m\u001b[0;34m\u001b[0m\u001b[0;34m\u001b[0m\u001b[0m\n\u001b[1;32m    344\u001b[0m \u001b[0;34m\u001b[0m\u001b[0m\n\u001b[0;32m--> 345\u001b[0;31m         \u001b[0;32mreturn\u001b[0m \u001b[0mleft\u001b[0m\u001b[0;34m.\u001b[0m\u001b[0m_construct_result\u001b[0m\u001b[0;34m(\u001b[0m\u001b[0mresult\u001b[0m\u001b[0;34m,\u001b[0m \u001b[0mname\u001b[0m\u001b[0;34m=\u001b[0m\u001b[0mres_name\u001b[0m\u001b[0;34m)\u001b[0m\u001b[0;34m\u001b[0m\u001b[0;34m\u001b[0m\u001b[0m\n\u001b[0m\u001b[1;32m    346\u001b[0m \u001b[0;34m\u001b[0m\u001b[0m\n\u001b[1;32m    347\u001b[0m     \u001b[0mwrapper\u001b[0m\u001b[0;34m.\u001b[0m\u001b[0m__name__\u001b[0m \u001b[0;34m=\u001b[0m \u001b[0mop_name\u001b[0m\u001b[0;34m\u001b[0m\u001b[0;34m\u001b[0m\u001b[0m\n",
            "\u001b[0;32m/usr/local/lib/python3.7/dist-packages/pandas/core/series.py\u001b[0m in \u001b[0;36m_construct_result\u001b[0;34m(self, result, name)\u001b[0m\n\u001b[1;32m   2768\u001b[0m         \u001b[0;31m# We do not pass dtype to ensure that the Series constructor\u001b[0m\u001b[0;34m\u001b[0m\u001b[0;34m\u001b[0m\u001b[0;34m\u001b[0m\u001b[0m\n\u001b[1;32m   2769\u001b[0m         \u001b[0;31m#  does inference in the case where `result` has object-dtype.\u001b[0m\u001b[0;34m\u001b[0m\u001b[0;34m\u001b[0m\u001b[0;34m\u001b[0m\u001b[0m\n\u001b[0;32m-> 2770\u001b[0;31m         \u001b[0mout\u001b[0m \u001b[0;34m=\u001b[0m \u001b[0mself\u001b[0m\u001b[0;34m.\u001b[0m\u001b[0m_constructor\u001b[0m\u001b[0;34m(\u001b[0m\u001b[0mresult\u001b[0m\u001b[0;34m,\u001b[0m \u001b[0mindex\u001b[0m\u001b[0;34m=\u001b[0m\u001b[0mself\u001b[0m\u001b[0;34m.\u001b[0m\u001b[0mindex\u001b[0m\u001b[0;34m)\u001b[0m\u001b[0;34m\u001b[0m\u001b[0;34m\u001b[0m\u001b[0m\n\u001b[0m\u001b[1;32m   2771\u001b[0m         \u001b[0mout\u001b[0m \u001b[0;34m=\u001b[0m \u001b[0mout\u001b[0m\u001b[0;34m.\u001b[0m\u001b[0m__finalize__\u001b[0m\u001b[0;34m(\u001b[0m\u001b[0mself\u001b[0m\u001b[0;34m)\u001b[0m\u001b[0;34m\u001b[0m\u001b[0;34m\u001b[0m\u001b[0m\n\u001b[1;32m   2772\u001b[0m \u001b[0;34m\u001b[0m\u001b[0m\n",
            "\u001b[0;32m/usr/local/lib/python3.7/dist-packages/pandas/core/series.py\u001b[0m in \u001b[0;36m__init__\u001b[0;34m(self, data, index, dtype, name, copy, fastpath)\u001b[0m\n\u001b[1;32m    310\u001b[0m                 \u001b[0;31m# have a proper length\u001b[0m\u001b[0;34m\u001b[0m\u001b[0;34m\u001b[0m\u001b[0;34m\u001b[0m\u001b[0m\n\u001b[1;32m    311\u001b[0m                 \u001b[0;32mtry\u001b[0m\u001b[0;34m:\u001b[0m\u001b[0;34m\u001b[0m\u001b[0;34m\u001b[0m\u001b[0m\n\u001b[0;32m--> 312\u001b[0;31m                     \u001b[0;32mif\u001b[0m \u001b[0mlen\u001b[0m\u001b[0;34m(\u001b[0m\u001b[0mindex\u001b[0m\u001b[0;34m)\u001b[0m \u001b[0;34m!=\u001b[0m \u001b[0mlen\u001b[0m\u001b[0;34m(\u001b[0m\u001b[0mdata\u001b[0m\u001b[0;34m)\u001b[0m\u001b[0;34m:\u001b[0m\u001b[0;34m\u001b[0m\u001b[0;34m\u001b[0m\u001b[0m\n\u001b[0m\u001b[1;32m    313\u001b[0m                         raise ValueError(\n\u001b[1;32m    314\u001b[0m                             \u001b[0;34mf\"Length of passed values is {len(data)}, \"\u001b[0m\u001b[0;34m\u001b[0m\u001b[0;34m\u001b[0m\u001b[0m\n",
            "\u001b[0;31mKeyboardInterrupt\u001b[0m: "
          ]
        }
      ]
    },
    {
      "cell_type": "code",
      "source": [
        "print(len(PR_N))\n",
        "print(len(PR_V))\n",
        "print(len(PR_S))"
      ],
      "metadata": {
        "colab": {
          "base_uri": "https://localhost:8080/"
        },
        "id": "psqXp9bjvyNq",
        "outputId": "90263532-2cb5-47a4-854e-8d9dda4c57d8"
      },
      "execution_count": null,
      "outputs": [
        {
          "output_type": "stream",
          "name": "stdout",
          "text": [
            "9203\n",
            "256\n",
            "179\n"
          ]
        }
      ]
    },
    {
      "cell_type": "code",
      "source": [
        "#Flatten the structure of the array\n",
        "PR_N = [item for sublist in PR_N for item in sublist]\n",
        "PR_V = [item for sublist in PR_V for item in sublist]\n",
        "PR_S = [item for sublist in PR_S for item in sublist]"
      ],
      "metadata": {
        "id": "uFE0ONEUATES"
      },
      "execution_count": null,
      "outputs": []
    },
    {
      "cell_type": "code",
      "source": [
        "#Flatten the structure of the array\n",
        "QR_N = [item for sublist in QR_N for item in sublist]\n",
        "QR_V = [item for sublist in QR_V for item in sublist]\n",
        "QR_S = [item for sublist in QR_S for item in sublist]"
      ],
      "metadata": {
        "id": "OWVPt6JdCkpr"
      },
      "execution_count": null,
      "outputs": []
    },
    {
      "cell_type": "code",
      "source": [
        "import matplotlib.pyplot as plt\n",
        "import pandas as pd\n",
        "import seaborn as sns\n",
        "\n",
        "df = pd.DataFrame({'PR_N': PR_N[0:len(PR_S)], 'PR_V': PR_V[0:len(PR_S)], 'PR_S': PR_S })\n",
        "sns.boxplot(data=df)\n"
      ],
      "metadata": {
        "id": "owwv63MVxhmF",
        "colab": {
          "base_uri": "https://localhost:8080/",
          "height": 287
        },
        "outputId": "aa21d011-2ced-461e-ebbc-dec7f31b4112"
      },
      "execution_count": null,
      "outputs": [
        {
          "output_type": "execute_result",
          "data": {
            "text/plain": [
              "<matplotlib.axes._subplots.AxesSubplot at 0x7f1e999883d0>"
            ]
          },
          "metadata": {},
          "execution_count": 220
        },
        {
          "output_type": "display_data",
          "data": {
            "image/png": "[encoded data removed]",
            "text/plain": [
              "<Figure size 432x288 with 1 Axes>"
            ]
          },
          "metadata": {
            "needs_background": "light"
          }
        }
      ]
    },
    {
      "cell_type": "code",
      "source": [
        "df1 = pd.DataFrame({'QR_N': QR_N[0:len(QR_S)], 'QR_V': QR_V[0:len(QR_S)], 'QR_S': QR_S})\n",
        "sns.boxplot(data = df1)"
      ],
      "metadata": {
        "colab": {
          "base_uri": "https://localhost:8080/",
          "height": 285
        },
        "id": "FQrL1EyOCuQp",
        "outputId": "7be5d935-c04f-40f4-a766-b5758d20a503"
      },
      "execution_count": null,
      "outputs": [
        {
          "output_type": "execute_result",
          "data": {
            "text/plain": [
              "<matplotlib.axes._subplots.AxesSubplot at 0x7f1e9990e3d0>"
            ]
          },
          "metadata": {},
          "execution_count": 221
        },
        {
          "output_type": "display_data",
          "data": {
            "image/png": "[encoded data removed]",
            "text/plain": [
              "<Figure size 432x288 with 1 Axes>"
            ]
          },
          "metadata": {
            "needs_background": "light"
          }
        }
      ]
    },
    {
      "cell_type": "code",
      "source": [
        "df2 = pd.DataFrame({'P_N': P_N[0:len(P_S)], 'P_V': P_V[0:len(P_S)], 'P_S': P_S})\n",
        "sns.boxplot(data = df2)"
      ],
      "metadata": {
        "colab": {
          "base_uri": "https://localhost:8080/",
          "height": 285
        },
        "id": "V2PI_PCuFxZX",
        "outputId": "beb3190c-5fd1-4174-a9ff-c19a9ea7500f"
      },
      "execution_count": null,
      "outputs": [
        {
          "output_type": "execute_result",
          "data": {
            "text/plain": [
              "<matplotlib.axes._subplots.AxesSubplot at 0x7f1e9985e450>"
            ]
          },
          "metadata": {},
          "execution_count": 222
        },
        {
          "output_type": "display_data",
          "data": {
            "image/png": "[encoded data removed]",
            "text/plain": [
              "<Figure size 432x288 with 1 Axes>"
            ]
          },
          "metadata": {
            "needs_background": "light"
          }
        }
      ]
    }
  ]
}