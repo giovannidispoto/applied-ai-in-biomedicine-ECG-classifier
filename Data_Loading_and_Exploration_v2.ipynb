{
  "nbformat": 4,
  "nbformat_minor": 0,
  "metadata": {
    "colab": {
      "name": "Data_Loading_and_Exploration_v2.ipynb",
      "provenance": [],
      "collapsed_sections": []
    },
    "kernelspec": {
      "name": "python3",
      "display_name": "Python 3"
    },
    "language_info": {
      "name": "python"
    }
  },
  "cells": [
    {
      "cell_type": "code",
      "execution_count": 1,
      "metadata": {
        "colab": {
          "base_uri": "https://localhost:8080/"
        },
        "id": "IKWCc9_G2Jip",
        "outputId": "b5695395-136e-476f-e27f-072d3d7d3a0f"
      },
      "outputs": [
        {
          "output_type": "stream",
          "name": "stdout",
          "text": [
            "Mounted at /content/drive\n"
          ]
        }
      ],
      "source": [
        "from google.colab import drive\n",
        "drive.mount('/content/drive')"
      ]
    },
    {
      "cell_type": "code",
      "source": [
        "input_dir = \"/content/drive/MyDrive/Project AAIB/dataset\""
      ],
      "metadata": {
        "id": "YpYC7pQK258p"
      },
      "execution_count": 2,
      "outputs": []
    },
    {
      "cell_type": "code",
      "source": [
        "import os\n",
        "\n",
        "# list the data present in the dataset\n",
        "os.listdir(input_dir)"
      ],
      "metadata": {
        "colab": {
          "base_uri": "https://localhost:8080/"
        },
        "id": "eCpQplyKMNYe",
        "outputId": "2d0f7821-1bde-4830-ea78-f2f916f619ab"
      },
      "execution_count": 3,
      "outputs": [
        {
          "output_type": "execute_result",
          "data": {
            "text/plain": [
              "['S001_128_rpk.mat',\n",
              " 'S001_128_ann.mat',\n",
              " 'S002_128.mat',\n",
              " 'S001_128.mat',\n",
              " 'S002_128_rpk.mat',\n",
              " 'S002_128_ann.mat',\n",
              " 'S004_128.mat',\n",
              " 'S003_128.mat',\n",
              " 'S004_128_ann.mat',\n",
              " 'S005_128_rpk.mat',\n",
              " 'S003_128_ann.mat',\n",
              " 'S005_128.mat',\n",
              " 'S003_128_rpk.mat',\n",
              " 'S005_128_ann.mat',\n",
              " 'S004_128_rpk.mat',\n",
              " 'S007_128_ann.mat',\n",
              " 'S006_128_ann.mat',\n",
              " 'S006_128_rpk.mat',\n",
              " 'S008_128_rpk.mat',\n",
              " 'S006_128.mat',\n",
              " 'S008_128.mat',\n",
              " 'S007_128_rpk.mat',\n",
              " 'S008_128_ann.mat',\n",
              " 'S007_128.mat',\n",
              " 'S012_128.mat',\n",
              " 'S009_128_ann.mat',\n",
              " 'S012_128_rpk.mat',\n",
              " 'S009_128.mat',\n",
              " 'S010_128_rpk.mat',\n",
              " 'S009_128_rpk.mat',\n",
              " 'S011_128_ann.mat',\n",
              " 'S011_128.mat',\n",
              " 'S011_128_rpk.mat',\n",
              " 'S010_128.mat',\n",
              " 'S010_128_ann.mat',\n",
              " 'S012_128_ann.mat',\n",
              " 'S016_128.mat',\n",
              " 'S013_128_ann.mat',\n",
              " 'S014_128_rpk.mat',\n",
              " 'S013_128.mat',\n",
              " 'S015_128_rpk.mat',\n",
              " 'S014_128.mat',\n",
              " 'S013_128_rpk.mat',\n",
              " 'S015_128.mat',\n",
              " 'S014_128_ann.mat',\n",
              " 'S015_128_ann.mat',\n",
              " 'S017_128_ann.mat',\n",
              " 'S016_128_rpk.mat',\n",
              " 'S018_128_rpk.mat',\n",
              " 'S018_128_ann.mat',\n",
              " 'S016_128_ann.mat',\n",
              " 'S020_128.mat',\n",
              " 'S018_128.mat',\n",
              " 'S017_128_rpk.mat',\n",
              " 'S019_128_ann.mat',\n",
              " 'S017_128.mat',\n",
              " 'S019_128_rpk.mat',\n",
              " 'S019_128.mat',\n",
              " 'S022_128.mat',\n",
              " 'S022_128_ann.mat',\n",
              " 'S020_128_ann.mat',\n",
              " 'S021_128_rpk.mat',\n",
              " 'S021_128.mat',\n",
              " 'S023_128.mat',\n",
              " 'S022_128_rpk.mat',\n",
              " 'S020_128_rpk.mat',\n",
              " 'S023_128_rpk.mat',\n",
              " 'S021_128_ann.mat',\n",
              " 'S023_128_ann.mat',\n",
              " 'S025_128_rpk.mat',\n",
              " 'S024_128_rpk.mat',\n",
              " 'S025_128_ann.mat',\n",
              " 'S026_128_rpk.mat',\n",
              " 'S025_128.mat',\n",
              " 'S024_128_ann.mat',\n",
              " 'S026_128_ann.mat',\n",
              " 'S026_128.mat',\n",
              " 'S024_128.mat',\n",
              " 'S030_128_rpk.mat',\n",
              " 'S027_128_rpk.mat',\n",
              " 'S028_128_ann.mat',\n",
              " 'S027_128.mat',\n",
              " 'S030_128.mat',\n",
              " 'S030_128_ann.mat',\n",
              " 'S029_128.mat',\n",
              " 'S028_128_rpk.mat',\n",
              " 'S027_128_ann.mat',\n",
              " 'S028_128.mat',\n",
              " 'S029_128_rpk.mat',\n",
              " 'S029_128_ann.mat',\n",
              " 'S031_128_ann.mat',\n",
              " 'S032_128_ann.mat',\n",
              " 'S033_128.mat',\n",
              " 'S031_128.mat',\n",
              " 'S032_128_rpk.mat',\n",
              " 'S032_128.mat',\n",
              " 'S031_128_rpk.mat',\n",
              " 'S034_128_ann.mat',\n",
              " 'S033_128_ann.mat',\n",
              " 'S035_128_rpk.mat',\n",
              " 'S034_128.mat',\n",
              " 'S036_128_rpk.mat',\n",
              " 'S036_128_ann.mat',\n",
              " 'S036_128.mat',\n",
              " 'S034_128_rpk.mat',\n",
              " 'S035_128.mat',\n",
              " 'S035_128_ann.mat',\n",
              " 'S033_128_rpk.mat',\n",
              " 'S039_128.mat',\n",
              " 'S037_128_rpk.mat',\n",
              " 'S039_128_ann.mat',\n",
              " 'S039_128_rpk.mat',\n",
              " 'S038_128_rpk.mat',\n",
              " 'S038_128.mat',\n",
              " 'S037_128_ann.mat',\n",
              " 'S038_128_ann.mat',\n",
              " 'S037_128.mat',\n",
              " 'S041_128_rpk.mat',\n",
              " 'S040_128.mat',\n",
              " 'S040_128_ann.mat',\n",
              " 'S040_128_rpk.mat',\n",
              " 'S042_128.mat',\n",
              " 'S041_128.mat',\n",
              " 'S041_128_ann.mat',\n",
              " 'S042_128_ann.mat',\n",
              " 'S042_128_rpk.mat',\n",
              " 'S046_128.mat',\n",
              " 'S044_128.mat',\n",
              " 'S044_128_ann.mat',\n",
              " 'S045_128.mat',\n",
              " 'S043_128.mat',\n",
              " 'S046_128_rpk.mat',\n",
              " 'S045_128_ann.mat',\n",
              " 'S043_128_ann.mat',\n",
              " 'S045_128_rpk.mat',\n",
              " 'S046_128_ann.mat',\n",
              " 'S043_128_rpk.mat',\n",
              " 'S044_128_rpk.mat',\n",
              " 'S048_128.mat',\n",
              " 'S049_128_rpk.mat',\n",
              " 'S048_128_rpk.mat',\n",
              " 'S050_128.mat',\n",
              " 'S049_128_ann.mat',\n",
              " 'S050_128_ann.mat',\n",
              " 'S048_128_ann.mat',\n",
              " 'S047_128_ann.mat',\n",
              " 'S050_128_rpk.mat',\n",
              " 'S047_128_rpk.mat',\n",
              " 'S047_128.mat',\n",
              " 'S049_128.mat',\n",
              " 'S052_128.mat',\n",
              " 'S052_128_rpk.mat',\n",
              " 'S051_128.mat',\n",
              " 'S051_128_rpk.mat',\n",
              " 'S053_128_rpk.mat',\n",
              " 'S052_128_ann.mat',\n",
              " 'S053_128.mat',\n",
              " 'S051_128_ann.mat',\n",
              " 'S054_128_ann.mat',\n",
              " 'S054_128.mat',\n",
              " 'S053_128_ann.mat',\n",
              " 'S055_128.mat',\n",
              " 'S054_128_rpk.mat',\n",
              " 'S058_128.mat',\n",
              " 'S056_128_rpk.mat',\n",
              " 'S055_128_rpk.mat',\n",
              " 'S056_128.mat',\n",
              " 'S056_128_ann.mat',\n",
              " 'S057_128_ann.mat',\n",
              " 'S055_128_ann.mat',\n",
              " 'S057_128.mat',\n",
              " 'S057_128_rpk.mat',\n",
              " 'S058_128_rpk.mat',\n",
              " 'S061_128_ann.mat',\n",
              " 'S059_128_rpk.mat',\n",
              " 'S060_128_rpk.mat',\n",
              " 'S058_128_ann.mat',\n",
              " 'S059_128_ann.mat',\n",
              " 'S060_128.mat',\n",
              " 'S061_128_rpk.mat',\n",
              " 'S059_128.mat',\n",
              " 'S061_128.mat',\n",
              " 'S060_128_ann.mat',\n",
              " 'S063_128.mat',\n",
              " 'S063_128_ann.mat',\n",
              " 'S064_128_rpk.mat',\n",
              " 'S063_128_rpk.mat',\n",
              " 'S062_128_rpk.mat',\n",
              " 'S062_128_ann.mat',\n",
              " 'S064_128.mat',\n",
              " 'S064_128_ann.mat',\n",
              " 'S062_128.mat',\n",
              " 'S065_128_rpk.mat',\n",
              " 'S065_128_ann.mat',\n",
              " 'S065_128.mat',\n",
              " 'S079_250_rpk.mat',\n",
              " 'S079_250.mat',\n",
              " 'S079_250_ann.mat',\n",
              " 'S080_250_rpk.mat',\n",
              " 'S080_250.mat',\n",
              " 'S080_250_ann.mat',\n",
              " 'S081_250.mat',\n",
              " 'S081_250_rpk.mat',\n",
              " 'S081_250_ann.mat',\n",
              " 'S082_250_rpk.mat',\n",
              " 'S082_250_ann.mat',\n",
              " 'S082_250.mat',\n",
              " 'S083_250_ann.mat',\n",
              " 'S083_250.mat',\n",
              " 'S083_250_rpk.mat',\n",
              " 'S084_250_ann.mat',\n",
              " 'S084_250_rpk.mat',\n",
              " 'S084_250.mat',\n",
              " 'S085_250.mat',\n",
              " 'S085_250_rpk.mat',\n",
              " 'S085_250_ann.mat',\n",
              " 'S086_250.mat',\n",
              " 'S086_250_rpk.mat',\n",
              " 'S086_250_ann.mat',\n",
              " 'S087_250_rpk.mat',\n",
              " 'S087_250_ann.mat',\n",
              " 'S087_250.mat',\n",
              " 'S088_250.mat',\n",
              " 'S088_250_rpk.mat',\n",
              " 'S088_250_ann.mat',\n",
              " 'S089_250_ann.mat',\n",
              " 'S089_250.mat',\n",
              " 'S089_250_rpk.mat',\n",
              " 'S090_250_ann.mat',\n",
              " 'S090_250.mat',\n",
              " 'S090_250_rpk.mat',\n",
              " 'S091_250.mat',\n",
              " 'S091_250_rpk.mat',\n",
              " 'S091_250_ann.mat',\n",
              " 'S092_250.mat',\n",
              " 'S092_250_ann.mat',\n",
              " 'S092_250_rpk.mat',\n",
              " 'S093_250.mat',\n",
              " 'S093_250_rpk.mat',\n",
              " 'S093_250_ann.mat',\n",
              " 'S094_250_rpk.mat',\n",
              " 'S094_250.mat',\n",
              " 'S094_250_ann.mat',\n",
              " 'S095_250_rpk.mat',\n",
              " 'S095_250_ann.mat',\n",
              " 'S095_250.mat',\n",
              " 'S096_250.mat',\n",
              " 'S096_250_ann.mat',\n",
              " 'S096_250_rpk.mat',\n",
              " 'S097_250_rpk.mat',\n",
              " 'S097_250_ann.mat',\n",
              " 'S097_250.mat',\n",
              " 'S098_250_ann.mat',\n",
              " 'S098_250_rpk.mat',\n",
              " 'S098_250.mat',\n",
              " 'S099_250_ann.mat',\n",
              " 'S099_250.mat',\n",
              " 'S099_250_rpk.mat',\n",
              " 'S100_250_rpk.mat',\n",
              " 'S100_250_ann.mat',\n",
              " 'S100_250.mat',\n",
              " 'S101_250_rpk.mat',\n",
              " 'S101_250.mat',\n",
              " 'S101_250_ann.mat',\n",
              " 'S102_250_rpk.mat',\n",
              " 'S102_250_ann.mat',\n",
              " 'S102_250.mat',\n",
              " 'S103_250_ann.mat',\n",
              " 'S103_250_rpk.mat',\n",
              " 'S103_250.mat',\n",
              " 'S104_250.mat',\n",
              " 'S104_250_rpk.mat',\n",
              " 'S104_250_ann.mat',\n",
              " 'S105_250_rpk.mat',\n",
              " 'S105_250.mat',\n",
              " 'S105_250_ann.mat',\n",
              " 'S106_250_rpk.mat',\n",
              " 'S106_250.mat',\n",
              " 'S106_250_ann.mat',\n",
              " 'S107_250.mat',\n",
              " 'S107_250_rpk.mat',\n",
              " 'S107_250_ann.mat',\n",
              " 'S108_250_ann.mat',\n",
              " 'S108_250_rpk.mat',\n",
              " 'S108_250.mat',\n",
              " 'S109_250_rpk.mat',\n",
              " 'S109_250.mat',\n",
              " 'S109_250_ann.mat',\n",
              " 'S110_250_rpk.mat',\n",
              " 'S110_250.mat',\n",
              " 'S110_250_ann.mat',\n",
              " 'S111_250_ann.mat',\n",
              " 'S111_250_rpk.mat',\n",
              " 'S111_250.mat',\n",
              " 'S112_250_rpk.mat',\n",
              " 'S112_250.mat',\n",
              " 'S112_250_ann.mat',\n",
              " 'S113_250_rpk.mat',\n",
              " 'S113_250_ann.mat',\n",
              " 'S113_250.mat',\n",
              " 'S114_250_rpk.mat',\n",
              " 'S114_250_ann.mat',\n",
              " 'S114_250.mat',\n",
              " 'S115_250.mat',\n",
              " 'S115_250_rpk.mat',\n",
              " 'S115_250_ann.mat',\n",
              " 'S116_250.mat',\n",
              " 'S116_250_rpk.mat',\n",
              " 'S116_250_ann.mat',\n",
              " 'S117_250.mat',\n",
              " 'S117_250_rpk.mat',\n",
              " 'S117_250_ann.mat',\n",
              " 'S118_250.mat',\n",
              " 'S118_250_rpk.mat',\n",
              " 'S118_250_ann.mat']"
            ]
          },
          "metadata": {},
          "execution_count": 3
        }
      ]
    },
    {
      "cell_type": "markdown",
      "source": [
        "Each data sample present:\n",
        "\n",
        "*   sample.mat : 2-lead ECG signal of a patient of lenght n\n",
        "*   sample_ann.mat : contains the annotations for each R peak\n",
        "\n",
        "*   sample_rpk.mat : contains the R peak locations of the signal\n",
        "\n",
        "\n",
        "\n"
      ],
      "metadata": {
        "id": "noBFQu-DM6NT"
      }
    },
    {
      "cell_type": "markdown",
      "source": [
        "# Data loading"
      ],
      "metadata": {
        "id": "ZDQ-9RRCsZME"
      }
    },
    {
      "cell_type": "code",
      "source": [
        "# environment setup\n",
        "from scipy.io import loadmat\n",
        "import numpy as np, os, sys, joblib\n",
        "import matplotlib.pyplot as plt\n",
        "import math\n",
        "from tqdm import tqdm\n",
        "import pandas as pd"
      ],
      "metadata": {
        "id": "x1TBmICsjgCT"
      },
      "execution_count": 4,
      "outputs": []
    },
    {
      "cell_type": "code",
      "source": [
        "# Utility function to load data\n",
        "\n",
        "def load_data(ecg_file):\n",
        "  ecg = loadmat(ecg_file)\n",
        "  rpk_file = ecg_file.replace('.mat', '_rpk.mat')\n",
        "  rpk = loadmat(rpk_file)\n",
        "  ann_file = ecg_file.replace('.mat', '_ann.mat')\n",
        "  ann = loadmat(ann_file)\n",
        "  return ecg, rpk, ann"
      ],
      "metadata": {
        "id": "mYDPFKM5i0kk"
      },
      "execution_count": 5,
      "outputs": []
    },
    {
      "cell_type": "code",
      "source": [
        "# Get the ecg file for each sample and create a list of all ecgs\n",
        "ecg_files = []\n",
        "\n",
        "for f in os.listdir(input_dir):\n",
        "  g = os.path.join(input_dir, f)\n",
        "  if ('ann' not in g) and ('rpk' not in g):\n",
        "    ecg_files.append(g)\n",
        "num_files = len(ecg_files)\n",
        "\n",
        "# Create lists that will contains each data types (ecg, labels, rpeaks) an filenames (a list which contains the original filename for each sample)\n",
        "filenames = list()\n",
        "ecgs = list()\n",
        "rpks = list()\n",
        "anns = list()\n",
        "\n",
        "for i in range(num_files):\n",
        "  ecg, rpk, ann = load_data(ecg_files[i])\n",
        "  print(\n",
        "        \"\\rLoading file: {}/{}\"\n",
        "            .format(i+1, num_files),\n",
        "        end=\"\"\n",
        "    )\n",
        "  ecgs.append(ecg)\n",
        "  rpks.append(rpk)\n",
        "  anns.append(ann)\n",
        "  filenames.append(ecg_files[i])\n",
        "\n",
        "\n",
        "#ecg = np.asarray(loadmat(g)['ecg'], dtype=np.float64)\n",
        "#rpk = np.asarray(loadmat(input_dir + \"/S083_250_rpk.mat\")['rpeaks'], dtype=np.float64)\n",
        "#ann = np.asarray(loadmat(input_dir + \"/S083_250_ann.mat\")['labels'])"
      ],
      "metadata": {
        "colab": {
          "base_uri": "https://localhost:8080/"
        },
        "id": "pCRhfDeDMuCD",
        "outputId": "efd63a79-bf11-4e45-ce00-f3f1e774736e"
      },
      "execution_count": 6,
      "outputs": [
        {
          "output_type": "stream",
          "name": "stdout",
          "text": [
            "Loading file: 105/105"
          ]
        }
      ]
    },
    {
      "cell_type": "markdown",
      "source": [
        "# Plot label distribution"
      ],
      "metadata": {
        "id": "7FnsfHTisegL"
      }
    },
    {
      "cell_type": "code",
      "source": [
        "classes_name = ['N', 'S', 'V']"
      ],
      "metadata": {
        "id": "yZrp8Soxnwfa"
      },
      "execution_count": 7,
      "outputs": []
    },
    {
      "cell_type": "code",
      "source": [
        "# list which contains all labels of each beat\n",
        "all_labels = []\n",
        "\n",
        "for sample in anns:\n",
        "  for beat in sample['labels']:\n",
        "    all_labels.append(beat)\n",
        "\n",
        "len(all_labels)\n",
        "\n",
        "# create a counts of each labels\n",
        "values, counts = np.unique(all_labels, return_counts=True)\n",
        "values, counts"
      ],
      "metadata": {
        "colab": {
          "base_uri": "https://localhost:8080/"
        },
        "id": "jDiw_WIwoggS",
        "outputId": "2c1a45db-e240-4396-d2b6-7de6235b96eb"
      },
      "execution_count": 8,
      "outputs": [
        {
          "output_type": "execute_result",
          "data": {
            "text/plain": [
              "(array(['N', 'S', 'V'], dtype='<U1'), array([226932,   9609,   7795]))"
            ]
          },
          "metadata": {},
          "execution_count": 8
        }
      ]
    },
    {
      "cell_type": "code",
      "source": [
        "# Plot labels distribution (of all beats of all patients)\n",
        "plt.bar(x=classes_name,height=counts, facecolor ='#85c1e9')\n",
        "plt.title(\"Classes Occurrence\", color = \"black\")\n",
        "plt.tick_params(axis=\"both\", colors = \"black\")\n",
        "plt.xlabel(\"Classes\", color = \"black\")\n",
        "plt.ylabel(\"Occurences\", color = \"black\")\n",
        "plt.xticks(rotation=90)\n",
        "plt.yticks\n",
        "plt.show()"
      ],
      "metadata": {
        "colab": {
          "base_uri": "https://localhost:8080/",
          "height": 293
        },
        "id": "5qNJBj8SlANX",
        "outputId": "cf7d38ca-c898-4368-919f-783e238c7851"
      },
      "execution_count": 9,
      "outputs": [
        {
          "output_type": "display_data",
          "data": {
            "image/png": "[encoded data removed]",
            "text/plain": [
              "<Figure size 432x288 with 1 Axes>"
            ]
          },
          "metadata": {
            "needs_background": "light"
          }
        }
      ]
    },
    {
      "cell_type": "markdown",
      "source": [
        "# Plot intervals boxplot"
      ],
      "metadata": {
        "id": "0zDSqVsNlRXe"
      }
    },
    {
      "cell_type": "code",
      "source": [
        "!pip install neurokit2"
      ],
      "metadata": {
        "colab": {
          "base_uri": "https://localhost:8080/"
        },
        "id": "s1fiAL0ayyZu",
        "outputId": "843f3ecc-ec7c-4fa7-90e9-0a6f0c61a925"
      },
      "execution_count": 10,
      "outputs": [
        {
          "output_type": "stream",
          "name": "stdout",
          "text": [
            "Collecting neurokit2\n",
            "  Downloading neurokit2-0.1.5-py2.py3-none-any.whl (1.1 MB)\n",
            "\u001b[?25l\r\u001b[K     |▎                               | 10 kB 16.3 MB/s eta 0:00:01\r\u001b[K     |▋                               | 20 kB 18.4 MB/s eta 0:00:01\r\u001b[K     |█                               | 30 kB 15.8 MB/s eta 0:00:01\r\u001b[K     |█▏                              | 40 kB 11.0 MB/s eta 0:00:01\r\u001b[K     |█▌                              | 51 kB 5.8 MB/s eta 0:00:01\r\u001b[K     |█▉                              | 61 kB 6.3 MB/s eta 0:00:01\r\u001b[K     |██                              | 71 kB 6.1 MB/s eta 0:00:01\r\u001b[K     |██▍                             | 81 kB 6.8 MB/s eta 0:00:01\r\u001b[K     |██▊                             | 92 kB 5.1 MB/s eta 0:00:01\r\u001b[K     |███                             | 102 kB 5.5 MB/s eta 0:00:01\r\u001b[K     |███▎                            | 112 kB 5.5 MB/s eta 0:00:01\r\u001b[K     |███▋                            | 122 kB 5.5 MB/s eta 0:00:01\r\u001b[K     |███▉                            | 133 kB 5.5 MB/s eta 0:00:01\r\u001b[K     |████▏                           | 143 kB 5.5 MB/s eta 0:00:01\r\u001b[K     |████▌                           | 153 kB 5.5 MB/s eta 0:00:01\r\u001b[K     |████▉                           | 163 kB 5.5 MB/s eta 0:00:01\r\u001b[K     |█████                           | 174 kB 5.5 MB/s eta 0:00:01\r\u001b[K     |█████▍                          | 184 kB 5.5 MB/s eta 0:00:01\r\u001b[K     |█████▊                          | 194 kB 5.5 MB/s eta 0:00:01\r\u001b[K     |██████                          | 204 kB 5.5 MB/s eta 0:00:01\r\u001b[K     |██████▎                         | 215 kB 5.5 MB/s eta 0:00:01\r\u001b[K     |██████▋                         | 225 kB 5.5 MB/s eta 0:00:01\r\u001b[K     |██████▉                         | 235 kB 5.5 MB/s eta 0:00:01\r\u001b[K     |███████▏                        | 245 kB 5.5 MB/s eta 0:00:01\r\u001b[K     |███████▌                        | 256 kB 5.5 MB/s eta 0:00:01\r\u001b[K     |███████▊                        | 266 kB 5.5 MB/s eta 0:00:01\r\u001b[K     |████████                        | 276 kB 5.5 MB/s eta 0:00:01\r\u001b[K     |████████▍                       | 286 kB 5.5 MB/s eta 0:00:01\r\u001b[K     |████████▊                       | 296 kB 5.5 MB/s eta 0:00:01\r\u001b[K     |█████████                       | 307 kB 5.5 MB/s eta 0:00:01\r\u001b[K     |█████████▎                      | 317 kB 5.5 MB/s eta 0:00:01\r\u001b[K     |█████████▋                      | 327 kB 5.5 MB/s eta 0:00:01\r\u001b[K     |█████████▉                      | 337 kB 5.5 MB/s eta 0:00:01\r\u001b[K     |██████████▏                     | 348 kB 5.5 MB/s eta 0:00:01\r\u001b[K     |██████████▌                     | 358 kB 5.5 MB/s eta 0:00:01\r\u001b[K     |██████████▊                     | 368 kB 5.5 MB/s eta 0:00:01\r\u001b[K     |███████████                     | 378 kB 5.5 MB/s eta 0:00:01\r\u001b[K     |███████████▍                    | 389 kB 5.5 MB/s eta 0:00:01\r\u001b[K     |███████████▋                    | 399 kB 5.5 MB/s eta 0:00:01\r\u001b[K     |████████████                    | 409 kB 5.5 MB/s eta 0:00:01\r\u001b[K     |████████████▎                   | 419 kB 5.5 MB/s eta 0:00:01\r\u001b[K     |████████████▋                   | 430 kB 5.5 MB/s eta 0:00:01\r\u001b[K     |████████████▉                   | 440 kB 5.5 MB/s eta 0:00:01\r\u001b[K     |█████████████▏                  | 450 kB 5.5 MB/s eta 0:00:01\r\u001b[K     |█████████████▌                  | 460 kB 5.5 MB/s eta 0:00:01\r\u001b[K     |█████████████▊                  | 471 kB 5.5 MB/s eta 0:00:01\r\u001b[K     |██████████████                  | 481 kB 5.5 MB/s eta 0:00:01\r\u001b[K     |██████████████▍                 | 491 kB 5.5 MB/s eta 0:00:01\r\u001b[K     |██████████████▋                 | 501 kB 5.5 MB/s eta 0:00:01\r\u001b[K     |███████████████                 | 512 kB 5.5 MB/s eta 0:00:01\r\u001b[K     |███████████████▎                | 522 kB 5.5 MB/s eta 0:00:01\r\u001b[K     |███████████████▌                | 532 kB 5.5 MB/s eta 0:00:01\r\u001b[K     |███████████████▉                | 542 kB 5.5 MB/s eta 0:00:01\r\u001b[K     |████████████████▏               | 552 kB 5.5 MB/s eta 0:00:01\r\u001b[K     |████████████████▌               | 563 kB 5.5 MB/s eta 0:00:01\r\u001b[K     |████████████████▊               | 573 kB 5.5 MB/s eta 0:00:01\r\u001b[K     |█████████████████               | 583 kB 5.5 MB/s eta 0:00:01\r\u001b[K     |█████████████████▍              | 593 kB 5.5 MB/s eta 0:00:01\r\u001b[K     |█████████████████▋              | 604 kB 5.5 MB/s eta 0:00:01\r\u001b[K     |██████████████████              | 614 kB 5.5 MB/s eta 0:00:01\r\u001b[K     |██████████████████▎             | 624 kB 5.5 MB/s eta 0:00:01\r\u001b[K     |██████████████████▌             | 634 kB 5.5 MB/s eta 0:00:01\r\u001b[K     |██████████████████▉             | 645 kB 5.5 MB/s eta 0:00:01\r\u001b[K     |███████████████████▏            | 655 kB 5.5 MB/s eta 0:00:01\r\u001b[K     |███████████████████▍            | 665 kB 5.5 MB/s eta 0:00:01\r\u001b[K     |███████████████████▊            | 675 kB 5.5 MB/s eta 0:00:01\r\u001b[K     |████████████████████            | 686 kB 5.5 MB/s eta 0:00:01\r\u001b[K     |████████████████████▍           | 696 kB 5.5 MB/s eta 0:00:01\r\u001b[K     |████████████████████▋           | 706 kB 5.5 MB/s eta 0:00:01\r\u001b[K     |█████████████████████           | 716 kB 5.5 MB/s eta 0:00:01\r\u001b[K     |█████████████████████▎          | 727 kB 5.5 MB/s eta 0:00:01\r\u001b[K     |█████████████████████▌          | 737 kB 5.5 MB/s eta 0:00:01\r\u001b[K     |█████████████████████▉          | 747 kB 5.5 MB/s eta 0:00:01\r\u001b[K     |██████████████████████▏         | 757 kB 5.5 MB/s eta 0:00:01\r\u001b[K     |██████████████████████▍         | 768 kB 5.5 MB/s eta 0:00:01\r\u001b[K     |██████████████████████▊         | 778 kB 5.5 MB/s eta 0:00:01\r\u001b[K     |███████████████████████         | 788 kB 5.5 MB/s eta 0:00:01\r\u001b[K     |███████████████████████▎        | 798 kB 5.5 MB/s eta 0:00:01\r\u001b[K     |███████████████████████▋        | 808 kB 5.5 MB/s eta 0:00:01\r\u001b[K     |████████████████████████        | 819 kB 5.5 MB/s eta 0:00:01\r\u001b[K     |████████████████████████▏       | 829 kB 5.5 MB/s eta 0:00:01\r\u001b[K     |████████████████████████▌       | 839 kB 5.5 MB/s eta 0:00:01\r\u001b[K     |████████████████████████▉       | 849 kB 5.5 MB/s eta 0:00:01\r\u001b[K     |█████████████████████████▏      | 860 kB 5.5 MB/s eta 0:00:01\r\u001b[K     |█████████████████████████▍      | 870 kB 5.5 MB/s eta 0:00:01\r\u001b[K     |█████████████████████████▊      | 880 kB 5.5 MB/s eta 0:00:01\r\u001b[K     |██████████████████████████      | 890 kB 5.5 MB/s eta 0:00:01\r\u001b[K     |██████████████████████████▎     | 901 kB 5.5 MB/s eta 0:00:01\r\u001b[K     |██████████████████████████▋     | 911 kB 5.5 MB/s eta 0:00:01\r\u001b[K     |███████████████████████████     | 921 kB 5.5 MB/s eta 0:00:01\r\u001b[K     |███████████████████████████▏    | 931 kB 5.5 MB/s eta 0:00:01\r\u001b[K     |███████████████████████████▌    | 942 kB 5.5 MB/s eta 0:00:01\r\u001b[K     |███████████████████████████▉    | 952 kB 5.5 MB/s eta 0:00:01\r\u001b[K     |████████████████████████████    | 962 kB 5.5 MB/s eta 0:00:01\r\u001b[K     |████████████████████████████▍   | 972 kB 5.5 MB/s eta 0:00:01\r\u001b[K     |████████████████████████████▊   | 983 kB 5.5 MB/s eta 0:00:01\r\u001b[K     |█████████████████████████████   | 993 kB 5.5 MB/s eta 0:00:01\r\u001b[K     |█████████████████████████████▎  | 1.0 MB 5.5 MB/s eta 0:00:01\r\u001b[K     |█████████████████████████████▋  | 1.0 MB 5.5 MB/s eta 0:00:01\r\u001b[K     |██████████████████████████████  | 1.0 MB 5.5 MB/s eta 0:00:01\r\u001b[K     |██████████████████████████████▏ | 1.0 MB 5.5 MB/s eta 0:00:01\r\u001b[K     |██████████████████████████████▌ | 1.0 MB 5.5 MB/s eta 0:00:01\r\u001b[K     |██████████████████████████████▉ | 1.1 MB 5.5 MB/s eta 0:00:01\r\u001b[K     |███████████████████████████████ | 1.1 MB 5.5 MB/s eta 0:00:01\r\u001b[K     |███████████████████████████████▍| 1.1 MB 5.5 MB/s eta 0:00:01\r\u001b[K     |███████████████████████████████▊| 1.1 MB 5.5 MB/s eta 0:00:01\r\u001b[K     |████████████████████████████████| 1.1 MB 5.5 MB/s eta 0:00:01\r\u001b[K     |████████████████████████████████| 1.1 MB 5.5 MB/s \n",
            "\u001b[?25hRequirement already satisfied: scikit-learn in /usr/local/lib/python3.7/dist-packages (from neurokit2) (1.0.1)\n",
            "Requirement already satisfied: pandas in /usr/local/lib/python3.7/dist-packages (from neurokit2) (1.1.5)\n",
            "Requirement already satisfied: numpy in /usr/local/lib/python3.7/dist-packages (from neurokit2) (1.19.5)\n",
            "Requirement already satisfied: scipy in /usr/local/lib/python3.7/dist-packages (from neurokit2) (1.4.1)\n",
            "Requirement already satisfied: matplotlib in /usr/local/lib/python3.7/dist-packages (from neurokit2) (3.2.2)\n",
            "Requirement already satisfied: cycler>=0.10 in /usr/local/lib/python3.7/dist-packages (from matplotlib->neurokit2) (0.11.0)\n",
            "Requirement already satisfied: kiwisolver>=1.0.1 in /usr/local/lib/python3.7/dist-packages (from matplotlib->neurokit2) (1.3.2)\n",
            "Requirement already satisfied: python-dateutil>=2.1 in /usr/local/lib/python3.7/dist-packages (from matplotlib->neurokit2) (2.8.2)\n",
            "Requirement already satisfied: pyparsing!=2.0.4,!=2.1.2,!=2.1.6,>=2.0.1 in /usr/local/lib/python3.7/dist-packages (from matplotlib->neurokit2) (3.0.6)\n",
            "Requirement already satisfied: six>=1.5 in /usr/local/lib/python3.7/dist-packages (from python-dateutil>=2.1->matplotlib->neurokit2) (1.15.0)\n",
            "Requirement already satisfied: pytz>=2017.2 in /usr/local/lib/python3.7/dist-packages (from pandas->neurokit2) (2018.9)\n",
            "Requirement already satisfied: joblib>=0.11 in /usr/local/lib/python3.7/dist-packages (from scikit-learn->neurokit2) (1.1.0)\n",
            "Requirement already satisfied: threadpoolctl>=2.0.0 in /usr/local/lib/python3.7/dist-packages (from scikit-learn->neurokit2) (3.0.0)\n",
            "Installing collected packages: neurokit2\n",
            "Successfully installed neurokit2-0.1.5\n"
          ]
        }
      ]
    },
    {
      "cell_type": "code",
      "source": [
        "import neurokit2 as nk"
      ],
      "metadata": {
        "id": "_XCrmJnazI9C"
      },
      "execution_count": 11,
      "outputs": []
    },
    {
      "cell_type": "code",
      "source": [
        "# Utility: given the filename of a signal it returns the sampling frequency\n",
        "def ecg_freq(filename):\n",
        "  if '128' in filename:\n",
        "    return 128\n",
        "  else:\n",
        "    return 250"
      ],
      "metadata": {
        "id": "yEwQB1Pf0tbv"
      },
      "execution_count": 12,
      "outputs": []
    },
    {
      "cell_type": "code",
      "source": [
        "# PLOT SIGNAL EXAMPLE\n",
        "\n",
        "# extract a sample ecg \n",
        "ecg_sample = np.asarray(ecgs[1]['ecg'], dtype=np.float64) \n",
        "sampling = ecg_freq(filenames[1]) \n",
        "ecg_sample_= np.arange(0, ecg_sample.shape[0]/sampling, 1/sampling)\n",
        " \n",
        "#Extract peaks from traning set and their labels \n",
        "sample_rpeaks = rpks[1]['rpeaks'] \n",
        "rpeaks = {'ECG_R_Peaks': sample_rpeaks.flatten(), 'sampling_rate': sampling} \n",
        "print(sample_rpeaks[-1])\n",
        "ecg_signal = nk.ecg_clean(ecg_sample[:,0], sampling_rate=sampling, method='neurokit2') \n",
        "\n",
        "print(len(ecg_signal))\n",
        "print(rpeaks)\n",
        "\n",
        "_, waves_peak = nk.ecg_delineate(ecg_signal, rpeaks, sampling_rate=sampling, method=\"dwt\")\n",
        "\n",
        "# Plot an example of signal (last ecg in previous loop)\n",
        "\n",
        "#drop null values\n",
        "for key in waves_peak.keys():\n",
        " waves_peak[key] = [w for w in waves_peak[key] if math.isnan(w) == False]\n",
        "\n",
        "#create waves_peak in time domain in order to plot the value in the time domain\n",
        "waves_peak_td = dict()\n",
        "waves_peak_td['ECG_P_Peaks'] = [w / sampling for w in waves_peak['ECG_P_Peaks'] ]\n",
        "waves_peak_td['ECG_Q_Peaks'] = [w / sampling for w in waves_peak['ECG_Q_Peaks'] ]\n",
        "waves_peak_td['ECG_T_Peaks'] = [w / sampling for w in waves_peak['ECG_T_Peaks'] ]\n",
        "waves_peak_td['ECG_R_Onsets'] = [w / sampling for w in waves_peak['ECG_R_Onsets'] ]\n",
        "waves_peak_td['ECG_P_Onsets'] = [w / sampling for w in waves_peak['ECG_P_Onsets'] ]\n",
        "waves_peak_td['ECG_T_Offsets'] = [w / sampling for w in waves_peak['ECG_T_Offsets'] ]\n",
        "\n",
        "plt.plot(ecg_sample_, ecg_signal)\n",
        "plt.scatter(rpeaks['ECG_R_Peaks']/sampling, ecg_signal[rpeaks['ECG_R_Peaks']])\n",
        "plt.scatter(waves_peak_td['ECG_P_Peaks'], ecg_signal[waves_peak['ECG_P_Peaks']])\n",
        "plt.scatter(waves_peak_td['ECG_Q_Peaks'], ecg_signal[waves_peak['ECG_Q_Peaks']])\n",
        "plt.scatter(waves_peak_td['ECG_T_Peaks'], ecg_signal[waves_peak['ECG_T_Peaks']])\n",
        "\n",
        "plt.xlim(0,3)\n",
        "plt.ylim(-1,3)"
      ],
      "metadata": {
        "colab": {
          "base_uri": "https://localhost:8080/",
          "height": 408
        },
        "id": "QsARFHVqth5J",
        "outputId": "e7d4afcb-402b-47c6-82d6-23b641870955"
      },
      "execution_count": 88,
      "outputs": [
        {
          "output_type": "stream",
          "name": "stdout",
          "text": [
            "[230338]\n",
            "230400\n",
            "{'ECG_R_Peaks': array([    29,    110,    191, ..., 230184, 230261, 230338], dtype=int32), 'sampling_rate': 128}\n"
          ]
        },
        {
          "output_type": "stream",
          "name": "stderr",
          "text": [
            "/usr/local/lib/python3.7/dist-packages/numpy/core/fromnumeric.py:3373: RuntimeWarning: Mean of empty slice.\n",
            "  out=out, **kwargs)\n",
            "/usr/local/lib/python3.7/dist-packages/numpy/core/_methods.py:170: RuntimeWarning: invalid value encountered in double_scalars\n",
            "  ret = ret.dtype.type(ret / rcount)\n"
          ]
        },
        {
          "output_type": "execute_result",
          "data": {
            "text/plain": [
              "(-1.0, 3.0)"
            ]
          },
          "metadata": {},
          "execution_count": 88
        },
        {
          "output_type": "display_data",
          "data": {
            "image/png": "[encoded data removed]",
            "text/plain": [
              "<Figure size 432x288 with 1 Axes>"
            ]
          },
          "metadata": {
            "needs_background": "light"
          }
        }
      ]
    },
    {
      "cell_type": "code",
      "source": [
        "# Exploration over some intervals of various single-beat signal\n",
        "\n",
        "# lists that will contain PR and QR intervals\n",
        "PR_N = list()\n",
        "PR_S = list()\n",
        "PR_V = list()\n",
        "\n",
        "P_N = list()\n",
        "P_S = list()\n",
        "P_V = list()\n",
        "\n",
        "QR_N = list()\n",
        "QR_S = list()\n",
        "QR_V = list()\n",
        "\n",
        "# interval lists filling loop\n",
        "for i in tqdm(range(len(ecgs))):\n",
        "  # extract a sample ecg\n",
        "  ecg_sample = np.asarray(ecgs[i]['ecg'], dtype=np.float64)\n",
        "  sampling = ecg_freq(filenames[i])\n",
        "  # Extract peaks from traning set and their labels\n",
        "  sample_labels = anns[i]['labels']\n",
        "  sample_rpeaks = rpks[i]['rpeaks']\n",
        "\n",
        "  # clean ecg_sample\n",
        "  ecg_signal = nk.ecg_clean(ecg_sample[:,0], sampling_rate=sampling, method='neurokit2')\n",
        "\n",
        "  # Handling last beats (if last rpeak is >= to current ecg lenght, we remove it)\n",
        "  if sample_rpeaks[-1] >= len(ecg_signal):\n",
        "    sample_labels = sample_labels[:-1]\n",
        "    sample_rpeaks = sample_rpeaks[:-1]\n",
        "\n",
        "  #_,rpeaks = nk.ecg_peaks(ecg_signal, sampling_rate=sampling)\n",
        "  # Building the dictionary with the rpeaks as the function of Neurokit wants\n",
        "  rpeaks = {'ECG_R_Peaks': sample_rpeaks.flatten(), 'sampling_rate': sampling}\n",
        "  \n",
        "  _, waves_peak = nk.ecg_delineate(ecg_signal, rpeaks, sampling_rate=sampling, method=\"dwt\")\n",
        " \n",
        "  #create waves_peak in time domain in order to plot the value in the time domain\n",
        "  waves_peak_td = dict()\n",
        "\n",
        "  #init the dictionary\n",
        "  for k in waves_peak.keys():\n",
        "    waves_peak_td[k] = list()\n",
        "\n",
        "  for k in waves_peak.keys():\n",
        "    for i in range(len(waves_peak[k])):\n",
        "      if(math.isnan(waves_peak[k][i]) == False): #if is not nan, I divide the value for the frequency\n",
        "        waves_peak_td[k].append(waves_peak[k][i] / sampling)\n",
        "      else:\n",
        "        waves_peak_td[k].append(waves_peak[k][i])  \n",
        "\n",
        "  # add to the correct interval list the invterval of each beat of the current ecg sample\n",
        "\n",
        "  for beat_index in range(len(sample_labels)):\n",
        "    if sample_labels[beat_index] == 'N':\n",
        "      try:\n",
        "        P_N.append(ecg_signal[waves_peak['ECG_P_Peaks'][beat_index]])\n",
        "      except:\n",
        "        P_N.append(math.nan)\n",
        "      try:\n",
        "        PR_N.append(sample_rpeaks[beat_index] / sampling - waves_peak_td['ECG_P_Onsets'][beat_index] )\n",
        "      except:\n",
        "        print(\"Not valid index; Adding nan\")\n",
        "        PR_N.append(math.nan)\n",
        "      try:  \n",
        "        QR_N.append(waves_peak_td['ECG_T_Offsets'][beat_index] - sample_rpeaks[beat_index] / sampling)\n",
        "      except:\n",
        "        print(\"Not valid index; Adding nan\")\n",
        "        QR_N.append(math.nan)\n",
        "    elif sample_labels[beat_index] == 'S':\n",
        "      try:\n",
        "        P_S.append(ecg_signal[waves_peak['ECG_P_Peaks'][beat_index]])\n",
        "      except:\n",
        "        P_S.append(math.nan)  \n",
        "      try:\n",
        "        PR_S.append(sample_rpeaks[beat_index] / sampling - waves_peak_td['ECG_P_Onsets'][beat_index] )\n",
        "      except:\n",
        "        print(\"Not valid index; Adding nan\")\n",
        "        PR_S.append(math.nan)\n",
        "      try:  \n",
        "        QR_S.append(waves_peak_td['ECG_T_Offsets'][beat_index] - sample_rpeaks[beat_index] / sampling)\n",
        "      except:\n",
        "        print(\"Not valid index; Adding nan\")\n",
        "        QR_S.append(math.nan)\n",
        "    else:\n",
        "      try:\n",
        "        P_V.append(ecg_signal[waves_peak['ECG_P_Peaks'][beat_index]])\n",
        "      except:\n",
        "        P_V.append(math.nan)  \n",
        "      try:\n",
        "        PR_V.append(sample_rpeaks[beat_index] / sampling - waves_peak_td['ECG_P_Onsets'][beat_index] )\n",
        "      except:\n",
        "        print(\"Not valid index; Adding nan\")\n",
        "        PR_V.append(math.nan)\n",
        "      try: \n",
        "        QR_V.append(waves_peak_td['ECG_T_Offsets'][beat_index] - sample_rpeaks[beat_index] / sampling)\n",
        "      except:\n",
        "        print(\"Not valid index; Adding nan\")\n",
        "        QR_V.append(math.nan)"
      ],
      "metadata": {
        "colab": {
          "base_uri": "https://localhost:8080/"
        },
        "id": "Ti0nrIxd6FDn",
        "outputId": "ab1129e1-6b75-4c47-df7c-a284792ed67c"
      },
      "execution_count": 20,
      "outputs": [
        {
          "output_type": "stream",
          "name": "stderr",
          "text": [
            "  1%|          | 1/105 [00:31<54:38, 31.52s/it]/usr/local/lib/python3.7/dist-packages/numpy/core/fromnumeric.py:3373: RuntimeWarning: Mean of empty slice.\n",
            "  out=out, **kwargs)\n",
            "/usr/local/lib/python3.7/dist-packages/numpy/core/_methods.py:170: RuntimeWarning: invalid value encountered in double_scalars\n",
            "  ret = ret.dtype.type(ret / rcount)\n",
            "  4%|▍         | 4/105 [01:48<44:10, 26.24s/it]/usr/local/lib/python3.7/dist-packages/numpy/core/fromnumeric.py:3373: RuntimeWarning: Mean of empty slice.\n",
            "  out=out, **kwargs)\n",
            "/usr/local/lib/python3.7/dist-packages/numpy/core/_methods.py:170: RuntimeWarning: invalid value encountered in double_scalars\n",
            "  ret = ret.dtype.type(ret / rcount)\n",
            "  8%|▊         | 8/105 [03:41<46:56, 29.04s/it]/usr/local/lib/python3.7/dist-packages/numpy/core/fromnumeric.py:3373: RuntimeWarning: Mean of empty slice.\n",
            "  out=out, **kwargs)\n",
            "/usr/local/lib/python3.7/dist-packages/numpy/core/_methods.py:170: RuntimeWarning: invalid value encountered in double_scalars\n",
            "  ret = ret.dtype.type(ret / rcount)\n",
            " 10%|▉         | 10/105 [04:40<46:24, 29.31s/it]/usr/local/lib/python3.7/dist-packages/numpy/core/fromnumeric.py:3373: RuntimeWarning: Mean of empty slice.\n",
            "  out=out, **kwargs)\n",
            "/usr/local/lib/python3.7/dist-packages/numpy/core/_methods.py:170: RuntimeWarning: invalid value encountered in double_scalars\n",
            "  ret = ret.dtype.type(ret / rcount)\n",
            " 13%|█▎        | 14/105 [06:48<45:45, 30.17s/it]/usr/local/lib/python3.7/dist-packages/numpy/core/fromnumeric.py:3373: RuntimeWarning: Mean of empty slice.\n",
            "  out=out, **kwargs)\n",
            "/usr/local/lib/python3.7/dist-packages/numpy/core/_methods.py:170: RuntimeWarning: invalid value encountered in double_scalars\n",
            "  ret = ret.dtype.type(ret / rcount)\n",
            " 14%|█▍        | 15/105 [07:14<43:16, 28.85s/it]/usr/local/lib/python3.7/dist-packages/numpy/core/fromnumeric.py:3373: RuntimeWarning: Mean of empty slice.\n",
            "  out=out, **kwargs)\n",
            "/usr/local/lib/python3.7/dist-packages/numpy/core/_methods.py:170: RuntimeWarning: invalid value encountered in double_scalars\n",
            "  ret = ret.dtype.type(ret / rcount)\n",
            " 17%|█▋        | 18/105 [08:32<39:40, 27.37s/it]/usr/local/lib/python3.7/dist-packages/numpy/core/fromnumeric.py:3373: RuntimeWarning: Mean of empty slice.\n",
            "  out=out, **kwargs)\n",
            "/usr/local/lib/python3.7/dist-packages/numpy/core/_methods.py:170: RuntimeWarning: invalid value encountered in double_scalars\n",
            "  ret = ret.dtype.type(ret / rcount)\n",
            " 18%|█▊        | 19/105 [09:21<48:30, 33.85s/it]/usr/local/lib/python3.7/dist-packages/numpy/core/fromnumeric.py:3373: RuntimeWarning: Mean of empty slice.\n",
            "  out=out, **kwargs)\n",
            "/usr/local/lib/python3.7/dist-packages/numpy/core/_methods.py:170: RuntimeWarning: invalid value encountered in double_scalars\n",
            "  ret = ret.dtype.type(ret / rcount)\n",
            " 19%|█▉        | 20/105 [09:48<45:17, 31.97s/it]/usr/local/lib/python3.7/dist-packages/numpy/core/fromnumeric.py:3373: RuntimeWarning: Mean of empty slice.\n",
            "  out=out, **kwargs)\n",
            "/usr/local/lib/python3.7/dist-packages/numpy/core/_methods.py:170: RuntimeWarning: invalid value encountered in double_scalars\n",
            "  ret = ret.dtype.type(ret / rcount)\n",
            " 21%|██        | 22/105 [10:37<39:09, 28.31s/it]/usr/local/lib/python3.7/dist-packages/numpy/core/fromnumeric.py:3373: RuntimeWarning: Mean of empty slice.\n",
            "  out=out, **kwargs)\n",
            "/usr/local/lib/python3.7/dist-packages/numpy/core/_methods.py:170: RuntimeWarning: invalid value encountered in double_scalars\n",
            "  ret = ret.dtype.type(ret / rcount)\n",
            " 23%|██▎       | 24/105 [11:35<37:56, 28.11s/it]/usr/local/lib/python3.7/dist-packages/numpy/core/fromnumeric.py:3373: RuntimeWarning: Mean of empty slice.\n",
            "  out=out, **kwargs)\n",
            "/usr/local/lib/python3.7/dist-packages/numpy/core/_methods.py:170: RuntimeWarning: invalid value encountered in double_scalars\n",
            "  ret = ret.dtype.type(ret / rcount)\n",
            " 25%|██▍       | 26/105 [12:30<36:29, 27.71s/it]/usr/local/lib/python3.7/dist-packages/numpy/core/fromnumeric.py:3373: RuntimeWarning: Mean of empty slice.\n",
            "  out=out, **kwargs)\n",
            "/usr/local/lib/python3.7/dist-packages/numpy/core/_methods.py:170: RuntimeWarning: invalid value encountered in double_scalars\n",
            "  ret = ret.dtype.type(ret / rcount)\n",
            " 32%|███▏      | 34/105 [16:24<31:29, 26.62s/it]/usr/local/lib/python3.7/dist-packages/numpy/core/fromnumeric.py:3373: RuntimeWarning: Mean of empty slice.\n",
            "  out=out, **kwargs)\n",
            "/usr/local/lib/python3.7/dist-packages/numpy/core/_methods.py:170: RuntimeWarning: invalid value encountered in double_scalars\n",
            "  ret = ret.dtype.type(ret / rcount)\n",
            " 35%|███▌      | 37/105 [18:00<35:17, 31.14s/it]/usr/local/lib/python3.7/dist-packages/numpy/core/fromnumeric.py:3373: RuntimeWarning: Mean of empty slice.\n",
            "  out=out, **kwargs)\n",
            "/usr/local/lib/python3.7/dist-packages/numpy/core/_methods.py:170: RuntimeWarning: invalid value encountered in double_scalars\n",
            "  ret = ret.dtype.type(ret / rcount)\n",
            " 37%|███▋      | 39/105 [19:34<42:56, 39.04s/it]/usr/local/lib/python3.7/dist-packages/numpy/core/fromnumeric.py:3373: RuntimeWarning: Mean of empty slice.\n",
            "  out=out, **kwargs)\n",
            "/usr/local/lib/python3.7/dist-packages/numpy/core/_methods.py:170: RuntimeWarning: invalid value encountered in double_scalars\n",
            "  ret = ret.dtype.type(ret / rcount)\n",
            " 41%|████      | 43/105 [21:37<35:12, 34.07s/it]/usr/local/lib/python3.7/dist-packages/numpy/core/fromnumeric.py:3373: RuntimeWarning: Mean of empty slice.\n",
            "  out=out, **kwargs)\n",
            "/usr/local/lib/python3.7/dist-packages/numpy/core/_methods.py:170: RuntimeWarning: invalid value encountered in double_scalars\n",
            "  ret = ret.dtype.type(ret / rcount)\n",
            " 44%|████▍     | 46/105 [23:02<30:53, 31.41s/it]"
          ]
        },
        {
          "output_type": "stream",
          "name": "stdout",
          "text": [
            "Not valid index; Adding nan\n"
          ]
        },
        {
          "output_type": "stream",
          "name": "stderr",
          "text": [
            " 46%|████▌     | 48/105 [24:03<29:53, 31.46s/it]"
          ]
        },
        {
          "output_type": "stream",
          "name": "stdout",
          "text": [
            "Not valid index; Adding nan\n"
          ]
        },
        {
          "output_type": "stream",
          "name": "stderr",
          "text": [
            "\r 47%|████▋     | 49/105 [24:26<26:56, 28.86s/it]"
          ]
        },
        {
          "output_type": "stream",
          "name": "stdout",
          "text": [
            "Not valid index; Adding nan\n"
          ]
        },
        {
          "output_type": "stream",
          "name": "stderr",
          "text": [
            "\r 48%|████▊     | 50/105 [24:51<25:26, 27.75s/it]"
          ]
        },
        {
          "output_type": "stream",
          "name": "stdout",
          "text": [
            "Not valid index; Adding nan\n"
          ]
        },
        {
          "output_type": "stream",
          "name": "stderr",
          "text": [
            " 50%|████▉     | 52/105 [25:39<22:47, 25.81s/it]/usr/local/lib/python3.7/dist-packages/numpy/core/fromnumeric.py:3373: RuntimeWarning: Mean of empty slice.\n",
            "  out=out, **kwargs)\n",
            "/usr/local/lib/python3.7/dist-packages/numpy/core/_methods.py:170: RuntimeWarning: invalid value encountered in double_scalars\n",
            "  ret = ret.dtype.type(ret / rcount)\n",
            " 55%|█████▌    | 58/105 [28:43<25:18, 32.31s/it]"
          ]
        },
        {
          "output_type": "stream",
          "name": "stdout",
          "text": [
            "Not valid index; Adding nan\n"
          ]
        },
        {
          "output_type": "stream",
          "name": "stderr",
          "text": [
            "/usr/local/lib/python3.7/dist-packages/numpy/core/fromnumeric.py:3373: RuntimeWarning: Mean of empty slice.\n",
            "  out=out, **kwargs)\n",
            "/usr/local/lib/python3.7/dist-packages/numpy/core/_methods.py:170: RuntimeWarning: invalid value encountered in double_scalars\n",
            "  ret = ret.dtype.type(ret / rcount)\n",
            " 58%|█████▊    | 61/105 [30:00<20:12, 27.55s/it]/usr/local/lib/python3.7/dist-packages/numpy/core/fromnumeric.py:3373: RuntimeWarning: Mean of empty slice.\n",
            "  out=out, **kwargs)\n",
            "/usr/local/lib/python3.7/dist-packages/numpy/core/_methods.py:170: RuntimeWarning: invalid value encountered in double_scalars\n",
            "  ret = ret.dtype.type(ret / rcount)\n",
            " 65%|██████▍   | 68/105 [33:17<16:59, 27.54s/it]/usr/local/lib/python3.7/dist-packages/numpy/core/fromnumeric.py:3373: RuntimeWarning: Mean of empty slice.\n",
            "  out=out, **kwargs)\n",
            "/usr/local/lib/python3.7/dist-packages/numpy/core/_methods.py:170: RuntimeWarning: invalid value encountered in double_scalars\n",
            "  ret = ret.dtype.type(ret / rcount)\n",
            " 66%|██████▌   | 69/105 [33:41<15:47, 26.33s/it]/usr/local/lib/python3.7/dist-packages/numpy/core/fromnumeric.py:3373: RuntimeWarning: Mean of empty slice.\n",
            "  out=out, **kwargs)\n",
            "/usr/local/lib/python3.7/dist-packages/numpy/core/_methods.py:170: RuntimeWarning: invalid value encountered in double_scalars\n",
            "  ret = ret.dtype.type(ret / rcount)\n",
            " 70%|██████▉   | 73/105 [35:24<13:43, 25.72s/it]/usr/local/lib/python3.7/dist-packages/numpy/core/fromnumeric.py:3373: RuntimeWarning: Mean of empty slice.\n",
            "  out=out, **kwargs)\n",
            "/usr/local/lib/python3.7/dist-packages/numpy/core/_methods.py:170: RuntimeWarning: invalid value encountered in double_scalars\n",
            "  ret = ret.dtype.type(ret / rcount)\n",
            " 74%|███████▍  | 78/105 [37:48<11:42, 26.03s/it]/usr/local/lib/python3.7/dist-packages/numpy/core/fromnumeric.py:3373: RuntimeWarning: Mean of empty slice.\n",
            "  out=out, **kwargs)\n",
            "/usr/local/lib/python3.7/dist-packages/numpy/core/_methods.py:170: RuntimeWarning: invalid value encountered in double_scalars\n",
            "  ret = ret.dtype.type(ret / rcount)\n",
            " 76%|███████▌  | 80/105 [38:40<10:57, 26.30s/it]/usr/local/lib/python3.7/dist-packages/numpy/core/fromnumeric.py:3373: RuntimeWarning: Mean of empty slice.\n",
            "  out=out, **kwargs)\n",
            "/usr/local/lib/python3.7/dist-packages/numpy/core/_methods.py:170: RuntimeWarning: invalid value encountered in double_scalars\n",
            "  ret = ret.dtype.type(ret / rcount)\n",
            " 77%|███████▋  | 81/105 [39:09<10:49, 27.05s/it]/usr/local/lib/python3.7/dist-packages/numpy/core/fromnumeric.py:3373: RuntimeWarning: Mean of empty slice.\n",
            "  out=out, **kwargs)\n",
            "/usr/local/lib/python3.7/dist-packages/numpy/core/_methods.py:170: RuntimeWarning: invalid value encountered in double_scalars\n",
            "  ret = ret.dtype.type(ret / rcount)\n",
            " 82%|████████▏ | 86/105 [41:26<08:41, 27.46s/it]"
          ]
        },
        {
          "output_type": "stream",
          "name": "stdout",
          "text": [
            "Not valid index; Adding nan\n"
          ]
        },
        {
          "output_type": "stream",
          "name": "stderr",
          "text": [
            "\r 83%|████████▎ | 87/105 [41:49<07:53, 26.29s/it]/usr/local/lib/python3.7/dist-packages/numpy/core/fromnumeric.py:3373: RuntimeWarning: Mean of empty slice.\n",
            "  out=out, **kwargs)\n",
            "/usr/local/lib/python3.7/dist-packages/numpy/core/_methods.py:170: RuntimeWarning: invalid value encountered in double_scalars\n",
            "  ret = ret.dtype.type(ret / rcount)\n",
            " 86%|████████▌ | 90/105 [42:55<05:48, 23.20s/it]/usr/local/lib/python3.7/dist-packages/numpy/core/fromnumeric.py:3373: RuntimeWarning: Mean of empty slice.\n",
            "  out=out, **kwargs)\n",
            "/usr/local/lib/python3.7/dist-packages/numpy/core/_methods.py:170: RuntimeWarning: invalid value encountered in double_scalars\n",
            "  ret = ret.dtype.type(ret / rcount)\n",
            " 87%|████████▋ | 91/105 [43:19<05:25, 23.23s/it]/usr/local/lib/python3.7/dist-packages/numpy/core/fromnumeric.py:3373: RuntimeWarning: Mean of empty slice.\n",
            "  out=out, **kwargs)\n",
            "/usr/local/lib/python3.7/dist-packages/numpy/core/_methods.py:170: RuntimeWarning: invalid value encountered in double_scalars\n",
            "  ret = ret.dtype.type(ret / rcount)\n",
            " 90%|█████████ | 95/105 [44:41<03:39, 21.93s/it]/usr/local/lib/python3.7/dist-packages/numpy/core/fromnumeric.py:3373: RuntimeWarning: Mean of empty slice.\n",
            "  out=out, **kwargs)\n",
            "/usr/local/lib/python3.7/dist-packages/numpy/core/_methods.py:170: RuntimeWarning: invalid value encountered in double_scalars\n",
            "  ret = ret.dtype.type(ret / rcount)\n",
            " 98%|█████████▊| 103/105 [48:04<00:52, 26.18s/it]/usr/local/lib/python3.7/dist-packages/numpy/core/fromnumeric.py:3373: RuntimeWarning: Mean of empty slice.\n",
            "  out=out, **kwargs)\n",
            "/usr/local/lib/python3.7/dist-packages/numpy/core/_methods.py:170: RuntimeWarning: invalid value encountered in double_scalars\n",
            "  ret = ret.dtype.type(ret / rcount)\n",
            "100%|██████████| 105/105 [48:55<00:00, 27.95s/it]\n"
          ]
        }
      ]
    },
    {
      "cell_type": "code",
      "source": [
        "print(len(PR_N))\n",
        "print(len(PR_V))\n",
        "print(len(PR_S))"
      ],
      "metadata": {
        "colab": {
          "base_uri": "https://localhost:8080/"
        },
        "id": "psqXp9bjvyNq",
        "outputId": "90f287ef-f4bf-4fb2-fcc1-bbcbfad4cd06"
      },
      "execution_count": 91,
      "outputs": [
        {
          "output_type": "stream",
          "name": "stdout",
          "text": [
            "226930\n",
            "7795\n",
            "9609\n"
          ]
        }
      ]
    },
    {
      "cell_type": "code",
      "source": [
        "#Flatten the structure of the array\n",
        "PR_N = [item for sublist in PR_N for item in sublist]\n",
        "PR_V = [item for sublist in PR_V for item in sublist]\n",
        "PR_S = [item for sublist in PR_S for item in sublist]"
      ],
      "metadata": {
        "id": "uFE0ONEUATES",
        "colab": {
          "base_uri": "https://localhost:8080/",
          "height": 322
        },
        "outputId": "82d45791-8563-4584-8757-00086aee7d9f"
      },
      "execution_count": 92,
      "outputs": [
        {
          "output_type": "error",
          "ename": "TypeError",
          "evalue": "ignored",
          "traceback": [
            "\u001b[0;31m---------------------------------------------------------------------------\u001b[0m",
            "\u001b[0;31mTypeError\u001b[0m                                 Traceback (most recent call last)",
            "\u001b[0;32m<ipython-input-92-54db0e448374>\u001b[0m in \u001b[0;36m<module>\u001b[0;34m()\u001b[0m\n\u001b[1;32m      1\u001b[0m \u001b[0;31m#Flatten the structure of the array\u001b[0m\u001b[0;34m\u001b[0m\u001b[0;34m\u001b[0m\u001b[0;34m\u001b[0m\u001b[0m\n\u001b[0;32m----> 2\u001b[0;31m \u001b[0mPR_N\u001b[0m \u001b[0;34m=\u001b[0m \u001b[0;34m[\u001b[0m\u001b[0mitem\u001b[0m \u001b[0;32mfor\u001b[0m \u001b[0msublist\u001b[0m \u001b[0;32min\u001b[0m \u001b[0mPR_N\u001b[0m \u001b[0;32mfor\u001b[0m \u001b[0mitem\u001b[0m \u001b[0;32min\u001b[0m \u001b[0msublist\u001b[0m\u001b[0;34m]\u001b[0m\u001b[0;34m\u001b[0m\u001b[0;34m\u001b[0m\u001b[0m\n\u001b[0m\u001b[1;32m      3\u001b[0m \u001b[0mPR_V\u001b[0m \u001b[0;34m=\u001b[0m \u001b[0;34m[\u001b[0m\u001b[0mitem\u001b[0m \u001b[0;32mfor\u001b[0m \u001b[0msublist\u001b[0m \u001b[0;32min\u001b[0m \u001b[0mPR_V\u001b[0m \u001b[0;32mfor\u001b[0m \u001b[0mitem\u001b[0m \u001b[0;32min\u001b[0m \u001b[0msublist\u001b[0m\u001b[0;34m]\u001b[0m\u001b[0;34m\u001b[0m\u001b[0;34m\u001b[0m\u001b[0m\n\u001b[1;32m      4\u001b[0m \u001b[0mPR_S\u001b[0m \u001b[0;34m=\u001b[0m \u001b[0;34m[\u001b[0m\u001b[0mitem\u001b[0m \u001b[0;32mfor\u001b[0m \u001b[0msublist\u001b[0m \u001b[0;32min\u001b[0m \u001b[0mPR_S\u001b[0m \u001b[0;32mfor\u001b[0m \u001b[0mitem\u001b[0m \u001b[0;32min\u001b[0m \u001b[0msublist\u001b[0m\u001b[0;34m]\u001b[0m\u001b[0;34m\u001b[0m\u001b[0;34m\u001b[0m\u001b[0m\n",
            "\u001b[0;32m<ipython-input-92-54db0e448374>\u001b[0m in \u001b[0;36m<listcomp>\u001b[0;34m(.0)\u001b[0m\n\u001b[1;32m      1\u001b[0m \u001b[0;31m#Flatten the structure of the array\u001b[0m\u001b[0;34m\u001b[0m\u001b[0;34m\u001b[0m\u001b[0;34m\u001b[0m\u001b[0m\n\u001b[0;32m----> 2\u001b[0;31m \u001b[0mPR_N\u001b[0m \u001b[0;34m=\u001b[0m \u001b[0;34m[\u001b[0m\u001b[0mitem\u001b[0m \u001b[0;32mfor\u001b[0m \u001b[0msublist\u001b[0m \u001b[0;32min\u001b[0m \u001b[0mPR_N\u001b[0m \u001b[0;32mfor\u001b[0m \u001b[0mitem\u001b[0m \u001b[0;32min\u001b[0m \u001b[0msublist\u001b[0m\u001b[0;34m]\u001b[0m\u001b[0;34m\u001b[0m\u001b[0;34m\u001b[0m\u001b[0m\n\u001b[0m\u001b[1;32m      3\u001b[0m \u001b[0mPR_V\u001b[0m \u001b[0;34m=\u001b[0m \u001b[0;34m[\u001b[0m\u001b[0mitem\u001b[0m \u001b[0;32mfor\u001b[0m \u001b[0msublist\u001b[0m \u001b[0;32min\u001b[0m \u001b[0mPR_V\u001b[0m \u001b[0;32mfor\u001b[0m \u001b[0mitem\u001b[0m \u001b[0;32min\u001b[0m \u001b[0msublist\u001b[0m\u001b[0;34m]\u001b[0m\u001b[0;34m\u001b[0m\u001b[0;34m\u001b[0m\u001b[0m\n\u001b[1;32m      4\u001b[0m \u001b[0mPR_S\u001b[0m \u001b[0;34m=\u001b[0m \u001b[0;34m[\u001b[0m\u001b[0mitem\u001b[0m \u001b[0;32mfor\u001b[0m \u001b[0msublist\u001b[0m \u001b[0;32min\u001b[0m \u001b[0mPR_S\u001b[0m \u001b[0;32mfor\u001b[0m \u001b[0mitem\u001b[0m \u001b[0;32min\u001b[0m \u001b[0msublist\u001b[0m\u001b[0;34m]\u001b[0m\u001b[0;34m\u001b[0m\u001b[0;34m\u001b[0m\u001b[0m\n",
            "\u001b[0;31mTypeError\u001b[0m: 'float' object is not iterable"
          ]
        }
      ]
    },
    {
      "cell_type": "code",
      "source": [
        "#Flatten the structure of the array\n",
        "QR_N = [item for sublist in QR_N for item in sublist]\n",
        "QR_V = [item for sublist in QR_V for item in sublist]\n",
        "QR_S = [item for sublist in QR_S for item in sublist]"
      ],
      "metadata": {
        "id": "OWVPt6JdCkpr",
        "colab": {
          "base_uri": "https://localhost:8080/",
          "height": 322
        },
        "outputId": "5bc1d985-10ba-432d-901c-2b8908ada86b"
      },
      "execution_count": 93,
      "outputs": [
        {
          "output_type": "error",
          "ename": "TypeError",
          "evalue": "ignored",
          "traceback": [
            "\u001b[0;31m---------------------------------------------------------------------------\u001b[0m",
            "\u001b[0;31mTypeError\u001b[0m                                 Traceback (most recent call last)",
            "\u001b[0;32m<ipython-input-93-e1110467993d>\u001b[0m in \u001b[0;36m<module>\u001b[0;34m()\u001b[0m\n\u001b[1;32m      1\u001b[0m \u001b[0;31m#Flatten the structure of the array\u001b[0m\u001b[0;34m\u001b[0m\u001b[0;34m\u001b[0m\u001b[0;34m\u001b[0m\u001b[0m\n\u001b[0;32m----> 2\u001b[0;31m \u001b[0mQR_N\u001b[0m \u001b[0;34m=\u001b[0m \u001b[0;34m[\u001b[0m\u001b[0mitem\u001b[0m \u001b[0;32mfor\u001b[0m \u001b[0msublist\u001b[0m \u001b[0;32min\u001b[0m \u001b[0mQR_N\u001b[0m \u001b[0;32mfor\u001b[0m \u001b[0mitem\u001b[0m \u001b[0;32min\u001b[0m \u001b[0msublist\u001b[0m\u001b[0;34m]\u001b[0m\u001b[0;34m\u001b[0m\u001b[0;34m\u001b[0m\u001b[0m\n\u001b[0m\u001b[1;32m      3\u001b[0m \u001b[0mQR_V\u001b[0m \u001b[0;34m=\u001b[0m \u001b[0;34m[\u001b[0m\u001b[0mitem\u001b[0m \u001b[0;32mfor\u001b[0m \u001b[0msublist\u001b[0m \u001b[0;32min\u001b[0m \u001b[0mQR_V\u001b[0m \u001b[0;32mfor\u001b[0m \u001b[0mitem\u001b[0m \u001b[0;32min\u001b[0m \u001b[0msublist\u001b[0m\u001b[0;34m]\u001b[0m\u001b[0;34m\u001b[0m\u001b[0;34m\u001b[0m\u001b[0m\n\u001b[1;32m      4\u001b[0m \u001b[0mQR_S\u001b[0m \u001b[0;34m=\u001b[0m \u001b[0;34m[\u001b[0m\u001b[0mitem\u001b[0m \u001b[0;32mfor\u001b[0m \u001b[0msublist\u001b[0m \u001b[0;32min\u001b[0m \u001b[0mQR_S\u001b[0m \u001b[0;32mfor\u001b[0m \u001b[0mitem\u001b[0m \u001b[0;32min\u001b[0m \u001b[0msublist\u001b[0m\u001b[0;34m]\u001b[0m\u001b[0;34m\u001b[0m\u001b[0;34m\u001b[0m\u001b[0m\n",
            "\u001b[0;32m<ipython-input-93-e1110467993d>\u001b[0m in \u001b[0;36m<listcomp>\u001b[0;34m(.0)\u001b[0m\n\u001b[1;32m      1\u001b[0m \u001b[0;31m#Flatten the structure of the array\u001b[0m\u001b[0;34m\u001b[0m\u001b[0;34m\u001b[0m\u001b[0;34m\u001b[0m\u001b[0m\n\u001b[0;32m----> 2\u001b[0;31m \u001b[0mQR_N\u001b[0m \u001b[0;34m=\u001b[0m \u001b[0;34m[\u001b[0m\u001b[0mitem\u001b[0m \u001b[0;32mfor\u001b[0m \u001b[0msublist\u001b[0m \u001b[0;32min\u001b[0m \u001b[0mQR_N\u001b[0m \u001b[0;32mfor\u001b[0m \u001b[0mitem\u001b[0m \u001b[0;32min\u001b[0m \u001b[0msublist\u001b[0m\u001b[0;34m]\u001b[0m\u001b[0;34m\u001b[0m\u001b[0;34m\u001b[0m\u001b[0m\n\u001b[0m\u001b[1;32m      3\u001b[0m \u001b[0mQR_V\u001b[0m \u001b[0;34m=\u001b[0m \u001b[0;34m[\u001b[0m\u001b[0mitem\u001b[0m \u001b[0;32mfor\u001b[0m \u001b[0msublist\u001b[0m \u001b[0;32min\u001b[0m \u001b[0mQR_V\u001b[0m \u001b[0;32mfor\u001b[0m \u001b[0mitem\u001b[0m \u001b[0;32min\u001b[0m \u001b[0msublist\u001b[0m\u001b[0;34m]\u001b[0m\u001b[0;34m\u001b[0m\u001b[0;34m\u001b[0m\u001b[0m\n\u001b[1;32m      4\u001b[0m \u001b[0mQR_S\u001b[0m \u001b[0;34m=\u001b[0m \u001b[0;34m[\u001b[0m\u001b[0mitem\u001b[0m \u001b[0;32mfor\u001b[0m \u001b[0msublist\u001b[0m \u001b[0;32min\u001b[0m \u001b[0mQR_S\u001b[0m \u001b[0;32mfor\u001b[0m \u001b[0mitem\u001b[0m \u001b[0;32min\u001b[0m \u001b[0msublist\u001b[0m\u001b[0;34m]\u001b[0m\u001b[0;34m\u001b[0m\u001b[0;34m\u001b[0m\u001b[0m\n",
            "\u001b[0;31mTypeError\u001b[0m: 'numpy.float64' object is not iterable"
          ]
        }
      ]
    },
    {
      "cell_type": "code",
      "source": [
        "import matplotlib.pyplot as plt\n",
        "import pandas as pd\n",
        "import seaborn as sns\n",
        "\n",
        "df = pd.DataFrame({'PR_N': PR_N[0:len(PR_V)], 'PR_V': PR_V, 'PR_S': PR_S[0:len(PR_V)] })\n",
        "sns.boxplot(data=df)\n"
      ],
      "metadata": {
        "id": "owwv63MVxhmF",
        "colab": {
          "base_uri": "https://localhost:8080/",
          "height": 346
        },
        "outputId": "fb58a5b9-d3a3-4d74-a249-b483c98481a3"
      },
      "execution_count": 87,
      "outputs": [
        {
          "output_type": "error",
          "ename": "ValueError",
          "evalue": "ignored",
          "traceback": [
            "\u001b[0;31m---------------------------------------------------------------------------\u001b[0m",
            "\u001b[0;31mValueError\u001b[0m                                Traceback (most recent call last)",
            "\u001b[0;32m<ipython-input-87-8a924cf4e0c5>\u001b[0m in \u001b[0;36m<module>\u001b[0;34m()\u001b[0m\n\u001b[1;32m      4\u001b[0m \u001b[0;34m\u001b[0m\u001b[0m\n\u001b[1;32m      5\u001b[0m \u001b[0mdf\u001b[0m \u001b[0;34m=\u001b[0m \u001b[0mpd\u001b[0m\u001b[0;34m.\u001b[0m\u001b[0mDataFrame\u001b[0m\u001b[0;34m(\u001b[0m\u001b[0;34m{\u001b[0m\u001b[0;34m'PR_N'\u001b[0m\u001b[0;34m:\u001b[0m \u001b[0mPR_N\u001b[0m\u001b[0;34m[\u001b[0m\u001b[0;36m0\u001b[0m\u001b[0;34m:\u001b[0m\u001b[0mlen\u001b[0m\u001b[0;34m(\u001b[0m\u001b[0mPR_V\u001b[0m\u001b[0;34m)\u001b[0m\u001b[0;34m]\u001b[0m\u001b[0;34m,\u001b[0m \u001b[0;34m'PR_V'\u001b[0m\u001b[0;34m:\u001b[0m \u001b[0mPR_V\u001b[0m\u001b[0;34m,\u001b[0m \u001b[0;34m'PR_S'\u001b[0m\u001b[0;34m:\u001b[0m \u001b[0mPR_S\u001b[0m\u001b[0;34m[\u001b[0m\u001b[0;36m0\u001b[0m\u001b[0;34m:\u001b[0m\u001b[0mlen\u001b[0m\u001b[0;34m(\u001b[0m\u001b[0mPR_V\u001b[0m\u001b[0;34m)\u001b[0m\u001b[0;34m]\u001b[0m \u001b[0;34m}\u001b[0m\u001b[0;34m)\u001b[0m\u001b[0;34m\u001b[0m\u001b[0;34m\u001b[0m\u001b[0m\n\u001b[0;32m----> 6\u001b[0;31m \u001b[0msns\u001b[0m\u001b[0;34m.\u001b[0m\u001b[0mboxplot\u001b[0m\u001b[0;34m(\u001b[0m\u001b[0mdata\u001b[0m\u001b[0;34m=\u001b[0m\u001b[0mdf\u001b[0m\u001b[0;34m)\u001b[0m\u001b[0;34m\u001b[0m\u001b[0;34m\u001b[0m\u001b[0m\n\u001b[0m",
            "\u001b[0;32m/usr/local/lib/python3.7/dist-packages/seaborn/_decorators.py\u001b[0m in \u001b[0;36minner_f\u001b[0;34m(*args, **kwargs)\u001b[0m\n\u001b[1;32m     44\u001b[0m             )\n\u001b[1;32m     45\u001b[0m         \u001b[0mkwargs\u001b[0m\u001b[0;34m.\u001b[0m\u001b[0mupdate\u001b[0m\u001b[0;34m(\u001b[0m\u001b[0;34m{\u001b[0m\u001b[0mk\u001b[0m\u001b[0;34m:\u001b[0m \u001b[0marg\u001b[0m \u001b[0;32mfor\u001b[0m \u001b[0mk\u001b[0m\u001b[0;34m,\u001b[0m \u001b[0marg\u001b[0m \u001b[0;32min\u001b[0m \u001b[0mzip\u001b[0m\u001b[0;34m(\u001b[0m\u001b[0msig\u001b[0m\u001b[0;34m.\u001b[0m\u001b[0mparameters\u001b[0m\u001b[0;34m,\u001b[0m \u001b[0margs\u001b[0m\u001b[0;34m)\u001b[0m\u001b[0;34m}\u001b[0m\u001b[0;34m)\u001b[0m\u001b[0;34m\u001b[0m\u001b[0;34m\u001b[0m\u001b[0m\n\u001b[0;32m---> 46\u001b[0;31m         \u001b[0;32mreturn\u001b[0m \u001b[0mf\u001b[0m\u001b[0;34m(\u001b[0m\u001b[0;34m**\u001b[0m\u001b[0mkwargs\u001b[0m\u001b[0;34m)\u001b[0m\u001b[0;34m\u001b[0m\u001b[0;34m\u001b[0m\u001b[0m\n\u001b[0m\u001b[1;32m     47\u001b[0m     \u001b[0;32mreturn\u001b[0m \u001b[0minner_f\u001b[0m\u001b[0;34m\u001b[0m\u001b[0;34m\u001b[0m\u001b[0m\n\u001b[1;32m     48\u001b[0m \u001b[0;34m\u001b[0m\u001b[0m\n",
            "\u001b[0;32m/usr/local/lib/python3.7/dist-packages/seaborn/categorical.py\u001b[0m in \u001b[0;36mboxplot\u001b[0;34m(x, y, hue, data, order, hue_order, orient, color, palette, saturation, width, dodge, fliersize, linewidth, whis, ax, **kwargs)\u001b[0m\n\u001b[1;32m   2243\u001b[0m     plotter = _BoxPlotter(x, y, hue, data, order, hue_order,\n\u001b[1;32m   2244\u001b[0m                           \u001b[0morient\u001b[0m\u001b[0;34m,\u001b[0m \u001b[0mcolor\u001b[0m\u001b[0;34m,\u001b[0m \u001b[0mpalette\u001b[0m\u001b[0;34m,\u001b[0m \u001b[0msaturation\u001b[0m\u001b[0;34m,\u001b[0m\u001b[0;34m\u001b[0m\u001b[0;34m\u001b[0m\u001b[0m\n\u001b[0;32m-> 2245\u001b[0;31m                           width, dodge, fliersize, linewidth)\n\u001b[0m\u001b[1;32m   2246\u001b[0m \u001b[0;34m\u001b[0m\u001b[0m\n\u001b[1;32m   2247\u001b[0m     \u001b[0;32mif\u001b[0m \u001b[0max\u001b[0m \u001b[0;32mis\u001b[0m \u001b[0;32mNone\u001b[0m\u001b[0;34m:\u001b[0m\u001b[0;34m\u001b[0m\u001b[0;34m\u001b[0m\u001b[0m\n",
            "\u001b[0;32m/usr/local/lib/python3.7/dist-packages/seaborn/categorical.py\u001b[0m in \u001b[0;36m__init__\u001b[0;34m(self, x, y, hue, data, order, hue_order, orient, color, palette, saturation, width, dodge, fliersize, linewidth)\u001b[0m\n\u001b[1;32m    405\u001b[0m \u001b[0;34m\u001b[0m\u001b[0m\n\u001b[1;32m    406\u001b[0m         \u001b[0mself\u001b[0m\u001b[0;34m.\u001b[0m\u001b[0mestablish_variables\u001b[0m\u001b[0;34m(\u001b[0m\u001b[0mx\u001b[0m\u001b[0;34m,\u001b[0m \u001b[0my\u001b[0m\u001b[0;34m,\u001b[0m \u001b[0mhue\u001b[0m\u001b[0;34m,\u001b[0m \u001b[0mdata\u001b[0m\u001b[0;34m,\u001b[0m \u001b[0morient\u001b[0m\u001b[0;34m,\u001b[0m \u001b[0morder\u001b[0m\u001b[0;34m,\u001b[0m \u001b[0mhue_order\u001b[0m\u001b[0;34m)\u001b[0m\u001b[0;34m\u001b[0m\u001b[0;34m\u001b[0m\u001b[0m\n\u001b[0;32m--> 407\u001b[0;31m         \u001b[0mself\u001b[0m\u001b[0;34m.\u001b[0m\u001b[0mestablish_colors\u001b[0m\u001b[0;34m(\u001b[0m\u001b[0mcolor\u001b[0m\u001b[0;34m,\u001b[0m \u001b[0mpalette\u001b[0m\u001b[0;34m,\u001b[0m \u001b[0msaturation\u001b[0m\u001b[0;34m)\u001b[0m\u001b[0;34m\u001b[0m\u001b[0;34m\u001b[0m\u001b[0m\n\u001b[0m\u001b[1;32m    408\u001b[0m \u001b[0;34m\u001b[0m\u001b[0m\n\u001b[1;32m    409\u001b[0m         \u001b[0mself\u001b[0m\u001b[0;34m.\u001b[0m\u001b[0mdodge\u001b[0m \u001b[0;34m=\u001b[0m \u001b[0mdodge\u001b[0m\u001b[0;34m\u001b[0m\u001b[0;34m\u001b[0m\u001b[0m\n",
            "\u001b[0;32m/usr/local/lib/python3.7/dist-packages/seaborn/categorical.py\u001b[0m in \u001b[0;36mestablish_colors\u001b[0;34m(self, color, palette, saturation)\u001b[0m\n\u001b[1;32m    317\u001b[0m         \u001b[0;31m# Determine the gray color to use for the lines framing the plot\u001b[0m\u001b[0;34m\u001b[0m\u001b[0;34m\u001b[0m\u001b[0;34m\u001b[0m\u001b[0m\n\u001b[1;32m    318\u001b[0m         \u001b[0mlight_vals\u001b[0m \u001b[0;34m=\u001b[0m \u001b[0;34m[\u001b[0m\u001b[0mcolorsys\u001b[0m\u001b[0;34m.\u001b[0m\u001b[0mrgb_to_hls\u001b[0m\u001b[0;34m(\u001b[0m\u001b[0;34m*\u001b[0m\u001b[0mc\u001b[0m\u001b[0;34m)\u001b[0m\u001b[0;34m[\u001b[0m\u001b[0;36m1\u001b[0m\u001b[0;34m]\u001b[0m \u001b[0;32mfor\u001b[0m \u001b[0mc\u001b[0m \u001b[0;32min\u001b[0m \u001b[0mrgb_colors\u001b[0m\u001b[0;34m]\u001b[0m\u001b[0;34m\u001b[0m\u001b[0;34m\u001b[0m\u001b[0m\n\u001b[0;32m--> 319\u001b[0;31m         \u001b[0mlum\u001b[0m \u001b[0;34m=\u001b[0m \u001b[0mmin\u001b[0m\u001b[0;34m(\u001b[0m\u001b[0mlight_vals\u001b[0m\u001b[0;34m)\u001b[0m \u001b[0;34m*\u001b[0m \u001b[0;36m.6\u001b[0m\u001b[0;34m\u001b[0m\u001b[0;34m\u001b[0m\u001b[0m\n\u001b[0m\u001b[1;32m    320\u001b[0m         \u001b[0mgray\u001b[0m \u001b[0;34m=\u001b[0m \u001b[0mmpl\u001b[0m\u001b[0;34m.\u001b[0m\u001b[0mcolors\u001b[0m\u001b[0;34m.\u001b[0m\u001b[0mrgb2hex\u001b[0m\u001b[0;34m(\u001b[0m\u001b[0;34m(\u001b[0m\u001b[0mlum\u001b[0m\u001b[0;34m,\u001b[0m \u001b[0mlum\u001b[0m\u001b[0;34m,\u001b[0m \u001b[0mlum\u001b[0m\u001b[0;34m)\u001b[0m\u001b[0;34m)\u001b[0m\u001b[0;34m\u001b[0m\u001b[0;34m\u001b[0m\u001b[0m\n\u001b[1;32m    321\u001b[0m \u001b[0;34m\u001b[0m\u001b[0m\n",
            "\u001b[0;31mValueError\u001b[0m: min() arg is an empty sequence"
          ]
        }
      ]
    },
    {
      "cell_type": "code",
      "source": [
        "df1 = pd.DataFrame({'QR_N': QR_N[0:len(QR_V)], 'QR_V': QR_V, 'QR_S': QR_S[0:len(QR_V)]})\n",
        "sns.boxplot(data = df1)"
      ],
      "metadata": {
        "colab": {
          "base_uri": "https://localhost:8080/",
          "height": 283
        },
        "id": "FQrL1EyOCuQp",
        "outputId": "6acdcdb2-ca3a-4b82-a7ca-bcaad107d076"
      },
      "execution_count": 76,
      "outputs": [
        {
          "output_type": "execute_result",
          "data": {
            "text/plain": [
              "<matplotlib.axes._subplots.AxesSubplot at 0x7f4d8b537250>"
            ]
          },
          "metadata": {},
          "execution_count": 76
        },
        {
          "output_type": "display_data",
          "data": {
            "image/png": "[encoded data removed]",
            "text/plain": [
              "<Figure size 432x288 with 1 Axes>"
            ]
          },
          "metadata": {
            "needs_background": "light"
          }
        }
      ]
    },
    {
      "cell_type": "code",
      "source": [
        "df2 = pd.DataFrame({'P_N': P_N[0:len(P_V)], 'P_V': P_V, 'P_S': P_S[0:len(P_V)]})\n",
        "sns.boxplot(data = df2)"
      ],
      "metadata": {
        "colab": {
          "base_uri": "https://localhost:8080/",
          "height": 283
        },
        "id": "V2PI_PCuFxZX",
        "outputId": "bad36cf6-6dd5-4238-d676-9f30d59a322a"
      },
      "execution_count": 80,
      "outputs": [
        {
          "output_type": "execute_result",
          "data": {
            "text/plain": [
              "<matplotlib.axes._subplots.AxesSubplot at 0x7f4d90467fd0>"
            ]
          },
          "metadata": {},
          "execution_count": 80
        },
        {
          "output_type": "display_data",
          "data": {
            "image/png": "[encoded data removed]",
            "text/plain": [
              "<Figure size 432x288 with 1 Axes>"
            ]
          },
          "metadata": {
            "needs_background": "light"
          }
        }
      ]
    },
    {
      "cell_type": "markdown",
      "source": [
        "# Single heartbeat extraction"
      ],
      "metadata": {
        "id": "EphQuWQ4gxrE"
      }
    },
    {
      "cell_type": "code",
      "source": [
        "# extract a sample ecg \n",
        "ecg_sample = np.asarray(ecgs[0]['ecg'], dtype=np.float64) \n",
        "sampling = ecg_freq(filenames[0]) \n",
        " \n",
        "#Extract peaks from traning set and their labels \n",
        "sample_rpeaks = rpks[0]['rpeaks'] \n",
        "rpeaks = {'ECG_R_Peaks': sample_rpeaks.flatten(), 'sampling_rate': sampling} \n",
        " \n",
        "ecg_signal = nk.ecg_clean(ecg_sample[:,0], sampling_rate=sampling, method='neurokit2') \n",
        " \n",
        "# extract heartbeats of current ecg \n",
        "ecg_heartbeats = nk.ecg_segment(ecg_cleaned=ecg_signal, rpeaks=rpeaks['ECG_R_Peaks'], sampling_rate=sampling, show=True)"
      ],
      "metadata": {
        "colab": {
          "base_uri": "https://localhost:8080/",
          "height": 295
        },
        "id": "XAZSufeIiZA6",
        "outputId": "9f966ae6-87f8-410f-f083-0bc1ae29cdbf"
      },
      "execution_count": null,
      "outputs": [
        {
          "output_type": "display_data",
          "data": {
            "image/png": "[encoded data removed]",
            "text/plain": [
              "<Figure size 432x288 with 1 Axes>"
            ]
          },
          "metadata": {
            "needs_background": "light"
          }
        }
      ]
    },
    {
      "cell_type": "code",
      "source": [
        "# Try to extract each single heartbeat\n",
        "\n",
        "# list of list that contains all heartbeats divided by patient\n",
        "patient_heartbeats = []\n",
        "\n",
        "for i in tqdm(range(len(ecgs))):\n",
        "  # extract a sample ecg\n",
        "  ecg_sample = np.asarray(ecgs[i]['ecg'], dtype=np.float64)\n",
        "  sampling = ecg_freq(filenames[i])\n",
        "  #ecg_sample_= np.arange(0, ecg_sample.shape[0]/sampling, 1/sampling)\n",
        "\n",
        "  # Handling last beats (if last rpeak is >= to current ecg lenght, we remove it)\n",
        "  if sample_rpeaks[-1] >= len(ecg_signal):\n",
        "    sample_labels = sample_labels[:-1]\n",
        "    sample_rpeaks = sample_rpeaks[:-1]\n",
        "  #Extract peaks from traning set and their labels\n",
        "  sample_rpeaks = rpks[i]['rpeaks'] \n",
        "  rpeaks = {'ECG_R_Peaks': sample_rpeaks.flatten(), 'sampling_rate': sampling}\n",
        "\n",
        "  # clean ecg_sample\n",
        "  ecg_signal = nk.ecg_clean(ecg_sample[:,0], sampling_rate=sampling, method='neurokit2')\n",
        "\n",
        "  # extract heartbeats of current ecg\n",
        "  ecg_heartbeats = nk.ecg_segment(ecg_cleaned=ecg_signal, rpeaks=rpeaks['ECG_R_Peaks'], sampling_rate=sampling)\n",
        "  patient_heartbeats.append(ecg_heartbeats)\n",
        "\n",
        "  "
      ],
      "metadata": {
        "colab": {
          "base_uri": "https://localhost:8080/",
          "height": 468
        },
        "id": "Vj8pYUpgg2zq",
        "outputId": "55162eda-de18-41b8-a3f9-100bb3b689de"
      },
      "execution_count": null,
      "outputs": [
        {
          "output_type": "stream",
          "name": "stdout",
          "text": [
            "0\n",
            "1\n",
            "2\n",
            "3\n",
            "4\n"
          ]
        },
        {
          "output_type": "error",
          "ename": "ValueError",
          "evalue": "ignored",
          "traceback": [
            "\u001b[0;31m---------------------------------------------------------------------------\u001b[0m",
            "\u001b[0;31mValueError\u001b[0m                                Traceback (most recent call last)",
            "\u001b[0;32m<ipython-input-163-9302e51db1b5>\u001b[0m in \u001b[0;36m<module>\u001b[0;34m()\u001b[0m\n\u001b[1;32m     19\u001b[0m   \u001b[0;31m# extract heartbeats of current ecg\u001b[0m\u001b[0;34m\u001b[0m\u001b[0;34m\u001b[0m\u001b[0;34m\u001b[0m\u001b[0m\n\u001b[1;32m     20\u001b[0m   \u001b[0mprint\u001b[0m\u001b[0;34m(\u001b[0m\u001b[0mi\u001b[0m\u001b[0;34m)\u001b[0m\u001b[0;34m\u001b[0m\u001b[0;34m\u001b[0m\u001b[0m\n\u001b[0;32m---> 21\u001b[0;31m   \u001b[0mecg_heartbeats\u001b[0m \u001b[0;34m=\u001b[0m \u001b[0mnk\u001b[0m\u001b[0;34m.\u001b[0m\u001b[0mecg_segment\u001b[0m\u001b[0;34m(\u001b[0m\u001b[0mecg_cleaned\u001b[0m\u001b[0;34m=\u001b[0m\u001b[0mecg_signal\u001b[0m\u001b[0;34m,\u001b[0m \u001b[0mrpeaks\u001b[0m\u001b[0;34m=\u001b[0m\u001b[0mrpeaks\u001b[0m\u001b[0;34m[\u001b[0m\u001b[0;34m'ECG_R_Peaks'\u001b[0m\u001b[0;34m]\u001b[0m\u001b[0;34m,\u001b[0m \u001b[0msampling_rate\u001b[0m\u001b[0;34m=\u001b[0m\u001b[0msampling\u001b[0m\u001b[0;34m)\u001b[0m\u001b[0;34m\u001b[0m\u001b[0;34m\u001b[0m\u001b[0m\n\u001b[0m\u001b[1;32m     22\u001b[0m   \u001b[0mpatient_heartbeats\u001b[0m\u001b[0;34m.\u001b[0m\u001b[0mappend\u001b[0m\u001b[0;34m(\u001b[0m\u001b[0mecg_heartbeats\u001b[0m\u001b[0;34m)\u001b[0m\u001b[0;34m\u001b[0m\u001b[0;34m\u001b[0m\u001b[0m\n\u001b[1;32m     23\u001b[0m \u001b[0;34m\u001b[0m\u001b[0m\n",
            "\u001b[0;32m/usr/local/lib/python3.7/dist-packages/neurokit2/ecg/ecg_segment.py\u001b[0m in \u001b[0;36mecg_segment\u001b[0;34m(ecg_cleaned, rpeaks, sampling_rate, show)\u001b[0m\n\u001b[1;32m     54\u001b[0m \u001b[0;34m\u001b[0m\u001b[0m\n\u001b[1;32m     55\u001b[0m     epochs_start, epochs_end = _ecg_segment_window(\n\u001b[0;32m---> 56\u001b[0;31m         \u001b[0mrpeaks\u001b[0m\u001b[0;34m=\u001b[0m\u001b[0mrpeaks\u001b[0m\u001b[0;34m,\u001b[0m \u001b[0msampling_rate\u001b[0m\u001b[0;34m=\u001b[0m\u001b[0msampling_rate\u001b[0m\u001b[0;34m,\u001b[0m \u001b[0mdesired_length\u001b[0m\u001b[0;34m=\u001b[0m\u001b[0mlen\u001b[0m\u001b[0;34m(\u001b[0m\u001b[0mecg_cleaned\u001b[0m\u001b[0;34m)\u001b[0m\u001b[0;34m\u001b[0m\u001b[0;34m\u001b[0m\u001b[0m\n\u001b[0m\u001b[1;32m     57\u001b[0m     )\n\u001b[1;32m     58\u001b[0m     heartbeats = epochs_create(\n",
            "\u001b[0;32m/usr/local/lib/python3.7/dist-packages/neurokit2/ecg/ecg_segment.py\u001b[0m in \u001b[0;36m_ecg_segment_window\u001b[0;34m(heart_rate, rpeaks, sampling_rate, desired_length)\u001b[0m\n\u001b[1;32m     83\u001b[0m         \u001b[0mheart_rate\u001b[0m \u001b[0;34m=\u001b[0m \u001b[0mnp\u001b[0m\u001b[0;34m.\u001b[0m\u001b[0mmean\u001b[0m\u001b[0;34m(\u001b[0m\u001b[0mheart_rate\u001b[0m\u001b[0;34m)\u001b[0m\u001b[0;34m\u001b[0m\u001b[0;34m\u001b[0m\u001b[0m\n\u001b[1;32m     84\u001b[0m     \u001b[0;32mif\u001b[0m \u001b[0mrpeaks\u001b[0m \u001b[0;32mis\u001b[0m \u001b[0;32mnot\u001b[0m \u001b[0;32mNone\u001b[0m\u001b[0;34m:\u001b[0m\u001b[0;34m\u001b[0m\u001b[0;34m\u001b[0m\u001b[0m\n\u001b[0;32m---> 85\u001b[0;31m         \u001b[0mheart_rate\u001b[0m \u001b[0;34m=\u001b[0m \u001b[0mnp\u001b[0m\u001b[0;34m.\u001b[0m\u001b[0mmean\u001b[0m\u001b[0;34m(\u001b[0m\u001b[0msignal_rate\u001b[0m\u001b[0;34m(\u001b[0m\u001b[0mrpeaks\u001b[0m\u001b[0;34m,\u001b[0m \u001b[0msampling_rate\u001b[0m\u001b[0;34m=\u001b[0m\u001b[0msampling_rate\u001b[0m\u001b[0;34m,\u001b[0m \u001b[0mdesired_length\u001b[0m\u001b[0;34m=\u001b[0m\u001b[0mdesired_length\u001b[0m\u001b[0;34m)\u001b[0m\u001b[0;34m)\u001b[0m\u001b[0;34m\u001b[0m\u001b[0;34m\u001b[0m\u001b[0m\n\u001b[0m\u001b[1;32m     86\u001b[0m \u001b[0;34m\u001b[0m\u001b[0m\n\u001b[1;32m     87\u001b[0m     \u001b[0;31m# Modulator\u001b[0m\u001b[0;34m\u001b[0m\u001b[0;34m\u001b[0m\u001b[0;34m\u001b[0m\u001b[0m\n",
            "\u001b[0;32m/usr/local/lib/python3.7/dist-packages/neurokit2/signal/signal_rate.py\u001b[0m in \u001b[0;36msignal_rate\u001b[0;34m(peaks, sampling_rate, desired_length, interpolation_method)\u001b[0m\n\u001b[1;32m     52\u001b[0m \u001b[0;34m\u001b[0m\u001b[0m\n\u001b[1;32m     53\u001b[0m     \"\"\"\n\u001b[0;32m---> 54\u001b[0;31m     \u001b[0mperiod\u001b[0m \u001b[0;34m=\u001b[0m \u001b[0msignal_period\u001b[0m\u001b[0;34m(\u001b[0m\u001b[0mpeaks\u001b[0m\u001b[0;34m,\u001b[0m \u001b[0msampling_rate\u001b[0m\u001b[0;34m,\u001b[0m \u001b[0mdesired_length\u001b[0m\u001b[0;34m,\u001b[0m \u001b[0minterpolation_method\u001b[0m\u001b[0;34m)\u001b[0m\u001b[0;34m\u001b[0m\u001b[0;34m\u001b[0m\u001b[0m\n\u001b[0m\u001b[1;32m     55\u001b[0m     \u001b[0mrate\u001b[0m \u001b[0;34m=\u001b[0m \u001b[0;36m60\u001b[0m \u001b[0;34m/\u001b[0m \u001b[0mperiod\u001b[0m\u001b[0;34m\u001b[0m\u001b[0;34m\u001b[0m\u001b[0m\n\u001b[1;32m     56\u001b[0m \u001b[0;34m\u001b[0m\u001b[0m\n",
            "\u001b[0;32m/usr/local/lib/python3.7/dist-packages/neurokit2/signal/signal_period.py\u001b[0m in \u001b[0;36msignal_period\u001b[0;34m(peaks, sampling_rate, desired_length, interpolation_method)\u001b[0m\n\u001b[1;32m     66\u001b[0m     \u001b[0;32mif\u001b[0m \u001b[0misinstance\u001b[0m\u001b[0;34m(\u001b[0m\u001b[0mdesired_length\u001b[0m\u001b[0;34m,\u001b[0m \u001b[0;34m(\u001b[0m\u001b[0mint\u001b[0m\u001b[0;34m,\u001b[0m \u001b[0mfloat\u001b[0m\u001b[0;34m)\u001b[0m\u001b[0;34m)\u001b[0m\u001b[0;34m:\u001b[0m\u001b[0;34m\u001b[0m\u001b[0;34m\u001b[0m\u001b[0m\n\u001b[1;32m     67\u001b[0m         \u001b[0;32mif\u001b[0m \u001b[0mdesired_length\u001b[0m \u001b[0;34m<=\u001b[0m \u001b[0mpeaks\u001b[0m\u001b[0;34m[\u001b[0m\u001b[0;34m-\u001b[0m\u001b[0;36m1\u001b[0m\u001b[0;34m]\u001b[0m\u001b[0;34m:\u001b[0m\u001b[0;34m\u001b[0m\u001b[0;34m\u001b[0m\u001b[0m\n\u001b[0;32m---> 68\u001b[0;31m             \u001b[0;32mraise\u001b[0m \u001b[0mValueError\u001b[0m\u001b[0;34m(\u001b[0m\u001b[0;34m\"NeuroKit error: desired_length must be None or larger than the index of the last peak.\"\u001b[0m\u001b[0;34m)\u001b[0m\u001b[0;34m\u001b[0m\u001b[0;34m\u001b[0m\u001b[0m\n\u001b[0m\u001b[1;32m     69\u001b[0m \u001b[0;34m\u001b[0m\u001b[0m\n\u001b[1;32m     70\u001b[0m     \u001b[0;31m# Calculate period in sec, based on peak to peak difference and make sure\u001b[0m\u001b[0;34m\u001b[0m\u001b[0;34m\u001b[0m\u001b[0;34m\u001b[0m\u001b[0m\n",
            "\u001b[0;31mValueError\u001b[0m: NeuroKit error: desired_length must be None or larger than the index of the last peak."
          ]
        }
      ]
    }
  ]
}
