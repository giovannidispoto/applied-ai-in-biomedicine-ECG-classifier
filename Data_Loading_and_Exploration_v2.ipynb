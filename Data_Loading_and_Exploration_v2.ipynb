{
  "nbformat": 4,
  "nbformat_minor": 0,
  "metadata": {
    "colab": {
      "name": "Data_Loading_and_Exploration_v2.ipynb",
      "provenance": [],
      "collapsed_sections": []
    },
    "kernelspec": {
      "name": "python3",
      "display_name": "Python 3"
    },
    "language_info": {
      "name": "python"
    }
  },
  "cells": [
    {
      "cell_type": "code",
      "execution_count": 1,
      "metadata": {
        "colab": {
          "base_uri": "https://localhost:8080/"
        },
        "id": "IKWCc9_G2Jip",
        "outputId": "f317f991-b6c5-46dd-d7ce-fac075874c18"
      },
      "outputs": [
        {
          "output_type": "stream",
          "name": "stdout",
          "text": [
            "Mounted at /content/drive\n"
          ]
        }
      ],
      "source": [
        "from google.colab import drive\n",
        "drive.mount('/content/drive')"
      ]
    },
    {
      "cell_type": "code",
      "source": [
        "!unzip /content/drive/MyDrive/AppliedAIinBiomedicine/final-assignment/training_set.zip -d /content/training_set"
      ],
      "metadata": {
        "colab": {
          "base_uri": "https://localhost:8080/"
        },
        "id": "kdNTncnhOLVa",
        "outputId": "cf95bdb6-71c6-4dff-933b-37696c66d003"
      },
      "execution_count": 2,
      "outputs": [
        {
          "output_type": "stream",
          "name": "stdout",
          "text": [
            "Archive:  /content/drive/MyDrive/AppliedAIinBiomedicine/final-assignment/training_set.zip\n",
            "  inflating: /content/training_set/S001_128.mat  \n",
            "  inflating: /content/training_set/S001_128_ann.mat  \n",
            "  inflating: /content/training_set/S001_128_rpk.mat  \n",
            "  inflating: /content/training_set/S002_128.mat  \n",
            "  inflating: /content/training_set/S002_128_ann.mat  \n",
            " extracting: /content/training_set/S002_128_rpk.mat  \n",
            "  inflating: /content/training_set/S003_128.mat  \n",
            "  inflating: /content/training_set/S003_128_ann.mat  \n",
            "  inflating: /content/training_set/S003_128_rpk.mat  \n",
            "  inflating: /content/training_set/S004_128.mat  \n",
            "  inflating: /content/training_set/S004_128_ann.mat  \n",
            " extracting: /content/training_set/S004_128_rpk.mat  \n",
            "  inflating: /content/training_set/S005_128.mat  \n",
            "  inflating: /content/training_set/S005_128_ann.mat  \n",
            "  inflating: /content/training_set/S005_128_rpk.mat  \n",
            "  inflating: /content/training_set/S006_128.mat  \n",
            "  inflating: /content/training_set/S006_128_ann.mat  \n",
            "  inflating: /content/training_set/S006_128_rpk.mat  \n",
            "  inflating: /content/training_set/S007_128.mat  \n",
            "  inflating: /content/training_set/S007_128_ann.mat  \n",
            " extracting: /content/training_set/S007_128_rpk.mat  \n",
            "  inflating: /content/training_set/S008_128.mat  \n",
            "  inflating: /content/training_set/S008_128_ann.mat  \n",
            " extracting: /content/training_set/S008_128_rpk.mat  \n",
            "  inflating: /content/training_set/S009_128.mat  \n",
            "  inflating: /content/training_set/S009_128_ann.mat  \n",
            " extracting: /content/training_set/S009_128_rpk.mat  \n",
            "  inflating: /content/training_set/S010_128.mat  \n",
            "  inflating: /content/training_set/S010_128_ann.mat  \n",
            " extracting: /content/training_set/S010_128_rpk.mat  \n",
            "  inflating: /content/training_set/S011_128.mat  \n",
            "  inflating: /content/training_set/S011_128_ann.mat  \n",
            " extracting: /content/training_set/S011_128_rpk.mat  \n",
            "  inflating: /content/training_set/S012_128.mat  \n",
            "  inflating: /content/training_set/S012_128_ann.mat  \n",
            " extracting: /content/training_set/S012_128_rpk.mat  \n",
            "  inflating: /content/training_set/S013_128.mat  \n",
            "  inflating: /content/training_set/S013_128_ann.mat  \n",
            "  inflating: /content/training_set/S013_128_rpk.mat  \n",
            "  inflating: /content/training_set/S014_128.mat  \n",
            "  inflating: /content/training_set/S014_128_ann.mat  \n",
            "  inflating: /content/training_set/S014_128_rpk.mat  \n",
            "  inflating: /content/training_set/S015_128.mat  \n",
            "  inflating: /content/training_set/S015_128_ann.mat  \n",
            "  inflating: /content/training_set/S015_128_rpk.mat  \n",
            "  inflating: /content/training_set/S016_128.mat  \n",
            "  inflating: /content/training_set/S016_128_ann.mat  \n",
            "  inflating: /content/training_set/S016_128_rpk.mat  \n",
            "  inflating: /content/training_set/S017_128.mat  \n",
            "  inflating: /content/training_set/S017_128_ann.mat  \n",
            "  inflating: /content/training_set/S017_128_rpk.mat  \n",
            "  inflating: /content/training_set/S018_128.mat  \n",
            "  inflating: /content/training_set/S018_128_ann.mat  \n",
            "  inflating: /content/training_set/S018_128_rpk.mat  \n",
            "  inflating: /content/training_set/S019_128.mat  \n",
            "  inflating: /content/training_set/S019_128_ann.mat  \n",
            "  inflating: /content/training_set/S019_128_rpk.mat  \n",
            "  inflating: /content/training_set/S020_128.mat  \n",
            "  inflating: /content/training_set/S020_128_ann.mat  \n",
            " extracting: /content/training_set/S020_128_rpk.mat  \n",
            "  inflating: /content/training_set/S021_128.mat  \n",
            "  inflating: /content/training_set/S021_128_ann.mat  \n",
            "  inflating: /content/training_set/S021_128_rpk.mat  \n",
            "  inflating: /content/training_set/S022_128.mat  \n",
            "  inflating: /content/training_set/S022_128_ann.mat  \n",
            "  inflating: /content/training_set/S022_128_rpk.mat  \n",
            "  inflating: /content/training_set/S023_128.mat  \n",
            "  inflating: /content/training_set/S023_128_ann.mat  \n",
            "  inflating: /content/training_set/S023_128_rpk.mat  \n",
            "  inflating: /content/training_set/S024_128.mat  \n",
            "  inflating: /content/training_set/S024_128_ann.mat  \n",
            "  inflating: /content/training_set/S024_128_rpk.mat  \n",
            "  inflating: /content/training_set/S025_128.mat  \n",
            "  inflating: /content/training_set/S025_128_ann.mat  \n",
            "  inflating: /content/training_set/S025_128_rpk.mat  \n",
            "  inflating: /content/training_set/S026_128.mat  \n",
            "  inflating: /content/training_set/S026_128_ann.mat  \n",
            "  inflating: /content/training_set/S026_128_rpk.mat  \n",
            "  inflating: /content/training_set/S027_128.mat  \n",
            "  inflating: /content/training_set/S027_128_ann.mat  \n",
            "  inflating: /content/training_set/S027_128_rpk.mat  \n",
            "  inflating: /content/training_set/S028_128.mat  \n",
            "  inflating: /content/training_set/S028_128_ann.mat  \n",
            "  inflating: /content/training_set/S028_128_rpk.mat  \n",
            "  inflating: /content/training_set/S029_128.mat  \n",
            "  inflating: /content/training_set/S029_128_ann.mat  \n",
            " extracting: /content/training_set/S029_128_rpk.mat  \n",
            "  inflating: /content/training_set/S030_128.mat  \n",
            "  inflating: /content/training_set/S030_128_ann.mat  \n",
            "  inflating: /content/training_set/S030_128_rpk.mat  \n",
            "  inflating: /content/training_set/S031_128.mat  \n",
            "  inflating: /content/training_set/S031_128_ann.mat  \n",
            " extracting: /content/training_set/S031_128_rpk.mat  \n",
            "  inflating: /content/training_set/S032_128.mat  \n",
            "  inflating: /content/training_set/S032_128_ann.mat  \n",
            " extracting: /content/training_set/S032_128_rpk.mat  \n",
            "  inflating: /content/training_set/S033_128.mat  \n",
            "  inflating: /content/training_set/S033_128_ann.mat  \n",
            " extracting: /content/training_set/S033_128_rpk.mat  \n",
            "  inflating: /content/training_set/S034_128.mat  \n",
            "  inflating: /content/training_set/S034_128_ann.mat  \n",
            "  inflating: /content/training_set/S034_128_rpk.mat  \n",
            "  inflating: /content/training_set/S035_128.mat  \n",
            "  inflating: /content/training_set/S035_128_ann.mat  \n",
            "  inflating: /content/training_set/S035_128_rpk.mat  \n",
            "  inflating: /content/training_set/S036_128.mat  \n",
            "  inflating: /content/training_set/S036_128_ann.mat  \n",
            "  inflating: /content/training_set/S036_128_rpk.mat  \n",
            "  inflating: /content/training_set/S037_128.mat  \n",
            "  inflating: /content/training_set/S037_128_ann.mat  \n",
            "  inflating: /content/training_set/S037_128_rpk.mat  \n",
            "  inflating: /content/training_set/S038_128.mat  \n",
            "  inflating: /content/training_set/S038_128_ann.mat  \n",
            " extracting: /content/training_set/S038_128_rpk.mat  \n",
            "  inflating: /content/training_set/S039_128.mat  \n",
            "  inflating: /content/training_set/S039_128_ann.mat  \n",
            "  inflating: /content/training_set/S039_128_rpk.mat  \n",
            "  inflating: /content/training_set/S040_128.mat  \n",
            "  inflating: /content/training_set/S040_128_ann.mat  \n",
            " extracting: /content/training_set/S040_128_rpk.mat  \n",
            "  inflating: /content/training_set/S041_128.mat  \n",
            "  inflating: /content/training_set/S041_128_ann.mat  \n",
            "  inflating: /content/training_set/S041_128_rpk.mat  \n",
            "  inflating: /content/training_set/S042_128.mat  \n",
            "  inflating: /content/training_set/S042_128_ann.mat  \n",
            "  inflating: /content/training_set/S042_128_rpk.mat  \n",
            "  inflating: /content/training_set/S043_128.mat  \n",
            "  inflating: /content/training_set/S043_128_ann.mat  \n",
            "  inflating: /content/training_set/S043_128_rpk.mat  \n",
            "  inflating: /content/training_set/S044_128.mat  \n",
            "  inflating: /content/training_set/S044_128_ann.mat  \n",
            "  inflating: /content/training_set/S044_128_rpk.mat  \n",
            "  inflating: /content/training_set/S045_128.mat  \n",
            "  inflating: /content/training_set/S045_128_ann.mat  \n",
            "  inflating: /content/training_set/S045_128_rpk.mat  \n",
            "  inflating: /content/training_set/S046_128.mat  \n",
            "  inflating: /content/training_set/S046_128_ann.mat  \n",
            "  inflating: /content/training_set/S046_128_rpk.mat  \n",
            "  inflating: /content/training_set/S047_128.mat  \n",
            "  inflating: /content/training_set/S047_128_ann.mat  \n",
            " extracting: /content/training_set/S047_128_rpk.mat  \n",
            "  inflating: /content/training_set/S048_128.mat  \n",
            "  inflating: /content/training_set/S048_128_ann.mat  \n",
            "  inflating: /content/training_set/S048_128_rpk.mat  \n",
            "  inflating: /content/training_set/S049_128.mat  \n",
            "  inflating: /content/training_set/S049_128_ann.mat  \n",
            "  inflating: /content/training_set/S049_128_rpk.mat  \n",
            "  inflating: /content/training_set/S050_128.mat  \n",
            "  inflating: /content/training_set/S050_128_ann.mat  \n",
            "  inflating: /content/training_set/S050_128_rpk.mat  \n",
            "  inflating: /content/training_set/S051_128.mat  \n",
            "  inflating: /content/training_set/S051_128_ann.mat  \n",
            " extracting: /content/training_set/S051_128_rpk.mat  \n",
            "  inflating: /content/training_set/S052_128.mat  \n",
            "  inflating: /content/training_set/S052_128_ann.mat  \n",
            " extracting: /content/training_set/S052_128_rpk.mat  \n",
            "  inflating: /content/training_set/S053_128.mat  \n",
            "  inflating: /content/training_set/S053_128_ann.mat  \n",
            "  inflating: /content/training_set/S053_128_rpk.mat  \n",
            "  inflating: /content/training_set/S054_128.mat  \n",
            "  inflating: /content/training_set/S054_128_ann.mat  \n",
            "  inflating: /content/training_set/S054_128_rpk.mat  \n",
            "  inflating: /content/training_set/S055_128.mat  \n",
            "  inflating: /content/training_set/S055_128_ann.mat  \n",
            " extracting: /content/training_set/S055_128_rpk.mat  \n",
            "  inflating: /content/training_set/S056_128.mat  \n",
            "  inflating: /content/training_set/S056_128_ann.mat  \n",
            " extracting: /content/training_set/S056_128_rpk.mat  \n",
            "  inflating: /content/training_set/S057_128.mat  \n",
            "  inflating: /content/training_set/S057_128_ann.mat  \n",
            "  inflating: /content/training_set/S057_128_rpk.mat  \n",
            "  inflating: /content/training_set/S058_128.mat  \n",
            "  inflating: /content/training_set/S058_128_ann.mat  \n",
            "  inflating: /content/training_set/S058_128_rpk.mat  \n",
            "  inflating: /content/training_set/S059_128.mat  \n",
            "  inflating: /content/training_set/S059_128_ann.mat  \n",
            " extracting: /content/training_set/S059_128_rpk.mat  \n",
            "  inflating: /content/training_set/S060_128.mat  \n",
            "  inflating: /content/training_set/S060_128_ann.mat  \n",
            " extracting: /content/training_set/S060_128_rpk.mat  \n",
            "  inflating: /content/training_set/S061_128.mat  \n",
            "  inflating: /content/training_set/S061_128_ann.mat  \n",
            "  inflating: /content/training_set/S061_128_rpk.mat  \n",
            "  inflating: /content/training_set/S062_128.mat  \n",
            "  inflating: /content/training_set/S062_128_ann.mat  \n",
            "  inflating: /content/training_set/S062_128_rpk.mat  \n",
            "  inflating: /content/training_set/S063_128.mat  \n",
            "  inflating: /content/training_set/S063_128_ann.mat  \n",
            " extracting: /content/training_set/S063_128_rpk.mat  \n",
            "  inflating: /content/training_set/S064_128.mat  \n",
            "  inflating: /content/training_set/S064_128_ann.mat  \n",
            "  inflating: /content/training_set/S064_128_rpk.mat  \n",
            "  inflating: /content/training_set/S065_128.mat  \n",
            "  inflating: /content/training_set/S065_128_ann.mat  \n",
            "  inflating: /content/training_set/S065_128_rpk.mat  \n",
            "  inflating: /content/training_set/S079_250.mat  \n",
            "  inflating: /content/training_set/S079_250_ann.mat  \n",
            "  inflating: /content/training_set/S079_250_rpk.mat  \n",
            "  inflating: /content/training_set/S080_250.mat  \n",
            "  inflating: /content/training_set/S080_250_ann.mat  \n",
            "  inflating: /content/training_set/S080_250_rpk.mat  \n",
            "  inflating: /content/training_set/S081_250.mat  \n",
            "  inflating: /content/training_set/S081_250_ann.mat  \n",
            "  inflating: /content/training_set/S081_250_rpk.mat  \n",
            "  inflating: /content/training_set/S082_250.mat  \n",
            "  inflating: /content/training_set/S082_250_ann.mat  \n",
            "  inflating: /content/training_set/S082_250_rpk.mat  \n",
            "  inflating: /content/training_set/S083_250.mat  \n",
            "  inflating: /content/training_set/S083_250_ann.mat  \n",
            "  inflating: /content/training_set/S083_250_rpk.mat  \n",
            "  inflating: /content/training_set/S084_250.mat  \n",
            "  inflating: /content/training_set/S084_250_ann.mat  \n",
            "  inflating: /content/training_set/S084_250_rpk.mat  \n",
            "  inflating: /content/training_set/S085_250.mat  \n",
            "  inflating: /content/training_set/S085_250_ann.mat  \n",
            "  inflating: /content/training_set/S085_250_rpk.mat  \n",
            "  inflating: /content/training_set/S086_250.mat  \n",
            "  inflating: /content/training_set/S086_250_ann.mat  \n",
            "  inflating: /content/training_set/S086_250_rpk.mat  \n",
            "  inflating: /content/training_set/S087_250.mat  \n",
            "  inflating: /content/training_set/S087_250_ann.mat  \n",
            "  inflating: /content/training_set/S087_250_rpk.mat  \n",
            "  inflating: /content/training_set/S088_250.mat  \n",
            "  inflating: /content/training_set/S088_250_ann.mat  \n",
            "  inflating: /content/training_set/S088_250_rpk.mat  \n",
            "  inflating: /content/training_set/S089_250.mat  \n",
            "  inflating: /content/training_set/S089_250_ann.mat  \n",
            "  inflating: /content/training_set/S089_250_rpk.mat  \n",
            "  inflating: /content/training_set/S090_250.mat  \n",
            "  inflating: /content/training_set/S090_250_ann.mat  \n",
            "  inflating: /content/training_set/S090_250_rpk.mat  \n",
            "  inflating: /content/training_set/S091_250.mat  \n",
            "  inflating: /content/training_set/S091_250_ann.mat  \n",
            "  inflating: /content/training_set/S091_250_rpk.mat  \n",
            "  inflating: /content/training_set/S092_250.mat  \n",
            "  inflating: /content/training_set/S092_250_ann.mat  \n",
            "  inflating: /content/training_set/S092_250_rpk.mat  \n",
            "  inflating: /content/training_set/S093_250.mat  \n",
            "  inflating: /content/training_set/S093_250_ann.mat  \n",
            "  inflating: /content/training_set/S093_250_rpk.mat  \n",
            "  inflating: /content/training_set/S094_250.mat  \n",
            "  inflating: /content/training_set/S094_250_ann.mat  \n",
            "  inflating: /content/training_set/S094_250_rpk.mat  \n",
            "  inflating: /content/training_set/S095_250.mat  \n",
            "  inflating: /content/training_set/S095_250_ann.mat  \n",
            "  inflating: /content/training_set/S095_250_rpk.mat  \n",
            "  inflating: /content/training_set/S096_250.mat  \n",
            "  inflating: /content/training_set/S096_250_ann.mat  \n",
            "  inflating: /content/training_set/S096_250_rpk.mat  \n",
            "  inflating: /content/training_set/S097_250.mat  \n",
            "  inflating: /content/training_set/S097_250_ann.mat  \n",
            "  inflating: /content/training_set/S097_250_rpk.mat  \n",
            "  inflating: /content/training_set/S098_250.mat  \n",
            "  inflating: /content/training_set/S098_250_ann.mat  \n",
            " extracting: /content/training_set/S098_250_rpk.mat  \n",
            "  inflating: /content/training_set/S099_250.mat  \n",
            "  inflating: /content/training_set/S099_250_ann.mat  \n",
            "  inflating: /content/training_set/S099_250_rpk.mat  \n",
            "  inflating: /content/training_set/S100_250.mat  \n",
            "  inflating: /content/training_set/S100_250_ann.mat  \n",
            "  inflating: /content/training_set/S100_250_rpk.mat  \n",
            "  inflating: /content/training_set/S101_250.mat  \n",
            "  inflating: /content/training_set/S101_250_ann.mat  \n",
            "  inflating: /content/training_set/S101_250_rpk.mat  \n",
            "  inflating: /content/training_set/S102_250.mat  \n",
            "  inflating: /content/training_set/S102_250_ann.mat  \n",
            "  inflating: /content/training_set/S102_250_rpk.mat  \n",
            "  inflating: /content/training_set/S103_250.mat  \n",
            "  inflating: /content/training_set/S103_250_ann.mat  \n",
            "  inflating: /content/training_set/S103_250_rpk.mat  \n",
            "  inflating: /content/training_set/S104_250.mat  \n",
            "  inflating: /content/training_set/S104_250_ann.mat  \n",
            "  inflating: /content/training_set/S104_250_rpk.mat  \n",
            "  inflating: /content/training_set/S105_250.mat  \n",
            "  inflating: /content/training_set/S105_250_ann.mat  \n",
            " extracting: /content/training_set/S105_250_rpk.mat  \n",
            "  inflating: /content/training_set/S106_250.mat  \n",
            "  inflating: /content/training_set/S106_250_ann.mat  \n",
            " extracting: /content/training_set/S106_250_rpk.mat  \n",
            "  inflating: /content/training_set/S107_250.mat  \n",
            "  inflating: /content/training_set/S107_250_ann.mat  \n",
            "  inflating: /content/training_set/S107_250_rpk.mat  \n",
            "  inflating: /content/training_set/S108_250.mat  \n",
            "  inflating: /content/training_set/S108_250_ann.mat  \n",
            "  inflating: /content/training_set/S108_250_rpk.mat  \n",
            "  inflating: /content/training_set/S109_250.mat  \n",
            "  inflating: /content/training_set/S109_250_ann.mat  \n",
            "  inflating: /content/training_set/S109_250_rpk.mat  \n",
            "  inflating: /content/training_set/S110_250.mat  \n",
            "  inflating: /content/training_set/S110_250_ann.mat  \n",
            "  inflating: /content/training_set/S110_250_rpk.mat  \n",
            "  inflating: /content/training_set/S111_250.mat  \n",
            "  inflating: /content/training_set/S111_250_ann.mat  \n",
            "  inflating: /content/training_set/S111_250_rpk.mat  \n",
            "  inflating: /content/training_set/S112_250.mat  \n",
            "  inflating: /content/training_set/S112_250_ann.mat  \n",
            "  inflating: /content/training_set/S112_250_rpk.mat  \n",
            "  inflating: /content/training_set/S113_250.mat  \n",
            "  inflating: /content/training_set/S113_250_ann.mat  \n",
            "  inflating: /content/training_set/S113_250_rpk.mat  \n",
            "  inflating: /content/training_set/S114_250.mat  \n",
            "  inflating: /content/training_set/S114_250_ann.mat  \n",
            "  inflating: /content/training_set/S114_250_rpk.mat  \n",
            "  inflating: /content/training_set/S115_250.mat  \n",
            "  inflating: /content/training_set/S115_250_ann.mat  \n",
            "  inflating: /content/training_set/S115_250_rpk.mat  \n",
            "  inflating: /content/training_set/S116_250.mat  \n",
            "  inflating: /content/training_set/S116_250_ann.mat  \n",
            "  inflating: /content/training_set/S116_250_rpk.mat  \n",
            "  inflating: /content/training_set/S117_250.mat  \n",
            "  inflating: /content/training_set/S117_250_ann.mat  \n",
            " extracting: /content/training_set/S117_250_rpk.mat  \n",
            "  inflating: /content/training_set/S118_250.mat  \n",
            "  inflating: /content/training_set/S118_250_ann.mat  \n",
            "  inflating: /content/training_set/S118_250_rpk.mat  \n"
          ]
        }
      ]
    },
    {
      "cell_type": "code",
      "source": [
        "input_dir = \"/content/training_set\""
      ],
      "metadata": {
        "id": "YpYC7pQK258p"
      },
      "execution_count": 3,
      "outputs": []
    },
    {
      "cell_type": "code",
      "source": [
        "import os\n",
        "\n",
        "# list the data present in the dataset\n",
        "os.listdir(input_dir)"
      ],
      "metadata": {
        "colab": {
          "base_uri": "https://localhost:8080/"
        },
        "id": "eCpQplyKMNYe",
        "outputId": "b5b854fe-54c9-4fc0-f828-ab873b8eea6c"
      },
      "execution_count": 4,
      "outputs": [
        {
          "output_type": "execute_result",
          "data": {
            "text/plain": [
              "['S109_250_ann.mat',\n",
              " 'S046_128_rpk.mat',\n",
              " 'S088_250_rpk.mat',\n",
              " 'S038_128.mat',\n",
              " 'S057_128_ann.mat',\n",
              " 'S002_128_ann.mat',\n",
              " 'S039_128_rpk.mat',\n",
              " 'S012_128.mat',\n",
              " 'S095_250_ann.mat',\n",
              " 'S038_128_rpk.mat',\n",
              " 'S079_250_ann.mat',\n",
              " 'S005_128.mat',\n",
              " 'S007_128_rpk.mat',\n",
              " 'S087_250_rpk.mat',\n",
              " 'S045_128_rpk.mat',\n",
              " 'S019_128.mat',\n",
              " 'S003_128.mat',\n",
              " 'S034_128_ann.mat',\n",
              " 'S004_128_ann.mat',\n",
              " 'S031_128_ann.mat',\n",
              " 'S016_128_ann.mat',\n",
              " 'S106_250_rpk.mat',\n",
              " 'S017_128_ann.mat',\n",
              " 'S014_128_rpk.mat',\n",
              " 'S017_128_rpk.mat',\n",
              " 'S110_250.mat',\n",
              " 'S109_250.mat',\n",
              " 'S021_128.mat',\n",
              " 'S037_128_rpk.mat',\n",
              " 'S096_250.mat',\n",
              " 'S090_250_ann.mat',\n",
              " 'S003_128_rpk.mat',\n",
              " 'S064_128_rpk.mat',\n",
              " 'S100_250_ann.mat',\n",
              " 'S117_250_ann.mat',\n",
              " 'S038_128_ann.mat',\n",
              " 'S005_128_rpk.mat',\n",
              " 'S044_128.mat',\n",
              " 'S039_128_ann.mat',\n",
              " 'S080_250_ann.mat',\n",
              " 'S024_128_rpk.mat',\n",
              " 'S084_250_ann.mat',\n",
              " 'S023_128_rpk.mat',\n",
              " 'S085_250_ann.mat',\n",
              " 'S058_128.mat',\n",
              " 'S095_250_rpk.mat',\n",
              " 'S113_250_rpk.mat',\n",
              " 'S113_250.mat',\n",
              " 'S049_128_ann.mat',\n",
              " 'S105_250_rpk.mat',\n",
              " 'S026_128_rpk.mat',\n",
              " 'S096_250_rpk.mat',\n",
              " 'S063_128.mat',\n",
              " 'S087_250_ann.mat',\n",
              " 'S023_128_ann.mat',\n",
              " 'S082_250.mat',\n",
              " 'S032_128_ann.mat',\n",
              " 'S062_128_rpk.mat',\n",
              " 'S099_250_rpk.mat',\n",
              " 'S058_128_rpk.mat',\n",
              " 'S027_128.mat',\n",
              " 'S105_250_ann.mat',\n",
              " 'S110_250_rpk.mat',\n",
              " 'S094_250_ann.mat',\n",
              " 'S004_128_rpk.mat',\n",
              " 'S029_128_ann.mat',\n",
              " 'S051_128_ann.mat',\n",
              " 'S101_250.mat',\n",
              " 'S115_250_ann.mat',\n",
              " 'S081_250_rpk.mat',\n",
              " 'S051_128.mat',\n",
              " 'S088_250.mat',\n",
              " 'S062_128.mat',\n",
              " 'S025_128_rpk.mat',\n",
              " 'S008_128.mat',\n",
              " 'S049_128_rpk.mat',\n",
              " 'S056_128_rpk.mat',\n",
              " 'S090_250_rpk.mat',\n",
              " 'S012_128_ann.mat',\n",
              " 'S010_128.mat',\n",
              " 'S041_128_ann.mat',\n",
              " 'S085_250_rpk.mat',\n",
              " 'S035_128_rpk.mat',\n",
              " 'S114_250_ann.mat',\n",
              " 'S057_128_rpk.mat',\n",
              " 'S011_128.mat',\n",
              " 'S027_128_ann.mat',\n",
              " 'S060_128.mat',\n",
              " 'S079_250_rpk.mat',\n",
              " 'S099_250.mat',\n",
              " 'S118_250_ann.mat',\n",
              " 'S009_128_ann.mat',\n",
              " 'S047_128_ann.mat',\n",
              " 'S016_128.mat',\n",
              " 'S062_128_ann.mat',\n",
              " 'S093_250.mat',\n",
              " 'S050_128.mat',\n",
              " 'S036_128_rpk.mat',\n",
              " 'S061_128_rpk.mat',\n",
              " 'S115_250.mat',\n",
              " 'S011_128_rpk.mat',\n",
              " 'S091_250.mat',\n",
              " 'S033_128.mat',\n",
              " 'S112_250_ann.mat',\n",
              " 'S029_128_rpk.mat',\n",
              " 'S044_128_rpk.mat',\n",
              " 'S034_128.mat',\n",
              " 'S011_128_ann.mat',\n",
              " 'S017_128.mat',\n",
              " 'S086_250.mat',\n",
              " 'S098_250_rpk.mat',\n",
              " 'S022_128.mat',\n",
              " 'S106_250.mat',\n",
              " 'S042_128.mat',\n",
              " 'S108_250_rpk.mat',\n",
              " 'S102_250.mat',\n",
              " 'S105_250.mat',\n",
              " 'S095_250.mat',\n",
              " 'S099_250_ann.mat',\n",
              " 'S028_128.mat',\n",
              " 'S051_128_rpk.mat',\n",
              " 'S023_128.mat',\n",
              " 'S031_128_rpk.mat',\n",
              " 'S018_128.mat',\n",
              " 'S043_128_rpk.mat',\n",
              " 'S093_250_ann.mat',\n",
              " 'S052_128.mat',\n",
              " 'S048_128.mat',\n",
              " 'S103_250_ann.mat',\n",
              " 'S101_250_ann.mat',\n",
              " 'S040_128_ann.mat',\n",
              " 'S083_250_ann.mat',\n",
              " 'S061_128.mat',\n",
              " 'S040_128.mat',\n",
              " 'S021_128_ann.mat',\n",
              " 'S007_128_ann.mat',\n",
              " 'S037_128_ann.mat',\n",
              " 'S092_250_ann.mat',\n",
              " 'S089_250_rpk.mat',\n",
              " 'S024_128.mat',\n",
              " 'S053_128_ann.mat',\n",
              " 'S001_128_ann.mat',\n",
              " 'S091_250_rpk.mat',\n",
              " 'S107_250_ann.mat',\n",
              " 'S102_250_rpk.mat',\n",
              " 'S018_128_ann.mat',\n",
              " 'S089_250.mat',\n",
              " 'S033_128_ann.mat',\n",
              " 'S059_128.mat',\n",
              " 'S115_250_rpk.mat',\n",
              " 'S083_250.mat',\n",
              " 'S026_128_ann.mat',\n",
              " 'S056_128.mat',\n",
              " 'S020_128_ann.mat',\n",
              " 'S118_250.mat',\n",
              " 'S092_250.mat',\n",
              " 'S116_250_rpk.mat',\n",
              " 'S043_128_ann.mat',\n",
              " 'S030_128_ann.mat',\n",
              " 'S083_250_rpk.mat',\n",
              " 'S031_128.mat',\n",
              " 'S111_250_rpk.mat',\n",
              " 'S016_128_rpk.mat',\n",
              " 'S091_250_ann.mat',\n",
              " 'S019_128_rpk.mat',\n",
              " 'S054_128_ann.mat',\n",
              " 'S013_128_ann.mat',\n",
              " 'S010_128_rpk.mat',\n",
              " 'S090_250.mat',\n",
              " 'S036_128.mat',\n",
              " 'S059_128_ann.mat',\n",
              " 'S028_128_rpk.mat',\n",
              " 'S040_128_rpk.mat',\n",
              " 'S043_128.mat',\n",
              " 'S045_128.mat',\n",
              " 'S064_128_ann.mat',\n",
              " 'S054_128_rpk.mat',\n",
              " 'S103_250.mat',\n",
              " 'S013_128.mat',\n",
              " 'S079_250.mat',\n",
              " 'S056_128_ann.mat',\n",
              " 'S021_128_rpk.mat',\n",
              " 'S005_128_ann.mat',\n",
              " 'S109_250_rpk.mat',\n",
              " 'S052_128_rpk.mat',\n",
              " 'S058_128_ann.mat',\n",
              " 'S041_128_rpk.mat',\n",
              " 'S085_250.mat',\n",
              " 'S022_128_ann.mat',\n",
              " 'S001_128_rpk.mat',\n",
              " 'S032_128.mat',\n",
              " 'S048_128_rpk.mat',\n",
              " 'S106_250_ann.mat',\n",
              " 'S061_128_ann.mat',\n",
              " 'S032_128_rpk.mat',\n",
              " 'S020_128_rpk.mat',\n",
              " 'S114_250.mat',\n",
              " 'S041_128.mat',\n",
              " 'S037_128.mat',\n",
              " 'S006_128.mat',\n",
              " 'S050_128_ann.mat',\n",
              " 'S065_128_rpk.mat',\n",
              " 'S117_250_rpk.mat',\n",
              " 'S108_250_ann.mat',\n",
              " 'S004_128.mat',\n",
              " 'S117_250.mat',\n",
              " 'S087_250.mat',\n",
              " 'S003_128_ann.mat',\n",
              " 'S022_128_rpk.mat',\n",
              " 'S116_250_ann.mat',\n",
              " 'S018_128_rpk.mat',\n",
              " 'S104_250_ann.mat',\n",
              " 'S086_250_rpk.mat',\n",
              " 'S060_128_ann.mat',\n",
              " 'S082_250_ann.mat',\n",
              " 'S081_250_ann.mat',\n",
              " 'S097_250_ann.mat',\n",
              " 'S093_250_rpk.mat',\n",
              " 'S044_128_ann.mat',\n",
              " 'S111_250_ann.mat',\n",
              " 'S014_128.mat',\n",
              " 'S013_128_rpk.mat',\n",
              " 'S010_128_ann.mat',\n",
              " 'S035_128.mat',\n",
              " 'S057_128.mat',\n",
              " 'S100_250.mat',\n",
              " 'S049_128.mat',\n",
              " 'S026_128.mat',\n",
              " 'S006_128_ann.mat',\n",
              " 'S014_128_ann.mat',\n",
              " 'S065_128_ann.mat',\n",
              " 'S102_250_ann.mat',\n",
              " 'S042_128_ann.mat',\n",
              " 'S080_250.mat',\n",
              " 'S030_128.mat',\n",
              " 'S048_128_ann.mat',\n",
              " 'S050_128_rpk.mat',\n",
              " 'S097_250.mat',\n",
              " 'S002_128.mat',\n",
              " 'S101_250_rpk.mat',\n",
              " 'S110_250_ann.mat',\n",
              " 'S053_128.mat',\n",
              " 'S009_128_rpk.mat',\n",
              " 'S055_128_ann.mat',\n",
              " 'S053_128_rpk.mat',\n",
              " 'S008_128_ann.mat',\n",
              " 'S015_128_rpk.mat',\n",
              " 'S100_250_rpk.mat',\n",
              " 'S104_250.mat',\n",
              " 'S064_128.mat',\n",
              " 'S113_250_ann.mat',\n",
              " 'S001_128.mat',\n",
              " 'S108_250.mat',\n",
              " 'S098_250_ann.mat',\n",
              " 'S034_128_rpk.mat',\n",
              " 'S111_250.mat',\n",
              " 'S080_250_rpk.mat',\n",
              " 'S084_250_rpk.mat',\n",
              " 'S104_250_rpk.mat',\n",
              " 'S088_250_ann.mat',\n",
              " 'S055_128.mat',\n",
              " 'S107_250.mat',\n",
              " 'S009_128.mat',\n",
              " 'S086_250_ann.mat',\n",
              " 'S030_128_rpk.mat',\n",
              " 'S112_250.mat',\n",
              " 'S002_128_rpk.mat',\n",
              " 'S089_250_ann.mat',\n",
              " 'S045_128_ann.mat',\n",
              " 'S015_128.mat',\n",
              " 'S008_128_rpk.mat',\n",
              " 'S055_128_rpk.mat',\n",
              " 'S029_128.mat',\n",
              " 'S114_250_rpk.mat',\n",
              " 'S042_128_rpk.mat',\n",
              " 'S081_250.mat',\n",
              " 'S024_128_ann.mat',\n",
              " 'S047_128.mat',\n",
              " 'S033_128_rpk.mat',\n",
              " 'S116_250.mat',\n",
              " 'S025_128.mat',\n",
              " 'S025_128_ann.mat',\n",
              " 'S096_250_ann.mat',\n",
              " 'S082_250_rpk.mat',\n",
              " 'S039_128.mat',\n",
              " 'S046_128.mat',\n",
              " 'S020_128.mat',\n",
              " 'S052_128_ann.mat',\n",
              " 'S097_250_rpk.mat',\n",
              " 'S098_250.mat',\n",
              " 'S019_128_ann.mat',\n",
              " 'S060_128_rpk.mat',\n",
              " 'S054_128.mat',\n",
              " 'S059_128_rpk.mat',\n",
              " 'S084_250.mat',\n",
              " 'S007_128.mat',\n",
              " 'S047_128_rpk.mat',\n",
              " 'S118_250_rpk.mat',\n",
              " 'S065_128.mat',\n",
              " 'S046_128_ann.mat',\n",
              " 'S015_128_ann.mat',\n",
              " 'S035_128_ann.mat',\n",
              " 'S012_128_rpk.mat',\n",
              " 'S006_128_rpk.mat',\n",
              " 'S103_250_rpk.mat',\n",
              " 'S107_250_rpk.mat',\n",
              " 'S036_128_ann.mat',\n",
              " 'S028_128_ann.mat',\n",
              " 'S063_128_rpk.mat',\n",
              " 'S027_128_rpk.mat',\n",
              " 'S063_128_ann.mat',\n",
              " 'S112_250_rpk.mat',\n",
              " 'S094_250.mat',\n",
              " 'S094_250_rpk.mat',\n",
              " 'S092_250_rpk.mat']"
            ]
          },
          "metadata": {},
          "execution_count": 4
        }
      ]
    },
    {
      "cell_type": "markdown",
      "source": [
        "Each data sample present:\n",
        "\n",
        "*   sample.mat : 2-lead ECG signal of a patient of lenght n\n",
        "*   sample_ann.mat : contains the annotations for each R peak\n",
        "\n",
        "*   sample_rpk.mat : contains the R peak locations of the signal\n",
        "\n",
        "\n",
        "\n"
      ],
      "metadata": {
        "id": "noBFQu-DM6NT"
      }
    },
    {
      "cell_type": "markdown",
      "source": [
        "# Data loading"
      ],
      "metadata": {
        "id": "ZDQ-9RRCsZME"
      }
    },
    {
      "cell_type": "code",
      "source": [
        "# environment setup\n",
        "from scipy.io import loadmat\n",
        "import numpy as np, os, sys, joblib\n",
        "import matplotlib.pyplot as plt\n",
        "import math\n",
        "from tqdm import tqdm\n",
        "import pandas as pd\n",
        "import random\n",
        "\n",
        "#Setting random seed for reproducibility\n",
        "#Remember to use always SEED for the functions that requires it (like Scikit models)\n",
        "SEED = 1234\n",
        "np.random.seed(SEED)\n",
        "pd.core.common._random_stat = SEED\n",
        "random.seed(SEED)\n",
        "os.environ['PYTHONHASHSEED'] = str(SEED)\n"
      ],
      "metadata": {
        "id": "x1TBmICsjgCT"
      },
      "execution_count": 5,
      "outputs": []
    },
    {
      "cell_type": "code",
      "source": [
        "# Utility function to load data\n",
        "\n",
        "def load_data(ecg_file):\n",
        "  ecg = loadmat(ecg_file)\n",
        "  rpk_file = ecg_file.replace('.mat', '_rpk.mat')\n",
        "  rpk = loadmat(rpk_file)\n",
        "  ann_file = ecg_file.replace('.mat', '_ann.mat')\n",
        "  ann = loadmat(ann_file)\n",
        "  return ecg, rpk, ann"
      ],
      "metadata": {
        "id": "mYDPFKM5i0kk"
      },
      "execution_count": 6,
      "outputs": []
    },
    {
      "cell_type": "code",
      "source": [
        "# Get the ecg file for each sample and create a list of all ecgs\n",
        "ecg_files = []\n",
        "\n",
        "for f in os.listdir(input_dir):\n",
        "  g = os.path.join(input_dir, f)\n",
        "  if ('ann' not in g) and ('rpk' not in g):\n",
        "    ecg_files.append(g)\n",
        "num_files = len(ecg_files)\n",
        "\n",
        "# Create lists that will contains each data types (ecg, labels, rpeaks) an filenames (a list which contains the original filename for each sample)\n",
        "filenames = list()\n",
        "ecgs = list()\n",
        "rpks = list()\n",
        "anns = list()\n",
        "\n",
        "for i in range(num_files):\n",
        "  ecg, rpk, ann = load_data(ecg_files[i])\n",
        "  print(\n",
        "        \"\\rLoading file: {}/{}\"\n",
        "            .format(i+1, num_files),\n",
        "        end=\"\"\n",
        "    )\n",
        "  ecgs.append(ecg)\n",
        "  rpks.append(rpk)\n",
        "  anns.append(ann)\n",
        "  filenames.append(ecg_files[i])\n",
        "\n",
        "\n",
        "#ecg = np.asarray(loadmat(g)['ecg'], dtype=np.float64)\n",
        "#rpk = np.asarray(loadmat(input_dir + \"/S083_250_rpk.mat\")['rpeaks'], dtype=np.float64)\n",
        "#ann = np.asarray(loadmat(input_dir + \"/S083_250_ann.mat\")['labels'])"
      ],
      "metadata": {
        "colab": {
          "base_uri": "https://localhost:8080/"
        },
        "id": "pCRhfDeDMuCD",
        "outputId": "36ae52a9-55f3-41f7-cd68-c2422b2f125c"
      },
      "execution_count": 7,
      "outputs": [
        {
          "output_type": "stream",
          "name": "stdout",
          "text": [
            "Loading file: 105/105"
          ]
        }
      ]
    },
    {
      "cell_type": "markdown",
      "source": [
        "# Plot label distribution"
      ],
      "metadata": {
        "id": "7FnsfHTisegL"
      }
    },
    {
      "cell_type": "code",
      "source": [
        "classes_name = ['N', 'S', 'V']"
      ],
      "metadata": {
        "id": "yZrp8Soxnwfa"
      },
      "execution_count": 8,
      "outputs": []
    },
    {
      "cell_type": "code",
      "source": [
        "# list which contains all labels of each beat\n",
        "all_labels = []\n",
        "\n",
        "for sample in anns:\n",
        "  for beat in sample['labels']:\n",
        "    all_labels.append(beat)\n",
        "\n",
        "len(all_labels)\n",
        "\n",
        "# create a counts of each labels\n",
        "values, counts = np.unique(all_labels, return_counts=True)\n",
        "values, counts"
      ],
      "metadata": {
        "colab": {
          "base_uri": "https://localhost:8080/"
        },
        "id": "jDiw_WIwoggS",
        "outputId": "8f1bde1d-1332-4ae3-c208-4d72e87cbf23"
      },
      "execution_count": 9,
      "outputs": [
        {
          "output_type": "execute_result",
          "data": {
            "text/plain": [
              "(array(['N', 'S', 'V'], dtype='<U1'), array([226932,   9609,   7795]))"
            ]
          },
          "metadata": {},
          "execution_count": 9
        }
      ]
    },
    {
      "cell_type": "code",
      "source": [
        "# Plot labels distribution (of all beats of all patients)\n",
        "plt.bar(x=classes_name,height=counts, facecolor ='#85c1e9')\n",
        "plt.title(\"Classes Occurrence\", color = \"black\")\n",
        "plt.tick_params(axis=\"both\", colors = \"black\")\n",
        "plt.xlabel(\"Classes\", color = \"black\")\n",
        "plt.ylabel(\"Occurences\", color = \"black\")\n",
        "plt.xticks(rotation=90)\n",
        "plt.yticks\n",
        "plt.show()"
      ],
      "metadata": {
        "colab": {
          "base_uri": "https://localhost:8080/",
          "height": 293
        },
        "id": "5qNJBj8SlANX",
        "outputId": "9f33bd7f-038a-4510-f70b-b2cad171d85c"
      },
      "execution_count": 10,
      "outputs": [
        {
          "output_type": "display_data",
          "data": {
            "image/png": "[encoded data removed]",
            "text/plain": [
              "<Figure size 432x288 with 1 Axes>"
            ]
          },
          "metadata": {
            "needs_background": "light"
          }
        }
      ]
    },
    {
      "cell_type": "markdown",
      "source": [
        "# Plot intervals boxplot"
      ],
      "metadata": {
        "id": "0zDSqVsNlRXe"
      }
    },
    {
      "cell_type": "code",
      "source": [
        "!pip install neurokit2"
      ],
      "metadata": {
        "colab": {
          "base_uri": "https://localhost:8080/"
        },
        "id": "s1fiAL0ayyZu",
        "outputId": "eadef5b4-9495-4e5b-caf7-7319197134a6"
      },
      "execution_count": 11,
      "outputs": [
        {
          "output_type": "stream",
          "name": "stdout",
          "text": [
            "Collecting neurokit2\n",
            "  Downloading neurokit2-0.1.5-py2.py3-none-any.whl (1.1 MB)\n",
            "\u001b[?25l\r\u001b[K     |▎                               | 10 kB 18.1 MB/s eta 0:00:01\r\u001b[K     |▋                               | 20 kB 21.8 MB/s eta 0:00:01\r\u001b[K     |█                               | 30 kB 24.9 MB/s eta 0:00:01\r\u001b[K     |█▏                              | 40 kB 14.2 MB/s eta 0:00:01\r\u001b[K     |█▌                              | 51 kB 6.0 MB/s eta 0:00:01\r\u001b[K     |█▉                              | 61 kB 5.6 MB/s eta 0:00:01\r\u001b[K     |██                              | 71 kB 5.5 MB/s eta 0:00:01\r\u001b[K     |██▍                             | 81 kB 6.2 MB/s eta 0:00:01\r\u001b[K     |██▊                             | 92 kB 6.0 MB/s eta 0:00:01\r\u001b[K     |███                             | 102 kB 5.5 MB/s eta 0:00:01\r\u001b[K     |███▎                            | 112 kB 5.5 MB/s eta 0:00:01\r\u001b[K     |███▋                            | 122 kB 5.5 MB/s eta 0:00:01\r\u001b[K     |███▉                            | 133 kB 5.5 MB/s eta 0:00:01\r\u001b[K     |████▏                           | 143 kB 5.5 MB/s eta 0:00:01\r\u001b[K     |████▌                           | 153 kB 5.5 MB/s eta 0:00:01\r\u001b[K     |████▉                           | 163 kB 5.5 MB/s eta 0:00:01\r\u001b[K     |█████                           | 174 kB 5.5 MB/s eta 0:00:01\r\u001b[K     |█████▍                          | 184 kB 5.5 MB/s eta 0:00:01\r\u001b[K     |█████▊                          | 194 kB 5.5 MB/s eta 0:00:01\r\u001b[K     |██████                          | 204 kB 5.5 MB/s eta 0:00:01\r\u001b[K     |██████▎                         | 215 kB 5.5 MB/s eta 0:00:01\r\u001b[K     |██████▋                         | 225 kB 5.5 MB/s eta 0:00:01\r\u001b[K     |██████▉                         | 235 kB 5.5 MB/s eta 0:00:01\r\u001b[K     |███████▏                        | 245 kB 5.5 MB/s eta 0:00:01\r\u001b[K     |███████▌                        | 256 kB 5.5 MB/s eta 0:00:01\r\u001b[K     |███████▊                        | 266 kB 5.5 MB/s eta 0:00:01\r\u001b[K     |████████                        | 276 kB 5.5 MB/s eta 0:00:01\r\u001b[K     |████████▍                       | 286 kB 5.5 MB/s eta 0:00:01\r\u001b[K     |████████▊                       | 296 kB 5.5 MB/s eta 0:00:01\r\u001b[K     |█████████                       | 307 kB 5.5 MB/s eta 0:00:01\r\u001b[K     |█████████▎                      | 317 kB 5.5 MB/s eta 0:00:01\r\u001b[K     |█████████▋                      | 327 kB 5.5 MB/s eta 0:00:01\r\u001b[K     |█████████▉                      | 337 kB 5.5 MB/s eta 0:00:01\r\u001b[K     |██████████▏                     | 348 kB 5.5 MB/s eta 0:00:01\r\u001b[K     |██████████▌                     | 358 kB 5.5 MB/s eta 0:00:01\r\u001b[K     |██████████▊                     | 368 kB 5.5 MB/s eta 0:00:01\r\u001b[K     |███████████                     | 378 kB 5.5 MB/s eta 0:00:01\r\u001b[K     |███████████▍                    | 389 kB 5.5 MB/s eta 0:00:01\r\u001b[K     |███████████▋                    | 399 kB 5.5 MB/s eta 0:00:01\r\u001b[K     |████████████                    | 409 kB 5.5 MB/s eta 0:00:01\r\u001b[K     |████████████▎                   | 419 kB 5.5 MB/s eta 0:00:01\r\u001b[K     |████████████▋                   | 430 kB 5.5 MB/s eta 0:00:01\r\u001b[K     |████████████▉                   | 440 kB 5.5 MB/s eta 0:00:01\r\u001b[K     |█████████████▏                  | 450 kB 5.5 MB/s eta 0:00:01\r\u001b[K     |█████████████▌                  | 460 kB 5.5 MB/s eta 0:00:01\r\u001b[K     |█████████████▊                  | 471 kB 5.5 MB/s eta 0:00:01\r\u001b[K     |██████████████                  | 481 kB 5.5 MB/s eta 0:00:01\r\u001b[K     |██████████████▍                 | 491 kB 5.5 MB/s eta 0:00:01\r\u001b[K     |██████████████▋                 | 501 kB 5.5 MB/s eta 0:00:01\r\u001b[K     |███████████████                 | 512 kB 5.5 MB/s eta 0:00:01\r\u001b[K     |███████████████▎                | 522 kB 5.5 MB/s eta 0:00:01\r\u001b[K     |███████████████▌                | 532 kB 5.5 MB/s eta 0:00:01\r\u001b[K     |███████████████▉                | 542 kB 5.5 MB/s eta 0:00:01\r\u001b[K     |████████████████▏               | 552 kB 5.5 MB/s eta 0:00:01\r\u001b[K     |████████████████▌               | 563 kB 5.5 MB/s eta 0:00:01\r\u001b[K     |████████████████▊               | 573 kB 5.5 MB/s eta 0:00:01\r\u001b[K     |█████████████████               | 583 kB 5.5 MB/s eta 0:00:01\r\u001b[K     |█████████████████▍              | 593 kB 5.5 MB/s eta 0:00:01\r\u001b[K     |█████████████████▋              | 604 kB 5.5 MB/s eta 0:00:01\r\u001b[K     |██████████████████              | 614 kB 5.5 MB/s eta 0:00:01\r\u001b[K     |██████████████████▎             | 624 kB 5.5 MB/s eta 0:00:01\r\u001b[K     |██████████████████▌             | 634 kB 5.5 MB/s eta 0:00:01\r\u001b[K     |██████████████████▉             | 645 kB 5.5 MB/s eta 0:00:01\r\u001b[K     |███████████████████▏            | 655 kB 5.5 MB/s eta 0:00:01\r\u001b[K     |███████████████████▍            | 665 kB 5.5 MB/s eta 0:00:01\r\u001b[K     |███████████████████▊            | 675 kB 5.5 MB/s eta 0:00:01\r\u001b[K     |████████████████████            | 686 kB 5.5 MB/s eta 0:00:01\r\u001b[K     |████████████████████▍           | 696 kB 5.5 MB/s eta 0:00:01\r\u001b[K     |████████████████████▋           | 706 kB 5.5 MB/s eta 0:00:01\r\u001b[K     |█████████████████████           | 716 kB 5.5 MB/s eta 0:00:01\r\u001b[K     |█████████████████████▎          | 727 kB 5.5 MB/s eta 0:00:01\r\u001b[K     |█████████████████████▌          | 737 kB 5.5 MB/s eta 0:00:01\r\u001b[K     |█████████████████████▉          | 747 kB 5.5 MB/s eta 0:00:01\r\u001b[K     |██████████████████████▏         | 757 kB 5.5 MB/s eta 0:00:01\r\u001b[K     |██████████████████████▍         | 768 kB 5.5 MB/s eta 0:00:01\r\u001b[K     |██████████████████████▊         | 778 kB 5.5 MB/s eta 0:00:01\r\u001b[K     |███████████████████████         | 788 kB 5.5 MB/s eta 0:00:01\r\u001b[K     |███████████████████████▎        | 798 kB 5.5 MB/s eta 0:00:01\r\u001b[K     |███████████████████████▋        | 808 kB 5.5 MB/s eta 0:00:01\r\u001b[K     |████████████████████████        | 819 kB 5.5 MB/s eta 0:00:01\r\u001b[K     |████████████████████████▏       | 829 kB 5.5 MB/s eta 0:00:01\r\u001b[K     |████████████████████████▌       | 839 kB 5.5 MB/s eta 0:00:01\r\u001b[K     |████████████████████████▉       | 849 kB 5.5 MB/s eta 0:00:01\r\u001b[K     |█████████████████████████▏      | 860 kB 5.5 MB/s eta 0:00:01\r\u001b[K     |█████████████████████████▍      | 870 kB 5.5 MB/s eta 0:00:01\r\u001b[K     |█████████████████████████▊      | 880 kB 5.5 MB/s eta 0:00:01\r\u001b[K     |██████████████████████████      | 890 kB 5.5 MB/s eta 0:00:01\r\u001b[K     |██████████████████████████▎     | 901 kB 5.5 MB/s eta 0:00:01\r\u001b[K     |██████████████████████████▋     | 911 kB 5.5 MB/s eta 0:00:01\r\u001b[K     |███████████████████████████     | 921 kB 5.5 MB/s eta 0:00:01\r\u001b[K     |███████████████████████████▏    | 931 kB 5.5 MB/s eta 0:00:01\r\u001b[K     |███████████████████████████▌    | 942 kB 5.5 MB/s eta 0:00:01\r\u001b[K     |███████████████████████████▉    | 952 kB 5.5 MB/s eta 0:00:01\r\u001b[K     |████████████████████████████    | 962 kB 5.5 MB/s eta 0:00:01\r\u001b[K     |████████████████████████████▍   | 972 kB 5.5 MB/s eta 0:00:01\r\u001b[K     |████████████████████████████▊   | 983 kB 5.5 MB/s eta 0:00:01\r\u001b[K     |█████████████████████████████   | 993 kB 5.5 MB/s eta 0:00:01\r\u001b[K     |█████████████████████████████▎  | 1.0 MB 5.5 MB/s eta 0:00:01\r\u001b[K     |█████████████████████████████▋  | 1.0 MB 5.5 MB/s eta 0:00:01\r\u001b[K     |██████████████████████████████  | 1.0 MB 5.5 MB/s eta 0:00:01\r\u001b[K     |██████████████████████████████▏ | 1.0 MB 5.5 MB/s eta 0:00:01\r\u001b[K     |██████████████████████████████▌ | 1.0 MB 5.5 MB/s eta 0:00:01\r\u001b[K     |██████████████████████████████▉ | 1.1 MB 5.5 MB/s eta 0:00:01\r\u001b[K     |███████████████████████████████ | 1.1 MB 5.5 MB/s eta 0:00:01\r\u001b[K     |███████████████████████████████▍| 1.1 MB 5.5 MB/s eta 0:00:01\r\u001b[K     |███████████████████████████████▊| 1.1 MB 5.5 MB/s eta 0:00:01\r\u001b[K     |████████████████████████████████| 1.1 MB 5.5 MB/s eta 0:00:01\r\u001b[K     |████████████████████████████████| 1.1 MB 5.5 MB/s \n",
            "\u001b[?25hRequirement already satisfied: scikit-learn in /usr/local/lib/python3.7/dist-packages (from neurokit2) (1.0.1)\n",
            "Requirement already satisfied: pandas in /usr/local/lib/python3.7/dist-packages (from neurokit2) (1.1.5)\n",
            "Requirement already satisfied: matplotlib in /usr/local/lib/python3.7/dist-packages (from neurokit2) (3.2.2)\n",
            "Requirement already satisfied: scipy in /usr/local/lib/python3.7/dist-packages (from neurokit2) (1.4.1)\n",
            "Requirement already satisfied: numpy in /usr/local/lib/python3.7/dist-packages (from neurokit2) (1.19.5)\n",
            "Requirement already satisfied: pyparsing!=2.0.4,!=2.1.2,!=2.1.6,>=2.0.1 in /usr/local/lib/python3.7/dist-packages (from matplotlib->neurokit2) (3.0.6)\n",
            "Requirement already satisfied: cycler>=0.10 in /usr/local/lib/python3.7/dist-packages (from matplotlib->neurokit2) (0.11.0)\n",
            "Requirement already satisfied: kiwisolver>=1.0.1 in /usr/local/lib/python3.7/dist-packages (from matplotlib->neurokit2) (1.3.2)\n",
            "Requirement already satisfied: python-dateutil>=2.1 in /usr/local/lib/python3.7/dist-packages (from matplotlib->neurokit2) (2.8.2)\n",
            "Requirement already satisfied: six>=1.5 in /usr/local/lib/python3.7/dist-packages (from python-dateutil>=2.1->matplotlib->neurokit2) (1.15.0)\n",
            "Requirement already satisfied: pytz>=2017.2 in /usr/local/lib/python3.7/dist-packages (from pandas->neurokit2) (2018.9)\n",
            "Requirement already satisfied: joblib>=0.11 in /usr/local/lib/python3.7/dist-packages (from scikit-learn->neurokit2) (1.1.0)\n",
            "Requirement already satisfied: threadpoolctl>=2.0.0 in /usr/local/lib/python3.7/dist-packages (from scikit-learn->neurokit2) (3.0.0)\n",
            "Installing collected packages: neurokit2\n",
            "Successfully installed neurokit2-0.1.5\n"
          ]
        }
      ]
    },
    {
      "cell_type": "code",
      "source": [
        "import neurokit2 as nk"
      ],
      "metadata": {
        "id": "_XCrmJnazI9C"
      },
      "execution_count": 12,
      "outputs": []
    },
    {
      "cell_type": "code",
      "source": [
        "# Utility: given the filename of a signal it returns the sampling frequency\n",
        "def ecg_freq(filename):\n",
        "  if '128' in filename:\n",
        "    return 128\n",
        "  else:\n",
        "    return 250"
      ],
      "metadata": {
        "id": "yEwQB1Pf0tbv"
      },
      "execution_count": 13,
      "outputs": []
    },
    {
      "cell_type": "code",
      "source": [
        "# PLOT SIGNAL EXAMPLE\n",
        "\n",
        "# extract a sample ecg \n",
        "ecg_sample = np.asarray(ecgs[1]['ecg'], dtype=np.float64) \n",
        "sampling = ecg_freq(filenames[1]) \n",
        "ecg_sample_= np.arange(0, ecg_sample.shape[0]/sampling, 1/sampling)\n",
        " \n",
        "#Extract peaks from traning set and their labels \n",
        "sample_rpeaks = rpks[1]['rpeaks'] \n",
        "rpeaks = {'ECG_R_Peaks': sample_rpeaks.flatten(), 'sampling_rate': sampling} \n",
        "print(sample_rpeaks[-1])\n",
        "ecg_signal_1 = nk.ecg_clean(ecg_sample[:,0], sampling_rate=sampling, method='neurokit2') \n",
        "ecg_signal_2 = nk.ecg_clean(ecg_sample[:,1], sampling_rate=sampling, method='neurokit2') \n",
        "\n",
        "print(len(ecg_signal_1))\n",
        "print(rpeaks)\n",
        "\n",
        "_, waves_peak = nk.ecg_delineate(ecg_signal_1, rpeaks, sampling_rate=sampling, method=\"dwt\")\n",
        "_, waves_peak_2 = nk.ecg_delineate(ecg_signal_2, rpeaks, sampling_rate=sampling, method=\"dwt\")\n",
        "# Plot an example of signal (last ecg in previous loop)\n",
        "\n",
        "#drop null values\n",
        "for key in waves_peak.keys():\n",
        " waves_peak[key] = [w for w in waves_peak[key] if math.isnan(w) == False]\n",
        "\n",
        "#create waves_peak in time domain in order to plot the value in the time domain\n",
        "waves_peak_td = dict()\n",
        "waves_peak_td['ECG_P_Peaks'] = [w  for w in waves_peak['ECG_P_Peaks'] ]\n",
        "waves_peak_td['ECG_Q_Peaks'] = [w / sampling for w in waves_peak['ECG_Q_Peaks'] ]\n",
        "waves_peak_td['ECG_T_Peaks'] = [w / sampling for w in waves_peak['ECG_T_Peaks'] ]\n",
        "waves_peak_td['ECG_R_Onsets'] = [w / sampling for w in waves_peak['ECG_R_Onsets'] ]\n",
        "waves_peak_td['ECG_P_Onsets'] = [w / sampling for w in waves_peak['ECG_P_Onsets'] ]\n",
        "waves_peak_td['ECG_T_Offsets'] = [w / sampling for w in waves_peak['ECG_T_Offsets'] ]\n",
        "\n",
        "plt.plot(ecg_sample_, ecg_signal_1)\n",
        "plt.title(\"lead-1 ECG\")\n",
        "plt.scatter(rpeaks['ECG_R_Peaks'] / sampling, ecg_signal_1[rpeaks['ECG_R_Peaks']])\n",
        "plt.scatter(waves_peak_td['ECG_P_Peaks'], ecg_signal_1[waves_peak['ECG_P_Peaks']])\n",
        "plt.scatter(waves_peak_td['ECG_Q_Peaks'], ecg_signal_1[waves_peak['ECG_Q_Peaks']])\n",
        "plt.scatter(waves_peak_td['ECG_T_Peaks'], ecg_signal_1[waves_peak['ECG_T_Peaks']])\n",
        "\n",
        "plt.xlim(0,10)\n",
        "plt.ylim(-1,3)\n",
        "\n",
        "plt.figure()\n",
        "plt.title(\"lead-2 ECG\")\n",
        "plt.plot(ecg_sample_, ecg_signal_2)\n",
        "plt.xlim(0,3)\n",
        "plt.ylim(-1,3)"
      ],
      "metadata": {
        "colab": {
          "base_uri": "https://localhost:8080/",
          "height": 753
        },
        "id": "QsARFHVqth5J",
        "outputId": "a9368a96-ee89-46ed-c73b-f3078789a189"
      },
      "execution_count": null,
      "outputs": [
        {
          "output_type": "stream",
          "name": "stdout",
          "text": [
            "[230349]\n",
            "230400\n",
            "{'ECG_R_Peaks': array([    27,    148,    246, ..., 230126, 230215, 230349], dtype=int32), 'sampling_rate': 128}\n"
          ]
        },
        {
          "output_type": "stream",
          "name": "stderr",
          "text": [
            "/usr/local/lib/python3.7/dist-packages/numpy/core/fromnumeric.py:3373: RuntimeWarning: Mean of empty slice.\n",
            "  out=out, **kwargs)\n",
            "/usr/local/lib/python3.7/dist-packages/numpy/core/_methods.py:170: RuntimeWarning: invalid value encountered in double_scalars\n",
            "  ret = ret.dtype.type(ret / rcount)\n",
            "/usr/local/lib/python3.7/dist-packages/numpy/core/fromnumeric.py:3373: RuntimeWarning: Mean of empty slice.\n",
            "  out=out, **kwargs)\n",
            "/usr/local/lib/python3.7/dist-packages/numpy/core/_methods.py:170: RuntimeWarning: invalid value encountered in double_scalars\n",
            "  ret = ret.dtype.type(ret / rcount)\n"
          ]
        },
        {
          "output_type": "execute_result",
          "data": {
            "text/plain": [
              "(-1.0, 3.0)"
            ]
          },
          "metadata": {},
          "execution_count": 82
        },
        {
          "output_type": "display_data",
          "data": {
            "image/png": "[encoded data removed]",
            "text/plain": [
              "<Figure size 432x288 with 1 Axes>"
            ]
          },
          "metadata": {
            "needs_background": "light"
          }
        },
        {
          "output_type": "display_data",
          "data": {
            "image/png": "[encoded data removed]",
            "text/plain": [
              "<Figure size 432x288 with 1 Axes>"
            ]
          },
          "metadata": {
            "needs_background": "light"
          }
        }
      ]
    },
    {
      "cell_type": "code",
      "source": [
        "# Exploration over some intervals of various single-beat signal\n",
        "\n",
        "# lists that will contain PR and QR intervals\n",
        "PR_N = list()\n",
        "PR_S = list()\n",
        "PR_V = list()\n",
        "\n",
        "P_N = list()\n",
        "P_S = list()\n",
        "P_V = list()\n",
        "\n",
        "QR_N = list()\n",
        "QR_S = list()\n",
        "QR_V = list()\n",
        "\n",
        "# interval lists filling loop\n",
        "for i in tqdm(range(len(ecgs))):\n",
        "  # extract a sample ecg\n",
        "  ecg_sample = np.asarray(ecgs[i]['ecg'], dtype=np.float64)\n",
        "  sampling = ecg_freq(filenames[i])\n",
        "  # Extract peaks from traning set and their labels\n",
        "  sample_labels = anns[i]['labels']\n",
        "  sample_rpeaks = rpks[i]['rpeaks']\n",
        "\n",
        "  # clean ecg_sample\n",
        "  ecg_signal = nk.ecg_clean(ecg_sample[:,0], sampling_rate=sampling, method='neurokit2')\n",
        "\n",
        "  # Handling last beats (if last rpeak is >= to current ecg lenght, we remove it)\n",
        "  if sample_rpeaks[-1] >= len(ecg_signal):\n",
        "    sample_labels = sample_labels[:-1]\n",
        "    sample_rpeaks = sample_rpeaks[:-1]\n",
        "\n",
        "  #_,rpeaks = nk.ecg_peaks(ecg_signal, sampling_rate=sampling)\n",
        "  # Building the dictionary with the rpeaks as the function of Neurokit wants\n",
        "  rpeaks = {'ECG_R_Peaks': sample_rpeaks.flatten(), 'sampling_rate': sampling}\n",
        "  \n",
        "  _, waves_peak = nk.ecg_delineate(ecg_signal, rpeaks, sampling_rate=sampling, method=\"dwt\")\n",
        " \n",
        "  #create waves_peak in time domain in order to plot the value in the time domain\n",
        "  waves_peak_td = dict()\n",
        "\n",
        "  #init the dictionary\n",
        "  for k in waves_peak.keys():\n",
        "    waves_peak_td[k] = list()\n",
        "\n",
        "  for k in waves_peak.keys():\n",
        "    for i in range(len(waves_peak[k])):\n",
        "      if(math.isnan(waves_peak[k][i]) == False): #if is not nan, I divide the value for the frequency\n",
        "        waves_peak_td[k].append(waves_peak[k][i] / sampling)\n",
        "      else:\n",
        "        waves_peak_td[k].append(waves_peak[k][i])  \n",
        "\n",
        "  # add to the correct interval list the invterval of each beat of the current ecg sample\n",
        "\n",
        "  for beat_index in range(len(sample_labels)):\n",
        "    if sample_labels[beat_index] == 'N':\n",
        "      try:\n",
        "        P_N.append(ecg_signal[waves_peak['ECG_P_Peaks'][beat_index]])\n",
        "      except:\n",
        "        print(\"Not valid P_N wave; Adding nan\")\n",
        "        P_N.append(np.asarray([math.nan]))\n",
        "      try:\n",
        "        PR_N.append(sample_rpeaks[beat_index] / sampling - waves_peak_td['ECG_P_Onsets'][beat_index] )\n",
        "      except:\n",
        "        print(\"Not valid PR_N Interval; Adding nan\")\n",
        "        PR_N.append(np.asarray([math.nan]))\n",
        "      try:  \n",
        "        QR_N.append(waves_peak_td['ECG_T_Offsets'][beat_index] - sample_rpeaks[beat_index] / sampling)\n",
        "      except:\n",
        "        print(\"Not valid QR_N Interval; Adding nan\")\n",
        "        QR_N.append(np.asarray([math.nan]))\n",
        "    elif sample_labels[beat_index] == 'S':\n",
        "      try:\n",
        "        P_S.append(ecg_signal[waves_peak['ECG_P_Peaks'][beat_index]])\n",
        "      except:\n",
        "        print(\"Not valid P_S wave; Adding nan\")\n",
        "        P_S.append(np.asarray([math.nan]))  \n",
        "      try:\n",
        "        PR_S.append(sample_rpeaks[beat_index] / sampling - waves_peak_td['ECG_P_Onsets'][beat_index] )\n",
        "      except:\n",
        "        print(\"Not valid PR_S interval; Adding nan\")\n",
        "        PR_S.append(np.asarray([math.nan]))\n",
        "      try:  \n",
        "        QR_S.append(waves_peak_td['ECG_T_Offsets'][beat_index] - sample_rpeaks[beat_index] / sampling)\n",
        "      except:\n",
        "        print(\"Not valid QR_S interval; Adding nan\")\n",
        "        QR_S.append(np.asarray([math.nan]))\n",
        "    else:\n",
        "      try:\n",
        "        P_V.append(ecg_signal[waves_peak['ECG_P_Peaks'][beat_index]])\n",
        "      except:\n",
        "        print(\"Not valid P_V wave; Adding nan\")\n",
        "        P_V.append(np.asarray([math.nan]))  \n",
        "      try:\n",
        "        PR_V.append(sample_rpeaks[beat_index] / sampling - waves_peak_td['ECG_P_Onsets'][beat_index] )\n",
        "      except:\n",
        "        print(\"Not valid PR_V interval; Adding nan\")\n",
        "        PR_V.append(np.asarray([math.nan]))\n",
        "      try: \n",
        "        QR_V.append(waves_peak_td['ECG_T_Offsets'][beat_index] - sample_rpeaks[beat_index] / sampling)\n",
        "      except:\n",
        "        print(\"Not valid QR_V interval; Adding nan\")\n",
        "        QR_V.append(np.asarray([math.nan]))"
      ],
      "metadata": {
        "id": "Ti0nrIxd6FDn"
      },
      "execution_count": null,
      "outputs": []
    },
    {
      "cell_type": "code",
      "source": [
        "print(len(PR_N))\n",
        "print(len(PR_V))\n",
        "print(len(PR_S))"
      ],
      "metadata": {
        "colab": {
          "base_uri": "https://localhost:8080/"
        },
        "id": "psqXp9bjvyNq",
        "outputId": "a2631b26-9e48-4925-a670-012d2720c8de"
      },
      "execution_count": null,
      "outputs": [
        {
          "output_type": "stream",
          "name": "stdout",
          "text": [
            "7136\n",
            "127\n",
            "655\n"
          ]
        }
      ]
    },
    {
      "cell_type": "code",
      "source": [
        "#Flatten the structure of the array\n",
        "PR_N = [item for sublist in PR_N for item in sublist]\n",
        "PR_V = [item for sublist in PR_V for item in sublist]\n",
        "PR_S = [item for sublist in PR_S for item in sublist]"
      ],
      "metadata": {
        "id": "uFE0ONEUATES"
      },
      "execution_count": null,
      "outputs": []
    },
    {
      "cell_type": "code",
      "source": [
        "#Flatten the structure of the array\n",
        "QR_N = [item for sublist in QR_N for item in sublist]\n",
        "QR_V = [item for sublist in QR_V for item in sublist]\n",
        "QR_S = [item for sublist in QR_S for item in sublist]"
      ],
      "metadata": {
        "id": "OWVPt6JdCkpr"
      },
      "execution_count": null,
      "outputs": []
    },
    {
      "cell_type": "code",
      "source": [
        "import matplotlib.pyplot as plt\n",
        "import pandas as pd\n",
        "import seaborn as sns\n",
        "\n",
        "boxplot_dictionary_PR = dict( PR_N = PR_N, PR_V = PR_V, PR_S = PR_S )\n",
        "df_PR = pd.DataFrame(dict([ (k,pd.Series(v)) for k,v in boxplot_dictionary_PR.items() ]))\n",
        "\n",
        "sns.boxplot(data=df_PR)\n"
      ],
      "metadata": {
        "id": "owwv63MVxhmF",
        "colab": {
          "base_uri": "https://localhost:8080/",
          "height": 285
        },
        "outputId": "e5ba852a-ea0f-4d71-eb77-d023e4d88b1a"
      },
      "execution_count": null,
      "outputs": [
        {
          "output_type": "execute_result",
          "data": {
            "text/plain": [
              "<matplotlib.axes._subplots.AxesSubplot at 0x7f89c5737fd0>"
            ]
          },
          "metadata": {},
          "execution_count": 54
        },
        {
          "output_type": "display_data",
          "data": {
            "image/png": "[encoded data removed]",
            "text/plain": [
              "<Figure size 432x288 with 1 Axes>"
            ]
          },
          "metadata": {
            "needs_background": "light"
          }
        }
      ]
    },
    {
      "cell_type": "code",
      "source": [
        "boxplot_dictionary_QR = dict( QR_N = QR_N, QR_V = QR_V, QR_S = QR_S )\n",
        "df_QR = pd.DataFrame(dict([ (k,pd.Series(v)) for k,v in boxplot_dictionary_QR.items() ]))\n",
        "sns.boxplot(data = df_QR)"
      ],
      "metadata": {
        "colab": {
          "base_uri": "https://localhost:8080/",
          "height": 285
        },
        "id": "FQrL1EyOCuQp",
        "outputId": "d1c8bce1-44df-41f8-8f10-be9c756de175"
      },
      "execution_count": null,
      "outputs": [
        {
          "output_type": "execute_result",
          "data": {
            "text/plain": [
              "<matplotlib.axes._subplots.AxesSubplot at 0x7f89c639bc90>"
            ]
          },
          "metadata": {},
          "execution_count": 55
        },
        {
          "output_type": "display_data",
          "data": {
            "image/png": "[encoded data removed]",
            "text/plain": [
              "<Figure size 432x288 with 1 Axes>"
            ]
          },
          "metadata": {
            "needs_background": "light"
          }
        }
      ]
    },
    {
      "cell_type": "code",
      "source": [
        "boxplot_dictionary_P = dict( P_N = P_N, P_V = P_V, P_S = P_S )\n",
        "df_P = pd.DataFrame(dict([ (k,pd.Series(v)) for k,v in boxplot_dictionary_P.items() ]))\n",
        "sns.boxplot(data = df_P)"
      ],
      "metadata": {
        "colab": {
          "base_uri": "https://localhost:8080/",
          "height": 285
        },
        "id": "V2PI_PCuFxZX",
        "outputId": "91cc0a1d-8b85-4f6e-d883-768b7a50d08b"
      },
      "execution_count": null,
      "outputs": [
        {
          "output_type": "execute_result",
          "data": {
            "text/plain": [
              "<matplotlib.axes._subplots.AxesSubplot at 0x7f89c9793b10>"
            ]
          },
          "metadata": {},
          "execution_count": 56
        },
        {
          "output_type": "display_data",
          "data": {
            "image/png": "[encoded data removed]",
            "text/plain": [
              "<Figure size 432x288 with 1 Axes>"
            ]
          },
          "metadata": {
            "needs_background": "light"
          }
        }
      ]
    },
    {
      "cell_type": "markdown",
      "source": [
        "# Single heartbeat extraction"
      ],
      "metadata": {
        "id": "EphQuWQ4gxrE"
      }
    },
    {
      "cell_type": "code",
      "source": [
        "# extract a sample ecg \n",
        "ecg_sample = np.asarray(ecgs[0]['ecg'], dtype=np.float64) \n",
        "sampling = ecg_freq(filenames[0]) \n",
        " \n",
        "#Extract peaks from traning set and their labels \n",
        "sample_rpeaks = rpks[0]['rpeaks'] \n",
        "rpeaks = {'ECG_R_Peaks': sample_rpeaks.flatten(), 'sampling_rate': sampling} \n",
        " \n",
        "ecg_signal = nk.ecg_clean(ecg_sample[:,0], sampling_rate=sampling, method='neurokit2') \n",
        " \n",
        "# extract heartbeats of current ecg \n",
        "ecg_heartbeats = nk.ecg_segment(ecg_cleaned=ecg_signal, rpeaks=rpeaks['ECG_R_Peaks'], sampling_rate=sampling, show=True)"
      ],
      "metadata": {
        "colab": {
          "base_uri": "https://localhost:8080/",
          "height": 295
        },
        "id": "XAZSufeIiZA6",
        "outputId": "23aabb34-7bca-4696-d0b7-dbfbe7d00c98"
      },
      "execution_count": 14,
      "outputs": [
        {
          "output_type": "display_data",
          "data": {
            "image/png": "[encoded data removed]",
            "text/plain": [
              "<Figure size 432x288 with 1 Axes>"
            ]
          },
          "metadata": {
            "needs_background": "light"
          }
        }
      ]
    },
    {
      "cell_type": "code",
      "source": [
        "# Try to extract each single heartbeat\n",
        "\n",
        "# list of list that contains all heartbeats divided by patient\n",
        "patient_heartbeats = []\n",
        "\n",
        "for i in tqdm(range(len(ecgs))):\n",
        "  # extract a sample ecg\n",
        "  ecg_sample = np.asarray(ecgs[i]['ecg'], dtype=np.float64)\n",
        "  sampling = ecg_freq(filenames[i])\n",
        "  #ecg_sample_= np.arange(0, ecg_sample.shape[0]/sampling, 1/sampling)\n",
        "  # clean ecg_sample\n",
        "  ecg_signal = nk.ecg_clean(ecg_sample[:,0], sampling_rate=sampling, method='neurokit2')\n",
        "  #Extract peaks from traning set and their labels\n",
        "  sample_rpeaks = rpks[i]['rpeaks'] \n",
        "  # Handling last beats (if last rpeak is >= to current ecg lenght, we remove it)\n",
        "  if sample_rpeaks[-1] >= len(ecg_signal):\n",
        "    #sample_labels = sample_labels[:-1]\n",
        "    sample_rpeaks = sample_rpeaks[:-1]\n",
        " \n",
        "  rpeaks = {'ECG_R_Peaks': sample_rpeaks.flatten(), 'sampling_rate': sampling}\n",
        "\n",
        "  # extract heartbeats of current ecg\n",
        "  ecg_heartbeats = nk.ecg_segment(ecg_cleaned=ecg_signal, rpeaks=rpeaks['ECG_R_Peaks'], sampling_rate=sampling)\n",
        "  patient_heartbeats.append(ecg_heartbeats)\n",
        "\n",
        "  "
      ],
      "metadata": {
        "id": "Vj8pYUpgg2zq",
        "colab": {
          "base_uri": "https://localhost:8080/"
        },
        "outputId": "37f6cee3-f70d-4cb4-8e0e-6c0b568ebaea"
      },
      "execution_count": 52,
      "outputs": [
        {
          "output_type": "stream",
          "name": "stderr",
          "text": [
            "100%|██████████| 105/105 [15:18<00:00,  8.75s/it]\n"
          ]
        }
      ]
    },
    {
      "cell_type": "code",
      "source": [
        "# check a a single beat from both leads\n",
        "patient_heartbeats[0]['1']"
      ],
      "metadata": {
        "colab": {
          "base_uri": "https://localhost:8080/",
          "height": 424
        },
        "id": "R5gP8jEanz2n",
        "outputId": "07f58a38-0513-48c8-b874-ffc5ec0cbf25"
      },
      "execution_count": 112,
      "outputs": [
        {
          "output_type": "execute_result",
          "data": {
            "text/html": [
              "\n",
              "  <div id=\"df-b7f7d6a0-29bf-49a9-bda5-ed60cad17151\">\n",
              "    <div class=\"colab-df-container\">\n",
              "      <div>\n",
              "<style scoped>\n",
              "    .dataframe tbody tr th:only-of-type {\n",
              "        vertical-align: middle;\n",
              "    }\n",
              "\n",
              "    .dataframe tbody tr th {\n",
              "        vertical-align: top;\n",
              "    }\n",
              "\n",
              "    .dataframe thead th {\n",
              "        text-align: right;\n",
              "    }\n",
              "</style>\n",
              "<table border=\"1\" class=\"dataframe\">\n",
              "  <thead>\n",
              "    <tr style=\"text-align: right;\">\n",
              "      <th></th>\n",
              "      <th>Signal</th>\n",
              "      <th>Index</th>\n",
              "      <th>Label</th>\n",
              "    </tr>\n",
              "  </thead>\n",
              "  <tbody>\n",
              "    <tr>\n",
              "      <th>-0.332110</th>\n",
              "      <td>NaN</td>\n",
              "      <td>-3</td>\n",
              "      <td>1</td>\n",
              "    </tr>\n",
              "    <tr>\n",
              "      <th>-0.324203</th>\n",
              "      <td>NaN</td>\n",
              "      <td>-2</td>\n",
              "      <td>1</td>\n",
              "    </tr>\n",
              "    <tr>\n",
              "      <th>-0.316296</th>\n",
              "      <td>NaN</td>\n",
              "      <td>-1</td>\n",
              "      <td>1</td>\n",
              "    </tr>\n",
              "    <tr>\n",
              "      <th>-0.308388</th>\n",
              "      <td>0.014180</td>\n",
              "      <td>0</td>\n",
              "      <td>1</td>\n",
              "    </tr>\n",
              "    <tr>\n",
              "      <th>-0.300481</th>\n",
              "      <td>0.001761</td>\n",
              "      <td>1</td>\n",
              "      <td>1</td>\n",
              "    </tr>\n",
              "    <tr>\n",
              "      <th>...</th>\n",
              "      <td>...</td>\n",
              "      <td>...</td>\n",
              "      <td>...</td>\n",
              "    </tr>\n",
              "    <tr>\n",
              "      <th>0.442814</th>\n",
              "      <td>0.102401</td>\n",
              "      <td>95</td>\n",
              "      <td>1</td>\n",
              "    </tr>\n",
              "    <tr>\n",
              "      <th>0.450721</th>\n",
              "      <td>0.112715</td>\n",
              "      <td>96</td>\n",
              "      <td>1</td>\n",
              "    </tr>\n",
              "    <tr>\n",
              "      <th>0.458629</th>\n",
              "      <td>0.108030</td>\n",
              "      <td>97</td>\n",
              "      <td>1</td>\n",
              "    </tr>\n",
              "    <tr>\n",
              "      <th>0.466536</th>\n",
              "      <td>0.088347</td>\n",
              "      <td>98</td>\n",
              "      <td>1</td>\n",
              "    </tr>\n",
              "    <tr>\n",
              "      <th>0.474443</th>\n",
              "      <td>0.073665</td>\n",
              "      <td>99</td>\n",
              "      <td>1</td>\n",
              "    </tr>\n",
              "  </tbody>\n",
              "</table>\n",
              "<p>103 rows × 3 columns</p>\n",
              "</div>\n",
              "      <button class=\"colab-df-convert\" onclick=\"convertToInteractive('df-b7f7d6a0-29bf-49a9-bda5-ed60cad17151')\"\n",
              "              title=\"Convert this dataframe to an interactive table.\"\n",
              "              style=\"display:none;\">\n",
              "        \n",
              "  <svg xmlns=\"http://www.w3.org/2000/svg\" height=\"24px\"viewBox=\"0 0 24 24\"\n",
              "       width=\"24px\">\n",
              "    <path d=\"M0 0h24v24H0V0z\" fill=\"none\"/>\n",
              "    <path d=\"M18.56 5.44l.94 2.06.94-2.06 2.06-.94-2.06-.94-.94-2.06-.94 2.06-2.06.94zm-11 1L8.5 8.5l.94-2.06 2.06-.94-2.06-.94L8.5 2.5l-.94 2.06-2.06.94zm10 10l.94 2.06.94-2.06 2.06-.94-2.06-.94-.94-2.06-.94 2.06-2.06.94z\"/><path d=\"M17.41 7.96l-1.37-1.37c-.4-.4-.92-.59-1.43-.59-.52 0-1.04.2-1.43.59L10.3 9.45l-7.72 7.72c-.78.78-.78 2.05 0 2.83L4 21.41c.39.39.9.59 1.41.59.51 0 1.02-.2 1.41-.59l7.78-7.78 2.81-2.81c.8-.78.8-2.07 0-2.86zM5.41 20L4 18.59l7.72-7.72 1.47 1.35L5.41 20z\"/>\n",
              "  </svg>\n",
              "      </button>\n",
              "      \n",
              "  <style>\n",
              "    .colab-df-container {\n",
              "      display:flex;\n",
              "      flex-wrap:wrap;\n",
              "      gap: 12px;\n",
              "    }\n",
              "\n",
              "    .colab-df-convert {\n",
              "      background-color: #E8F0FE;\n",
              "      border: none;\n",
              "      border-radius: 50%;\n",
              "      cursor: pointer;\n",
              "      display: none;\n",
              "      fill: #1967D2;\n",
              "      height: 32px;\n",
              "      padding: 0 0 0 0;\n",
              "      width: 32px;\n",
              "    }\n",
              "\n",
              "    .colab-df-convert:hover {\n",
              "      background-color: #E2EBFA;\n",
              "      box-shadow: 0px 1px 2px rgba(60, 64, 67, 0.3), 0px 1px 3px 1px rgba(60, 64, 67, 0.15);\n",
              "      fill: #174EA6;\n",
              "    }\n",
              "\n",
              "    [theme=dark] .colab-df-convert {\n",
              "      background-color: #3B4455;\n",
              "      fill: #D2E3FC;\n",
              "    }\n",
              "\n",
              "    [theme=dark] .colab-df-convert:hover {\n",
              "      background-color: #434B5C;\n",
              "      box-shadow: 0px 1px 3px 1px rgba(0, 0, 0, 0.15);\n",
              "      filter: drop-shadow(0px 1px 2px rgba(0, 0, 0, 0.3));\n",
              "      fill: #FFFFFF;\n",
              "    }\n",
              "  </style>\n",
              "\n",
              "      <script>\n",
              "        const buttonEl =\n",
              "          document.querySelector('#df-b7f7d6a0-29bf-49a9-bda5-ed60cad17151 button.colab-df-convert');\n",
              "        buttonEl.style.display =\n",
              "          google.colab.kernel.accessAllowed ? 'block' : 'none';\n",
              "\n",
              "        async function convertToInteractive(key) {\n",
              "          const element = document.querySelector('#df-b7f7d6a0-29bf-49a9-bda5-ed60cad17151');\n",
              "          const dataTable =\n",
              "            await google.colab.kernel.invokeFunction('convertToInteractive',\n",
              "                                                     [key], {});\n",
              "          if (!dataTable) return;\n",
              "\n",
              "          const docLinkHtml = 'Like what you see? Visit the ' +\n",
              "            '<a target=\"_blank\" href=https://colab.research.google.com/notebooks/data_table.ipynb>data table notebook</a>'\n",
              "            + ' to learn more about interactive tables.';\n",
              "          element.innerHTML = '';\n",
              "          dataTable['output_type'] = 'display_data';\n",
              "          await google.colab.output.renderOutput(dataTable, element);\n",
              "          const docLink = document.createElement('div');\n",
              "          docLink.innerHTML = docLinkHtml;\n",
              "          element.appendChild(docLink);\n",
              "        }\n",
              "      </script>\n",
              "    </div>\n",
              "  </div>\n",
              "  "
            ],
            "text/plain": [
              "             Signal  Index Label\n",
              "-0.332110       NaN     -3     1\n",
              "-0.324203       NaN     -2     1\n",
              "-0.316296       NaN     -1     1\n",
              "-0.308388  0.014180      0     1\n",
              "-0.300481  0.001761      1     1\n",
              "...             ...    ...   ...\n",
              " 0.442814  0.102401     95     1\n",
              " 0.450721  0.112715     96     1\n",
              " 0.458629  0.108030     97     1\n",
              " 0.466536  0.088347     98     1\n",
              " 0.474443  0.073665     99     1\n",
              "\n",
              "[103 rows x 3 columns]"
            ]
          },
          "metadata": {},
          "execution_count": 112
        }
      ]
    },
    {
      "cell_type": "markdown",
      "source": [
        "## HRV Features Extraction"
      ],
      "metadata": {
        "id": "_k3X2xOvYG1z"
      }
    },
    {
      "cell_type": "markdown",
      "source": [
        "This part is related to the extraction of the HRV features like RR interval,dRR_n = RR_{n+1} - RR_{n-1} (for each beat that is not first and last). \n",
        "Moreover, we extract a {2,5} minutes centered on an R-peak windows and from this windows we extract the mean and standard deviation of both RR and dRR and root mean square of successive differences (RMSSD) (TODO)."
      ],
      "metadata": {
        "id": "jbx11E5FYgHq"
      }
    },
    {
      "cell_type": "markdown",
      "source": [
        "*Example on a single signal*"
      ],
      "metadata": {
        "id": "rBF14c6Dfhd7"
      }
    },
    {
      "cell_type": "code",
      "source": [
        "def get_RRs_in_window(rr_intervals, drr_intervals, sample_rpeaks_s, index, window_size_in_minutes = 2):\n",
        "  #find a windows of dimension 2 minutes around the current R-peak\n",
        "  cumulative_time = 0\n",
        "  #window part before the index\n",
        "  first_index = 0\n",
        "  last_index = math.inf \n",
        "  for i in range(index, 0, -1):\n",
        "    cumulative_time = cumulative_time + abs(sample_rpeaks_s[i] - sample_rpeaks_s[index])\n",
        "    if(cumulative_time >= window_size_in_minutes * 60 / 2 and first_index == 0): #stop the extension of the window\n",
        "      first_index = i\n",
        "\n",
        "  cumulative_time = 0\n",
        "  #window part after the index\n",
        "  for j in range(index, len(sample_rpeaks_s), +1):\n",
        "     cumulative_time = cumulative_time + abs(sample_rpeaks_s[j] - sample_rpeaks_s[index])\n",
        "     if(cumulative_time >= window_size_in_minutes * 60 / 2 and last_index == math.inf): #stop the extension of the window\n",
        "      last_index = j\n",
        "\n",
        "  return rr_intervals[first_index:last_index], drr_intervals[first_index:last_index]"
      ],
      "metadata": {
        "id": "fradd0KipVU6"
      },
      "execution_count": null,
      "outputs": []
    },
    {
      "cell_type": "code",
      "source": [
        "#Utility function\n",
        "def pow_list(list_of_items):\n",
        "  return [item ** 2 for item in list_of_items]"
      ],
      "metadata": {
        "id": "CD3Rlqve9Jc1"
      },
      "execution_count": null,
      "outputs": []
    },
    {
      "cell_type": "code",
      "source": [
        "# extract a sample ecg \n",
        "ecg_sample = np.asarray(ecgs[0]['ecg'], dtype=np.float64) \n",
        "sampling = ecg_freq(filenames[0]) \n",
        "ecg_sample_= np.arange(0, ecg_sample.shape[0]/sampling, 1/sampling)\n",
        " \n",
        "#Extract peaks from traning set and their labels \n",
        "sample_rpeaks = rpks[0]['rpeaks'] \n",
        "rpeaks = {'ECG_R_Peaks': sample_rpeaks.flatten(), 'sampling_rate': sampling} \n",
        " \n",
        "ecg_signal = nk.ecg_clean(ecg_sample[:,0], sampling_rate=sampling, method='neurokit2') \n",
        " \n",
        "plt.plot(ecg_sample_, ecg_signal)\n",
        "\n",
        "#Calculation of RR intervals\n",
        "#conversion in seconds of R peaks\n",
        "sample_rpeaks_s = [sample / sampling for sample in sample_rpeaks.flatten()]\n",
        "rr_intervals = []\n",
        "\n",
        "for i in range(len(sample_rpeaks_s) - 1):\n",
        "  rr_intervals.append(sample_rpeaks_s[i+1] - sample_rpeaks_s[i])\n",
        "#adding nan value for last peak\n",
        "rr_intervals.append(math.nan)\n",
        "\n",
        "#calculating dRR\n",
        "drr_intervals = []\n",
        "\n",
        "for i in range(len(rr_intervals)):\n",
        "  if(i == 0 or i == len(rr_intervals) -1): #we need to skip first iteration and last iteration since we do not have the values\n",
        "    drr_intervals.append(math.nan)\n",
        "  else:  \n",
        "    drr_intervals.append(rr_intervals[i+1] - rr_intervals[i-1])\n",
        "\n",
        "#Extraction of a window of n minutes (n/2 minutes before and n/2 minutes after) centered on current RR\n",
        "print(\"length of the current sample is\",len(ecg_signal)/sampling/60, \"minutes\")\n",
        "#Boundaries of the windows namely first index and last index are\n",
        "first_peak_of_window_2_min = -1\n",
        "last_peak_of_window_2_min = math.inf\n",
        "\n",
        "first_peak_of_window_5_min = -1\n",
        "last_peak_of_window_5_min = math.inf\n",
        "\n",
        "for i in range(len(sample_rpeaks_s)):\n",
        "  if(sample_rpeaks_s[i] >= 1.0*60 and first_peak_of_window_2_min == -1):\n",
        "    first_peak_of_window_2_min = i\n",
        "\n",
        "for i in range(len(sample_rpeaks_s)):\n",
        "  if(sample_rpeaks_s[i] >= 2.5*60 and first_peak_of_window_5_min == -1):\n",
        "    first_peak_of_window_5_min = i\n",
        "\n",
        "#starting from the last index in order to get the last index that satisfy the condition\n",
        "for i in range(len(sample_rpeaks_s) - 1, 0, -1):\n",
        "  if(sample_rpeaks_s[i] < 29.0 * 60  and last_peak_of_window_2_min == math.inf):\n",
        "    last_peak_of_window_2_min = i \n",
        "\n",
        "for i in range(len(sample_rpeaks_s) - 1, 0, -1):\n",
        "  if(sample_rpeaks_s[i] < 27.5 * 60  and last_peak_of_window_5_min == math.inf):\n",
        "    last_peak_of_window_5_min = i \n",
        "\n",
        "print(\"first peak 2 min at\", first_peak_of_window_2_min)\n",
        "print(\"last peak 2 miin at\", last_peak_of_window_2_min)\n",
        "\n",
        "#fill the first and the last position of the values related to windows measures with nan\n",
        "rr_mean_2_min = []\n",
        "rr_std_2_min = []\n",
        "rr_mean_5_min = []\n",
        "rr_std_5_min = []\n",
        "rmssd_2_min = []\n",
        "rmssd_5_min = []\n",
        "\n",
        "drr_mean_2_min = []\n",
        "drr_std_2_min = []\n",
        "drr_mean_5_min = []\n",
        "drr_std_5_min = []\n",
        "#TODO: rmssd\n",
        "for i in range(len(sample_rpeaks_s)):\n",
        "  if(i <= first_peak_of_window_2_min or i >= last_peak_of_window_2_min):\n",
        "    rr_mean_2_min.append(math.nan)\n",
        "    rr_std_2_min.append(math.nan)\n",
        "    drr_mean_2_min.append(math.nan)\n",
        "    drr_std_2_min.append(math.nan)\n",
        "    rmssd_2_min.append(math.nan)\n",
        "  else:\n",
        "    rr_in_window, drr_in_window = get_RRs_in_window(rr_intervals, drr_intervals, sample_rpeaks_s, i)\n",
        "    rr_mean_2_min.append(np.nanmean(rr_in_window))\n",
        "    rr_std_2_min.append(np.nanstd(rr_in_window))\n",
        "    drr_mean_2_min.append(np.nanmean(drr_in_window))\n",
        "    drr_std_2_min.append(np.nanstd(drr_in_window))\n",
        "    rmssd_2_min.append(math.sqrt(np.sum(pow_list(rr_in_window))/len(rr_in_window)))\n",
        "\n",
        "\n",
        "for i in range(len(sample_rpeaks_s)):\n",
        "  if(i <= first_peak_of_window_5_min or i >= last_peak_of_window_5_min):\n",
        "    rr_mean_5_min.append(math.nan)\n",
        "    rr_std_5_min.append(math.nan)\n",
        "    drr_mean_5_min.append(math.nan)\n",
        "    drr_std_5_min.append(math.nan)\n",
        "    rmssd_5_min.append(math.nan)\n",
        "  else:\n",
        "    rr_in_window, drr_in_window = get_RRs_in_window(rr_intervals, drr_intervals, sample_rpeaks_s, i, window_size_in_minutes=5)\n",
        "    rr_mean_5_min.append(np.nanmean(rr_in_window))\n",
        "    rr_std_5_min.append(np.nanstd(rr_in_window))\n",
        "    drr_mean_5_min.append(np.nanmean(drr_in_window))\n",
        "    drr_std_5_min.append(np.nanstd(drr_in_window))\n",
        "    rmssd_5_min.append(math.sqrt(np.sum(pow_list(rr_in_window))/len(rr_in_window)))"
      ],
      "metadata": {
        "colab": {
          "base_uri": "https://localhost:8080/",
          "height": 320
        },
        "id": "AlZLmIvfYQzH",
        "outputId": "0a964806-6b7c-4a73-dccb-6e139917fad0"
      },
      "execution_count": null,
      "outputs": [
        {
          "output_type": "stream",
          "name": "stdout",
          "text": [
            "length of the current sample is 30.0 minutes\n",
            "first peak 2 min at 66\n",
            "last peak 2 miin at 1837\n"
          ]
        },
        {
          "output_type": "display_data",
          "data": {
            "image/png": "[encoded data removed]",
            "text/plain": [
              "<Figure size 432x288 with 1 Axes>"
            ]
          },
          "metadata": {
            "needs_background": "light"
          }
        }
      ]
    },
    {
      "cell_type": "code",
      "source": [
        "hpv_features = dict( rr_intervals = rr_intervals, drr_intervals = drr_intervals, rr_mean_2_min_window = rr_mean_2_min,\n",
        "                    rr_std_2_min_window = rr_std_2_min, drr_mean_2_min_window = drr_mean_2_min, drr_std_2_min_window = drr_std_2_min, rmssd_2_min = rmssd_2_min,\n",
        "                    rr_std_5_min_window = rr_std_5_min, drr_mean_5_min_window = drr_mean_5_min, drr_std_5_min_window = drr_std_5_min, rmssd_5_min = rmssd_5_min)\n",
        "hpv_features = pd.DataFrame(dict([ (k,pd.Series(v)) for k,v in hpv_features.items() ]))\n",
        "hpv_features.describe()"
      ],
      "metadata": {
        "colab": {
          "base_uri": "https://localhost:8080/",
          "height": 320
        },
        "id": "-bPSjDJ6l0qs",
        "outputId": "994ef4c3-1791-410a-cdc4-1477da4321f8"
      },
      "execution_count": null,
      "outputs": [
        {
          "output_type": "execute_result",
          "data": {
            "text/html": [
              "<div>\n",
              "<style scoped>\n",
              "    .dataframe tbody tr th:only-of-type {\n",
              "        vertical-align: middle;\n",
              "    }\n",
              "\n",
              "    .dataframe tbody tr th {\n",
              "        vertical-align: top;\n",
              "    }\n",
              "\n",
              "    .dataframe thead th {\n",
              "        text-align: right;\n",
              "    }\n",
              "</style>\n",
              "<table border=\"1\" class=\"dataframe\">\n",
              "  <thead>\n",
              "    <tr style=\"text-align: right;\">\n",
              "      <th></th>\n",
              "      <th>rr_intervals</th>\n",
              "      <th>drr_intervals</th>\n",
              "      <th>rr_mean_2_min_window</th>\n",
              "      <th>rr_std_2_min_window</th>\n",
              "      <th>drr_mean_2_min_window</th>\n",
              "      <th>drr_std_2_min_window</th>\n",
              "      <th>rmssd_2_min</th>\n",
              "      <th>rr_std_5_min_window</th>\n",
              "      <th>drr_mean_5_min_window</th>\n",
              "      <th>drr_std_5_min_window</th>\n",
              "      <th>rmssd_5_min</th>\n",
              "    </tr>\n",
              "  </thead>\n",
              "  <tbody>\n",
              "    <tr>\n",
              "      <th>count</th>\n",
              "      <td>1902.000000</td>\n",
              "      <td>1900.000000</td>\n",
              "      <td>1770.000000</td>\n",
              "      <td>1770.000000</td>\n",
              "      <td>1770.000000</td>\n",
              "      <td>1770.000000</td>\n",
              "      <td>1770.000000</td>\n",
              "      <td>1580.000000</td>\n",
              "      <td>1580.000000</td>\n",
              "      <td>1580.000000</td>\n",
              "      <td>1580.000000</td>\n",
              "    </tr>\n",
              "    <tr>\n",
              "      <th>mean</th>\n",
              "      <td>0.945781</td>\n",
              "      <td>0.000037</td>\n",
              "      <td>0.948012</td>\n",
              "      <td>0.085394</td>\n",
              "      <td>-0.000070</td>\n",
              "      <td>0.106992</td>\n",
              "      <td>0.953952</td>\n",
              "      <td>0.093839</td>\n",
              "      <td>-0.000051</td>\n",
              "      <td>0.114940</td>\n",
              "      <td>0.955164</td>\n",
              "    </tr>\n",
              "    <tr>\n",
              "      <th>std</th>\n",
              "      <td>0.117050</td>\n",
              "      <td>0.138345</td>\n",
              "      <td>0.051809</td>\n",
              "      <td>0.062026</td>\n",
              "      <td>0.008989</td>\n",
              "      <td>0.085491</td>\n",
              "      <td>0.050221</td>\n",
              "      <td>0.053600</td>\n",
              "      <td>0.006207</td>\n",
              "      <td>0.073379</td>\n",
              "      <td>0.048261</td>\n",
              "    </tr>\n",
              "    <tr>\n",
              "      <th>min</th>\n",
              "      <td>0.367188</td>\n",
              "      <td>-0.757812</td>\n",
              "      <td>0.778438</td>\n",
              "      <td>0.006738</td>\n",
              "      <td>-0.051291</td>\n",
              "      <td>0.005726</td>\n",
              "      <td>0.779315</td>\n",
              "      <td>0.010112</td>\n",
              "      <td>-0.034722</td>\n",
              "      <td>0.011021</td>\n",
              "      <td>0.792554</td>\n",
              "    </tr>\n",
              "    <tr>\n",
              "      <th>25%</th>\n",
              "      <td>0.914062</td>\n",
              "      <td>-0.015625</td>\n",
              "      <td>0.927028</td>\n",
              "      <td>0.028133</td>\n",
              "      <td>-0.004261</td>\n",
              "      <td>0.025570</td>\n",
              "      <td>0.933236</td>\n",
              "      <td>0.040023</td>\n",
              "      <td>-0.002821</td>\n",
              "      <td>0.033838</td>\n",
              "      <td>0.934428</td>\n",
              "    </tr>\n",
              "    <tr>\n",
              "      <th>50%</th>\n",
              "      <td>0.953125</td>\n",
              "      <td>0.000000</td>\n",
              "      <td>0.954190</td>\n",
              "      <td>0.067415</td>\n",
              "      <td>0.000000</td>\n",
              "      <td>0.087860</td>\n",
              "      <td>0.957829</td>\n",
              "      <td>0.099879</td>\n",
              "      <td>-0.000217</td>\n",
              "      <td>0.133730</td>\n",
              "      <td>0.963844</td>\n",
              "    </tr>\n",
              "    <tr>\n",
              "      <th>75%</th>\n",
              "      <td>0.992188</td>\n",
              "      <td>0.023438</td>\n",
              "      <td>0.983665</td>\n",
              "      <td>0.129429</td>\n",
              "      <td>0.003906</td>\n",
              "      <td>0.181723</td>\n",
              "      <td>0.986622</td>\n",
              "      <td>0.120031</td>\n",
              "      <td>0.003094</td>\n",
              "      <td>0.160234</td>\n",
              "      <td>0.987050</td>\n",
              "    </tr>\n",
              "    <tr>\n",
              "      <th>max</th>\n",
              "      <td>1.390625</td>\n",
              "      <td>0.585938</td>\n",
              "      <td>1.075149</td>\n",
              "      <td>0.262672</td>\n",
              "      <td>0.046520</td>\n",
              "      <td>0.309328</td>\n",
              "      <td>1.080862</td>\n",
              "      <td>0.235146</td>\n",
              "      <td>0.031250</td>\n",
              "      <td>0.307265</td>\n",
              "      <td>1.066314</td>\n",
              "    </tr>\n",
              "  </tbody>\n",
              "</table>\n",
              "</div>"
            ],
            "text/plain": [
              "       rr_intervals  drr_intervals  ...  drr_std_5_min_window  rmssd_5_min\n",
              "count   1902.000000    1900.000000  ...           1580.000000  1580.000000\n",
              "mean       0.945781       0.000037  ...              0.114940     0.955164\n",
              "std        0.117050       0.138345  ...              0.073379     0.048261\n",
              "min        0.367188      -0.757812  ...              0.011021     0.792554\n",
              "25%        0.914062      -0.015625  ...              0.033838     0.934428\n",
              "50%        0.953125       0.000000  ...              0.133730     0.963844\n",
              "75%        0.992188       0.023438  ...              0.160234     0.987050\n",
              "max        1.390625       0.585938  ...              0.307265     1.066314\n",
              "\n",
              "[8 rows x 11 columns]"
            ]
          },
          "metadata": {},
          "execution_count": 168
        }
      ]
    },
    {
      "cell_type": "code",
      "source": [
        "hpv_features.head(500)"
      ],
      "metadata": {
        "colab": {
          "base_uri": "https://localhost:8080/",
          "height": 444
        },
        "id": "Q9JBWqfr-kaj",
        "outputId": "3787249e-c356-4412-b016-f897c250ce56"
      },
      "execution_count": null,
      "outputs": [
        {
          "output_type": "execute_result",
          "data": {
            "text/html": [
              "<div>\n",
              "<style scoped>\n",
              "    .dataframe tbody tr th:only-of-type {\n",
              "        vertical-align: middle;\n",
              "    }\n",
              "\n",
              "    .dataframe tbody tr th {\n",
              "        vertical-align: top;\n",
              "    }\n",
              "\n",
              "    .dataframe thead th {\n",
              "        text-align: right;\n",
              "    }\n",
              "</style>\n",
              "<table border=\"1\" class=\"dataframe\">\n",
              "  <thead>\n",
              "    <tr style=\"text-align: right;\">\n",
              "      <th></th>\n",
              "      <th>rr_intervals</th>\n",
              "      <th>drr_intervals</th>\n",
              "      <th>rr_mean_2_min_window</th>\n",
              "      <th>rr_std_2_min_window</th>\n",
              "      <th>drr_mean_2_min_window</th>\n",
              "      <th>drr_std_2_min_window</th>\n",
              "      <th>rmssd_2_min</th>\n",
              "      <th>rr_std_5_min_window</th>\n",
              "      <th>drr_mean_5_min_window</th>\n",
              "      <th>drr_std_5_min_window</th>\n",
              "      <th>rmssd_5_min</th>\n",
              "    </tr>\n",
              "  </thead>\n",
              "  <tbody>\n",
              "    <tr>\n",
              "      <th>0</th>\n",
              "      <td>0.937500</td>\n",
              "      <td>NaN</td>\n",
              "      <td>NaN</td>\n",
              "      <td>NaN</td>\n",
              "      <td>NaN</td>\n",
              "      <td>NaN</td>\n",
              "      <td>NaN</td>\n",
              "      <td>NaN</td>\n",
              "      <td>NaN</td>\n",
              "      <td>NaN</td>\n",
              "      <td>NaN</td>\n",
              "    </tr>\n",
              "    <tr>\n",
              "      <th>1</th>\n",
              "      <td>0.898438</td>\n",
              "      <td>-0.039062</td>\n",
              "      <td>NaN</td>\n",
              "      <td>NaN</td>\n",
              "      <td>NaN</td>\n",
              "      <td>NaN</td>\n",
              "      <td>NaN</td>\n",
              "      <td>NaN</td>\n",
              "      <td>NaN</td>\n",
              "      <td>NaN</td>\n",
              "      <td>NaN</td>\n",
              "    </tr>\n",
              "    <tr>\n",
              "      <th>2</th>\n",
              "      <td>0.898438</td>\n",
              "      <td>0.000000</td>\n",
              "      <td>NaN</td>\n",
              "      <td>NaN</td>\n",
              "      <td>NaN</td>\n",
              "      <td>NaN</td>\n",
              "      <td>NaN</td>\n",
              "      <td>NaN</td>\n",
              "      <td>NaN</td>\n",
              "      <td>NaN</td>\n",
              "      <td>NaN</td>\n",
              "    </tr>\n",
              "    <tr>\n",
              "      <th>3</th>\n",
              "      <td>0.898438</td>\n",
              "      <td>0.000000</td>\n",
              "      <td>NaN</td>\n",
              "      <td>NaN</td>\n",
              "      <td>NaN</td>\n",
              "      <td>NaN</td>\n",
              "      <td>NaN</td>\n",
              "      <td>NaN</td>\n",
              "      <td>NaN</td>\n",
              "      <td>NaN</td>\n",
              "      <td>NaN</td>\n",
              "    </tr>\n",
              "    <tr>\n",
              "      <th>4</th>\n",
              "      <td>0.898438</td>\n",
              "      <td>0.000000</td>\n",
              "      <td>NaN</td>\n",
              "      <td>NaN</td>\n",
              "      <td>NaN</td>\n",
              "      <td>NaN</td>\n",
              "      <td>NaN</td>\n",
              "      <td>NaN</td>\n",
              "      <td>NaN</td>\n",
              "      <td>NaN</td>\n",
              "      <td>NaN</td>\n",
              "    </tr>\n",
              "    <tr>\n",
              "      <th>...</th>\n",
              "      <td>...</td>\n",
              "      <td>...</td>\n",
              "      <td>...</td>\n",
              "      <td>...</td>\n",
              "      <td>...</td>\n",
              "      <td>...</td>\n",
              "      <td>...</td>\n",
              "      <td>...</td>\n",
              "      <td>...</td>\n",
              "      <td>...</td>\n",
              "      <td>...</td>\n",
              "    </tr>\n",
              "    <tr>\n",
              "      <th>495</th>\n",
              "      <td>0.976562</td>\n",
              "      <td>0.015625</td>\n",
              "      <td>0.960582</td>\n",
              "      <td>0.138908</td>\n",
              "      <td>-0.007812</td>\n",
              "      <td>0.196304</td>\n",
              "      <td>0.970574</td>\n",
              "      <td>0.110030</td>\n",
              "      <td>-0.010851</td>\n",
              "      <td>0.167987</td>\n",
              "      <td>0.966570</td>\n",
              "    </tr>\n",
              "    <tr>\n",
              "      <th>496</th>\n",
              "      <td>0.984375</td>\n",
              "      <td>-0.007812</td>\n",
              "      <td>0.956321</td>\n",
              "      <td>0.137869</td>\n",
              "      <td>-0.007812</td>\n",
              "      <td>0.196304</td>\n",
              "      <td>0.966208</td>\n",
              "      <td>0.110030</td>\n",
              "      <td>0.000651</td>\n",
              "      <td>0.154706</td>\n",
              "      <td>0.966570</td>\n",
              "    </tr>\n",
              "    <tr>\n",
              "      <th>497</th>\n",
              "      <td>0.968750</td>\n",
              "      <td>-0.039062</td>\n",
              "      <td>0.952770</td>\n",
              "      <td>0.136693</td>\n",
              "      <td>0.018111</td>\n",
              "      <td>0.154561</td>\n",
              "      <td>0.962526</td>\n",
              "      <td>0.109962</td>\n",
              "      <td>0.001085</td>\n",
              "      <td>0.154659</td>\n",
              "      <td>0.967209</td>\n",
              "    </tr>\n",
              "    <tr>\n",
              "      <th>498</th>\n",
              "      <td>0.945312</td>\n",
              "      <td>-0.046875</td>\n",
              "      <td>0.974432</td>\n",
              "      <td>0.088926</td>\n",
              "      <td>0.002131</td>\n",
              "      <td>0.138181</td>\n",
              "      <td>0.978481</td>\n",
              "      <td>0.109900</td>\n",
              "      <td>0.000651</td>\n",
              "      <td>0.154640</td>\n",
              "      <td>0.967633</td>\n",
              "    </tr>\n",
              "    <tr>\n",
              "      <th>499</th>\n",
              "      <td>0.921875</td>\n",
              "      <td>-0.023438</td>\n",
              "      <td>0.954901</td>\n",
              "      <td>0.016477</td>\n",
              "      <td>-0.020241</td>\n",
              "      <td>0.087621</td>\n",
              "      <td>0.955043</td>\n",
              "      <td>0.109891</td>\n",
              "      <td>-0.000217</td>\n",
              "      <td>0.154553</td>\n",
              "      <td>0.967847</td>\n",
              "    </tr>\n",
              "  </tbody>\n",
              "</table>\n",
              "<p>500 rows × 11 columns</p>\n",
              "</div>"
            ],
            "text/plain": [
              "     rr_intervals  drr_intervals  ...  drr_std_5_min_window  rmssd_5_min\n",
              "0        0.937500            NaN  ...                   NaN          NaN\n",
              "1        0.898438      -0.039062  ...                   NaN          NaN\n",
              "2        0.898438       0.000000  ...                   NaN          NaN\n",
              "3        0.898438       0.000000  ...                   NaN          NaN\n",
              "4        0.898438       0.000000  ...                   NaN          NaN\n",
              "..            ...            ...  ...                   ...          ...\n",
              "495      0.976562       0.015625  ...              0.167987     0.966570\n",
              "496      0.984375      -0.007812  ...              0.154706     0.966570\n",
              "497      0.968750      -0.039062  ...              0.154659     0.967209\n",
              "498      0.945312      -0.046875  ...              0.154640     0.967633\n",
              "499      0.921875      -0.023438  ...              0.154553     0.967847\n",
              "\n",
              "[500 rows x 11 columns]"
            ]
          },
          "metadata": {},
          "execution_count": 169
        }
      ]
    },
    {
      "cell_type": "markdown",
      "source": [
        "### Extraction of the HPV features on the whole Dataset"
      ],
      "metadata": {
        "id": "BAMfvJYiuuE0"
      }
    },
    {
      "cell_type": "code",
      "source": [
        "# list of list that contains all hpv features divided by patient\n",
        "patient_hpv = []\n",
        "\n",
        "for i in tqdm(range(len(ecgs))):\n",
        "  # extract a sample ecg\n",
        "  sampling = ecg_freq(filenames[i])\n",
        "  #Extract peaks from traning set and their labels\n",
        "  sample_rpeaks = rpks[i]['rpeaks']\n",
        "  #Calculation of RR intervals\n",
        "  #conversion in seconds of R peaks\n",
        "  sample_rpeaks_s = [sample / sampling for sample in sample_rpeaks.flatten()]\n",
        "  rr_intervals = []\n",
        "\n",
        "  for i in range(len(sample_rpeaks_s) - 1):\n",
        "    rr_intervals.append(sample_rpeaks_s[i+1] - sample_rpeaks_s[i])\n",
        "  #adding nan value for last peak\n",
        "  rr_intervals.append(math.nan)\n",
        "\n",
        "  #calculating dRR\n",
        "  drr_intervals = []\n",
        "\n",
        "  for i in range(len(rr_intervals)):\n",
        "    if(i == 0 or i == len(rr_intervals) -1): #we need to skip first iteration and last iteration since we do not have the values\n",
        "      drr_intervals.append(math.nan)\n",
        "    else:  \n",
        "      drr_intervals.append(rr_intervals[i+1] - rr_intervals[i-1])\n",
        "\n",
        "  #Extraction of a window of n minutes (n/2 minutes before and n/2 minutes after) centered on current RR\n",
        "  #Boundaries of the windows namely first index and last index are\n",
        "  first_peak_of_window_2_min = -1\n",
        "  last_peak_of_window_2_min = math.inf\n",
        "\n",
        "  first_peak_of_window_5_min = -1\n",
        "  last_peak_of_window_5_min = math.inf\n",
        "\n",
        "  for i in range(len(sample_rpeaks_s)):\n",
        "    if(sample_rpeaks_s[i] >= 1.0*60 and first_peak_of_window_2_min == -1):\n",
        "      first_peak_of_window_2_min = i\n",
        "\n",
        "  for i in range(len(sample_rpeaks_s)):\n",
        "    if(sample_rpeaks_s[i] >= 2.5*60 and first_peak_of_window_5_min == -1):\n",
        "      first_peak_of_window_5_min = i\n",
        "\n",
        "  #starting from the last index in order to get the last index that satisfy the condition\n",
        "  for i in range(len(sample_rpeaks_s) - 1, 0, -1):\n",
        "    if(sample_rpeaks_s[i] < 29.0 * 60  and last_peak_of_window_2_min == math.inf):\n",
        "      last_peak_of_window_2_min = i \n",
        "\n",
        "  for i in range(len(sample_rpeaks_s) - 1, 0, -1):\n",
        "    if(sample_rpeaks_s[i] < 27.5 * 60  and last_peak_of_window_5_min == math.inf):\n",
        "      last_peak_of_window_5_min = i \n",
        "\n",
        "  #fill the first and the last position of the values related to windows measures with nan\n",
        "  rr_mean_2_min = []\n",
        "  rr_std_2_min = []\n",
        "  rr_mean_5_min = []\n",
        "  rr_std_5_min = []\n",
        "  rmssd_2_min = []\n",
        "  rmssd_5_min = []\n",
        "\n",
        "  drr_mean_2_min = []\n",
        "  drr_std_2_min = []\n",
        "  drr_mean_5_min = []\n",
        "  drr_std_5_min = []\n",
        "  #TODO: rmssd\n",
        "  for i in range(len(sample_rpeaks_s)):\n",
        "    if(i <= first_peak_of_window_2_min or i >= last_peak_of_window_2_min): #filling with nan the values that are not available\n",
        "      rr_mean_2_min.append(math.nan)\n",
        "      rr_std_2_min.append(math.nan)\n",
        "      drr_mean_2_min.append(math.nan)\n",
        "      drr_std_2_min.append(math.nan)\n",
        "      rmssd_2_min.append(math.nan)\n",
        "    else:\n",
        "      rr_in_window, drr_in_window = get_RRs_in_window(rr_intervals, drr_intervals, sample_rpeaks_s, i)\n",
        "      rr_mean_2_min.append(np.nanmean(rr_in_window))\n",
        "      rr_std_2_min.append(np.nanstd(rr_in_window))\n",
        "      drr_mean_2_min.append(np.nanmean(drr_in_window))\n",
        "      drr_std_2_min.append(np.nanstd(drr_in_window))\n",
        "      rmssd_2_min.append(math.sqrt(np.sum(pow_list(rr_in_window))/len(rr_in_window)))\n",
        "\n",
        "  for i in range(len(sample_rpeaks_s)):\n",
        "    if(i <= first_peak_of_window_5_min or i >= last_peak_of_window_5_min): #filling with nan the values that are not available\n",
        "      rr_mean_5_min.append(math.nan)\n",
        "      rr_std_5_min.append(math.nan)\n",
        "      drr_mean_5_min.append(math.nan)\n",
        "      drr_std_5_min.append(math.nan)\n",
        "      rmssd_5_min.append(math.nan)\n",
        "    else:\n",
        "      rr_in_window, drr_in_window = get_RRs_in_window(rr_intervals, drr_intervals, sample_rpeaks_s, i, window_size_in_minutes=5)\n",
        "      rr_mean_5_min.append(np.nanmean(rr_in_window))\n",
        "      rr_std_5_min.append(np.nanstd(rr_in_window))\n",
        "      drr_mean_5_min.append(np.nanmean(drr_in_window))\n",
        "      drr_std_5_min.append(np.nanstd(drr_in_window))\n",
        "      rmssd_5_min.append(math.sqrt(np.sum(pow_list(rr_in_window))/len(rr_in_window)))\n",
        "\n",
        "  hpv_features = dict( rr_intervals = rr_intervals, drr_intervals = drr_intervals, rr_mean_2_min_window = rr_mean_2_min,\n",
        "                    rr_std_2_min_window = rr_std_2_min, drr_mean_2_min_window = drr_mean_2_min, drr_std_2_min_window = drr_std_2_min, rmssd_2_min = rmssd_2_min,\n",
        "                    rr_std_5_min_window = rr_std_5_min, drr_mean_5_min_window = drr_mean_5_min, drr_std_5_min_window = drr_std_5_min, rmssd_5_min = rmssd_5_min)\n",
        "  #add the dictionary of the features extracted to the list of the patient\n",
        "  patient_hpv.append(hpv_features)\n",
        " "
      ],
      "metadata": {
        "id": "1gSH3dwpuzXc"
      },
      "execution_count": null,
      "outputs": []
    },
    {
      "cell_type": "markdown",
      "source": [
        "# Intra patient Beat Cross-correlation"
      ],
      "metadata": {
        "id": "QDxvjrqQeeD4"
      }
    },
    {
      "cell_type": "markdown",
      "source": [
        "Here we try to extract features regarding the cross-correlation between beats. In the following we consider for now only whole beat template, we then could try to use also QRS template and others..."
      ],
      "metadata": {
        "id": "MxPCHRVafTh3"
      }
    },
    {
      "cell_type": "code",
      "source": [
        "# Extract the patient heratbeats\n",
        "patient = patient_heartbeats[0]\n",
        "\n",
        "beat_one = patient['2']\n",
        "beat_two = patient['3']\n",
        "\n",
        "# extract same portion in the ecg signal\n",
        "ecg_sample = np.asarray(ecgs[0]['ecg'], dtype=np.float64) \n",
        "sampling = ecg_freq(filenames[0]) \n",
        "ecg_sample_= np.arange(0, ecg_sample.shape[0]/sampling, 1/sampling)\n",
        "# obtain indexes of the single heartbeat in the ecg\n",
        "indexes = beat_one['Index'].values\n",
        "#indexes = [x for i, x in enumerate(indexes) if x >= 0]\n",
        "start_index = indexes[0]\n",
        "end_index = indexes[len(indexes)-1]\n",
        "print(start_index)\n",
        "print(end_index)\n",
        "\n",
        "ecg_signal_1 = nk.ecg_clean(ecg_sample[start_index:end_index,0], sampling_rate=sampling, method='neurokit2') \n",
        "\n",
        "# extract same portion in the ecg signal\n",
        "ecg_sample = np.asarray(ecgs[0]['ecg'], dtype=np.float64) \n",
        "sampling = ecg_freq(filenames[0]) \n",
        "ecg_sample_= np.arange(0, ecg_sample.shape[0]/sampling, 1/sampling)\n",
        "# obtain indexes of the single heartbeat in the ecg\n",
        "indexes = beat_two['Index'].values\n",
        "#indexes = [x for i, x in enumerate(indexes) if x >= 0]\n",
        "start_index = indexes[0]\n",
        "end_index = indexes[len(indexes)-1]\n",
        "print(start_index)\n",
        "print(end_index)\n",
        "\n",
        "# extract the beat signal\n",
        "ecg_signal_2 = nk.ecg_clean(ecg_sample[start_index:end_index,0], sampling_rate=sampling, method='neurokit2') \n",
        "#ecg_signal_2 = nk.ecg_clean(ecg_sample[start_index:end_index,1], sampling_rate=sampling, method='neurokit2') \n",
        "\n",
        "ecg_signal_merged = ecg_signal_1 + ecg_signal_2\n",
        "ecg_signal_merged = ecg_signal_merged/2\n",
        "\n",
        "plt.plot(ecg_signal_1)\n",
        "plt.plot(ecg_signal_2)\n",
        "plt.plot(ecg_signal_merged)\n",
        "plt.title(\"lead-1 ECG of single heartbeat\")\n",
        "\n",
        "# Plot beat samples to see if it effectively represent a beat\n",
        "plt.figure()\n",
        "plt.title(\"Beat values\")\n",
        "plt.scatter(beat_one['Signal'].index, beat_one['Signal'].values)\n",
        "\n",
        "# Plot beat samples of an other beat\n",
        "plt.scatter(beat_two['Signal'].index, beat_two['Signal'].values)\n",
        "\n",
        "# Take the average of the values of the 2 arrays and plot it\n",
        "a = beat_one['Signal'].values\n",
        "b = beat_two['Signal'].values\n",
        "c = np.add(a, b)\n",
        "c = c/2\n",
        "\n",
        "plt.scatter(beat_two['Signal'].index, c)\n",
        "\n",
        "#create the new beat as a pandas dataframe\n",
        "\n",
        "# create the new Signal series\n",
        "index = beat_one['Signal'].index\n",
        "s = pd.Series(c, index=index)"
      ],
      "metadata": {
        "colab": {
          "base_uri": "https://localhost:8080/",
          "height": 614
        },
        "id": "s4tmKC5J3MtX",
        "outputId": "ff587d35-6eea-4d47-a67e-26bf74dbddc6"
      },
      "execution_count": 53,
      "outputs": [
        {
          "output_type": "stream",
          "name": "stdout",
          "text": [
            "114\n",
            "216\n",
            "228\n",
            "330\n"
          ]
        },
        {
          "output_type": "display_data",
          "data": {
            "image/png": "[encoded data removed]",
            "text/plain": [
              "<Figure size 432x288 with 1 Axes>"
            ]
          },
          "metadata": {
            "needs_background": "light"
          }
        },
        {
          "output_type": "display_data",
          "data": {
            "image/png": "[encoded data removed]",
            "text/plain": [
              "<Figure size 432x288 with 1 Axes>"
            ]
          },
          "metadata": {
            "needs_background": "light"
          }
        }
      ]
    },
    {
      "cell_type": "code",
      "source": [
        "# Function to create intra-patient templates given the considered beat\n",
        "# It requires the patient_heartbeats object obtained above\n",
        "# It returns NaN if considered beat cannot have a window of size window (border beats)\n",
        "# It return a template in other cases\n",
        "def create_beat_template(patient_heartbeats, patient_index, beat_index, window):\n",
        "  # extract beat segments from considere patient\n",
        "  patient_beats = patient_heartbeats[patient_index]\n",
        "  # extract the considered beat\n",
        "  beat = patient_beats['{}'.format(beat_index)]\n",
        "\n",
        "  # sanitization: discard beats at border of ecg\n",
        "  if beat_index < window or beat_index > (len(patient_beats)):\n",
        "    return math.nan\n",
        "  #sanitization: if first window beat has negative indexes we stop the process\n",
        "  first_window_beat = patient_beats['{}'.format(beat_index - int(window/2))]\n",
        "  first_window_beat_indexes = first_window_beat['Index'].values\n",
        "  if first_window_beat_indexes[0] < 0:\n",
        "    return math.nan\n",
        "  \n",
        "  # create the template model with size window centered on beat\n",
        "  # extract same portion in the ecg signal\n",
        "  window_beats = []\n",
        "  for i in range(window+1):\n",
        "    if beat_index - int(window/2) + i != beat_index:\n",
        "      tmp_beat = patient_beats['{}'.format(beat_index - int(window/2) + i)]\n",
        "      ecg_sample = np.asarray(ecgs[patient_index]['ecg'], dtype=np.float64) \n",
        "      sampling = ecg_freq(filenames[patient_index]) \n",
        "      ecg_sample_= np.arange(0, ecg_sample.shape[0]/sampling, 1/sampling)\n",
        "      # obtain indexes of the single heartbeat in the ecg\n",
        "      indexes = tmp_beat['Index'].values\n",
        "      #indexes = [x for i, x in enumerate(indexes) if x >= 0]\n",
        "      start_index = indexes[0]\n",
        "      end_index = indexes[len(indexes)-1]\n",
        "      # lead one heartbeat signal\n",
        "      tmp_ecg_signal = nk.ecg_clean(ecg_sample[start_index:end_index,0], sampling_rate=sampling, method='neurokit2') \n",
        "      window_beats.append(tmp_ecg_signal)\n",
        "\n",
        "  # Finally we create the beat template averaging the beats signal of the beats inside the window\n",
        "  template = sum(window_beats)\n",
        "  template = template/len(window_beats)\n",
        "  return template\n",
        "  #for beat in window_beats:\n",
        "    #sum = sum + beat"
      ],
      "metadata": {
        "id": "Fce-Ks-Qel23"
      },
      "execution_count": 66,
      "outputs": []
    },
    {
      "cell_type": "code",
      "source": [
        "template = create_beat_template(patient_heartbeats, patient_index=0, beat_index=50, window=20)\n",
        "\n",
        "#Plot the template\n",
        "plt.plot(template)\n",
        "plt.title(\"lead-1 ECG of single heartbeat\")\n",
        "\n",
        "patient = patient_heartbeats[0]\n",
        "beat_to_match = patient['50']\n",
        "\n",
        "# Plot also the beat to match with its template\n",
        "ecg_sample = np.asarray(ecgs[0]['ecg'], dtype=np.float64) \n",
        "sampling = ecg_freq(filenames[0]) \n",
        "ecg_sample_= np.arange(0, ecg_sample.shape[0]/sampling, 1/sampling)\n",
        "# obtain indexes of the single heartbeat in the ecg\n",
        "indexes = beat_to_match['Index'].values\n",
        "start_index = indexes[0]\n",
        "end_index = indexes[len(indexes)-1]\n",
        "\n",
        "ecg_beat_to_match = nk.ecg_clean(ecg_sample[start_index:end_index,0], sampling_rate=sampling, method='neurokit2') \n",
        "plt.plot(ecg_beat_to_match)"
      ],
      "metadata": {
        "colab": {
          "base_uri": "https://localhost:8080/",
          "height": 298
        },
        "id": "r8Uxip2vxJ6G",
        "outputId": "55dbf966-ac6d-4d67-fc00-bb8307631d23"
      },
      "execution_count": 67,
      "outputs": [
        {
          "output_type": "execute_result",
          "data": {
            "text/plain": [
              "[<matplotlib.lines.Line2D at 0x7f16b7a74850>]"
            ]
          },
          "metadata": {},
          "execution_count": 67
        },
        {
          "output_type": "display_data",
          "data": {
            "image/png": "[encoded data removed]",
            "text/plain": [
              "<Figure size 432x288 with 1 Axes>"
            ]
          },
          "metadata": {
            "needs_background": "light"
          }
        }
      ]
    },
    {
      "cell_type": "code",
      "source": [
        "# Extract cross correlation features using a signal and the corresponding template\n",
        "\n",
        "patient_index = 0\n",
        "beat_index = 50\n",
        "window = 20\n",
        "\n",
        "template = create_beat_template(patient_heartbeats, patient_index=patient_index, beat_index=beat_index, window=window)\n",
        "patient = patient_heartbeats[patient_index]\n",
        "beat_to_match = patient['{}'.format(beat_index)]\n",
        "\n",
        "ecg_sample = np.asarray(ecgs[0]['ecg'], dtype=np.float64) \n",
        "sampling = ecg_freq(filenames[0]) \n",
        "# obtain indexes of the single heartbeat in the ecg\n",
        "indexes = beat_to_match['Index'].values\n",
        "start_index = indexes[0]\n",
        "end_index = indexes[len(indexes)-1]\n",
        "\n",
        "#lead-1 ecg\n",
        "ecg_beat_to_match_l1 = nk.ecg_clean(ecg_sample[start_index:end_index,0], sampling_rate=sampling, method='neurokit2') \n",
        "\n",
        "# Single beat features extraction\n",
        "cross_correlation = np.correlate(ecg_beat_to_match_l1 - np.mean(ecg_beat_to_match_l1), template - np.mean(template), mode='full')\n",
        "max_cross_correlation = np.max(cross_correlation)\n",
        "lag_max_cross_corr = cross_correlation.argmax() - (len(ecg_beat_to_match) - 1)\n",
        "max_cross_correlation, lag_max_cross_corr"
      ],
      "metadata": {
        "colab": {
          "base_uri": "https://localhost:8080/"
        },
        "id": "xEeh4bFbEDkS",
        "outputId": "35fd21a6-eeaa-4254-9fac-d85466b61a45"
      },
      "execution_count": 68,
      "outputs": [
        {
          "output_type": "execute_result",
          "data": {
            "text/plain": [
              "(0.7089615219476142, -2)"
            ]
          },
          "metadata": {},
          "execution_count": 68
        }
      ]
    },
    {
      "cell_type": "code",
      "source": [
        "# let's extract Max_Cross_correlation and relative lag features for every heartbeat and every ecg\n",
        "\n",
        "# lists in which we save the different features extracted for each beat\n",
        "max_corrs_win_4 = []\n",
        "max_corrs_win_20 = []\n",
        "max_corrs_win_80 = []\n",
        "\n",
        "lag_max_corrs_win_4 = []\n",
        "lag_max_corrs_win_20 = []\n",
        "lag_max_corrs_win_80 = []\n",
        "\n",
        "for i in tqdm(range(len(ecgs))):\n",
        "  for beat in range(len(patient_heartbeats[i])-1):\n",
        "    for window in [4, 20, 80]:\n",
        "      beat_template = create_beat_template(patient_heartbeats, patient_index=i, beat_index=beat+1, window=window)\n",
        "      # if template is consistent (not NaN) -> extract features\n",
        "      if type(beat_template) is not float:\n",
        "        patient = patient_heartbeats[i]\n",
        "        beat_to_match = patient['{}'.format(beat+1)]\n",
        "        ecg_sample = np.asarray(ecgs[i]['ecg'], dtype=np.float64) \n",
        "        sampling = ecg_freq(filenames[i]) \n",
        "        # obtain indexes of the single heartbeat in the ecg\n",
        "        indexes = beat_to_match['Index'].values\n",
        "        start_index = indexes[0]\n",
        "        end_index = indexes[len(indexes)-1]\n",
        "\n",
        "        #lead-1 ecg\n",
        "        ecg_beat_to_match_l1 = nk.ecg_clean(ecg_sample[start_index:end_index,0], sampling_rate=sampling, method='neurokit2') \n",
        "\n",
        "        # Single beat features extraction\n",
        "        cross_correlation = np.correlate(ecg_beat_to_match_l1 - np.mean(ecg_beat_to_match_l1), beat_template - np.mean(beat_template), mode='full')\n",
        "        max_cross_correlation = np.max(cross_correlation)\n",
        "        lag_max_cross_corr = cross_correlation.argmax() - (len(ecg_beat_to_match) - 1)\n",
        "\n",
        "        # add features to lists\n",
        "        if window == 4:\n",
        "          max_corrs_win_4.append(max_cross_correlation)\n",
        "          lag_max_corrs_win_4.append(lag_max_cross_corr)\n",
        "        elif window == 20:\n",
        "          max_corrs_win_20.append(max_cross_correlation)\n",
        "          lag_max_corrs_win_20.append(lag_max_cross_corr)\n",
        "        else:\n",
        "          max_corrs_win_80.append(max_cross_correlation)\n",
        "          lag_max_corrs_win_80.append(lag_max_cross_corr)\n",
        "\n",
        "      #handle case in which the template is NaN\n",
        "      else:\n",
        "        if window == 4:\n",
        "          max_corrs_win_4.append(math.nan)\n",
        "          lag_max_corrs_win_4.append(math.nan)\n",
        "        elif window == 20:\n",
        "          max_corrs_win_20.append(math.nan)\n",
        "          lag_max_corrs_win_20.append(math.nan)\n",
        "        else:\n",
        "          max_corrs_win_80.append(math.nan)\n",
        "          lag_max_corrs_win_80.append(math.nan)"
      ],
      "metadata": {
        "colab": {
          "base_uri": "https://localhost:8080/",
          "height": 374
        },
        "id": "3ZJFwmgaX6Hh",
        "outputId": "564395fa-4c64-4a16-dcd5-b205325a18d4"
      },
      "execution_count": 113,
      "outputs": [
        {
          "output_type": "stream",
          "name": "stderr",
          "text": [
            "  0%|          | 0/105 [02:02<?, ?it/s]\n"
          ]
        },
        {
          "output_type": "error",
          "ename": "KeyboardInterrupt",
          "evalue": "ignored",
          "traceback": [
            "\u001b[0;31m---------------------------------------------------------------------------\u001b[0m",
            "\u001b[0;31mKeyboardInterrupt\u001b[0m                         Traceback (most recent call last)",
            "\u001b[0;32m<ipython-input-113-622993b3b249>\u001b[0m in \u001b[0;36m<module>\u001b[0;34m()\u001b[0m\n\u001b[1;32m     11\u001b[0m   \u001b[0;32mfor\u001b[0m \u001b[0mbeat\u001b[0m \u001b[0;32min\u001b[0m \u001b[0mrange\u001b[0m\u001b[0;34m(\u001b[0m\u001b[0mlen\u001b[0m\u001b[0;34m(\u001b[0m\u001b[0mpatient_heartbeats\u001b[0m\u001b[0;34m[\u001b[0m\u001b[0mi\u001b[0m\u001b[0;34m]\u001b[0m\u001b[0;34m)\u001b[0m\u001b[0;34m-\u001b[0m\u001b[0;36m1\u001b[0m\u001b[0;34m)\u001b[0m\u001b[0;34m:\u001b[0m\u001b[0;34m\u001b[0m\u001b[0;34m\u001b[0m\u001b[0m\n\u001b[1;32m     12\u001b[0m     \u001b[0;32mfor\u001b[0m \u001b[0mwindow\u001b[0m \u001b[0;32min\u001b[0m \u001b[0;34m[\u001b[0m\u001b[0;36m4\u001b[0m\u001b[0;34m,\u001b[0m \u001b[0;36m20\u001b[0m\u001b[0;34m,\u001b[0m \u001b[0;36m80\u001b[0m\u001b[0;34m]\u001b[0m\u001b[0;34m:\u001b[0m\u001b[0;34m\u001b[0m\u001b[0;34m\u001b[0m\u001b[0m\n\u001b[0;32m---> 13\u001b[0;31m       \u001b[0mbeat_template\u001b[0m \u001b[0;34m=\u001b[0m \u001b[0mcreate_beat_template\u001b[0m\u001b[0;34m(\u001b[0m\u001b[0mpatient_heartbeats\u001b[0m\u001b[0;34m,\u001b[0m \u001b[0mpatient_index\u001b[0m\u001b[0;34m=\u001b[0m\u001b[0mi\u001b[0m\u001b[0;34m,\u001b[0m \u001b[0mbeat_index\u001b[0m\u001b[0;34m=\u001b[0m\u001b[0mbeat\u001b[0m\u001b[0;34m+\u001b[0m\u001b[0;36m1\u001b[0m\u001b[0;34m,\u001b[0m \u001b[0mwindow\u001b[0m\u001b[0;34m=\u001b[0m\u001b[0mwindow\u001b[0m\u001b[0;34m)\u001b[0m\u001b[0;34m\u001b[0m\u001b[0;34m\u001b[0m\u001b[0m\n\u001b[0m\u001b[1;32m     14\u001b[0m       \u001b[0;32mif\u001b[0m \u001b[0mtype\u001b[0m\u001b[0;34m(\u001b[0m\u001b[0mbeat_template\u001b[0m\u001b[0;34m)\u001b[0m \u001b[0;32mis\u001b[0m \u001b[0;32mnot\u001b[0m \u001b[0mfloat\u001b[0m\u001b[0;34m:\u001b[0m\u001b[0;34m\u001b[0m\u001b[0;34m\u001b[0m\u001b[0m\n\u001b[1;32m     15\u001b[0m         \u001b[0mpatient\u001b[0m \u001b[0;34m=\u001b[0m \u001b[0mpatient_heartbeats\u001b[0m\u001b[0;34m[\u001b[0m\u001b[0mi\u001b[0m\u001b[0;34m]\u001b[0m\u001b[0;34m\u001b[0m\u001b[0;34m\u001b[0m\u001b[0m\n",
            "\u001b[0;32m<ipython-input-66-2968d029ab00>\u001b[0m in \u001b[0;36mcreate_beat_template\u001b[0;34m(patient_heartbeats, patient_index, beat_index, window)\u001b[0m\n\u001b[1;32m     26\u001b[0m       \u001b[0mecg_sample\u001b[0m \u001b[0;34m=\u001b[0m \u001b[0mnp\u001b[0m\u001b[0;34m.\u001b[0m\u001b[0masarray\u001b[0m\u001b[0;34m(\u001b[0m\u001b[0mecgs\u001b[0m\u001b[0;34m[\u001b[0m\u001b[0mpatient_index\u001b[0m\u001b[0;34m]\u001b[0m\u001b[0;34m[\u001b[0m\u001b[0;34m'ecg'\u001b[0m\u001b[0;34m]\u001b[0m\u001b[0;34m,\u001b[0m \u001b[0mdtype\u001b[0m\u001b[0;34m=\u001b[0m\u001b[0mnp\u001b[0m\u001b[0;34m.\u001b[0m\u001b[0mfloat64\u001b[0m\u001b[0;34m)\u001b[0m\u001b[0;34m\u001b[0m\u001b[0;34m\u001b[0m\u001b[0m\n\u001b[1;32m     27\u001b[0m       \u001b[0msampling\u001b[0m \u001b[0;34m=\u001b[0m \u001b[0mecg_freq\u001b[0m\u001b[0;34m(\u001b[0m\u001b[0mfilenames\u001b[0m\u001b[0;34m[\u001b[0m\u001b[0mpatient_index\u001b[0m\u001b[0;34m]\u001b[0m\u001b[0;34m)\u001b[0m\u001b[0;34m\u001b[0m\u001b[0;34m\u001b[0m\u001b[0m\n\u001b[0;32m---> 28\u001b[0;31m       \u001b[0mecg_sample_\u001b[0m\u001b[0;34m=\u001b[0m \u001b[0mnp\u001b[0m\u001b[0;34m.\u001b[0m\u001b[0marange\u001b[0m\u001b[0;34m(\u001b[0m\u001b[0;36m0\u001b[0m\u001b[0;34m,\u001b[0m \u001b[0mecg_sample\u001b[0m\u001b[0;34m.\u001b[0m\u001b[0mshape\u001b[0m\u001b[0;34m[\u001b[0m\u001b[0;36m0\u001b[0m\u001b[0;34m]\u001b[0m\u001b[0;34m/\u001b[0m\u001b[0msampling\u001b[0m\u001b[0;34m,\u001b[0m \u001b[0;36m1\u001b[0m\u001b[0;34m/\u001b[0m\u001b[0msampling\u001b[0m\u001b[0;34m)\u001b[0m\u001b[0;34m\u001b[0m\u001b[0;34m\u001b[0m\u001b[0m\n\u001b[0m\u001b[1;32m     29\u001b[0m       \u001b[0;31m# obtain indexes of the single heartbeat in the ecg\u001b[0m\u001b[0;34m\u001b[0m\u001b[0;34m\u001b[0m\u001b[0;34m\u001b[0m\u001b[0m\n\u001b[1;32m     30\u001b[0m       \u001b[0mindexes\u001b[0m \u001b[0;34m=\u001b[0m \u001b[0mtmp_beat\u001b[0m\u001b[0;34m[\u001b[0m\u001b[0;34m'Index'\u001b[0m\u001b[0;34m]\u001b[0m\u001b[0;34m.\u001b[0m\u001b[0mvalues\u001b[0m\u001b[0;34m\u001b[0m\u001b[0;34m\u001b[0m\u001b[0m\n",
            "\u001b[0;31mKeyboardInterrupt\u001b[0m: "
          ]
        }
      ]
    },
    {
      "cell_type": "code",
      "source": [
        "template_features = dict( max_corrs_win_4=max_corrs_win_4, lag_max_corrs_win_4=lag_max_corrs_win_4, max_corrs_win_20=max_corrs_win_20, lag_max_corrs_win_20=lag_max_corrs_win_20, max_corrs_win_80=max_corrs_win_80, lag_max_corrs_win_80=lag_max_corrs_win_80)\n",
        "template_features = pd.DataFrame(dict([ (k,pd.Series(v)) for k,v in template_features.items() ]))\n",
        "template_features.describe()"
      ],
      "metadata": {
        "id": "-KfbH3mzcb-9"
      },
      "execution_count": null,
      "outputs": []
    },
    {
      "cell_type": "markdown",
      "source": [
        "**We have to expand this process also to lead-2 ecg and segments QRS complex, P wave, PR**"
      ],
      "metadata": {
        "id": "e8Ord_66YvC-"
      }
    }
  ]
}
